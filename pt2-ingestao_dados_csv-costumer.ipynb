{
 "cells": [
  {
   "cell_type": "markdown",
   "metadata": {
    "application/vnd.databricks.v1+cell": {
     "cellMetadata": {},
     "inputWidgets": {},
     "nuid": "4660fec7-3168-418e-a18d-a39832f9e0a1",
     "showTitle": false,
     "tableResultSettingsMap": {},
     "title": ""
    }
   },
   "source": [
    "1- Importar bibliotecas"
   ]
  },
  {
   "cell_type": "code",
   "execution_count": 0,
   "metadata": {
    "application/vnd.databricks.v1+cell": {
     "cellMetadata": {
      "byteLimit": 2048000,
      "rowLimit": 10000
     },
     "inputWidgets": {},
     "nuid": "cd5825f8-ec8a-4a6d-97c4-8c729e88000a",
     "showTitle": false,
     "tableResultSettingsMap": {},
     "title": ""
    }
   },
   "outputs": [],
   "source": [
    "from pyspark.sql import SparkSession\n",
    "from pyspark.sql.functions import *\n",
    "from pyspark.sql.functions import split\n",
    "from pyspark.sql.functions import substring\n",
    "from pyspark.sql.functions import regexp_replace\n",
    "from pyspark.sql.types import * #StructType, StructField, StringType\n",
    "from pyspark.sql.types import IntegerType \n",
    "from pyspark.sql import functions as F\n",
    "from datetime import datetime\n",
    "import pandas as pd\n",
    "from pandas import DataFrame\n",
    "import os"
   ]
  },
  {
   "cell_type": "markdown",
   "metadata": {
    "application/vnd.databricks.v1+cell": {
     "cellMetadata": {},
     "inputWidgets": {},
     "nuid": "c3dceeaa-1010-4d0a-bd0a-2560b90de31d",
     "showTitle": false,
     "tableResultSettingsMap": {},
     "title": ""
    }
   },
   "source": [
    "2- Ler arquivo .csv"
   ]
  },
  {
   "cell_type": "code",
   "execution_count": 0,
   "metadata": {
    "application/vnd.databricks.v1+cell": {
     "cellMetadata": {
      "byteLimit": 2048000,
      "rowLimit": 10000
     },
     "inputWidgets": {},
     "nuid": "86fde7c7-7f04-43c5-ac7f-51359cbd8511",
     "showTitle": false,
     "tableResultSettingsMap": {},
     "title": ""
    }
   },
   "outputs": [
    {
     "output_type": "display_data",
     "data": {
      "text/html": [
       "<style scoped>\n",
       "  .table-result-container {\n",
       "    max-height: 300px;\n",
       "    overflow: auto;\n",
       "  }\n",
       "  table, th, td {\n",
       "    border: 1px solid black;\n",
       "    border-collapse: collapse;\n",
       "  }\n",
       "  th, td {\n",
       "    padding: 5px;\n",
       "  }\n",
       "  th {\n",
       "    text-align: left;\n",
       "  }\n",
       "</style><div class='table-result-container'><table class='table-result'><thead style='background-color: white'><tr><th>_c0</th></tr></thead><tbody><tr><td>Número da Conta;Nome do Cliente;Endereço;Telefone;Email</td></tr><tr><td>1;Fernanda Lima;Rua da Consolação</td></tr><tr><td>2;Juliana Costa;Rua Augusta</td></tr><tr><td>3;Pedro Santos;Rua da Consolação</td></tr><tr><td>4;Fernanda Lima;Rua Augusta</td></tr><tr><td>5;Lucas Fernandes;Rua da Consolação</td></tr><tr><td>6;Carlos Pereira;Rua XV de Novembro</td></tr><tr><td>7;Juliana Costa;Avenida Paulista</td></tr><tr><td>8;Carlos Pereira;Avenida Paulista</td></tr><tr><td>9;Ana Souza;Avenida Atlântica</td></tr><tr><td>10;João Silva;Avenida Brasil</td></tr><tr><td>11;Lucas Fernandes;Rua da Consolação</td></tr><tr><td>12;Carlos Pereira;Rua das Flores</td></tr><tr><td>13;Mariana Rocha;Rua XV de Novembro</td></tr><tr><td>14;João Silva;Avenida Ipiranga</td></tr><tr><td>15;Carlos Pereira;Avenida Brasil</td></tr><tr><td>16;Lucas Fernandes;Avenida Ipiranga</td></tr><tr><td>17;João Silva;Rua das Flores</td></tr><tr><td>18;João Silva;Avenida Atlântica</td></tr><tr><td>19;Juliana Costa;Rua XV de Novembro</td></tr><tr><td>20;Carlos Pereira;Rua das Palmeiras</td></tr><tr><td>21;Carlos Pereira;Rua da Consolação</td></tr><tr><td>22;Lucas Fernandes;Avenida Paulista</td></tr><tr><td>23;Mariana Rocha;Avenida Brasil</td></tr><tr><td>24;Fernanda Lima;Rua das Flores</td></tr><tr><td>25;Juliana Costa;Avenida Atlântica</td></tr><tr><td>26;Carlos Pereira;Praça da Sé</td></tr><tr><td>27;Carlos Pereira;Avenida Brasil</td></tr><tr><td>28;Ana Souza;Avenida Paulista</td></tr><tr><td>29;Maria Oliveira;Avenida Atlântica</td></tr><tr><td>30;Carlos Pereira;Rua da Consolação</td></tr><tr><td>31;Juliana Costa;Avenida Paulista</td></tr><tr><td>32;Carlos Pereira;Avenida Paulista</td></tr><tr><td>33;Maria Oliveira;Avenida Brasil</td></tr><tr><td>34;Carlos Pereira;Avenida Paulista</td></tr><tr><td>35;Maria Oliveira;Avenida Ipiranga</td></tr><tr><td>36;João Silva;Rua das Flores</td></tr><tr><td>37;Mariana Rocha;Rua Augusta</td></tr><tr><td>38;Carlos Pereira;Rua da Consolação</td></tr><tr><td>39;Paulo Almeida;Rua Augusta</td></tr><tr><td>40;Maria Oliveira;Rua das Flores</td></tr><tr><td>41;Juliana Costa;Rua Augusta</td></tr><tr><td>42;Ana Souza;Avenida Brasil</td></tr><tr><td>43;Fernanda Lima;Rua das Flores</td></tr><tr><td>44;Paulo Almeida;Rua das Flores</td></tr><tr><td>45;Fernanda Lima;Avenida Atlântica</td></tr><tr><td>46;Fernanda Lima;Avenida Atlântica</td></tr><tr><td>47;João Silva;Avenida Ipiranga</td></tr><tr><td>48;Maria Oliveira;Rua da Consolação</td></tr><tr><td>49;Maria Oliveira;Rua das Palmeiras</td></tr><tr><td>50;Ana Souza;Avenida Brasil</td></tr><tr><td>51;Ana Souza;Avenida Ipiranga</td></tr><tr><td>52;Mariana Rocha;Rua das Flores</td></tr><tr><td>53;Fernanda Lima;Rua da Consolação</td></tr><tr><td>54;Juliana Costa;Avenida Brasil</td></tr><tr><td>55;Ana Souza;Rua Augusta</td></tr><tr><td>56;Fernanda Lima;Rua das Flores</td></tr><tr><td>57;Carlos Pereira;Rua Augusta</td></tr><tr><td>58;Maria Oliveira;Rua Augusta</td></tr><tr><td>59;Lucas Fernandes;Praça da Sé</td></tr><tr><td>60;Maria Oliveira;Avenida Atlântica</td></tr><tr><td>61;Maria Oliveira;Rua Augusta</td></tr><tr><td>62;Fernanda Lima;Rua Augusta</td></tr><tr><td>63;Mariana Rocha;Avenida Paulista</td></tr><tr><td>64;Mariana Rocha;Rua das Flores</td></tr><tr><td>65;Mariana Rocha;Rua da Consolação</td></tr><tr><td>66;João Silva;Rua das Palmeiras</td></tr><tr><td>67;Maria Oliveira;Rua das Palmeiras</td></tr><tr><td>68;Paulo Almeida;Avenida Atlântica</td></tr><tr><td>69;Paulo Almeida;Avenida Ipiranga</td></tr><tr><td>70;Fernanda Lima;Avenida Ipiranga</td></tr><tr><td>71;Mariana Rocha;Praça da Sé</td></tr><tr><td>72;Ana Souza;Rua das Flores</td></tr><tr><td>73;Juliana Costa;Avenida Brasil</td></tr><tr><td>74;Carlos Pereira;Rua das Palmeiras</td></tr><tr><td>75;Paulo Almeida;Rua XV de Novembro</td></tr><tr><td>76;Lucas Fernandes;Avenida Atlântica</td></tr><tr><td>77;Maria Oliveira;Avenida Paulista</td></tr><tr><td>78;Ana Souza;Rua da Consolação</td></tr><tr><td>79;Paulo Almeida;Avenida Atlântica</td></tr><tr><td>80;Maria Oliveira;Praça da Sé</td></tr><tr><td>81;Mariana Rocha;Rua XV de Novembro</td></tr><tr><td>82;Juliana Costa;Rua XV de Novembro</td></tr><tr><td>83;Paulo Almeida;Rua das Palmeiras</td></tr><tr><td>84;Paulo Almeida;Rua Augusta</td></tr><tr><td>85;Juliana Costa;Praça da Sé</td></tr><tr><td>86;Juliana Costa;Rua XV de Novembro</td></tr><tr><td>87;Maria Oliveira;Avenida Ipiranga</td></tr><tr><td>88;Ana Souza;Avenida Ipiranga</td></tr><tr><td>89;Mariana Rocha;Rua XV de Novembro</td></tr><tr><td>90;Carlos Pereira;Praça da Sé</td></tr><tr><td>91;Fernanda Lima;Avenida Atlântica</td></tr><tr><td>92;Maria Oliveira;Avenida Ipiranga</td></tr><tr><td>93;João Silva;Rua das Flores</td></tr><tr><td>94;João Silva;Avenida Brasil</td></tr><tr><td>95;João Silva;Avenida Atlântica</td></tr><tr><td>96;Juliana Costa;Rua XV de Novembro</td></tr><tr><td>97;Maria Oliveira;Rua Augusta</td></tr><tr><td>98;Pedro Santos;Rua das Palmeiras</td></tr><tr><td>99;Maria Oliveira;Rua das Flores</td></tr><tr><td>100;Lucas Fernandes;Rua XV de Novembro</td></tr><tr><td>101;Maria Oliveira;Avenida Ipiranga</td></tr><tr><td>102;João Silva;Rua XV de Novembro</td></tr><tr><td>103;João Silva;Avenida Paulista</td></tr><tr><td>104;Maria Oliveira;Rua das Palmeiras</td></tr><tr><td>105;João Silva;Rua das Palmeiras</td></tr><tr><td>106;Ana Souza;Rua da Consolação</td></tr><tr><td>107;Lucas Fernandes;Avenida Ipiranga</td></tr><tr><td>108;Pedro Santos;Rua das Palmeiras</td></tr><tr><td>109;Paulo Almeida;Rua das Palmeiras</td></tr><tr><td>110;Fernanda Lima;Rua da Consolação</td></tr><tr><td>111;Lucas Fernandes;Rua Augusta</td></tr><tr><td>112;Maria Oliveira;Rua das Palmeiras</td></tr><tr><td>113;João Silva;Rua Augusta</td></tr><tr><td>114;Juliana Costa;Avenida Paulista</td></tr><tr><td>115;Lucas Fernandes;Avenida Paulista</td></tr><tr><td>116;Maria Oliveira;Praça da Sé</td></tr><tr><td>117;João Silva;Avenida Ipiranga</td></tr><tr><td>118;Fernanda Lima;Avenida Paulista</td></tr><tr><td>119;Juliana Costa;Rua da Consolação</td></tr><tr><td>120;João Silva;Praça da Sé</td></tr><tr><td>121;Ana Souza;Rua Augusta</td></tr><tr><td>122;Paulo Almeida;Rua das Flores</td></tr><tr><td>123;Juliana Costa;Avenida Atlântica</td></tr><tr><td>124;João Silva;Avenida Paulista</td></tr><tr><td>125;Lucas Fernandes;Praça da Sé</td></tr><tr><td>126;Maria Oliveira;Rua da Consolação</td></tr><tr><td>127;Paulo Almeida;Avenida Brasil</td></tr><tr><td>128;Lucas Fernandes;Rua Augusta</td></tr><tr><td>129;Carlos Pereira;Rua Augusta</td></tr><tr><td>130;Mariana Rocha;Praça da Sé</td></tr><tr><td>131;Juliana Costa;Rua das Flores</td></tr><tr><td>132;Lucas Fernandes;Rua das Flores</td></tr><tr><td>133;Paulo Almeida;Rua das Palmeiras</td></tr><tr><td>134;Mariana Rocha;Avenida Brasil</td></tr><tr><td>135;Juliana Costa;Rua das Palmeiras</td></tr><tr><td>136;Paulo Almeida;Avenida Ipiranga</td></tr><tr><td>137;João Silva;Rua das Palmeiras</td></tr><tr><td>138;Paulo Almeida;Avenida Paulista</td></tr><tr><td>139;João Silva;Avenida Brasil</td></tr><tr><td>140;Pedro Santos;Rua das Palmeiras</td></tr><tr><td>141;Paulo Almeida;Praça da Sé</td></tr><tr><td>142;Carlos Pereira;Avenida Ipiranga</td></tr><tr><td>143;Pedro Santos;Rua das Flores</td></tr><tr><td>144;Juliana Costa;Avenida Paulista</td></tr><tr><td>145;Maria Oliveira;Avenida Brasil</td></tr><tr><td>146;Mariana Rocha;Rua Augusta</td></tr><tr><td>147;Carlos Pereira;Avenida Atlântica</td></tr><tr><td>148;Carlos Pereira;Rua XV de Novembro</td></tr><tr><td>149;Fernanda Lima;Rua da Consolação</td></tr><tr><td>150;Carlos Pereira;Rua das Palmeiras</td></tr><tr><td>151;João Silva;Rua da Consolação</td></tr><tr><td>152;Fernanda Lima;Rua das Palmeiras</td></tr><tr><td>153;Carlos Pereira;Avenida Paulista</td></tr><tr><td>154;Carlos Pereira;Praça da Sé</td></tr><tr><td>155;Mariana Rocha;Avenida Atlântica</td></tr><tr><td>156;Ana Souza;Rua das Flores</td></tr><tr><td>157;Pedro Santos;Avenida Paulista</td></tr><tr><td>158;Mariana Rocha;Avenida Ipiranga</td></tr><tr><td>159;Pedro Santos;Avenida Ipiranga</td></tr><tr><td>160;Paulo Almeida;Avenida Ipiranga</td></tr><tr><td>161;Mariana Rocha;Praça da Sé</td></tr><tr><td>162;Paulo Almeida;Avenida Brasil</td></tr><tr><td>163;Ana Souza;Rua das Palmeiras</td></tr><tr><td>164;Lucas Fernandes;Rua da Consolação</td></tr><tr><td>165;Paulo Almeida;Avenida Ipiranga</td></tr><tr><td>166;Fernanda Lima;Avenida Ipiranga</td></tr><tr><td>167;Pedro Santos;Avenida Brasil</td></tr><tr><td>168;Mariana Rocha;Avenida Paulista</td></tr><tr><td>169;Ana Souza;Avenida Atlântica</td></tr><tr><td>170;Ana Souza;Avenida Brasil</td></tr><tr><td>171;Carlos Pereira;Rua XV de Novembro</td></tr><tr><td>172;Maria Oliveira;Rua Augusta</td></tr><tr><td>173;Lucas Fernandes;Avenida Ipiranga</td></tr><tr><td>174;Mariana Rocha;Avenida Ipiranga</td></tr><tr><td>175;Juliana Costa;Rua Augusta</td></tr><tr><td>176;Paulo Almeida;Rua da Consolação</td></tr><tr><td>177;Juliana Costa;Rua das Palmeiras</td></tr><tr><td>178;Maria Oliveira;Rua Augusta</td></tr><tr><td>179;Mariana Rocha;Rua das Flores</td></tr><tr><td>180;Juliana Costa;Avenida Brasil</td></tr><tr><td>181;Mariana Rocha;Avenida Atlântica</td></tr><tr><td>182;Mariana Rocha;Avenida Atlântica</td></tr><tr><td>183;Lucas Fernandes;Rua XV de Novembro</td></tr><tr><td>184;Mariana Rocha;Rua da Consolação</td></tr><tr><td>185;Paulo Almeida;Rua Augusta</td></tr><tr><td>186;Maria Oliveira;Avenida Ipiranga</td></tr><tr><td>187;Paulo Almeida;Rua da Consolação</td></tr><tr><td>188;Pedro Santos;Avenida Paulista</td></tr><tr><td>189;Juliana Costa;Avenida Ipiranga</td></tr><tr><td>190;Carlos Pereira;Rua das Flores</td></tr><tr><td>191;Fernanda Lima;Praça da Sé</td></tr><tr><td>192;Ana Souza;Rua das Palmeiras</td></tr><tr><td>193;Maria Oliveira;Rua das Flores</td></tr><tr><td>194;Mariana Rocha;Rua XV de Novembro</td></tr><tr><td>195;Paulo Almeida;Avenida Paulista</td></tr><tr><td>196;Carlos Pereira;Avenida Ipiranga</td></tr><tr><td>197;Paulo Almeida;Avenida Ipiranga</td></tr><tr><td>198;Mariana Rocha;Avenida Paulista</td></tr><tr><td>199;Paulo Almeida;Rua da Consolação</td></tr><tr><td>200;Pedro Santos;Rua Augusta</td></tr><tr><td>201;Pedro Santos;Rua Augusta</td></tr><tr><td>202;Pedro Santos;Praça da Sé</td></tr><tr><td>203;Fernanda Lima;Avenida Brasil</td></tr><tr><td>204;Juliana Costa;Avenida Paulista</td></tr><tr><td>205;Mariana Rocha;Praça da Sé</td></tr><tr><td>206;Ana Souza;Avenida Atlântica</td></tr><tr><td>207;Fernanda Lima;Avenida Paulista</td></tr><tr><td>208;Carlos Pereira;Avenida Atlântica</td></tr><tr><td>209;Fernanda Lima;Rua das Palmeiras</td></tr><tr><td>210;Maria Oliveira;Avenida Ipiranga</td></tr><tr><td>211;Lucas Fernandes;Avenida Atlântica</td></tr><tr><td>212;Juliana Costa;Rua XV de Novembro</td></tr><tr><td>213;Mariana Rocha;Avenida Ipiranga</td></tr><tr><td>214;Paulo Almeida;Rua das Flores</td></tr><tr><td>215;Paulo Almeida;Rua das Palmeiras</td></tr><tr><td>216;Paulo Almeida;Avenida Atlântica</td></tr><tr><td>217;Juliana Costa;Rua Augusta</td></tr><tr><td>218;Lucas Fernandes;Avenida Brasil</td></tr><tr><td>219;Lucas Fernandes;Rua Augusta</td></tr><tr><td>220;Pedro Santos;Praça da Sé</td></tr><tr><td>221;Lucas Fernandes;Rua das Palmeiras</td></tr><tr><td>222;João Silva;Praça da Sé</td></tr><tr><td>223;Paulo Almeida;Rua das Flores</td></tr><tr><td>224;Carlos Pereira;Rua da Consolação</td></tr><tr><td>225;Lucas Fernandes;Rua da Consolação</td></tr><tr><td>226;Ana Souza;Avenida Atlântica</td></tr><tr><td>227;Ana Souza;Avenida Paulista</td></tr><tr><td>228;João Silva;Praça da Sé</td></tr><tr><td>229;João Silva;Avenida Atlântica</td></tr><tr><td>230;Paulo Almeida;Rua da Consolação</td></tr><tr><td>231;João Silva;Rua das Flores</td></tr><tr><td>232;Fernanda Lima;Rua das Flores</td></tr><tr><td>233;Ana Souza;Avenida Atlântica</td></tr><tr><td>234;Paulo Almeida;Praça da Sé</td></tr><tr><td>235;Pedro Santos;Rua da Consolação</td></tr><tr><td>236;Juliana Costa;Rua da Consolação</td></tr><tr><td>237;Ana Souza;Rua da Consolação</td></tr><tr><td>238;Lucas Fernandes;Rua das Flores</td></tr><tr><td>239;Fernanda Lima;Avenida Ipiranga</td></tr><tr><td>240;Paulo Almeida;Avenida Brasil</td></tr><tr><td>241;João Silva;Rua Augusta</td></tr><tr><td>242;Carlos Pereira;Avenida Brasil</td></tr><tr><td>243;Carlos Pereira;Rua das Flores</td></tr><tr><td>244;Mariana Rocha;Rua das Flores</td></tr><tr><td>245;Paulo Almeida;Praça da Sé</td></tr><tr><td>246;Paulo Almeida;Praça da Sé</td></tr><tr><td>247;Carlos Pereira;Rua Augusta</td></tr><tr><td>248;Mariana Rocha;Avenida Paulista</td></tr><tr><td>249;Maria Oliveira;Rua da Consolação</td></tr><tr><td>250;Lucas Fernandes;Rua Augusta</td></tr><tr><td>251;Juliana Costa;Rua da Consolação</td></tr><tr><td>252;Pedro Santos;Avenida Paulista</td></tr><tr><td>253;João Silva;Rua das Flores</td></tr><tr><td>254;João Silva;Avenida Brasil</td></tr><tr><td>255;Maria Oliveira;Avenida Atlântica</td></tr><tr><td>256;Fernanda Lima;Avenida Ipiranga</td></tr><tr><td>257;Juliana Costa;Rua da Consolação</td></tr><tr><td>258;Ana Souza;Rua das Palmeiras</td></tr><tr><td>259;Pedro Santos;Praça da Sé</td></tr><tr><td>260;Paulo Almeida;Rua da Consolação</td></tr><tr><td>261;Lucas Fernandes;Rua da Consolação</td></tr><tr><td>262;Paulo Almeida;Avenida Atlântica</td></tr><tr><td>263;Carlos Pereira;Avenida Atlântica</td></tr><tr><td>264;Ana Souza;Rua Augusta</td></tr><tr><td>265;Juliana Costa;Avenida Atlântica</td></tr><tr><td>266;Paulo Almeida;Avenida Atlântica</td></tr><tr><td>267;Maria Oliveira;Avenida Atlântica</td></tr><tr><td>268;Mariana Rocha;Avenida Atlântica</td></tr><tr><td>269;João Silva;Rua da Consolação</td></tr><tr><td>270;Fernanda Lima;Avenida Atlântica</td></tr><tr><td>271;Lucas Fernandes;Avenida Paulista</td></tr><tr><td>272;João Silva;Rua XV de Novembro</td></tr><tr><td>273;Pedro Santos;Praça da Sé</td></tr><tr><td>274;Lucas Fernandes;Avenida Paulista</td></tr><tr><td>275;Fernanda Lima;Rua da Consolação</td></tr><tr><td>276;Carlos Pereira;Rua das Palmeiras</td></tr><tr><td>277;Paulo Almeida;Avenida Paulista</td></tr><tr><td>278;João Silva;Rua das Palmeiras</td></tr><tr><td>279;Maria Oliveira;Rua XV de Novembro</td></tr><tr><td>280;Pedro Santos;Avenida Brasil</td></tr><tr><td>281;Maria Oliveira;Rua da Consolação</td></tr><tr><td>282;Mariana Rocha;Rua da Consolação</td></tr><tr><td>283;Lucas Fernandes;Rua das Palmeiras</td></tr><tr><td>284;Juliana Costa;Avenida Paulista</td></tr><tr><td>285;João Silva;Avenida Atlântica</td></tr><tr><td>286;Carlos Pereira;Rua da Consolação</td></tr><tr><td>287;João Silva;Avenida Paulista</td></tr><tr><td>288;Juliana Costa;Avenida Brasil</td></tr><tr><td>289;Maria Oliveira;Avenida Atlântica</td></tr><tr><td>290;Maria Oliveira;Avenida Paulista</td></tr><tr><td>291;Lucas Fernandes;Rua da Consolação</td></tr><tr><td>292;Juliana Costa;Rua das Palmeiras</td></tr><tr><td>293;João Silva;Rua das Flores</td></tr><tr><td>294;Fernanda Lima;Rua das Palmeiras</td></tr><tr><td>295;Ana Souza;Rua das Flores</td></tr><tr><td>296;João Silva;Avenida Ipiranga</td></tr><tr><td>297;Carlos Pereira;Rua da Consolação</td></tr><tr><td>298;Juliana Costa;Rua das Palmeiras</td></tr><tr><td>299;Pedro Santos;Rua da Consolação</td></tr><tr><td>300;João Silva;Praça da Sé</td></tr><tr><td>301;Paulo Almeida;Rua XV de Novembro</td></tr><tr><td>302;Mariana Rocha;Rua Augusta</td></tr><tr><td>303;Maria Oliveira;Avenida Ipiranga</td></tr><tr><td>304;Ana Souza;Rua XV de Novembro</td></tr><tr><td>305;Mariana Rocha;Rua das Palmeiras</td></tr><tr><td>306;Juliana Costa;Avenida Ipiranga</td></tr><tr><td>307;Ana Souza;Rua da Consolação</td></tr><tr><td>308;Pedro Santos;Rua das Flores</td></tr><tr><td>309;Ana Souza;Rua das Flores</td></tr><tr><td>310;Fernanda Lima;Avenida Brasil</td></tr><tr><td>311;Paulo Almeida;Rua Augusta</td></tr><tr><td>312;Ana Souza;Rua das Flores</td></tr><tr><td>313;Fernanda Lima;Rua XV de Novembro</td></tr><tr><td>314;Maria Oliveira;Avenida Atlântica</td></tr><tr><td>315;João Silva;Rua das Flores</td></tr><tr><td>316;Ana Souza;Praça da Sé</td></tr><tr><td>317;Mariana Rocha;Praça da Sé</td></tr><tr><td>318;Fernanda Lima;Avenida Paulista</td></tr><tr><td>319;João Silva;Rua das Palmeiras</td></tr><tr><td>320;Paulo Almeida;Rua Augusta</td></tr><tr><td>321;Pedro Santos;Praça da Sé</td></tr><tr><td>322;Lucas Fernandes;Rua das Flores</td></tr><tr><td>323;Maria Oliveira;Rua da Consolação</td></tr><tr><td>324;Pedro Santos;Rua das Palmeiras</td></tr><tr><td>325;Paulo Almeida;Rua das Flores</td></tr><tr><td>326;Mariana Rocha;Rua Augusta</td></tr><tr><td>327;Lucas Fernandes;Avenida Atlântica</td></tr><tr><td>328;Pedro Santos;Rua XV de Novembro</td></tr><tr><td>329;Juliana Costa;Praça da Sé</td></tr><tr><td>330;Fernanda Lima;Praça da Sé</td></tr><tr><td>331;Juliana Costa;Avenida Brasil</td></tr><tr><td>332;Carlos Pereira;Avenida Atlântica</td></tr><tr><td>333;João Silva;Rua XV de Novembro</td></tr><tr><td>334;Paulo Almeida;Rua da Consolação</td></tr><tr><td>335;Fernanda Lima;Rua XV de Novembro</td></tr><tr><td>336;Ana Souza;Avenida Atlântica</td></tr><tr><td>337;Mariana Rocha;Avenida Brasil</td></tr><tr><td>338;João Silva;Avenida Brasil</td></tr><tr><td>339;Maria Oliveira;Avenida Ipiranga</td></tr><tr><td>340;Lucas Fernandes;Avenida Atlântica</td></tr><tr><td>341;Fernanda Lima;Rua da Consolação</td></tr><tr><td>342;Carlos Pereira;Avenida Paulista</td></tr><tr><td>343;João Silva;Rua da Consolação</td></tr><tr><td>344;Mariana Rocha;Rua das Flores</td></tr><tr><td>345;Paulo Almeida;Avenida Brasil</td></tr><tr><td>346;João Silva;Rua das Flores</td></tr><tr><td>347;Pedro Santos;Rua Augusta</td></tr><tr><td>348;Fernanda Lima;Rua da Consolação</td></tr><tr><td>349;Lucas Fernandes;Rua XV de Novembro</td></tr><tr><td>350;Lucas Fernandes;Avenida Paulista</td></tr><tr><td>351;Pedro Santos;Avenida Ipiranga</td></tr><tr><td>352;Lucas Fernandes;Rua das Palmeiras</td></tr><tr><td>353;Pedro Santos;Praça da Sé</td></tr><tr><td>354;Ana Souza;Avenida Brasil</td></tr><tr><td>355;Carlos Pereira;Avenida Ipiranga</td></tr><tr><td>356;Juliana Costa;Avenida Brasil</td></tr><tr><td>357;Lucas Fernandes;Avenida Ipiranga</td></tr><tr><td>358;Fernanda Lima;Rua Augusta</td></tr><tr><td>359;Maria Oliveira;Praça da Sé</td></tr><tr><td>360;Carlos Pereira;Avenida Brasil</td></tr><tr><td>361;João Silva;Avenida Paulista</td></tr><tr><td>362;Juliana Costa;Rua XV de Novembro</td></tr><tr><td>363;Carlos Pereira;Rua das Palmeiras</td></tr><tr><td>364;Maria Oliveira;Avenida Ipiranga</td></tr><tr><td>365;Paulo Almeida;Rua da Consolação</td></tr><tr><td>366;Carlos Pereira;Rua Augusta</td></tr><tr><td>367;Carlos Pereira;Rua da Consolação</td></tr><tr><td>368;Ana Souza;Rua XV de Novembro</td></tr><tr><td>369;Pedro Santos;Avenida Paulista</td></tr><tr><td>370;Fernanda Lima;Avenida Atlântica</td></tr><tr><td>371;Fernanda Lima;Avenida Ipiranga</td></tr><tr><td>372;Pedro Santos;Praça da Sé</td></tr><tr><td>373;Pedro Santos;Avenida Atlântica</td></tr><tr><td>374;João Silva;Praça da Sé</td></tr><tr><td>375;Ana Souza;Avenida Atlântica</td></tr><tr><td>376;Fernanda Lima;Avenida Ipiranga</td></tr><tr><td>377;Fernanda Lima;Avenida Ipiranga</td></tr><tr><td>378;Ana Souza;Praça da Sé</td></tr><tr><td>379;Juliana Costa;Rua da Consolação</td></tr><tr><td>380;Fernanda Lima;Rua da Consolação</td></tr><tr><td>381;Ana Souza;Avenida Paulista</td></tr><tr><td>382;Carlos Pereira;Rua Augusta</td></tr><tr><td>383;Paulo Almeida;Rua das Palmeiras</td></tr><tr><td>384;João Silva;Avenida Atlântica</td></tr><tr><td>385;Lucas Fernandes;Avenida Paulista</td></tr><tr><td>386;Mariana Rocha;Avenida Brasil</td></tr><tr><td>387;João Silva;Rua XV de Novembro</td></tr><tr><td>388;Pedro Santos;Rua da Consolação</td></tr><tr><td>389;Paulo Almeida;Rua Augusta</td></tr><tr><td>390;Juliana Costa;Praça da Sé</td></tr><tr><td>391;Pedro Santos;Avenida Brasil</td></tr><tr><td>392;Mariana Rocha;Rua das Flores</td></tr><tr><td>393;Fernanda Lima;Rua das Flores</td></tr><tr><td>394;Ana Souza;Rua Augusta</td></tr><tr><td>395;Fernanda Lima;Rua Augusta</td></tr><tr><td>396;Maria Oliveira;Avenida Brasil</td></tr><tr><td>397;Mariana Rocha;Rua Augusta</td></tr><tr><td>398;João Silva;Avenida Ipiranga</td></tr><tr><td>399;João Silva;Rua das Flores</td></tr><tr><td>400;Fernanda Lima;Avenida Brasil</td></tr><tr><td>401;Mariana Rocha;Avenida Brasil</td></tr><tr><td>402;Maria Oliveira;Rua Augusta</td></tr><tr><td>403;Lucas Fernandes;Rua XV de Novembro</td></tr><tr><td>404;Maria Oliveira;Rua das Palmeiras</td></tr><tr><td>405;Juliana Costa;Praça da Sé</td></tr><tr><td>406;Ana Souza;Rua das Flores</td></tr><tr><td>407;Lucas Fernandes;Rua das Palmeiras</td></tr><tr><td>408;João Silva;Rua da Consolação</td></tr><tr><td>409;Pedro Santos;Avenida Ipiranga</td></tr><tr><td>410;Mariana Rocha;Rua das Palmeiras</td></tr><tr><td>411;Carlos Pereira;Avenida Paulista</td></tr><tr><td>412;Paulo Almeida;Praça da Sé</td></tr><tr><td>413;Fernanda Lima;Rua da Consolação</td></tr><tr><td>414;Pedro Santos;Avenida Atlântica</td></tr><tr><td>415;Carlos Pereira;Rua da Consolação</td></tr><tr><td>416;Lucas Fernandes;Rua da Consolação</td></tr><tr><td>417;Fernanda Lima;Praça da Sé</td></tr><tr><td>418;Maria Oliveira;Avenida Paulista</td></tr><tr><td>419;Maria Oliveira;Praça da Sé</td></tr><tr><td>420;Pedro Santos;Avenida Brasil</td></tr><tr><td>421;João Silva;Avenida Brasil</td></tr><tr><td>422;Lucas Fernandes;Avenida Ipiranga</td></tr><tr><td>423;Carlos Pereira;Rua das Palmeiras</td></tr><tr><td>424;Pedro Santos;Rua Augusta</td></tr><tr><td>425;Lucas Fernandes;Avenida Atlântica</td></tr><tr><td>426;Ana Souza;Avenida Atlântica</td></tr><tr><td>427;Maria Oliveira;Avenida Ipiranga</td></tr><tr><td>428;Carlos Pereira;Rua das Palmeiras</td></tr><tr><td>429;Mariana Rocha;Avenida Atlântica</td></tr><tr><td>430;Carlos Pereira;Avenida Ipiranga</td></tr><tr><td>431;Maria Oliveira;Avenida Ipiranga</td></tr><tr><td>432;Lucas Fernandes;Avenida Atlântica</td></tr><tr><td>433;Fernanda Lima;Praça da Sé</td></tr><tr><td>434;Juliana Costa;Rua das Palmeiras</td></tr><tr><td>435;Paulo Almeida;Avenida Paulista</td></tr><tr><td>436;Maria Oliveira;Rua Augusta</td></tr><tr><td>437;Fernanda Lima;Rua da Consolação</td></tr><tr><td>438;Lucas Fernandes;Rua XV de Novembro</td></tr><tr><td>439;Carlos Pereira;Rua da Consolação</td></tr><tr><td>440;Paulo Almeida;Avenida Paulista</td></tr><tr><td>441;Lucas Fernandes;Rua XV de Novembro</td></tr><tr><td>442;João Silva;Rua das Palmeiras</td></tr><tr><td>443;Juliana Costa;Rua da Consolação</td></tr><tr><td>444;Juliana Costa;Rua das Palmeiras</td></tr><tr><td>445;Paulo Almeida;Rua Augusta</td></tr><tr><td>446;Lucas Fernandes;Avenida Paulista</td></tr><tr><td>447;Carlos Pereira;Avenida Ipiranga</td></tr><tr><td>448;Lucas Fernandes;Avenida Paulista</td></tr><tr><td>449;Juliana Costa;Avenida Brasil</td></tr><tr><td>450;Lucas Fernandes;Rua Augusta</td></tr><tr><td>451;João Silva;Avenida Paulista</td></tr><tr><td>452;Ana Souza;Rua Augusta</td></tr><tr><td>453;Maria Oliveira;Rua Augusta</td></tr><tr><td>454;Carlos Pereira;Avenida Atlântica</td></tr><tr><td>455;Paulo Almeida;Rua das Palmeiras</td></tr><tr><td>456;Mariana Rocha;Avenida Brasil</td></tr><tr><td>457;Paulo Almeida;Avenida Ipiranga</td></tr><tr><td>458;Ana Souza;Avenida Atlântica</td></tr><tr><td>459;Ana Souza;Praça da Sé</td></tr><tr><td>460;Juliana Costa;Avenida Ipiranga</td></tr><tr><td>461;Mariana Rocha;Rua das Flores</td></tr><tr><td>462;Paulo Almeida;Rua das Palmeiras</td></tr><tr><td>463;Mariana Rocha;Rua da Consolação</td></tr><tr><td>464;Maria Oliveira;Rua XV de Novembro</td></tr><tr><td>465;Carlos Pereira;Rua Augusta</td></tr><tr><td>466;Paulo Almeida;Rua da Consolação</td></tr><tr><td>467;Fernanda Lima;Rua XV de Novembro</td></tr><tr><td>468;Paulo Almeida;Rua XV de Novembro</td></tr><tr><td>469;Carlos Pereira;Rua da Consolação</td></tr><tr><td>470;Paulo Almeida;Rua das Palmeiras</td></tr><tr><td>471;Carlos Pereira;Avenida Paulista</td></tr><tr><td>472;Maria Oliveira;Avenida Brasil</td></tr><tr><td>473;Juliana Costa;Rua das Palmeiras</td></tr><tr><td>474;Mariana Rocha;Rua das Palmeiras</td></tr><tr><td>475;Carlos Pereira;Praça da Sé</td></tr><tr><td>476;Juliana Costa;Avenida Paulista</td></tr><tr><td>477;Paulo Almeida;Avenida Ipiranga</td></tr><tr><td>478;Paulo Almeida;Avenida Paulista</td></tr><tr><td>479;Pedro Santos;Rua XV de Novembro</td></tr><tr><td>480;Fernanda Lima;Rua XV de Novembro</td></tr><tr><td>481;Juliana Costa;Avenida Paulista</td></tr><tr><td>482;Maria Oliveira;Avenida Brasil</td></tr><tr><td>483;Carlos Pereira;Rua das Flores</td></tr><tr><td>484;Lucas Fernandes;Rua Augusta</td></tr><tr><td>485;Ana Souza;Rua XV de Novembro</td></tr><tr><td>486;João Silva;Rua Augusta</td></tr><tr><td>487;Juliana Costa;Rua da Consolação</td></tr><tr><td>488;Ana Souza;Rua XV de Novembro</td></tr><tr><td>489;Pedro Santos;Avenida Paulista</td></tr><tr><td>490;Ana Souza;Rua Augusta</td></tr><tr><td>491;Carlos Pereira;Avenida Ipiranga</td></tr><tr><td>492;Carlos Pereira;Rua da Consolação</td></tr><tr><td>493;Ana Souza;Avenida Brasil</td></tr><tr><td>494;Carlos Pereira;Rua da Consolação</td></tr><tr><td>495;Pedro Santos;Rua da Consolação</td></tr><tr><td>496;Carlos Pereira;Avenida Brasil</td></tr><tr><td>497;Juliana Costa;Avenida Atlântica</td></tr><tr><td>498;Lucas Fernandes;Rua XV de Novembro</td></tr><tr><td>499;Pedro Santos;Avenida Ipiranga</td></tr><tr><td>500;Carlos Pereira;Rua Augusta</td></tr><tr><td>501;Carlos Pereira;Praça da Sé</td></tr><tr><td>502;Fernanda Lima;Avenida Ipiranga</td></tr><tr><td>503;João Silva;Rua Augusta</td></tr><tr><td>504;Mariana Rocha;Avenida Paulista</td></tr><tr><td>505;Fernanda Lima;Rua Augusta</td></tr><tr><td>506;Maria Oliveira;Rua XV de Novembro</td></tr><tr><td>507;Fernanda Lima;Avenida Brasil</td></tr><tr><td>508;Fernanda Lima;Praça da Sé</td></tr><tr><td>509;João Silva;Rua Augusta</td></tr><tr><td>510;Ana Souza;Rua das Flores</td></tr><tr><td>511;Pedro Santos;Rua Augusta</td></tr><tr><td>512;Paulo Almeida;Rua das Palmeiras</td></tr><tr><td>513;Carlos Pereira;Rua das Palmeiras</td></tr><tr><td>514;Ana Souza;Rua XV de Novembro</td></tr><tr><td>515;João Silva;Praça da Sé</td></tr><tr><td>516;Carlos Pereira;Rua Augusta</td></tr><tr><td>517;Pedro Santos;Rua das Flores</td></tr><tr><td>518;João Silva;Avenida Paulista</td></tr><tr><td>519;Lucas Fernandes;Rua das Flores</td></tr><tr><td>520;Juliana Costa;Rua das Flores</td></tr><tr><td>521;João Silva;Praça da Sé</td></tr><tr><td>522;Lucas Fernandes;Praça da Sé</td></tr><tr><td>523;Pedro Santos;Rua da Consolação</td></tr><tr><td>524;Lucas Fernandes;Praça da Sé</td></tr><tr><td>525;Lucas Fernandes;Rua das Flores</td></tr><tr><td>526;Paulo Almeida;Avenida Atlântica</td></tr><tr><td>527;Paulo Almeida;Avenida Brasil</td></tr><tr><td>528;Fernanda Lima;Avenida Paulista</td></tr><tr><td>529;Fernanda Lima;Rua Augusta</td></tr><tr><td>530;Mariana Rocha;Avenida Atlântica</td></tr><tr><td>531;Juliana Costa;Rua Augusta</td></tr><tr><td>532;Pedro Santos;Avenida Ipiranga</td></tr><tr><td>533;Maria Oliveira;Avenida Atlântica</td></tr><tr><td>534;Maria Oliveira;Rua XV de Novembro</td></tr><tr><td>535;João Silva;Avenida Ipiranga</td></tr><tr><td>536;Juliana Costa;Praça da Sé</td></tr><tr><td>537;Mariana Rocha;Avenida Paulista</td></tr><tr><td>538;Pedro Santos;Avenida Ipiranga</td></tr><tr><td>539;Lucas Fernandes;Rua Augusta</td></tr><tr><td>540;Pedro Santos;Praça da Sé</td></tr><tr><td>541;Maria Oliveira;Praça da Sé</td></tr><tr><td>542;Ana Souza;Rua Augusta</td></tr><tr><td>543;Juliana Costa;Rua da Consolação</td></tr><tr><td>544;Maria Oliveira;Rua das Palmeiras</td></tr><tr><td>545;Maria Oliveira;Avenida Paulista</td></tr><tr><td>546;Mariana Rocha;Avenida Paulista</td></tr><tr><td>547;Carlos Pereira;Rua das Flores</td></tr><tr><td>548;Ana Souza;Rua das Palmeiras</td></tr><tr><td>549;Fernanda Lima;Rua das Palmeiras</td></tr><tr><td>550;Paulo Almeida;Rua das Palmeiras</td></tr><tr><td>551;Maria Oliveira;Rua Augusta</td></tr><tr><td>552;Carlos Pereira;Praça da Sé</td></tr><tr><td>553;Ana Souza;Rua das Flores</td></tr><tr><td>554;Lucas Fernandes;Praça da Sé</td></tr><tr><td>555;Lucas Fernandes;Praça da Sé</td></tr><tr><td>556;Paulo Almeida;Avenida Paulista</td></tr><tr><td>557;Mariana Rocha;Avenida Atlântica</td></tr><tr><td>558;Juliana Costa;Avenida Ipiranga</td></tr><tr><td>559;João Silva;Praça da Sé</td></tr><tr><td>560;Ana Souza;Avenida Brasil</td></tr><tr><td>561;Paulo Almeida;Avenida Ipiranga</td></tr><tr><td>562;Carlos Pereira;Rua das Palmeiras</td></tr><tr><td>563;Maria Oliveira;Avenida Paulista</td></tr><tr><td>564;Lucas Fernandes;Rua Augusta</td></tr><tr><td>565;Pedro Santos;Praça da Sé</td></tr><tr><td>566;Fernanda Lima;Rua das Flores</td></tr><tr><td>567;João Silva;Praça da Sé</td></tr><tr><td>568;Maria Oliveira;Rua das Palmeiras</td></tr><tr><td>569;João Silva;Avenida Paulista</td></tr><tr><td>570;Fernanda Lima;Praça da Sé</td></tr><tr><td>571;João Silva;Rua XV de Novembro</td></tr><tr><td>572;Pedro Santos;Rua XV de Novembro</td></tr><tr><td>573;Fernanda Lima;Rua da Consolação</td></tr><tr><td>574;Ana Souza;Avenida Ipiranga</td></tr><tr><td>575;Paulo Almeida;Rua Augusta</td></tr><tr><td>576;Paulo Almeida;Avenida Paulista</td></tr><tr><td>577;Carlos Pereira;Avenida Atlântica</td></tr><tr><td>578;Lucas Fernandes;Rua das Flores</td></tr><tr><td>579;Mariana Rocha;Avenida Brasil</td></tr><tr><td>580;Carlos Pereira;Rua XV de Novembro</td></tr><tr><td>581;Lucas Fernandes;Avenida Atlântica</td></tr><tr><td>582;Juliana Costa;Rua XV de Novembro</td></tr><tr><td>583;Fernanda Lima;Avenida Atlântica</td></tr><tr><td>584;Maria Oliveira;Avenida Atlântica</td></tr><tr><td>585;Fernanda Lima;Avenida Ipiranga</td></tr><tr><td>586;Maria Oliveira;Avenida Ipiranga</td></tr><tr><td>587;Mariana Rocha;Rua das Flores</td></tr><tr><td>588;Fernanda Lima;Rua da Consolação</td></tr><tr><td>589;Maria Oliveira;Avenida Ipiranga</td></tr><tr><td>590;Fernanda Lima;Rua das Flores</td></tr><tr><td>591;Mariana Rocha;Rua Augusta</td></tr><tr><td>592;Carlos Pereira;Avenida Ipiranga</td></tr><tr><td>593;Maria Oliveira;Rua das Flores</td></tr><tr><td>594;Juliana Costa;Rua XV de Novembro</td></tr><tr><td>595;Paulo Almeida;Avenida Atlântica</td></tr><tr><td>596;Carlos Pereira;Avenida Paulista</td></tr><tr><td>597;Lucas Fernandes;Rua das Palmeiras</td></tr><tr><td>598;João Silva;Rua XV de Novembro</td></tr><tr><td>599;Ana Souza;Avenida Atlântica</td></tr><tr><td>600;Fernanda Lima;Rua XV de Novembro</td></tr><tr><td>601;Carlos Pereira;Avenida Brasil</td></tr><tr><td>602;Lucas Fernandes;Rua Augusta</td></tr><tr><td>603;Fernanda Lima;Avenida Ipiranga</td></tr><tr><td>604;Lucas Fernandes;Rua Augusta</td></tr><tr><td>605;Pedro Santos;Avenida Paulista</td></tr><tr><td>606;Juliana Costa;Praça da Sé</td></tr><tr><td>607;Fernanda Lima;Rua das Palmeiras</td></tr><tr><td>608;Mariana Rocha;Praça da Sé</td></tr><tr><td>609;João Silva;Avenida Brasil</td></tr><tr><td>610;Fernanda Lima;Rua XV de Novembro</td></tr><tr><td>611;Carlos Pereira;Avenida Brasil</td></tr><tr><td>612;Maria Oliveira;Rua XV de Novembro</td></tr><tr><td>613;Paulo Almeida;Avenida Brasil</td></tr><tr><td>614;Juliana Costa;Rua das Palmeiras</td></tr><tr><td>615;Fernanda Lima;Rua das Flores</td></tr><tr><td>616;Pedro Santos;Avenida Ipiranga</td></tr><tr><td>617;Carlos Pereira;Avenida Paulista</td></tr><tr><td>618;Fernanda Lima;Rua das Flores</td></tr><tr><td>619;Lucas Fernandes;Rua XV de Novembro</td></tr><tr><td>620;João Silva;Avenida Brasil</td></tr><tr><td>621;Mariana Rocha;Rua XV de Novembro</td></tr><tr><td>622;Ana Souza;Avenida Ipiranga</td></tr><tr><td>623;João Silva;Avenida Ipiranga</td></tr><tr><td>624;Ana Souza;Rua da Consolação</td></tr><tr><td>625;João Silva;Praça da Sé</td></tr><tr><td>626;Lucas Fernandes;Rua das Palmeiras</td></tr><tr><td>627;João Silva;Avenida Brasil</td></tr><tr><td>628;Pedro Santos;Avenida Brasil</td></tr><tr><td>629;Ana Souza;Rua XV de Novembro</td></tr><tr><td>630;Mariana Rocha;Avenida Ipiranga</td></tr><tr><td>631;Maria Oliveira;Avenida Ipiranga</td></tr><tr><td>632;Mariana Rocha;Rua das Palmeiras</td></tr><tr><td>633;Juliana Costa;Avenida Brasil</td></tr><tr><td>634;Lucas Fernandes;Rua da Consolação</td></tr><tr><td>635;Ana Souza;Rua das Flores</td></tr><tr><td>636;Carlos Pereira;Rua das Flores</td></tr><tr><td>637;Maria Oliveira;Rua XV de Novembro</td></tr><tr><td>638;Fernanda Lima;Avenida Brasil</td></tr><tr><td>639;Mariana Rocha;Rua XV de Novembro</td></tr><tr><td>640;Mariana Rocha;Avenida Paulista</td></tr><tr><td>641;Lucas Fernandes;Rua das Palmeiras</td></tr><tr><td>642;Mariana Rocha;Avenida Brasil</td></tr><tr><td>643;Carlos Pereira;Rua XV de Novembro</td></tr><tr><td>644;Maria Oliveira;Rua Augusta</td></tr><tr><td>645;Mariana Rocha;Rua da Consolação</td></tr><tr><td>646;Juliana Costa;Rua das Palmeiras</td></tr><tr><td>647;João Silva;Rua XV de Novembro</td></tr><tr><td>648;Lucas Fernandes;Rua Augusta</td></tr><tr><td>649;Carlos Pereira;Praça da Sé</td></tr><tr><td>650;Paulo Almeida;Rua Augusta</td></tr><tr><td>651;Ana Souza;Avenida Paulista</td></tr><tr><td>652;Mariana Rocha;Avenida Atlântica</td></tr><tr><td>653;Mariana Rocha;Avenida Paulista</td></tr><tr><td>654;Juliana Costa;Rua das Flores</td></tr><tr><td>655;Maria Oliveira;Rua XV de Novembro</td></tr><tr><td>656;Lucas Fernandes;Rua das Flores</td></tr><tr><td>657;Fernanda Lima;Avenida Brasil</td></tr><tr><td>658;Pedro Santos;Rua das Palmeiras</td></tr><tr><td>659;Paulo Almeida;Rua XV de Novembro</td></tr><tr><td>660;Fernanda Lima;Rua Augusta</td></tr><tr><td>661;Ana Souza;Rua das Flores</td></tr><tr><td>662;Carlos Pereira;Rua XV de Novembro</td></tr><tr><td>663;Maria Oliveira;Praça da Sé</td></tr><tr><td>664;Maria Oliveira;Rua das Flores</td></tr><tr><td>665;Juliana Costa;Avenida Atlântica</td></tr><tr><td>666;Fernanda Lima;Rua das Palmeiras</td></tr><tr><td>667;Lucas Fernandes;Rua XV de Novembro</td></tr><tr><td>668;Maria Oliveira;Avenida Paulista</td></tr><tr><td>669;Juliana Costa;Avenida Brasil</td></tr><tr><td>670;Fernanda Lima;Rua XV de Novembro</td></tr><tr><td>671;João Silva;Avenida Atlântica</td></tr><tr><td>672;Ana Souza;Avenida Atlântica</td></tr><tr><td>673;João Silva;Rua das Palmeiras</td></tr><tr><td>674;João Silva;Rua XV de Novembro</td></tr><tr><td>675;Paulo Almeida;Avenida Atlântica</td></tr><tr><td>676;Ana Souza;Rua das Palmeiras</td></tr><tr><td>677;Carlos Pereira;Avenida Paulista</td></tr><tr><td>678;Juliana Costa;Rua das Palmeiras</td></tr><tr><td>679;Paulo Almeida;Praça da Sé</td></tr><tr><td>680;João Silva;Rua da Consolação</td></tr><tr><td>681;Maria Oliveira;Avenida Ipiranga</td></tr><tr><td>682;Fernanda Lima;Rua Augusta</td></tr><tr><td>683;Lucas Fernandes;Rua das Palmeiras</td></tr><tr><td>684;Pedro Santos;Rua Augusta</td></tr><tr><td>685;Fernanda Lima;Rua das Palmeiras</td></tr><tr><td>686;João Silva;Rua da Consolação</td></tr><tr><td>687;Paulo Almeida;Avenida Ipiranga</td></tr><tr><td>688;Maria Oliveira;Avenida Brasil</td></tr><tr><td>689;Lucas Fernandes;Rua XV de Novembro</td></tr><tr><td>690;João Silva;Avenida Ipiranga</td></tr><tr><td>691;Ana Souza;Avenida Atlântica</td></tr><tr><td>692;Paulo Almeida;Rua das Flores</td></tr><tr><td>693;Fernanda Lima;Rua da Consolação</td></tr><tr><td>694;Maria Oliveira;Rua da Consolação</td></tr><tr><td>695;Mariana Rocha;Praça da Sé</td></tr><tr><td>696;Mariana Rocha;Avenida Brasil</td></tr><tr><td>697;Mariana Rocha;Praça da Sé</td></tr><tr><td>698;Pedro Santos;Rua das Palmeiras</td></tr><tr><td>699;Lucas Fernandes;Praça da Sé</td></tr><tr><td>700;Fernanda Lima;Rua XV de Novembro</td></tr><tr><td>701;Pedro Santos;Avenida Brasil</td></tr><tr><td>702;Pedro Santos;Praça da Sé</td></tr><tr><td>703;Lucas Fernandes;Avenida Brasil</td></tr><tr><td>704;Fernanda Lima;Avenida Brasil</td></tr><tr><td>705;Pedro Santos;Rua da Consolação</td></tr><tr><td>706;Maria Oliveira;Rua Augusta</td></tr><tr><td>707;João Silva;Avenida Paulista</td></tr><tr><td>708;Fernanda Lima;Rua das Palmeiras</td></tr><tr><td>709;Mariana Rocha;Avenida Brasil</td></tr><tr><td>710;João Silva;Praça da Sé</td></tr><tr><td>711;Pedro Santos;Rua da Consolação</td></tr><tr><td>712;Ana Souza;Rua Augusta</td></tr><tr><td>713;Fernanda Lima;Avenida Paulista</td></tr><tr><td>714;Pedro Santos;Avenida Atlântica</td></tr><tr><td>715;João Silva;Praça da Sé</td></tr><tr><td>716;Paulo Almeida;Avenida Paulista</td></tr><tr><td>717;Ana Souza;Avenida Paulista</td></tr><tr><td>718;Ana Souza;Praça da Sé</td></tr><tr><td>719;Lucas Fernandes;Rua das Palmeiras</td></tr><tr><td>720;Pedro Santos;Avenida Ipiranga</td></tr><tr><td>721;Fernanda Lima;Avenida Atlântica</td></tr><tr><td>722;Paulo Almeida;Avenida Ipiranga</td></tr><tr><td>723;João Silva;Avenida Brasil</td></tr><tr><td>724;Maria Oliveira;Rua Augusta</td></tr><tr><td>725;Ana Souza;Rua das Flores</td></tr><tr><td>726;Pedro Santos;Avenida Ipiranga</td></tr><tr><td>727;João Silva;Avenida Atlântica</td></tr><tr><td>728;Fernanda Lima;Rua XV de Novembro</td></tr><tr><td>729;João Silva;Avenida Paulista</td></tr><tr><td>730;Maria Oliveira;Rua das Palmeiras</td></tr><tr><td>731;Mariana Rocha;Avenida Brasil</td></tr><tr><td>732;Ana Souza;Praça da Sé</td></tr><tr><td>733;Mariana Rocha;Rua XV de Novembro</td></tr><tr><td>734;Paulo Almeida;Rua da Consolação</td></tr><tr><td>735;Fernanda Lima;Avenida Atlântica</td></tr><tr><td>736;Pedro Santos;Avenida Atlântica</td></tr><tr><td>737;Ana Souza;Rua Augusta</td></tr><tr><td>738;Fernanda Lima;Avenida Paulista</td></tr><tr><td>739;Lucas Fernandes;Avenida Ipiranga</td></tr><tr><td>740;Ana Souza;Rua das Palmeiras</td></tr><tr><td>741;Carlos Pereira;Rua das Palmeiras</td></tr><tr><td>742;Carlos Pereira;Avenida Brasil</td></tr><tr><td>743;Ana Souza;Avenida Paulista</td></tr><tr><td>744;João Silva;Avenida Paulista</td></tr><tr><td>745;Ana Souza;Praça da Sé</td></tr><tr><td>746;Mariana Rocha;Avenida Brasil</td></tr><tr><td>747;Maria Oliveira;Rua das Flores</td></tr><tr><td>748;João Silva;Avenida Atlântica</td></tr><tr><td>749;Mariana Rocha;Avenida Paulista</td></tr><tr><td>750;Maria Oliveira;Avenida Brasil</td></tr><tr><td>751;Carlos Pereira;Avenida Brasil</td></tr><tr><td>752;João Silva;Rua das Palmeiras</td></tr><tr><td>753;Lucas Fernandes;Avenida Paulista</td></tr><tr><td>754;Carlos Pereira;Praça da Sé</td></tr><tr><td>755;Maria Oliveira;Rua das Flores</td></tr><tr><td>756;Carlos Pereira;Avenida Paulista</td></tr><tr><td>757;João Silva;Rua das Flores</td></tr><tr><td>758;Juliana Costa;Avenida Ipiranga</td></tr><tr><td>759;Mariana Rocha;Rua das Flores</td></tr><tr><td>760;João Silva;Praça da Sé</td></tr><tr><td>761;Lucas Fernandes;Rua das Palmeiras</td></tr><tr><td>762;Lucas Fernandes;Rua da Consolação</td></tr><tr><td>763;Mariana Rocha;Rua Augusta</td></tr><tr><td>764;Fernanda Lima;Rua XV de Novembro</td></tr><tr><td>765;Fernanda Lima;Rua XV de Novembro</td></tr><tr><td>766;Juliana Costa;Rua das Flores</td></tr><tr><td>767;Ana Souza;Praça da Sé</td></tr><tr><td>768;Pedro Santos;Rua da Consolação</td></tr><tr><td>769;Paulo Almeida;Avenida Brasil</td></tr><tr><td>770;Paulo Almeida;Rua XV de Novembro</td></tr><tr><td>771;Fernanda Lima;Avenida Paulista</td></tr><tr><td>772;Mariana Rocha;Rua da Consolação</td></tr><tr><td>773;Pedro Santos;Avenida Paulista</td></tr><tr><td>774;Maria Oliveira;Avenida Ipiranga</td></tr><tr><td>775;João Silva;Avenida Ipiranga</td></tr><tr><td>776;Lucas Fernandes;Praça da Sé</td></tr><tr><td>777;Carlos Pereira;Avenida Ipiranga</td></tr><tr><td>778;Paulo Almeida;Rua das Flores</td></tr><tr><td>779;Lucas Fernandes;Rua XV de Novembro</td></tr><tr><td>780;Carlos Pereira;Rua XV de Novembro</td></tr><tr><td>781;João Silva;Avenida Paulista</td></tr><tr><td>782;Carlos Pereira;Avenida Brasil</td></tr><tr><td>783;João Silva;Rua das Flores</td></tr><tr><td>784;Maria Oliveira;Rua Augusta</td></tr><tr><td>785;Lucas Fernandes;Rua Augusta</td></tr><tr><td>786;Lucas Fernandes;Rua das Palmeiras</td></tr><tr><td>787;Pedro Santos;Rua das Flores</td></tr><tr><td>788;Ana Souza;Praça da Sé</td></tr><tr><td>789;João Silva;Rua da Consolação</td></tr><tr><td>790;Ana Souza;Rua da Consolação</td></tr><tr><td>791;Ana Souza;Rua Augusta</td></tr><tr><td>792;Lucas Fernandes;Rua Augusta</td></tr><tr><td>793;Fernanda Lima;Avenida Brasil</td></tr><tr><td>794;João Silva;Avenida Paulista</td></tr><tr><td>795;Lucas Fernandes;Rua das Palmeiras</td></tr><tr><td>796;Maria Oliveira;Rua das Flores</td></tr><tr><td>797;Carlos Pereira;Rua das Flores</td></tr><tr><td>798;Juliana Costa;Rua das Palmeiras</td></tr><tr><td>799;Lucas Fernandes;Rua Augusta</td></tr><tr><td>800;Pedro Santos;Rua XV de Novembro</td></tr><tr><td>801;Mariana Rocha;Rua da Consolação</td></tr><tr><td>802;Juliana Costa;Rua das Flores</td></tr><tr><td>803;Ana Souza;Praça da Sé</td></tr><tr><td>804;Carlos Pereira;Rua das Flores</td></tr><tr><td>805;Fernanda Lima;Rua da Consolação</td></tr><tr><td>806;Maria Oliveira;Avenida Ipiranga</td></tr><tr><td>807;Lucas Fernandes;Rua da Consolação</td></tr><tr><td>808;Pedro Santos;Avenida Atlântica</td></tr><tr><td>809;Lucas Fernandes;Avenida Brasil</td></tr><tr><td>810;Mariana Rocha;Rua Augusta</td></tr><tr><td>811;João Silva;Rua da Consolação</td></tr><tr><td>812;Carlos Pereira;Avenida Brasil</td></tr><tr><td>813;Ana Souza;Avenida Brasil</td></tr><tr><td>814;João Silva;Praça da Sé</td></tr><tr><td>815;Ana Souza;Avenida Ipiranga</td></tr><tr><td>816;Ana Souza;Praça da Sé</td></tr><tr><td>817;Mariana Rocha;Rua Augusta</td></tr><tr><td>818;Ana Souza;Rua das Flores</td></tr><tr><td>819;Carlos Pereira;Avenida Atlântica</td></tr><tr><td>820;Lucas Fernandes;Avenida Ipiranga</td></tr><tr><td>821;João Silva;Rua das Flores</td></tr><tr><td>822;Maria Oliveira;Avenida Brasil</td></tr><tr><td>823;Maria Oliveira;Rua das Palmeiras</td></tr><tr><td>824;Fernanda Lima;Rua das Flores</td></tr><tr><td>825;Mariana Rocha;Praça da Sé</td></tr><tr><td>826;João Silva;Avenida Atlântica</td></tr><tr><td>827;Fernanda Lima;Rua Augusta</td></tr><tr><td>828;Fernanda Lima;Avenida Atlântica</td></tr><tr><td>829;Carlos Pereira;Rua XV de Novembro</td></tr><tr><td>830;Maria Oliveira;Avenida Brasil</td></tr><tr><td>831;Mariana Rocha;Rua da Consolação</td></tr><tr><td>832;Carlos Pereira;Rua XV de Novembro</td></tr><tr><td>833;Mariana Rocha;Avenida Paulista</td></tr><tr><td>834;Lucas Fernandes;Rua das Palmeiras</td></tr><tr><td>835;Pedro Santos;Praça da Sé</td></tr><tr><td>836;Lucas Fernandes;Rua Augusta</td></tr><tr><td>837;João Silva;Rua XV de Novembro</td></tr><tr><td>838;Lucas Fernandes;Avenida Paulista</td></tr><tr><td>839;Fernanda Lima;Praça da Sé</td></tr><tr><td>840;Ana Souza;Rua da Consolação</td></tr><tr><td>841;Ana Souza;Rua da Consolação</td></tr><tr><td>842;Pedro Santos;Avenida Paulista</td></tr><tr><td>843;Mariana Rocha;Avenida Paulista</td></tr><tr><td>844;Maria Oliveira;Rua Augusta</td></tr><tr><td>845;Paulo Almeida;Rua das Flores</td></tr><tr><td>846;Mariana Rocha;Praça da Sé</td></tr><tr><td>847;Juliana Costa;Rua Augusta</td></tr><tr><td>848;João Silva;Avenida Ipiranga</td></tr><tr><td>849;Mariana Rocha;Rua da Consolação</td></tr><tr><td>850;Fernanda Lima;Rua Augusta</td></tr><tr><td>851;Mariana Rocha;Avenida Brasil</td></tr><tr><td>852;João Silva;Rua das Flores</td></tr><tr><td>853;Mariana Rocha;Rua XV de Novembro</td></tr><tr><td>854;Maria Oliveira;Avenida Ipiranga</td></tr><tr><td>855;Juliana Costa;Avenida Ipiranga</td></tr><tr><td>856;Paulo Almeida;Avenida Brasil</td></tr><tr><td>857;Carlos Pereira;Avenida Ipiranga</td></tr><tr><td>858;Carlos Pereira;Praça da Sé</td></tr><tr><td>859;Lucas Fernandes;Praça da Sé</td></tr><tr><td>860;Maria Oliveira;Avenida Ipiranga</td></tr><tr><td>861;Lucas Fernandes;Rua XV de Novembro</td></tr><tr><td>862;Pedro Santos;Rua XV de Novembro</td></tr><tr><td>863;Pedro Santos;Praça da Sé</td></tr><tr><td>864;Pedro Santos;Rua das Palmeiras</td></tr><tr><td>865;Paulo Almeida;Avenida Paulista</td></tr><tr><td>866;Ana Souza;Rua da Consolação</td></tr><tr><td>867;Ana Souza;Avenida Ipiranga</td></tr><tr><td>868;Juliana Costa;Avenida Brasil</td></tr><tr><td>869;Maria Oliveira;Avenida Ipiranga</td></tr><tr><td>870;Fernanda Lima;Rua das Flores</td></tr><tr><td>871;Paulo Almeida;Rua das Flores</td></tr><tr><td>872;Paulo Almeida;Rua das Flores</td></tr><tr><td>873;Lucas Fernandes;Avenida Atlântica</td></tr><tr><td>874;Paulo Almeida;Rua XV de Novembro</td></tr><tr><td>875;Lucas Fernandes;Avenida Brasil</td></tr><tr><td>876;Lucas Fernandes;Rua das Palmeiras</td></tr><tr><td>877;Pedro Santos;Rua das Palmeiras</td></tr><tr><td>878;Mariana Rocha;Avenida Ipiranga</td></tr><tr><td>879;Mariana Rocha;Rua das Palmeiras</td></tr><tr><td>880;Mariana Rocha;Avenida Brasil</td></tr><tr><td>881;Juliana Costa;Rua XV de Novembro</td></tr><tr><td>882;Carlos Pereira;Rua Augusta</td></tr><tr><td>883;João Silva;Rua das Palmeiras</td></tr><tr><td>884;Carlos Pereira;Rua XV de Novembro</td></tr><tr><td>885;Carlos Pereira;Rua das Palmeiras</td></tr><tr><td>886;Fernanda Lima;Rua Augusta</td></tr><tr><td>887;Fernanda Lima;Rua XV de Novembro</td></tr><tr><td>888;Paulo Almeida;Avenida Ipiranga</td></tr><tr><td>889;Paulo Almeida;Rua XV de Novembro</td></tr><tr><td>890;Paulo Almeida;Rua Augusta</td></tr><tr><td>891;Maria Oliveira;Rua das Flores</td></tr><tr><td>892;Maria Oliveira;Praça da Sé</td></tr><tr><td>893;Carlos Pereira;Avenida Paulista</td></tr><tr><td>894;Maria Oliveira;Rua Augusta</td></tr><tr><td>895;Maria Oliveira;Rua XV de Novembro</td></tr><tr><td>896;João Silva;Rua das Flores</td></tr><tr><td>897;Paulo Almeida;Avenida Atlântica</td></tr><tr><td>898;Paulo Almeida;Praça da Sé</td></tr><tr><td>899;Lucas Fernandes;Rua Augusta</td></tr><tr><td>900;João Silva;Avenida Brasil</td></tr><tr><td>901;Carlos Pereira;Rua da Consolação</td></tr><tr><td>902;Fernanda Lima;Avenida Ipiranga</td></tr><tr><td>903;Lucas Fernandes;Avenida Atlântica</td></tr><tr><td>904;Ana Souza;Avenida Ipiranga</td></tr><tr><td>905;Maria Oliveira;Rua das Palmeiras</td></tr><tr><td>906;Maria Oliveira;Rua Augusta</td></tr><tr><td>907;Pedro Santos;Rua XV de Novembro</td></tr><tr><td>908;Fernanda Lima;Rua das Palmeiras</td></tr><tr><td>909;Mariana Rocha;Rua XV de Novembro</td></tr><tr><td>910;Carlos Pereira;Rua das Palmeiras</td></tr><tr><td>911;Pedro Santos;Praça da Sé</td></tr><tr><td>912;Juliana Costa;Rua das Flores</td></tr><tr><td>913;Juliana Costa;Rua das Flores</td></tr><tr><td>914;Paulo Almeida;Rua das Flores</td></tr><tr><td>915;Carlos Pereira;Rua XV de Novembro</td></tr><tr><td>916;Juliana Costa;Avenida Paulista</td></tr><tr><td>917;Carlos Pereira;Rua da Consolação</td></tr><tr><td>918;Ana Souza;Rua XV de Novembro</td></tr><tr><td>919;Lucas Fernandes;Rua das Palmeiras</td></tr><tr><td>920;Pedro Santos;Praça da Sé</td></tr><tr><td>921;Carlos Pereira;Avenida Ipiranga</td></tr><tr><td>922;Lucas Fernandes;Avenida Brasil</td></tr><tr><td>923;Ana Souza;Rua Augusta</td></tr><tr><td>924;Carlos Pereira;Avenida Ipiranga</td></tr><tr><td>925;João Silva;Rua da Consolação</td></tr><tr><td>926;João Silva;Rua das Flores</td></tr><tr><td>927;Juliana Costa;Avenida Ipiranga</td></tr><tr><td>928;Juliana Costa;Avenida Paulista</td></tr><tr><td>929;Carlos Pereira;Rua das Palmeiras</td></tr><tr><td>930;Juliana Costa;Rua das Flores</td></tr><tr><td>931;Juliana Costa;Rua das Palmeiras</td></tr><tr><td>932;Fernanda Lima;Rua da Consolação</td></tr><tr><td>933;Maria Oliveira;Rua XV de Novembro</td></tr><tr><td>934;Ana Souza;Rua da Consolação</td></tr><tr><td>935;João Silva;Rua da Consolação</td></tr><tr><td>936;Pedro Santos;Avenida Brasil</td></tr><tr><td>937;Maria Oliveira;Rua das Palmeiras</td></tr><tr><td>938;Fernanda Lima;Rua Augusta</td></tr><tr><td>939;João Silva;Avenida Brasil</td></tr><tr><td>940;Pedro Santos;Rua das Flores</td></tr><tr><td>941;Ana Souza;Rua das Palmeiras</td></tr><tr><td>942;Paulo Almeida;Rua das Palmeiras</td></tr><tr><td>943;Juliana Costa;Rua Augusta</td></tr><tr><td>944;Pedro Santos;Avenida Ipiranga</td></tr><tr><td>945;Juliana Costa;Rua Augusta</td></tr><tr><td>946;Juliana Costa;Avenida Brasil</td></tr><tr><td>947;Paulo Almeida;Avenida Atlântica</td></tr><tr><td>948;Ana Souza;Avenida Atlântica</td></tr><tr><td>949;Pedro Santos;Avenida Paulista</td></tr><tr><td>950;Lucas Fernandes;Avenida Paulista</td></tr><tr><td>951;Lucas Fernandes;Avenida Atlântica</td></tr><tr><td>952;Maria Oliveira;Rua das Palmeiras</td></tr><tr><td>953;Carlos Pereira;Rua das Palmeiras</td></tr><tr><td>954;Maria Oliveira;Rua das Palmeiras</td></tr><tr><td>955;Fernanda Lima;Avenida Atlântica</td></tr><tr><td>956;Mariana Rocha;Avenida Brasil</td></tr><tr><td>957;Paulo Almeida;Avenida Brasil</td></tr><tr><td>958;Pedro Santos;Praça da Sé</td></tr><tr><td>959;Pedro Santos;Avenida Brasil</td></tr><tr><td>960;Mariana Rocha;Avenida Brasil</td></tr><tr><td>961;Lucas Fernandes;Rua da Consolação</td></tr><tr><td>962;Ana Souza;Avenida Brasil</td></tr><tr><td>963;Carlos Pereira;Rua XV de Novembro</td></tr><tr><td>964;Ana Souza;Rua da Consolação</td></tr><tr><td>965;Ana Souza;Avenida Atlântica</td></tr><tr><td>966;Juliana Costa;Avenida Paulista</td></tr><tr><td>967;João Silva;Avenida Paulista</td></tr><tr><td>968;João Silva;Avenida Ipiranga</td></tr><tr><td>969;Maria Oliveira;Avenida Atlântica</td></tr><tr><td>970;Ana Souza;Praça da Sé</td></tr><tr><td>971;Ana Souza;Rua Augusta</td></tr><tr><td>972;Pedro Santos;Avenida Atlântica</td></tr><tr><td>973;João Silva;Avenida Brasil</td></tr><tr><td>974;Juliana Costa;Avenida Paulista</td></tr><tr><td>975;Lucas Fernandes;Rua das Flores</td></tr><tr><td>976;Pedro Santos;Avenida Brasil</td></tr><tr><td>977;Ana Souza;Rua das Palmeiras</td></tr><tr><td>978;Ana Souza;Avenida Paulista</td></tr><tr><td>979;Fernanda Lima;Avenida Paulista</td></tr><tr><td>980;João Silva;Avenida Paulista</td></tr><tr><td>981;Paulo Almeida;Rua da Consolação</td></tr><tr><td>982;Pedro Santos;Avenida Paulista</td></tr><tr><td>983;Maria Oliveira;Avenida Ipiranga</td></tr><tr><td>984;João Silva;Rua das Flores</td></tr><tr><td>985;Mariana Rocha;Praça da Sé</td></tr><tr><td>986;Mariana Rocha;Rua das Flores</td></tr><tr><td>987;Lucas Fernandes;Avenida Brasil</td></tr><tr><td>988;João Silva;Avenida Brasil</td></tr><tr><td>989;Mariana Rocha;Avenida Atlântica</td></tr><tr><td>990;Maria Oliveira;Avenida Atlântica</td></tr><tr><td>991;Carlos Pereira;Rua das Flores</td></tr><tr><td>992;Mariana Rocha;Avenida Brasil</td></tr><tr><td>993;Lucas Fernandes;Praça da Sé</td></tr><tr><td>994;Paulo Almeida;Praça da Sé</td></tr><tr><td>995;Juliana Costa;Rua XV de Novembro</td></tr><tr><td>996;Pedro Santos;Avenida Brasil</td></tr><tr><td>997;Mariana Rocha;Avenida Brasil</td></tr><tr><td>998;João Silva;Avenida Ipiranga</td></tr><tr><td>999;Mariana Rocha;Avenida Brasil</td></tr><tr><td>1000;Fernanda Lima;Avenida Paulista</td></tr><tr><td>1001;Amanda Silva Santos;Avenida Ipiranga</td></tr></tbody></table></div>"
      ]
     },
     "metadata": {
      "application/vnd.databricks.v1+output": {
       "addedWidgets": {},
       "aggData": [],
       "aggError": "",
       "aggOverflow": false,
       "aggSchema": [],
       "aggSeriesLimitReached": false,
       "aggType": "",
       "arguments": {},
       "columnCustomDisplayInfos": {},
       "data": [
        [
         "Número da Conta;Nome do Cliente;Endereço;Telefone;Email"
        ],
        [
         "1;Fernanda Lima;Rua da Consolação"
        ],
        [
         "2;Juliana Costa;Rua Augusta"
        ],
        [
         "3;Pedro Santos;Rua da Consolação"
        ],
        [
         "4;Fernanda Lima;Rua Augusta"
        ],
        [
         "5;Lucas Fernandes;Rua da Consolação"
        ],
        [
         "6;Carlos Pereira;Rua XV de Novembro"
        ],
        [
         "7;Juliana Costa;Avenida Paulista"
        ],
        [
         "8;Carlos Pereira;Avenida Paulista"
        ],
        [
         "9;Ana Souza;Avenida Atlântica"
        ],
        [
         "10;João Silva;Avenida Brasil"
        ],
        [
         "11;Lucas Fernandes;Rua da Consolação"
        ],
        [
         "12;Carlos Pereira;Rua das Flores"
        ],
        [
         "13;Mariana Rocha;Rua XV de Novembro"
        ],
        [
         "14;João Silva;Avenida Ipiranga"
        ],
        [
         "15;Carlos Pereira;Avenida Brasil"
        ],
        [
         "16;Lucas Fernandes;Avenida Ipiranga"
        ],
        [
         "17;João Silva;Rua das Flores"
        ],
        [
         "18;João Silva;Avenida Atlântica"
        ],
        [
         "19;Juliana Costa;Rua XV de Novembro"
        ],
        [
         "20;Carlos Pereira;Rua das Palmeiras"
        ],
        [
         "21;Carlos Pereira;Rua da Consolação"
        ],
        [
         "22;Lucas Fernandes;Avenida Paulista"
        ],
        [
         "23;Mariana Rocha;Avenida Brasil"
        ],
        [
         "24;Fernanda Lima;Rua das Flores"
        ],
        [
         "25;Juliana Costa;Avenida Atlântica"
        ],
        [
         "26;Carlos Pereira;Praça da Sé"
        ],
        [
         "27;Carlos Pereira;Avenida Brasil"
        ],
        [
         "28;Ana Souza;Avenida Paulista"
        ],
        [
         "29;Maria Oliveira;Avenida Atlântica"
        ],
        [
         "30;Carlos Pereira;Rua da Consolação"
        ],
        [
         "31;Juliana Costa;Avenida Paulista"
        ],
        [
         "32;Carlos Pereira;Avenida Paulista"
        ],
        [
         "33;Maria Oliveira;Avenida Brasil"
        ],
        [
         "34;Carlos Pereira;Avenida Paulista"
        ],
        [
         "35;Maria Oliveira;Avenida Ipiranga"
        ],
        [
         "36;João Silva;Rua das Flores"
        ],
        [
         "37;Mariana Rocha;Rua Augusta"
        ],
        [
         "38;Carlos Pereira;Rua da Consolação"
        ],
        [
         "39;Paulo Almeida;Rua Augusta"
        ],
        [
         "40;Maria Oliveira;Rua das Flores"
        ],
        [
         "41;Juliana Costa;Rua Augusta"
        ],
        [
         "42;Ana Souza;Avenida Brasil"
        ],
        [
         "43;Fernanda Lima;Rua das Flores"
        ],
        [
         "44;Paulo Almeida;Rua das Flores"
        ],
        [
         "45;Fernanda Lima;Avenida Atlântica"
        ],
        [
         "46;Fernanda Lima;Avenida Atlântica"
        ],
        [
         "47;João Silva;Avenida Ipiranga"
        ],
        [
         "48;Maria Oliveira;Rua da Consolação"
        ],
        [
         "49;Maria Oliveira;Rua das Palmeiras"
        ],
        [
         "50;Ana Souza;Avenida Brasil"
        ],
        [
         "51;Ana Souza;Avenida Ipiranga"
        ],
        [
         "52;Mariana Rocha;Rua das Flores"
        ],
        [
         "53;Fernanda Lima;Rua da Consolação"
        ],
        [
         "54;Juliana Costa;Avenida Brasil"
        ],
        [
         "55;Ana Souza;Rua Augusta"
        ],
        [
         "56;Fernanda Lima;Rua das Flores"
        ],
        [
         "57;Carlos Pereira;Rua Augusta"
        ],
        [
         "58;Maria Oliveira;Rua Augusta"
        ],
        [
         "59;Lucas Fernandes;Praça da Sé"
        ],
        [
         "60;Maria Oliveira;Avenida Atlântica"
        ],
        [
         "61;Maria Oliveira;Rua Augusta"
        ],
        [
         "62;Fernanda Lima;Rua Augusta"
        ],
        [
         "63;Mariana Rocha;Avenida Paulista"
        ],
        [
         "64;Mariana Rocha;Rua das Flores"
        ],
        [
         "65;Mariana Rocha;Rua da Consolação"
        ],
        [
         "66;João Silva;Rua das Palmeiras"
        ],
        [
         "67;Maria Oliveira;Rua das Palmeiras"
        ],
        [
         "68;Paulo Almeida;Avenida Atlântica"
        ],
        [
         "69;Paulo Almeida;Avenida Ipiranga"
        ],
        [
         "70;Fernanda Lima;Avenida Ipiranga"
        ],
        [
         "71;Mariana Rocha;Praça da Sé"
        ],
        [
         "72;Ana Souza;Rua das Flores"
        ],
        [
         "73;Juliana Costa;Avenida Brasil"
        ],
        [
         "74;Carlos Pereira;Rua das Palmeiras"
        ],
        [
         "75;Paulo Almeida;Rua XV de Novembro"
        ],
        [
         "76;Lucas Fernandes;Avenida Atlântica"
        ],
        [
         "77;Maria Oliveira;Avenida Paulista"
        ],
        [
         "78;Ana Souza;Rua da Consolação"
        ],
        [
         "79;Paulo Almeida;Avenida Atlântica"
        ],
        [
         "80;Maria Oliveira;Praça da Sé"
        ],
        [
         "81;Mariana Rocha;Rua XV de Novembro"
        ],
        [
         "82;Juliana Costa;Rua XV de Novembro"
        ],
        [
         "83;Paulo Almeida;Rua das Palmeiras"
        ],
        [
         "84;Paulo Almeida;Rua Augusta"
        ],
        [
         "85;Juliana Costa;Praça da Sé"
        ],
        [
         "86;Juliana Costa;Rua XV de Novembro"
        ],
        [
         "87;Maria Oliveira;Avenida Ipiranga"
        ],
        [
         "88;Ana Souza;Avenida Ipiranga"
        ],
        [
         "89;Mariana Rocha;Rua XV de Novembro"
        ],
        [
         "90;Carlos Pereira;Praça da Sé"
        ],
        [
         "91;Fernanda Lima;Avenida Atlântica"
        ],
        [
         "92;Maria Oliveira;Avenida Ipiranga"
        ],
        [
         "93;João Silva;Rua das Flores"
        ],
        [
         "94;João Silva;Avenida Brasil"
        ],
        [
         "95;João Silva;Avenida Atlântica"
        ],
        [
         "96;Juliana Costa;Rua XV de Novembro"
        ],
        [
         "97;Maria Oliveira;Rua Augusta"
        ],
        [
         "98;Pedro Santos;Rua das Palmeiras"
        ],
        [
         "99;Maria Oliveira;Rua das Flores"
        ],
        [
         "100;Lucas Fernandes;Rua XV de Novembro"
        ],
        [
         "101;Maria Oliveira;Avenida Ipiranga"
        ],
        [
         "102;João Silva;Rua XV de Novembro"
        ],
        [
         "103;João Silva;Avenida Paulista"
        ],
        [
         "104;Maria Oliveira;Rua das Palmeiras"
        ],
        [
         "105;João Silva;Rua das Palmeiras"
        ],
        [
         "106;Ana Souza;Rua da Consolação"
        ],
        [
         "107;Lucas Fernandes;Avenida Ipiranga"
        ],
        [
         "108;Pedro Santos;Rua das Palmeiras"
        ],
        [
         "109;Paulo Almeida;Rua das Palmeiras"
        ],
        [
         "110;Fernanda Lima;Rua da Consolação"
        ],
        [
         "111;Lucas Fernandes;Rua Augusta"
        ],
        [
         "112;Maria Oliveira;Rua das Palmeiras"
        ],
        [
         "113;João Silva;Rua Augusta"
        ],
        [
         "114;Juliana Costa;Avenida Paulista"
        ],
        [
         "115;Lucas Fernandes;Avenida Paulista"
        ],
        [
         "116;Maria Oliveira;Praça da Sé"
        ],
        [
         "117;João Silva;Avenida Ipiranga"
        ],
        [
         "118;Fernanda Lima;Avenida Paulista"
        ],
        [
         "119;Juliana Costa;Rua da Consolação"
        ],
        [
         "120;João Silva;Praça da Sé"
        ],
        [
         "121;Ana Souza;Rua Augusta"
        ],
        [
         "122;Paulo Almeida;Rua das Flores"
        ],
        [
         "123;Juliana Costa;Avenida Atlântica"
        ],
        [
         "124;João Silva;Avenida Paulista"
        ],
        [
         "125;Lucas Fernandes;Praça da Sé"
        ],
        [
         "126;Maria Oliveira;Rua da Consolação"
        ],
        [
         "127;Paulo Almeida;Avenida Brasil"
        ],
        [
         "128;Lucas Fernandes;Rua Augusta"
        ],
        [
         "129;Carlos Pereira;Rua Augusta"
        ],
        [
         "130;Mariana Rocha;Praça da Sé"
        ],
        [
         "131;Juliana Costa;Rua das Flores"
        ],
        [
         "132;Lucas Fernandes;Rua das Flores"
        ],
        [
         "133;Paulo Almeida;Rua das Palmeiras"
        ],
        [
         "134;Mariana Rocha;Avenida Brasil"
        ],
        [
         "135;Juliana Costa;Rua das Palmeiras"
        ],
        [
         "136;Paulo Almeida;Avenida Ipiranga"
        ],
        [
         "137;João Silva;Rua das Palmeiras"
        ],
        [
         "138;Paulo Almeida;Avenida Paulista"
        ],
        [
         "139;João Silva;Avenida Brasil"
        ],
        [
         "140;Pedro Santos;Rua das Palmeiras"
        ],
        [
         "141;Paulo Almeida;Praça da Sé"
        ],
        [
         "142;Carlos Pereira;Avenida Ipiranga"
        ],
        [
         "143;Pedro Santos;Rua das Flores"
        ],
        [
         "144;Juliana Costa;Avenida Paulista"
        ],
        [
         "145;Maria Oliveira;Avenida Brasil"
        ],
        [
         "146;Mariana Rocha;Rua Augusta"
        ],
        [
         "147;Carlos Pereira;Avenida Atlântica"
        ],
        [
         "148;Carlos Pereira;Rua XV de Novembro"
        ],
        [
         "149;Fernanda Lima;Rua da Consolação"
        ],
        [
         "150;Carlos Pereira;Rua das Palmeiras"
        ],
        [
         "151;João Silva;Rua da Consolação"
        ],
        [
         "152;Fernanda Lima;Rua das Palmeiras"
        ],
        [
         "153;Carlos Pereira;Avenida Paulista"
        ],
        [
         "154;Carlos Pereira;Praça da Sé"
        ],
        [
         "155;Mariana Rocha;Avenida Atlântica"
        ],
        [
         "156;Ana Souza;Rua das Flores"
        ],
        [
         "157;Pedro Santos;Avenida Paulista"
        ],
        [
         "158;Mariana Rocha;Avenida Ipiranga"
        ],
        [
         "159;Pedro Santos;Avenida Ipiranga"
        ],
        [
         "160;Paulo Almeida;Avenida Ipiranga"
        ],
        [
         "161;Mariana Rocha;Praça da Sé"
        ],
        [
         "162;Paulo Almeida;Avenida Brasil"
        ],
        [
         "163;Ana Souza;Rua das Palmeiras"
        ],
        [
         "164;Lucas Fernandes;Rua da Consolação"
        ],
        [
         "165;Paulo Almeida;Avenida Ipiranga"
        ],
        [
         "166;Fernanda Lima;Avenida Ipiranga"
        ],
        [
         "167;Pedro Santos;Avenida Brasil"
        ],
        [
         "168;Mariana Rocha;Avenida Paulista"
        ],
        [
         "169;Ana Souza;Avenida Atlântica"
        ],
        [
         "170;Ana Souza;Avenida Brasil"
        ],
        [
         "171;Carlos Pereira;Rua XV de Novembro"
        ],
        [
         "172;Maria Oliveira;Rua Augusta"
        ],
        [
         "173;Lucas Fernandes;Avenida Ipiranga"
        ],
        [
         "174;Mariana Rocha;Avenida Ipiranga"
        ],
        [
         "175;Juliana Costa;Rua Augusta"
        ],
        [
         "176;Paulo Almeida;Rua da Consolação"
        ],
        [
         "177;Juliana Costa;Rua das Palmeiras"
        ],
        [
         "178;Maria Oliveira;Rua Augusta"
        ],
        [
         "179;Mariana Rocha;Rua das Flores"
        ],
        [
         "180;Juliana Costa;Avenida Brasil"
        ],
        [
         "181;Mariana Rocha;Avenida Atlântica"
        ],
        [
         "182;Mariana Rocha;Avenida Atlântica"
        ],
        [
         "183;Lucas Fernandes;Rua XV de Novembro"
        ],
        [
         "184;Mariana Rocha;Rua da Consolação"
        ],
        [
         "185;Paulo Almeida;Rua Augusta"
        ],
        [
         "186;Maria Oliveira;Avenida Ipiranga"
        ],
        [
         "187;Paulo Almeida;Rua da Consolação"
        ],
        [
         "188;Pedro Santos;Avenida Paulista"
        ],
        [
         "189;Juliana Costa;Avenida Ipiranga"
        ],
        [
         "190;Carlos Pereira;Rua das Flores"
        ],
        [
         "191;Fernanda Lima;Praça da Sé"
        ],
        [
         "192;Ana Souza;Rua das Palmeiras"
        ],
        [
         "193;Maria Oliveira;Rua das Flores"
        ],
        [
         "194;Mariana Rocha;Rua XV de Novembro"
        ],
        [
         "195;Paulo Almeida;Avenida Paulista"
        ],
        [
         "196;Carlos Pereira;Avenida Ipiranga"
        ],
        [
         "197;Paulo Almeida;Avenida Ipiranga"
        ],
        [
         "198;Mariana Rocha;Avenida Paulista"
        ],
        [
         "199;Paulo Almeida;Rua da Consolação"
        ],
        [
         "200;Pedro Santos;Rua Augusta"
        ],
        [
         "201;Pedro Santos;Rua Augusta"
        ],
        [
         "202;Pedro Santos;Praça da Sé"
        ],
        [
         "203;Fernanda Lima;Avenida Brasil"
        ],
        [
         "204;Juliana Costa;Avenida Paulista"
        ],
        [
         "205;Mariana Rocha;Praça da Sé"
        ],
        [
         "206;Ana Souza;Avenida Atlântica"
        ],
        [
         "207;Fernanda Lima;Avenida Paulista"
        ],
        [
         "208;Carlos Pereira;Avenida Atlântica"
        ],
        [
         "209;Fernanda Lima;Rua das Palmeiras"
        ],
        [
         "210;Maria Oliveira;Avenida Ipiranga"
        ],
        [
         "211;Lucas Fernandes;Avenida Atlântica"
        ],
        [
         "212;Juliana Costa;Rua XV de Novembro"
        ],
        [
         "213;Mariana Rocha;Avenida Ipiranga"
        ],
        [
         "214;Paulo Almeida;Rua das Flores"
        ],
        [
         "215;Paulo Almeida;Rua das Palmeiras"
        ],
        [
         "216;Paulo Almeida;Avenida Atlântica"
        ],
        [
         "217;Juliana Costa;Rua Augusta"
        ],
        [
         "218;Lucas Fernandes;Avenida Brasil"
        ],
        [
         "219;Lucas Fernandes;Rua Augusta"
        ],
        [
         "220;Pedro Santos;Praça da Sé"
        ],
        [
         "221;Lucas Fernandes;Rua das Palmeiras"
        ],
        [
         "222;João Silva;Praça da Sé"
        ],
        [
         "223;Paulo Almeida;Rua das Flores"
        ],
        [
         "224;Carlos Pereira;Rua da Consolação"
        ],
        [
         "225;Lucas Fernandes;Rua da Consolação"
        ],
        [
         "226;Ana Souza;Avenida Atlântica"
        ],
        [
         "227;Ana Souza;Avenida Paulista"
        ],
        [
         "228;João Silva;Praça da Sé"
        ],
        [
         "229;João Silva;Avenida Atlântica"
        ],
        [
         "230;Paulo Almeida;Rua da Consolação"
        ],
        [
         "231;João Silva;Rua das Flores"
        ],
        [
         "232;Fernanda Lima;Rua das Flores"
        ],
        [
         "233;Ana Souza;Avenida Atlântica"
        ],
        [
         "234;Paulo Almeida;Praça da Sé"
        ],
        [
         "235;Pedro Santos;Rua da Consolação"
        ],
        [
         "236;Juliana Costa;Rua da Consolação"
        ],
        [
         "237;Ana Souza;Rua da Consolação"
        ],
        [
         "238;Lucas Fernandes;Rua das Flores"
        ],
        [
         "239;Fernanda Lima;Avenida Ipiranga"
        ],
        [
         "240;Paulo Almeida;Avenida Brasil"
        ],
        [
         "241;João Silva;Rua Augusta"
        ],
        [
         "242;Carlos Pereira;Avenida Brasil"
        ],
        [
         "243;Carlos Pereira;Rua das Flores"
        ],
        [
         "244;Mariana Rocha;Rua das Flores"
        ],
        [
         "245;Paulo Almeida;Praça da Sé"
        ],
        [
         "246;Paulo Almeida;Praça da Sé"
        ],
        [
         "247;Carlos Pereira;Rua Augusta"
        ],
        [
         "248;Mariana Rocha;Avenida Paulista"
        ],
        [
         "249;Maria Oliveira;Rua da Consolação"
        ],
        [
         "250;Lucas Fernandes;Rua Augusta"
        ],
        [
         "251;Juliana Costa;Rua da Consolação"
        ],
        [
         "252;Pedro Santos;Avenida Paulista"
        ],
        [
         "253;João Silva;Rua das Flores"
        ],
        [
         "254;João Silva;Avenida Brasil"
        ],
        [
         "255;Maria Oliveira;Avenida Atlântica"
        ],
        [
         "256;Fernanda Lima;Avenida Ipiranga"
        ],
        [
         "257;Juliana Costa;Rua da Consolação"
        ],
        [
         "258;Ana Souza;Rua das Palmeiras"
        ],
        [
         "259;Pedro Santos;Praça da Sé"
        ],
        [
         "260;Paulo Almeida;Rua da Consolação"
        ],
        [
         "261;Lucas Fernandes;Rua da Consolação"
        ],
        [
         "262;Paulo Almeida;Avenida Atlântica"
        ],
        [
         "263;Carlos Pereira;Avenida Atlântica"
        ],
        [
         "264;Ana Souza;Rua Augusta"
        ],
        [
         "265;Juliana Costa;Avenida Atlântica"
        ],
        [
         "266;Paulo Almeida;Avenida Atlântica"
        ],
        [
         "267;Maria Oliveira;Avenida Atlântica"
        ],
        [
         "268;Mariana Rocha;Avenida Atlântica"
        ],
        [
         "269;João Silva;Rua da Consolação"
        ],
        [
         "270;Fernanda Lima;Avenida Atlântica"
        ],
        [
         "271;Lucas Fernandes;Avenida Paulista"
        ],
        [
         "272;João Silva;Rua XV de Novembro"
        ],
        [
         "273;Pedro Santos;Praça da Sé"
        ],
        [
         "274;Lucas Fernandes;Avenida Paulista"
        ],
        [
         "275;Fernanda Lima;Rua da Consolação"
        ],
        [
         "276;Carlos Pereira;Rua das Palmeiras"
        ],
        [
         "277;Paulo Almeida;Avenida Paulista"
        ],
        [
         "278;João Silva;Rua das Palmeiras"
        ],
        [
         "279;Maria Oliveira;Rua XV de Novembro"
        ],
        [
         "280;Pedro Santos;Avenida Brasil"
        ],
        [
         "281;Maria Oliveira;Rua da Consolação"
        ],
        [
         "282;Mariana Rocha;Rua da Consolação"
        ],
        [
         "283;Lucas Fernandes;Rua das Palmeiras"
        ],
        [
         "284;Juliana Costa;Avenida Paulista"
        ],
        [
         "285;João Silva;Avenida Atlântica"
        ],
        [
         "286;Carlos Pereira;Rua da Consolação"
        ],
        [
         "287;João Silva;Avenida Paulista"
        ],
        [
         "288;Juliana Costa;Avenida Brasil"
        ],
        [
         "289;Maria Oliveira;Avenida Atlântica"
        ],
        [
         "290;Maria Oliveira;Avenida Paulista"
        ],
        [
         "291;Lucas Fernandes;Rua da Consolação"
        ],
        [
         "292;Juliana Costa;Rua das Palmeiras"
        ],
        [
         "293;João Silva;Rua das Flores"
        ],
        [
         "294;Fernanda Lima;Rua das Palmeiras"
        ],
        [
         "295;Ana Souza;Rua das Flores"
        ],
        [
         "296;João Silva;Avenida Ipiranga"
        ],
        [
         "297;Carlos Pereira;Rua da Consolação"
        ],
        [
         "298;Juliana Costa;Rua das Palmeiras"
        ],
        [
         "299;Pedro Santos;Rua da Consolação"
        ],
        [
         "300;João Silva;Praça da Sé"
        ],
        [
         "301;Paulo Almeida;Rua XV de Novembro"
        ],
        [
         "302;Mariana Rocha;Rua Augusta"
        ],
        [
         "303;Maria Oliveira;Avenida Ipiranga"
        ],
        [
         "304;Ana Souza;Rua XV de Novembro"
        ],
        [
         "305;Mariana Rocha;Rua das Palmeiras"
        ],
        [
         "306;Juliana Costa;Avenida Ipiranga"
        ],
        [
         "307;Ana Souza;Rua da Consolação"
        ],
        [
         "308;Pedro Santos;Rua das Flores"
        ],
        [
         "309;Ana Souza;Rua das Flores"
        ],
        [
         "310;Fernanda Lima;Avenida Brasil"
        ],
        [
         "311;Paulo Almeida;Rua Augusta"
        ],
        [
         "312;Ana Souza;Rua das Flores"
        ],
        [
         "313;Fernanda Lima;Rua XV de Novembro"
        ],
        [
         "314;Maria Oliveira;Avenida Atlântica"
        ],
        [
         "315;João Silva;Rua das Flores"
        ],
        [
         "316;Ana Souza;Praça da Sé"
        ],
        [
         "317;Mariana Rocha;Praça da Sé"
        ],
        [
         "318;Fernanda Lima;Avenida Paulista"
        ],
        [
         "319;João Silva;Rua das Palmeiras"
        ],
        [
         "320;Paulo Almeida;Rua Augusta"
        ],
        [
         "321;Pedro Santos;Praça da Sé"
        ],
        [
         "322;Lucas Fernandes;Rua das Flores"
        ],
        [
         "323;Maria Oliveira;Rua da Consolação"
        ],
        [
         "324;Pedro Santos;Rua das Palmeiras"
        ],
        [
         "325;Paulo Almeida;Rua das Flores"
        ],
        [
         "326;Mariana Rocha;Rua Augusta"
        ],
        [
         "327;Lucas Fernandes;Avenida Atlântica"
        ],
        [
         "328;Pedro Santos;Rua XV de Novembro"
        ],
        [
         "329;Juliana Costa;Praça da Sé"
        ],
        [
         "330;Fernanda Lima;Praça da Sé"
        ],
        [
         "331;Juliana Costa;Avenida Brasil"
        ],
        [
         "332;Carlos Pereira;Avenida Atlântica"
        ],
        [
         "333;João Silva;Rua XV de Novembro"
        ],
        [
         "334;Paulo Almeida;Rua da Consolação"
        ],
        [
         "335;Fernanda Lima;Rua XV de Novembro"
        ],
        [
         "336;Ana Souza;Avenida Atlântica"
        ],
        [
         "337;Mariana Rocha;Avenida Brasil"
        ],
        [
         "338;João Silva;Avenida Brasil"
        ],
        [
         "339;Maria Oliveira;Avenida Ipiranga"
        ],
        [
         "340;Lucas Fernandes;Avenida Atlântica"
        ],
        [
         "341;Fernanda Lima;Rua da Consolação"
        ],
        [
         "342;Carlos Pereira;Avenida Paulista"
        ],
        [
         "343;João Silva;Rua da Consolação"
        ],
        [
         "344;Mariana Rocha;Rua das Flores"
        ],
        [
         "345;Paulo Almeida;Avenida Brasil"
        ],
        [
         "346;João Silva;Rua das Flores"
        ],
        [
         "347;Pedro Santos;Rua Augusta"
        ],
        [
         "348;Fernanda Lima;Rua da Consolação"
        ],
        [
         "349;Lucas Fernandes;Rua XV de Novembro"
        ],
        [
         "350;Lucas Fernandes;Avenida Paulista"
        ],
        [
         "351;Pedro Santos;Avenida Ipiranga"
        ],
        [
         "352;Lucas Fernandes;Rua das Palmeiras"
        ],
        [
         "353;Pedro Santos;Praça da Sé"
        ],
        [
         "354;Ana Souza;Avenida Brasil"
        ],
        [
         "355;Carlos Pereira;Avenida Ipiranga"
        ],
        [
         "356;Juliana Costa;Avenida Brasil"
        ],
        [
         "357;Lucas Fernandes;Avenida Ipiranga"
        ],
        [
         "358;Fernanda Lima;Rua Augusta"
        ],
        [
         "359;Maria Oliveira;Praça da Sé"
        ],
        [
         "360;Carlos Pereira;Avenida Brasil"
        ],
        [
         "361;João Silva;Avenida Paulista"
        ],
        [
         "362;Juliana Costa;Rua XV de Novembro"
        ],
        [
         "363;Carlos Pereira;Rua das Palmeiras"
        ],
        [
         "364;Maria Oliveira;Avenida Ipiranga"
        ],
        [
         "365;Paulo Almeida;Rua da Consolação"
        ],
        [
         "366;Carlos Pereira;Rua Augusta"
        ],
        [
         "367;Carlos Pereira;Rua da Consolação"
        ],
        [
         "368;Ana Souza;Rua XV de Novembro"
        ],
        [
         "369;Pedro Santos;Avenida Paulista"
        ],
        [
         "370;Fernanda Lima;Avenida Atlântica"
        ],
        [
         "371;Fernanda Lima;Avenida Ipiranga"
        ],
        [
         "372;Pedro Santos;Praça da Sé"
        ],
        [
         "373;Pedro Santos;Avenida Atlântica"
        ],
        [
         "374;João Silva;Praça da Sé"
        ],
        [
         "375;Ana Souza;Avenida Atlântica"
        ],
        [
         "376;Fernanda Lima;Avenida Ipiranga"
        ],
        [
         "377;Fernanda Lima;Avenida Ipiranga"
        ],
        [
         "378;Ana Souza;Praça da Sé"
        ],
        [
         "379;Juliana Costa;Rua da Consolação"
        ],
        [
         "380;Fernanda Lima;Rua da Consolação"
        ],
        [
         "381;Ana Souza;Avenida Paulista"
        ],
        [
         "382;Carlos Pereira;Rua Augusta"
        ],
        [
         "383;Paulo Almeida;Rua das Palmeiras"
        ],
        [
         "384;João Silva;Avenida Atlântica"
        ],
        [
         "385;Lucas Fernandes;Avenida Paulista"
        ],
        [
         "386;Mariana Rocha;Avenida Brasil"
        ],
        [
         "387;João Silva;Rua XV de Novembro"
        ],
        [
         "388;Pedro Santos;Rua da Consolação"
        ],
        [
         "389;Paulo Almeida;Rua Augusta"
        ],
        [
         "390;Juliana Costa;Praça da Sé"
        ],
        [
         "391;Pedro Santos;Avenida Brasil"
        ],
        [
         "392;Mariana Rocha;Rua das Flores"
        ],
        [
         "393;Fernanda Lima;Rua das Flores"
        ],
        [
         "394;Ana Souza;Rua Augusta"
        ],
        [
         "395;Fernanda Lima;Rua Augusta"
        ],
        [
         "396;Maria Oliveira;Avenida Brasil"
        ],
        [
         "397;Mariana Rocha;Rua Augusta"
        ],
        [
         "398;João Silva;Avenida Ipiranga"
        ],
        [
         "399;João Silva;Rua das Flores"
        ],
        [
         "400;Fernanda Lima;Avenida Brasil"
        ],
        [
         "401;Mariana Rocha;Avenida Brasil"
        ],
        [
         "402;Maria Oliveira;Rua Augusta"
        ],
        [
         "403;Lucas Fernandes;Rua XV de Novembro"
        ],
        [
         "404;Maria Oliveira;Rua das Palmeiras"
        ],
        [
         "405;Juliana Costa;Praça da Sé"
        ],
        [
         "406;Ana Souza;Rua das Flores"
        ],
        [
         "407;Lucas Fernandes;Rua das Palmeiras"
        ],
        [
         "408;João Silva;Rua da Consolação"
        ],
        [
         "409;Pedro Santos;Avenida Ipiranga"
        ],
        [
         "410;Mariana Rocha;Rua das Palmeiras"
        ],
        [
         "411;Carlos Pereira;Avenida Paulista"
        ],
        [
         "412;Paulo Almeida;Praça da Sé"
        ],
        [
         "413;Fernanda Lima;Rua da Consolação"
        ],
        [
         "414;Pedro Santos;Avenida Atlântica"
        ],
        [
         "415;Carlos Pereira;Rua da Consolação"
        ],
        [
         "416;Lucas Fernandes;Rua da Consolação"
        ],
        [
         "417;Fernanda Lima;Praça da Sé"
        ],
        [
         "418;Maria Oliveira;Avenida Paulista"
        ],
        [
         "419;Maria Oliveira;Praça da Sé"
        ],
        [
         "420;Pedro Santos;Avenida Brasil"
        ],
        [
         "421;João Silva;Avenida Brasil"
        ],
        [
         "422;Lucas Fernandes;Avenida Ipiranga"
        ],
        [
         "423;Carlos Pereira;Rua das Palmeiras"
        ],
        [
         "424;Pedro Santos;Rua Augusta"
        ],
        [
         "425;Lucas Fernandes;Avenida Atlântica"
        ],
        [
         "426;Ana Souza;Avenida Atlântica"
        ],
        [
         "427;Maria Oliveira;Avenida Ipiranga"
        ],
        [
         "428;Carlos Pereira;Rua das Palmeiras"
        ],
        [
         "429;Mariana Rocha;Avenida Atlântica"
        ],
        [
         "430;Carlos Pereira;Avenida Ipiranga"
        ],
        [
         "431;Maria Oliveira;Avenida Ipiranga"
        ],
        [
         "432;Lucas Fernandes;Avenida Atlântica"
        ],
        [
         "433;Fernanda Lima;Praça da Sé"
        ],
        [
         "434;Juliana Costa;Rua das Palmeiras"
        ],
        [
         "435;Paulo Almeida;Avenida Paulista"
        ],
        [
         "436;Maria Oliveira;Rua Augusta"
        ],
        [
         "437;Fernanda Lima;Rua da Consolação"
        ],
        [
         "438;Lucas Fernandes;Rua XV de Novembro"
        ],
        [
         "439;Carlos Pereira;Rua da Consolação"
        ],
        [
         "440;Paulo Almeida;Avenida Paulista"
        ],
        [
         "441;Lucas Fernandes;Rua XV de Novembro"
        ],
        [
         "442;João Silva;Rua das Palmeiras"
        ],
        [
         "443;Juliana Costa;Rua da Consolação"
        ],
        [
         "444;Juliana Costa;Rua das Palmeiras"
        ],
        [
         "445;Paulo Almeida;Rua Augusta"
        ],
        [
         "446;Lucas Fernandes;Avenida Paulista"
        ],
        [
         "447;Carlos Pereira;Avenida Ipiranga"
        ],
        [
         "448;Lucas Fernandes;Avenida Paulista"
        ],
        [
         "449;Juliana Costa;Avenida Brasil"
        ],
        [
         "450;Lucas Fernandes;Rua Augusta"
        ],
        [
         "451;João Silva;Avenida Paulista"
        ],
        [
         "452;Ana Souza;Rua Augusta"
        ],
        [
         "453;Maria Oliveira;Rua Augusta"
        ],
        [
         "454;Carlos Pereira;Avenida Atlântica"
        ],
        [
         "455;Paulo Almeida;Rua das Palmeiras"
        ],
        [
         "456;Mariana Rocha;Avenida Brasil"
        ],
        [
         "457;Paulo Almeida;Avenida Ipiranga"
        ],
        [
         "458;Ana Souza;Avenida Atlântica"
        ],
        [
         "459;Ana Souza;Praça da Sé"
        ],
        [
         "460;Juliana Costa;Avenida Ipiranga"
        ],
        [
         "461;Mariana Rocha;Rua das Flores"
        ],
        [
         "462;Paulo Almeida;Rua das Palmeiras"
        ],
        [
         "463;Mariana Rocha;Rua da Consolação"
        ],
        [
         "464;Maria Oliveira;Rua XV de Novembro"
        ],
        [
         "465;Carlos Pereira;Rua Augusta"
        ],
        [
         "466;Paulo Almeida;Rua da Consolação"
        ],
        [
         "467;Fernanda Lima;Rua XV de Novembro"
        ],
        [
         "468;Paulo Almeida;Rua XV de Novembro"
        ],
        [
         "469;Carlos Pereira;Rua da Consolação"
        ],
        [
         "470;Paulo Almeida;Rua das Palmeiras"
        ],
        [
         "471;Carlos Pereira;Avenida Paulista"
        ],
        [
         "472;Maria Oliveira;Avenida Brasil"
        ],
        [
         "473;Juliana Costa;Rua das Palmeiras"
        ],
        [
         "474;Mariana Rocha;Rua das Palmeiras"
        ],
        [
         "475;Carlos Pereira;Praça da Sé"
        ],
        [
         "476;Juliana Costa;Avenida Paulista"
        ],
        [
         "477;Paulo Almeida;Avenida Ipiranga"
        ],
        [
         "478;Paulo Almeida;Avenida Paulista"
        ],
        [
         "479;Pedro Santos;Rua XV de Novembro"
        ],
        [
         "480;Fernanda Lima;Rua XV de Novembro"
        ],
        [
         "481;Juliana Costa;Avenida Paulista"
        ],
        [
         "482;Maria Oliveira;Avenida Brasil"
        ],
        [
         "483;Carlos Pereira;Rua das Flores"
        ],
        [
         "484;Lucas Fernandes;Rua Augusta"
        ],
        [
         "485;Ana Souza;Rua XV de Novembro"
        ],
        [
         "486;João Silva;Rua Augusta"
        ],
        [
         "487;Juliana Costa;Rua da Consolação"
        ],
        [
         "488;Ana Souza;Rua XV de Novembro"
        ],
        [
         "489;Pedro Santos;Avenida Paulista"
        ],
        [
         "490;Ana Souza;Rua Augusta"
        ],
        [
         "491;Carlos Pereira;Avenida Ipiranga"
        ],
        [
         "492;Carlos Pereira;Rua da Consolação"
        ],
        [
         "493;Ana Souza;Avenida Brasil"
        ],
        [
         "494;Carlos Pereira;Rua da Consolação"
        ],
        [
         "495;Pedro Santos;Rua da Consolação"
        ],
        [
         "496;Carlos Pereira;Avenida Brasil"
        ],
        [
         "497;Juliana Costa;Avenida Atlântica"
        ],
        [
         "498;Lucas Fernandes;Rua XV de Novembro"
        ],
        [
         "499;Pedro Santos;Avenida Ipiranga"
        ],
        [
         "500;Carlos Pereira;Rua Augusta"
        ],
        [
         "501;Carlos Pereira;Praça da Sé"
        ],
        [
         "502;Fernanda Lima;Avenida Ipiranga"
        ],
        [
         "503;João Silva;Rua Augusta"
        ],
        [
         "504;Mariana Rocha;Avenida Paulista"
        ],
        [
         "505;Fernanda Lima;Rua Augusta"
        ],
        [
         "506;Maria Oliveira;Rua XV de Novembro"
        ],
        [
         "507;Fernanda Lima;Avenida Brasil"
        ],
        [
         "508;Fernanda Lima;Praça da Sé"
        ],
        [
         "509;João Silva;Rua Augusta"
        ],
        [
         "510;Ana Souza;Rua das Flores"
        ],
        [
         "511;Pedro Santos;Rua Augusta"
        ],
        [
         "512;Paulo Almeida;Rua das Palmeiras"
        ],
        [
         "513;Carlos Pereira;Rua das Palmeiras"
        ],
        [
         "514;Ana Souza;Rua XV de Novembro"
        ],
        [
         "515;João Silva;Praça da Sé"
        ],
        [
         "516;Carlos Pereira;Rua Augusta"
        ],
        [
         "517;Pedro Santos;Rua das Flores"
        ],
        [
         "518;João Silva;Avenida Paulista"
        ],
        [
         "519;Lucas Fernandes;Rua das Flores"
        ],
        [
         "520;Juliana Costa;Rua das Flores"
        ],
        [
         "521;João Silva;Praça da Sé"
        ],
        [
         "522;Lucas Fernandes;Praça da Sé"
        ],
        [
         "523;Pedro Santos;Rua da Consolação"
        ],
        [
         "524;Lucas Fernandes;Praça da Sé"
        ],
        [
         "525;Lucas Fernandes;Rua das Flores"
        ],
        [
         "526;Paulo Almeida;Avenida Atlântica"
        ],
        [
         "527;Paulo Almeida;Avenida Brasil"
        ],
        [
         "528;Fernanda Lima;Avenida Paulista"
        ],
        [
         "529;Fernanda Lima;Rua Augusta"
        ],
        [
         "530;Mariana Rocha;Avenida Atlântica"
        ],
        [
         "531;Juliana Costa;Rua Augusta"
        ],
        [
         "532;Pedro Santos;Avenida Ipiranga"
        ],
        [
         "533;Maria Oliveira;Avenida Atlântica"
        ],
        [
         "534;Maria Oliveira;Rua XV de Novembro"
        ],
        [
         "535;João Silva;Avenida Ipiranga"
        ],
        [
         "536;Juliana Costa;Praça da Sé"
        ],
        [
         "537;Mariana Rocha;Avenida Paulista"
        ],
        [
         "538;Pedro Santos;Avenida Ipiranga"
        ],
        [
         "539;Lucas Fernandes;Rua Augusta"
        ],
        [
         "540;Pedro Santos;Praça da Sé"
        ],
        [
         "541;Maria Oliveira;Praça da Sé"
        ],
        [
         "542;Ana Souza;Rua Augusta"
        ],
        [
         "543;Juliana Costa;Rua da Consolação"
        ],
        [
         "544;Maria Oliveira;Rua das Palmeiras"
        ],
        [
         "545;Maria Oliveira;Avenida Paulista"
        ],
        [
         "546;Mariana Rocha;Avenida Paulista"
        ],
        [
         "547;Carlos Pereira;Rua das Flores"
        ],
        [
         "548;Ana Souza;Rua das Palmeiras"
        ],
        [
         "549;Fernanda Lima;Rua das Palmeiras"
        ],
        [
         "550;Paulo Almeida;Rua das Palmeiras"
        ],
        [
         "551;Maria Oliveira;Rua Augusta"
        ],
        [
         "552;Carlos Pereira;Praça da Sé"
        ],
        [
         "553;Ana Souza;Rua das Flores"
        ],
        [
         "554;Lucas Fernandes;Praça da Sé"
        ],
        [
         "555;Lucas Fernandes;Praça da Sé"
        ],
        [
         "556;Paulo Almeida;Avenida Paulista"
        ],
        [
         "557;Mariana Rocha;Avenida Atlântica"
        ],
        [
         "558;Juliana Costa;Avenida Ipiranga"
        ],
        [
         "559;João Silva;Praça da Sé"
        ],
        [
         "560;Ana Souza;Avenida Brasil"
        ],
        [
         "561;Paulo Almeida;Avenida Ipiranga"
        ],
        [
         "562;Carlos Pereira;Rua das Palmeiras"
        ],
        [
         "563;Maria Oliveira;Avenida Paulista"
        ],
        [
         "564;Lucas Fernandes;Rua Augusta"
        ],
        [
         "565;Pedro Santos;Praça da Sé"
        ],
        [
         "566;Fernanda Lima;Rua das Flores"
        ],
        [
         "567;João Silva;Praça da Sé"
        ],
        [
         "568;Maria Oliveira;Rua das Palmeiras"
        ],
        [
         "569;João Silva;Avenida Paulista"
        ],
        [
         "570;Fernanda Lima;Praça da Sé"
        ],
        [
         "571;João Silva;Rua XV de Novembro"
        ],
        [
         "572;Pedro Santos;Rua XV de Novembro"
        ],
        [
         "573;Fernanda Lima;Rua da Consolação"
        ],
        [
         "574;Ana Souza;Avenida Ipiranga"
        ],
        [
         "575;Paulo Almeida;Rua Augusta"
        ],
        [
         "576;Paulo Almeida;Avenida Paulista"
        ],
        [
         "577;Carlos Pereira;Avenida Atlântica"
        ],
        [
         "578;Lucas Fernandes;Rua das Flores"
        ],
        [
         "579;Mariana Rocha;Avenida Brasil"
        ],
        [
         "580;Carlos Pereira;Rua XV de Novembro"
        ],
        [
         "581;Lucas Fernandes;Avenida Atlântica"
        ],
        [
         "582;Juliana Costa;Rua XV de Novembro"
        ],
        [
         "583;Fernanda Lima;Avenida Atlântica"
        ],
        [
         "584;Maria Oliveira;Avenida Atlântica"
        ],
        [
         "585;Fernanda Lima;Avenida Ipiranga"
        ],
        [
         "586;Maria Oliveira;Avenida Ipiranga"
        ],
        [
         "587;Mariana Rocha;Rua das Flores"
        ],
        [
         "588;Fernanda Lima;Rua da Consolação"
        ],
        [
         "589;Maria Oliveira;Avenida Ipiranga"
        ],
        [
         "590;Fernanda Lima;Rua das Flores"
        ],
        [
         "591;Mariana Rocha;Rua Augusta"
        ],
        [
         "592;Carlos Pereira;Avenida Ipiranga"
        ],
        [
         "593;Maria Oliveira;Rua das Flores"
        ],
        [
         "594;Juliana Costa;Rua XV de Novembro"
        ],
        [
         "595;Paulo Almeida;Avenida Atlântica"
        ],
        [
         "596;Carlos Pereira;Avenida Paulista"
        ],
        [
         "597;Lucas Fernandes;Rua das Palmeiras"
        ],
        [
         "598;João Silva;Rua XV de Novembro"
        ],
        [
         "599;Ana Souza;Avenida Atlântica"
        ],
        [
         "600;Fernanda Lima;Rua XV de Novembro"
        ],
        [
         "601;Carlos Pereira;Avenida Brasil"
        ],
        [
         "602;Lucas Fernandes;Rua Augusta"
        ],
        [
         "603;Fernanda Lima;Avenida Ipiranga"
        ],
        [
         "604;Lucas Fernandes;Rua Augusta"
        ],
        [
         "605;Pedro Santos;Avenida Paulista"
        ],
        [
         "606;Juliana Costa;Praça da Sé"
        ],
        [
         "607;Fernanda Lima;Rua das Palmeiras"
        ],
        [
         "608;Mariana Rocha;Praça da Sé"
        ],
        [
         "609;João Silva;Avenida Brasil"
        ],
        [
         "610;Fernanda Lima;Rua XV de Novembro"
        ],
        [
         "611;Carlos Pereira;Avenida Brasil"
        ],
        [
         "612;Maria Oliveira;Rua XV de Novembro"
        ],
        [
         "613;Paulo Almeida;Avenida Brasil"
        ],
        [
         "614;Juliana Costa;Rua das Palmeiras"
        ],
        [
         "615;Fernanda Lima;Rua das Flores"
        ],
        [
         "616;Pedro Santos;Avenida Ipiranga"
        ],
        [
         "617;Carlos Pereira;Avenida Paulista"
        ],
        [
         "618;Fernanda Lima;Rua das Flores"
        ],
        [
         "619;Lucas Fernandes;Rua XV de Novembro"
        ],
        [
         "620;João Silva;Avenida Brasil"
        ],
        [
         "621;Mariana Rocha;Rua XV de Novembro"
        ],
        [
         "622;Ana Souza;Avenida Ipiranga"
        ],
        [
         "623;João Silva;Avenida Ipiranga"
        ],
        [
         "624;Ana Souza;Rua da Consolação"
        ],
        [
         "625;João Silva;Praça da Sé"
        ],
        [
         "626;Lucas Fernandes;Rua das Palmeiras"
        ],
        [
         "627;João Silva;Avenida Brasil"
        ],
        [
         "628;Pedro Santos;Avenida Brasil"
        ],
        [
         "629;Ana Souza;Rua XV de Novembro"
        ],
        [
         "630;Mariana Rocha;Avenida Ipiranga"
        ],
        [
         "631;Maria Oliveira;Avenida Ipiranga"
        ],
        [
         "632;Mariana Rocha;Rua das Palmeiras"
        ],
        [
         "633;Juliana Costa;Avenida Brasil"
        ],
        [
         "634;Lucas Fernandes;Rua da Consolação"
        ],
        [
         "635;Ana Souza;Rua das Flores"
        ],
        [
         "636;Carlos Pereira;Rua das Flores"
        ],
        [
         "637;Maria Oliveira;Rua XV de Novembro"
        ],
        [
         "638;Fernanda Lima;Avenida Brasil"
        ],
        [
         "639;Mariana Rocha;Rua XV de Novembro"
        ],
        [
         "640;Mariana Rocha;Avenida Paulista"
        ],
        [
         "641;Lucas Fernandes;Rua das Palmeiras"
        ],
        [
         "642;Mariana Rocha;Avenida Brasil"
        ],
        [
         "643;Carlos Pereira;Rua XV de Novembro"
        ],
        [
         "644;Maria Oliveira;Rua Augusta"
        ],
        [
         "645;Mariana Rocha;Rua da Consolação"
        ],
        [
         "646;Juliana Costa;Rua das Palmeiras"
        ],
        [
         "647;João Silva;Rua XV de Novembro"
        ],
        [
         "648;Lucas Fernandes;Rua Augusta"
        ],
        [
         "649;Carlos Pereira;Praça da Sé"
        ],
        [
         "650;Paulo Almeida;Rua Augusta"
        ],
        [
         "651;Ana Souza;Avenida Paulista"
        ],
        [
         "652;Mariana Rocha;Avenida Atlântica"
        ],
        [
         "653;Mariana Rocha;Avenida Paulista"
        ],
        [
         "654;Juliana Costa;Rua das Flores"
        ],
        [
         "655;Maria Oliveira;Rua XV de Novembro"
        ],
        [
         "656;Lucas Fernandes;Rua das Flores"
        ],
        [
         "657;Fernanda Lima;Avenida Brasil"
        ],
        [
         "658;Pedro Santos;Rua das Palmeiras"
        ],
        [
         "659;Paulo Almeida;Rua XV de Novembro"
        ],
        [
         "660;Fernanda Lima;Rua Augusta"
        ],
        [
         "661;Ana Souza;Rua das Flores"
        ],
        [
         "662;Carlos Pereira;Rua XV de Novembro"
        ],
        [
         "663;Maria Oliveira;Praça da Sé"
        ],
        [
         "664;Maria Oliveira;Rua das Flores"
        ],
        [
         "665;Juliana Costa;Avenida Atlântica"
        ],
        [
         "666;Fernanda Lima;Rua das Palmeiras"
        ],
        [
         "667;Lucas Fernandes;Rua XV de Novembro"
        ],
        [
         "668;Maria Oliveira;Avenida Paulista"
        ],
        [
         "669;Juliana Costa;Avenida Brasil"
        ],
        [
         "670;Fernanda Lima;Rua XV de Novembro"
        ],
        [
         "671;João Silva;Avenida Atlântica"
        ],
        [
         "672;Ana Souza;Avenida Atlântica"
        ],
        [
         "673;João Silva;Rua das Palmeiras"
        ],
        [
         "674;João Silva;Rua XV de Novembro"
        ],
        [
         "675;Paulo Almeida;Avenida Atlântica"
        ],
        [
         "676;Ana Souza;Rua das Palmeiras"
        ],
        [
         "677;Carlos Pereira;Avenida Paulista"
        ],
        [
         "678;Juliana Costa;Rua das Palmeiras"
        ],
        [
         "679;Paulo Almeida;Praça da Sé"
        ],
        [
         "680;João Silva;Rua da Consolação"
        ],
        [
         "681;Maria Oliveira;Avenida Ipiranga"
        ],
        [
         "682;Fernanda Lima;Rua Augusta"
        ],
        [
         "683;Lucas Fernandes;Rua das Palmeiras"
        ],
        [
         "684;Pedro Santos;Rua Augusta"
        ],
        [
         "685;Fernanda Lima;Rua das Palmeiras"
        ],
        [
         "686;João Silva;Rua da Consolação"
        ],
        [
         "687;Paulo Almeida;Avenida Ipiranga"
        ],
        [
         "688;Maria Oliveira;Avenida Brasil"
        ],
        [
         "689;Lucas Fernandes;Rua XV de Novembro"
        ],
        [
         "690;João Silva;Avenida Ipiranga"
        ],
        [
         "691;Ana Souza;Avenida Atlântica"
        ],
        [
         "692;Paulo Almeida;Rua das Flores"
        ],
        [
         "693;Fernanda Lima;Rua da Consolação"
        ],
        [
         "694;Maria Oliveira;Rua da Consolação"
        ],
        [
         "695;Mariana Rocha;Praça da Sé"
        ],
        [
         "696;Mariana Rocha;Avenida Brasil"
        ],
        [
         "697;Mariana Rocha;Praça da Sé"
        ],
        [
         "698;Pedro Santos;Rua das Palmeiras"
        ],
        [
         "699;Lucas Fernandes;Praça da Sé"
        ],
        [
         "700;Fernanda Lima;Rua XV de Novembro"
        ],
        [
         "701;Pedro Santos;Avenida Brasil"
        ],
        [
         "702;Pedro Santos;Praça da Sé"
        ],
        [
         "703;Lucas Fernandes;Avenida Brasil"
        ],
        [
         "704;Fernanda Lima;Avenida Brasil"
        ],
        [
         "705;Pedro Santos;Rua da Consolação"
        ],
        [
         "706;Maria Oliveira;Rua Augusta"
        ],
        [
         "707;João Silva;Avenida Paulista"
        ],
        [
         "708;Fernanda Lima;Rua das Palmeiras"
        ],
        [
         "709;Mariana Rocha;Avenida Brasil"
        ],
        [
         "710;João Silva;Praça da Sé"
        ],
        [
         "711;Pedro Santos;Rua da Consolação"
        ],
        [
         "712;Ana Souza;Rua Augusta"
        ],
        [
         "713;Fernanda Lima;Avenida Paulista"
        ],
        [
         "714;Pedro Santos;Avenida Atlântica"
        ],
        [
         "715;João Silva;Praça da Sé"
        ],
        [
         "716;Paulo Almeida;Avenida Paulista"
        ],
        [
         "717;Ana Souza;Avenida Paulista"
        ],
        [
         "718;Ana Souza;Praça da Sé"
        ],
        [
         "719;Lucas Fernandes;Rua das Palmeiras"
        ],
        [
         "720;Pedro Santos;Avenida Ipiranga"
        ],
        [
         "721;Fernanda Lima;Avenida Atlântica"
        ],
        [
         "722;Paulo Almeida;Avenida Ipiranga"
        ],
        [
         "723;João Silva;Avenida Brasil"
        ],
        [
         "724;Maria Oliveira;Rua Augusta"
        ],
        [
         "725;Ana Souza;Rua das Flores"
        ],
        [
         "726;Pedro Santos;Avenida Ipiranga"
        ],
        [
         "727;João Silva;Avenida Atlântica"
        ],
        [
         "728;Fernanda Lima;Rua XV de Novembro"
        ],
        [
         "729;João Silva;Avenida Paulista"
        ],
        [
         "730;Maria Oliveira;Rua das Palmeiras"
        ],
        [
         "731;Mariana Rocha;Avenida Brasil"
        ],
        [
         "732;Ana Souza;Praça da Sé"
        ],
        [
         "733;Mariana Rocha;Rua XV de Novembro"
        ],
        [
         "734;Paulo Almeida;Rua da Consolação"
        ],
        [
         "735;Fernanda Lima;Avenida Atlântica"
        ],
        [
         "736;Pedro Santos;Avenida Atlântica"
        ],
        [
         "737;Ana Souza;Rua Augusta"
        ],
        [
         "738;Fernanda Lima;Avenida Paulista"
        ],
        [
         "739;Lucas Fernandes;Avenida Ipiranga"
        ],
        [
         "740;Ana Souza;Rua das Palmeiras"
        ],
        [
         "741;Carlos Pereira;Rua das Palmeiras"
        ],
        [
         "742;Carlos Pereira;Avenida Brasil"
        ],
        [
         "743;Ana Souza;Avenida Paulista"
        ],
        [
         "744;João Silva;Avenida Paulista"
        ],
        [
         "745;Ana Souza;Praça da Sé"
        ],
        [
         "746;Mariana Rocha;Avenida Brasil"
        ],
        [
         "747;Maria Oliveira;Rua das Flores"
        ],
        [
         "748;João Silva;Avenida Atlântica"
        ],
        [
         "749;Mariana Rocha;Avenida Paulista"
        ],
        [
         "750;Maria Oliveira;Avenida Brasil"
        ],
        [
         "751;Carlos Pereira;Avenida Brasil"
        ],
        [
         "752;João Silva;Rua das Palmeiras"
        ],
        [
         "753;Lucas Fernandes;Avenida Paulista"
        ],
        [
         "754;Carlos Pereira;Praça da Sé"
        ],
        [
         "755;Maria Oliveira;Rua das Flores"
        ],
        [
         "756;Carlos Pereira;Avenida Paulista"
        ],
        [
         "757;João Silva;Rua das Flores"
        ],
        [
         "758;Juliana Costa;Avenida Ipiranga"
        ],
        [
         "759;Mariana Rocha;Rua das Flores"
        ],
        [
         "760;João Silva;Praça da Sé"
        ],
        [
         "761;Lucas Fernandes;Rua das Palmeiras"
        ],
        [
         "762;Lucas Fernandes;Rua da Consolação"
        ],
        [
         "763;Mariana Rocha;Rua Augusta"
        ],
        [
         "764;Fernanda Lima;Rua XV de Novembro"
        ],
        [
         "765;Fernanda Lima;Rua XV de Novembro"
        ],
        [
         "766;Juliana Costa;Rua das Flores"
        ],
        [
         "767;Ana Souza;Praça da Sé"
        ],
        [
         "768;Pedro Santos;Rua da Consolação"
        ],
        [
         "769;Paulo Almeida;Avenida Brasil"
        ],
        [
         "770;Paulo Almeida;Rua XV de Novembro"
        ],
        [
         "771;Fernanda Lima;Avenida Paulista"
        ],
        [
         "772;Mariana Rocha;Rua da Consolação"
        ],
        [
         "773;Pedro Santos;Avenida Paulista"
        ],
        [
         "774;Maria Oliveira;Avenida Ipiranga"
        ],
        [
         "775;João Silva;Avenida Ipiranga"
        ],
        [
         "776;Lucas Fernandes;Praça da Sé"
        ],
        [
         "777;Carlos Pereira;Avenida Ipiranga"
        ],
        [
         "778;Paulo Almeida;Rua das Flores"
        ],
        [
         "779;Lucas Fernandes;Rua XV de Novembro"
        ],
        [
         "780;Carlos Pereira;Rua XV de Novembro"
        ],
        [
         "781;João Silva;Avenida Paulista"
        ],
        [
         "782;Carlos Pereira;Avenida Brasil"
        ],
        [
         "783;João Silva;Rua das Flores"
        ],
        [
         "784;Maria Oliveira;Rua Augusta"
        ],
        [
         "785;Lucas Fernandes;Rua Augusta"
        ],
        [
         "786;Lucas Fernandes;Rua das Palmeiras"
        ],
        [
         "787;Pedro Santos;Rua das Flores"
        ],
        [
         "788;Ana Souza;Praça da Sé"
        ],
        [
         "789;João Silva;Rua da Consolação"
        ],
        [
         "790;Ana Souza;Rua da Consolação"
        ],
        [
         "791;Ana Souza;Rua Augusta"
        ],
        [
         "792;Lucas Fernandes;Rua Augusta"
        ],
        [
         "793;Fernanda Lima;Avenida Brasil"
        ],
        [
         "794;João Silva;Avenida Paulista"
        ],
        [
         "795;Lucas Fernandes;Rua das Palmeiras"
        ],
        [
         "796;Maria Oliveira;Rua das Flores"
        ],
        [
         "797;Carlos Pereira;Rua das Flores"
        ],
        [
         "798;Juliana Costa;Rua das Palmeiras"
        ],
        [
         "799;Lucas Fernandes;Rua Augusta"
        ],
        [
         "800;Pedro Santos;Rua XV de Novembro"
        ],
        [
         "801;Mariana Rocha;Rua da Consolação"
        ],
        [
         "802;Juliana Costa;Rua das Flores"
        ],
        [
         "803;Ana Souza;Praça da Sé"
        ],
        [
         "804;Carlos Pereira;Rua das Flores"
        ],
        [
         "805;Fernanda Lima;Rua da Consolação"
        ],
        [
         "806;Maria Oliveira;Avenida Ipiranga"
        ],
        [
         "807;Lucas Fernandes;Rua da Consolação"
        ],
        [
         "808;Pedro Santos;Avenida Atlântica"
        ],
        [
         "809;Lucas Fernandes;Avenida Brasil"
        ],
        [
         "810;Mariana Rocha;Rua Augusta"
        ],
        [
         "811;João Silva;Rua da Consolação"
        ],
        [
         "812;Carlos Pereira;Avenida Brasil"
        ],
        [
         "813;Ana Souza;Avenida Brasil"
        ],
        [
         "814;João Silva;Praça da Sé"
        ],
        [
         "815;Ana Souza;Avenida Ipiranga"
        ],
        [
         "816;Ana Souza;Praça da Sé"
        ],
        [
         "817;Mariana Rocha;Rua Augusta"
        ],
        [
         "818;Ana Souza;Rua das Flores"
        ],
        [
         "819;Carlos Pereira;Avenida Atlântica"
        ],
        [
         "820;Lucas Fernandes;Avenida Ipiranga"
        ],
        [
         "821;João Silva;Rua das Flores"
        ],
        [
         "822;Maria Oliveira;Avenida Brasil"
        ],
        [
         "823;Maria Oliveira;Rua das Palmeiras"
        ],
        [
         "824;Fernanda Lima;Rua das Flores"
        ],
        [
         "825;Mariana Rocha;Praça da Sé"
        ],
        [
         "826;João Silva;Avenida Atlântica"
        ],
        [
         "827;Fernanda Lima;Rua Augusta"
        ],
        [
         "828;Fernanda Lima;Avenida Atlântica"
        ],
        [
         "829;Carlos Pereira;Rua XV de Novembro"
        ],
        [
         "830;Maria Oliveira;Avenida Brasil"
        ],
        [
         "831;Mariana Rocha;Rua da Consolação"
        ],
        [
         "832;Carlos Pereira;Rua XV de Novembro"
        ],
        [
         "833;Mariana Rocha;Avenida Paulista"
        ],
        [
         "834;Lucas Fernandes;Rua das Palmeiras"
        ],
        [
         "835;Pedro Santos;Praça da Sé"
        ],
        [
         "836;Lucas Fernandes;Rua Augusta"
        ],
        [
         "837;João Silva;Rua XV de Novembro"
        ],
        [
         "838;Lucas Fernandes;Avenida Paulista"
        ],
        [
         "839;Fernanda Lima;Praça da Sé"
        ],
        [
         "840;Ana Souza;Rua da Consolação"
        ],
        [
         "841;Ana Souza;Rua da Consolação"
        ],
        [
         "842;Pedro Santos;Avenida Paulista"
        ],
        [
         "843;Mariana Rocha;Avenida Paulista"
        ],
        [
         "844;Maria Oliveira;Rua Augusta"
        ],
        [
         "845;Paulo Almeida;Rua das Flores"
        ],
        [
         "846;Mariana Rocha;Praça da Sé"
        ],
        [
         "847;Juliana Costa;Rua Augusta"
        ],
        [
         "848;João Silva;Avenida Ipiranga"
        ],
        [
         "849;Mariana Rocha;Rua da Consolação"
        ],
        [
         "850;Fernanda Lima;Rua Augusta"
        ],
        [
         "851;Mariana Rocha;Avenida Brasil"
        ],
        [
         "852;João Silva;Rua das Flores"
        ],
        [
         "853;Mariana Rocha;Rua XV de Novembro"
        ],
        [
         "854;Maria Oliveira;Avenida Ipiranga"
        ],
        [
         "855;Juliana Costa;Avenida Ipiranga"
        ],
        [
         "856;Paulo Almeida;Avenida Brasil"
        ],
        [
         "857;Carlos Pereira;Avenida Ipiranga"
        ],
        [
         "858;Carlos Pereira;Praça da Sé"
        ],
        [
         "859;Lucas Fernandes;Praça da Sé"
        ],
        [
         "860;Maria Oliveira;Avenida Ipiranga"
        ],
        [
         "861;Lucas Fernandes;Rua XV de Novembro"
        ],
        [
         "862;Pedro Santos;Rua XV de Novembro"
        ],
        [
         "863;Pedro Santos;Praça da Sé"
        ],
        [
         "864;Pedro Santos;Rua das Palmeiras"
        ],
        [
         "865;Paulo Almeida;Avenida Paulista"
        ],
        [
         "866;Ana Souza;Rua da Consolação"
        ],
        [
         "867;Ana Souza;Avenida Ipiranga"
        ],
        [
         "868;Juliana Costa;Avenida Brasil"
        ],
        [
         "869;Maria Oliveira;Avenida Ipiranga"
        ],
        [
         "870;Fernanda Lima;Rua das Flores"
        ],
        [
         "871;Paulo Almeida;Rua das Flores"
        ],
        [
         "872;Paulo Almeida;Rua das Flores"
        ],
        [
         "873;Lucas Fernandes;Avenida Atlântica"
        ],
        [
         "874;Paulo Almeida;Rua XV de Novembro"
        ],
        [
         "875;Lucas Fernandes;Avenida Brasil"
        ],
        [
         "876;Lucas Fernandes;Rua das Palmeiras"
        ],
        [
         "877;Pedro Santos;Rua das Palmeiras"
        ],
        [
         "878;Mariana Rocha;Avenida Ipiranga"
        ],
        [
         "879;Mariana Rocha;Rua das Palmeiras"
        ],
        [
         "880;Mariana Rocha;Avenida Brasil"
        ],
        [
         "881;Juliana Costa;Rua XV de Novembro"
        ],
        [
         "882;Carlos Pereira;Rua Augusta"
        ],
        [
         "883;João Silva;Rua das Palmeiras"
        ],
        [
         "884;Carlos Pereira;Rua XV de Novembro"
        ],
        [
         "885;Carlos Pereira;Rua das Palmeiras"
        ],
        [
         "886;Fernanda Lima;Rua Augusta"
        ],
        [
         "887;Fernanda Lima;Rua XV de Novembro"
        ],
        [
         "888;Paulo Almeida;Avenida Ipiranga"
        ],
        [
         "889;Paulo Almeida;Rua XV de Novembro"
        ],
        [
         "890;Paulo Almeida;Rua Augusta"
        ],
        [
         "891;Maria Oliveira;Rua das Flores"
        ],
        [
         "892;Maria Oliveira;Praça da Sé"
        ],
        [
         "893;Carlos Pereira;Avenida Paulista"
        ],
        [
         "894;Maria Oliveira;Rua Augusta"
        ],
        [
         "895;Maria Oliveira;Rua XV de Novembro"
        ],
        [
         "896;João Silva;Rua das Flores"
        ],
        [
         "897;Paulo Almeida;Avenida Atlântica"
        ],
        [
         "898;Paulo Almeida;Praça da Sé"
        ],
        [
         "899;Lucas Fernandes;Rua Augusta"
        ],
        [
         "900;João Silva;Avenida Brasil"
        ],
        [
         "901;Carlos Pereira;Rua da Consolação"
        ],
        [
         "902;Fernanda Lima;Avenida Ipiranga"
        ],
        [
         "903;Lucas Fernandes;Avenida Atlântica"
        ],
        [
         "904;Ana Souza;Avenida Ipiranga"
        ],
        [
         "905;Maria Oliveira;Rua das Palmeiras"
        ],
        [
         "906;Maria Oliveira;Rua Augusta"
        ],
        [
         "907;Pedro Santos;Rua XV de Novembro"
        ],
        [
         "908;Fernanda Lima;Rua das Palmeiras"
        ],
        [
         "909;Mariana Rocha;Rua XV de Novembro"
        ],
        [
         "910;Carlos Pereira;Rua das Palmeiras"
        ],
        [
         "911;Pedro Santos;Praça da Sé"
        ],
        [
         "912;Juliana Costa;Rua das Flores"
        ],
        [
         "913;Juliana Costa;Rua das Flores"
        ],
        [
         "914;Paulo Almeida;Rua das Flores"
        ],
        [
         "915;Carlos Pereira;Rua XV de Novembro"
        ],
        [
         "916;Juliana Costa;Avenida Paulista"
        ],
        [
         "917;Carlos Pereira;Rua da Consolação"
        ],
        [
         "918;Ana Souza;Rua XV de Novembro"
        ],
        [
         "919;Lucas Fernandes;Rua das Palmeiras"
        ],
        [
         "920;Pedro Santos;Praça da Sé"
        ],
        [
         "921;Carlos Pereira;Avenida Ipiranga"
        ],
        [
         "922;Lucas Fernandes;Avenida Brasil"
        ],
        [
         "923;Ana Souza;Rua Augusta"
        ],
        [
         "924;Carlos Pereira;Avenida Ipiranga"
        ],
        [
         "925;João Silva;Rua da Consolação"
        ],
        [
         "926;João Silva;Rua das Flores"
        ],
        [
         "927;Juliana Costa;Avenida Ipiranga"
        ],
        [
         "928;Juliana Costa;Avenida Paulista"
        ],
        [
         "929;Carlos Pereira;Rua das Palmeiras"
        ],
        [
         "930;Juliana Costa;Rua das Flores"
        ],
        [
         "931;Juliana Costa;Rua das Palmeiras"
        ],
        [
         "932;Fernanda Lima;Rua da Consolação"
        ],
        [
         "933;Maria Oliveira;Rua XV de Novembro"
        ],
        [
         "934;Ana Souza;Rua da Consolação"
        ],
        [
         "935;João Silva;Rua da Consolação"
        ],
        [
         "936;Pedro Santos;Avenida Brasil"
        ],
        [
         "937;Maria Oliveira;Rua das Palmeiras"
        ],
        [
         "938;Fernanda Lima;Rua Augusta"
        ],
        [
         "939;João Silva;Avenida Brasil"
        ],
        [
         "940;Pedro Santos;Rua das Flores"
        ],
        [
         "941;Ana Souza;Rua das Palmeiras"
        ],
        [
         "942;Paulo Almeida;Rua das Palmeiras"
        ],
        [
         "943;Juliana Costa;Rua Augusta"
        ],
        [
         "944;Pedro Santos;Avenida Ipiranga"
        ],
        [
         "945;Juliana Costa;Rua Augusta"
        ],
        [
         "946;Juliana Costa;Avenida Brasil"
        ],
        [
         "947;Paulo Almeida;Avenida Atlântica"
        ],
        [
         "948;Ana Souza;Avenida Atlântica"
        ],
        [
         "949;Pedro Santos;Avenida Paulista"
        ],
        [
         "950;Lucas Fernandes;Avenida Paulista"
        ],
        [
         "951;Lucas Fernandes;Avenida Atlântica"
        ],
        [
         "952;Maria Oliveira;Rua das Palmeiras"
        ],
        [
         "953;Carlos Pereira;Rua das Palmeiras"
        ],
        [
         "954;Maria Oliveira;Rua das Palmeiras"
        ],
        [
         "955;Fernanda Lima;Avenida Atlântica"
        ],
        [
         "956;Mariana Rocha;Avenida Brasil"
        ],
        [
         "957;Paulo Almeida;Avenida Brasil"
        ],
        [
         "958;Pedro Santos;Praça da Sé"
        ],
        [
         "959;Pedro Santos;Avenida Brasil"
        ],
        [
         "960;Mariana Rocha;Avenida Brasil"
        ],
        [
         "961;Lucas Fernandes;Rua da Consolação"
        ],
        [
         "962;Ana Souza;Avenida Brasil"
        ],
        [
         "963;Carlos Pereira;Rua XV de Novembro"
        ],
        [
         "964;Ana Souza;Rua da Consolação"
        ],
        [
         "965;Ana Souza;Avenida Atlântica"
        ],
        [
         "966;Juliana Costa;Avenida Paulista"
        ],
        [
         "967;João Silva;Avenida Paulista"
        ],
        [
         "968;João Silva;Avenida Ipiranga"
        ],
        [
         "969;Maria Oliveira;Avenida Atlântica"
        ],
        [
         "970;Ana Souza;Praça da Sé"
        ],
        [
         "971;Ana Souza;Rua Augusta"
        ],
        [
         "972;Pedro Santos;Avenida Atlântica"
        ],
        [
         "973;João Silva;Avenida Brasil"
        ],
        [
         "974;Juliana Costa;Avenida Paulista"
        ],
        [
         "975;Lucas Fernandes;Rua das Flores"
        ],
        [
         "976;Pedro Santos;Avenida Brasil"
        ],
        [
         "977;Ana Souza;Rua das Palmeiras"
        ],
        [
         "978;Ana Souza;Avenida Paulista"
        ],
        [
         "979;Fernanda Lima;Avenida Paulista"
        ],
        [
         "980;João Silva;Avenida Paulista"
        ],
        [
         "981;Paulo Almeida;Rua da Consolação"
        ],
        [
         "982;Pedro Santos;Avenida Paulista"
        ],
        [
         "983;Maria Oliveira;Avenida Ipiranga"
        ],
        [
         "984;João Silva;Rua das Flores"
        ],
        [
         "985;Mariana Rocha;Praça da Sé"
        ],
        [
         "986;Mariana Rocha;Rua das Flores"
        ],
        [
         "987;Lucas Fernandes;Avenida Brasil"
        ],
        [
         "988;João Silva;Avenida Brasil"
        ],
        [
         "989;Mariana Rocha;Avenida Atlântica"
        ],
        [
         "990;Maria Oliveira;Avenida Atlântica"
        ],
        [
         "991;Carlos Pereira;Rua das Flores"
        ],
        [
         "992;Mariana Rocha;Avenida Brasil"
        ],
        [
         "993;Lucas Fernandes;Praça da Sé"
        ],
        [
         "994;Paulo Almeida;Praça da Sé"
        ],
        [
         "995;Juliana Costa;Rua XV de Novembro"
        ],
        [
         "996;Pedro Santos;Avenida Brasil"
        ],
        [
         "997;Mariana Rocha;Avenida Brasil"
        ],
        [
         "998;João Silva;Avenida Ipiranga"
        ],
        [
         "999;Mariana Rocha;Avenida Brasil"
        ],
        [
         "1000;Fernanda Lima;Avenida Paulista"
        ],
        [
         "1001;Amanda Silva Santos;Avenida Ipiranga"
        ]
       ],
       "datasetInfos": [],
       "dbfsResultPath": null,
       "isJsonSchema": true,
       "metadata": {},
       "overflow": false,
       "plotOptions": {
        "customPlotOptions": {},
        "displayType": "table",
        "pivotAggregation": null,
        "pivotColumns": null,
        "xColumns": null,
        "yColumns": null
       },
       "removedWidgets": [],
       "schema": [
        {
         "metadata": "{}",
         "name": "_c0",
         "type": "\"string\""
        }
       ],
       "type": "table"
      }
     },
     "output_type": "display_data"
    }
   ],
   "source": [
    "%python\n",
    "file_path = \"/FileStore/tables/dados_clientes.csv\"\n",
    "\n",
    "df_customer = spark.read.csv(file_path)\n",
    "display(df_customer)"
   ]
  },
  {
   "cell_type": "markdown",
   "metadata": {
    "application/vnd.databricks.v1+cell": {
     "cellMetadata": {},
     "inputWidgets": {},
     "nuid": "39f2ec52-4add-4d48-8017-def38e30ada6",
     "showTitle": false,
     "tableResultSettingsMap": {},
     "title": ""
    }
   },
   "source": [
    "3- Estruturar o arquivo .csv definindo as colunas do df (nome, tipo, se pode ou não nulo)"
   ]
  },
  {
   "cell_type": "code",
   "execution_count": 0,
   "metadata": {
    "application/vnd.databricks.v1+cell": {
     "cellMetadata": {
      "byteLimit": 2048000,
      "rowLimit": 10000
     },
     "inputWidgets": {},
     "nuid": "2fb16de2-4c9d-4cda-977f-3d9e89b03ae9",
     "showTitle": false,
     "tableResultSettingsMap": {},
     "title": ""
    }
   },
   "outputs": [
    {
     "output_type": "stream",
     "name": "stdout",
     "output_type": "stream",
     "text": [
      "+---------------+---------------+--------------------+---------------+--------------------+\n|Número da Conta|Nome do Cliente|            Endereço|       Telefone|               Email|\n+---------------+---------------+--------------------+---------------+--------------------+\n|              1|  Fernanda Lima|Rua da Consolação...|(11) 98623-5795|cliente1@exemplo.com|\n|              2|  Juliana Costa|   Rua Augusta, 1011|(11) 98959-1767|cliente2@exemplo.com|\n|              3|   Pedro Santos|Rua da Consolação...|(11) 93947-2587|cliente3@exemplo.com|\n+---------------+---------------+--------------------+---------------+--------------------+\nonly showing top 3 rows\n\n"
     ]
    }
   ],
   "source": [
    "file_schema = StructType([\n",
    "    StructField(('Número da Conta'), IntegerType(), False)\n",
    "    ,StructField(('Nome do Cliente'), StringType(), False)\n",
    "    ,StructField(('Endereço'), StringType(), False)\n",
    "    ,StructField(('Telefone'), StringType(), False)\n",
    "    ,StructField(('Email'), StringType(), False)\n",
    "])\n",
    "\n",
    "df_customer = spark.read.format(\"csv\")\\\n",
    "    .option(\"inferSchema\", \"true\") \\\n",
    "    .option(\"schema\", file_schema) \\\n",
    "    .option(\"header\", \"true\") \\\n",
    "    .option(\"sep\", \";\") \\\n",
    "    .option(\"encoding\", \"utf-8\") \\\n",
    "    .load(file_path)\n",
    "\n",
    "df_customer.show(3)"
   ]
  },
  {
   "cell_type": "code",
   "execution_count": 0,
   "metadata": {
    "application/vnd.databricks.v1+cell": {
     "cellMetadata": {
      "byteLimit": 2048000,
      "rowLimit": 10000
     },
     "inputWidgets": {},
     "nuid": "765dd7de-b537-46ad-8b57-f7674b9f9933",
     "showTitle": false,
     "tableResultSettingsMap": {},
     "title": ""
    }
   },
   "outputs": [
    {
     "output_type": "stream",
     "name": "stdout",
     "output_type": "stream",
     "text": [
      "root\n |-- Número da Conta: integer (nullable = true)\n |-- Nome do Cliente: string (nullable = true)\n |-- Endereço: string (nullable = true)\n |-- Telefone: string (nullable = true)\n |-- Email: string (nullable = true)\n\n"
     ]
    }
   ],
   "source": [
    "# Visualizar como está a estrutura de cada coluna\n",
    "df_customer.printSchema()"
   ]
  },
  {
   "cell_type": "code",
   "execution_count": 0,
   "metadata": {
    "application/vnd.databricks.v1+cell": {
     "cellMetadata": {
      "byteLimit": 2048000,
      "rowLimit": 10000
     },
     "inputWidgets": {},
     "nuid": "70d9aa15-b84e-453e-a57d-3eb5202dc895",
     "showTitle": false,
     "tableResultSettingsMap": {},
     "title": ""
    }
   },
   "outputs": [
    {
     "output_type": "stream",
     "name": "stdout",
     "output_type": "stream",
     "text": [
      "Number of rows: 1001\nRow: [Row(Número da Conta=1, Nome do Cliente='Fernanda Lima', Endereço='Rua da Consolação, 2223', Telefone='(11) 98623-5795', Email='cliente1@exemplo.com')]\n\nNumber of columns: 5\nColumns: ['Número da Conta', 'Nome do Cliente', 'Endereço', 'Telefone', 'Email']\n"
     ]
    }
   ],
   "source": [
    "# Quantidade de linhas do dataframe\n",
    "number_rows = df_customer.count()\n",
    "\n",
    "# Quantidade de colunas do dataframe\n",
    "# dtypes = info\n",
    "number_columns = len(df_customer.dtypes)\n",
    "\n",
    "print(f'Number of rows: {number_rows}')\n",
    "print(f'Row: {df_customer.head(1)}\\n')\n",
    "print(f'Number of columns: {number_columns}')\n",
    "print(f'Columns: {df_customer.columns}')"
   ]
  },
  {
   "cell_type": "markdown",
   "metadata": {
    "application/vnd.databricks.v1+cell": {
     "cellMetadata": {},
     "inputWidgets": {},
     "nuid": "716446be-1f7a-4910-a181-c270e2717b7a",
     "showTitle": false,
     "tableResultSettingsMap": {},
     "title": ""
    }
   },
   "source": [
    "4- Normalizações"
   ]
  },
  {
   "cell_type": "markdown",
   "metadata": {
    "application/vnd.databricks.v1+cell": {
     "cellMetadata": {},
     "inputWidgets": {},
     "nuid": "17c29545-2337-408e-99a1-f4f22bc12709",
     "showTitle": false,
     "tableResultSettingsMap": {},
     "title": ""
    }
   },
   "source": [
    "- Normalizar a coluna Endereço (col1= Logradouro e col2= Número do Logradouro)"
   ]
  },
  {
   "cell_type": "code",
   "execution_count": 0,
   "metadata": {
    "application/vnd.databricks.v1+cell": {
     "cellMetadata": {
      "byteLimit": 2048000,
      "rowLimit": 10000
     },
     "inputWidgets": {},
     "nuid": "2667a7ff-3d5c-4bfb-b24e-39f2fce9b71b",
     "showTitle": false,
     "tableResultSettingsMap": {},
     "title": ""
    }
   },
   "outputs": [
    {
     "output_type": "stream",
     "name": "stdout",
     "output_type": "stream",
     "text": [
      "+---------------+---------------+---------------+--------------------+-----------------+-----------------+\n|Número da Conta|Nome do Cliente|       Telefone|               Email|       Logradouro|Número Logradouro|\n+---------------+---------------+---------------+--------------------+-----------------+-----------------+\n|              1|  Fernanda Lima|(11) 98623-5795|cliente1@exemplo.com|Rua da Consolação|             2223|\n|              2|  Juliana Costa|(11) 98959-1767|cliente2@exemplo.com|      Rua Augusta|             1011|\n|              3|   Pedro Santos|(11) 93947-2587|cliente3@exemplo.com|Rua da Consolação|             2223|\n+---------------+---------------+---------------+--------------------+-----------------+-----------------+\nonly showing top 3 rows\n\n"
     ]
    }
   ],
   "source": [
    "# É necessário essa biblioteca: from pyspark.sql.functions import split\n",
    "\n",
    "# Dividir a coluna 'Endereço' em 'Logradouro' (antes da virgula) e 'Número Logradouro' (depois da virgula)\n",
    "df_customer = df_customer.withColumn(\"Logradouro\", split(df_customer[\"Endereço\"], \",\")[0])\n",
    "df_customer = df_customer.withColumn(\"Número Logradouro\", split(df_customer[\"Endereço\"], \",\")[1])\n",
    "\n",
    "# Dropar a coluna 'Endereço'\n",
    "df_customer = df_customer.drop(\"Endereço\")\n",
    "\n",
    "df_customer.show(3)"
   ]
  },
  {
   "cell_type": "markdown",
   "metadata": {
    "application/vnd.databricks.v1+cell": {
     "cellMetadata": {},
     "inputWidgets": {},
     "nuid": "b699d343-0747-4017-bdd3-35573d886d70",
     "showTitle": false,
     "tableResultSettingsMap": {},
     "title": ""
    }
   },
   "source": [
    "- Normalizar a coluna Telefone (col1= DDD e col2= Telefone)"
   ]
  },
  {
   "cell_type": "code",
   "execution_count": 0,
   "metadata": {
    "application/vnd.databricks.v1+cell": {
     "cellMetadata": {
      "byteLimit": 2048000,
      "rowLimit": 10000
     },
     "inputWidgets": {},
     "nuid": "2bf7a564-059e-4e59-9a08-28742a8dec75",
     "showTitle": false,
     "tableResultSettingsMap": {},
     "title": ""
    }
   },
   "outputs": [
    {
     "output_type": "stream",
     "name": "stdout",
     "output_type": "stream",
     "text": [
      "+---------------+---------------+---------------+--------------------+-----------------+-----------------+----+---------------+\n|Número da Conta|Nome do Cliente|       Telefone|               Email|       Logradouro|Número Logradouro| DDD|Número Telefone|\n+---------------+---------------+---------------+--------------------+-----------------+-----------------+----+---------------+\n|              1|  Fernanda Lima|(11) 98623-5795|cliente1@exemplo.com|Rua da Consolação|             2223|(11)|     98623-5795|\n|              2|  Juliana Costa|(11) 98959-1767|cliente2@exemplo.com|      Rua Augusta|             1011|(11)|     98959-1767|\n|              3|   Pedro Santos|(11) 93947-2587|cliente3@exemplo.com|Rua da Consolação|             2223|(11)|     93947-2587|\n+---------------+---------------+---------------+--------------------+-----------------+-----------------+----+---------------+\nonly showing top 3 rows\n\n"
     ]
    }
   ],
   "source": [
    "# É necessário essa biblioteca: from pyspark.sql.functions import substring\n",
    "\n",
    "# Dividir a coluna 'Telefone' em 'DDD' (antes do parenteses) e 'Telefone' (depois do parenteses)\n",
    "df_customer = df_customer.withColumn(\"DDD\", split(df_customer[\"Telefone\"], \" \")[0])\n",
    "df_customer = df_customer.withColumn(\"Número Telefone\", split(df_customer[\"Telefone\"], \" \")[1])\n",
    "\n",
    "df_customer.show(3)"
   ]
  },
  {
   "cell_type": "code",
   "execution_count": 0,
   "metadata": {
    "application/vnd.databricks.v1+cell": {
     "cellMetadata": {
      "byteLimit": 2048000,
      "rowLimit": 10000
     },
     "inputWidgets": {},
     "nuid": "56336456-59bc-4c2a-a405-125830bfcdb0",
     "showTitle": false,
     "tableResultSettingsMap": {},
     "title": ""
    }
   },
   "outputs": [
    {
     "output_type": "stream",
     "name": "stdout",
     "output_type": "stream",
     "text": [
      "+---------------+---------------+--------------------+-----------------+-----------------+---+---------------+\n|Número da Conta|Nome do Cliente|               Email|       Logradouro|Número Logradouro|DDD|Número Telefone|\n+---------------+---------------+--------------------+-----------------+-----------------+---+---------------+\n|              1|  Fernanda Lima|cliente1@exemplo.com|Rua da Consolação|             2223| 11|      986235795|\n|              2|  Juliana Costa|cliente2@exemplo.com|      Rua Augusta|             1011| 11|      989591767|\n|              3|   Pedro Santos|cliente3@exemplo.com|Rua da Consolação|             2223| 11|      939472587|\n+---------------+---------------+--------------------+-----------------+-----------------+---+---------------+\nonly showing top 3 rows\n\n"
     ]
    }
   ],
   "source": [
    "# É necessário essas bibliotecas: from pyspark.sql import SparkSession e from pyspark.sql.functions import regexp_replace\n",
    "\n",
    "# Fazer a limpeza dos caracteres especiais >>> Substituir () - e espaços por nada\n",
    "df_customer = df_customer.withColumn('DDD', regexp_replace('DDD', r'\\(|\\)|\\ ', ''))\n",
    "df_customer = df_customer.withColumn('Número Telefone', regexp_replace('Número Telefone', r'\\-|\\ ', ''))\n",
    "\n",
    "# Dropar a coluna 'Telefone'\n",
    "df_customer = df_customer.drop(\"Telefone\")\n",
    "\n",
    "df_customer.show(3)"
   ]
  },
  {
   "cell_type": "markdown",
   "metadata": {
    "application/vnd.databricks.v1+cell": {
     "cellMetadata": {},
     "inputWidgets": {},
     "nuid": "0da57d6f-eb3a-4178-b75d-0d8145f3b7a7",
     "showTitle": false,
     "tableResultSettingsMap": {},
     "title": ""
    }
   },
   "source": [
    "5 - Alterar os tipos das colunas do dataframe"
   ]
  },
  {
   "cell_type": "code",
   "execution_count": 0,
   "metadata": {
    "application/vnd.databricks.v1+cell": {
     "cellMetadata": {
      "byteLimit": 2048000,
      "rowLimit": 10000
     },
     "inputWidgets": {},
     "nuid": "4228bba1-fead-4f76-b909-d8e7259810ac",
     "showTitle": false,
     "tableResultSettingsMap": {},
     "title": ""
    }
   },
   "outputs": [],
   "source": [
    "# É necessário essas bibliotecas: from pyspark.sql.types import IntegerType e from pyspark.sql import functions as F\n",
    "\n",
    "# Setando tipos de dados das colunas\n",
    "df_customer = df_customer.withColumn(\"Logradouro\", F.col(\"Logradouro\").cast(StringType())) \\\n",
    "    .withColumn(\"Número Logradouro\", F.col(\"Número Logradouro\").cast(IntegerType())) \\\n",
    "    .withColumn(\"DDD\", F.col(\"DDD\").cast(IntegerType())) \\\n",
    "    .withColumn(\"Número Telefone\", F.col(\"Número Telefone\").cast(IntegerType()))\n",
    "\n"
   ]
  },
  {
   "cell_type": "code",
   "execution_count": 0,
   "metadata": {
    "application/vnd.databricks.v1+cell": {
     "cellMetadata": {
      "byteLimit": 2048000,
      "rowLimit": 10000
     },
     "inputWidgets": {},
     "nuid": "f76e19f1-ad17-4ec9-9f02-28b0ae4ab501",
     "showTitle": false,
     "tableResultSettingsMap": {},
     "title": ""
    }
   },
   "outputs": [
    {
     "output_type": "stream",
     "name": "stdout",
     "output_type": "stream",
     "text": [
      "root\n |-- Número da Conta: integer (nullable = true)\n |-- Nome do Cliente: string (nullable = true)\n |-- Email: string (nullable = true)\n |-- Logradouro: string (nullable = true)\n |-- Número Logradouro: integer (nullable = true)\n |-- DDD: integer (nullable = true)\n |-- Número Telefone: integer (nullable = true)\n\n"
     ]
    }
   ],
   "source": [
    "# Visualizar como está a estrutura de cada coluna\n",
    "df_customer.printSchema()"
   ]
  },
  {
   "cell_type": "code",
   "execution_count": 0,
   "metadata": {
    "application/vnd.databricks.v1+cell": {
     "cellMetadata": {
      "byteLimit": 2048000,
      "rowLimit": 10000
     },
     "inputWidgets": {},
     "nuid": "da9ef9f6-5020-45ea-b37b-d73f27dc2c5c",
     "showTitle": false,
     "tableResultSettingsMap": {},
     "title": ""
    }
   },
   "outputs": [
    {
     "output_type": "stream",
     "name": "stdout",
     "output_type": "stream",
     "text": [
      "Number of rows: 1001\nRow: [Row(Número da Conta=1, Nome do Cliente='Fernanda Lima', Email='cliente1@exemplo.com', Logradouro='Rua da Consolação', Número Logradouro=2223, DDD=11, Número Telefone=986235795)]\n\nNumber of columns: 7\nColumns: ['Número da Conta', 'Nome do Cliente', 'Email', 'Logradouro', 'Número Logradouro', 'DDD', 'Número Telefone']\n"
     ]
    }
   ],
   "source": [
    "# Quantidade de linhas do dataframe\n",
    "number_rows = df_customer.count()\n",
    "\n",
    "# Quantidade de colunas do dataframe\n",
    "# dtypes = info\n",
    "number_columns = len(df_customer.dtypes)\n",
    "\n",
    "print(f'Number of rows: {number_rows}')\n",
    "print(f'Row: {df_customer.head(1)}\\n')\n",
    "print(f'Number of columns: {number_columns}')\n",
    "print(f'Columns: {df_customer.columns}')"
   ]
  },
  {
   "cell_type": "markdown",
   "metadata": {
    "application/vnd.databricks.v1+cell": {
     "cellMetadata": {},
     "inputWidgets": {},
     "nuid": "319875fe-9f53-4075-b12e-19767de6904f",
     "showTitle": false,
     "tableResultSettingsMap": {},
     "title": ""
    }
   },
   "source": [
    "6- Filtros e agregações no dataframe"
   ]
  },
  {
   "cell_type": "code",
   "execution_count": 0,
   "metadata": {
    "application/vnd.databricks.v1+cell": {
     "cellMetadata": {
      "byteLimit": 2048000,
      "rowLimit": 10000
     },
     "inputWidgets": {},
     "nuid": "9f630530-3780-4452-811f-8e14767da7a5",
     "showTitle": false,
     "tableResultSettingsMap": {},
     "title": ""
    }
   },
   "outputs": [
    {
     "output_type": "stream",
     "name": "stdout",
     "output_type": "stream",
     "text": [
      "+---+---------+--------------------+\n|DDD| Telefone|   Cidade Região DDD|\n+---+---------+--------------------+\n| 11|986235795|Região Metropolit...|\n| 11|989591767|Região Metropolit...|\n| 11|939472587|Região Metropolit...|\n| 11|993453815|Região Metropolit...|\n| 11|964492610|Região Metropolit...|\n| 11|949146650|Região Metropolit...|\n| 11|935213943|Região Metropolit...|\n| 11|919848352|Região Metropolit...|\n| 11|952406030|Região Metropolit...|\n| 11|915694953|Região Metropolit...|\n| 11|998834579|Região Metropolit...|\n| 11|916898490|Região Metropolit...|\n| 11|929255254|Região Metropolit...|\n| 11|937508674|Região Metropolit...|\n| 11|964363441|Região Metropolit...|\n| 11|970225724|Região Metropolit...|\n| 11|999144856|Região Metropolit...|\n| 11|967671371|Região Metropolit...|\n| 11|990908621|Região Metropolit...|\n| 11|940032265|Região Metropolit...|\n+---+---------+--------------------+\nonly showing top 20 rows\n\n"
     ]
    }
   ],
   "source": [
    "# Fitrar DDD, Número do telefone e a Cidade Região de cada um dos DDD \n",
    "filtrar_df_costumer = df_customer.select(col(\"DDD\")\n",
    "                    ,col(\"Número Telefone\").alias(\"Telefone\")\n",
    "                    ,when(df_customer.DDD == \"11\",\"Região Metropolitana de São Paulo\")\n",
    "                    .when(df_customer.DDD == \"12\",\"Vale do Paraíba e Litoral Norte\")\n",
    "                    .when(df_customer.DDD == \"13\",\"Baixada Santista\")\n",
    "                    .when(df_customer.DDD == \"14\",\"Bauru e região\")\n",
    "                    .when(df_customer.DDD == \"15\",\"Sorocaba e região\")\n",
    "                    .when(df_customer.DDD == \"16\",\"Ribeirão Preto e região\")\n",
    "                    .when(df_customer.DDD == \"17\",\"São José do Rio Preto e região\")\n",
    "                    .when(df_customer.DDD == \"18\",\"Presidente Prudente e região\")\n",
    "                    .when(df_customer.DDD == \"19\",\"Campinas e região\")\n",
    "                    .when(df_customer.DDD.isNull() ,\"Outro Estado\")\n",
    "                    .otherwise(df_customer.DDD).alias(\"Cidade Região DDD\")).show()"
   ]
  },
  {
   "cell_type": "code",
   "execution_count": 0,
   "metadata": {
    "application/vnd.databricks.v1+cell": {
     "cellMetadata": {
      "byteLimit": 2048000,
      "rowLimit": 10000
     },
     "inputWidgets": {},
     "nuid": "d053aa93-0c01-44c1-ad64-c87f7f9efeb4",
     "showTitle": false,
     "tableResultSettingsMap": {},
     "title": ""
    }
   },
   "outputs": [
    {
     "output_type": "stream",
     "name": "stdout",
     "output_type": "stream",
     "text": [
      "+---------------+---------------+--------------------+------------------+-----------------+---+---------------+\n|Número da Conta|Nome do Cliente|               Email|        Logradouro|Número Logradouro|DDD|Número Telefone|\n+---------------+---------------+--------------------+------------------+-----------------+---+---------------+\n|              2|  Juliana Costa|cliente2@exemplo.com|       Rua Augusta|             1011| 11|      989591767|\n|              7|  Juliana Costa|cliente7@exemplo.com|  Avenida Paulista|              456| 11|      935213943|\n|             10|     João Silva|cliente10@exemplo...|    Avenida Brasil|             1213| 11|      915694953|\n|             14|     João Silva|cliente14@exemplo...|  Avenida Ipiranga|             2021| 11|      937508674|\n|             17|     João Silva|cliente17@exemplo...|    Rua das Flores|              123| 11|      999144856|\n|             18|     João Silva|cliente18@exemplo...| Avenida Atlântica|             1617| 11|      967671371|\n|             19|  Juliana Costa|cliente19@exemplo...|Rua XV de Novembro|             1415| 11|      990908621|\n|             25|  Juliana Costa|cliente25@exemplo...| Avenida Atlântica|             1617| 11|      960019926|\n|             31|  Juliana Costa|cliente31@exemplo...|  Avenida Paulista|              456| 11|      932425096|\n|             36|     João Silva|cliente36@exemplo...|    Rua das Flores|              123| 11|      975703918|\n|             41|  Juliana Costa|cliente41@exemplo...|       Rua Augusta|             1011| 11|      983319507|\n|             47|     João Silva|cliente47@exemplo...|  Avenida Ipiranga|             2021| 11|      915008303|\n|             54|  Juliana Costa|cliente54@exemplo...|    Avenida Brasil|             1213| 11|      945032190|\n|             66|     João Silva|cliente66@exemplo...| Rua das Palmeiras|             1819| 11|      976862060|\n|             73|  Juliana Costa|cliente73@exemplo...|    Avenida Brasil|             1213| 11|      976389072|\n|             82|  Juliana Costa|cliente82@exemplo...|Rua XV de Novembro|             1415| 11|      925378574|\n|             85|  Juliana Costa|cliente85@exemplo...|       Praça da Sé|              789| 11|      955698583|\n|             86|  Juliana Costa|cliente86@exemplo...|Rua XV de Novembro|             1415| 11|      981694270|\n|             93|     João Silva|cliente93@exemplo...|    Rua das Flores|              123| 11|      996166806|\n|             94|     João Silva|cliente94@exemplo...|    Avenida Brasil|             1213| 11|      918057686|\n+---------------+---------------+--------------------+------------------+-----------------+---+---------------+\nonly showing top 20 rows\n\n"
     ]
    }
   ],
   "source": [
    "# Filtrar os dados dos clientes que começam com a letra 'J'\n",
    "filtrar_costumer_j = df_customer.filter(F.col('Nome do Cliente').like(\"J%\"))\n",
    "filtrar_costumer_j.show()"
   ]
  },
  {
   "cell_type": "code",
   "execution_count": 0,
   "metadata": {
    "application/vnd.databricks.v1+cell": {
     "cellMetadata": {
      "byteLimit": 2048000,
      "rowLimit": 10000
     },
     "inputWidgets": {},
     "nuid": "158ec252-d177-4faf-9e27-fc6e17983338",
     "showTitle": false,
     "tableResultSettingsMap": {},
     "title": ""
    }
   },
   "outputs": [
    {
     "output_type": "stream",
     "name": "stdout",
     "output_type": "stream",
     "text": [
      "+---+------------+\n|DDD|Contagem DDD|\n+---+------------+\n| 11|        1001|\n+---+------------+\n\n"
     ]
    }
   ],
   "source": [
    "# Agregação por DDD\n",
    "# É necessário essa biblioteca: import pyspark.sql.functions importar avg \n",
    "agregacao_ddd_costumer = df_customer.groupBy(df_customer.DDD).agg(F.count(F.col('Nome do cliente')).alias('Contagem DDD'))\n",
    "agregacao_ddd_costumer.show() \n"
   ]
  },
  {
   "cell_type": "markdown",
   "metadata": {
    "application/vnd.databricks.v1+cell": {
     "cellMetadata": {},
     "inputWidgets": {},
     "nuid": "830f82da-9a0e-4023-8ca4-13c3d4cb2a95",
     "showTitle": false,
     "tableResultSettingsMap": {},
     "title": ""
    }
   },
   "source": [
    "7- Salvar em formato parquet"
   ]
  },
  {
   "cell_type": "code",
   "execution_count": 0,
   "metadata": {
    "application/vnd.databricks.v1+cell": {
     "cellMetadata": {
      "byteLimit": 2048000,
      "rowLimit": 10000
     },
     "inputWidgets": {},
     "nuid": "9659a5a0-289a-401d-bac8-4e21d37f17ef",
     "showTitle": false,
     "tableResultSettingsMap": {},
     "title": ""
    }
   },
   "outputs": [],
   "source": [
    "df_customer.write.parquet('/path/to/save/df_file_costumer.parquet')"
   ]
  },
  {
   "cell_type": "markdown",
   "metadata": {
    "application/vnd.databricks.v1+cell": {
     "cellMetadata": {},
     "inputWidgets": {},
     "nuid": "46bd4629-5970-454d-89f8-256ad5a0e08e",
     "showTitle": false,
     "tableResultSettingsMap": {},
     "title": ""
    }
   },
   "source": [
    "8- Visualizar o dataframe em uma view (SQL)"
   ]
  },
  {
   "cell_type": "code",
   "execution_count": 0,
   "metadata": {
    "application/vnd.databricks.v1+cell": {
     "cellMetadata": {
      "byteLimit": 2048000,
      "rowLimit": 10000
     },
     "inputWidgets": {},
     "nuid": "b9896e3c-07df-42a4-a0fd-530ac1c7c1b0",
     "showTitle": false,
     "tableResultSettingsMap": {},
     "title": ""
    }
   },
   "outputs": [],
   "source": [
    "df_customer.createOrReplaceTempView(\"dados_clientes\")"
   ]
  },
  {
   "cell_type": "code",
   "execution_count": 0,
   "metadata": {
    "application/vnd.databricks.v1+cell": {
     "cellMetadata": {
      "byteLimit": 2048000,
      "implicitDf": true,
      "rowLimit": 10000
     },
     "inputWidgets": {},
     "nuid": "3ae97ea9-5045-48af-8616-0dd2edd898f0",
     "showTitle": false,
     "tableResultSettingsMap": {},
     "title": ""
    }
   },
   "outputs": [
    {
     "output_type": "display_data",
     "data": {
      "text/html": [
       "<style scoped>\n",
       "  .table-result-container {\n",
       "    max-height: 300px;\n",
       "    overflow: auto;\n",
       "  }\n",
       "  table, th, td {\n",
       "    border: 1px solid black;\n",
       "    border-collapse: collapse;\n",
       "  }\n",
       "  th, td {\n",
       "    padding: 5px;\n",
       "  }\n",
       "  th {\n",
       "    text-align: left;\n",
       "  }\n",
       "</style><div class='table-result-container'><table class='table-result'><thead style='background-color: white'><tr><th>Número da Conta</th><th>Nome do Cliente</th><th>Email</th><th>Logradouro</th><th>Número Logradouro</th><th>DDD</th><th>Número Telefone</th></tr></thead><tbody><tr><td>1</td><td>Fernanda Lima</td><td>cliente1@exemplo.com</td><td>Rua da Consolação</td><td>2223</td><td>11</td><td>986235795</td></tr><tr><td>2</td><td>Juliana Costa</td><td>cliente2@exemplo.com</td><td>Rua Augusta</td><td>1011</td><td>11</td><td>989591767</td></tr><tr><td>3</td><td>Pedro Santos</td><td>cliente3@exemplo.com</td><td>Rua da Consolação</td><td>2223</td><td>11</td><td>939472587</td></tr><tr><td>4</td><td>Fernanda Lima</td><td>cliente4@exemplo.com</td><td>Rua Augusta</td><td>1011</td><td>11</td><td>993453815</td></tr><tr><td>5</td><td>Lucas Fernandes</td><td>cliente5@exemplo.com</td><td>Rua da Consolação</td><td>2223</td><td>11</td><td>964492610</td></tr><tr><td>6</td><td>Carlos Pereira</td><td>cliente6@exemplo.com</td><td>Rua XV de Novembro</td><td>1415</td><td>11</td><td>949146650</td></tr><tr><td>7</td><td>Juliana Costa</td><td>cliente7@exemplo.com</td><td>Avenida Paulista</td><td>456</td><td>11</td><td>935213943</td></tr><tr><td>8</td><td>Carlos Pereira</td><td>cliente8@exemplo.com</td><td>Avenida Paulista</td><td>456</td><td>11</td><td>919848352</td></tr><tr><td>9</td><td>Ana Souza</td><td>cliente9@exemplo.com</td><td>Avenida Atlântica</td><td>1617</td><td>11</td><td>952406030</td></tr><tr><td>10</td><td>João Silva</td><td>cliente10@exemplo.com</td><td>Avenida Brasil</td><td>1213</td><td>11</td><td>915694953</td></tr><tr><td>11</td><td>Lucas Fernandes</td><td>cliente11@exemplo.com</td><td>Rua da Consolação</td><td>2223</td><td>11</td><td>998834579</td></tr><tr><td>12</td><td>Carlos Pereira</td><td>cliente12@exemplo.com</td><td>Rua das Flores</td><td>123</td><td>11</td><td>916898490</td></tr><tr><td>13</td><td>Mariana Rocha</td><td>cliente13@exemplo.com</td><td>Rua XV de Novembro</td><td>1415</td><td>11</td><td>929255254</td></tr><tr><td>14</td><td>João Silva</td><td>cliente14@exemplo.com</td><td>Avenida Ipiranga</td><td>2021</td><td>11</td><td>937508674</td></tr><tr><td>15</td><td>Carlos Pereira</td><td>cliente15@exemplo.com</td><td>Avenida Brasil</td><td>1213</td><td>11</td><td>964363441</td></tr><tr><td>16</td><td>Lucas Fernandes</td><td>cliente16@exemplo.com</td><td>Avenida Ipiranga</td><td>2021</td><td>11</td><td>970225724</td></tr><tr><td>17</td><td>João Silva</td><td>cliente17@exemplo.com</td><td>Rua das Flores</td><td>123</td><td>11</td><td>999144856</td></tr><tr><td>18</td><td>João Silva</td><td>cliente18@exemplo.com</td><td>Avenida Atlântica</td><td>1617</td><td>11</td><td>967671371</td></tr><tr><td>19</td><td>Juliana Costa</td><td>cliente19@exemplo.com</td><td>Rua XV de Novembro</td><td>1415</td><td>11</td><td>990908621</td></tr><tr><td>20</td><td>Carlos Pereira</td><td>cliente20@exemplo.com</td><td>Rua das Palmeiras</td><td>1819</td><td>11</td><td>940032265</td></tr><tr><td>21</td><td>Carlos Pereira</td><td>cliente21@exemplo.com</td><td>Rua da Consolação</td><td>2223</td><td>11</td><td>942037540</td></tr><tr><td>22</td><td>Lucas Fernandes</td><td>cliente22@exemplo.com</td><td>Avenida Paulista</td><td>456</td><td>11</td><td>958372509</td></tr><tr><td>23</td><td>Mariana Rocha</td><td>cliente23@exemplo.com</td><td>Avenida Brasil</td><td>1213</td><td>11</td><td>955145028</td></tr><tr><td>24</td><td>Fernanda Lima</td><td>cliente24@exemplo.com</td><td>Rua das Flores</td><td>123</td><td>11</td><td>923148978</td></tr><tr><td>25</td><td>Juliana Costa</td><td>cliente25@exemplo.com</td><td>Avenida Atlântica</td><td>1617</td><td>11</td><td>960019926</td></tr><tr><td>26</td><td>Carlos Pereira</td><td>cliente26@exemplo.com</td><td>Praça da Sé</td><td>789</td><td>11</td><td>973484894</td></tr><tr><td>27</td><td>Carlos Pereira</td><td>cliente27@exemplo.com</td><td>Avenida Brasil</td><td>1213</td><td>11</td><td>965773151</td></tr><tr><td>28</td><td>Ana Souza</td><td>cliente28@exemplo.com</td><td>Avenida Paulista</td><td>456</td><td>11</td><td>946262290</td></tr><tr><td>29</td><td>Maria Oliveira</td><td>cliente29@exemplo.com</td><td>Avenida Atlântica</td><td>1617</td><td>11</td><td>923771600</td></tr><tr><td>30</td><td>Carlos Pereira</td><td>cliente30@exemplo.com</td><td>Rua da Consolação</td><td>2223</td><td>11</td><td>929751354</td></tr><tr><td>31</td><td>Juliana Costa</td><td>cliente31@exemplo.com</td><td>Avenida Paulista</td><td>456</td><td>11</td><td>932425096</td></tr><tr><td>32</td><td>Carlos Pereira</td><td>cliente32@exemplo.com</td><td>Avenida Paulista</td><td>456</td><td>11</td><td>979048421</td></tr><tr><td>33</td><td>Maria Oliveira</td><td>cliente33@exemplo.com</td><td>Avenida Brasil</td><td>1213</td><td>11</td><td>976055177</td></tr><tr><td>34</td><td>Carlos Pereira</td><td>cliente34@exemplo.com</td><td>Avenida Paulista</td><td>456</td><td>11</td><td>937323379</td></tr><tr><td>35</td><td>Maria Oliveira</td><td>cliente35@exemplo.com</td><td>Avenida Ipiranga</td><td>2021</td><td>11</td><td>920971782</td></tr><tr><td>36</td><td>João Silva</td><td>cliente36@exemplo.com</td><td>Rua das Flores</td><td>123</td><td>11</td><td>975703918</td></tr><tr><td>37</td><td>Mariana Rocha</td><td>cliente37@exemplo.com</td><td>Rua Augusta</td><td>1011</td><td>11</td><td>998714509</td></tr><tr><td>38</td><td>Carlos Pereira</td><td>cliente38@exemplo.com</td><td>Rua da Consolação</td><td>2223</td><td>11</td><td>965297907</td></tr><tr><td>39</td><td>Paulo Almeida</td><td>cliente39@exemplo.com</td><td>Rua Augusta</td><td>1011</td><td>11</td><td>968148509</td></tr><tr><td>40</td><td>Maria Oliveira</td><td>cliente40@exemplo.com</td><td>Rua das Flores</td><td>123</td><td>11</td><td>997864844</td></tr><tr><td>41</td><td>Juliana Costa</td><td>cliente41@exemplo.com</td><td>Rua Augusta</td><td>1011</td><td>11</td><td>983319507</td></tr><tr><td>42</td><td>Ana Souza</td><td>cliente42@exemplo.com</td><td>Avenida Brasil</td><td>1213</td><td>11</td><td>915652120</td></tr><tr><td>43</td><td>Fernanda Lima</td><td>cliente43@exemplo.com</td><td>Rua das Flores</td><td>123</td><td>11</td><td>912991845</td></tr><tr><td>44</td><td>Paulo Almeida</td><td>cliente44@exemplo.com</td><td>Rua das Flores</td><td>123</td><td>11</td><td>989371952</td></tr><tr><td>45</td><td>Fernanda Lima</td><td>cliente45@exemplo.com</td><td>Avenida Atlântica</td><td>1617</td><td>11</td><td>928321726</td></tr><tr><td>46</td><td>Fernanda Lima</td><td>cliente46@exemplo.com</td><td>Avenida Atlântica</td><td>1617</td><td>11</td><td>985249030</td></tr><tr><td>47</td><td>João Silva</td><td>cliente47@exemplo.com</td><td>Avenida Ipiranga</td><td>2021</td><td>11</td><td>915008303</td></tr><tr><td>48</td><td>Maria Oliveira</td><td>cliente48@exemplo.com</td><td>Rua da Consolação</td><td>2223</td><td>11</td><td>980165445</td></tr><tr><td>49</td><td>Maria Oliveira</td><td>cliente49@exemplo.com</td><td>Rua das Palmeiras</td><td>1819</td><td>11</td><td>976799552</td></tr><tr><td>50</td><td>Ana Souza</td><td>cliente50@exemplo.com</td><td>Avenida Brasil</td><td>1213</td><td>11</td><td>978166178</td></tr><tr><td>51</td><td>Ana Souza</td><td>cliente51@exemplo.com</td><td>Avenida Ipiranga</td><td>2021</td><td>11</td><td>985509292</td></tr><tr><td>52</td><td>Mariana Rocha</td><td>cliente52@exemplo.com</td><td>Rua das Flores</td><td>123</td><td>11</td><td>985553454</td></tr><tr><td>53</td><td>Fernanda Lima</td><td>cliente53@exemplo.com</td><td>Rua da Consolação</td><td>2223</td><td>11</td><td>923154886</td></tr><tr><td>54</td><td>Juliana Costa</td><td>cliente54@exemplo.com</td><td>Avenida Brasil</td><td>1213</td><td>11</td><td>945032190</td></tr><tr><td>55</td><td>Ana Souza</td><td>cliente55@exemplo.com</td><td>Rua Augusta</td><td>1011</td><td>11</td><td>925393603</td></tr><tr><td>56</td><td>Fernanda Lima</td><td>cliente56@exemplo.com</td><td>Rua das Flores</td><td>123</td><td>11</td><td>991304398</td></tr><tr><td>57</td><td>Carlos Pereira</td><td>cliente57@exemplo.com</td><td>Rua Augusta</td><td>1011</td><td>11</td><td>933604364</td></tr><tr><td>58</td><td>Maria Oliveira</td><td>cliente58@exemplo.com</td><td>Rua Augusta</td><td>1011</td><td>11</td><td>965772886</td></tr><tr><td>59</td><td>Lucas Fernandes</td><td>cliente59@exemplo.com</td><td>Praça da Sé</td><td>789</td><td>11</td><td>990472979</td></tr><tr><td>60</td><td>Maria Oliveira</td><td>cliente60@exemplo.com</td><td>Avenida Atlântica</td><td>1617</td><td>11</td><td>917074086</td></tr><tr><td>61</td><td>Maria Oliveira</td><td>cliente61@exemplo.com</td><td>Rua Augusta</td><td>1011</td><td>11</td><td>963503938</td></tr><tr><td>62</td><td>Fernanda Lima</td><td>cliente62@exemplo.com</td><td>Rua Augusta</td><td>1011</td><td>11</td><td>999366547</td></tr><tr><td>63</td><td>Mariana Rocha</td><td>cliente63@exemplo.com</td><td>Avenida Paulista</td><td>456</td><td>11</td><td>954487591</td></tr><tr><td>64</td><td>Mariana Rocha</td><td>cliente64@exemplo.com</td><td>Rua das Flores</td><td>123</td><td>11</td><td>950232127</td></tr><tr><td>65</td><td>Mariana Rocha</td><td>cliente65@exemplo.com</td><td>Rua da Consolação</td><td>2223</td><td>11</td><td>969575575</td></tr><tr><td>66</td><td>João Silva</td><td>cliente66@exemplo.com</td><td>Rua das Palmeiras</td><td>1819</td><td>11</td><td>976862060</td></tr><tr><td>67</td><td>Maria Oliveira</td><td>cliente67@exemplo.com</td><td>Rua das Palmeiras</td><td>1819</td><td>11</td><td>939431891</td></tr><tr><td>68</td><td>Paulo Almeida</td><td>cliente68@exemplo.com</td><td>Avenida Atlântica</td><td>1617</td><td>11</td><td>938376741</td></tr><tr><td>69</td><td>Paulo Almeida</td><td>cliente69@exemplo.com</td><td>Avenida Ipiranga</td><td>2021</td><td>11</td><td>928891292</td></tr><tr><td>70</td><td>Fernanda Lima</td><td>cliente70@exemplo.com</td><td>Avenida Ipiranga</td><td>2021</td><td>11</td><td>981113081</td></tr><tr><td>71</td><td>Mariana Rocha</td><td>cliente71@exemplo.com</td><td>Praça da Sé</td><td>789</td><td>11</td><td>934967486</td></tr><tr><td>72</td><td>Ana Souza</td><td>cliente72@exemplo.com</td><td>Rua das Flores</td><td>123</td><td>11</td><td>994149426</td></tr><tr><td>73</td><td>Juliana Costa</td><td>cliente73@exemplo.com</td><td>Avenida Brasil</td><td>1213</td><td>11</td><td>976389072</td></tr><tr><td>74</td><td>Carlos Pereira</td><td>cliente74@exemplo.com</td><td>Rua das Palmeiras</td><td>1819</td><td>11</td><td>934831288</td></tr><tr><td>75</td><td>Paulo Almeida</td><td>cliente75@exemplo.com</td><td>Rua XV de Novembro</td><td>1415</td><td>11</td><td>981418418</td></tr><tr><td>76</td><td>Lucas Fernandes</td><td>cliente76@exemplo.com</td><td>Avenida Atlântica</td><td>1617</td><td>11</td><td>969028724</td></tr><tr><td>77</td><td>Maria Oliveira</td><td>cliente77@exemplo.com</td><td>Avenida Paulista</td><td>456</td><td>11</td><td>912561658</td></tr><tr><td>78</td><td>Ana Souza</td><td>cliente78@exemplo.com</td><td>Rua da Consolação</td><td>2223</td><td>11</td><td>922306093</td></tr><tr><td>79</td><td>Paulo Almeida</td><td>cliente79@exemplo.com</td><td>Avenida Atlântica</td><td>1617</td><td>11</td><td>950333112</td></tr><tr><td>80</td><td>Maria Oliveira</td><td>cliente80@exemplo.com</td><td>Praça da Sé</td><td>789</td><td>11</td><td>920303069</td></tr><tr><td>81</td><td>Mariana Rocha</td><td>cliente81@exemplo.com</td><td>Rua XV de Novembro</td><td>1415</td><td>11</td><td>994959182</td></tr><tr><td>82</td><td>Juliana Costa</td><td>cliente82@exemplo.com</td><td>Rua XV de Novembro</td><td>1415</td><td>11</td><td>925378574</td></tr><tr><td>83</td><td>Paulo Almeida</td><td>cliente83@exemplo.com</td><td>Rua das Palmeiras</td><td>1819</td><td>11</td><td>993429741</td></tr><tr><td>84</td><td>Paulo Almeida</td><td>cliente84@exemplo.com</td><td>Rua Augusta</td><td>1011</td><td>11</td><td>981535349</td></tr><tr><td>85</td><td>Juliana Costa</td><td>cliente85@exemplo.com</td><td>Praça da Sé</td><td>789</td><td>11</td><td>955698583</td></tr><tr><td>86</td><td>Juliana Costa</td><td>cliente86@exemplo.com</td><td>Rua XV de Novembro</td><td>1415</td><td>11</td><td>981694270</td></tr><tr><td>87</td><td>Maria Oliveira</td><td>cliente87@exemplo.com</td><td>Avenida Ipiranga</td><td>2021</td><td>11</td><td>990245173</td></tr><tr><td>88</td><td>Ana Souza</td><td>cliente88@exemplo.com</td><td>Avenida Ipiranga</td><td>2021</td><td>11</td><td>994506475</td></tr><tr><td>89</td><td>Mariana Rocha</td><td>cliente89@exemplo.com</td><td>Rua XV de Novembro</td><td>1415</td><td>11</td><td>930291690</td></tr><tr><td>90</td><td>Carlos Pereira</td><td>cliente90@exemplo.com</td><td>Praça da Sé</td><td>789</td><td>11</td><td>911155505</td></tr><tr><td>91</td><td>Fernanda Lima</td><td>cliente91@exemplo.com</td><td>Avenida Atlântica</td><td>1617</td><td>11</td><td>971519605</td></tr><tr><td>92</td><td>Maria Oliveira</td><td>cliente92@exemplo.com</td><td>Avenida Ipiranga</td><td>2021</td><td>11</td><td>946194337</td></tr><tr><td>93</td><td>João Silva</td><td>cliente93@exemplo.com</td><td>Rua das Flores</td><td>123</td><td>11</td><td>996166806</td></tr><tr><td>94</td><td>João Silva</td><td>cliente94@exemplo.com</td><td>Avenida Brasil</td><td>1213</td><td>11</td><td>918057686</td></tr><tr><td>95</td><td>João Silva</td><td>cliente95@exemplo.com</td><td>Avenida Atlântica</td><td>1617</td><td>11</td><td>977442899</td></tr><tr><td>96</td><td>Juliana Costa</td><td>cliente96@exemplo.com</td><td>Rua XV de Novembro</td><td>1415</td><td>11</td><td>938549573</td></tr><tr><td>97</td><td>Maria Oliveira</td><td>cliente97@exemplo.com</td><td>Rua Augusta</td><td>1011</td><td>11</td><td>956196567</td></tr><tr><td>98</td><td>Pedro Santos</td><td>cliente98@exemplo.com</td><td>Rua das Palmeiras</td><td>1819</td><td>11</td><td>920405030</td></tr><tr><td>99</td><td>Maria Oliveira</td><td>cliente99@exemplo.com</td><td>Rua das Flores</td><td>123</td><td>11</td><td>965989540</td></tr><tr><td>100</td><td>Lucas Fernandes</td><td>cliente100@exemplo.com</td><td>Rua XV de Novembro</td><td>1415</td><td>11</td><td>956195732</td></tr><tr><td>101</td><td>Maria Oliveira</td><td>cliente101@exemplo.com</td><td>Avenida Ipiranga</td><td>2021</td><td>11</td><td>932869132</td></tr><tr><td>102</td><td>João Silva</td><td>cliente102@exemplo.com</td><td>Rua XV de Novembro</td><td>1415</td><td>11</td><td>990835135</td></tr><tr><td>103</td><td>João Silva</td><td>cliente103@exemplo.com</td><td>Avenida Paulista</td><td>456</td><td>11</td><td>981457612</td></tr><tr><td>104</td><td>Maria Oliveira</td><td>cliente104@exemplo.com</td><td>Rua das Palmeiras</td><td>1819</td><td>11</td><td>968546546</td></tr><tr><td>105</td><td>João Silva</td><td>cliente105@exemplo.com</td><td>Rua das Palmeiras</td><td>1819</td><td>11</td><td>972412161</td></tr><tr><td>106</td><td>Ana Souza</td><td>cliente106@exemplo.com</td><td>Rua da Consolação</td><td>2223</td><td>11</td><td>935203868</td></tr><tr><td>107</td><td>Lucas Fernandes</td><td>cliente107@exemplo.com</td><td>Avenida Ipiranga</td><td>2021</td><td>11</td><td>973758505</td></tr><tr><td>108</td><td>Pedro Santos</td><td>cliente108@exemplo.com</td><td>Rua das Palmeiras</td><td>1819</td><td>11</td><td>949648135</td></tr><tr><td>109</td><td>Paulo Almeida</td><td>cliente109@exemplo.com</td><td>Rua das Palmeiras</td><td>1819</td><td>11</td><td>971628834</td></tr><tr><td>110</td><td>Fernanda Lima</td><td>cliente110@exemplo.com</td><td>Rua da Consolação</td><td>2223</td><td>11</td><td>989986945</td></tr><tr><td>111</td><td>Lucas Fernandes</td><td>cliente111@exemplo.com</td><td>Rua Augusta</td><td>1011</td><td>11</td><td>967328389</td></tr><tr><td>112</td><td>Maria Oliveira</td><td>cliente112@exemplo.com</td><td>Rua das Palmeiras</td><td>1819</td><td>11</td><td>935527152</td></tr><tr><td>113</td><td>João Silva</td><td>cliente113@exemplo.com</td><td>Rua Augusta</td><td>1011</td><td>11</td><td>921397660</td></tr><tr><td>114</td><td>Juliana Costa</td><td>cliente114@exemplo.com</td><td>Avenida Paulista</td><td>456</td><td>11</td><td>974801943</td></tr><tr><td>115</td><td>Lucas Fernandes</td><td>cliente115@exemplo.com</td><td>Avenida Paulista</td><td>456</td><td>11</td><td>952704938</td></tr><tr><td>116</td><td>Maria Oliveira</td><td>cliente116@exemplo.com</td><td>Praça da Sé</td><td>789</td><td>11</td><td>976588387</td></tr><tr><td>117</td><td>João Silva</td><td>cliente117@exemplo.com</td><td>Avenida Ipiranga</td><td>2021</td><td>11</td><td>960496214</td></tr><tr><td>118</td><td>Fernanda Lima</td><td>cliente118@exemplo.com</td><td>Avenida Paulista</td><td>456</td><td>11</td><td>919826684</td></tr><tr><td>119</td><td>Juliana Costa</td><td>cliente119@exemplo.com</td><td>Rua da Consolação</td><td>2223</td><td>11</td><td>977163165</td></tr><tr><td>120</td><td>João Silva</td><td>cliente120@exemplo.com</td><td>Praça da Sé</td><td>789</td><td>11</td><td>949463976</td></tr><tr><td>121</td><td>Ana Souza</td><td>cliente121@exemplo.com</td><td>Rua Augusta</td><td>1011</td><td>11</td><td>943037016</td></tr><tr><td>122</td><td>Paulo Almeida</td><td>cliente122@exemplo.com</td><td>Rua das Flores</td><td>123</td><td>11</td><td>990179855</td></tr><tr><td>123</td><td>Juliana Costa</td><td>cliente123@exemplo.com</td><td>Avenida Atlântica</td><td>1617</td><td>11</td><td>932325283</td></tr><tr><td>124</td><td>João Silva</td><td>cliente124@exemplo.com</td><td>Avenida Paulista</td><td>456</td><td>11</td><td>967259758</td></tr><tr><td>125</td><td>Lucas Fernandes</td><td>cliente125@exemplo.com</td><td>Praça da Sé</td><td>789</td><td>11</td><td>914431958</td></tr><tr><td>126</td><td>Maria Oliveira</td><td>cliente126@exemplo.com</td><td>Rua da Consolação</td><td>2223</td><td>11</td><td>967984847</td></tr><tr><td>127</td><td>Paulo Almeida</td><td>cliente127@exemplo.com</td><td>Avenida Brasil</td><td>1213</td><td>11</td><td>946268116</td></tr><tr><td>128</td><td>Lucas Fernandes</td><td>cliente128@exemplo.com</td><td>Rua Augusta</td><td>1011</td><td>11</td><td>965225897</td></tr><tr><td>129</td><td>Carlos Pereira</td><td>cliente129@exemplo.com</td><td>Rua Augusta</td><td>1011</td><td>11</td><td>927777364</td></tr><tr><td>130</td><td>Mariana Rocha</td><td>cliente130@exemplo.com</td><td>Praça da Sé</td><td>789</td><td>11</td><td>964422275</td></tr><tr><td>131</td><td>Juliana Costa</td><td>cliente131@exemplo.com</td><td>Rua das Flores</td><td>123</td><td>11</td><td>926512420</td></tr><tr><td>132</td><td>Lucas Fernandes</td><td>cliente132@exemplo.com</td><td>Rua das Flores</td><td>123</td><td>11</td><td>944372042</td></tr><tr><td>133</td><td>Paulo Almeida</td><td>cliente133@exemplo.com</td><td>Rua das Palmeiras</td><td>1819</td><td>11</td><td>996373113</td></tr><tr><td>134</td><td>Mariana Rocha</td><td>cliente134@exemplo.com</td><td>Avenida Brasil</td><td>1213</td><td>11</td><td>997144699</td></tr><tr><td>135</td><td>Juliana Costa</td><td>cliente135@exemplo.com</td><td>Rua das Palmeiras</td><td>1819</td><td>11</td><td>979966681</td></tr><tr><td>136</td><td>Paulo Almeida</td><td>cliente136@exemplo.com</td><td>Avenida Ipiranga</td><td>2021</td><td>11</td><td>991747421</td></tr><tr><td>137</td><td>João Silva</td><td>cliente137@exemplo.com</td><td>Rua das Palmeiras</td><td>1819</td><td>11</td><td>976919886</td></tr><tr><td>138</td><td>Paulo Almeida</td><td>cliente138@exemplo.com</td><td>Avenida Paulista</td><td>456</td><td>11</td><td>968448321</td></tr><tr><td>139</td><td>João Silva</td><td>cliente139@exemplo.com</td><td>Avenida Brasil</td><td>1213</td><td>11</td><td>969207240</td></tr><tr><td>140</td><td>Pedro Santos</td><td>cliente140@exemplo.com</td><td>Rua das Palmeiras</td><td>1819</td><td>11</td><td>995526403</td></tr><tr><td>141</td><td>Paulo Almeida</td><td>cliente141@exemplo.com</td><td>Praça da Sé</td><td>789</td><td>11</td><td>978798454</td></tr><tr><td>142</td><td>Carlos Pereira</td><td>cliente142@exemplo.com</td><td>Avenida Ipiranga</td><td>2021</td><td>11</td><td>957828663</td></tr><tr><td>143</td><td>Pedro Santos</td><td>cliente143@exemplo.com</td><td>Rua das Flores</td><td>123</td><td>11</td><td>986069074</td></tr><tr><td>144</td><td>Juliana Costa</td><td>cliente144@exemplo.com</td><td>Avenida Paulista</td><td>456</td><td>11</td><td>959619321</td></tr><tr><td>145</td><td>Maria Oliveira</td><td>cliente145@exemplo.com</td><td>Avenida Brasil</td><td>1213</td><td>11</td><td>937341221</td></tr><tr><td>146</td><td>Mariana Rocha</td><td>cliente146@exemplo.com</td><td>Rua Augusta</td><td>1011</td><td>11</td><td>996725982</td></tr><tr><td>147</td><td>Carlos Pereira</td><td>cliente147@exemplo.com</td><td>Avenida Atlântica</td><td>1617</td><td>11</td><td>988662110</td></tr><tr><td>148</td><td>Carlos Pereira</td><td>cliente148@exemplo.com</td><td>Rua XV de Novembro</td><td>1415</td><td>11</td><td>986421940</td></tr><tr><td>149</td><td>Fernanda Lima</td><td>cliente149@exemplo.com</td><td>Rua da Consolação</td><td>2223</td><td>11</td><td>953523929</td></tr><tr><td>150</td><td>Carlos Pereira</td><td>cliente150@exemplo.com</td><td>Rua das Palmeiras</td><td>1819</td><td>11</td><td>927988936</td></tr><tr><td>151</td><td>João Silva</td><td>cliente151@exemplo.com</td><td>Rua da Consolação</td><td>2223</td><td>11</td><td>963829670</td></tr><tr><td>152</td><td>Fernanda Lima</td><td>cliente152@exemplo.com</td><td>Rua das Palmeiras</td><td>1819</td><td>11</td><td>957876057</td></tr><tr><td>153</td><td>Carlos Pereira</td><td>cliente153@exemplo.com</td><td>Avenida Paulista</td><td>456</td><td>11</td><td>967533854</td></tr><tr><td>154</td><td>Carlos Pereira</td><td>cliente154@exemplo.com</td><td>Praça da Sé</td><td>789</td><td>11</td><td>944843023</td></tr><tr><td>155</td><td>Mariana Rocha</td><td>cliente155@exemplo.com</td><td>Avenida Atlântica</td><td>1617</td><td>11</td><td>963023934</td></tr><tr><td>156</td><td>Ana Souza</td><td>cliente156@exemplo.com</td><td>Rua das Flores</td><td>123</td><td>11</td><td>935735306</td></tr><tr><td>157</td><td>Pedro Santos</td><td>cliente157@exemplo.com</td><td>Avenida Paulista</td><td>456</td><td>11</td><td>941652488</td></tr><tr><td>158</td><td>Mariana Rocha</td><td>cliente158@exemplo.com</td><td>Avenida Ipiranga</td><td>2021</td><td>11</td><td>977529398</td></tr><tr><td>159</td><td>Pedro Santos</td><td>cliente159@exemplo.com</td><td>Avenida Ipiranga</td><td>2021</td><td>11</td><td>963029681</td></tr><tr><td>160</td><td>Paulo Almeida</td><td>cliente160@exemplo.com</td><td>Avenida Ipiranga</td><td>2021</td><td>11</td><td>991746276</td></tr><tr><td>161</td><td>Mariana Rocha</td><td>cliente161@exemplo.com</td><td>Praça da Sé</td><td>789</td><td>11</td><td>986157380</td></tr><tr><td>162</td><td>Paulo Almeida</td><td>cliente162@exemplo.com</td><td>Avenida Brasil</td><td>1213</td><td>11</td><td>953944021</td></tr><tr><td>163</td><td>Ana Souza</td><td>cliente163@exemplo.com</td><td>Rua das Palmeiras</td><td>1819</td><td>11</td><td>970713925</td></tr><tr><td>164</td><td>Lucas Fernandes</td><td>cliente164@exemplo.com</td><td>Rua da Consolação</td><td>2223</td><td>11</td><td>939683545</td></tr><tr><td>165</td><td>Paulo Almeida</td><td>cliente165@exemplo.com</td><td>Avenida Ipiranga</td><td>2021</td><td>11</td><td>954197688</td></tr><tr><td>166</td><td>Fernanda Lima</td><td>cliente166@exemplo.com</td><td>Avenida Ipiranga</td><td>2021</td><td>11</td><td>995285055</td></tr><tr><td>167</td><td>Pedro Santos</td><td>cliente167@exemplo.com</td><td>Avenida Brasil</td><td>1213</td><td>11</td><td>936507103</td></tr><tr><td>168</td><td>Mariana Rocha</td><td>cliente168@exemplo.com</td><td>Avenida Paulista</td><td>456</td><td>11</td><td>943724472</td></tr><tr><td>169</td><td>Ana Souza</td><td>cliente169@exemplo.com</td><td>Avenida Atlântica</td><td>1617</td><td>11</td><td>987722093</td></tr><tr><td>170</td><td>Ana Souza</td><td>cliente170@exemplo.com</td><td>Avenida Brasil</td><td>1213</td><td>11</td><td>978861040</td></tr><tr><td>171</td><td>Carlos Pereira</td><td>cliente171@exemplo.com</td><td>Rua XV de Novembro</td><td>1415</td><td>11</td><td>920989276</td></tr><tr><td>172</td><td>Maria Oliveira</td><td>cliente172@exemplo.com</td><td>Rua Augusta</td><td>1011</td><td>11</td><td>939485281</td></tr><tr><td>173</td><td>Lucas Fernandes</td><td>cliente173@exemplo.com</td><td>Avenida Ipiranga</td><td>2021</td><td>11</td><td>985212824</td></tr><tr><td>174</td><td>Mariana Rocha</td><td>cliente174@exemplo.com</td><td>Avenida Ipiranga</td><td>2021</td><td>11</td><td>928234743</td></tr><tr><td>175</td><td>Juliana Costa</td><td>cliente175@exemplo.com</td><td>Rua Augusta</td><td>1011</td><td>11</td><td>942566308</td></tr><tr><td>176</td><td>Paulo Almeida</td><td>cliente176@exemplo.com</td><td>Rua da Consolação</td><td>2223</td><td>11</td><td>926788649</td></tr><tr><td>177</td><td>Juliana Costa</td><td>cliente177@exemplo.com</td><td>Rua das Palmeiras</td><td>1819</td><td>11</td><td>963264041</td></tr><tr><td>178</td><td>Maria Oliveira</td><td>cliente178@exemplo.com</td><td>Rua Augusta</td><td>1011</td><td>11</td><td>990767424</td></tr><tr><td>179</td><td>Mariana Rocha</td><td>cliente179@exemplo.com</td><td>Rua das Flores</td><td>123</td><td>11</td><td>947713326</td></tr><tr><td>180</td><td>Juliana Costa</td><td>cliente180@exemplo.com</td><td>Avenida Brasil</td><td>1213</td><td>11</td><td>937596475</td></tr><tr><td>181</td><td>Mariana Rocha</td><td>cliente181@exemplo.com</td><td>Avenida Atlântica</td><td>1617</td><td>11</td><td>979381594</td></tr><tr><td>182</td><td>Mariana Rocha</td><td>cliente182@exemplo.com</td><td>Avenida Atlântica</td><td>1617</td><td>11</td><td>954786545</td></tr><tr><td>183</td><td>Lucas Fernandes</td><td>cliente183@exemplo.com</td><td>Rua XV de Novembro</td><td>1415</td><td>11</td><td>971362054</td></tr><tr><td>184</td><td>Mariana Rocha</td><td>cliente184@exemplo.com</td><td>Rua da Consolação</td><td>2223</td><td>11</td><td>911037117</td></tr><tr><td>185</td><td>Paulo Almeida</td><td>cliente185@exemplo.com</td><td>Rua Augusta</td><td>1011</td><td>11</td><td>935547806</td></tr><tr><td>186</td><td>Maria Oliveira</td><td>cliente186@exemplo.com</td><td>Avenida Ipiranga</td><td>2021</td><td>11</td><td>958897602</td></tr><tr><td>187</td><td>Paulo Almeida</td><td>cliente187@exemplo.com</td><td>Rua da Consolação</td><td>2223</td><td>11</td><td>972671154</td></tr><tr><td>188</td><td>Pedro Santos</td><td>cliente188@exemplo.com</td><td>Avenida Paulista</td><td>456</td><td>11</td><td>936447488</td></tr><tr><td>189</td><td>Juliana Costa</td><td>cliente189@exemplo.com</td><td>Avenida Ipiranga</td><td>2021</td><td>11</td><td>997334775</td></tr><tr><td>190</td><td>Carlos Pereira</td><td>cliente190@exemplo.com</td><td>Rua das Flores</td><td>123</td><td>11</td><td>965809399</td></tr><tr><td>191</td><td>Fernanda Lima</td><td>cliente191@exemplo.com</td><td>Praça da Sé</td><td>789</td><td>11</td><td>993497316</td></tr><tr><td>192</td><td>Ana Souza</td><td>cliente192@exemplo.com</td><td>Rua das Palmeiras</td><td>1819</td><td>11</td><td>947643350</td></tr><tr><td>193</td><td>Maria Oliveira</td><td>cliente193@exemplo.com</td><td>Rua das Flores</td><td>123</td><td>11</td><td>931471467</td></tr><tr><td>194</td><td>Mariana Rocha</td><td>cliente194@exemplo.com</td><td>Rua XV de Novembro</td><td>1415</td><td>11</td><td>976564327</td></tr><tr><td>195</td><td>Paulo Almeida</td><td>cliente195@exemplo.com</td><td>Avenida Paulista</td><td>456</td><td>11</td><td>998158924</td></tr><tr><td>196</td><td>Carlos Pereira</td><td>cliente196@exemplo.com</td><td>Avenida Ipiranga</td><td>2021</td><td>11</td><td>938453262</td></tr><tr><td>197</td><td>Paulo Almeida</td><td>cliente197@exemplo.com</td><td>Avenida Ipiranga</td><td>2021</td><td>11</td><td>995697219</td></tr><tr><td>198</td><td>Mariana Rocha</td><td>cliente198@exemplo.com</td><td>Avenida Paulista</td><td>456</td><td>11</td><td>920607154</td></tr><tr><td>199</td><td>Paulo Almeida</td><td>cliente199@exemplo.com</td><td>Rua da Consolação</td><td>2223</td><td>11</td><td>976431232</td></tr><tr><td>200</td><td>Pedro Santos</td><td>cliente200@exemplo.com</td><td>Rua Augusta</td><td>1011</td><td>11</td><td>951058511</td></tr><tr><td>201</td><td>Pedro Santos</td><td>cliente201@exemplo.com</td><td>Rua Augusta</td><td>1011</td><td>11</td><td>977005346</td></tr><tr><td>202</td><td>Pedro Santos</td><td>cliente202@exemplo.com</td><td>Praça da Sé</td><td>789</td><td>11</td><td>933795304</td></tr><tr><td>203</td><td>Fernanda Lima</td><td>cliente203@exemplo.com</td><td>Avenida Brasil</td><td>1213</td><td>11</td><td>942282067</td></tr><tr><td>204</td><td>Juliana Costa</td><td>cliente204@exemplo.com</td><td>Avenida Paulista</td><td>456</td><td>11</td><td>951218567</td></tr><tr><td>205</td><td>Mariana Rocha</td><td>cliente205@exemplo.com</td><td>Praça da Sé</td><td>789</td><td>11</td><td>930768621</td></tr><tr><td>206</td><td>Ana Souza</td><td>cliente206@exemplo.com</td><td>Avenida Atlântica</td><td>1617</td><td>11</td><td>983247423</td></tr><tr><td>207</td><td>Fernanda Lima</td><td>cliente207@exemplo.com</td><td>Avenida Paulista</td><td>456</td><td>11</td><td>972977665</td></tr><tr><td>208</td><td>Carlos Pereira</td><td>cliente208@exemplo.com</td><td>Avenida Atlântica</td><td>1617</td><td>11</td><td>993938423</td></tr><tr><td>209</td><td>Fernanda Lima</td><td>cliente209@exemplo.com</td><td>Rua das Palmeiras</td><td>1819</td><td>11</td><td>964496714</td></tr><tr><td>210</td><td>Maria Oliveira</td><td>cliente210@exemplo.com</td><td>Avenida Ipiranga</td><td>2021</td><td>11</td><td>984844606</td></tr><tr><td>211</td><td>Lucas Fernandes</td><td>cliente211@exemplo.com</td><td>Avenida Atlântica</td><td>1617</td><td>11</td><td>950589304</td></tr><tr><td>212</td><td>Juliana Costa</td><td>cliente212@exemplo.com</td><td>Rua XV de Novembro</td><td>1415</td><td>11</td><td>922211253</td></tr><tr><td>213</td><td>Mariana Rocha</td><td>cliente213@exemplo.com</td><td>Avenida Ipiranga</td><td>2021</td><td>11</td><td>954312705</td></tr><tr><td>214</td><td>Paulo Almeida</td><td>cliente214@exemplo.com</td><td>Rua das Flores</td><td>123</td><td>11</td><td>993498718</td></tr><tr><td>215</td><td>Paulo Almeida</td><td>cliente215@exemplo.com</td><td>Rua das Palmeiras</td><td>1819</td><td>11</td><td>987705318</td></tr><tr><td>216</td><td>Paulo Almeida</td><td>cliente216@exemplo.com</td><td>Avenida Atlântica</td><td>1617</td><td>11</td><td>944791408</td></tr><tr><td>217</td><td>Juliana Costa</td><td>cliente217@exemplo.com</td><td>Rua Augusta</td><td>1011</td><td>11</td><td>912098362</td></tr><tr><td>218</td><td>Lucas Fernandes</td><td>cliente218@exemplo.com</td><td>Avenida Brasil</td><td>1213</td><td>11</td><td>919304700</td></tr><tr><td>219</td><td>Lucas Fernandes</td><td>cliente219@exemplo.com</td><td>Rua Augusta</td><td>1011</td><td>11</td><td>983795117</td></tr><tr><td>220</td><td>Pedro Santos</td><td>cliente220@exemplo.com</td><td>Praça da Sé</td><td>789</td><td>11</td><td>978717643</td></tr><tr><td>221</td><td>Lucas Fernandes</td><td>cliente221@exemplo.com</td><td>Rua das Palmeiras</td><td>1819</td><td>11</td><td>941979761</td></tr><tr><td>222</td><td>João Silva</td><td>cliente222@exemplo.com</td><td>Praça da Sé</td><td>789</td><td>11</td><td>997022736</td></tr><tr><td>223</td><td>Paulo Almeida</td><td>cliente223@exemplo.com</td><td>Rua das Flores</td><td>123</td><td>11</td><td>939371599</td></tr><tr><td>224</td><td>Carlos Pereira</td><td>cliente224@exemplo.com</td><td>Rua da Consolação</td><td>2223</td><td>11</td><td>977104456</td></tr><tr><td>225</td><td>Lucas Fernandes</td><td>cliente225@exemplo.com</td><td>Rua da Consolação</td><td>2223</td><td>11</td><td>980731555</td></tr><tr><td>226</td><td>Ana Souza</td><td>cliente226@exemplo.com</td><td>Avenida Atlântica</td><td>1617</td><td>11</td><td>943909628</td></tr><tr><td>227</td><td>Ana Souza</td><td>cliente227@exemplo.com</td><td>Avenida Paulista</td><td>456</td><td>11</td><td>950971746</td></tr><tr><td>228</td><td>João Silva</td><td>cliente228@exemplo.com</td><td>Praça da Sé</td><td>789</td><td>11</td><td>981082508</td></tr><tr><td>229</td><td>João Silva</td><td>cliente229@exemplo.com</td><td>Avenida Atlântica</td><td>1617</td><td>11</td><td>941967902</td></tr><tr><td>230</td><td>Paulo Almeida</td><td>cliente230@exemplo.com</td><td>Rua da Consolação</td><td>2223</td><td>11</td><td>986971597</td></tr><tr><td>231</td><td>João Silva</td><td>cliente231@exemplo.com</td><td>Rua das Flores</td><td>123</td><td>11</td><td>962941878</td></tr><tr><td>232</td><td>Fernanda Lima</td><td>cliente232@exemplo.com</td><td>Rua das Flores</td><td>123</td><td>11</td><td>950053478</td></tr><tr><td>233</td><td>Ana Souza</td><td>cliente233@exemplo.com</td><td>Avenida Atlântica</td><td>1617</td><td>11</td><td>925968942</td></tr><tr><td>234</td><td>Paulo Almeida</td><td>cliente234@exemplo.com</td><td>Praça da Sé</td><td>789</td><td>11</td><td>998796133</td></tr><tr><td>235</td><td>Pedro Santos</td><td>cliente235@exemplo.com</td><td>Rua da Consolação</td><td>2223</td><td>11</td><td>930891771</td></tr><tr><td>236</td><td>Juliana Costa</td><td>cliente236@exemplo.com</td><td>Rua da Consolação</td><td>2223</td><td>11</td><td>976301064</td></tr><tr><td>237</td><td>Ana Souza</td><td>cliente237@exemplo.com</td><td>Rua da Consolação</td><td>2223</td><td>11</td><td>986365752</td></tr><tr><td>238</td><td>Lucas Fernandes</td><td>cliente238@exemplo.com</td><td>Rua das Flores</td><td>123</td><td>11</td><td>967055525</td></tr><tr><td>239</td><td>Fernanda Lima</td><td>cliente239@exemplo.com</td><td>Avenida Ipiranga</td><td>2021</td><td>11</td><td>977024376</td></tr><tr><td>240</td><td>Paulo Almeida</td><td>cliente240@exemplo.com</td><td>Avenida Brasil</td><td>1213</td><td>11</td><td>974414706</td></tr><tr><td>241</td><td>João Silva</td><td>cliente241@exemplo.com</td><td>Rua Augusta</td><td>1011</td><td>11</td><td>934129314</td></tr><tr><td>242</td><td>Carlos Pereira</td><td>cliente242@exemplo.com</td><td>Avenida Brasil</td><td>1213</td><td>11</td><td>918219583</td></tr><tr><td>243</td><td>Carlos Pereira</td><td>cliente243@exemplo.com</td><td>Rua das Flores</td><td>123</td><td>11</td><td>992456690</td></tr><tr><td>244</td><td>Mariana Rocha</td><td>cliente244@exemplo.com</td><td>Rua das Flores</td><td>123</td><td>11</td><td>957872536</td></tr><tr><td>245</td><td>Paulo Almeida</td><td>cliente245@exemplo.com</td><td>Praça da Sé</td><td>789</td><td>11</td><td>916495039</td></tr><tr><td>246</td><td>Paulo Almeida</td><td>cliente246@exemplo.com</td><td>Praça da Sé</td><td>789</td><td>11</td><td>991204876</td></tr><tr><td>247</td><td>Carlos Pereira</td><td>cliente247@exemplo.com</td><td>Rua Augusta</td><td>1011</td><td>11</td><td>932733277</td></tr><tr><td>248</td><td>Mariana Rocha</td><td>cliente248@exemplo.com</td><td>Avenida Paulista</td><td>456</td><td>11</td><td>938728793</td></tr><tr><td>249</td><td>Maria Oliveira</td><td>cliente249@exemplo.com</td><td>Rua da Consolação</td><td>2223</td><td>11</td><td>990103702</td></tr><tr><td>250</td><td>Lucas Fernandes</td><td>cliente250@exemplo.com</td><td>Rua Augusta</td><td>1011</td><td>11</td><td>919575287</td></tr><tr><td>251</td><td>Juliana Costa</td><td>cliente251@exemplo.com</td><td>Rua da Consolação</td><td>2223</td><td>11</td><td>964658197</td></tr><tr><td>252</td><td>Pedro Santos</td><td>cliente252@exemplo.com</td><td>Avenida Paulista</td><td>456</td><td>11</td><td>963848397</td></tr><tr><td>253</td><td>João Silva</td><td>cliente253@exemplo.com</td><td>Rua das Flores</td><td>123</td><td>11</td><td>941121236</td></tr><tr><td>254</td><td>João Silva</td><td>cliente254@exemplo.com</td><td>Avenida Brasil</td><td>1213</td><td>11</td><td>989531744</td></tr><tr><td>255</td><td>Maria Oliveira</td><td>cliente255@exemplo.com</td><td>Avenida Atlântica</td><td>1617</td><td>11</td><td>938566332</td></tr><tr><td>256</td><td>Fernanda Lima</td><td>cliente256@exemplo.com</td><td>Avenida Ipiranga</td><td>2021</td><td>11</td><td>985524629</td></tr><tr><td>257</td><td>Juliana Costa</td><td>cliente257@exemplo.com</td><td>Rua da Consolação</td><td>2223</td><td>11</td><td>946329310</td></tr><tr><td>258</td><td>Ana Souza</td><td>cliente258@exemplo.com</td><td>Rua das Palmeiras</td><td>1819</td><td>11</td><td>949808187</td></tr><tr><td>259</td><td>Pedro Santos</td><td>cliente259@exemplo.com</td><td>Praça da Sé</td><td>789</td><td>11</td><td>933375803</td></tr><tr><td>260</td><td>Paulo Almeida</td><td>cliente260@exemplo.com</td><td>Rua da Consolação</td><td>2223</td><td>11</td><td>930555505</td></tr><tr><td>261</td><td>Lucas Fernandes</td><td>cliente261@exemplo.com</td><td>Rua da Consolação</td><td>2223</td><td>11</td><td>971787286</td></tr><tr><td>262</td><td>Paulo Almeida</td><td>cliente262@exemplo.com</td><td>Avenida Atlântica</td><td>1617</td><td>11</td><td>980226375</td></tr><tr><td>263</td><td>Carlos Pereira</td><td>cliente263@exemplo.com</td><td>Avenida Atlântica</td><td>1617</td><td>11</td><td>994254316</td></tr><tr><td>264</td><td>Ana Souza</td><td>cliente264@exemplo.com</td><td>Rua Augusta</td><td>1011</td><td>11</td><td>947514390</td></tr><tr><td>265</td><td>Juliana Costa</td><td>cliente265@exemplo.com</td><td>Avenida Atlântica</td><td>1617</td><td>11</td><td>985703601</td></tr><tr><td>266</td><td>Paulo Almeida</td><td>cliente266@exemplo.com</td><td>Avenida Atlântica</td><td>1617</td><td>11</td><td>959928731</td></tr><tr><td>267</td><td>Maria Oliveira</td><td>cliente267@exemplo.com</td><td>Avenida Atlântica</td><td>1617</td><td>11</td><td>931325076</td></tr><tr><td>268</td><td>Mariana Rocha</td><td>cliente268@exemplo.com</td><td>Avenida Atlântica</td><td>1617</td><td>11</td><td>943494330</td></tr><tr><td>269</td><td>João Silva</td><td>cliente269@exemplo.com</td><td>Rua da Consolação</td><td>2223</td><td>11</td><td>963484619</td></tr><tr><td>270</td><td>Fernanda Lima</td><td>cliente270@exemplo.com</td><td>Avenida Atlântica</td><td>1617</td><td>11</td><td>913538730</td></tr><tr><td>271</td><td>Lucas Fernandes</td><td>cliente271@exemplo.com</td><td>Avenida Paulista</td><td>456</td><td>11</td><td>916029456</td></tr><tr><td>272</td><td>João Silva</td><td>cliente272@exemplo.com</td><td>Rua XV de Novembro</td><td>1415</td><td>11</td><td>973444161</td></tr><tr><td>273</td><td>Pedro Santos</td><td>cliente273@exemplo.com</td><td>Praça da Sé</td><td>789</td><td>11</td><td>911122077</td></tr><tr><td>274</td><td>Lucas Fernandes</td><td>cliente274@exemplo.com</td><td>Avenida Paulista</td><td>456</td><td>11</td><td>987834718</td></tr><tr><td>275</td><td>Fernanda Lima</td><td>cliente275@exemplo.com</td><td>Rua da Consolação</td><td>2223</td><td>11</td><td>940175979</td></tr><tr><td>276</td><td>Carlos Pereira</td><td>cliente276@exemplo.com</td><td>Rua das Palmeiras</td><td>1819</td><td>11</td><td>962375970</td></tr><tr><td>277</td><td>Paulo Almeida</td><td>cliente277@exemplo.com</td><td>Avenida Paulista</td><td>456</td><td>11</td><td>914041411</td></tr><tr><td>278</td><td>João Silva</td><td>cliente278@exemplo.com</td><td>Rua das Palmeiras</td><td>1819</td><td>11</td><td>920178220</td></tr><tr><td>279</td><td>Maria Oliveira</td><td>cliente279@exemplo.com</td><td>Rua XV de Novembro</td><td>1415</td><td>11</td><td>926817317</td></tr><tr><td>280</td><td>Pedro Santos</td><td>cliente280@exemplo.com</td><td>Avenida Brasil</td><td>1213</td><td>11</td><td>963228771</td></tr><tr><td>281</td><td>Maria Oliveira</td><td>cliente281@exemplo.com</td><td>Rua da Consolação</td><td>2223</td><td>11</td><td>972971077</td></tr><tr><td>282</td><td>Mariana Rocha</td><td>cliente282@exemplo.com</td><td>Rua da Consolação</td><td>2223</td><td>11</td><td>985895837</td></tr><tr><td>283</td><td>Lucas Fernandes</td><td>cliente283@exemplo.com</td><td>Rua das Palmeiras</td><td>1819</td><td>11</td><td>979363003</td></tr><tr><td>284</td><td>Juliana Costa</td><td>cliente284@exemplo.com</td><td>Avenida Paulista</td><td>456</td><td>11</td><td>963107869</td></tr><tr><td>285</td><td>João Silva</td><td>cliente285@exemplo.com</td><td>Avenida Atlântica</td><td>1617</td><td>11</td><td>910302926</td></tr><tr><td>286</td><td>Carlos Pereira</td><td>cliente286@exemplo.com</td><td>Rua da Consolação</td><td>2223</td><td>11</td><td>991919902</td></tr><tr><td>287</td><td>João Silva</td><td>cliente287@exemplo.com</td><td>Avenida Paulista</td><td>456</td><td>11</td><td>984229732</td></tr><tr><td>288</td><td>Juliana Costa</td><td>cliente288@exemplo.com</td><td>Avenida Brasil</td><td>1213</td><td>11</td><td>998623943</td></tr><tr><td>289</td><td>Maria Oliveira</td><td>cliente289@exemplo.com</td><td>Avenida Atlântica</td><td>1617</td><td>11</td><td>980763719</td></tr><tr><td>290</td><td>Maria Oliveira</td><td>cliente290@exemplo.com</td><td>Avenida Paulista</td><td>456</td><td>11</td><td>954176916</td></tr><tr><td>291</td><td>Lucas Fernandes</td><td>cliente291@exemplo.com</td><td>Rua da Consolação</td><td>2223</td><td>11</td><td>930755561</td></tr><tr><td>292</td><td>Juliana Costa</td><td>cliente292@exemplo.com</td><td>Rua das Palmeiras</td><td>1819</td><td>11</td><td>958311536</td></tr><tr><td>293</td><td>João Silva</td><td>cliente293@exemplo.com</td><td>Rua das Flores</td><td>123</td><td>11</td><td>954048659</td></tr><tr><td>294</td><td>Fernanda Lima</td><td>cliente294@exemplo.com</td><td>Rua das Palmeiras</td><td>1819</td><td>11</td><td>922712926</td></tr><tr><td>295</td><td>Ana Souza</td><td>cliente295@exemplo.com</td><td>Rua das Flores</td><td>123</td><td>11</td><td>988253563</td></tr><tr><td>296</td><td>João Silva</td><td>cliente296@exemplo.com</td><td>Avenida Ipiranga</td><td>2021</td><td>11</td><td>921511408</td></tr><tr><td>297</td><td>Carlos Pereira</td><td>cliente297@exemplo.com</td><td>Rua da Consolação</td><td>2223</td><td>11</td><td>987535089</td></tr><tr><td>298</td><td>Juliana Costa</td><td>cliente298@exemplo.com</td><td>Rua das Palmeiras</td><td>1819</td><td>11</td><td>950541727</td></tr><tr><td>299</td><td>Pedro Santos</td><td>cliente299@exemplo.com</td><td>Rua da Consolação</td><td>2223</td><td>11</td><td>984438790</td></tr><tr><td>300</td><td>João Silva</td><td>cliente300@exemplo.com</td><td>Praça da Sé</td><td>789</td><td>11</td><td>956749195</td></tr><tr><td>301</td><td>Paulo Almeida</td><td>cliente301@exemplo.com</td><td>Rua XV de Novembro</td><td>1415</td><td>11</td><td>961846175</td></tr><tr><td>302</td><td>Mariana Rocha</td><td>cliente302@exemplo.com</td><td>Rua Augusta</td><td>1011</td><td>11</td><td>980241105</td></tr><tr><td>303</td><td>Maria Oliveira</td><td>cliente303@exemplo.com</td><td>Avenida Ipiranga</td><td>2021</td><td>11</td><td>945974994</td></tr><tr><td>304</td><td>Ana Souza</td><td>cliente304@exemplo.com</td><td>Rua XV de Novembro</td><td>1415</td><td>11</td><td>921292945</td></tr><tr><td>305</td><td>Mariana Rocha</td><td>cliente305@exemplo.com</td><td>Rua das Palmeiras</td><td>1819</td><td>11</td><td>920123324</td></tr><tr><td>306</td><td>Juliana Costa</td><td>cliente306@exemplo.com</td><td>Avenida Ipiranga</td><td>2021</td><td>11</td><td>983127345</td></tr><tr><td>307</td><td>Ana Souza</td><td>cliente307@exemplo.com</td><td>Rua da Consolação</td><td>2223</td><td>11</td><td>989364268</td></tr><tr><td>308</td><td>Pedro Santos</td><td>cliente308@exemplo.com</td><td>Rua das Flores</td><td>123</td><td>11</td><td>963752711</td></tr><tr><td>309</td><td>Ana Souza</td><td>cliente309@exemplo.com</td><td>Rua das Flores</td><td>123</td><td>11</td><td>967622781</td></tr><tr><td>310</td><td>Fernanda Lima</td><td>cliente310@exemplo.com</td><td>Avenida Brasil</td><td>1213</td><td>11</td><td>965459153</td></tr><tr><td>311</td><td>Paulo Almeida</td><td>cliente311@exemplo.com</td><td>Rua Augusta</td><td>1011</td><td>11</td><td>948751071</td></tr><tr><td>312</td><td>Ana Souza</td><td>cliente312@exemplo.com</td><td>Rua das Flores</td><td>123</td><td>11</td><td>980135225</td></tr><tr><td>313</td><td>Fernanda Lima</td><td>cliente313@exemplo.com</td><td>Rua XV de Novembro</td><td>1415</td><td>11</td><td>983833370</td></tr><tr><td>314</td><td>Maria Oliveira</td><td>cliente314@exemplo.com</td><td>Avenida Atlântica</td><td>1617</td><td>11</td><td>970751164</td></tr><tr><td>315</td><td>João Silva</td><td>cliente315@exemplo.com</td><td>Rua das Flores</td><td>123</td><td>11</td><td>959526163</td></tr><tr><td>316</td><td>Ana Souza</td><td>cliente316@exemplo.com</td><td>Praça da Sé</td><td>789</td><td>11</td><td>964703883</td></tr><tr><td>317</td><td>Mariana Rocha</td><td>cliente317@exemplo.com</td><td>Praça da Sé</td><td>789</td><td>11</td><td>997138115</td></tr><tr><td>318</td><td>Fernanda Lima</td><td>cliente318@exemplo.com</td><td>Avenida Paulista</td><td>456</td><td>11</td><td>972589060</td></tr><tr><td>319</td><td>João Silva</td><td>cliente319@exemplo.com</td><td>Rua das Palmeiras</td><td>1819</td><td>11</td><td>919775625</td></tr><tr><td>320</td><td>Paulo Almeida</td><td>cliente320@exemplo.com</td><td>Rua Augusta</td><td>1011</td><td>11</td><td>927293222</td></tr><tr><td>321</td><td>Pedro Santos</td><td>cliente321@exemplo.com</td><td>Praça da Sé</td><td>789</td><td>11</td><td>922084733</td></tr><tr><td>322</td><td>Lucas Fernandes</td><td>cliente322@exemplo.com</td><td>Rua das Flores</td><td>123</td><td>11</td><td>945525967</td></tr><tr><td>323</td><td>Maria Oliveira</td><td>cliente323@exemplo.com</td><td>Rua da Consolação</td><td>2223</td><td>11</td><td>911321696</td></tr><tr><td>324</td><td>Pedro Santos</td><td>cliente324@exemplo.com</td><td>Rua das Palmeiras</td><td>1819</td><td>11</td><td>923078607</td></tr><tr><td>325</td><td>Paulo Almeida</td><td>cliente325@exemplo.com</td><td>Rua das Flores</td><td>123</td><td>11</td><td>941454314</td></tr><tr><td>326</td><td>Mariana Rocha</td><td>cliente326@exemplo.com</td><td>Rua Augusta</td><td>1011</td><td>11</td><td>971725879</td></tr><tr><td>327</td><td>Lucas Fernandes</td><td>cliente327@exemplo.com</td><td>Avenida Atlântica</td><td>1617</td><td>11</td><td>914407078</td></tr><tr><td>328</td><td>Pedro Santos</td><td>cliente328@exemplo.com</td><td>Rua XV de Novembro</td><td>1415</td><td>11</td><td>935463764</td></tr><tr><td>329</td><td>Juliana Costa</td><td>cliente329@exemplo.com</td><td>Praça da Sé</td><td>789</td><td>11</td><td>969985549</td></tr><tr><td>330</td><td>Fernanda Lima</td><td>cliente330@exemplo.com</td><td>Praça da Sé</td><td>789</td><td>11</td><td>984987210</td></tr><tr><td>331</td><td>Juliana Costa</td><td>cliente331@exemplo.com</td><td>Avenida Brasil</td><td>1213</td><td>11</td><td>982485146</td></tr><tr><td>332</td><td>Carlos Pereira</td><td>cliente332@exemplo.com</td><td>Avenida Atlântica</td><td>1617</td><td>11</td><td>926319250</td></tr><tr><td>333</td><td>João Silva</td><td>cliente333@exemplo.com</td><td>Rua XV de Novembro</td><td>1415</td><td>11</td><td>989823267</td></tr><tr><td>334</td><td>Paulo Almeida</td><td>cliente334@exemplo.com</td><td>Rua da Consolação</td><td>2223</td><td>11</td><td>995186130</td></tr><tr><td>335</td><td>Fernanda Lima</td><td>cliente335@exemplo.com</td><td>Rua XV de Novembro</td><td>1415</td><td>11</td><td>959208403</td></tr><tr><td>336</td><td>Ana Souza</td><td>cliente336@exemplo.com</td><td>Avenida Atlântica</td><td>1617</td><td>11</td><td>984954301</td></tr><tr><td>337</td><td>Mariana Rocha</td><td>cliente337@exemplo.com</td><td>Avenida Brasil</td><td>1213</td><td>11</td><td>933677426</td></tr><tr><td>338</td><td>João Silva</td><td>cliente338@exemplo.com</td><td>Avenida Brasil</td><td>1213</td><td>11</td><td>971778250</td></tr><tr><td>339</td><td>Maria Oliveira</td><td>cliente339@exemplo.com</td><td>Avenida Ipiranga</td><td>2021</td><td>11</td><td>976354732</td></tr><tr><td>340</td><td>Lucas Fernandes</td><td>cliente340@exemplo.com</td><td>Avenida Atlântica</td><td>1617</td><td>11</td><td>958286782</td></tr><tr><td>341</td><td>Fernanda Lima</td><td>cliente341@exemplo.com</td><td>Rua da Consolação</td><td>2223</td><td>11</td><td>981906398</td></tr><tr><td>342</td><td>Carlos Pereira</td><td>cliente342@exemplo.com</td><td>Avenida Paulista</td><td>456</td><td>11</td><td>955584674</td></tr><tr><td>343</td><td>João Silva</td><td>cliente343@exemplo.com</td><td>Rua da Consolação</td><td>2223</td><td>11</td><td>948667586</td></tr><tr><td>344</td><td>Mariana Rocha</td><td>cliente344@exemplo.com</td><td>Rua das Flores</td><td>123</td><td>11</td><td>943106375</td></tr><tr><td>345</td><td>Paulo Almeida</td><td>cliente345@exemplo.com</td><td>Avenida Brasil</td><td>1213</td><td>11</td><td>965803298</td></tr><tr><td>346</td><td>João Silva</td><td>cliente346@exemplo.com</td><td>Rua das Flores</td><td>123</td><td>11</td><td>962871363</td></tr><tr><td>347</td><td>Pedro Santos</td><td>cliente347@exemplo.com</td><td>Rua Augusta</td><td>1011</td><td>11</td><td>914167112</td></tr><tr><td>348</td><td>Fernanda Lima</td><td>cliente348@exemplo.com</td><td>Rua da Consolação</td><td>2223</td><td>11</td><td>966174922</td></tr><tr><td>349</td><td>Lucas Fernandes</td><td>cliente349@exemplo.com</td><td>Rua XV de Novembro</td><td>1415</td><td>11</td><td>914088258</td></tr><tr><td>350</td><td>Lucas Fernandes</td><td>cliente350@exemplo.com</td><td>Avenida Paulista</td><td>456</td><td>11</td><td>985204932</td></tr><tr><td>351</td><td>Pedro Santos</td><td>cliente351@exemplo.com</td><td>Avenida Ipiranga</td><td>2021</td><td>11</td><td>995345994</td></tr><tr><td>352</td><td>Lucas Fernandes</td><td>cliente352@exemplo.com</td><td>Rua das Palmeiras</td><td>1819</td><td>11</td><td>975989000</td></tr><tr><td>353</td><td>Pedro Santos</td><td>cliente353@exemplo.com</td><td>Praça da Sé</td><td>789</td><td>11</td><td>952993895</td></tr><tr><td>354</td><td>Ana Souza</td><td>cliente354@exemplo.com</td><td>Avenida Brasil</td><td>1213</td><td>11</td><td>920562647</td></tr><tr><td>355</td><td>Carlos Pereira</td><td>cliente355@exemplo.com</td><td>Avenida Ipiranga</td><td>2021</td><td>11</td><td>964255135</td></tr><tr><td>356</td><td>Juliana Costa</td><td>cliente356@exemplo.com</td><td>Avenida Brasil</td><td>1213</td><td>11</td><td>950956457</td></tr><tr><td>357</td><td>Lucas Fernandes</td><td>cliente357@exemplo.com</td><td>Avenida Ipiranga</td><td>2021</td><td>11</td><td>990177598</td></tr><tr><td>358</td><td>Fernanda Lima</td><td>cliente358@exemplo.com</td><td>Rua Augusta</td><td>1011</td><td>11</td><td>994017902</td></tr><tr><td>359</td><td>Maria Oliveira</td><td>cliente359@exemplo.com</td><td>Praça da Sé</td><td>789</td><td>11</td><td>972206881</td></tr><tr><td>360</td><td>Carlos Pereira</td><td>cliente360@exemplo.com</td><td>Avenida Brasil</td><td>1213</td><td>11</td><td>956885437</td></tr><tr><td>361</td><td>João Silva</td><td>cliente361@exemplo.com</td><td>Avenida Paulista</td><td>456</td><td>11</td><td>966315139</td></tr><tr><td>362</td><td>Juliana Costa</td><td>cliente362@exemplo.com</td><td>Rua XV de Novembro</td><td>1415</td><td>11</td><td>924621410</td></tr><tr><td>363</td><td>Carlos Pereira</td><td>cliente363@exemplo.com</td><td>Rua das Palmeiras</td><td>1819</td><td>11</td><td>914704716</td></tr><tr><td>364</td><td>Maria Oliveira</td><td>cliente364@exemplo.com</td><td>Avenida Ipiranga</td><td>2021</td><td>11</td><td>949098575</td></tr><tr><td>365</td><td>Paulo Almeida</td><td>cliente365@exemplo.com</td><td>Rua da Consolação</td><td>2223</td><td>11</td><td>973702913</td></tr><tr><td>366</td><td>Carlos Pereira</td><td>cliente366@exemplo.com</td><td>Rua Augusta</td><td>1011</td><td>11</td><td>985113048</td></tr><tr><td>367</td><td>Carlos Pereira</td><td>cliente367@exemplo.com</td><td>Rua da Consolação</td><td>2223</td><td>11</td><td>926127834</td></tr><tr><td>368</td><td>Ana Souza</td><td>cliente368@exemplo.com</td><td>Rua XV de Novembro</td><td>1415</td><td>11</td><td>920991142</td></tr><tr><td>369</td><td>Pedro Santos</td><td>cliente369@exemplo.com</td><td>Avenida Paulista</td><td>456</td><td>11</td><td>918255753</td></tr><tr><td>370</td><td>Fernanda Lima</td><td>cliente370@exemplo.com</td><td>Avenida Atlântica</td><td>1617</td><td>11</td><td>936326068</td></tr><tr><td>371</td><td>Fernanda Lima</td><td>cliente371@exemplo.com</td><td>Avenida Ipiranga</td><td>2021</td><td>11</td><td>961512790</td></tr><tr><td>372</td><td>Pedro Santos</td><td>cliente372@exemplo.com</td><td>Praça da Sé</td><td>789</td><td>11</td><td>999526219</td></tr><tr><td>373</td><td>Pedro Santos</td><td>cliente373@exemplo.com</td><td>Avenida Atlântica</td><td>1617</td><td>11</td><td>950661031</td></tr><tr><td>374</td><td>João Silva</td><td>cliente374@exemplo.com</td><td>Praça da Sé</td><td>789</td><td>11</td><td>921472587</td></tr><tr><td>375</td><td>Ana Souza</td><td>cliente375@exemplo.com</td><td>Avenida Atlântica</td><td>1617</td><td>11</td><td>987118360</td></tr><tr><td>376</td><td>Fernanda Lima</td><td>cliente376@exemplo.com</td><td>Avenida Ipiranga</td><td>2021</td><td>11</td><td>922926054</td></tr><tr><td>377</td><td>Fernanda Lima</td><td>cliente377@exemplo.com</td><td>Avenida Ipiranga</td><td>2021</td><td>11</td><td>950858127</td></tr><tr><td>378</td><td>Ana Souza</td><td>cliente378@exemplo.com</td><td>Praça da Sé</td><td>789</td><td>11</td><td>955798509</td></tr><tr><td>379</td><td>Juliana Costa</td><td>cliente379@exemplo.com</td><td>Rua da Consolação</td><td>2223</td><td>11</td><td>956935709</td></tr><tr><td>380</td><td>Fernanda Lima</td><td>cliente380@exemplo.com</td><td>Rua da Consolação</td><td>2223</td><td>11</td><td>912311707</td></tr><tr><td>381</td><td>Ana Souza</td><td>cliente381@exemplo.com</td><td>Avenida Paulista</td><td>456</td><td>11</td><td>976029224</td></tr><tr><td>382</td><td>Carlos Pereira</td><td>cliente382@exemplo.com</td><td>Rua Augusta</td><td>1011</td><td>11</td><td>944002513</td></tr><tr><td>383</td><td>Paulo Almeida</td><td>cliente383@exemplo.com</td><td>Rua das Palmeiras</td><td>1819</td><td>11</td><td>959182770</td></tr><tr><td>384</td><td>João Silva</td><td>cliente384@exemplo.com</td><td>Avenida Atlântica</td><td>1617</td><td>11</td><td>997047225</td></tr><tr><td>385</td><td>Lucas Fernandes</td><td>cliente385@exemplo.com</td><td>Avenida Paulista</td><td>456</td><td>11</td><td>978625847</td></tr><tr><td>386</td><td>Mariana Rocha</td><td>cliente386@exemplo.com</td><td>Avenida Brasil</td><td>1213</td><td>11</td><td>943945595</td></tr><tr><td>387</td><td>João Silva</td><td>cliente387@exemplo.com</td><td>Rua XV de Novembro</td><td>1415</td><td>11</td><td>946418152</td></tr><tr><td>388</td><td>Pedro Santos</td><td>cliente388@exemplo.com</td><td>Rua da Consolação</td><td>2223</td><td>11</td><td>941104079</td></tr><tr><td>389</td><td>Paulo Almeida</td><td>cliente389@exemplo.com</td><td>Rua Augusta</td><td>1011</td><td>11</td><td>914192175</td></tr><tr><td>390</td><td>Juliana Costa</td><td>cliente390@exemplo.com</td><td>Praça da Sé</td><td>789</td><td>11</td><td>976863721</td></tr><tr><td>391</td><td>Pedro Santos</td><td>cliente391@exemplo.com</td><td>Avenida Brasil</td><td>1213</td><td>11</td><td>923894714</td></tr><tr><td>392</td><td>Mariana Rocha</td><td>cliente392@exemplo.com</td><td>Rua das Flores</td><td>123</td><td>11</td><td>934762912</td></tr><tr><td>393</td><td>Fernanda Lima</td><td>cliente393@exemplo.com</td><td>Rua das Flores</td><td>123</td><td>11</td><td>944075296</td></tr><tr><td>394</td><td>Ana Souza</td><td>cliente394@exemplo.com</td><td>Rua Augusta</td><td>1011</td><td>11</td><td>912782863</td></tr><tr><td>395</td><td>Fernanda Lima</td><td>cliente395@exemplo.com</td><td>Rua Augusta</td><td>1011</td><td>11</td><td>980398203</td></tr><tr><td>396</td><td>Maria Oliveira</td><td>cliente396@exemplo.com</td><td>Avenida Brasil</td><td>1213</td><td>11</td><td>961847882</td></tr><tr><td>397</td><td>Mariana Rocha</td><td>cliente397@exemplo.com</td><td>Rua Augusta</td><td>1011</td><td>11</td><td>987269500</td></tr><tr><td>398</td><td>João Silva</td><td>cliente398@exemplo.com</td><td>Avenida Ipiranga</td><td>2021</td><td>11</td><td>966496490</td></tr><tr><td>399</td><td>João Silva</td><td>cliente399@exemplo.com</td><td>Rua das Flores</td><td>123</td><td>11</td><td>974013578</td></tr><tr><td>400</td><td>Fernanda Lima</td><td>cliente400@exemplo.com</td><td>Avenida Brasil</td><td>1213</td><td>11</td><td>919697301</td></tr><tr><td>401</td><td>Mariana Rocha</td><td>cliente401@exemplo.com</td><td>Avenida Brasil</td><td>1213</td><td>11</td><td>965996186</td></tr><tr><td>402</td><td>Maria Oliveira</td><td>cliente402@exemplo.com</td><td>Rua Augusta</td><td>1011</td><td>11</td><td>930248772</td></tr><tr><td>403</td><td>Lucas Fernandes</td><td>cliente403@exemplo.com</td><td>Rua XV de Novembro</td><td>1415</td><td>11</td><td>928484704</td></tr><tr><td>404</td><td>Maria Oliveira</td><td>cliente404@exemplo.com</td><td>Rua das Palmeiras</td><td>1819</td><td>11</td><td>946211386</td></tr><tr><td>405</td><td>Juliana Costa</td><td>cliente405@exemplo.com</td><td>Praça da Sé</td><td>789</td><td>11</td><td>930986174</td></tr><tr><td>406</td><td>Ana Souza</td><td>cliente406@exemplo.com</td><td>Rua das Flores</td><td>123</td><td>11</td><td>978831905</td></tr><tr><td>407</td><td>Lucas Fernandes</td><td>cliente407@exemplo.com</td><td>Rua das Palmeiras</td><td>1819</td><td>11</td><td>969813772</td></tr><tr><td>408</td><td>João Silva</td><td>cliente408@exemplo.com</td><td>Rua da Consolação</td><td>2223</td><td>11</td><td>971873006</td></tr><tr><td>409</td><td>Pedro Santos</td><td>cliente409@exemplo.com</td><td>Avenida Ipiranga</td><td>2021</td><td>11</td><td>926788141</td></tr><tr><td>410</td><td>Mariana Rocha</td><td>cliente410@exemplo.com</td><td>Rua das Palmeiras</td><td>1819</td><td>11</td><td>995884553</td></tr><tr><td>411</td><td>Carlos Pereira</td><td>cliente411@exemplo.com</td><td>Avenida Paulista</td><td>456</td><td>11</td><td>933747996</td></tr><tr><td>412</td><td>Paulo Almeida</td><td>cliente412@exemplo.com</td><td>Praça da Sé</td><td>789</td><td>11</td><td>940603547</td></tr><tr><td>413</td><td>Fernanda Lima</td><td>cliente413@exemplo.com</td><td>Rua da Consolação</td><td>2223</td><td>11</td><td>985536098</td></tr><tr><td>414</td><td>Pedro Santos</td><td>cliente414@exemplo.com</td><td>Avenida Atlântica</td><td>1617</td><td>11</td><td>951833012</td></tr><tr><td>415</td><td>Carlos Pereira</td><td>cliente415@exemplo.com</td><td>Rua da Consolação</td><td>2223</td><td>11</td><td>952266165</td></tr><tr><td>416</td><td>Lucas Fernandes</td><td>cliente416@exemplo.com</td><td>Rua da Consolação</td><td>2223</td><td>11</td><td>952247187</td></tr><tr><td>417</td><td>Fernanda Lima</td><td>cliente417@exemplo.com</td><td>Praça da Sé</td><td>789</td><td>11</td><td>992556026</td></tr><tr><td>418</td><td>Maria Oliveira</td><td>cliente418@exemplo.com</td><td>Avenida Paulista</td><td>456</td><td>11</td><td>957397655</td></tr><tr><td>419</td><td>Maria Oliveira</td><td>cliente419@exemplo.com</td><td>Praça da Sé</td><td>789</td><td>11</td><td>977076318</td></tr><tr><td>420</td><td>Pedro Santos</td><td>cliente420@exemplo.com</td><td>Avenida Brasil</td><td>1213</td><td>11</td><td>956789027</td></tr><tr><td>421</td><td>João Silva</td><td>cliente421@exemplo.com</td><td>Avenida Brasil</td><td>1213</td><td>11</td><td>943072645</td></tr><tr><td>422</td><td>Lucas Fernandes</td><td>cliente422@exemplo.com</td><td>Avenida Ipiranga</td><td>2021</td><td>11</td><td>934467777</td></tr><tr><td>423</td><td>Carlos Pereira</td><td>cliente423@exemplo.com</td><td>Rua das Palmeiras</td><td>1819</td><td>11</td><td>984318937</td></tr><tr><td>424</td><td>Pedro Santos</td><td>cliente424@exemplo.com</td><td>Rua Augusta</td><td>1011</td><td>11</td><td>949535597</td></tr><tr><td>425</td><td>Lucas Fernandes</td><td>cliente425@exemplo.com</td><td>Avenida Atlântica</td><td>1617</td><td>11</td><td>938972295</td></tr><tr><td>426</td><td>Ana Souza</td><td>cliente426@exemplo.com</td><td>Avenida Atlântica</td><td>1617</td><td>11</td><td>964917289</td></tr><tr><td>427</td><td>Maria Oliveira</td><td>cliente427@exemplo.com</td><td>Avenida Ipiranga</td><td>2021</td><td>11</td><td>959487121</td></tr><tr><td>428</td><td>Carlos Pereira</td><td>cliente428@exemplo.com</td><td>Rua das Palmeiras</td><td>1819</td><td>11</td><td>969924702</td></tr><tr><td>429</td><td>Mariana Rocha</td><td>cliente429@exemplo.com</td><td>Avenida Atlântica</td><td>1617</td><td>11</td><td>919733719</td></tr><tr><td>430</td><td>Carlos Pereira</td><td>cliente430@exemplo.com</td><td>Avenida Ipiranga</td><td>2021</td><td>11</td><td>918275106</td></tr><tr><td>431</td><td>Maria Oliveira</td><td>cliente431@exemplo.com</td><td>Avenida Ipiranga</td><td>2021</td><td>11</td><td>997078925</td></tr><tr><td>432</td><td>Lucas Fernandes</td><td>cliente432@exemplo.com</td><td>Avenida Atlântica</td><td>1617</td><td>11</td><td>911042604</td></tr><tr><td>433</td><td>Fernanda Lima</td><td>cliente433@exemplo.com</td><td>Praça da Sé</td><td>789</td><td>11</td><td>999285756</td></tr><tr><td>434</td><td>Juliana Costa</td><td>cliente434@exemplo.com</td><td>Rua das Palmeiras</td><td>1819</td><td>11</td><td>943391041</td></tr><tr><td>435</td><td>Paulo Almeida</td><td>cliente435@exemplo.com</td><td>Avenida Paulista</td><td>456</td><td>11</td><td>922332882</td></tr><tr><td>436</td><td>Maria Oliveira</td><td>cliente436@exemplo.com</td><td>Rua Augusta</td><td>1011</td><td>11</td><td>992142543</td></tr><tr><td>437</td><td>Fernanda Lima</td><td>cliente437@exemplo.com</td><td>Rua da Consolação</td><td>2223</td><td>11</td><td>954125797</td></tr><tr><td>438</td><td>Lucas Fernandes</td><td>cliente438@exemplo.com</td><td>Rua XV de Novembro</td><td>1415</td><td>11</td><td>942322498</td></tr><tr><td>439</td><td>Carlos Pereira</td><td>cliente439@exemplo.com</td><td>Rua da Consolação</td><td>2223</td><td>11</td><td>935534140</td></tr><tr><td>440</td><td>Paulo Almeida</td><td>cliente440@exemplo.com</td><td>Avenida Paulista</td><td>456</td><td>11</td><td>957097324</td></tr><tr><td>441</td><td>Lucas Fernandes</td><td>cliente441@exemplo.com</td><td>Rua XV de Novembro</td><td>1415</td><td>11</td><td>981222980</td></tr><tr><td>442</td><td>João Silva</td><td>cliente442@exemplo.com</td><td>Rua das Palmeiras</td><td>1819</td><td>11</td><td>942758607</td></tr><tr><td>443</td><td>Juliana Costa</td><td>cliente443@exemplo.com</td><td>Rua da Consolação</td><td>2223</td><td>11</td><td>919673028</td></tr><tr><td>444</td><td>Juliana Costa</td><td>cliente444@exemplo.com</td><td>Rua das Palmeiras</td><td>1819</td><td>11</td><td>939622384</td></tr><tr><td>445</td><td>Paulo Almeida</td><td>cliente445@exemplo.com</td><td>Rua Augusta</td><td>1011</td><td>11</td><td>933643705</td></tr><tr><td>446</td><td>Lucas Fernandes</td><td>cliente446@exemplo.com</td><td>Avenida Paulista</td><td>456</td><td>11</td><td>995953188</td></tr><tr><td>447</td><td>Carlos Pereira</td><td>cliente447@exemplo.com</td><td>Avenida Ipiranga</td><td>2021</td><td>11</td><td>933567498</td></tr><tr><td>448</td><td>Lucas Fernandes</td><td>cliente448@exemplo.com</td><td>Avenida Paulista</td><td>456</td><td>11</td><td>993402215</td></tr><tr><td>449</td><td>Juliana Costa</td><td>cliente449@exemplo.com</td><td>Avenida Brasil</td><td>1213</td><td>11</td><td>954285336</td></tr><tr><td>450</td><td>Lucas Fernandes</td><td>cliente450@exemplo.com</td><td>Rua Augusta</td><td>1011</td><td>11</td><td>969294741</td></tr><tr><td>451</td><td>João Silva</td><td>cliente451@exemplo.com</td><td>Avenida Paulista</td><td>456</td><td>11</td><td>988933903</td></tr><tr><td>452</td><td>Ana Souza</td><td>cliente452@exemplo.com</td><td>Rua Augusta</td><td>1011</td><td>11</td><td>944184926</td></tr><tr><td>453</td><td>Maria Oliveira</td><td>cliente453@exemplo.com</td><td>Rua Augusta</td><td>1011</td><td>11</td><td>936564077</td></tr><tr><td>454</td><td>Carlos Pereira</td><td>cliente454@exemplo.com</td><td>Avenida Atlântica</td><td>1617</td><td>11</td><td>981121017</td></tr><tr><td>455</td><td>Paulo Almeida</td><td>cliente455@exemplo.com</td><td>Rua das Palmeiras</td><td>1819</td><td>11</td><td>944485962</td></tr><tr><td>456</td><td>Mariana Rocha</td><td>cliente456@exemplo.com</td><td>Avenida Brasil</td><td>1213</td><td>11</td><td>913783830</td></tr><tr><td>457</td><td>Paulo Almeida</td><td>cliente457@exemplo.com</td><td>Avenida Ipiranga</td><td>2021</td><td>11</td><td>913679939</td></tr><tr><td>458</td><td>Ana Souza</td><td>cliente458@exemplo.com</td><td>Avenida Atlântica</td><td>1617</td><td>11</td><td>984188004</td></tr><tr><td>459</td><td>Ana Souza</td><td>cliente459@exemplo.com</td><td>Praça da Sé</td><td>789</td><td>11</td><td>929927591</td></tr><tr><td>460</td><td>Juliana Costa</td><td>cliente460@exemplo.com</td><td>Avenida Ipiranga</td><td>2021</td><td>11</td><td>957365618</td></tr><tr><td>461</td><td>Mariana Rocha</td><td>cliente461@exemplo.com</td><td>Rua das Flores</td><td>123</td><td>11</td><td>968021312</td></tr><tr><td>462</td><td>Paulo Almeida</td><td>cliente462@exemplo.com</td><td>Rua das Palmeiras</td><td>1819</td><td>11</td><td>957218742</td></tr><tr><td>463</td><td>Mariana Rocha</td><td>cliente463@exemplo.com</td><td>Rua da Consolação</td><td>2223</td><td>11</td><td>924254595</td></tr><tr><td>464</td><td>Maria Oliveira</td><td>cliente464@exemplo.com</td><td>Rua XV de Novembro</td><td>1415</td><td>11</td><td>936106003</td></tr><tr><td>465</td><td>Carlos Pereira</td><td>cliente465@exemplo.com</td><td>Rua Augusta</td><td>1011</td><td>11</td><td>919876275</td></tr><tr><td>466</td><td>Paulo Almeida</td><td>cliente466@exemplo.com</td><td>Rua da Consolação</td><td>2223</td><td>11</td><td>980105864</td></tr><tr><td>467</td><td>Fernanda Lima</td><td>cliente467@exemplo.com</td><td>Rua XV de Novembro</td><td>1415</td><td>11</td><td>936113761</td></tr><tr><td>468</td><td>Paulo Almeida</td><td>cliente468@exemplo.com</td><td>Rua XV de Novembro</td><td>1415</td><td>11</td><td>943181408</td></tr><tr><td>469</td><td>Carlos Pereira</td><td>cliente469@exemplo.com</td><td>Rua da Consolação</td><td>2223</td><td>11</td><td>910226728</td></tr><tr><td>470</td><td>Paulo Almeida</td><td>cliente470@exemplo.com</td><td>Rua das Palmeiras</td><td>1819</td><td>11</td><td>965902119</td></tr><tr><td>471</td><td>Carlos Pereira</td><td>cliente471@exemplo.com</td><td>Avenida Paulista</td><td>456</td><td>11</td><td>987699543</td></tr><tr><td>472</td><td>Maria Oliveira</td><td>cliente472@exemplo.com</td><td>Avenida Brasil</td><td>1213</td><td>11</td><td>935932179</td></tr><tr><td>473</td><td>Juliana Costa</td><td>cliente473@exemplo.com</td><td>Rua das Palmeiras</td><td>1819</td><td>11</td><td>968394069</td></tr><tr><td>474</td><td>Mariana Rocha</td><td>cliente474@exemplo.com</td><td>Rua das Palmeiras</td><td>1819</td><td>11</td><td>984871428</td></tr><tr><td>475</td><td>Carlos Pereira</td><td>cliente475@exemplo.com</td><td>Praça da Sé</td><td>789</td><td>11</td><td>966821111</td></tr><tr><td>476</td><td>Juliana Costa</td><td>cliente476@exemplo.com</td><td>Avenida Paulista</td><td>456</td><td>11</td><td>948835423</td></tr><tr><td>477</td><td>Paulo Almeida</td><td>cliente477@exemplo.com</td><td>Avenida Ipiranga</td><td>2021</td><td>11</td><td>978366814</td></tr><tr><td>478</td><td>Paulo Almeida</td><td>cliente478@exemplo.com</td><td>Avenida Paulista</td><td>456</td><td>11</td><td>945454499</td></tr><tr><td>479</td><td>Pedro Santos</td><td>cliente479@exemplo.com</td><td>Rua XV de Novembro</td><td>1415</td><td>11</td><td>988948142</td></tr><tr><td>480</td><td>Fernanda Lima</td><td>cliente480@exemplo.com</td><td>Rua XV de Novembro</td><td>1415</td><td>11</td><td>964635273</td></tr><tr><td>481</td><td>Juliana Costa</td><td>cliente481@exemplo.com</td><td>Avenida Paulista</td><td>456</td><td>11</td><td>941447873</td></tr><tr><td>482</td><td>Maria Oliveira</td><td>cliente482@exemplo.com</td><td>Avenida Brasil</td><td>1213</td><td>11</td><td>979676343</td></tr><tr><td>483</td><td>Carlos Pereira</td><td>cliente483@exemplo.com</td><td>Rua das Flores</td><td>123</td><td>11</td><td>972709725</td></tr><tr><td>484</td><td>Lucas Fernandes</td><td>cliente484@exemplo.com</td><td>Rua Augusta</td><td>1011</td><td>11</td><td>921004587</td></tr><tr><td>485</td><td>Ana Souza</td><td>cliente485@exemplo.com</td><td>Rua XV de Novembro</td><td>1415</td><td>11</td><td>937856056</td></tr><tr><td>486</td><td>João Silva</td><td>cliente486@exemplo.com</td><td>Rua Augusta</td><td>1011</td><td>11</td><td>953773584</td></tr><tr><td>487</td><td>Juliana Costa</td><td>cliente487@exemplo.com</td><td>Rua da Consolação</td><td>2223</td><td>11</td><td>947862364</td></tr><tr><td>488</td><td>Ana Souza</td><td>cliente488@exemplo.com</td><td>Rua XV de Novembro</td><td>1415</td><td>11</td><td>929466625</td></tr><tr><td>489</td><td>Pedro Santos</td><td>cliente489@exemplo.com</td><td>Avenida Paulista</td><td>456</td><td>11</td><td>972143953</td></tr><tr><td>490</td><td>Ana Souza</td><td>cliente490@exemplo.com</td><td>Rua Augusta</td><td>1011</td><td>11</td><td>911392238</td></tr><tr><td>491</td><td>Carlos Pereira</td><td>cliente491@exemplo.com</td><td>Avenida Ipiranga</td><td>2021</td><td>11</td><td>916646836</td></tr><tr><td>492</td><td>Carlos Pereira</td><td>cliente492@exemplo.com</td><td>Rua da Consolação</td><td>2223</td><td>11</td><td>961823865</td></tr><tr><td>493</td><td>Ana Souza</td><td>cliente493@exemplo.com</td><td>Avenida Brasil</td><td>1213</td><td>11</td><td>928735252</td></tr><tr><td>494</td><td>Carlos Pereira</td><td>cliente494@exemplo.com</td><td>Rua da Consolação</td><td>2223</td><td>11</td><td>953256094</td></tr><tr><td>495</td><td>Pedro Santos</td><td>cliente495@exemplo.com</td><td>Rua da Consolação</td><td>2223</td><td>11</td><td>955207409</td></tr><tr><td>496</td><td>Carlos Pereira</td><td>cliente496@exemplo.com</td><td>Avenida Brasil</td><td>1213</td><td>11</td><td>955284486</td></tr><tr><td>497</td><td>Juliana Costa</td><td>cliente497@exemplo.com</td><td>Avenida Atlântica</td><td>1617</td><td>11</td><td>977883315</td></tr><tr><td>498</td><td>Lucas Fernandes</td><td>cliente498@exemplo.com</td><td>Rua XV de Novembro</td><td>1415</td><td>11</td><td>958245635</td></tr><tr><td>499</td><td>Pedro Santos</td><td>cliente499@exemplo.com</td><td>Avenida Ipiranga</td><td>2021</td><td>11</td><td>939698346</td></tr><tr><td>500</td><td>Carlos Pereira</td><td>cliente500@exemplo.com</td><td>Rua Augusta</td><td>1011</td><td>11</td><td>949548881</td></tr><tr><td>501</td><td>Carlos Pereira</td><td>cliente501@exemplo.com</td><td>Praça da Sé</td><td>789</td><td>11</td><td>961443817</td></tr><tr><td>502</td><td>Fernanda Lima</td><td>cliente502@exemplo.com</td><td>Avenida Ipiranga</td><td>2021</td><td>11</td><td>978639487</td></tr><tr><td>503</td><td>João Silva</td><td>cliente503@exemplo.com</td><td>Rua Augusta</td><td>1011</td><td>11</td><td>946733705</td></tr><tr><td>504</td><td>Mariana Rocha</td><td>cliente504@exemplo.com</td><td>Avenida Paulista</td><td>456</td><td>11</td><td>928648372</td></tr><tr><td>505</td><td>Fernanda Lima</td><td>cliente505@exemplo.com</td><td>Rua Augusta</td><td>1011</td><td>11</td><td>976442739</td></tr><tr><td>506</td><td>Maria Oliveira</td><td>cliente506@exemplo.com</td><td>Rua XV de Novembro</td><td>1415</td><td>11</td><td>933131327</td></tr><tr><td>507</td><td>Fernanda Lima</td><td>cliente507@exemplo.com</td><td>Avenida Brasil</td><td>1213</td><td>11</td><td>989685158</td></tr><tr><td>508</td><td>Fernanda Lima</td><td>cliente508@exemplo.com</td><td>Praça da Sé</td><td>789</td><td>11</td><td>992142618</td></tr><tr><td>509</td><td>João Silva</td><td>cliente509@exemplo.com</td><td>Rua Augusta</td><td>1011</td><td>11</td><td>938033855</td></tr><tr><td>510</td><td>Ana Souza</td><td>cliente510@exemplo.com</td><td>Rua das Flores</td><td>123</td><td>11</td><td>965898455</td></tr><tr><td>511</td><td>Pedro Santos</td><td>cliente511@exemplo.com</td><td>Rua Augusta</td><td>1011</td><td>11</td><td>978025039</td></tr><tr><td>512</td><td>Paulo Almeida</td><td>cliente512@exemplo.com</td><td>Rua das Palmeiras</td><td>1819</td><td>11</td><td>996573780</td></tr><tr><td>513</td><td>Carlos Pereira</td><td>cliente513@exemplo.com</td><td>Rua das Palmeiras</td><td>1819</td><td>11</td><td>945991208</td></tr><tr><td>514</td><td>Ana Souza</td><td>cliente514@exemplo.com</td><td>Rua XV de Novembro</td><td>1415</td><td>11</td><td>944729472</td></tr><tr><td>515</td><td>João Silva</td><td>cliente515@exemplo.com</td><td>Praça da Sé</td><td>789</td><td>11</td><td>936524762</td></tr><tr><td>516</td><td>Carlos Pereira</td><td>cliente516@exemplo.com</td><td>Rua Augusta</td><td>1011</td><td>11</td><td>946556726</td></tr><tr><td>517</td><td>Pedro Santos</td><td>cliente517@exemplo.com</td><td>Rua das Flores</td><td>123</td><td>11</td><td>964132964</td></tr><tr><td>518</td><td>João Silva</td><td>cliente518@exemplo.com</td><td>Avenida Paulista</td><td>456</td><td>11</td><td>926616750</td></tr><tr><td>519</td><td>Lucas Fernandes</td><td>cliente519@exemplo.com</td><td>Rua das Flores</td><td>123</td><td>11</td><td>955209671</td></tr><tr><td>520</td><td>Juliana Costa</td><td>cliente520@exemplo.com</td><td>Rua das Flores</td><td>123</td><td>11</td><td>978783980</td></tr><tr><td>521</td><td>João Silva</td><td>cliente521@exemplo.com</td><td>Praça da Sé</td><td>789</td><td>11</td><td>913944133</td></tr><tr><td>522</td><td>Lucas Fernandes</td><td>cliente522@exemplo.com</td><td>Praça da Sé</td><td>789</td><td>11</td><td>953105130</td></tr><tr><td>523</td><td>Pedro Santos</td><td>cliente523@exemplo.com</td><td>Rua da Consolação</td><td>2223</td><td>11</td><td>990231927</td></tr><tr><td>524</td><td>Lucas Fernandes</td><td>cliente524@exemplo.com</td><td>Praça da Sé</td><td>789</td><td>11</td><td>999366802</td></tr><tr><td>525</td><td>Lucas Fernandes</td><td>cliente525@exemplo.com</td><td>Rua das Flores</td><td>123</td><td>11</td><td>929157141</td></tr><tr><td>526</td><td>Paulo Almeida</td><td>cliente526@exemplo.com</td><td>Avenida Atlântica</td><td>1617</td><td>11</td><td>986383736</td></tr><tr><td>527</td><td>Paulo Almeida</td><td>cliente527@exemplo.com</td><td>Avenida Brasil</td><td>1213</td><td>11</td><td>914223466</td></tr><tr><td>528</td><td>Fernanda Lima</td><td>cliente528@exemplo.com</td><td>Avenida Paulista</td><td>456</td><td>11</td><td>923517178</td></tr><tr><td>529</td><td>Fernanda Lima</td><td>cliente529@exemplo.com</td><td>Rua Augusta</td><td>1011</td><td>11</td><td>959145166</td></tr><tr><td>530</td><td>Mariana Rocha</td><td>cliente530@exemplo.com</td><td>Avenida Atlântica</td><td>1617</td><td>11</td><td>939368624</td></tr><tr><td>531</td><td>Juliana Costa</td><td>cliente531@exemplo.com</td><td>Rua Augusta</td><td>1011</td><td>11</td><td>918947845</td></tr><tr><td>532</td><td>Pedro Santos</td><td>cliente532@exemplo.com</td><td>Avenida Ipiranga</td><td>2021</td><td>11</td><td>927097095</td></tr><tr><td>533</td><td>Maria Oliveira</td><td>cliente533@exemplo.com</td><td>Avenida Atlântica</td><td>1617</td><td>11</td><td>929529706</td></tr><tr><td>534</td><td>Maria Oliveira</td><td>cliente534@exemplo.com</td><td>Rua XV de Novembro</td><td>1415</td><td>11</td><td>945575180</td></tr><tr><td>535</td><td>João Silva</td><td>cliente535@exemplo.com</td><td>Avenida Ipiranga</td><td>2021</td><td>11</td><td>925946394</td></tr><tr><td>536</td><td>Juliana Costa</td><td>cliente536@exemplo.com</td><td>Praça da Sé</td><td>789</td><td>11</td><td>992196486</td></tr><tr><td>537</td><td>Mariana Rocha</td><td>cliente537@exemplo.com</td><td>Avenida Paulista</td><td>456</td><td>11</td><td>960968915</td></tr><tr><td>538</td><td>Pedro Santos</td><td>cliente538@exemplo.com</td><td>Avenida Ipiranga</td><td>2021</td><td>11</td><td>959449838</td></tr><tr><td>539</td><td>Lucas Fernandes</td><td>cliente539@exemplo.com</td><td>Rua Augusta</td><td>1011</td><td>11</td><td>971249012</td></tr><tr><td>540</td><td>Pedro Santos</td><td>cliente540@exemplo.com</td><td>Praça da Sé</td><td>789</td><td>11</td><td>954237707</td></tr><tr><td>541</td><td>Maria Oliveira</td><td>cliente541@exemplo.com</td><td>Praça da Sé</td><td>789</td><td>11</td><td>990354976</td></tr><tr><td>542</td><td>Ana Souza</td><td>cliente542@exemplo.com</td><td>Rua Augusta</td><td>1011</td><td>11</td><td>931488208</td></tr><tr><td>543</td><td>Juliana Costa</td><td>cliente543@exemplo.com</td><td>Rua da Consolação</td><td>2223</td><td>11</td><td>943074527</td></tr><tr><td>544</td><td>Maria Oliveira</td><td>cliente544@exemplo.com</td><td>Rua das Palmeiras</td><td>1819</td><td>11</td><td>989445714</td></tr><tr><td>545</td><td>Maria Oliveira</td><td>cliente545@exemplo.com</td><td>Avenida Paulista</td><td>456</td><td>11</td><td>910276580</td></tr><tr><td>546</td><td>Mariana Rocha</td><td>cliente546@exemplo.com</td><td>Avenida Paulista</td><td>456</td><td>11</td><td>955075391</td></tr><tr><td>547</td><td>Carlos Pereira</td><td>cliente547@exemplo.com</td><td>Rua das Flores</td><td>123</td><td>11</td><td>925495390</td></tr><tr><td>548</td><td>Ana Souza</td><td>cliente548@exemplo.com</td><td>Rua das Palmeiras</td><td>1819</td><td>11</td><td>938915805</td></tr><tr><td>549</td><td>Fernanda Lima</td><td>cliente549@exemplo.com</td><td>Rua das Palmeiras</td><td>1819</td><td>11</td><td>989832844</td></tr><tr><td>550</td><td>Paulo Almeida</td><td>cliente550@exemplo.com</td><td>Rua das Palmeiras</td><td>1819</td><td>11</td><td>941912958</td></tr><tr><td>551</td><td>Maria Oliveira</td><td>cliente551@exemplo.com</td><td>Rua Augusta</td><td>1011</td><td>11</td><td>938115804</td></tr><tr><td>552</td><td>Carlos Pereira</td><td>cliente552@exemplo.com</td><td>Praça da Sé</td><td>789</td><td>11</td><td>920475390</td></tr><tr><td>553</td><td>Ana Souza</td><td>cliente553@exemplo.com</td><td>Rua das Flores</td><td>123</td><td>11</td><td>934538007</td></tr><tr><td>554</td><td>Lucas Fernandes</td><td>cliente554@exemplo.com</td><td>Praça da Sé</td><td>789</td><td>11</td><td>994457553</td></tr><tr><td>555</td><td>Lucas Fernandes</td><td>cliente555@exemplo.com</td><td>Praça da Sé</td><td>789</td><td>11</td><td>955997622</td></tr><tr><td>556</td><td>Paulo Almeida</td><td>cliente556@exemplo.com</td><td>Avenida Paulista</td><td>456</td><td>11</td><td>967051801</td></tr><tr><td>557</td><td>Mariana Rocha</td><td>cliente557@exemplo.com</td><td>Avenida Atlântica</td><td>1617</td><td>11</td><td>978205406</td></tr><tr><td>558</td><td>Juliana Costa</td><td>cliente558@exemplo.com</td><td>Avenida Ipiranga</td><td>2021</td><td>11</td><td>959732591</td></tr><tr><td>559</td><td>João Silva</td><td>cliente559@exemplo.com</td><td>Praça da Sé</td><td>789</td><td>11</td><td>978774414</td></tr><tr><td>560</td><td>Ana Souza</td><td>cliente560@exemplo.com</td><td>Avenida Brasil</td><td>1213</td><td>11</td><td>912433223</td></tr><tr><td>561</td><td>Paulo Almeida</td><td>cliente561@exemplo.com</td><td>Avenida Ipiranga</td><td>2021</td><td>11</td><td>946995344</td></tr><tr><td>562</td><td>Carlos Pereira</td><td>cliente562@exemplo.com</td><td>Rua das Palmeiras</td><td>1819</td><td>11</td><td>915229305</td></tr><tr><td>563</td><td>Maria Oliveira</td><td>cliente563@exemplo.com</td><td>Avenida Paulista</td><td>456</td><td>11</td><td>937344359</td></tr><tr><td>564</td><td>Lucas Fernandes</td><td>cliente564@exemplo.com</td><td>Rua Augusta</td><td>1011</td><td>11</td><td>995476978</td></tr><tr><td>565</td><td>Pedro Santos</td><td>cliente565@exemplo.com</td><td>Praça da Sé</td><td>789</td><td>11</td><td>944089996</td></tr><tr><td>566</td><td>Fernanda Lima</td><td>cliente566@exemplo.com</td><td>Rua das Flores</td><td>123</td><td>11</td><td>919222625</td></tr><tr><td>567</td><td>João Silva</td><td>cliente567@exemplo.com</td><td>Praça da Sé</td><td>789</td><td>11</td><td>915179413</td></tr><tr><td>568</td><td>Maria Oliveira</td><td>cliente568@exemplo.com</td><td>Rua das Palmeiras</td><td>1819</td><td>11</td><td>974137293</td></tr><tr><td>569</td><td>João Silva</td><td>cliente569@exemplo.com</td><td>Avenida Paulista</td><td>456</td><td>11</td><td>924473370</td></tr><tr><td>570</td><td>Fernanda Lima</td><td>cliente570@exemplo.com</td><td>Praça da Sé</td><td>789</td><td>11</td><td>923698605</td></tr><tr><td>571</td><td>João Silva</td><td>cliente571@exemplo.com</td><td>Rua XV de Novembro</td><td>1415</td><td>11</td><td>926989288</td></tr><tr><td>572</td><td>Pedro Santos</td><td>cliente572@exemplo.com</td><td>Rua XV de Novembro</td><td>1415</td><td>11</td><td>983476182</td></tr><tr><td>573</td><td>Fernanda Lima</td><td>cliente573@exemplo.com</td><td>Rua da Consolação</td><td>2223</td><td>11</td><td>945999542</td></tr><tr><td>574</td><td>Ana Souza</td><td>cliente574@exemplo.com</td><td>Avenida Ipiranga</td><td>2021</td><td>11</td><td>979411114</td></tr><tr><td>575</td><td>Paulo Almeida</td><td>cliente575@exemplo.com</td><td>Rua Augusta</td><td>1011</td><td>11</td><td>985122266</td></tr><tr><td>576</td><td>Paulo Almeida</td><td>cliente576@exemplo.com</td><td>Avenida Paulista</td><td>456</td><td>11</td><td>948212335</td></tr><tr><td>577</td><td>Carlos Pereira</td><td>cliente577@exemplo.com</td><td>Avenida Atlântica</td><td>1617</td><td>11</td><td>971074815</td></tr><tr><td>578</td><td>Lucas Fernandes</td><td>cliente578@exemplo.com</td><td>Rua das Flores</td><td>123</td><td>11</td><td>929573520</td></tr><tr><td>579</td><td>Mariana Rocha</td><td>cliente579@exemplo.com</td><td>Avenida Brasil</td><td>1213</td><td>11</td><td>977854140</td></tr><tr><td>580</td><td>Carlos Pereira</td><td>cliente580@exemplo.com</td><td>Rua XV de Novembro</td><td>1415</td><td>11</td><td>992361435</td></tr><tr><td>581</td><td>Lucas Fernandes</td><td>cliente581@exemplo.com</td><td>Avenida Atlântica</td><td>1617</td><td>11</td><td>923801086</td></tr><tr><td>582</td><td>Juliana Costa</td><td>cliente582@exemplo.com</td><td>Rua XV de Novembro</td><td>1415</td><td>11</td><td>966444811</td></tr><tr><td>583</td><td>Fernanda Lima</td><td>cliente583@exemplo.com</td><td>Avenida Atlântica</td><td>1617</td><td>11</td><td>954296522</td></tr><tr><td>584</td><td>Maria Oliveira</td><td>cliente584@exemplo.com</td><td>Avenida Atlântica</td><td>1617</td><td>11</td><td>971312550</td></tr><tr><td>585</td><td>Fernanda Lima</td><td>cliente585@exemplo.com</td><td>Avenida Ipiranga</td><td>2021</td><td>11</td><td>913184119</td></tr><tr><td>586</td><td>Maria Oliveira</td><td>cliente586@exemplo.com</td><td>Avenida Ipiranga</td><td>2021</td><td>11</td><td>951933123</td></tr><tr><td>587</td><td>Mariana Rocha</td><td>cliente587@exemplo.com</td><td>Rua das Flores</td><td>123</td><td>11</td><td>957228426</td></tr><tr><td>588</td><td>Fernanda Lima</td><td>cliente588@exemplo.com</td><td>Rua da Consolação</td><td>2223</td><td>11</td><td>991715620</td></tr><tr><td>589</td><td>Maria Oliveira</td><td>cliente589@exemplo.com</td><td>Avenida Ipiranga</td><td>2021</td><td>11</td><td>993665590</td></tr><tr><td>590</td><td>Fernanda Lima</td><td>cliente590@exemplo.com</td><td>Rua das Flores</td><td>123</td><td>11</td><td>977353863</td></tr><tr><td>591</td><td>Mariana Rocha</td><td>cliente591@exemplo.com</td><td>Rua Augusta</td><td>1011</td><td>11</td><td>981236617</td></tr><tr><td>592</td><td>Carlos Pereira</td><td>cliente592@exemplo.com</td><td>Avenida Ipiranga</td><td>2021</td><td>11</td><td>994242800</td></tr><tr><td>593</td><td>Maria Oliveira</td><td>cliente593@exemplo.com</td><td>Rua das Flores</td><td>123</td><td>11</td><td>946333107</td></tr><tr><td>594</td><td>Juliana Costa</td><td>cliente594@exemplo.com</td><td>Rua XV de Novembro</td><td>1415</td><td>11</td><td>926663031</td></tr><tr><td>595</td><td>Paulo Almeida</td><td>cliente595@exemplo.com</td><td>Avenida Atlântica</td><td>1617</td><td>11</td><td>996232083</td></tr><tr><td>596</td><td>Carlos Pereira</td><td>cliente596@exemplo.com</td><td>Avenida Paulista</td><td>456</td><td>11</td><td>928704216</td></tr><tr><td>597</td><td>Lucas Fernandes</td><td>cliente597@exemplo.com</td><td>Rua das Palmeiras</td><td>1819</td><td>11</td><td>994019954</td></tr><tr><td>598</td><td>João Silva</td><td>cliente598@exemplo.com</td><td>Rua XV de Novembro</td><td>1415</td><td>11</td><td>911566815</td></tr><tr><td>599</td><td>Ana Souza</td><td>cliente599@exemplo.com</td><td>Avenida Atlântica</td><td>1617</td><td>11</td><td>993748320</td></tr><tr><td>600</td><td>Fernanda Lima</td><td>cliente600@exemplo.com</td><td>Rua XV de Novembro</td><td>1415</td><td>11</td><td>925733894</td></tr><tr><td>601</td><td>Carlos Pereira</td><td>cliente601@exemplo.com</td><td>Avenida Brasil</td><td>1213</td><td>11</td><td>966093684</td></tr><tr><td>602</td><td>Lucas Fernandes</td><td>cliente602@exemplo.com</td><td>Rua Augusta</td><td>1011</td><td>11</td><td>947271193</td></tr><tr><td>603</td><td>Fernanda Lima</td><td>cliente603@exemplo.com</td><td>Avenida Ipiranga</td><td>2021</td><td>11</td><td>961112764</td></tr><tr><td>604</td><td>Lucas Fernandes</td><td>cliente604@exemplo.com</td><td>Rua Augusta</td><td>1011</td><td>11</td><td>996936663</td></tr><tr><td>605</td><td>Pedro Santos</td><td>cliente605@exemplo.com</td><td>Avenida Paulista</td><td>456</td><td>11</td><td>958729758</td></tr><tr><td>606</td><td>Juliana Costa</td><td>cliente606@exemplo.com</td><td>Praça da Sé</td><td>789</td><td>11</td><td>943013483</td></tr><tr><td>607</td><td>Fernanda Lima</td><td>cliente607@exemplo.com</td><td>Rua das Palmeiras</td><td>1819</td><td>11</td><td>914172422</td></tr><tr><td>608</td><td>Mariana Rocha</td><td>cliente608@exemplo.com</td><td>Praça da Sé</td><td>789</td><td>11</td><td>968699162</td></tr><tr><td>609</td><td>João Silva</td><td>cliente609@exemplo.com</td><td>Avenida Brasil</td><td>1213</td><td>11</td><td>958912303</td></tr><tr><td>610</td><td>Fernanda Lima</td><td>cliente610@exemplo.com</td><td>Rua XV de Novembro</td><td>1415</td><td>11</td><td>977016196</td></tr><tr><td>611</td><td>Carlos Pereira</td><td>cliente611@exemplo.com</td><td>Avenida Brasil</td><td>1213</td><td>11</td><td>915058355</td></tr><tr><td>612</td><td>Maria Oliveira</td><td>cliente612@exemplo.com</td><td>Rua XV de Novembro</td><td>1415</td><td>11</td><td>910013932</td></tr><tr><td>613</td><td>Paulo Almeida</td><td>cliente613@exemplo.com</td><td>Avenida Brasil</td><td>1213</td><td>11</td><td>950725762</td></tr><tr><td>614</td><td>Juliana Costa</td><td>cliente614@exemplo.com</td><td>Rua das Palmeiras</td><td>1819</td><td>11</td><td>911561454</td></tr><tr><td>615</td><td>Fernanda Lima</td><td>cliente615@exemplo.com</td><td>Rua das Flores</td><td>123</td><td>11</td><td>960758897</td></tr><tr><td>616</td><td>Pedro Santos</td><td>cliente616@exemplo.com</td><td>Avenida Ipiranga</td><td>2021</td><td>11</td><td>980255364</td></tr><tr><td>617</td><td>Carlos Pereira</td><td>cliente617@exemplo.com</td><td>Avenida Paulista</td><td>456</td><td>11</td><td>928633913</td></tr><tr><td>618</td><td>Fernanda Lima</td><td>cliente618@exemplo.com</td><td>Rua das Flores</td><td>123</td><td>11</td><td>928788863</td></tr><tr><td>619</td><td>Lucas Fernandes</td><td>cliente619@exemplo.com</td><td>Rua XV de Novembro</td><td>1415</td><td>11</td><td>952826085</td></tr><tr><td>620</td><td>João Silva</td><td>cliente620@exemplo.com</td><td>Avenida Brasil</td><td>1213</td><td>11</td><td>952252592</td></tr><tr><td>621</td><td>Mariana Rocha</td><td>cliente621@exemplo.com</td><td>Rua XV de Novembro</td><td>1415</td><td>11</td><td>974385253</td></tr><tr><td>622</td><td>Ana Souza</td><td>cliente622@exemplo.com</td><td>Avenida Ipiranga</td><td>2021</td><td>11</td><td>916783873</td></tr><tr><td>623</td><td>João Silva</td><td>cliente623@exemplo.com</td><td>Avenida Ipiranga</td><td>2021</td><td>11</td><td>982885287</td></tr><tr><td>624</td><td>Ana Souza</td><td>cliente624@exemplo.com</td><td>Rua da Consolação</td><td>2223</td><td>11</td><td>925497204</td></tr><tr><td>625</td><td>João Silva</td><td>cliente625@exemplo.com</td><td>Praça da Sé</td><td>789</td><td>11</td><td>932908248</td></tr><tr><td>626</td><td>Lucas Fernandes</td><td>cliente626@exemplo.com</td><td>Rua das Palmeiras</td><td>1819</td><td>11</td><td>985142046</td></tr><tr><td>627</td><td>João Silva</td><td>cliente627@exemplo.com</td><td>Avenida Brasil</td><td>1213</td><td>11</td><td>911831385</td></tr><tr><td>628</td><td>Pedro Santos</td><td>cliente628@exemplo.com</td><td>Avenida Brasil</td><td>1213</td><td>11</td><td>922136009</td></tr><tr><td>629</td><td>Ana Souza</td><td>cliente629@exemplo.com</td><td>Rua XV de Novembro</td><td>1415</td><td>11</td><td>940079900</td></tr><tr><td>630</td><td>Mariana Rocha</td><td>cliente630@exemplo.com</td><td>Avenida Ipiranga</td><td>2021</td><td>11</td><td>933354728</td></tr><tr><td>631</td><td>Maria Oliveira</td><td>cliente631@exemplo.com</td><td>Avenida Ipiranga</td><td>2021</td><td>11</td><td>993733262</td></tr><tr><td>632</td><td>Mariana Rocha</td><td>cliente632@exemplo.com</td><td>Rua das Palmeiras</td><td>1819</td><td>11</td><td>920696168</td></tr><tr><td>633</td><td>Juliana Costa</td><td>cliente633@exemplo.com</td><td>Avenida Brasil</td><td>1213</td><td>11</td><td>980826217</td></tr><tr><td>634</td><td>Lucas Fernandes</td><td>cliente634@exemplo.com</td><td>Rua da Consolação</td><td>2223</td><td>11</td><td>918644311</td></tr><tr><td>635</td><td>Ana Souza</td><td>cliente635@exemplo.com</td><td>Rua das Flores</td><td>123</td><td>11</td><td>995256427</td></tr><tr><td>636</td><td>Carlos Pereira</td><td>cliente636@exemplo.com</td><td>Rua das Flores</td><td>123</td><td>11</td><td>928472427</td></tr><tr><td>637</td><td>Maria Oliveira</td><td>cliente637@exemplo.com</td><td>Rua XV de Novembro</td><td>1415</td><td>11</td><td>967526403</td></tr><tr><td>638</td><td>Fernanda Lima</td><td>cliente638@exemplo.com</td><td>Avenida Brasil</td><td>1213</td><td>11</td><td>983283415</td></tr><tr><td>639</td><td>Mariana Rocha</td><td>cliente639@exemplo.com</td><td>Rua XV de Novembro</td><td>1415</td><td>11</td><td>968116807</td></tr><tr><td>640</td><td>Mariana Rocha</td><td>cliente640@exemplo.com</td><td>Avenida Paulista</td><td>456</td><td>11</td><td>921851906</td></tr><tr><td>641</td><td>Lucas Fernandes</td><td>cliente641@exemplo.com</td><td>Rua das Palmeiras</td><td>1819</td><td>11</td><td>914379786</td></tr><tr><td>642</td><td>Mariana Rocha</td><td>cliente642@exemplo.com</td><td>Avenida Brasil</td><td>1213</td><td>11</td><td>943039305</td></tr><tr><td>643</td><td>Carlos Pereira</td><td>cliente643@exemplo.com</td><td>Rua XV de Novembro</td><td>1415</td><td>11</td><td>928024909</td></tr><tr><td>644</td><td>Maria Oliveira</td><td>cliente644@exemplo.com</td><td>Rua Augusta</td><td>1011</td><td>11</td><td>958855897</td></tr><tr><td>645</td><td>Mariana Rocha</td><td>cliente645@exemplo.com</td><td>Rua da Consolação</td><td>2223</td><td>11</td><td>925092057</td></tr><tr><td>646</td><td>Juliana Costa</td><td>cliente646@exemplo.com</td><td>Rua das Palmeiras</td><td>1819</td><td>11</td><td>941714078</td></tr><tr><td>647</td><td>João Silva</td><td>cliente647@exemplo.com</td><td>Rua XV de Novembro</td><td>1415</td><td>11</td><td>942965879</td></tr><tr><td>648</td><td>Lucas Fernandes</td><td>cliente648@exemplo.com</td><td>Rua Augusta</td><td>1011</td><td>11</td><td>931649256</td></tr><tr><td>649</td><td>Carlos Pereira</td><td>cliente649@exemplo.com</td><td>Praça da Sé</td><td>789</td><td>11</td><td>932092356</td></tr><tr><td>650</td><td>Paulo Almeida</td><td>cliente650@exemplo.com</td><td>Rua Augusta</td><td>1011</td><td>11</td><td>963169766</td></tr><tr><td>651</td><td>Ana Souza</td><td>cliente651@exemplo.com</td><td>Avenida Paulista</td><td>456</td><td>11</td><td>980801530</td></tr><tr><td>652</td><td>Mariana Rocha</td><td>cliente652@exemplo.com</td><td>Avenida Atlântica</td><td>1617</td><td>11</td><td>913917923</td></tr><tr><td>653</td><td>Mariana Rocha</td><td>cliente653@exemplo.com</td><td>Avenida Paulista</td><td>456</td><td>11</td><td>992216251</td></tr><tr><td>654</td><td>Juliana Costa</td><td>cliente654@exemplo.com</td><td>Rua das Flores</td><td>123</td><td>11</td><td>917386538</td></tr><tr><td>655</td><td>Maria Oliveira</td><td>cliente655@exemplo.com</td><td>Rua XV de Novembro</td><td>1415</td><td>11</td><td>986707350</td></tr><tr><td>656</td><td>Lucas Fernandes</td><td>cliente656@exemplo.com</td><td>Rua das Flores</td><td>123</td><td>11</td><td>959975854</td></tr><tr><td>657</td><td>Fernanda Lima</td><td>cliente657@exemplo.com</td><td>Avenida Brasil</td><td>1213</td><td>11</td><td>915048089</td></tr><tr><td>658</td><td>Pedro Santos</td><td>cliente658@exemplo.com</td><td>Rua das Palmeiras</td><td>1819</td><td>11</td><td>949234119</td></tr><tr><td>659</td><td>Paulo Almeida</td><td>cliente659@exemplo.com</td><td>Rua XV de Novembro</td><td>1415</td><td>11</td><td>938612279</td></tr><tr><td>660</td><td>Fernanda Lima</td><td>cliente660@exemplo.com</td><td>Rua Augusta</td><td>1011</td><td>11</td><td>974794307</td></tr><tr><td>661</td><td>Ana Souza</td><td>cliente661@exemplo.com</td><td>Rua das Flores</td><td>123</td><td>11</td><td>951301645</td></tr><tr><td>662</td><td>Carlos Pereira</td><td>cliente662@exemplo.com</td><td>Rua XV de Novembro</td><td>1415</td><td>11</td><td>926145991</td></tr><tr><td>663</td><td>Maria Oliveira</td><td>cliente663@exemplo.com</td><td>Praça da Sé</td><td>789</td><td>11</td><td>915547184</td></tr><tr><td>664</td><td>Maria Oliveira</td><td>cliente664@exemplo.com</td><td>Rua das Flores</td><td>123</td><td>11</td><td>969605536</td></tr><tr><td>665</td><td>Juliana Costa</td><td>cliente665@exemplo.com</td><td>Avenida Atlântica</td><td>1617</td><td>11</td><td>949517712</td></tr><tr><td>666</td><td>Fernanda Lima</td><td>cliente666@exemplo.com</td><td>Rua das Palmeiras</td><td>1819</td><td>11</td><td>943655925</td></tr><tr><td>667</td><td>Lucas Fernandes</td><td>cliente667@exemplo.com</td><td>Rua XV de Novembro</td><td>1415</td><td>11</td><td>920982186</td></tr><tr><td>668</td><td>Maria Oliveira</td><td>cliente668@exemplo.com</td><td>Avenida Paulista</td><td>456</td><td>11</td><td>981153980</td></tr><tr><td>669</td><td>Juliana Costa</td><td>cliente669@exemplo.com</td><td>Avenida Brasil</td><td>1213</td><td>11</td><td>978354343</td></tr><tr><td>670</td><td>Fernanda Lima</td><td>cliente670@exemplo.com</td><td>Rua XV de Novembro</td><td>1415</td><td>11</td><td>972127321</td></tr><tr><td>671</td><td>João Silva</td><td>cliente671@exemplo.com</td><td>Avenida Atlântica</td><td>1617</td><td>11</td><td>954021469</td></tr><tr><td>672</td><td>Ana Souza</td><td>cliente672@exemplo.com</td><td>Avenida Atlântica</td><td>1617</td><td>11</td><td>933225369</td></tr><tr><td>673</td><td>João Silva</td><td>cliente673@exemplo.com</td><td>Rua das Palmeiras</td><td>1819</td><td>11</td><td>923183414</td></tr><tr><td>674</td><td>João Silva</td><td>cliente674@exemplo.com</td><td>Rua XV de Novembro</td><td>1415</td><td>11</td><td>913591727</td></tr><tr><td>675</td><td>Paulo Almeida</td><td>cliente675@exemplo.com</td><td>Avenida Atlântica</td><td>1617</td><td>11</td><td>930462713</td></tr><tr><td>676</td><td>Ana Souza</td><td>cliente676@exemplo.com</td><td>Rua das Palmeiras</td><td>1819</td><td>11</td><td>929139802</td></tr><tr><td>677</td><td>Carlos Pereira</td><td>cliente677@exemplo.com</td><td>Avenida Paulista</td><td>456</td><td>11</td><td>995247489</td></tr><tr><td>678</td><td>Juliana Costa</td><td>cliente678@exemplo.com</td><td>Rua das Palmeiras</td><td>1819</td><td>11</td><td>957463470</td></tr><tr><td>679</td><td>Paulo Almeida</td><td>cliente679@exemplo.com</td><td>Praça da Sé</td><td>789</td><td>11</td><td>987123536</td></tr><tr><td>680</td><td>João Silva</td><td>cliente680@exemplo.com</td><td>Rua da Consolação</td><td>2223</td><td>11</td><td>920459421</td></tr><tr><td>681</td><td>Maria Oliveira</td><td>cliente681@exemplo.com</td><td>Avenida Ipiranga</td><td>2021</td><td>11</td><td>997666553</td></tr><tr><td>682</td><td>Fernanda Lima</td><td>cliente682@exemplo.com</td><td>Rua Augusta</td><td>1011</td><td>11</td><td>997754770</td></tr><tr><td>683</td><td>Lucas Fernandes</td><td>cliente683@exemplo.com</td><td>Rua das Palmeiras</td><td>1819</td><td>11</td><td>922873212</td></tr><tr><td>684</td><td>Pedro Santos</td><td>cliente684@exemplo.com</td><td>Rua Augusta</td><td>1011</td><td>11</td><td>998413156</td></tr><tr><td>685</td><td>Fernanda Lima</td><td>cliente685@exemplo.com</td><td>Rua das Palmeiras</td><td>1819</td><td>11</td><td>982743407</td></tr><tr><td>686</td><td>João Silva</td><td>cliente686@exemplo.com</td><td>Rua da Consolação</td><td>2223</td><td>11</td><td>998377335</td></tr><tr><td>687</td><td>Paulo Almeida</td><td>cliente687@exemplo.com</td><td>Avenida Ipiranga</td><td>2021</td><td>11</td><td>960964255</td></tr><tr><td>688</td><td>Maria Oliveira</td><td>cliente688@exemplo.com</td><td>Avenida Brasil</td><td>1213</td><td>11</td><td>987649826</td></tr><tr><td>689</td><td>Lucas Fernandes</td><td>cliente689@exemplo.com</td><td>Rua XV de Novembro</td><td>1415</td><td>11</td><td>924169342</td></tr><tr><td>690</td><td>João Silva</td><td>cliente690@exemplo.com</td><td>Avenida Ipiranga</td><td>2021</td><td>11</td><td>985788241</td></tr><tr><td>691</td><td>Ana Souza</td><td>cliente691@exemplo.com</td><td>Avenida Atlântica</td><td>1617</td><td>11</td><td>968819144</td></tr><tr><td>692</td><td>Paulo Almeida</td><td>cliente692@exemplo.com</td><td>Rua das Flores</td><td>123</td><td>11</td><td>919372080</td></tr><tr><td>693</td><td>Fernanda Lima</td><td>cliente693@exemplo.com</td><td>Rua da Consolação</td><td>2223</td><td>11</td><td>978079368</td></tr><tr><td>694</td><td>Maria Oliveira</td><td>cliente694@exemplo.com</td><td>Rua da Consolação</td><td>2223</td><td>11</td><td>961577026</td></tr><tr><td>695</td><td>Mariana Rocha</td><td>cliente695@exemplo.com</td><td>Praça da Sé</td><td>789</td><td>11</td><td>964925043</td></tr><tr><td>696</td><td>Mariana Rocha</td><td>cliente696@exemplo.com</td><td>Avenida Brasil</td><td>1213</td><td>11</td><td>919625204</td></tr><tr><td>697</td><td>Mariana Rocha</td><td>cliente697@exemplo.com</td><td>Praça da Sé</td><td>789</td><td>11</td><td>911321143</td></tr><tr><td>698</td><td>Pedro Santos</td><td>cliente698@exemplo.com</td><td>Rua das Palmeiras</td><td>1819</td><td>11</td><td>967297182</td></tr><tr><td>699</td><td>Lucas Fernandes</td><td>cliente699@exemplo.com</td><td>Praça da Sé</td><td>789</td><td>11</td><td>946642030</td></tr><tr><td>700</td><td>Fernanda Lima</td><td>cliente700@exemplo.com</td><td>Rua XV de Novembro</td><td>1415</td><td>11</td><td>950216372</td></tr><tr><td>701</td><td>Pedro Santos</td><td>cliente701@exemplo.com</td><td>Avenida Brasil</td><td>1213</td><td>11</td><td>940627558</td></tr><tr><td>702</td><td>Pedro Santos</td><td>cliente702@exemplo.com</td><td>Praça da Sé</td><td>789</td><td>11</td><td>972816900</td></tr><tr><td>703</td><td>Lucas Fernandes</td><td>cliente703@exemplo.com</td><td>Avenida Brasil</td><td>1213</td><td>11</td><td>953319627</td></tr><tr><td>704</td><td>Fernanda Lima</td><td>cliente704@exemplo.com</td><td>Avenida Brasil</td><td>1213</td><td>11</td><td>967378619</td></tr><tr><td>705</td><td>Pedro Santos</td><td>cliente705@exemplo.com</td><td>Rua da Consolação</td><td>2223</td><td>11</td><td>955528666</td></tr><tr><td>706</td><td>Maria Oliveira</td><td>cliente706@exemplo.com</td><td>Rua Augusta</td><td>1011</td><td>11</td><td>983467906</td></tr><tr><td>707</td><td>João Silva</td><td>cliente707@exemplo.com</td><td>Avenida Paulista</td><td>456</td><td>11</td><td>952897806</td></tr><tr><td>708</td><td>Fernanda Lima</td><td>cliente708@exemplo.com</td><td>Rua das Palmeiras</td><td>1819</td><td>11</td><td>935818901</td></tr><tr><td>709</td><td>Mariana Rocha</td><td>cliente709@exemplo.com</td><td>Avenida Brasil</td><td>1213</td><td>11</td><td>934395008</td></tr><tr><td>710</td><td>João Silva</td><td>cliente710@exemplo.com</td><td>Praça da Sé</td><td>789</td><td>11</td><td>967604168</td></tr><tr><td>711</td><td>Pedro Santos</td><td>cliente711@exemplo.com</td><td>Rua da Consolação</td><td>2223</td><td>11</td><td>924767516</td></tr><tr><td>712</td><td>Ana Souza</td><td>cliente712@exemplo.com</td><td>Rua Augusta</td><td>1011</td><td>11</td><td>959622719</td></tr><tr><td>713</td><td>Fernanda Lima</td><td>cliente713@exemplo.com</td><td>Avenida Paulista</td><td>456</td><td>11</td><td>977228935</td></tr><tr><td>714</td><td>Pedro Santos</td><td>cliente714@exemplo.com</td><td>Avenida Atlântica</td><td>1617</td><td>11</td><td>989984097</td></tr><tr><td>715</td><td>João Silva</td><td>cliente715@exemplo.com</td><td>Praça da Sé</td><td>789</td><td>11</td><td>997643197</td></tr><tr><td>716</td><td>Paulo Almeida</td><td>cliente716@exemplo.com</td><td>Avenida Paulista</td><td>456</td><td>11</td><td>946885307</td></tr><tr><td>717</td><td>Ana Souza</td><td>cliente717@exemplo.com</td><td>Avenida Paulista</td><td>456</td><td>11</td><td>977976412</td></tr><tr><td>718</td><td>Ana Souza</td><td>cliente718@exemplo.com</td><td>Praça da Sé</td><td>789</td><td>11</td><td>929802419</td></tr><tr><td>719</td><td>Lucas Fernandes</td><td>cliente719@exemplo.com</td><td>Rua das Palmeiras</td><td>1819</td><td>11</td><td>972453582</td></tr><tr><td>720</td><td>Pedro Santos</td><td>cliente720@exemplo.com</td><td>Avenida Ipiranga</td><td>2021</td><td>11</td><td>986791745</td></tr><tr><td>721</td><td>Fernanda Lima</td><td>cliente721@exemplo.com</td><td>Avenida Atlântica</td><td>1617</td><td>11</td><td>981741654</td></tr><tr><td>722</td><td>Paulo Almeida</td><td>cliente722@exemplo.com</td><td>Avenida Ipiranga</td><td>2021</td><td>11</td><td>993355928</td></tr><tr><td>723</td><td>João Silva</td><td>cliente723@exemplo.com</td><td>Avenida Brasil</td><td>1213</td><td>11</td><td>913154786</td></tr><tr><td>724</td><td>Maria Oliveira</td><td>cliente724@exemplo.com</td><td>Rua Augusta</td><td>1011</td><td>11</td><td>977562514</td></tr><tr><td>725</td><td>Ana Souza</td><td>cliente725@exemplo.com</td><td>Rua das Flores</td><td>123</td><td>11</td><td>968926594</td></tr><tr><td>726</td><td>Pedro Santos</td><td>cliente726@exemplo.com</td><td>Avenida Ipiranga</td><td>2021</td><td>11</td><td>953512518</td></tr><tr><td>727</td><td>João Silva</td><td>cliente727@exemplo.com</td><td>Avenida Atlântica</td><td>1617</td><td>11</td><td>932212274</td></tr><tr><td>728</td><td>Fernanda Lima</td><td>cliente728@exemplo.com</td><td>Rua XV de Novembro</td><td>1415</td><td>11</td><td>926914061</td></tr><tr><td>729</td><td>João Silva</td><td>cliente729@exemplo.com</td><td>Avenida Paulista</td><td>456</td><td>11</td><td>976395555</td></tr><tr><td>730</td><td>Maria Oliveira</td><td>cliente730@exemplo.com</td><td>Rua das Palmeiras</td><td>1819</td><td>11</td><td>999764260</td></tr><tr><td>731</td><td>Mariana Rocha</td><td>cliente731@exemplo.com</td><td>Avenida Brasil</td><td>1213</td><td>11</td><td>918795481</td></tr><tr><td>732</td><td>Ana Souza</td><td>cliente732@exemplo.com</td><td>Praça da Sé</td><td>789</td><td>11</td><td>994916606</td></tr><tr><td>733</td><td>Mariana Rocha</td><td>cliente733@exemplo.com</td><td>Rua XV de Novembro</td><td>1415</td><td>11</td><td>951155778</td></tr><tr><td>734</td><td>Paulo Almeida</td><td>cliente734@exemplo.com</td><td>Rua da Consolação</td><td>2223</td><td>11</td><td>916127769</td></tr><tr><td>735</td><td>Fernanda Lima</td><td>cliente735@exemplo.com</td><td>Avenida Atlântica</td><td>1617</td><td>11</td><td>920368264</td></tr><tr><td>736</td><td>Pedro Santos</td><td>cliente736@exemplo.com</td><td>Avenida Atlântica</td><td>1617</td><td>11</td><td>985125796</td></tr><tr><td>737</td><td>Ana Souza</td><td>cliente737@exemplo.com</td><td>Rua Augusta</td><td>1011</td><td>11</td><td>942353833</td></tr><tr><td>738</td><td>Fernanda Lima</td><td>cliente738@exemplo.com</td><td>Avenida Paulista</td><td>456</td><td>11</td><td>948403217</td></tr><tr><td>739</td><td>Lucas Fernandes</td><td>cliente739@exemplo.com</td><td>Avenida Ipiranga</td><td>2021</td><td>11</td><td>910909677</td></tr><tr><td>740</td><td>Ana Souza</td><td>cliente740@exemplo.com</td><td>Rua das Palmeiras</td><td>1819</td><td>11</td><td>990594305</td></tr><tr><td>741</td><td>Carlos Pereira</td><td>cliente741@exemplo.com</td><td>Rua das Palmeiras</td><td>1819</td><td>11</td><td>921911441</td></tr><tr><td>742</td><td>Carlos Pereira</td><td>cliente742@exemplo.com</td><td>Avenida Brasil</td><td>1213</td><td>11</td><td>964995188</td></tr><tr><td>743</td><td>Ana Souza</td><td>cliente743@exemplo.com</td><td>Avenida Paulista</td><td>456</td><td>11</td><td>911097226</td></tr><tr><td>744</td><td>João Silva</td><td>cliente744@exemplo.com</td><td>Avenida Paulista</td><td>456</td><td>11</td><td>951476754</td></tr><tr><td>745</td><td>Ana Souza</td><td>cliente745@exemplo.com</td><td>Praça da Sé</td><td>789</td><td>11</td><td>958297237</td></tr><tr><td>746</td><td>Mariana Rocha</td><td>cliente746@exemplo.com</td><td>Avenida Brasil</td><td>1213</td><td>11</td><td>992824748</td></tr><tr><td>747</td><td>Maria Oliveira</td><td>cliente747@exemplo.com</td><td>Rua das Flores</td><td>123</td><td>11</td><td>952718784</td></tr><tr><td>748</td><td>João Silva</td><td>cliente748@exemplo.com</td><td>Avenida Atlântica</td><td>1617</td><td>11</td><td>951413782</td></tr><tr><td>749</td><td>Mariana Rocha</td><td>cliente749@exemplo.com</td><td>Avenida Paulista</td><td>456</td><td>11</td><td>912589899</td></tr><tr><td>750</td><td>Maria Oliveira</td><td>cliente750@exemplo.com</td><td>Avenida Brasil</td><td>1213</td><td>11</td><td>958581414</td></tr><tr><td>751</td><td>Carlos Pereira</td><td>cliente751@exemplo.com</td><td>Avenida Brasil</td><td>1213</td><td>11</td><td>950563047</td></tr><tr><td>752</td><td>João Silva</td><td>cliente752@exemplo.com</td><td>Rua das Palmeiras</td><td>1819</td><td>11</td><td>925608553</td></tr><tr><td>753</td><td>Lucas Fernandes</td><td>cliente753@exemplo.com</td><td>Avenida Paulista</td><td>456</td><td>11</td><td>973681721</td></tr><tr><td>754</td><td>Carlos Pereira</td><td>cliente754@exemplo.com</td><td>Praça da Sé</td><td>789</td><td>11</td><td>978475498</td></tr><tr><td>755</td><td>Maria Oliveira</td><td>cliente755@exemplo.com</td><td>Rua das Flores</td><td>123</td><td>11</td><td>940748897</td></tr><tr><td>756</td><td>Carlos Pereira</td><td>cliente756@exemplo.com</td><td>Avenida Paulista</td><td>456</td><td>11</td><td>936154863</td></tr><tr><td>757</td><td>João Silva</td><td>cliente757@exemplo.com</td><td>Rua das Flores</td><td>123</td><td>11</td><td>983656758</td></tr><tr><td>758</td><td>Juliana Costa</td><td>cliente758@exemplo.com</td><td>Avenida Ipiranga</td><td>2021</td><td>11</td><td>990177525</td></tr><tr><td>759</td><td>Mariana Rocha</td><td>cliente759@exemplo.com</td><td>Rua das Flores</td><td>123</td><td>11</td><td>968989682</td></tr><tr><td>760</td><td>João Silva</td><td>cliente760@exemplo.com</td><td>Praça da Sé</td><td>789</td><td>11</td><td>919029024</td></tr><tr><td>761</td><td>Lucas Fernandes</td><td>cliente761@exemplo.com</td><td>Rua das Palmeiras</td><td>1819</td><td>11</td><td>969505229</td></tr><tr><td>762</td><td>Lucas Fernandes</td><td>cliente762@exemplo.com</td><td>Rua da Consolação</td><td>2223</td><td>11</td><td>944762318</td></tr><tr><td>763</td><td>Mariana Rocha</td><td>cliente763@exemplo.com</td><td>Rua Augusta</td><td>1011</td><td>11</td><td>942426788</td></tr><tr><td>764</td><td>Fernanda Lima</td><td>cliente764@exemplo.com</td><td>Rua XV de Novembro</td><td>1415</td><td>11</td><td>955861768</td></tr><tr><td>765</td><td>Fernanda Lima</td><td>cliente765@exemplo.com</td><td>Rua XV de Novembro</td><td>1415</td><td>11</td><td>969235690</td></tr><tr><td>766</td><td>Juliana Costa</td><td>cliente766@exemplo.com</td><td>Rua das Flores</td><td>123</td><td>11</td><td>923328956</td></tr><tr><td>767</td><td>Ana Souza</td><td>cliente767@exemplo.com</td><td>Praça da Sé</td><td>789</td><td>11</td><td>932551764</td></tr><tr><td>768</td><td>Pedro Santos</td><td>cliente768@exemplo.com</td><td>Rua da Consolação</td><td>2223</td><td>11</td><td>947638790</td></tr><tr><td>769</td><td>Paulo Almeida</td><td>cliente769@exemplo.com</td><td>Avenida Brasil</td><td>1213</td><td>11</td><td>991472037</td></tr><tr><td>770</td><td>Paulo Almeida</td><td>cliente770@exemplo.com</td><td>Rua XV de Novembro</td><td>1415</td><td>11</td><td>983975376</td></tr><tr><td>771</td><td>Fernanda Lima</td><td>cliente771@exemplo.com</td><td>Avenida Paulista</td><td>456</td><td>11</td><td>998365987</td></tr><tr><td>772</td><td>Mariana Rocha</td><td>cliente772@exemplo.com</td><td>Rua da Consolação</td><td>2223</td><td>11</td><td>914571888</td></tr><tr><td>773</td><td>Pedro Santos</td><td>cliente773@exemplo.com</td><td>Avenida Paulista</td><td>456</td><td>11</td><td>995113678</td></tr><tr><td>774</td><td>Maria Oliveira</td><td>cliente774@exemplo.com</td><td>Avenida Ipiranga</td><td>2021</td><td>11</td><td>922688804</td></tr><tr><td>775</td><td>João Silva</td><td>cliente775@exemplo.com</td><td>Avenida Ipiranga</td><td>2021</td><td>11</td><td>915728930</td></tr><tr><td>776</td><td>Lucas Fernandes</td><td>cliente776@exemplo.com</td><td>Praça da Sé</td><td>789</td><td>11</td><td>923111291</td></tr><tr><td>777</td><td>Carlos Pereira</td><td>cliente777@exemplo.com</td><td>Avenida Ipiranga</td><td>2021</td><td>11</td><td>924292344</td></tr><tr><td>778</td><td>Paulo Almeida</td><td>cliente778@exemplo.com</td><td>Rua das Flores</td><td>123</td><td>11</td><td>984003478</td></tr><tr><td>779</td><td>Lucas Fernandes</td><td>cliente779@exemplo.com</td><td>Rua XV de Novembro</td><td>1415</td><td>11</td><td>923815854</td></tr><tr><td>780</td><td>Carlos Pereira</td><td>cliente780@exemplo.com</td><td>Rua XV de Novembro</td><td>1415</td><td>11</td><td>948183018</td></tr><tr><td>781</td><td>João Silva</td><td>cliente781@exemplo.com</td><td>Avenida Paulista</td><td>456</td><td>11</td><td>921192552</td></tr><tr><td>782</td><td>Carlos Pereira</td><td>cliente782@exemplo.com</td><td>Avenida Brasil</td><td>1213</td><td>11</td><td>945305171</td></tr><tr><td>783</td><td>João Silva</td><td>cliente783@exemplo.com</td><td>Rua das Flores</td><td>123</td><td>11</td><td>944972992</td></tr><tr><td>784</td><td>Maria Oliveira</td><td>cliente784@exemplo.com</td><td>Rua Augusta</td><td>1011</td><td>11</td><td>912617038</td></tr><tr><td>785</td><td>Lucas Fernandes</td><td>cliente785@exemplo.com</td><td>Rua Augusta</td><td>1011</td><td>11</td><td>924866909</td></tr><tr><td>786</td><td>Lucas Fernandes</td><td>cliente786@exemplo.com</td><td>Rua das Palmeiras</td><td>1819</td><td>11</td><td>936361945</td></tr><tr><td>787</td><td>Pedro Santos</td><td>cliente787@exemplo.com</td><td>Rua das Flores</td><td>123</td><td>11</td><td>980439060</td></tr><tr><td>788</td><td>Ana Souza</td><td>cliente788@exemplo.com</td><td>Praça da Sé</td><td>789</td><td>11</td><td>941652003</td></tr><tr><td>789</td><td>João Silva</td><td>cliente789@exemplo.com</td><td>Rua da Consolação</td><td>2223</td><td>11</td><td>989036997</td></tr><tr><td>790</td><td>Ana Souza</td><td>cliente790@exemplo.com</td><td>Rua da Consolação</td><td>2223</td><td>11</td><td>921111811</td></tr><tr><td>791</td><td>Ana Souza</td><td>cliente791@exemplo.com</td><td>Rua Augusta</td><td>1011</td><td>11</td><td>975187999</td></tr><tr><td>792</td><td>Lucas Fernandes</td><td>cliente792@exemplo.com</td><td>Rua Augusta</td><td>1011</td><td>11</td><td>933028711</td></tr><tr><td>793</td><td>Fernanda Lima</td><td>cliente793@exemplo.com</td><td>Avenida Brasil</td><td>1213</td><td>11</td><td>939079987</td></tr><tr><td>794</td><td>João Silva</td><td>cliente794@exemplo.com</td><td>Avenida Paulista</td><td>456</td><td>11</td><td>953441135</td></tr><tr><td>795</td><td>Lucas Fernandes</td><td>cliente795@exemplo.com</td><td>Rua das Palmeiras</td><td>1819</td><td>11</td><td>978544197</td></tr><tr><td>796</td><td>Maria Oliveira</td><td>cliente796@exemplo.com</td><td>Rua das Flores</td><td>123</td><td>11</td><td>936424578</td></tr><tr><td>797</td><td>Carlos Pereira</td><td>cliente797@exemplo.com</td><td>Rua das Flores</td><td>123</td><td>11</td><td>927348476</td></tr><tr><td>798</td><td>Juliana Costa</td><td>cliente798@exemplo.com</td><td>Rua das Palmeiras</td><td>1819</td><td>11</td><td>917788650</td></tr><tr><td>799</td><td>Lucas Fernandes</td><td>cliente799@exemplo.com</td><td>Rua Augusta</td><td>1011</td><td>11</td><td>985417012</td></tr><tr><td>800</td><td>Pedro Santos</td><td>cliente800@exemplo.com</td><td>Rua XV de Novembro</td><td>1415</td><td>11</td><td>958479142</td></tr><tr><td>801</td><td>Mariana Rocha</td><td>cliente801@exemplo.com</td><td>Rua da Consolação</td><td>2223</td><td>11</td><td>971288883</td></tr><tr><td>802</td><td>Juliana Costa</td><td>cliente802@exemplo.com</td><td>Rua das Flores</td><td>123</td><td>11</td><td>964194518</td></tr><tr><td>803</td><td>Ana Souza</td><td>cliente803@exemplo.com</td><td>Praça da Sé</td><td>789</td><td>11</td><td>928754612</td></tr><tr><td>804</td><td>Carlos Pereira</td><td>cliente804@exemplo.com</td><td>Rua das Flores</td><td>123</td><td>11</td><td>985668677</td></tr><tr><td>805</td><td>Fernanda Lima</td><td>cliente805@exemplo.com</td><td>Rua da Consolação</td><td>2223</td><td>11</td><td>911832776</td></tr><tr><td>806</td><td>Maria Oliveira</td><td>cliente806@exemplo.com</td><td>Avenida Ipiranga</td><td>2021</td><td>11</td><td>922466584</td></tr><tr><td>807</td><td>Lucas Fernandes</td><td>cliente807@exemplo.com</td><td>Rua da Consolação</td><td>2223</td><td>11</td><td>911726655</td></tr><tr><td>808</td><td>Pedro Santos</td><td>cliente808@exemplo.com</td><td>Avenida Atlântica</td><td>1617</td><td>11</td><td>952666342</td></tr><tr><td>809</td><td>Lucas Fernandes</td><td>cliente809@exemplo.com</td><td>Avenida Brasil</td><td>1213</td><td>11</td><td>971881989</td></tr><tr><td>810</td><td>Mariana Rocha</td><td>cliente810@exemplo.com</td><td>Rua Augusta</td><td>1011</td><td>11</td><td>922539005</td></tr><tr><td>811</td><td>João Silva</td><td>cliente811@exemplo.com</td><td>Rua da Consolação</td><td>2223</td><td>11</td><td>980166015</td></tr><tr><td>812</td><td>Carlos Pereira</td><td>cliente812@exemplo.com</td><td>Avenida Brasil</td><td>1213</td><td>11</td><td>948788262</td></tr><tr><td>813</td><td>Ana Souza</td><td>cliente813@exemplo.com</td><td>Avenida Brasil</td><td>1213</td><td>11</td><td>994826241</td></tr><tr><td>814</td><td>João Silva</td><td>cliente814@exemplo.com</td><td>Praça da Sé</td><td>789</td><td>11</td><td>929138807</td></tr><tr><td>815</td><td>Ana Souza</td><td>cliente815@exemplo.com</td><td>Avenida Ipiranga</td><td>2021</td><td>11</td><td>922251063</td></tr><tr><td>816</td><td>Ana Souza</td><td>cliente816@exemplo.com</td><td>Praça da Sé</td><td>789</td><td>11</td><td>953392614</td></tr><tr><td>817</td><td>Mariana Rocha</td><td>cliente817@exemplo.com</td><td>Rua Augusta</td><td>1011</td><td>11</td><td>957411319</td></tr><tr><td>818</td><td>Ana Souza</td><td>cliente818@exemplo.com</td><td>Rua das Flores</td><td>123</td><td>11</td><td>966626531</td></tr><tr><td>819</td><td>Carlos Pereira</td><td>cliente819@exemplo.com</td><td>Avenida Atlântica</td><td>1617</td><td>11</td><td>974107750</td></tr><tr><td>820</td><td>Lucas Fernandes</td><td>cliente820@exemplo.com</td><td>Avenida Ipiranga</td><td>2021</td><td>11</td><td>942474187</td></tr><tr><td>821</td><td>João Silva</td><td>cliente821@exemplo.com</td><td>Rua das Flores</td><td>123</td><td>11</td><td>919897230</td></tr><tr><td>822</td><td>Maria Oliveira</td><td>cliente822@exemplo.com</td><td>Avenida Brasil</td><td>1213</td><td>11</td><td>944719317</td></tr><tr><td>823</td><td>Maria Oliveira</td><td>cliente823@exemplo.com</td><td>Rua das Palmeiras</td><td>1819</td><td>11</td><td>949481491</td></tr><tr><td>824</td><td>Fernanda Lima</td><td>cliente824@exemplo.com</td><td>Rua das Flores</td><td>123</td><td>11</td><td>914667862</td></tr><tr><td>825</td><td>Mariana Rocha</td><td>cliente825@exemplo.com</td><td>Praça da Sé</td><td>789</td><td>11</td><td>991423631</td></tr><tr><td>826</td><td>João Silva</td><td>cliente826@exemplo.com</td><td>Avenida Atlântica</td><td>1617</td><td>11</td><td>977358575</td></tr><tr><td>827</td><td>Fernanda Lima</td><td>cliente827@exemplo.com</td><td>Rua Augusta</td><td>1011</td><td>11</td><td>929638061</td></tr><tr><td>828</td><td>Fernanda Lima</td><td>cliente828@exemplo.com</td><td>Avenida Atlântica</td><td>1617</td><td>11</td><td>998959291</td></tr><tr><td>829</td><td>Carlos Pereira</td><td>cliente829@exemplo.com</td><td>Rua XV de Novembro</td><td>1415</td><td>11</td><td>918027646</td></tr><tr><td>830</td><td>Maria Oliveira</td><td>cliente830@exemplo.com</td><td>Avenida Brasil</td><td>1213</td><td>11</td><td>986665155</td></tr><tr><td>831</td><td>Mariana Rocha</td><td>cliente831@exemplo.com</td><td>Rua da Consolação</td><td>2223</td><td>11</td><td>919201024</td></tr><tr><td>832</td><td>Carlos Pereira</td><td>cliente832@exemplo.com</td><td>Rua XV de Novembro</td><td>1415</td><td>11</td><td>932176913</td></tr><tr><td>833</td><td>Mariana Rocha</td><td>cliente833@exemplo.com</td><td>Avenida Paulista</td><td>456</td><td>11</td><td>921593036</td></tr><tr><td>834</td><td>Lucas Fernandes</td><td>cliente834@exemplo.com</td><td>Rua das Palmeiras</td><td>1819</td><td>11</td><td>964159829</td></tr><tr><td>835</td><td>Pedro Santos</td><td>cliente835@exemplo.com</td><td>Praça da Sé</td><td>789</td><td>11</td><td>966209983</td></tr><tr><td>836</td><td>Lucas Fernandes</td><td>cliente836@exemplo.com</td><td>Rua Augusta</td><td>1011</td><td>11</td><td>943952916</td></tr><tr><td>837</td><td>João Silva</td><td>cliente837@exemplo.com</td><td>Rua XV de Novembro</td><td>1415</td><td>11</td><td>950135858</td></tr><tr><td>838</td><td>Lucas Fernandes</td><td>cliente838@exemplo.com</td><td>Avenida Paulista</td><td>456</td><td>11</td><td>963342990</td></tr><tr><td>839</td><td>Fernanda Lima</td><td>cliente839@exemplo.com</td><td>Praça da Sé</td><td>789</td><td>11</td><td>923127233</td></tr><tr><td>840</td><td>Ana Souza</td><td>cliente840@exemplo.com</td><td>Rua da Consolação</td><td>2223</td><td>11</td><td>923455206</td></tr><tr><td>841</td><td>Ana Souza</td><td>cliente841@exemplo.com</td><td>Rua da Consolação</td><td>2223</td><td>11</td><td>933902935</td></tr><tr><td>842</td><td>Pedro Santos</td><td>cliente842@exemplo.com</td><td>Avenida Paulista</td><td>456</td><td>11</td><td>949339318</td></tr><tr><td>843</td><td>Mariana Rocha</td><td>cliente843@exemplo.com</td><td>Avenida Paulista</td><td>456</td><td>11</td><td>978604307</td></tr><tr><td>844</td><td>Maria Oliveira</td><td>cliente844@exemplo.com</td><td>Rua Augusta</td><td>1011</td><td>11</td><td>973419832</td></tr><tr><td>845</td><td>Paulo Almeida</td><td>cliente845@exemplo.com</td><td>Rua das Flores</td><td>123</td><td>11</td><td>978263496</td></tr><tr><td>846</td><td>Mariana Rocha</td><td>cliente846@exemplo.com</td><td>Praça da Sé</td><td>789</td><td>11</td><td>997209478</td></tr><tr><td>847</td><td>Juliana Costa</td><td>cliente847@exemplo.com</td><td>Rua Augusta</td><td>1011</td><td>11</td><td>924869506</td></tr><tr><td>848</td><td>João Silva</td><td>cliente848@exemplo.com</td><td>Avenida Ipiranga</td><td>2021</td><td>11</td><td>915881910</td></tr><tr><td>849</td><td>Mariana Rocha</td><td>cliente849@exemplo.com</td><td>Rua da Consolação</td><td>2223</td><td>11</td><td>950212212</td></tr><tr><td>850</td><td>Fernanda Lima</td><td>cliente850@exemplo.com</td><td>Rua Augusta</td><td>1011</td><td>11</td><td>942238203</td></tr><tr><td>851</td><td>Mariana Rocha</td><td>cliente851@exemplo.com</td><td>Avenida Brasil</td><td>1213</td><td>11</td><td>919876418</td></tr><tr><td>852</td><td>João Silva</td><td>cliente852@exemplo.com</td><td>Rua das Flores</td><td>123</td><td>11</td><td>965683535</td></tr><tr><td>853</td><td>Mariana Rocha</td><td>cliente853@exemplo.com</td><td>Rua XV de Novembro</td><td>1415</td><td>11</td><td>960148521</td></tr><tr><td>854</td><td>Maria Oliveira</td><td>cliente854@exemplo.com</td><td>Avenida Ipiranga</td><td>2021</td><td>11</td><td>993952841</td></tr><tr><td>855</td><td>Juliana Costa</td><td>cliente855@exemplo.com</td><td>Avenida Ipiranga</td><td>2021</td><td>11</td><td>967445522</td></tr><tr><td>856</td><td>Paulo Almeida</td><td>cliente856@exemplo.com</td><td>Avenida Brasil</td><td>1213</td><td>11</td><td>916606649</td></tr><tr><td>857</td><td>Carlos Pereira</td><td>cliente857@exemplo.com</td><td>Avenida Ipiranga</td><td>2021</td><td>11</td><td>920075735</td></tr><tr><td>858</td><td>Carlos Pereira</td><td>cliente858@exemplo.com</td><td>Praça da Sé</td><td>789</td><td>11</td><td>986989375</td></tr><tr><td>859</td><td>Lucas Fernandes</td><td>cliente859@exemplo.com</td><td>Praça da Sé</td><td>789</td><td>11</td><td>972444196</td></tr><tr><td>860</td><td>Maria Oliveira</td><td>cliente860@exemplo.com</td><td>Avenida Ipiranga</td><td>2021</td><td>11</td><td>977372611</td></tr><tr><td>861</td><td>Lucas Fernandes</td><td>cliente861@exemplo.com</td><td>Rua XV de Novembro</td><td>1415</td><td>11</td><td>916491818</td></tr><tr><td>862</td><td>Pedro Santos</td><td>cliente862@exemplo.com</td><td>Rua XV de Novembro</td><td>1415</td><td>11</td><td>921514438</td></tr><tr><td>863</td><td>Pedro Santos</td><td>cliente863@exemplo.com</td><td>Praça da Sé</td><td>789</td><td>11</td><td>987266495</td></tr><tr><td>864</td><td>Pedro Santos</td><td>cliente864@exemplo.com</td><td>Rua das Palmeiras</td><td>1819</td><td>11</td><td>969725296</td></tr><tr><td>865</td><td>Paulo Almeida</td><td>cliente865@exemplo.com</td><td>Avenida Paulista</td><td>456</td><td>11</td><td>992699297</td></tr><tr><td>866</td><td>Ana Souza</td><td>cliente866@exemplo.com</td><td>Rua da Consolação</td><td>2223</td><td>11</td><td>912285028</td></tr><tr><td>867</td><td>Ana Souza</td><td>cliente867@exemplo.com</td><td>Avenida Ipiranga</td><td>2021</td><td>11</td><td>934797164</td></tr><tr><td>868</td><td>Juliana Costa</td><td>cliente868@exemplo.com</td><td>Avenida Brasil</td><td>1213</td><td>11</td><td>930479241</td></tr><tr><td>869</td><td>Maria Oliveira</td><td>cliente869@exemplo.com</td><td>Avenida Ipiranga</td><td>2021</td><td>11</td><td>933982343</td></tr><tr><td>870</td><td>Fernanda Lima</td><td>cliente870@exemplo.com</td><td>Rua das Flores</td><td>123</td><td>11</td><td>923752272</td></tr><tr><td>871</td><td>Paulo Almeida</td><td>cliente871@exemplo.com</td><td>Rua das Flores</td><td>123</td><td>11</td><td>986007786</td></tr><tr><td>872</td><td>Paulo Almeida</td><td>cliente872@exemplo.com</td><td>Rua das Flores</td><td>123</td><td>11</td><td>945729612</td></tr><tr><td>873</td><td>Lucas Fernandes</td><td>cliente873@exemplo.com</td><td>Avenida Atlântica</td><td>1617</td><td>11</td><td>911393210</td></tr><tr><td>874</td><td>Paulo Almeida</td><td>cliente874@exemplo.com</td><td>Rua XV de Novembro</td><td>1415</td><td>11</td><td>938812738</td></tr><tr><td>875</td><td>Lucas Fernandes</td><td>cliente875@exemplo.com</td><td>Avenida Brasil</td><td>1213</td><td>11</td><td>932968457</td></tr><tr><td>876</td><td>Lucas Fernandes</td><td>cliente876@exemplo.com</td><td>Rua das Palmeiras</td><td>1819</td><td>11</td><td>910325392</td></tr><tr><td>877</td><td>Pedro Santos</td><td>cliente877@exemplo.com</td><td>Rua das Palmeiras</td><td>1819</td><td>11</td><td>952292343</td></tr><tr><td>878</td><td>Mariana Rocha</td><td>cliente878@exemplo.com</td><td>Avenida Ipiranga</td><td>2021</td><td>11</td><td>991381867</td></tr><tr><td>879</td><td>Mariana Rocha</td><td>cliente879@exemplo.com</td><td>Rua das Palmeiras</td><td>1819</td><td>11</td><td>945795774</td></tr><tr><td>880</td><td>Mariana Rocha</td><td>cliente880@exemplo.com</td><td>Avenida Brasil</td><td>1213</td><td>11</td><td>979742713</td></tr><tr><td>881</td><td>Juliana Costa</td><td>cliente881@exemplo.com</td><td>Rua XV de Novembro</td><td>1415</td><td>11</td><td>945799428</td></tr><tr><td>882</td><td>Carlos Pereira</td><td>cliente882@exemplo.com</td><td>Rua Augusta</td><td>1011</td><td>11</td><td>911882533</td></tr><tr><td>883</td><td>João Silva</td><td>cliente883@exemplo.com</td><td>Rua das Palmeiras</td><td>1819</td><td>11</td><td>940851946</td></tr><tr><td>884</td><td>Carlos Pereira</td><td>cliente884@exemplo.com</td><td>Rua XV de Novembro</td><td>1415</td><td>11</td><td>916326709</td></tr><tr><td>885</td><td>Carlos Pereira</td><td>cliente885@exemplo.com</td><td>Rua das Palmeiras</td><td>1819</td><td>11</td><td>926646921</td></tr><tr><td>886</td><td>Fernanda Lima</td><td>cliente886@exemplo.com</td><td>Rua Augusta</td><td>1011</td><td>11</td><td>998712704</td></tr><tr><td>887</td><td>Fernanda Lima</td><td>cliente887@exemplo.com</td><td>Rua XV de Novembro</td><td>1415</td><td>11</td><td>941595880</td></tr><tr><td>888</td><td>Paulo Almeida</td><td>cliente888@exemplo.com</td><td>Avenida Ipiranga</td><td>2021</td><td>11</td><td>938672973</td></tr><tr><td>889</td><td>Paulo Almeida</td><td>cliente889@exemplo.com</td><td>Rua XV de Novembro</td><td>1415</td><td>11</td><td>953556769</td></tr><tr><td>890</td><td>Paulo Almeida</td><td>cliente890@exemplo.com</td><td>Rua Augusta</td><td>1011</td><td>11</td><td>991556604</td></tr><tr><td>891</td><td>Maria Oliveira</td><td>cliente891@exemplo.com</td><td>Rua das Flores</td><td>123</td><td>11</td><td>952397906</td></tr><tr><td>892</td><td>Maria Oliveira</td><td>cliente892@exemplo.com</td><td>Praça da Sé</td><td>789</td><td>11</td><td>943262372</td></tr><tr><td>893</td><td>Carlos Pereira</td><td>cliente893@exemplo.com</td><td>Avenida Paulista</td><td>456</td><td>11</td><td>978438036</td></tr><tr><td>894</td><td>Maria Oliveira</td><td>cliente894@exemplo.com</td><td>Rua Augusta</td><td>1011</td><td>11</td><td>949427973</td></tr><tr><td>895</td><td>Maria Oliveira</td><td>cliente895@exemplo.com</td><td>Rua XV de Novembro</td><td>1415</td><td>11</td><td>912321348</td></tr><tr><td>896</td><td>João Silva</td><td>cliente896@exemplo.com</td><td>Rua das Flores</td><td>123</td><td>11</td><td>995856825</td></tr><tr><td>897</td><td>Paulo Almeida</td><td>cliente897@exemplo.com</td><td>Avenida Atlântica</td><td>1617</td><td>11</td><td>937322069</td></tr><tr><td>898</td><td>Paulo Almeida</td><td>cliente898@exemplo.com</td><td>Praça da Sé</td><td>789</td><td>11</td><td>924844879</td></tr><tr><td>899</td><td>Lucas Fernandes</td><td>cliente899@exemplo.com</td><td>Rua Augusta</td><td>1011</td><td>11</td><td>984581552</td></tr><tr><td>900</td><td>João Silva</td><td>cliente900@exemplo.com</td><td>Avenida Brasil</td><td>1213</td><td>11</td><td>981738813</td></tr><tr><td>901</td><td>Carlos Pereira</td><td>cliente901@exemplo.com</td><td>Rua da Consolação</td><td>2223</td><td>11</td><td>986191781</td></tr><tr><td>902</td><td>Fernanda Lima</td><td>cliente902@exemplo.com</td><td>Avenida Ipiranga</td><td>2021</td><td>11</td><td>952133170</td></tr><tr><td>903</td><td>Lucas Fernandes</td><td>cliente903@exemplo.com</td><td>Avenida Atlântica</td><td>1617</td><td>11</td><td>985671691</td></tr><tr><td>904</td><td>Ana Souza</td><td>cliente904@exemplo.com</td><td>Avenida Ipiranga</td><td>2021</td><td>11</td><td>939824104</td></tr><tr><td>905</td><td>Maria Oliveira</td><td>cliente905@exemplo.com</td><td>Rua das Palmeiras</td><td>1819</td><td>11</td><td>956175436</td></tr><tr><td>906</td><td>Maria Oliveira</td><td>cliente906@exemplo.com</td><td>Rua Augusta</td><td>1011</td><td>11</td><td>975291194</td></tr><tr><td>907</td><td>Pedro Santos</td><td>cliente907@exemplo.com</td><td>Rua XV de Novembro</td><td>1415</td><td>11</td><td>977881868</td></tr><tr><td>908</td><td>Fernanda Lima</td><td>cliente908@exemplo.com</td><td>Rua das Palmeiras</td><td>1819</td><td>11</td><td>976152350</td></tr><tr><td>909</td><td>Mariana Rocha</td><td>cliente909@exemplo.com</td><td>Rua XV de Novembro</td><td>1415</td><td>11</td><td>916757171</td></tr><tr><td>910</td><td>Carlos Pereira</td><td>cliente910@exemplo.com</td><td>Rua das Palmeiras</td><td>1819</td><td>11</td><td>914612351</td></tr><tr><td>911</td><td>Pedro Santos</td><td>cliente911@exemplo.com</td><td>Praça da Sé</td><td>789</td><td>11</td><td>941617801</td></tr><tr><td>912</td><td>Juliana Costa</td><td>cliente912@exemplo.com</td><td>Rua das Flores</td><td>123</td><td>11</td><td>992965671</td></tr><tr><td>913</td><td>Juliana Costa</td><td>cliente913@exemplo.com</td><td>Rua das Flores</td><td>123</td><td>11</td><td>938875222</td></tr><tr><td>914</td><td>Paulo Almeida</td><td>cliente914@exemplo.com</td><td>Rua das Flores</td><td>123</td><td>11</td><td>963951950</td></tr><tr><td>915</td><td>Carlos Pereira</td><td>cliente915@exemplo.com</td><td>Rua XV de Novembro</td><td>1415</td><td>11</td><td>916668198</td></tr><tr><td>916</td><td>Juliana Costa</td><td>cliente916@exemplo.com</td><td>Avenida Paulista</td><td>456</td><td>11</td><td>952982642</td></tr><tr><td>917</td><td>Carlos Pereira</td><td>cliente917@exemplo.com</td><td>Rua da Consolação</td><td>2223</td><td>11</td><td>936565589</td></tr><tr><td>918</td><td>Ana Souza</td><td>cliente918@exemplo.com</td><td>Rua XV de Novembro</td><td>1415</td><td>11</td><td>964505874</td></tr><tr><td>919</td><td>Lucas Fernandes</td><td>cliente919@exemplo.com</td><td>Rua das Palmeiras</td><td>1819</td><td>11</td><td>962526385</td></tr><tr><td>920</td><td>Pedro Santos</td><td>cliente920@exemplo.com</td><td>Praça da Sé</td><td>789</td><td>11</td><td>914862737</td></tr><tr><td>921</td><td>Carlos Pereira</td><td>cliente921@exemplo.com</td><td>Avenida Ipiranga</td><td>2021</td><td>11</td><td>932149822</td></tr><tr><td>922</td><td>Lucas Fernandes</td><td>cliente922@exemplo.com</td><td>Avenida Brasil</td><td>1213</td><td>11</td><td>972642332</td></tr><tr><td>923</td><td>Ana Souza</td><td>cliente923@exemplo.com</td><td>Rua Augusta</td><td>1011</td><td>11</td><td>964914106</td></tr><tr><td>924</td><td>Carlos Pereira</td><td>cliente924@exemplo.com</td><td>Avenida Ipiranga</td><td>2021</td><td>11</td><td>910914659</td></tr><tr><td>925</td><td>João Silva</td><td>cliente925@exemplo.com</td><td>Rua da Consolação</td><td>2223</td><td>11</td><td>965209525</td></tr><tr><td>926</td><td>João Silva</td><td>cliente926@exemplo.com</td><td>Rua das Flores</td><td>123</td><td>11</td><td>931209602</td></tr><tr><td>927</td><td>Juliana Costa</td><td>cliente927@exemplo.com</td><td>Avenida Ipiranga</td><td>2021</td><td>11</td><td>935177284</td></tr><tr><td>928</td><td>Juliana Costa</td><td>cliente928@exemplo.com</td><td>Avenida Paulista</td><td>456</td><td>11</td><td>910113729</td></tr><tr><td>929</td><td>Carlos Pereira</td><td>cliente929@exemplo.com</td><td>Rua das Palmeiras</td><td>1819</td><td>11</td><td>940257097</td></tr><tr><td>930</td><td>Juliana Costa</td><td>cliente930@exemplo.com</td><td>Rua das Flores</td><td>123</td><td>11</td><td>927595255</td></tr><tr><td>931</td><td>Juliana Costa</td><td>cliente931@exemplo.com</td><td>Rua das Palmeiras</td><td>1819</td><td>11</td><td>920903956</td></tr><tr><td>932</td><td>Fernanda Lima</td><td>cliente932@exemplo.com</td><td>Rua da Consolação</td><td>2223</td><td>11</td><td>935551091</td></tr><tr><td>933</td><td>Maria Oliveira</td><td>cliente933@exemplo.com</td><td>Rua XV de Novembro</td><td>1415</td><td>11</td><td>927566917</td></tr><tr><td>934</td><td>Ana Souza</td><td>cliente934@exemplo.com</td><td>Rua da Consolação</td><td>2223</td><td>11</td><td>944691999</td></tr><tr><td>935</td><td>João Silva</td><td>cliente935@exemplo.com</td><td>Rua da Consolação</td><td>2223</td><td>11</td><td>971251602</td></tr><tr><td>936</td><td>Pedro Santos</td><td>cliente936@exemplo.com</td><td>Avenida Brasil</td><td>1213</td><td>11</td><td>937947444</td></tr><tr><td>937</td><td>Maria Oliveira</td><td>cliente937@exemplo.com</td><td>Rua das Palmeiras</td><td>1819</td><td>11</td><td>968136639</td></tr><tr><td>938</td><td>Fernanda Lima</td><td>cliente938@exemplo.com</td><td>Rua Augusta</td><td>1011</td><td>11</td><td>973983367</td></tr><tr><td>939</td><td>João Silva</td><td>cliente939@exemplo.com</td><td>Avenida Brasil</td><td>1213</td><td>11</td><td>956456161</td></tr><tr><td>940</td><td>Pedro Santos</td><td>cliente940@exemplo.com</td><td>Rua das Flores</td><td>123</td><td>11</td><td>956835771</td></tr><tr><td>941</td><td>Ana Souza</td><td>cliente941@exemplo.com</td><td>Rua das Palmeiras</td><td>1819</td><td>11</td><td>960459014</td></tr><tr><td>942</td><td>Paulo Almeida</td><td>cliente942@exemplo.com</td><td>Rua das Palmeiras</td><td>1819</td><td>11</td><td>973737935</td></tr><tr><td>943</td><td>Juliana Costa</td><td>cliente943@exemplo.com</td><td>Rua Augusta</td><td>1011</td><td>11</td><td>971208006</td></tr><tr><td>944</td><td>Pedro Santos</td><td>cliente944@exemplo.com</td><td>Avenida Ipiranga</td><td>2021</td><td>11</td><td>965971291</td></tr><tr><td>945</td><td>Juliana Costa</td><td>cliente945@exemplo.com</td><td>Rua Augusta</td><td>1011</td><td>11</td><td>915297832</td></tr><tr><td>946</td><td>Juliana Costa</td><td>cliente946@exemplo.com</td><td>Avenida Brasil</td><td>1213</td><td>11</td><td>984308013</td></tr><tr><td>947</td><td>Paulo Almeida</td><td>cliente947@exemplo.com</td><td>Avenida Atlântica</td><td>1617</td><td>11</td><td>971815653</td></tr><tr><td>948</td><td>Ana Souza</td><td>cliente948@exemplo.com</td><td>Avenida Atlântica</td><td>1617</td><td>11</td><td>919709016</td></tr><tr><td>949</td><td>Pedro Santos</td><td>cliente949@exemplo.com</td><td>Avenida Paulista</td><td>456</td><td>11</td><td>994284406</td></tr><tr><td>950</td><td>Lucas Fernandes</td><td>cliente950@exemplo.com</td><td>Avenida Paulista</td><td>456</td><td>11</td><td>922394594</td></tr><tr><td>951</td><td>Lucas Fernandes</td><td>cliente951@exemplo.com</td><td>Avenida Atlântica</td><td>1617</td><td>11</td><td>927088436</td></tr><tr><td>952</td><td>Maria Oliveira</td><td>cliente952@exemplo.com</td><td>Rua das Palmeiras</td><td>1819</td><td>11</td><td>971848789</td></tr><tr><td>953</td><td>Carlos Pereira</td><td>cliente953@exemplo.com</td><td>Rua das Palmeiras</td><td>1819</td><td>11</td><td>969014436</td></tr><tr><td>954</td><td>Maria Oliveira</td><td>cliente954@exemplo.com</td><td>Rua das Palmeiras</td><td>1819</td><td>11</td><td>933706541</td></tr><tr><td>955</td><td>Fernanda Lima</td><td>cliente955@exemplo.com</td><td>Avenida Atlântica</td><td>1617</td><td>11</td><td>985257098</td></tr><tr><td>956</td><td>Mariana Rocha</td><td>cliente956@exemplo.com</td><td>Avenida Brasil</td><td>1213</td><td>11</td><td>934172337</td></tr><tr><td>957</td><td>Paulo Almeida</td><td>cliente957@exemplo.com</td><td>Avenida Brasil</td><td>1213</td><td>11</td><td>921308772</td></tr><tr><td>958</td><td>Pedro Santos</td><td>cliente958@exemplo.com</td><td>Praça da Sé</td><td>789</td><td>11</td><td>979027089</td></tr><tr><td>959</td><td>Pedro Santos</td><td>cliente959@exemplo.com</td><td>Avenida Brasil</td><td>1213</td><td>11</td><td>999549672</td></tr><tr><td>960</td><td>Mariana Rocha</td><td>cliente960@exemplo.com</td><td>Avenida Brasil</td><td>1213</td><td>11</td><td>994413185</td></tr><tr><td>961</td><td>Lucas Fernandes</td><td>cliente961@exemplo.com</td><td>Rua da Consolação</td><td>2223</td><td>11</td><td>998588198</td></tr><tr><td>962</td><td>Ana Souza</td><td>cliente962@exemplo.com</td><td>Avenida Brasil</td><td>1213</td><td>11</td><td>991684987</td></tr><tr><td>963</td><td>Carlos Pereira</td><td>cliente963@exemplo.com</td><td>Rua XV de Novembro</td><td>1415</td><td>11</td><td>975055362</td></tr><tr><td>964</td><td>Ana Souza</td><td>cliente964@exemplo.com</td><td>Rua da Consolação</td><td>2223</td><td>11</td><td>939412500</td></tr><tr><td>965</td><td>Ana Souza</td><td>cliente965@exemplo.com</td><td>Avenida Atlântica</td><td>1617</td><td>11</td><td>916971379</td></tr><tr><td>966</td><td>Juliana Costa</td><td>cliente966@exemplo.com</td><td>Avenida Paulista</td><td>456</td><td>11</td><td>995604265</td></tr><tr><td>967</td><td>João Silva</td><td>cliente967@exemplo.com</td><td>Avenida Paulista</td><td>456</td><td>11</td><td>993852318</td></tr><tr><td>968</td><td>João Silva</td><td>cliente968@exemplo.com</td><td>Avenida Ipiranga</td><td>2021</td><td>11</td><td>952531902</td></tr><tr><td>969</td><td>Maria Oliveira</td><td>cliente969@exemplo.com</td><td>Avenida Atlântica</td><td>1617</td><td>11</td><td>970773385</td></tr><tr><td>970</td><td>Ana Souza</td><td>cliente970@exemplo.com</td><td>Praça da Sé</td><td>789</td><td>11</td><td>929227958</td></tr><tr><td>971</td><td>Ana Souza</td><td>cliente971@exemplo.com</td><td>Rua Augusta</td><td>1011</td><td>11</td><td>926871132</td></tr><tr><td>972</td><td>Pedro Santos</td><td>cliente972@exemplo.com</td><td>Avenida Atlântica</td><td>1617</td><td>11</td><td>991257939</td></tr><tr><td>973</td><td>João Silva</td><td>cliente973@exemplo.com</td><td>Avenida Brasil</td><td>1213</td><td>11</td><td>973645204</td></tr><tr><td>974</td><td>Juliana Costa</td><td>cliente974@exemplo.com</td><td>Avenida Paulista</td><td>456</td><td>11</td><td>984611348</td></tr><tr><td>975</td><td>Lucas Fernandes</td><td>cliente975@exemplo.com</td><td>Rua das Flores</td><td>123</td><td>11</td><td>953181955</td></tr><tr><td>976</td><td>Pedro Santos</td><td>cliente976@exemplo.com</td><td>Avenida Brasil</td><td>1213</td><td>11</td><td>960477837</td></tr><tr><td>977</td><td>Ana Souza</td><td>cliente977@exemplo.com</td><td>Rua das Palmeiras</td><td>1819</td><td>11</td><td>971377827</td></tr><tr><td>978</td><td>Ana Souza</td><td>cliente978@exemplo.com</td><td>Avenida Paulista</td><td>456</td><td>11</td><td>983492362</td></tr><tr><td>979</td><td>Fernanda Lima</td><td>cliente979@exemplo.com</td><td>Avenida Paulista</td><td>456</td><td>11</td><td>943062424</td></tr><tr><td>980</td><td>João Silva</td><td>cliente980@exemplo.com</td><td>Avenida Paulista</td><td>456</td><td>11</td><td>989534800</td></tr><tr><td>981</td><td>Paulo Almeida</td><td>cliente981@exemplo.com</td><td>Rua da Consolação</td><td>2223</td><td>11</td><td>941187496</td></tr><tr><td>982</td><td>Pedro Santos</td><td>cliente982@exemplo.com</td><td>Avenida Paulista</td><td>456</td><td>11</td><td>967507255</td></tr><tr><td>983</td><td>Maria Oliveira</td><td>cliente983@exemplo.com</td><td>Avenida Ipiranga</td><td>2021</td><td>11</td><td>971528203</td></tr><tr><td>984</td><td>João Silva</td><td>cliente984@exemplo.com</td><td>Rua das Flores</td><td>123</td><td>11</td><td>963709060</td></tr><tr><td>985</td><td>Mariana Rocha</td><td>cliente985@exemplo.com</td><td>Praça da Sé</td><td>789</td><td>11</td><td>951886737</td></tr><tr><td>986</td><td>Mariana Rocha</td><td>cliente986@exemplo.com</td><td>Rua das Flores</td><td>123</td><td>11</td><td>930793631</td></tr><tr><td>987</td><td>Lucas Fernandes</td><td>cliente987@exemplo.com</td><td>Avenida Brasil</td><td>1213</td><td>11</td><td>996574709</td></tr><tr><td>988</td><td>João Silva</td><td>cliente988@exemplo.com</td><td>Avenida Brasil</td><td>1213</td><td>11</td><td>972749842</td></tr><tr><td>989</td><td>Mariana Rocha</td><td>cliente989@exemplo.com</td><td>Avenida Atlântica</td><td>1617</td><td>11</td><td>957988972</td></tr><tr><td>990</td><td>Maria Oliveira</td><td>cliente990@exemplo.com</td><td>Avenida Atlântica</td><td>1617</td><td>11</td><td>966701854</td></tr><tr><td>991</td><td>Carlos Pereira</td><td>cliente991@exemplo.com</td><td>Rua das Flores</td><td>123</td><td>11</td><td>959885693</td></tr><tr><td>992</td><td>Mariana Rocha</td><td>cliente992@exemplo.com</td><td>Avenida Brasil</td><td>1213</td><td>11</td><td>987798013</td></tr><tr><td>993</td><td>Lucas Fernandes</td><td>cliente993@exemplo.com</td><td>Praça da Sé</td><td>789</td><td>11</td><td>997621651</td></tr><tr><td>994</td><td>Paulo Almeida</td><td>cliente994@exemplo.com</td><td>Praça da Sé</td><td>789</td><td>11</td><td>913168315</td></tr><tr><td>995</td><td>Juliana Costa</td><td>cliente995@exemplo.com</td><td>Rua XV de Novembro</td><td>1415</td><td>11</td><td>939453715</td></tr><tr><td>996</td><td>Pedro Santos</td><td>cliente996@exemplo.com</td><td>Avenida Brasil</td><td>1213</td><td>11</td><td>917546200</td></tr><tr><td>997</td><td>Mariana Rocha</td><td>cliente997@exemplo.com</td><td>Avenida Brasil</td><td>1213</td><td>11</td><td>968816965</td></tr><tr><td>998</td><td>João Silva</td><td>cliente998@exemplo.com</td><td>Avenida Ipiranga</td><td>2021</td><td>11</td><td>929859386</td></tr><tr><td>999</td><td>Mariana Rocha</td><td>cliente999@exemplo.com</td><td>Avenida Brasil</td><td>1213</td><td>11</td><td>927399489</td></tr><tr><td>1000</td><td>Fernanda Lima</td><td>cliente1000@exemplo.com</td><td>Avenida Paulista</td><td>456</td><td>11</td><td>989564770</td></tr><tr><td>1001</td><td>Amanda Silva Santos</td><td>cliente1001@exemplo.com</td><td>Avenida Ipiranga</td><td>2021</td><td>11</td><td>962216965</td></tr></tbody></table></div>"
      ]
     },
     "metadata": {
      "application/vnd.databricks.v1+output": {
       "addedWidgets": {},
       "aggData": [],
       "aggError": "",
       "aggOverflow": false,
       "aggSchema": [],
       "aggSeriesLimitReached": false,
       "aggType": "",
       "arguments": {},
       "columnCustomDisplayInfos": {},
       "data": [
        [
         1,
         "Fernanda Lima",
         "cliente1@exemplo.com",
         "Rua da Consolação",
         2223,
         11,
         986235795
        ],
        [
         2,
         "Juliana Costa",
         "cliente2@exemplo.com",
         "Rua Augusta",
         1011,
         11,
         989591767
        ],
        [
         3,
         "Pedro Santos",
         "cliente3@exemplo.com",
         "Rua da Consolação",
         2223,
         11,
         939472587
        ],
        [
         4,
         "Fernanda Lima",
         "cliente4@exemplo.com",
         "Rua Augusta",
         1011,
         11,
         993453815
        ],
        [
         5,
         "Lucas Fernandes",
         "cliente5@exemplo.com",
         "Rua da Consolação",
         2223,
         11,
         964492610
        ],
        [
         6,
         "Carlos Pereira",
         "cliente6@exemplo.com",
         "Rua XV de Novembro",
         1415,
         11,
         949146650
        ],
        [
         7,
         "Juliana Costa",
         "cliente7@exemplo.com",
         "Avenida Paulista",
         456,
         11,
         935213943
        ],
        [
         8,
         "Carlos Pereira",
         "cliente8@exemplo.com",
         "Avenida Paulista",
         456,
         11,
         919848352
        ],
        [
         9,
         "Ana Souza",
         "cliente9@exemplo.com",
         "Avenida Atlântica",
         1617,
         11,
         952406030
        ],
        [
         10,
         "João Silva",
         "cliente10@exemplo.com",
         "Avenida Brasil",
         1213,
         11,
         915694953
        ],
        [
         11,
         "Lucas Fernandes",
         "cliente11@exemplo.com",
         "Rua da Consolação",
         2223,
         11,
         998834579
        ],
        [
         12,
         "Carlos Pereira",
         "cliente12@exemplo.com",
         "Rua das Flores",
         123,
         11,
         916898490
        ],
        [
         13,
         "Mariana Rocha",
         "cliente13@exemplo.com",
         "Rua XV de Novembro",
         1415,
         11,
         929255254
        ],
        [
         14,
         "João Silva",
         "cliente14@exemplo.com",
         "Avenida Ipiranga",
         2021,
         11,
         937508674
        ],
        [
         15,
         "Carlos Pereira",
         "cliente15@exemplo.com",
         "Avenida Brasil",
         1213,
         11,
         964363441
        ],
        [
         16,
         "Lucas Fernandes",
         "cliente16@exemplo.com",
         "Avenida Ipiranga",
         2021,
         11,
         970225724
        ],
        [
         17,
         "João Silva",
         "cliente17@exemplo.com",
         "Rua das Flores",
         123,
         11,
         999144856
        ],
        [
         18,
         "João Silva",
         "cliente18@exemplo.com",
         "Avenida Atlântica",
         1617,
         11,
         967671371
        ],
        [
         19,
         "Juliana Costa",
         "cliente19@exemplo.com",
         "Rua XV de Novembro",
         1415,
         11,
         990908621
        ],
        [
         20,
         "Carlos Pereira",
         "cliente20@exemplo.com",
         "Rua das Palmeiras",
         1819,
         11,
         940032265
        ],
        [
         21,
         "Carlos Pereira",
         "cliente21@exemplo.com",
         "Rua da Consolação",
         2223,
         11,
         942037540
        ],
        [
         22,
         "Lucas Fernandes",
         "cliente22@exemplo.com",
         "Avenida Paulista",
         456,
         11,
         958372509
        ],
        [
         23,
         "Mariana Rocha",
         "cliente23@exemplo.com",
         "Avenida Brasil",
         1213,
         11,
         955145028
        ],
        [
         24,
         "Fernanda Lima",
         "cliente24@exemplo.com",
         "Rua das Flores",
         123,
         11,
         923148978
        ],
        [
         25,
         "Juliana Costa",
         "cliente25@exemplo.com",
         "Avenida Atlântica",
         1617,
         11,
         960019926
        ],
        [
         26,
         "Carlos Pereira",
         "cliente26@exemplo.com",
         "Praça da Sé",
         789,
         11,
         973484894
        ],
        [
         27,
         "Carlos Pereira",
         "cliente27@exemplo.com",
         "Avenida Brasil",
         1213,
         11,
         965773151
        ],
        [
         28,
         "Ana Souza",
         "cliente28@exemplo.com",
         "Avenida Paulista",
         456,
         11,
         946262290
        ],
        [
         29,
         "Maria Oliveira",
         "cliente29@exemplo.com",
         "Avenida Atlântica",
         1617,
         11,
         923771600
        ],
        [
         30,
         "Carlos Pereira",
         "cliente30@exemplo.com",
         "Rua da Consolação",
         2223,
         11,
         929751354
        ],
        [
         31,
         "Juliana Costa",
         "cliente31@exemplo.com",
         "Avenida Paulista",
         456,
         11,
         932425096
        ],
        [
         32,
         "Carlos Pereira",
         "cliente32@exemplo.com",
         "Avenida Paulista",
         456,
         11,
         979048421
        ],
        [
         33,
         "Maria Oliveira",
         "cliente33@exemplo.com",
         "Avenida Brasil",
         1213,
         11,
         976055177
        ],
        [
         34,
         "Carlos Pereira",
         "cliente34@exemplo.com",
         "Avenida Paulista",
         456,
         11,
         937323379
        ],
        [
         35,
         "Maria Oliveira",
         "cliente35@exemplo.com",
         "Avenida Ipiranga",
         2021,
         11,
         920971782
        ],
        [
         36,
         "João Silva",
         "cliente36@exemplo.com",
         "Rua das Flores",
         123,
         11,
         975703918
        ],
        [
         37,
         "Mariana Rocha",
         "cliente37@exemplo.com",
         "Rua Augusta",
         1011,
         11,
         998714509
        ],
        [
         38,
         "Carlos Pereira",
         "cliente38@exemplo.com",
         "Rua da Consolação",
         2223,
         11,
         965297907
        ],
        [
         39,
         "Paulo Almeida",
         "cliente39@exemplo.com",
         "Rua Augusta",
         1011,
         11,
         968148509
        ],
        [
         40,
         "Maria Oliveira",
         "cliente40@exemplo.com",
         "Rua das Flores",
         123,
         11,
         997864844
        ],
        [
         41,
         "Juliana Costa",
         "cliente41@exemplo.com",
         "Rua Augusta",
         1011,
         11,
         983319507
        ],
        [
         42,
         "Ana Souza",
         "cliente42@exemplo.com",
         "Avenida Brasil",
         1213,
         11,
         915652120
        ],
        [
         43,
         "Fernanda Lima",
         "cliente43@exemplo.com",
         "Rua das Flores",
         123,
         11,
         912991845
        ],
        [
         44,
         "Paulo Almeida",
         "cliente44@exemplo.com",
         "Rua das Flores",
         123,
         11,
         989371952
        ],
        [
         45,
         "Fernanda Lima",
         "cliente45@exemplo.com",
         "Avenida Atlântica",
         1617,
         11,
         928321726
        ],
        [
         46,
         "Fernanda Lima",
         "cliente46@exemplo.com",
         "Avenida Atlântica",
         1617,
         11,
         985249030
        ],
        [
         47,
         "João Silva",
         "cliente47@exemplo.com",
         "Avenida Ipiranga",
         2021,
         11,
         915008303
        ],
        [
         48,
         "Maria Oliveira",
         "cliente48@exemplo.com",
         "Rua da Consolação",
         2223,
         11,
         980165445
        ],
        [
         49,
         "Maria Oliveira",
         "cliente49@exemplo.com",
         "Rua das Palmeiras",
         1819,
         11,
         976799552
        ],
        [
         50,
         "Ana Souza",
         "cliente50@exemplo.com",
         "Avenida Brasil",
         1213,
         11,
         978166178
        ],
        [
         51,
         "Ana Souza",
         "cliente51@exemplo.com",
         "Avenida Ipiranga",
         2021,
         11,
         985509292
        ],
        [
         52,
         "Mariana Rocha",
         "cliente52@exemplo.com",
         "Rua das Flores",
         123,
         11,
         985553454
        ],
        [
         53,
         "Fernanda Lima",
         "cliente53@exemplo.com",
         "Rua da Consolação",
         2223,
         11,
         923154886
        ],
        [
         54,
         "Juliana Costa",
         "cliente54@exemplo.com",
         "Avenida Brasil",
         1213,
         11,
         945032190
        ],
        [
         55,
         "Ana Souza",
         "cliente55@exemplo.com",
         "Rua Augusta",
         1011,
         11,
         925393603
        ],
        [
         56,
         "Fernanda Lima",
         "cliente56@exemplo.com",
         "Rua das Flores",
         123,
         11,
         991304398
        ],
        [
         57,
         "Carlos Pereira",
         "cliente57@exemplo.com",
         "Rua Augusta",
         1011,
         11,
         933604364
        ],
        [
         58,
         "Maria Oliveira",
         "cliente58@exemplo.com",
         "Rua Augusta",
         1011,
         11,
         965772886
        ],
        [
         59,
         "Lucas Fernandes",
         "cliente59@exemplo.com",
         "Praça da Sé",
         789,
         11,
         990472979
        ],
        [
         60,
         "Maria Oliveira",
         "cliente60@exemplo.com",
         "Avenida Atlântica",
         1617,
         11,
         917074086
        ],
        [
         61,
         "Maria Oliveira",
         "cliente61@exemplo.com",
         "Rua Augusta",
         1011,
         11,
         963503938
        ],
        [
         62,
         "Fernanda Lima",
         "cliente62@exemplo.com",
         "Rua Augusta",
         1011,
         11,
         999366547
        ],
        [
         63,
         "Mariana Rocha",
         "cliente63@exemplo.com",
         "Avenida Paulista",
         456,
         11,
         954487591
        ],
        [
         64,
         "Mariana Rocha",
         "cliente64@exemplo.com",
         "Rua das Flores",
         123,
         11,
         950232127
        ],
        [
         65,
         "Mariana Rocha",
         "cliente65@exemplo.com",
         "Rua da Consolação",
         2223,
         11,
         969575575
        ],
        [
         66,
         "João Silva",
         "cliente66@exemplo.com",
         "Rua das Palmeiras",
         1819,
         11,
         976862060
        ],
        [
         67,
         "Maria Oliveira",
         "cliente67@exemplo.com",
         "Rua das Palmeiras",
         1819,
         11,
         939431891
        ],
        [
         68,
         "Paulo Almeida",
         "cliente68@exemplo.com",
         "Avenida Atlântica",
         1617,
         11,
         938376741
        ],
        [
         69,
         "Paulo Almeida",
         "cliente69@exemplo.com",
         "Avenida Ipiranga",
         2021,
         11,
         928891292
        ],
        [
         70,
         "Fernanda Lima",
         "cliente70@exemplo.com",
         "Avenida Ipiranga",
         2021,
         11,
         981113081
        ],
        [
         71,
         "Mariana Rocha",
         "cliente71@exemplo.com",
         "Praça da Sé",
         789,
         11,
         934967486
        ],
        [
         72,
         "Ana Souza",
         "cliente72@exemplo.com",
         "Rua das Flores",
         123,
         11,
         994149426
        ],
        [
         73,
         "Juliana Costa",
         "cliente73@exemplo.com",
         "Avenida Brasil",
         1213,
         11,
         976389072
        ],
        [
         74,
         "Carlos Pereira",
         "cliente74@exemplo.com",
         "Rua das Palmeiras",
         1819,
         11,
         934831288
        ],
        [
         75,
         "Paulo Almeida",
         "cliente75@exemplo.com",
         "Rua XV de Novembro",
         1415,
         11,
         981418418
        ],
        [
         76,
         "Lucas Fernandes",
         "cliente76@exemplo.com",
         "Avenida Atlântica",
         1617,
         11,
         969028724
        ],
        [
         77,
         "Maria Oliveira",
         "cliente77@exemplo.com",
         "Avenida Paulista",
         456,
         11,
         912561658
        ],
        [
         78,
         "Ana Souza",
         "cliente78@exemplo.com",
         "Rua da Consolação",
         2223,
         11,
         922306093
        ],
        [
         79,
         "Paulo Almeida",
         "cliente79@exemplo.com",
         "Avenida Atlântica",
         1617,
         11,
         950333112
        ],
        [
         80,
         "Maria Oliveira",
         "cliente80@exemplo.com",
         "Praça da Sé",
         789,
         11,
         920303069
        ],
        [
         81,
         "Mariana Rocha",
         "cliente81@exemplo.com",
         "Rua XV de Novembro",
         1415,
         11,
         994959182
        ],
        [
         82,
         "Juliana Costa",
         "cliente82@exemplo.com",
         "Rua XV de Novembro",
         1415,
         11,
         925378574
        ],
        [
         83,
         "Paulo Almeida",
         "cliente83@exemplo.com",
         "Rua das Palmeiras",
         1819,
         11,
         993429741
        ],
        [
         84,
         "Paulo Almeida",
         "cliente84@exemplo.com",
         "Rua Augusta",
         1011,
         11,
         981535349
        ],
        [
         85,
         "Juliana Costa",
         "cliente85@exemplo.com",
         "Praça da Sé",
         789,
         11,
         955698583
        ],
        [
         86,
         "Juliana Costa",
         "cliente86@exemplo.com",
         "Rua XV de Novembro",
         1415,
         11,
         981694270
        ],
        [
         87,
         "Maria Oliveira",
         "cliente87@exemplo.com",
         "Avenida Ipiranga",
         2021,
         11,
         990245173
        ],
        [
         88,
         "Ana Souza",
         "cliente88@exemplo.com",
         "Avenida Ipiranga",
         2021,
         11,
         994506475
        ],
        [
         89,
         "Mariana Rocha",
         "cliente89@exemplo.com",
         "Rua XV de Novembro",
         1415,
         11,
         930291690
        ],
        [
         90,
         "Carlos Pereira",
         "cliente90@exemplo.com",
         "Praça da Sé",
         789,
         11,
         911155505
        ],
        [
         91,
         "Fernanda Lima",
         "cliente91@exemplo.com",
         "Avenida Atlântica",
         1617,
         11,
         971519605
        ],
        [
         92,
         "Maria Oliveira",
         "cliente92@exemplo.com",
         "Avenida Ipiranga",
         2021,
         11,
         946194337
        ],
        [
         93,
         "João Silva",
         "cliente93@exemplo.com",
         "Rua das Flores",
         123,
         11,
         996166806
        ],
        [
         94,
         "João Silva",
         "cliente94@exemplo.com",
         "Avenida Brasil",
         1213,
         11,
         918057686
        ],
        [
         95,
         "João Silva",
         "cliente95@exemplo.com",
         "Avenida Atlântica",
         1617,
         11,
         977442899
        ],
        [
         96,
         "Juliana Costa",
         "cliente96@exemplo.com",
         "Rua XV de Novembro",
         1415,
         11,
         938549573
        ],
        [
         97,
         "Maria Oliveira",
         "cliente97@exemplo.com",
         "Rua Augusta",
         1011,
         11,
         956196567
        ],
        [
         98,
         "Pedro Santos",
         "cliente98@exemplo.com",
         "Rua das Palmeiras",
         1819,
         11,
         920405030
        ],
        [
         99,
         "Maria Oliveira",
         "cliente99@exemplo.com",
         "Rua das Flores",
         123,
         11,
         965989540
        ],
        [
         100,
         "Lucas Fernandes",
         "cliente100@exemplo.com",
         "Rua XV de Novembro",
         1415,
         11,
         956195732
        ],
        [
         101,
         "Maria Oliveira",
         "cliente101@exemplo.com",
         "Avenida Ipiranga",
         2021,
         11,
         932869132
        ],
        [
         102,
         "João Silva",
         "cliente102@exemplo.com",
         "Rua XV de Novembro",
         1415,
         11,
         990835135
        ],
        [
         103,
         "João Silva",
         "cliente103@exemplo.com",
         "Avenida Paulista",
         456,
         11,
         981457612
        ],
        [
         104,
         "Maria Oliveira",
         "cliente104@exemplo.com",
         "Rua das Palmeiras",
         1819,
         11,
         968546546
        ],
        [
         105,
         "João Silva",
         "cliente105@exemplo.com",
         "Rua das Palmeiras",
         1819,
         11,
         972412161
        ],
        [
         106,
         "Ana Souza",
         "cliente106@exemplo.com",
         "Rua da Consolação",
         2223,
         11,
         935203868
        ],
        [
         107,
         "Lucas Fernandes",
         "cliente107@exemplo.com",
         "Avenida Ipiranga",
         2021,
         11,
         973758505
        ],
        [
         108,
         "Pedro Santos",
         "cliente108@exemplo.com",
         "Rua das Palmeiras",
         1819,
         11,
         949648135
        ],
        [
         109,
         "Paulo Almeida",
         "cliente109@exemplo.com",
         "Rua das Palmeiras",
         1819,
         11,
         971628834
        ],
        [
         110,
         "Fernanda Lima",
         "cliente110@exemplo.com",
         "Rua da Consolação",
         2223,
         11,
         989986945
        ],
        [
         111,
         "Lucas Fernandes",
         "cliente111@exemplo.com",
         "Rua Augusta",
         1011,
         11,
         967328389
        ],
        [
         112,
         "Maria Oliveira",
         "cliente112@exemplo.com",
         "Rua das Palmeiras",
         1819,
         11,
         935527152
        ],
        [
         113,
         "João Silva",
         "cliente113@exemplo.com",
         "Rua Augusta",
         1011,
         11,
         921397660
        ],
        [
         114,
         "Juliana Costa",
         "cliente114@exemplo.com",
         "Avenida Paulista",
         456,
         11,
         974801943
        ],
        [
         115,
         "Lucas Fernandes",
         "cliente115@exemplo.com",
         "Avenida Paulista",
         456,
         11,
         952704938
        ],
        [
         116,
         "Maria Oliveira",
         "cliente116@exemplo.com",
         "Praça da Sé",
         789,
         11,
         976588387
        ],
        [
         117,
         "João Silva",
         "cliente117@exemplo.com",
         "Avenida Ipiranga",
         2021,
         11,
         960496214
        ],
        [
         118,
         "Fernanda Lima",
         "cliente118@exemplo.com",
         "Avenida Paulista",
         456,
         11,
         919826684
        ],
        [
         119,
         "Juliana Costa",
         "cliente119@exemplo.com",
         "Rua da Consolação",
         2223,
         11,
         977163165
        ],
        [
         120,
         "João Silva",
         "cliente120@exemplo.com",
         "Praça da Sé",
         789,
         11,
         949463976
        ],
        [
         121,
         "Ana Souza",
         "cliente121@exemplo.com",
         "Rua Augusta",
         1011,
         11,
         943037016
        ],
        [
         122,
         "Paulo Almeida",
         "cliente122@exemplo.com",
         "Rua das Flores",
         123,
         11,
         990179855
        ],
        [
         123,
         "Juliana Costa",
         "cliente123@exemplo.com",
         "Avenida Atlântica",
         1617,
         11,
         932325283
        ],
        [
         124,
         "João Silva",
         "cliente124@exemplo.com",
         "Avenida Paulista",
         456,
         11,
         967259758
        ],
        [
         125,
         "Lucas Fernandes",
         "cliente125@exemplo.com",
         "Praça da Sé",
         789,
         11,
         914431958
        ],
        [
         126,
         "Maria Oliveira",
         "cliente126@exemplo.com",
         "Rua da Consolação",
         2223,
         11,
         967984847
        ],
        [
         127,
         "Paulo Almeida",
         "cliente127@exemplo.com",
         "Avenida Brasil",
         1213,
         11,
         946268116
        ],
        [
         128,
         "Lucas Fernandes",
         "cliente128@exemplo.com",
         "Rua Augusta",
         1011,
         11,
         965225897
        ],
        [
         129,
         "Carlos Pereira",
         "cliente129@exemplo.com",
         "Rua Augusta",
         1011,
         11,
         927777364
        ],
        [
         130,
         "Mariana Rocha",
         "cliente130@exemplo.com",
         "Praça da Sé",
         789,
         11,
         964422275
        ],
        [
         131,
         "Juliana Costa",
         "cliente131@exemplo.com",
         "Rua das Flores",
         123,
         11,
         926512420
        ],
        [
         132,
         "Lucas Fernandes",
         "cliente132@exemplo.com",
         "Rua das Flores",
         123,
         11,
         944372042
        ],
        [
         133,
         "Paulo Almeida",
         "cliente133@exemplo.com",
         "Rua das Palmeiras",
         1819,
         11,
         996373113
        ],
        [
         134,
         "Mariana Rocha",
         "cliente134@exemplo.com",
         "Avenida Brasil",
         1213,
         11,
         997144699
        ],
        [
         135,
         "Juliana Costa",
         "cliente135@exemplo.com",
         "Rua das Palmeiras",
         1819,
         11,
         979966681
        ],
        [
         136,
         "Paulo Almeida",
         "cliente136@exemplo.com",
         "Avenida Ipiranga",
         2021,
         11,
         991747421
        ],
        [
         137,
         "João Silva",
         "cliente137@exemplo.com",
         "Rua das Palmeiras",
         1819,
         11,
         976919886
        ],
        [
         138,
         "Paulo Almeida",
         "cliente138@exemplo.com",
         "Avenida Paulista",
         456,
         11,
         968448321
        ],
        [
         139,
         "João Silva",
         "cliente139@exemplo.com",
         "Avenida Brasil",
         1213,
         11,
         969207240
        ],
        [
         140,
         "Pedro Santos",
         "cliente140@exemplo.com",
         "Rua das Palmeiras",
         1819,
         11,
         995526403
        ],
        [
         141,
         "Paulo Almeida",
         "cliente141@exemplo.com",
         "Praça da Sé",
         789,
         11,
         978798454
        ],
        [
         142,
         "Carlos Pereira",
         "cliente142@exemplo.com",
         "Avenida Ipiranga",
         2021,
         11,
         957828663
        ],
        [
         143,
         "Pedro Santos",
         "cliente143@exemplo.com",
         "Rua das Flores",
         123,
         11,
         986069074
        ],
        [
         144,
         "Juliana Costa",
         "cliente144@exemplo.com",
         "Avenida Paulista",
         456,
         11,
         959619321
        ],
        [
         145,
         "Maria Oliveira",
         "cliente145@exemplo.com",
         "Avenida Brasil",
         1213,
         11,
         937341221
        ],
        [
         146,
         "Mariana Rocha",
         "cliente146@exemplo.com",
         "Rua Augusta",
         1011,
         11,
         996725982
        ],
        [
         147,
         "Carlos Pereira",
         "cliente147@exemplo.com",
         "Avenida Atlântica",
         1617,
         11,
         988662110
        ],
        [
         148,
         "Carlos Pereira",
         "cliente148@exemplo.com",
         "Rua XV de Novembro",
         1415,
         11,
         986421940
        ],
        [
         149,
         "Fernanda Lima",
         "cliente149@exemplo.com",
         "Rua da Consolação",
         2223,
         11,
         953523929
        ],
        [
         150,
         "Carlos Pereira",
         "cliente150@exemplo.com",
         "Rua das Palmeiras",
         1819,
         11,
         927988936
        ],
        [
         151,
         "João Silva",
         "cliente151@exemplo.com",
         "Rua da Consolação",
         2223,
         11,
         963829670
        ],
        [
         152,
         "Fernanda Lima",
         "cliente152@exemplo.com",
         "Rua das Palmeiras",
         1819,
         11,
         957876057
        ],
        [
         153,
         "Carlos Pereira",
         "cliente153@exemplo.com",
         "Avenida Paulista",
         456,
         11,
         967533854
        ],
        [
         154,
         "Carlos Pereira",
         "cliente154@exemplo.com",
         "Praça da Sé",
         789,
         11,
         944843023
        ],
        [
         155,
         "Mariana Rocha",
         "cliente155@exemplo.com",
         "Avenida Atlântica",
         1617,
         11,
         963023934
        ],
        [
         156,
         "Ana Souza",
         "cliente156@exemplo.com",
         "Rua das Flores",
         123,
         11,
         935735306
        ],
        [
         157,
         "Pedro Santos",
         "cliente157@exemplo.com",
         "Avenida Paulista",
         456,
         11,
         941652488
        ],
        [
         158,
         "Mariana Rocha",
         "cliente158@exemplo.com",
         "Avenida Ipiranga",
         2021,
         11,
         977529398
        ],
        [
         159,
         "Pedro Santos",
         "cliente159@exemplo.com",
         "Avenida Ipiranga",
         2021,
         11,
         963029681
        ],
        [
         160,
         "Paulo Almeida",
         "cliente160@exemplo.com",
         "Avenida Ipiranga",
         2021,
         11,
         991746276
        ],
        [
         161,
         "Mariana Rocha",
         "cliente161@exemplo.com",
         "Praça da Sé",
         789,
         11,
         986157380
        ],
        [
         162,
         "Paulo Almeida",
         "cliente162@exemplo.com",
         "Avenida Brasil",
         1213,
         11,
         953944021
        ],
        [
         163,
         "Ana Souza",
         "cliente163@exemplo.com",
         "Rua das Palmeiras",
         1819,
         11,
         970713925
        ],
        [
         164,
         "Lucas Fernandes",
         "cliente164@exemplo.com",
         "Rua da Consolação",
         2223,
         11,
         939683545
        ],
        [
         165,
         "Paulo Almeida",
         "cliente165@exemplo.com",
         "Avenida Ipiranga",
         2021,
         11,
         954197688
        ],
        [
         166,
         "Fernanda Lima",
         "cliente166@exemplo.com",
         "Avenida Ipiranga",
         2021,
         11,
         995285055
        ],
        [
         167,
         "Pedro Santos",
         "cliente167@exemplo.com",
         "Avenida Brasil",
         1213,
         11,
         936507103
        ],
        [
         168,
         "Mariana Rocha",
         "cliente168@exemplo.com",
         "Avenida Paulista",
         456,
         11,
         943724472
        ],
        [
         169,
         "Ana Souza",
         "cliente169@exemplo.com",
         "Avenida Atlântica",
         1617,
         11,
         987722093
        ],
        [
         170,
         "Ana Souza",
         "cliente170@exemplo.com",
         "Avenida Brasil",
         1213,
         11,
         978861040
        ],
        [
         171,
         "Carlos Pereira",
         "cliente171@exemplo.com",
         "Rua XV de Novembro",
         1415,
         11,
         920989276
        ],
        [
         172,
         "Maria Oliveira",
         "cliente172@exemplo.com",
         "Rua Augusta",
         1011,
         11,
         939485281
        ],
        [
         173,
         "Lucas Fernandes",
         "cliente173@exemplo.com",
         "Avenida Ipiranga",
         2021,
         11,
         985212824
        ],
        [
         174,
         "Mariana Rocha",
         "cliente174@exemplo.com",
         "Avenida Ipiranga",
         2021,
         11,
         928234743
        ],
        [
         175,
         "Juliana Costa",
         "cliente175@exemplo.com",
         "Rua Augusta",
         1011,
         11,
         942566308
        ],
        [
         176,
         "Paulo Almeida",
         "cliente176@exemplo.com",
         "Rua da Consolação",
         2223,
         11,
         926788649
        ],
        [
         177,
         "Juliana Costa",
         "cliente177@exemplo.com",
         "Rua das Palmeiras",
         1819,
         11,
         963264041
        ],
        [
         178,
         "Maria Oliveira",
         "cliente178@exemplo.com",
         "Rua Augusta",
         1011,
         11,
         990767424
        ],
        [
         179,
         "Mariana Rocha",
         "cliente179@exemplo.com",
         "Rua das Flores",
         123,
         11,
         947713326
        ],
        [
         180,
         "Juliana Costa",
         "cliente180@exemplo.com",
         "Avenida Brasil",
         1213,
         11,
         937596475
        ],
        [
         181,
         "Mariana Rocha",
         "cliente181@exemplo.com",
         "Avenida Atlântica",
         1617,
         11,
         979381594
        ],
        [
         182,
         "Mariana Rocha",
         "cliente182@exemplo.com",
         "Avenida Atlântica",
         1617,
         11,
         954786545
        ],
        [
         183,
         "Lucas Fernandes",
         "cliente183@exemplo.com",
         "Rua XV de Novembro",
         1415,
         11,
         971362054
        ],
        [
         184,
         "Mariana Rocha",
         "cliente184@exemplo.com",
         "Rua da Consolação",
         2223,
         11,
         911037117
        ],
        [
         185,
         "Paulo Almeida",
         "cliente185@exemplo.com",
         "Rua Augusta",
         1011,
         11,
         935547806
        ],
        [
         186,
         "Maria Oliveira",
         "cliente186@exemplo.com",
         "Avenida Ipiranga",
         2021,
         11,
         958897602
        ],
        [
         187,
         "Paulo Almeida",
         "cliente187@exemplo.com",
         "Rua da Consolação",
         2223,
         11,
         972671154
        ],
        [
         188,
         "Pedro Santos",
         "cliente188@exemplo.com",
         "Avenida Paulista",
         456,
         11,
         936447488
        ],
        [
         189,
         "Juliana Costa",
         "cliente189@exemplo.com",
         "Avenida Ipiranga",
         2021,
         11,
         997334775
        ],
        [
         190,
         "Carlos Pereira",
         "cliente190@exemplo.com",
         "Rua das Flores",
         123,
         11,
         965809399
        ],
        [
         191,
         "Fernanda Lima",
         "cliente191@exemplo.com",
         "Praça da Sé",
         789,
         11,
         993497316
        ],
        [
         192,
         "Ana Souza",
         "cliente192@exemplo.com",
         "Rua das Palmeiras",
         1819,
         11,
         947643350
        ],
        [
         193,
         "Maria Oliveira",
         "cliente193@exemplo.com",
         "Rua das Flores",
         123,
         11,
         931471467
        ],
        [
         194,
         "Mariana Rocha",
         "cliente194@exemplo.com",
         "Rua XV de Novembro",
         1415,
         11,
         976564327
        ],
        [
         195,
         "Paulo Almeida",
         "cliente195@exemplo.com",
         "Avenida Paulista",
         456,
         11,
         998158924
        ],
        [
         196,
         "Carlos Pereira",
         "cliente196@exemplo.com",
         "Avenida Ipiranga",
         2021,
         11,
         938453262
        ],
        [
         197,
         "Paulo Almeida",
         "cliente197@exemplo.com",
         "Avenida Ipiranga",
         2021,
         11,
         995697219
        ],
        [
         198,
         "Mariana Rocha",
         "cliente198@exemplo.com",
         "Avenida Paulista",
         456,
         11,
         920607154
        ],
        [
         199,
         "Paulo Almeida",
         "cliente199@exemplo.com",
         "Rua da Consolação",
         2223,
         11,
         976431232
        ],
        [
         200,
         "Pedro Santos",
         "cliente200@exemplo.com",
         "Rua Augusta",
         1011,
         11,
         951058511
        ],
        [
         201,
         "Pedro Santos",
         "cliente201@exemplo.com",
         "Rua Augusta",
         1011,
         11,
         977005346
        ],
        [
         202,
         "Pedro Santos",
         "cliente202@exemplo.com",
         "Praça da Sé",
         789,
         11,
         933795304
        ],
        [
         203,
         "Fernanda Lima",
         "cliente203@exemplo.com",
         "Avenida Brasil",
         1213,
         11,
         942282067
        ],
        [
         204,
         "Juliana Costa",
         "cliente204@exemplo.com",
         "Avenida Paulista",
         456,
         11,
         951218567
        ],
        [
         205,
         "Mariana Rocha",
         "cliente205@exemplo.com",
         "Praça da Sé",
         789,
         11,
         930768621
        ],
        [
         206,
         "Ana Souza",
         "cliente206@exemplo.com",
         "Avenida Atlântica",
         1617,
         11,
         983247423
        ],
        [
         207,
         "Fernanda Lima",
         "cliente207@exemplo.com",
         "Avenida Paulista",
         456,
         11,
         972977665
        ],
        [
         208,
         "Carlos Pereira",
         "cliente208@exemplo.com",
         "Avenida Atlântica",
         1617,
         11,
         993938423
        ],
        [
         209,
         "Fernanda Lima",
         "cliente209@exemplo.com",
         "Rua das Palmeiras",
         1819,
         11,
         964496714
        ],
        [
         210,
         "Maria Oliveira",
         "cliente210@exemplo.com",
         "Avenida Ipiranga",
         2021,
         11,
         984844606
        ],
        [
         211,
         "Lucas Fernandes",
         "cliente211@exemplo.com",
         "Avenida Atlântica",
         1617,
         11,
         950589304
        ],
        [
         212,
         "Juliana Costa",
         "cliente212@exemplo.com",
         "Rua XV de Novembro",
         1415,
         11,
         922211253
        ],
        [
         213,
         "Mariana Rocha",
         "cliente213@exemplo.com",
         "Avenida Ipiranga",
         2021,
         11,
         954312705
        ],
        [
         214,
         "Paulo Almeida",
         "cliente214@exemplo.com",
         "Rua das Flores",
         123,
         11,
         993498718
        ],
        [
         215,
         "Paulo Almeida",
         "cliente215@exemplo.com",
         "Rua das Palmeiras",
         1819,
         11,
         987705318
        ],
        [
         216,
         "Paulo Almeida",
         "cliente216@exemplo.com",
         "Avenida Atlântica",
         1617,
         11,
         944791408
        ],
        [
         217,
         "Juliana Costa",
         "cliente217@exemplo.com",
         "Rua Augusta",
         1011,
         11,
         912098362
        ],
        [
         218,
         "Lucas Fernandes",
         "cliente218@exemplo.com",
         "Avenida Brasil",
         1213,
         11,
         919304700
        ],
        [
         219,
         "Lucas Fernandes",
         "cliente219@exemplo.com",
         "Rua Augusta",
         1011,
         11,
         983795117
        ],
        [
         220,
         "Pedro Santos",
         "cliente220@exemplo.com",
         "Praça da Sé",
         789,
         11,
         978717643
        ],
        [
         221,
         "Lucas Fernandes",
         "cliente221@exemplo.com",
         "Rua das Palmeiras",
         1819,
         11,
         941979761
        ],
        [
         222,
         "João Silva",
         "cliente222@exemplo.com",
         "Praça da Sé",
         789,
         11,
         997022736
        ],
        [
         223,
         "Paulo Almeida",
         "cliente223@exemplo.com",
         "Rua das Flores",
         123,
         11,
         939371599
        ],
        [
         224,
         "Carlos Pereira",
         "cliente224@exemplo.com",
         "Rua da Consolação",
         2223,
         11,
         977104456
        ],
        [
         225,
         "Lucas Fernandes",
         "cliente225@exemplo.com",
         "Rua da Consolação",
         2223,
         11,
         980731555
        ],
        [
         226,
         "Ana Souza",
         "cliente226@exemplo.com",
         "Avenida Atlântica",
         1617,
         11,
         943909628
        ],
        [
         227,
         "Ana Souza",
         "cliente227@exemplo.com",
         "Avenida Paulista",
         456,
         11,
         950971746
        ],
        [
         228,
         "João Silva",
         "cliente228@exemplo.com",
         "Praça da Sé",
         789,
         11,
         981082508
        ],
        [
         229,
         "João Silva",
         "cliente229@exemplo.com",
         "Avenida Atlântica",
         1617,
         11,
         941967902
        ],
        [
         230,
         "Paulo Almeida",
         "cliente230@exemplo.com",
         "Rua da Consolação",
         2223,
         11,
         986971597
        ],
        [
         231,
         "João Silva",
         "cliente231@exemplo.com",
         "Rua das Flores",
         123,
         11,
         962941878
        ],
        [
         232,
         "Fernanda Lima",
         "cliente232@exemplo.com",
         "Rua das Flores",
         123,
         11,
         950053478
        ],
        [
         233,
         "Ana Souza",
         "cliente233@exemplo.com",
         "Avenida Atlântica",
         1617,
         11,
         925968942
        ],
        [
         234,
         "Paulo Almeida",
         "cliente234@exemplo.com",
         "Praça da Sé",
         789,
         11,
         998796133
        ],
        [
         235,
         "Pedro Santos",
         "cliente235@exemplo.com",
         "Rua da Consolação",
         2223,
         11,
         930891771
        ],
        [
         236,
         "Juliana Costa",
         "cliente236@exemplo.com",
         "Rua da Consolação",
         2223,
         11,
         976301064
        ],
        [
         237,
         "Ana Souza",
         "cliente237@exemplo.com",
         "Rua da Consolação",
         2223,
         11,
         986365752
        ],
        [
         238,
         "Lucas Fernandes",
         "cliente238@exemplo.com",
         "Rua das Flores",
         123,
         11,
         967055525
        ],
        [
         239,
         "Fernanda Lima",
         "cliente239@exemplo.com",
         "Avenida Ipiranga",
         2021,
         11,
         977024376
        ],
        [
         240,
         "Paulo Almeida",
         "cliente240@exemplo.com",
         "Avenida Brasil",
         1213,
         11,
         974414706
        ],
        [
         241,
         "João Silva",
         "cliente241@exemplo.com",
         "Rua Augusta",
         1011,
         11,
         934129314
        ],
        [
         242,
         "Carlos Pereira",
         "cliente242@exemplo.com",
         "Avenida Brasil",
         1213,
         11,
         918219583
        ],
        [
         243,
         "Carlos Pereira",
         "cliente243@exemplo.com",
         "Rua das Flores",
         123,
         11,
         992456690
        ],
        [
         244,
         "Mariana Rocha",
         "cliente244@exemplo.com",
         "Rua das Flores",
         123,
         11,
         957872536
        ],
        [
         245,
         "Paulo Almeida",
         "cliente245@exemplo.com",
         "Praça da Sé",
         789,
         11,
         916495039
        ],
        [
         246,
         "Paulo Almeida",
         "cliente246@exemplo.com",
         "Praça da Sé",
         789,
         11,
         991204876
        ],
        [
         247,
         "Carlos Pereira",
         "cliente247@exemplo.com",
         "Rua Augusta",
         1011,
         11,
         932733277
        ],
        [
         248,
         "Mariana Rocha",
         "cliente248@exemplo.com",
         "Avenida Paulista",
         456,
         11,
         938728793
        ],
        [
         249,
         "Maria Oliveira",
         "cliente249@exemplo.com",
         "Rua da Consolação",
         2223,
         11,
         990103702
        ],
        [
         250,
         "Lucas Fernandes",
         "cliente250@exemplo.com",
         "Rua Augusta",
         1011,
         11,
         919575287
        ],
        [
         251,
         "Juliana Costa",
         "cliente251@exemplo.com",
         "Rua da Consolação",
         2223,
         11,
         964658197
        ],
        [
         252,
         "Pedro Santos",
         "cliente252@exemplo.com",
         "Avenida Paulista",
         456,
         11,
         963848397
        ],
        [
         253,
         "João Silva",
         "cliente253@exemplo.com",
         "Rua das Flores",
         123,
         11,
         941121236
        ],
        [
         254,
         "João Silva",
         "cliente254@exemplo.com",
         "Avenida Brasil",
         1213,
         11,
         989531744
        ],
        [
         255,
         "Maria Oliveira",
         "cliente255@exemplo.com",
         "Avenida Atlântica",
         1617,
         11,
         938566332
        ],
        [
         256,
         "Fernanda Lima",
         "cliente256@exemplo.com",
         "Avenida Ipiranga",
         2021,
         11,
         985524629
        ],
        [
         257,
         "Juliana Costa",
         "cliente257@exemplo.com",
         "Rua da Consolação",
         2223,
         11,
         946329310
        ],
        [
         258,
         "Ana Souza",
         "cliente258@exemplo.com",
         "Rua das Palmeiras",
         1819,
         11,
         949808187
        ],
        [
         259,
         "Pedro Santos",
         "cliente259@exemplo.com",
         "Praça da Sé",
         789,
         11,
         933375803
        ],
        [
         260,
         "Paulo Almeida",
         "cliente260@exemplo.com",
         "Rua da Consolação",
         2223,
         11,
         930555505
        ],
        [
         261,
         "Lucas Fernandes",
         "cliente261@exemplo.com",
         "Rua da Consolação",
         2223,
         11,
         971787286
        ],
        [
         262,
         "Paulo Almeida",
         "cliente262@exemplo.com",
         "Avenida Atlântica",
         1617,
         11,
         980226375
        ],
        [
         263,
         "Carlos Pereira",
         "cliente263@exemplo.com",
         "Avenida Atlântica",
         1617,
         11,
         994254316
        ],
        [
         264,
         "Ana Souza",
         "cliente264@exemplo.com",
         "Rua Augusta",
         1011,
         11,
         947514390
        ],
        [
         265,
         "Juliana Costa",
         "cliente265@exemplo.com",
         "Avenida Atlântica",
         1617,
         11,
         985703601
        ],
        [
         266,
         "Paulo Almeida",
         "cliente266@exemplo.com",
         "Avenida Atlântica",
         1617,
         11,
         959928731
        ],
        [
         267,
         "Maria Oliveira",
         "cliente267@exemplo.com",
         "Avenida Atlântica",
         1617,
         11,
         931325076
        ],
        [
         268,
         "Mariana Rocha",
         "cliente268@exemplo.com",
         "Avenida Atlântica",
         1617,
         11,
         943494330
        ],
        [
         269,
         "João Silva",
         "cliente269@exemplo.com",
         "Rua da Consolação",
         2223,
         11,
         963484619
        ],
        [
         270,
         "Fernanda Lima",
         "cliente270@exemplo.com",
         "Avenida Atlântica",
         1617,
         11,
         913538730
        ],
        [
         271,
         "Lucas Fernandes",
         "cliente271@exemplo.com",
         "Avenida Paulista",
         456,
         11,
         916029456
        ],
        [
         272,
         "João Silva",
         "cliente272@exemplo.com",
         "Rua XV de Novembro",
         1415,
         11,
         973444161
        ],
        [
         273,
         "Pedro Santos",
         "cliente273@exemplo.com",
         "Praça da Sé",
         789,
         11,
         911122077
        ],
        [
         274,
         "Lucas Fernandes",
         "cliente274@exemplo.com",
         "Avenida Paulista",
         456,
         11,
         987834718
        ],
        [
         275,
         "Fernanda Lima",
         "cliente275@exemplo.com",
         "Rua da Consolação",
         2223,
         11,
         940175979
        ],
        [
         276,
         "Carlos Pereira",
         "cliente276@exemplo.com",
         "Rua das Palmeiras",
         1819,
         11,
         962375970
        ],
        [
         277,
         "Paulo Almeida",
         "cliente277@exemplo.com",
         "Avenida Paulista",
         456,
         11,
         914041411
        ],
        [
         278,
         "João Silva",
         "cliente278@exemplo.com",
         "Rua das Palmeiras",
         1819,
         11,
         920178220
        ],
        [
         279,
         "Maria Oliveira",
         "cliente279@exemplo.com",
         "Rua XV de Novembro",
         1415,
         11,
         926817317
        ],
        [
         280,
         "Pedro Santos",
         "cliente280@exemplo.com",
         "Avenida Brasil",
         1213,
         11,
         963228771
        ],
        [
         281,
         "Maria Oliveira",
         "cliente281@exemplo.com",
         "Rua da Consolação",
         2223,
         11,
         972971077
        ],
        [
         282,
         "Mariana Rocha",
         "cliente282@exemplo.com",
         "Rua da Consolação",
         2223,
         11,
         985895837
        ],
        [
         283,
         "Lucas Fernandes",
         "cliente283@exemplo.com",
         "Rua das Palmeiras",
         1819,
         11,
         979363003
        ],
        [
         284,
         "Juliana Costa",
         "cliente284@exemplo.com",
         "Avenida Paulista",
         456,
         11,
         963107869
        ],
        [
         285,
         "João Silva",
         "cliente285@exemplo.com",
         "Avenida Atlântica",
         1617,
         11,
         910302926
        ],
        [
         286,
         "Carlos Pereira",
         "cliente286@exemplo.com",
         "Rua da Consolação",
         2223,
         11,
         991919902
        ],
        [
         287,
         "João Silva",
         "cliente287@exemplo.com",
         "Avenida Paulista",
         456,
         11,
         984229732
        ],
        [
         288,
         "Juliana Costa",
         "cliente288@exemplo.com",
         "Avenida Brasil",
         1213,
         11,
         998623943
        ],
        [
         289,
         "Maria Oliveira",
         "cliente289@exemplo.com",
         "Avenida Atlântica",
         1617,
         11,
         980763719
        ],
        [
         290,
         "Maria Oliveira",
         "cliente290@exemplo.com",
         "Avenida Paulista",
         456,
         11,
         954176916
        ],
        [
         291,
         "Lucas Fernandes",
         "cliente291@exemplo.com",
         "Rua da Consolação",
         2223,
         11,
         930755561
        ],
        [
         292,
         "Juliana Costa",
         "cliente292@exemplo.com",
         "Rua das Palmeiras",
         1819,
         11,
         958311536
        ],
        [
         293,
         "João Silva",
         "cliente293@exemplo.com",
         "Rua das Flores",
         123,
         11,
         954048659
        ],
        [
         294,
         "Fernanda Lima",
         "cliente294@exemplo.com",
         "Rua das Palmeiras",
         1819,
         11,
         922712926
        ],
        [
         295,
         "Ana Souza",
         "cliente295@exemplo.com",
         "Rua das Flores",
         123,
         11,
         988253563
        ],
        [
         296,
         "João Silva",
         "cliente296@exemplo.com",
         "Avenida Ipiranga",
         2021,
         11,
         921511408
        ],
        [
         297,
         "Carlos Pereira",
         "cliente297@exemplo.com",
         "Rua da Consolação",
         2223,
         11,
         987535089
        ],
        [
         298,
         "Juliana Costa",
         "cliente298@exemplo.com",
         "Rua das Palmeiras",
         1819,
         11,
         950541727
        ],
        [
         299,
         "Pedro Santos",
         "cliente299@exemplo.com",
         "Rua da Consolação",
         2223,
         11,
         984438790
        ],
        [
         300,
         "João Silva",
         "cliente300@exemplo.com",
         "Praça da Sé",
         789,
         11,
         956749195
        ],
        [
         301,
         "Paulo Almeida",
         "cliente301@exemplo.com",
         "Rua XV de Novembro",
         1415,
         11,
         961846175
        ],
        [
         302,
         "Mariana Rocha",
         "cliente302@exemplo.com",
         "Rua Augusta",
         1011,
         11,
         980241105
        ],
        [
         303,
         "Maria Oliveira",
         "cliente303@exemplo.com",
         "Avenida Ipiranga",
         2021,
         11,
         945974994
        ],
        [
         304,
         "Ana Souza",
         "cliente304@exemplo.com",
         "Rua XV de Novembro",
         1415,
         11,
         921292945
        ],
        [
         305,
         "Mariana Rocha",
         "cliente305@exemplo.com",
         "Rua das Palmeiras",
         1819,
         11,
         920123324
        ],
        [
         306,
         "Juliana Costa",
         "cliente306@exemplo.com",
         "Avenida Ipiranga",
         2021,
         11,
         983127345
        ],
        [
         307,
         "Ana Souza",
         "cliente307@exemplo.com",
         "Rua da Consolação",
         2223,
         11,
         989364268
        ],
        [
         308,
         "Pedro Santos",
         "cliente308@exemplo.com",
         "Rua das Flores",
         123,
         11,
         963752711
        ],
        [
         309,
         "Ana Souza",
         "cliente309@exemplo.com",
         "Rua das Flores",
         123,
         11,
         967622781
        ],
        [
         310,
         "Fernanda Lima",
         "cliente310@exemplo.com",
         "Avenida Brasil",
         1213,
         11,
         965459153
        ],
        [
         311,
         "Paulo Almeida",
         "cliente311@exemplo.com",
         "Rua Augusta",
         1011,
         11,
         948751071
        ],
        [
         312,
         "Ana Souza",
         "cliente312@exemplo.com",
         "Rua das Flores",
         123,
         11,
         980135225
        ],
        [
         313,
         "Fernanda Lima",
         "cliente313@exemplo.com",
         "Rua XV de Novembro",
         1415,
         11,
         983833370
        ],
        [
         314,
         "Maria Oliveira",
         "cliente314@exemplo.com",
         "Avenida Atlântica",
         1617,
         11,
         970751164
        ],
        [
         315,
         "João Silva",
         "cliente315@exemplo.com",
         "Rua das Flores",
         123,
         11,
         959526163
        ],
        [
         316,
         "Ana Souza",
         "cliente316@exemplo.com",
         "Praça da Sé",
         789,
         11,
         964703883
        ],
        [
         317,
         "Mariana Rocha",
         "cliente317@exemplo.com",
         "Praça da Sé",
         789,
         11,
         997138115
        ],
        [
         318,
         "Fernanda Lima",
         "cliente318@exemplo.com",
         "Avenida Paulista",
         456,
         11,
         972589060
        ],
        [
         319,
         "João Silva",
         "cliente319@exemplo.com",
         "Rua das Palmeiras",
         1819,
         11,
         919775625
        ],
        [
         320,
         "Paulo Almeida",
         "cliente320@exemplo.com",
         "Rua Augusta",
         1011,
         11,
         927293222
        ],
        [
         321,
         "Pedro Santos",
         "cliente321@exemplo.com",
         "Praça da Sé",
         789,
         11,
         922084733
        ],
        [
         322,
         "Lucas Fernandes",
         "cliente322@exemplo.com",
         "Rua das Flores",
         123,
         11,
         945525967
        ],
        [
         323,
         "Maria Oliveira",
         "cliente323@exemplo.com",
         "Rua da Consolação",
         2223,
         11,
         911321696
        ],
        [
         324,
         "Pedro Santos",
         "cliente324@exemplo.com",
         "Rua das Palmeiras",
         1819,
         11,
         923078607
        ],
        [
         325,
         "Paulo Almeida",
         "cliente325@exemplo.com",
         "Rua das Flores",
         123,
         11,
         941454314
        ],
        [
         326,
         "Mariana Rocha",
         "cliente326@exemplo.com",
         "Rua Augusta",
         1011,
         11,
         971725879
        ],
        [
         327,
         "Lucas Fernandes",
         "cliente327@exemplo.com",
         "Avenida Atlântica",
         1617,
         11,
         914407078
        ],
        [
         328,
         "Pedro Santos",
         "cliente328@exemplo.com",
         "Rua XV de Novembro",
         1415,
         11,
         935463764
        ],
        [
         329,
         "Juliana Costa",
         "cliente329@exemplo.com",
         "Praça da Sé",
         789,
         11,
         969985549
        ],
        [
         330,
         "Fernanda Lima",
         "cliente330@exemplo.com",
         "Praça da Sé",
         789,
         11,
         984987210
        ],
        [
         331,
         "Juliana Costa",
         "cliente331@exemplo.com",
         "Avenida Brasil",
         1213,
         11,
         982485146
        ],
        [
         332,
         "Carlos Pereira",
         "cliente332@exemplo.com",
         "Avenida Atlântica",
         1617,
         11,
         926319250
        ],
        [
         333,
         "João Silva",
         "cliente333@exemplo.com",
         "Rua XV de Novembro",
         1415,
         11,
         989823267
        ],
        [
         334,
         "Paulo Almeida",
         "cliente334@exemplo.com",
         "Rua da Consolação",
         2223,
         11,
         995186130
        ],
        [
         335,
         "Fernanda Lima",
         "cliente335@exemplo.com",
         "Rua XV de Novembro",
         1415,
         11,
         959208403
        ],
        [
         336,
         "Ana Souza",
         "cliente336@exemplo.com",
         "Avenida Atlântica",
         1617,
         11,
         984954301
        ],
        [
         337,
         "Mariana Rocha",
         "cliente337@exemplo.com",
         "Avenida Brasil",
         1213,
         11,
         933677426
        ],
        [
         338,
         "João Silva",
         "cliente338@exemplo.com",
         "Avenida Brasil",
         1213,
         11,
         971778250
        ],
        [
         339,
         "Maria Oliveira",
         "cliente339@exemplo.com",
         "Avenida Ipiranga",
         2021,
         11,
         976354732
        ],
        [
         340,
         "Lucas Fernandes",
         "cliente340@exemplo.com",
         "Avenida Atlântica",
         1617,
         11,
         958286782
        ],
        [
         341,
         "Fernanda Lima",
         "cliente341@exemplo.com",
         "Rua da Consolação",
         2223,
         11,
         981906398
        ],
        [
         342,
         "Carlos Pereira",
         "cliente342@exemplo.com",
         "Avenida Paulista",
         456,
         11,
         955584674
        ],
        [
         343,
         "João Silva",
         "cliente343@exemplo.com",
         "Rua da Consolação",
         2223,
         11,
         948667586
        ],
        [
         344,
         "Mariana Rocha",
         "cliente344@exemplo.com",
         "Rua das Flores",
         123,
         11,
         943106375
        ],
        [
         345,
         "Paulo Almeida",
         "cliente345@exemplo.com",
         "Avenida Brasil",
         1213,
         11,
         965803298
        ],
        [
         346,
         "João Silva",
         "cliente346@exemplo.com",
         "Rua das Flores",
         123,
         11,
         962871363
        ],
        [
         347,
         "Pedro Santos",
         "cliente347@exemplo.com",
         "Rua Augusta",
         1011,
         11,
         914167112
        ],
        [
         348,
         "Fernanda Lima",
         "cliente348@exemplo.com",
         "Rua da Consolação",
         2223,
         11,
         966174922
        ],
        [
         349,
         "Lucas Fernandes",
         "cliente349@exemplo.com",
         "Rua XV de Novembro",
         1415,
         11,
         914088258
        ],
        [
         350,
         "Lucas Fernandes",
         "cliente350@exemplo.com",
         "Avenida Paulista",
         456,
         11,
         985204932
        ],
        [
         351,
         "Pedro Santos",
         "cliente351@exemplo.com",
         "Avenida Ipiranga",
         2021,
         11,
         995345994
        ],
        [
         352,
         "Lucas Fernandes",
         "cliente352@exemplo.com",
         "Rua das Palmeiras",
         1819,
         11,
         975989000
        ],
        [
         353,
         "Pedro Santos",
         "cliente353@exemplo.com",
         "Praça da Sé",
         789,
         11,
         952993895
        ],
        [
         354,
         "Ana Souza",
         "cliente354@exemplo.com",
         "Avenida Brasil",
         1213,
         11,
         920562647
        ],
        [
         355,
         "Carlos Pereira",
         "cliente355@exemplo.com",
         "Avenida Ipiranga",
         2021,
         11,
         964255135
        ],
        [
         356,
         "Juliana Costa",
         "cliente356@exemplo.com",
         "Avenida Brasil",
         1213,
         11,
         950956457
        ],
        [
         357,
         "Lucas Fernandes",
         "cliente357@exemplo.com",
         "Avenida Ipiranga",
         2021,
         11,
         990177598
        ],
        [
         358,
         "Fernanda Lima",
         "cliente358@exemplo.com",
         "Rua Augusta",
         1011,
         11,
         994017902
        ],
        [
         359,
         "Maria Oliveira",
         "cliente359@exemplo.com",
         "Praça da Sé",
         789,
         11,
         972206881
        ],
        [
         360,
         "Carlos Pereira",
         "cliente360@exemplo.com",
         "Avenida Brasil",
         1213,
         11,
         956885437
        ],
        [
         361,
         "João Silva",
         "cliente361@exemplo.com",
         "Avenida Paulista",
         456,
         11,
         966315139
        ],
        [
         362,
         "Juliana Costa",
         "cliente362@exemplo.com",
         "Rua XV de Novembro",
         1415,
         11,
         924621410
        ],
        [
         363,
         "Carlos Pereira",
         "cliente363@exemplo.com",
         "Rua das Palmeiras",
         1819,
         11,
         914704716
        ],
        [
         364,
         "Maria Oliveira",
         "cliente364@exemplo.com",
         "Avenida Ipiranga",
         2021,
         11,
         949098575
        ],
        [
         365,
         "Paulo Almeida",
         "cliente365@exemplo.com",
         "Rua da Consolação",
         2223,
         11,
         973702913
        ],
        [
         366,
         "Carlos Pereira",
         "cliente366@exemplo.com",
         "Rua Augusta",
         1011,
         11,
         985113048
        ],
        [
         367,
         "Carlos Pereira",
         "cliente367@exemplo.com",
         "Rua da Consolação",
         2223,
         11,
         926127834
        ],
        [
         368,
         "Ana Souza",
         "cliente368@exemplo.com",
         "Rua XV de Novembro",
         1415,
         11,
         920991142
        ],
        [
         369,
         "Pedro Santos",
         "cliente369@exemplo.com",
         "Avenida Paulista",
         456,
         11,
         918255753
        ],
        [
         370,
         "Fernanda Lima",
         "cliente370@exemplo.com",
         "Avenida Atlântica",
         1617,
         11,
         936326068
        ],
        [
         371,
         "Fernanda Lima",
         "cliente371@exemplo.com",
         "Avenida Ipiranga",
         2021,
         11,
         961512790
        ],
        [
         372,
         "Pedro Santos",
         "cliente372@exemplo.com",
         "Praça da Sé",
         789,
         11,
         999526219
        ],
        [
         373,
         "Pedro Santos",
         "cliente373@exemplo.com",
         "Avenida Atlântica",
         1617,
         11,
         950661031
        ],
        [
         374,
         "João Silva",
         "cliente374@exemplo.com",
         "Praça da Sé",
         789,
         11,
         921472587
        ],
        [
         375,
         "Ana Souza",
         "cliente375@exemplo.com",
         "Avenida Atlântica",
         1617,
         11,
         987118360
        ],
        [
         376,
         "Fernanda Lima",
         "cliente376@exemplo.com",
         "Avenida Ipiranga",
         2021,
         11,
         922926054
        ],
        [
         377,
         "Fernanda Lima",
         "cliente377@exemplo.com",
         "Avenida Ipiranga",
         2021,
         11,
         950858127
        ],
        [
         378,
         "Ana Souza",
         "cliente378@exemplo.com",
         "Praça da Sé",
         789,
         11,
         955798509
        ],
        [
         379,
         "Juliana Costa",
         "cliente379@exemplo.com",
         "Rua da Consolação",
         2223,
         11,
         956935709
        ],
        [
         380,
         "Fernanda Lima",
         "cliente380@exemplo.com",
         "Rua da Consolação",
         2223,
         11,
         912311707
        ],
        [
         381,
         "Ana Souza",
         "cliente381@exemplo.com",
         "Avenida Paulista",
         456,
         11,
         976029224
        ],
        [
         382,
         "Carlos Pereira",
         "cliente382@exemplo.com",
         "Rua Augusta",
         1011,
         11,
         944002513
        ],
        [
         383,
         "Paulo Almeida",
         "cliente383@exemplo.com",
         "Rua das Palmeiras",
         1819,
         11,
         959182770
        ],
        [
         384,
         "João Silva",
         "cliente384@exemplo.com",
         "Avenida Atlântica",
         1617,
         11,
         997047225
        ],
        [
         385,
         "Lucas Fernandes",
         "cliente385@exemplo.com",
         "Avenida Paulista",
         456,
         11,
         978625847
        ],
        [
         386,
         "Mariana Rocha",
         "cliente386@exemplo.com",
         "Avenida Brasil",
         1213,
         11,
         943945595
        ],
        [
         387,
         "João Silva",
         "cliente387@exemplo.com",
         "Rua XV de Novembro",
         1415,
         11,
         946418152
        ],
        [
         388,
         "Pedro Santos",
         "cliente388@exemplo.com",
         "Rua da Consolação",
         2223,
         11,
         941104079
        ],
        [
         389,
         "Paulo Almeida",
         "cliente389@exemplo.com",
         "Rua Augusta",
         1011,
         11,
         914192175
        ],
        [
         390,
         "Juliana Costa",
         "cliente390@exemplo.com",
         "Praça da Sé",
         789,
         11,
         976863721
        ],
        [
         391,
         "Pedro Santos",
         "cliente391@exemplo.com",
         "Avenida Brasil",
         1213,
         11,
         923894714
        ],
        [
         392,
         "Mariana Rocha",
         "cliente392@exemplo.com",
         "Rua das Flores",
         123,
         11,
         934762912
        ],
        [
         393,
         "Fernanda Lima",
         "cliente393@exemplo.com",
         "Rua das Flores",
         123,
         11,
         944075296
        ],
        [
         394,
         "Ana Souza",
         "cliente394@exemplo.com",
         "Rua Augusta",
         1011,
         11,
         912782863
        ],
        [
         395,
         "Fernanda Lima",
         "cliente395@exemplo.com",
         "Rua Augusta",
         1011,
         11,
         980398203
        ],
        [
         396,
         "Maria Oliveira",
         "cliente396@exemplo.com",
         "Avenida Brasil",
         1213,
         11,
         961847882
        ],
        [
         397,
         "Mariana Rocha",
         "cliente397@exemplo.com",
         "Rua Augusta",
         1011,
         11,
         987269500
        ],
        [
         398,
         "João Silva",
         "cliente398@exemplo.com",
         "Avenida Ipiranga",
         2021,
         11,
         966496490
        ],
        [
         399,
         "João Silva",
         "cliente399@exemplo.com",
         "Rua das Flores",
         123,
         11,
         974013578
        ],
        [
         400,
         "Fernanda Lima",
         "cliente400@exemplo.com",
         "Avenida Brasil",
         1213,
         11,
         919697301
        ],
        [
         401,
         "Mariana Rocha",
         "cliente401@exemplo.com",
         "Avenida Brasil",
         1213,
         11,
         965996186
        ],
        [
         402,
         "Maria Oliveira",
         "cliente402@exemplo.com",
         "Rua Augusta",
         1011,
         11,
         930248772
        ],
        [
         403,
         "Lucas Fernandes",
         "cliente403@exemplo.com",
         "Rua XV de Novembro",
         1415,
         11,
         928484704
        ],
        [
         404,
         "Maria Oliveira",
         "cliente404@exemplo.com",
         "Rua das Palmeiras",
         1819,
         11,
         946211386
        ],
        [
         405,
         "Juliana Costa",
         "cliente405@exemplo.com",
         "Praça da Sé",
         789,
         11,
         930986174
        ],
        [
         406,
         "Ana Souza",
         "cliente406@exemplo.com",
         "Rua das Flores",
         123,
         11,
         978831905
        ],
        [
         407,
         "Lucas Fernandes",
         "cliente407@exemplo.com",
         "Rua das Palmeiras",
         1819,
         11,
         969813772
        ],
        [
         408,
         "João Silva",
         "cliente408@exemplo.com",
         "Rua da Consolação",
         2223,
         11,
         971873006
        ],
        [
         409,
         "Pedro Santos",
         "cliente409@exemplo.com",
         "Avenida Ipiranga",
         2021,
         11,
         926788141
        ],
        [
         410,
         "Mariana Rocha",
         "cliente410@exemplo.com",
         "Rua das Palmeiras",
         1819,
         11,
         995884553
        ],
        [
         411,
         "Carlos Pereira",
         "cliente411@exemplo.com",
         "Avenida Paulista",
         456,
         11,
         933747996
        ],
        [
         412,
         "Paulo Almeida",
         "cliente412@exemplo.com",
         "Praça da Sé",
         789,
         11,
         940603547
        ],
        [
         413,
         "Fernanda Lima",
         "cliente413@exemplo.com",
         "Rua da Consolação",
         2223,
         11,
         985536098
        ],
        [
         414,
         "Pedro Santos",
         "cliente414@exemplo.com",
         "Avenida Atlântica",
         1617,
         11,
         951833012
        ],
        [
         415,
         "Carlos Pereira",
         "cliente415@exemplo.com",
         "Rua da Consolação",
         2223,
         11,
         952266165
        ],
        [
         416,
         "Lucas Fernandes",
         "cliente416@exemplo.com",
         "Rua da Consolação",
         2223,
         11,
         952247187
        ],
        [
         417,
         "Fernanda Lima",
         "cliente417@exemplo.com",
         "Praça da Sé",
         789,
         11,
         992556026
        ],
        [
         418,
         "Maria Oliveira",
         "cliente418@exemplo.com",
         "Avenida Paulista",
         456,
         11,
         957397655
        ],
        [
         419,
         "Maria Oliveira",
         "cliente419@exemplo.com",
         "Praça da Sé",
         789,
         11,
         977076318
        ],
        [
         420,
         "Pedro Santos",
         "cliente420@exemplo.com",
         "Avenida Brasil",
         1213,
         11,
         956789027
        ],
        [
         421,
         "João Silva",
         "cliente421@exemplo.com",
         "Avenida Brasil",
         1213,
         11,
         943072645
        ],
        [
         422,
         "Lucas Fernandes",
         "cliente422@exemplo.com",
         "Avenida Ipiranga",
         2021,
         11,
         934467777
        ],
        [
         423,
         "Carlos Pereira",
         "cliente423@exemplo.com",
         "Rua das Palmeiras",
         1819,
         11,
         984318937
        ],
        [
         424,
         "Pedro Santos",
         "cliente424@exemplo.com",
         "Rua Augusta",
         1011,
         11,
         949535597
        ],
        [
         425,
         "Lucas Fernandes",
         "cliente425@exemplo.com",
         "Avenida Atlântica",
         1617,
         11,
         938972295
        ],
        [
         426,
         "Ana Souza",
         "cliente426@exemplo.com",
         "Avenida Atlântica",
         1617,
         11,
         964917289
        ],
        [
         427,
         "Maria Oliveira",
         "cliente427@exemplo.com",
         "Avenida Ipiranga",
         2021,
         11,
         959487121
        ],
        [
         428,
         "Carlos Pereira",
         "cliente428@exemplo.com",
         "Rua das Palmeiras",
         1819,
         11,
         969924702
        ],
        [
         429,
         "Mariana Rocha",
         "cliente429@exemplo.com",
         "Avenida Atlântica",
         1617,
         11,
         919733719
        ],
        [
         430,
         "Carlos Pereira",
         "cliente430@exemplo.com",
         "Avenida Ipiranga",
         2021,
         11,
         918275106
        ],
        [
         431,
         "Maria Oliveira",
         "cliente431@exemplo.com",
         "Avenida Ipiranga",
         2021,
         11,
         997078925
        ],
        [
         432,
         "Lucas Fernandes",
         "cliente432@exemplo.com",
         "Avenida Atlântica",
         1617,
         11,
         911042604
        ],
        [
         433,
         "Fernanda Lima",
         "cliente433@exemplo.com",
         "Praça da Sé",
         789,
         11,
         999285756
        ],
        [
         434,
         "Juliana Costa",
         "cliente434@exemplo.com",
         "Rua das Palmeiras",
         1819,
         11,
         943391041
        ],
        [
         435,
         "Paulo Almeida",
         "cliente435@exemplo.com",
         "Avenida Paulista",
         456,
         11,
         922332882
        ],
        [
         436,
         "Maria Oliveira",
         "cliente436@exemplo.com",
         "Rua Augusta",
         1011,
         11,
         992142543
        ],
        [
         437,
         "Fernanda Lima",
         "cliente437@exemplo.com",
         "Rua da Consolação",
         2223,
         11,
         954125797
        ],
        [
         438,
         "Lucas Fernandes",
         "cliente438@exemplo.com",
         "Rua XV de Novembro",
         1415,
         11,
         942322498
        ],
        [
         439,
         "Carlos Pereira",
         "cliente439@exemplo.com",
         "Rua da Consolação",
         2223,
         11,
         935534140
        ],
        [
         440,
         "Paulo Almeida",
         "cliente440@exemplo.com",
         "Avenida Paulista",
         456,
         11,
         957097324
        ],
        [
         441,
         "Lucas Fernandes",
         "cliente441@exemplo.com",
         "Rua XV de Novembro",
         1415,
         11,
         981222980
        ],
        [
         442,
         "João Silva",
         "cliente442@exemplo.com",
         "Rua das Palmeiras",
         1819,
         11,
         942758607
        ],
        [
         443,
         "Juliana Costa",
         "cliente443@exemplo.com",
         "Rua da Consolação",
         2223,
         11,
         919673028
        ],
        [
         444,
         "Juliana Costa",
         "cliente444@exemplo.com",
         "Rua das Palmeiras",
         1819,
         11,
         939622384
        ],
        [
         445,
         "Paulo Almeida",
         "cliente445@exemplo.com",
         "Rua Augusta",
         1011,
         11,
         933643705
        ],
        [
         446,
         "Lucas Fernandes",
         "cliente446@exemplo.com",
         "Avenida Paulista",
         456,
         11,
         995953188
        ],
        [
         447,
         "Carlos Pereira",
         "cliente447@exemplo.com",
         "Avenida Ipiranga",
         2021,
         11,
         933567498
        ],
        [
         448,
         "Lucas Fernandes",
         "cliente448@exemplo.com",
         "Avenida Paulista",
         456,
         11,
         993402215
        ],
        [
         449,
         "Juliana Costa",
         "cliente449@exemplo.com",
         "Avenida Brasil",
         1213,
         11,
         954285336
        ],
        [
         450,
         "Lucas Fernandes",
         "cliente450@exemplo.com",
         "Rua Augusta",
         1011,
         11,
         969294741
        ],
        [
         451,
         "João Silva",
         "cliente451@exemplo.com",
         "Avenida Paulista",
         456,
         11,
         988933903
        ],
        [
         452,
         "Ana Souza",
         "cliente452@exemplo.com",
         "Rua Augusta",
         1011,
         11,
         944184926
        ],
        [
         453,
         "Maria Oliveira",
         "cliente453@exemplo.com",
         "Rua Augusta",
         1011,
         11,
         936564077
        ],
        [
         454,
         "Carlos Pereira",
         "cliente454@exemplo.com",
         "Avenida Atlântica",
         1617,
         11,
         981121017
        ],
        [
         455,
         "Paulo Almeida",
         "cliente455@exemplo.com",
         "Rua das Palmeiras",
         1819,
         11,
         944485962
        ],
        [
         456,
         "Mariana Rocha",
         "cliente456@exemplo.com",
         "Avenida Brasil",
         1213,
         11,
         913783830
        ],
        [
         457,
         "Paulo Almeida",
         "cliente457@exemplo.com",
         "Avenida Ipiranga",
         2021,
         11,
         913679939
        ],
        [
         458,
         "Ana Souza",
         "cliente458@exemplo.com",
         "Avenida Atlântica",
         1617,
         11,
         984188004
        ],
        [
         459,
         "Ana Souza",
         "cliente459@exemplo.com",
         "Praça da Sé",
         789,
         11,
         929927591
        ],
        [
         460,
         "Juliana Costa",
         "cliente460@exemplo.com",
         "Avenida Ipiranga",
         2021,
         11,
         957365618
        ],
        [
         461,
         "Mariana Rocha",
         "cliente461@exemplo.com",
         "Rua das Flores",
         123,
         11,
         968021312
        ],
        [
         462,
         "Paulo Almeida",
         "cliente462@exemplo.com",
         "Rua das Palmeiras",
         1819,
         11,
         957218742
        ],
        [
         463,
         "Mariana Rocha",
         "cliente463@exemplo.com",
         "Rua da Consolação",
         2223,
         11,
         924254595
        ],
        [
         464,
         "Maria Oliveira",
         "cliente464@exemplo.com",
         "Rua XV de Novembro",
         1415,
         11,
         936106003
        ],
        [
         465,
         "Carlos Pereira",
         "cliente465@exemplo.com",
         "Rua Augusta",
         1011,
         11,
         919876275
        ],
        [
         466,
         "Paulo Almeida",
         "cliente466@exemplo.com",
         "Rua da Consolação",
         2223,
         11,
         980105864
        ],
        [
         467,
         "Fernanda Lima",
         "cliente467@exemplo.com",
         "Rua XV de Novembro",
         1415,
         11,
         936113761
        ],
        [
         468,
         "Paulo Almeida",
         "cliente468@exemplo.com",
         "Rua XV de Novembro",
         1415,
         11,
         943181408
        ],
        [
         469,
         "Carlos Pereira",
         "cliente469@exemplo.com",
         "Rua da Consolação",
         2223,
         11,
         910226728
        ],
        [
         470,
         "Paulo Almeida",
         "cliente470@exemplo.com",
         "Rua das Palmeiras",
         1819,
         11,
         965902119
        ],
        [
         471,
         "Carlos Pereira",
         "cliente471@exemplo.com",
         "Avenida Paulista",
         456,
         11,
         987699543
        ],
        [
         472,
         "Maria Oliveira",
         "cliente472@exemplo.com",
         "Avenida Brasil",
         1213,
         11,
         935932179
        ],
        [
         473,
         "Juliana Costa",
         "cliente473@exemplo.com",
         "Rua das Palmeiras",
         1819,
         11,
         968394069
        ],
        [
         474,
         "Mariana Rocha",
         "cliente474@exemplo.com",
         "Rua das Palmeiras",
         1819,
         11,
         984871428
        ],
        [
         475,
         "Carlos Pereira",
         "cliente475@exemplo.com",
         "Praça da Sé",
         789,
         11,
         966821111
        ],
        [
         476,
         "Juliana Costa",
         "cliente476@exemplo.com",
         "Avenida Paulista",
         456,
         11,
         948835423
        ],
        [
         477,
         "Paulo Almeida",
         "cliente477@exemplo.com",
         "Avenida Ipiranga",
         2021,
         11,
         978366814
        ],
        [
         478,
         "Paulo Almeida",
         "cliente478@exemplo.com",
         "Avenida Paulista",
         456,
         11,
         945454499
        ],
        [
         479,
         "Pedro Santos",
         "cliente479@exemplo.com",
         "Rua XV de Novembro",
         1415,
         11,
         988948142
        ],
        [
         480,
         "Fernanda Lima",
         "cliente480@exemplo.com",
         "Rua XV de Novembro",
         1415,
         11,
         964635273
        ],
        [
         481,
         "Juliana Costa",
         "cliente481@exemplo.com",
         "Avenida Paulista",
         456,
         11,
         941447873
        ],
        [
         482,
         "Maria Oliveira",
         "cliente482@exemplo.com",
         "Avenida Brasil",
         1213,
         11,
         979676343
        ],
        [
         483,
         "Carlos Pereira",
         "cliente483@exemplo.com",
         "Rua das Flores",
         123,
         11,
         972709725
        ],
        [
         484,
         "Lucas Fernandes",
         "cliente484@exemplo.com",
         "Rua Augusta",
         1011,
         11,
         921004587
        ],
        [
         485,
         "Ana Souza",
         "cliente485@exemplo.com",
         "Rua XV de Novembro",
         1415,
         11,
         937856056
        ],
        [
         486,
         "João Silva",
         "cliente486@exemplo.com",
         "Rua Augusta",
         1011,
         11,
         953773584
        ],
        [
         487,
         "Juliana Costa",
         "cliente487@exemplo.com",
         "Rua da Consolação",
         2223,
         11,
         947862364
        ],
        [
         488,
         "Ana Souza",
         "cliente488@exemplo.com",
         "Rua XV de Novembro",
         1415,
         11,
         929466625
        ],
        [
         489,
         "Pedro Santos",
         "cliente489@exemplo.com",
         "Avenida Paulista",
         456,
         11,
         972143953
        ],
        [
         490,
         "Ana Souza",
         "cliente490@exemplo.com",
         "Rua Augusta",
         1011,
         11,
         911392238
        ],
        [
         491,
         "Carlos Pereira",
         "cliente491@exemplo.com",
         "Avenida Ipiranga",
         2021,
         11,
         916646836
        ],
        [
         492,
         "Carlos Pereira",
         "cliente492@exemplo.com",
         "Rua da Consolação",
         2223,
         11,
         961823865
        ],
        [
         493,
         "Ana Souza",
         "cliente493@exemplo.com",
         "Avenida Brasil",
         1213,
         11,
         928735252
        ],
        [
         494,
         "Carlos Pereira",
         "cliente494@exemplo.com",
         "Rua da Consolação",
         2223,
         11,
         953256094
        ],
        [
         495,
         "Pedro Santos",
         "cliente495@exemplo.com",
         "Rua da Consolação",
         2223,
         11,
         955207409
        ],
        [
         496,
         "Carlos Pereira",
         "cliente496@exemplo.com",
         "Avenida Brasil",
         1213,
         11,
         955284486
        ],
        [
         497,
         "Juliana Costa",
         "cliente497@exemplo.com",
         "Avenida Atlântica",
         1617,
         11,
         977883315
        ],
        [
         498,
         "Lucas Fernandes",
         "cliente498@exemplo.com",
         "Rua XV de Novembro",
         1415,
         11,
         958245635
        ],
        [
         499,
         "Pedro Santos",
         "cliente499@exemplo.com",
         "Avenida Ipiranga",
         2021,
         11,
         939698346
        ],
        [
         500,
         "Carlos Pereira",
         "cliente500@exemplo.com",
         "Rua Augusta",
         1011,
         11,
         949548881
        ],
        [
         501,
         "Carlos Pereira",
         "cliente501@exemplo.com",
         "Praça da Sé",
         789,
         11,
         961443817
        ],
        [
         502,
         "Fernanda Lima",
         "cliente502@exemplo.com",
         "Avenida Ipiranga",
         2021,
         11,
         978639487
        ],
        [
         503,
         "João Silva",
         "cliente503@exemplo.com",
         "Rua Augusta",
         1011,
         11,
         946733705
        ],
        [
         504,
         "Mariana Rocha",
         "cliente504@exemplo.com",
         "Avenida Paulista",
         456,
         11,
         928648372
        ],
        [
         505,
         "Fernanda Lima",
         "cliente505@exemplo.com",
         "Rua Augusta",
         1011,
         11,
         976442739
        ],
        [
         506,
         "Maria Oliveira",
         "cliente506@exemplo.com",
         "Rua XV de Novembro",
         1415,
         11,
         933131327
        ],
        [
         507,
         "Fernanda Lima",
         "cliente507@exemplo.com",
         "Avenida Brasil",
         1213,
         11,
         989685158
        ],
        [
         508,
         "Fernanda Lima",
         "cliente508@exemplo.com",
         "Praça da Sé",
         789,
         11,
         992142618
        ],
        [
         509,
         "João Silva",
         "cliente509@exemplo.com",
         "Rua Augusta",
         1011,
         11,
         938033855
        ],
        [
         510,
         "Ana Souza",
         "cliente510@exemplo.com",
         "Rua das Flores",
         123,
         11,
         965898455
        ],
        [
         511,
         "Pedro Santos",
         "cliente511@exemplo.com",
         "Rua Augusta",
         1011,
         11,
         978025039
        ],
        [
         512,
         "Paulo Almeida",
         "cliente512@exemplo.com",
         "Rua das Palmeiras",
         1819,
         11,
         996573780
        ],
        [
         513,
         "Carlos Pereira",
         "cliente513@exemplo.com",
         "Rua das Palmeiras",
         1819,
         11,
         945991208
        ],
        [
         514,
         "Ana Souza",
         "cliente514@exemplo.com",
         "Rua XV de Novembro",
         1415,
         11,
         944729472
        ],
        [
         515,
         "João Silva",
         "cliente515@exemplo.com",
         "Praça da Sé",
         789,
         11,
         936524762
        ],
        [
         516,
         "Carlos Pereira",
         "cliente516@exemplo.com",
         "Rua Augusta",
         1011,
         11,
         946556726
        ],
        [
         517,
         "Pedro Santos",
         "cliente517@exemplo.com",
         "Rua das Flores",
         123,
         11,
         964132964
        ],
        [
         518,
         "João Silva",
         "cliente518@exemplo.com",
         "Avenida Paulista",
         456,
         11,
         926616750
        ],
        [
         519,
         "Lucas Fernandes",
         "cliente519@exemplo.com",
         "Rua das Flores",
         123,
         11,
         955209671
        ],
        [
         520,
         "Juliana Costa",
         "cliente520@exemplo.com",
         "Rua das Flores",
         123,
         11,
         978783980
        ],
        [
         521,
         "João Silva",
         "cliente521@exemplo.com",
         "Praça da Sé",
         789,
         11,
         913944133
        ],
        [
         522,
         "Lucas Fernandes",
         "cliente522@exemplo.com",
         "Praça da Sé",
         789,
         11,
         953105130
        ],
        [
         523,
         "Pedro Santos",
         "cliente523@exemplo.com",
         "Rua da Consolação",
         2223,
         11,
         990231927
        ],
        [
         524,
         "Lucas Fernandes",
         "cliente524@exemplo.com",
         "Praça da Sé",
         789,
         11,
         999366802
        ],
        [
         525,
         "Lucas Fernandes",
         "cliente525@exemplo.com",
         "Rua das Flores",
         123,
         11,
         929157141
        ],
        [
         526,
         "Paulo Almeida",
         "cliente526@exemplo.com",
         "Avenida Atlântica",
         1617,
         11,
         986383736
        ],
        [
         527,
         "Paulo Almeida",
         "cliente527@exemplo.com",
         "Avenida Brasil",
         1213,
         11,
         914223466
        ],
        [
         528,
         "Fernanda Lima",
         "cliente528@exemplo.com",
         "Avenida Paulista",
         456,
         11,
         923517178
        ],
        [
         529,
         "Fernanda Lima",
         "cliente529@exemplo.com",
         "Rua Augusta",
         1011,
         11,
         959145166
        ],
        [
         530,
         "Mariana Rocha",
         "cliente530@exemplo.com",
         "Avenida Atlântica",
         1617,
         11,
         939368624
        ],
        [
         531,
         "Juliana Costa",
         "cliente531@exemplo.com",
         "Rua Augusta",
         1011,
         11,
         918947845
        ],
        [
         532,
         "Pedro Santos",
         "cliente532@exemplo.com",
         "Avenida Ipiranga",
         2021,
         11,
         927097095
        ],
        [
         533,
         "Maria Oliveira",
         "cliente533@exemplo.com",
         "Avenida Atlântica",
         1617,
         11,
         929529706
        ],
        [
         534,
         "Maria Oliveira",
         "cliente534@exemplo.com",
         "Rua XV de Novembro",
         1415,
         11,
         945575180
        ],
        [
         535,
         "João Silva",
         "cliente535@exemplo.com",
         "Avenida Ipiranga",
         2021,
         11,
         925946394
        ],
        [
         536,
         "Juliana Costa",
         "cliente536@exemplo.com",
         "Praça da Sé",
         789,
         11,
         992196486
        ],
        [
         537,
         "Mariana Rocha",
         "cliente537@exemplo.com",
         "Avenida Paulista",
         456,
         11,
         960968915
        ],
        [
         538,
         "Pedro Santos",
         "cliente538@exemplo.com",
         "Avenida Ipiranga",
         2021,
         11,
         959449838
        ],
        [
         539,
         "Lucas Fernandes",
         "cliente539@exemplo.com",
         "Rua Augusta",
         1011,
         11,
         971249012
        ],
        [
         540,
         "Pedro Santos",
         "cliente540@exemplo.com",
         "Praça da Sé",
         789,
         11,
         954237707
        ],
        [
         541,
         "Maria Oliveira",
         "cliente541@exemplo.com",
         "Praça da Sé",
         789,
         11,
         990354976
        ],
        [
         542,
         "Ana Souza",
         "cliente542@exemplo.com",
         "Rua Augusta",
         1011,
         11,
         931488208
        ],
        [
         543,
         "Juliana Costa",
         "cliente543@exemplo.com",
         "Rua da Consolação",
         2223,
         11,
         943074527
        ],
        [
         544,
         "Maria Oliveira",
         "cliente544@exemplo.com",
         "Rua das Palmeiras",
         1819,
         11,
         989445714
        ],
        [
         545,
         "Maria Oliveira",
         "cliente545@exemplo.com",
         "Avenida Paulista",
         456,
         11,
         910276580
        ],
        [
         546,
         "Mariana Rocha",
         "cliente546@exemplo.com",
         "Avenida Paulista",
         456,
         11,
         955075391
        ],
        [
         547,
         "Carlos Pereira",
         "cliente547@exemplo.com",
         "Rua das Flores",
         123,
         11,
         925495390
        ],
        [
         548,
         "Ana Souza",
         "cliente548@exemplo.com",
         "Rua das Palmeiras",
         1819,
         11,
         938915805
        ],
        [
         549,
         "Fernanda Lima",
         "cliente549@exemplo.com",
         "Rua das Palmeiras",
         1819,
         11,
         989832844
        ],
        [
         550,
         "Paulo Almeida",
         "cliente550@exemplo.com",
         "Rua das Palmeiras",
         1819,
         11,
         941912958
        ],
        [
         551,
         "Maria Oliveira",
         "cliente551@exemplo.com",
         "Rua Augusta",
         1011,
         11,
         938115804
        ],
        [
         552,
         "Carlos Pereira",
         "cliente552@exemplo.com",
         "Praça da Sé",
         789,
         11,
         920475390
        ],
        [
         553,
         "Ana Souza",
         "cliente553@exemplo.com",
         "Rua das Flores",
         123,
         11,
         934538007
        ],
        [
         554,
         "Lucas Fernandes",
         "cliente554@exemplo.com",
         "Praça da Sé",
         789,
         11,
         994457553
        ],
        [
         555,
         "Lucas Fernandes",
         "cliente555@exemplo.com",
         "Praça da Sé",
         789,
         11,
         955997622
        ],
        [
         556,
         "Paulo Almeida",
         "cliente556@exemplo.com",
         "Avenida Paulista",
         456,
         11,
         967051801
        ],
        [
         557,
         "Mariana Rocha",
         "cliente557@exemplo.com",
         "Avenida Atlântica",
         1617,
         11,
         978205406
        ],
        [
         558,
         "Juliana Costa",
         "cliente558@exemplo.com",
         "Avenida Ipiranga",
         2021,
         11,
         959732591
        ],
        [
         559,
         "João Silva",
         "cliente559@exemplo.com",
         "Praça da Sé",
         789,
         11,
         978774414
        ],
        [
         560,
         "Ana Souza",
         "cliente560@exemplo.com",
         "Avenida Brasil",
         1213,
         11,
         912433223
        ],
        [
         561,
         "Paulo Almeida",
         "cliente561@exemplo.com",
         "Avenida Ipiranga",
         2021,
         11,
         946995344
        ],
        [
         562,
         "Carlos Pereira",
         "cliente562@exemplo.com",
         "Rua das Palmeiras",
         1819,
         11,
         915229305
        ],
        [
         563,
         "Maria Oliveira",
         "cliente563@exemplo.com",
         "Avenida Paulista",
         456,
         11,
         937344359
        ],
        [
         564,
         "Lucas Fernandes",
         "cliente564@exemplo.com",
         "Rua Augusta",
         1011,
         11,
         995476978
        ],
        [
         565,
         "Pedro Santos",
         "cliente565@exemplo.com",
         "Praça da Sé",
         789,
         11,
         944089996
        ],
        [
         566,
         "Fernanda Lima",
         "cliente566@exemplo.com",
         "Rua das Flores",
         123,
         11,
         919222625
        ],
        [
         567,
         "João Silva",
         "cliente567@exemplo.com",
         "Praça da Sé",
         789,
         11,
         915179413
        ],
        [
         568,
         "Maria Oliveira",
         "cliente568@exemplo.com",
         "Rua das Palmeiras",
         1819,
         11,
         974137293
        ],
        [
         569,
         "João Silva",
         "cliente569@exemplo.com",
         "Avenida Paulista",
         456,
         11,
         924473370
        ],
        [
         570,
         "Fernanda Lima",
         "cliente570@exemplo.com",
         "Praça da Sé",
         789,
         11,
         923698605
        ],
        [
         571,
         "João Silva",
         "cliente571@exemplo.com",
         "Rua XV de Novembro",
         1415,
         11,
         926989288
        ],
        [
         572,
         "Pedro Santos",
         "cliente572@exemplo.com",
         "Rua XV de Novembro",
         1415,
         11,
         983476182
        ],
        [
         573,
         "Fernanda Lima",
         "cliente573@exemplo.com",
         "Rua da Consolação",
         2223,
         11,
         945999542
        ],
        [
         574,
         "Ana Souza",
         "cliente574@exemplo.com",
         "Avenida Ipiranga",
         2021,
         11,
         979411114
        ],
        [
         575,
         "Paulo Almeida",
         "cliente575@exemplo.com",
         "Rua Augusta",
         1011,
         11,
         985122266
        ],
        [
         576,
         "Paulo Almeida",
         "cliente576@exemplo.com",
         "Avenida Paulista",
         456,
         11,
         948212335
        ],
        [
         577,
         "Carlos Pereira",
         "cliente577@exemplo.com",
         "Avenida Atlântica",
         1617,
         11,
         971074815
        ],
        [
         578,
         "Lucas Fernandes",
         "cliente578@exemplo.com",
         "Rua das Flores",
         123,
         11,
         929573520
        ],
        [
         579,
         "Mariana Rocha",
         "cliente579@exemplo.com",
         "Avenida Brasil",
         1213,
         11,
         977854140
        ],
        [
         580,
         "Carlos Pereira",
         "cliente580@exemplo.com",
         "Rua XV de Novembro",
         1415,
         11,
         992361435
        ],
        [
         581,
         "Lucas Fernandes",
         "cliente581@exemplo.com",
         "Avenida Atlântica",
         1617,
         11,
         923801086
        ],
        [
         582,
         "Juliana Costa",
         "cliente582@exemplo.com",
         "Rua XV de Novembro",
         1415,
         11,
         966444811
        ],
        [
         583,
         "Fernanda Lima",
         "cliente583@exemplo.com",
         "Avenida Atlântica",
         1617,
         11,
         954296522
        ],
        [
         584,
         "Maria Oliveira",
         "cliente584@exemplo.com",
         "Avenida Atlântica",
         1617,
         11,
         971312550
        ],
        [
         585,
         "Fernanda Lima",
         "cliente585@exemplo.com",
         "Avenida Ipiranga",
         2021,
         11,
         913184119
        ],
        [
         586,
         "Maria Oliveira",
         "cliente586@exemplo.com",
         "Avenida Ipiranga",
         2021,
         11,
         951933123
        ],
        [
         587,
         "Mariana Rocha",
         "cliente587@exemplo.com",
         "Rua das Flores",
         123,
         11,
         957228426
        ],
        [
         588,
         "Fernanda Lima",
         "cliente588@exemplo.com",
         "Rua da Consolação",
         2223,
         11,
         991715620
        ],
        [
         589,
         "Maria Oliveira",
         "cliente589@exemplo.com",
         "Avenida Ipiranga",
         2021,
         11,
         993665590
        ],
        [
         590,
         "Fernanda Lima",
         "cliente590@exemplo.com",
         "Rua das Flores",
         123,
         11,
         977353863
        ],
        [
         591,
         "Mariana Rocha",
         "cliente591@exemplo.com",
         "Rua Augusta",
         1011,
         11,
         981236617
        ],
        [
         592,
         "Carlos Pereira",
         "cliente592@exemplo.com",
         "Avenida Ipiranga",
         2021,
         11,
         994242800
        ],
        [
         593,
         "Maria Oliveira",
         "cliente593@exemplo.com",
         "Rua das Flores",
         123,
         11,
         946333107
        ],
        [
         594,
         "Juliana Costa",
         "cliente594@exemplo.com",
         "Rua XV de Novembro",
         1415,
         11,
         926663031
        ],
        [
         595,
         "Paulo Almeida",
         "cliente595@exemplo.com",
         "Avenida Atlântica",
         1617,
         11,
         996232083
        ],
        [
         596,
         "Carlos Pereira",
         "cliente596@exemplo.com",
         "Avenida Paulista",
         456,
         11,
         928704216
        ],
        [
         597,
         "Lucas Fernandes",
         "cliente597@exemplo.com",
         "Rua das Palmeiras",
         1819,
         11,
         994019954
        ],
        [
         598,
         "João Silva",
         "cliente598@exemplo.com",
         "Rua XV de Novembro",
         1415,
         11,
         911566815
        ],
        [
         599,
         "Ana Souza",
         "cliente599@exemplo.com",
         "Avenida Atlântica",
         1617,
         11,
         993748320
        ],
        [
         600,
         "Fernanda Lima",
         "cliente600@exemplo.com",
         "Rua XV de Novembro",
         1415,
         11,
         925733894
        ],
        [
         601,
         "Carlos Pereira",
         "cliente601@exemplo.com",
         "Avenida Brasil",
         1213,
         11,
         966093684
        ],
        [
         602,
         "Lucas Fernandes",
         "cliente602@exemplo.com",
         "Rua Augusta",
         1011,
         11,
         947271193
        ],
        [
         603,
         "Fernanda Lima",
         "cliente603@exemplo.com",
         "Avenida Ipiranga",
         2021,
         11,
         961112764
        ],
        [
         604,
         "Lucas Fernandes",
         "cliente604@exemplo.com",
         "Rua Augusta",
         1011,
         11,
         996936663
        ],
        [
         605,
         "Pedro Santos",
         "cliente605@exemplo.com",
         "Avenida Paulista",
         456,
         11,
         958729758
        ],
        [
         606,
         "Juliana Costa",
         "cliente606@exemplo.com",
         "Praça da Sé",
         789,
         11,
         943013483
        ],
        [
         607,
         "Fernanda Lima",
         "cliente607@exemplo.com",
         "Rua das Palmeiras",
         1819,
         11,
         914172422
        ],
        [
         608,
         "Mariana Rocha",
         "cliente608@exemplo.com",
         "Praça da Sé",
         789,
         11,
         968699162
        ],
        [
         609,
         "João Silva",
         "cliente609@exemplo.com",
         "Avenida Brasil",
         1213,
         11,
         958912303
        ],
        [
         610,
         "Fernanda Lima",
         "cliente610@exemplo.com",
         "Rua XV de Novembro",
         1415,
         11,
         977016196
        ],
        [
         611,
         "Carlos Pereira",
         "cliente611@exemplo.com",
         "Avenida Brasil",
         1213,
         11,
         915058355
        ],
        [
         612,
         "Maria Oliveira",
         "cliente612@exemplo.com",
         "Rua XV de Novembro",
         1415,
         11,
         910013932
        ],
        [
         613,
         "Paulo Almeida",
         "cliente613@exemplo.com",
         "Avenida Brasil",
         1213,
         11,
         950725762
        ],
        [
         614,
         "Juliana Costa",
         "cliente614@exemplo.com",
         "Rua das Palmeiras",
         1819,
         11,
         911561454
        ],
        [
         615,
         "Fernanda Lima",
         "cliente615@exemplo.com",
         "Rua das Flores",
         123,
         11,
         960758897
        ],
        [
         616,
         "Pedro Santos",
         "cliente616@exemplo.com",
         "Avenida Ipiranga",
         2021,
         11,
         980255364
        ],
        [
         617,
         "Carlos Pereira",
         "cliente617@exemplo.com",
         "Avenida Paulista",
         456,
         11,
         928633913
        ],
        [
         618,
         "Fernanda Lima",
         "cliente618@exemplo.com",
         "Rua das Flores",
         123,
         11,
         928788863
        ],
        [
         619,
         "Lucas Fernandes",
         "cliente619@exemplo.com",
         "Rua XV de Novembro",
         1415,
         11,
         952826085
        ],
        [
         620,
         "João Silva",
         "cliente620@exemplo.com",
         "Avenida Brasil",
         1213,
         11,
         952252592
        ],
        [
         621,
         "Mariana Rocha",
         "cliente621@exemplo.com",
         "Rua XV de Novembro",
         1415,
         11,
         974385253
        ],
        [
         622,
         "Ana Souza",
         "cliente622@exemplo.com",
         "Avenida Ipiranga",
         2021,
         11,
         916783873
        ],
        [
         623,
         "João Silva",
         "cliente623@exemplo.com",
         "Avenida Ipiranga",
         2021,
         11,
         982885287
        ],
        [
         624,
         "Ana Souza",
         "cliente624@exemplo.com",
         "Rua da Consolação",
         2223,
         11,
         925497204
        ],
        [
         625,
         "João Silva",
         "cliente625@exemplo.com",
         "Praça da Sé",
         789,
         11,
         932908248
        ],
        [
         626,
         "Lucas Fernandes",
         "cliente626@exemplo.com",
         "Rua das Palmeiras",
         1819,
         11,
         985142046
        ],
        [
         627,
         "João Silva",
         "cliente627@exemplo.com",
         "Avenida Brasil",
         1213,
         11,
         911831385
        ],
        [
         628,
         "Pedro Santos",
         "cliente628@exemplo.com",
         "Avenida Brasil",
         1213,
         11,
         922136009
        ],
        [
         629,
         "Ana Souza",
         "cliente629@exemplo.com",
         "Rua XV de Novembro",
         1415,
         11,
         940079900
        ],
        [
         630,
         "Mariana Rocha",
         "cliente630@exemplo.com",
         "Avenida Ipiranga",
         2021,
         11,
         933354728
        ],
        [
         631,
         "Maria Oliveira",
         "cliente631@exemplo.com",
         "Avenida Ipiranga",
         2021,
         11,
         993733262
        ],
        [
         632,
         "Mariana Rocha",
         "cliente632@exemplo.com",
         "Rua das Palmeiras",
         1819,
         11,
         920696168
        ],
        [
         633,
         "Juliana Costa",
         "cliente633@exemplo.com",
         "Avenida Brasil",
         1213,
         11,
         980826217
        ],
        [
         634,
         "Lucas Fernandes",
         "cliente634@exemplo.com",
         "Rua da Consolação",
         2223,
         11,
         918644311
        ],
        [
         635,
         "Ana Souza",
         "cliente635@exemplo.com",
         "Rua das Flores",
         123,
         11,
         995256427
        ],
        [
         636,
         "Carlos Pereira",
         "cliente636@exemplo.com",
         "Rua das Flores",
         123,
         11,
         928472427
        ],
        [
         637,
         "Maria Oliveira",
         "cliente637@exemplo.com",
         "Rua XV de Novembro",
         1415,
         11,
         967526403
        ],
        [
         638,
         "Fernanda Lima",
         "cliente638@exemplo.com",
         "Avenida Brasil",
         1213,
         11,
         983283415
        ],
        [
         639,
         "Mariana Rocha",
         "cliente639@exemplo.com",
         "Rua XV de Novembro",
         1415,
         11,
         968116807
        ],
        [
         640,
         "Mariana Rocha",
         "cliente640@exemplo.com",
         "Avenida Paulista",
         456,
         11,
         921851906
        ],
        [
         641,
         "Lucas Fernandes",
         "cliente641@exemplo.com",
         "Rua das Palmeiras",
         1819,
         11,
         914379786
        ],
        [
         642,
         "Mariana Rocha",
         "cliente642@exemplo.com",
         "Avenida Brasil",
         1213,
         11,
         943039305
        ],
        [
         643,
         "Carlos Pereira",
         "cliente643@exemplo.com",
         "Rua XV de Novembro",
         1415,
         11,
         928024909
        ],
        [
         644,
         "Maria Oliveira",
         "cliente644@exemplo.com",
         "Rua Augusta",
         1011,
         11,
         958855897
        ],
        [
         645,
         "Mariana Rocha",
         "cliente645@exemplo.com",
         "Rua da Consolação",
         2223,
         11,
         925092057
        ],
        [
         646,
         "Juliana Costa",
         "cliente646@exemplo.com",
         "Rua das Palmeiras",
         1819,
         11,
         941714078
        ],
        [
         647,
         "João Silva",
         "cliente647@exemplo.com",
         "Rua XV de Novembro",
         1415,
         11,
         942965879
        ],
        [
         648,
         "Lucas Fernandes",
         "cliente648@exemplo.com",
         "Rua Augusta",
         1011,
         11,
         931649256
        ],
        [
         649,
         "Carlos Pereira",
         "cliente649@exemplo.com",
         "Praça da Sé",
         789,
         11,
         932092356
        ],
        [
         650,
         "Paulo Almeida",
         "cliente650@exemplo.com",
         "Rua Augusta",
         1011,
         11,
         963169766
        ],
        [
         651,
         "Ana Souza",
         "cliente651@exemplo.com",
         "Avenida Paulista",
         456,
         11,
         980801530
        ],
        [
         652,
         "Mariana Rocha",
         "cliente652@exemplo.com",
         "Avenida Atlântica",
         1617,
         11,
         913917923
        ],
        [
         653,
         "Mariana Rocha",
         "cliente653@exemplo.com",
         "Avenida Paulista",
         456,
         11,
         992216251
        ],
        [
         654,
         "Juliana Costa",
         "cliente654@exemplo.com",
         "Rua das Flores",
         123,
         11,
         917386538
        ],
        [
         655,
         "Maria Oliveira",
         "cliente655@exemplo.com",
         "Rua XV de Novembro",
         1415,
         11,
         986707350
        ],
        [
         656,
         "Lucas Fernandes",
         "cliente656@exemplo.com",
         "Rua das Flores",
         123,
         11,
         959975854
        ],
        [
         657,
         "Fernanda Lima",
         "cliente657@exemplo.com",
         "Avenida Brasil",
         1213,
         11,
         915048089
        ],
        [
         658,
         "Pedro Santos",
         "cliente658@exemplo.com",
         "Rua das Palmeiras",
         1819,
         11,
         949234119
        ],
        [
         659,
         "Paulo Almeida",
         "cliente659@exemplo.com",
         "Rua XV de Novembro",
         1415,
         11,
         938612279
        ],
        [
         660,
         "Fernanda Lima",
         "cliente660@exemplo.com",
         "Rua Augusta",
         1011,
         11,
         974794307
        ],
        [
         661,
         "Ana Souza",
         "cliente661@exemplo.com",
         "Rua das Flores",
         123,
         11,
         951301645
        ],
        [
         662,
         "Carlos Pereira",
         "cliente662@exemplo.com",
         "Rua XV de Novembro",
         1415,
         11,
         926145991
        ],
        [
         663,
         "Maria Oliveira",
         "cliente663@exemplo.com",
         "Praça da Sé",
         789,
         11,
         915547184
        ],
        [
         664,
         "Maria Oliveira",
         "cliente664@exemplo.com",
         "Rua das Flores",
         123,
         11,
         969605536
        ],
        [
         665,
         "Juliana Costa",
         "cliente665@exemplo.com",
         "Avenida Atlântica",
         1617,
         11,
         949517712
        ],
        [
         666,
         "Fernanda Lima",
         "cliente666@exemplo.com",
         "Rua das Palmeiras",
         1819,
         11,
         943655925
        ],
        [
         667,
         "Lucas Fernandes",
         "cliente667@exemplo.com",
         "Rua XV de Novembro",
         1415,
         11,
         920982186
        ],
        [
         668,
         "Maria Oliveira",
         "cliente668@exemplo.com",
         "Avenida Paulista",
         456,
         11,
         981153980
        ],
        [
         669,
         "Juliana Costa",
         "cliente669@exemplo.com",
         "Avenida Brasil",
         1213,
         11,
         978354343
        ],
        [
         670,
         "Fernanda Lima",
         "cliente670@exemplo.com",
         "Rua XV de Novembro",
         1415,
         11,
         972127321
        ],
        [
         671,
         "João Silva",
         "cliente671@exemplo.com",
         "Avenida Atlântica",
         1617,
         11,
         954021469
        ],
        [
         672,
         "Ana Souza",
         "cliente672@exemplo.com",
         "Avenida Atlântica",
         1617,
         11,
         933225369
        ],
        [
         673,
         "João Silva",
         "cliente673@exemplo.com",
         "Rua das Palmeiras",
         1819,
         11,
         923183414
        ],
        [
         674,
         "João Silva",
         "cliente674@exemplo.com",
         "Rua XV de Novembro",
         1415,
         11,
         913591727
        ],
        [
         675,
         "Paulo Almeida",
         "cliente675@exemplo.com",
         "Avenida Atlântica",
         1617,
         11,
         930462713
        ],
        [
         676,
         "Ana Souza",
         "cliente676@exemplo.com",
         "Rua das Palmeiras",
         1819,
         11,
         929139802
        ],
        [
         677,
         "Carlos Pereira",
         "cliente677@exemplo.com",
         "Avenida Paulista",
         456,
         11,
         995247489
        ],
        [
         678,
         "Juliana Costa",
         "cliente678@exemplo.com",
         "Rua das Palmeiras",
         1819,
         11,
         957463470
        ],
        [
         679,
         "Paulo Almeida",
         "cliente679@exemplo.com",
         "Praça da Sé",
         789,
         11,
         987123536
        ],
        [
         680,
         "João Silva",
         "cliente680@exemplo.com",
         "Rua da Consolação",
         2223,
         11,
         920459421
        ],
        [
         681,
         "Maria Oliveira",
         "cliente681@exemplo.com",
         "Avenida Ipiranga",
         2021,
         11,
         997666553
        ],
        [
         682,
         "Fernanda Lima",
         "cliente682@exemplo.com",
         "Rua Augusta",
         1011,
         11,
         997754770
        ],
        [
         683,
         "Lucas Fernandes",
         "cliente683@exemplo.com",
         "Rua das Palmeiras",
         1819,
         11,
         922873212
        ],
        [
         684,
         "Pedro Santos",
         "cliente684@exemplo.com",
         "Rua Augusta",
         1011,
         11,
         998413156
        ],
        [
         685,
         "Fernanda Lima",
         "cliente685@exemplo.com",
         "Rua das Palmeiras",
         1819,
         11,
         982743407
        ],
        [
         686,
         "João Silva",
         "cliente686@exemplo.com",
         "Rua da Consolação",
         2223,
         11,
         998377335
        ],
        [
         687,
         "Paulo Almeida",
         "cliente687@exemplo.com",
         "Avenida Ipiranga",
         2021,
         11,
         960964255
        ],
        [
         688,
         "Maria Oliveira",
         "cliente688@exemplo.com",
         "Avenida Brasil",
         1213,
         11,
         987649826
        ],
        [
         689,
         "Lucas Fernandes",
         "cliente689@exemplo.com",
         "Rua XV de Novembro",
         1415,
         11,
         924169342
        ],
        [
         690,
         "João Silva",
         "cliente690@exemplo.com",
         "Avenida Ipiranga",
         2021,
         11,
         985788241
        ],
        [
         691,
         "Ana Souza",
         "cliente691@exemplo.com",
         "Avenida Atlântica",
         1617,
         11,
         968819144
        ],
        [
         692,
         "Paulo Almeida",
         "cliente692@exemplo.com",
         "Rua das Flores",
         123,
         11,
         919372080
        ],
        [
         693,
         "Fernanda Lima",
         "cliente693@exemplo.com",
         "Rua da Consolação",
         2223,
         11,
         978079368
        ],
        [
         694,
         "Maria Oliveira",
         "cliente694@exemplo.com",
         "Rua da Consolação",
         2223,
         11,
         961577026
        ],
        [
         695,
         "Mariana Rocha",
         "cliente695@exemplo.com",
         "Praça da Sé",
         789,
         11,
         964925043
        ],
        [
         696,
         "Mariana Rocha",
         "cliente696@exemplo.com",
         "Avenida Brasil",
         1213,
         11,
         919625204
        ],
        [
         697,
         "Mariana Rocha",
         "cliente697@exemplo.com",
         "Praça da Sé",
         789,
         11,
         911321143
        ],
        [
         698,
         "Pedro Santos",
         "cliente698@exemplo.com",
         "Rua das Palmeiras",
         1819,
         11,
         967297182
        ],
        [
         699,
         "Lucas Fernandes",
         "cliente699@exemplo.com",
         "Praça da Sé",
         789,
         11,
         946642030
        ],
        [
         700,
         "Fernanda Lima",
         "cliente700@exemplo.com",
         "Rua XV de Novembro",
         1415,
         11,
         950216372
        ],
        [
         701,
         "Pedro Santos",
         "cliente701@exemplo.com",
         "Avenida Brasil",
         1213,
         11,
         940627558
        ],
        [
         702,
         "Pedro Santos",
         "cliente702@exemplo.com",
         "Praça da Sé",
         789,
         11,
         972816900
        ],
        [
         703,
         "Lucas Fernandes",
         "cliente703@exemplo.com",
         "Avenida Brasil",
         1213,
         11,
         953319627
        ],
        [
         704,
         "Fernanda Lima",
         "cliente704@exemplo.com",
         "Avenida Brasil",
         1213,
         11,
         967378619
        ],
        [
         705,
         "Pedro Santos",
         "cliente705@exemplo.com",
         "Rua da Consolação",
         2223,
         11,
         955528666
        ],
        [
         706,
         "Maria Oliveira",
         "cliente706@exemplo.com",
         "Rua Augusta",
         1011,
         11,
         983467906
        ],
        [
         707,
         "João Silva",
         "cliente707@exemplo.com",
         "Avenida Paulista",
         456,
         11,
         952897806
        ],
        [
         708,
         "Fernanda Lima",
         "cliente708@exemplo.com",
         "Rua das Palmeiras",
         1819,
         11,
         935818901
        ],
        [
         709,
         "Mariana Rocha",
         "cliente709@exemplo.com",
         "Avenida Brasil",
         1213,
         11,
         934395008
        ],
        [
         710,
         "João Silva",
         "cliente710@exemplo.com",
         "Praça da Sé",
         789,
         11,
         967604168
        ],
        [
         711,
         "Pedro Santos",
         "cliente711@exemplo.com",
         "Rua da Consolação",
         2223,
         11,
         924767516
        ],
        [
         712,
         "Ana Souza",
         "cliente712@exemplo.com",
         "Rua Augusta",
         1011,
         11,
         959622719
        ],
        [
         713,
         "Fernanda Lima",
         "cliente713@exemplo.com",
         "Avenida Paulista",
         456,
         11,
         977228935
        ],
        [
         714,
         "Pedro Santos",
         "cliente714@exemplo.com",
         "Avenida Atlântica",
         1617,
         11,
         989984097
        ],
        [
         715,
         "João Silva",
         "cliente715@exemplo.com",
         "Praça da Sé",
         789,
         11,
         997643197
        ],
        [
         716,
         "Paulo Almeida",
         "cliente716@exemplo.com",
         "Avenida Paulista",
         456,
         11,
         946885307
        ],
        [
         717,
         "Ana Souza",
         "cliente717@exemplo.com",
         "Avenida Paulista",
         456,
         11,
         977976412
        ],
        [
         718,
         "Ana Souza",
         "cliente718@exemplo.com",
         "Praça da Sé",
         789,
         11,
         929802419
        ],
        [
         719,
         "Lucas Fernandes",
         "cliente719@exemplo.com",
         "Rua das Palmeiras",
         1819,
         11,
         972453582
        ],
        [
         720,
         "Pedro Santos",
         "cliente720@exemplo.com",
         "Avenida Ipiranga",
         2021,
         11,
         986791745
        ],
        [
         721,
         "Fernanda Lima",
         "cliente721@exemplo.com",
         "Avenida Atlântica",
         1617,
         11,
         981741654
        ],
        [
         722,
         "Paulo Almeida",
         "cliente722@exemplo.com",
         "Avenida Ipiranga",
         2021,
         11,
         993355928
        ],
        [
         723,
         "João Silva",
         "cliente723@exemplo.com",
         "Avenida Brasil",
         1213,
         11,
         913154786
        ],
        [
         724,
         "Maria Oliveira",
         "cliente724@exemplo.com",
         "Rua Augusta",
         1011,
         11,
         977562514
        ],
        [
         725,
         "Ana Souza",
         "cliente725@exemplo.com",
         "Rua das Flores",
         123,
         11,
         968926594
        ],
        [
         726,
         "Pedro Santos",
         "cliente726@exemplo.com",
         "Avenida Ipiranga",
         2021,
         11,
         953512518
        ],
        [
         727,
         "João Silva",
         "cliente727@exemplo.com",
         "Avenida Atlântica",
         1617,
         11,
         932212274
        ],
        [
         728,
         "Fernanda Lima",
         "cliente728@exemplo.com",
         "Rua XV de Novembro",
         1415,
         11,
         926914061
        ],
        [
         729,
         "João Silva",
         "cliente729@exemplo.com",
         "Avenida Paulista",
         456,
         11,
         976395555
        ],
        [
         730,
         "Maria Oliveira",
         "cliente730@exemplo.com",
         "Rua das Palmeiras",
         1819,
         11,
         999764260
        ],
        [
         731,
         "Mariana Rocha",
         "cliente731@exemplo.com",
         "Avenida Brasil",
         1213,
         11,
         918795481
        ],
        [
         732,
         "Ana Souza",
         "cliente732@exemplo.com",
         "Praça da Sé",
         789,
         11,
         994916606
        ],
        [
         733,
         "Mariana Rocha",
         "cliente733@exemplo.com",
         "Rua XV de Novembro",
         1415,
         11,
         951155778
        ],
        [
         734,
         "Paulo Almeida",
         "cliente734@exemplo.com",
         "Rua da Consolação",
         2223,
         11,
         916127769
        ],
        [
         735,
         "Fernanda Lima",
         "cliente735@exemplo.com",
         "Avenida Atlântica",
         1617,
         11,
         920368264
        ],
        [
         736,
         "Pedro Santos",
         "cliente736@exemplo.com",
         "Avenida Atlântica",
         1617,
         11,
         985125796
        ],
        [
         737,
         "Ana Souza",
         "cliente737@exemplo.com",
         "Rua Augusta",
         1011,
         11,
         942353833
        ],
        [
         738,
         "Fernanda Lima",
         "cliente738@exemplo.com",
         "Avenida Paulista",
         456,
         11,
         948403217
        ],
        [
         739,
         "Lucas Fernandes",
         "cliente739@exemplo.com",
         "Avenida Ipiranga",
         2021,
         11,
         910909677
        ],
        [
         740,
         "Ana Souza",
         "cliente740@exemplo.com",
         "Rua das Palmeiras",
         1819,
         11,
         990594305
        ],
        [
         741,
         "Carlos Pereira",
         "cliente741@exemplo.com",
         "Rua das Palmeiras",
         1819,
         11,
         921911441
        ],
        [
         742,
         "Carlos Pereira",
         "cliente742@exemplo.com",
         "Avenida Brasil",
         1213,
         11,
         964995188
        ],
        [
         743,
         "Ana Souza",
         "cliente743@exemplo.com",
         "Avenida Paulista",
         456,
         11,
         911097226
        ],
        [
         744,
         "João Silva",
         "cliente744@exemplo.com",
         "Avenida Paulista",
         456,
         11,
         951476754
        ],
        [
         745,
         "Ana Souza",
         "cliente745@exemplo.com",
         "Praça da Sé",
         789,
         11,
         958297237
        ],
        [
         746,
         "Mariana Rocha",
         "cliente746@exemplo.com",
         "Avenida Brasil",
         1213,
         11,
         992824748
        ],
        [
         747,
         "Maria Oliveira",
         "cliente747@exemplo.com",
         "Rua das Flores",
         123,
         11,
         952718784
        ],
        [
         748,
         "João Silva",
         "cliente748@exemplo.com",
         "Avenida Atlântica",
         1617,
         11,
         951413782
        ],
        [
         749,
         "Mariana Rocha",
         "cliente749@exemplo.com",
         "Avenida Paulista",
         456,
         11,
         912589899
        ],
        [
         750,
         "Maria Oliveira",
         "cliente750@exemplo.com",
         "Avenida Brasil",
         1213,
         11,
         958581414
        ],
        [
         751,
         "Carlos Pereira",
         "cliente751@exemplo.com",
         "Avenida Brasil",
         1213,
         11,
         950563047
        ],
        [
         752,
         "João Silva",
         "cliente752@exemplo.com",
         "Rua das Palmeiras",
         1819,
         11,
         925608553
        ],
        [
         753,
         "Lucas Fernandes",
         "cliente753@exemplo.com",
         "Avenida Paulista",
         456,
         11,
         973681721
        ],
        [
         754,
         "Carlos Pereira",
         "cliente754@exemplo.com",
         "Praça da Sé",
         789,
         11,
         978475498
        ],
        [
         755,
         "Maria Oliveira",
         "cliente755@exemplo.com",
         "Rua das Flores",
         123,
         11,
         940748897
        ],
        [
         756,
         "Carlos Pereira",
         "cliente756@exemplo.com",
         "Avenida Paulista",
         456,
         11,
         936154863
        ],
        [
         757,
         "João Silva",
         "cliente757@exemplo.com",
         "Rua das Flores",
         123,
         11,
         983656758
        ],
        [
         758,
         "Juliana Costa",
         "cliente758@exemplo.com",
         "Avenida Ipiranga",
         2021,
         11,
         990177525
        ],
        [
         759,
         "Mariana Rocha",
         "cliente759@exemplo.com",
         "Rua das Flores",
         123,
         11,
         968989682
        ],
        [
         760,
         "João Silva",
         "cliente760@exemplo.com",
         "Praça da Sé",
         789,
         11,
         919029024
        ],
        [
         761,
         "Lucas Fernandes",
         "cliente761@exemplo.com",
         "Rua das Palmeiras",
         1819,
         11,
         969505229
        ],
        [
         762,
         "Lucas Fernandes",
         "cliente762@exemplo.com",
         "Rua da Consolação",
         2223,
         11,
         944762318
        ],
        [
         763,
         "Mariana Rocha",
         "cliente763@exemplo.com",
         "Rua Augusta",
         1011,
         11,
         942426788
        ],
        [
         764,
         "Fernanda Lima",
         "cliente764@exemplo.com",
         "Rua XV de Novembro",
         1415,
         11,
         955861768
        ],
        [
         765,
         "Fernanda Lima",
         "cliente765@exemplo.com",
         "Rua XV de Novembro",
         1415,
         11,
         969235690
        ],
        [
         766,
         "Juliana Costa",
         "cliente766@exemplo.com",
         "Rua das Flores",
         123,
         11,
         923328956
        ],
        [
         767,
         "Ana Souza",
         "cliente767@exemplo.com",
         "Praça da Sé",
         789,
         11,
         932551764
        ],
        [
         768,
         "Pedro Santos",
         "cliente768@exemplo.com",
         "Rua da Consolação",
         2223,
         11,
         947638790
        ],
        [
         769,
         "Paulo Almeida",
         "cliente769@exemplo.com",
         "Avenida Brasil",
         1213,
         11,
         991472037
        ],
        [
         770,
         "Paulo Almeida",
         "cliente770@exemplo.com",
         "Rua XV de Novembro",
         1415,
         11,
         983975376
        ],
        [
         771,
         "Fernanda Lima",
         "cliente771@exemplo.com",
         "Avenida Paulista",
         456,
         11,
         998365987
        ],
        [
         772,
         "Mariana Rocha",
         "cliente772@exemplo.com",
         "Rua da Consolação",
         2223,
         11,
         914571888
        ],
        [
         773,
         "Pedro Santos",
         "cliente773@exemplo.com",
         "Avenida Paulista",
         456,
         11,
         995113678
        ],
        [
         774,
         "Maria Oliveira",
         "cliente774@exemplo.com",
         "Avenida Ipiranga",
         2021,
         11,
         922688804
        ],
        [
         775,
         "João Silva",
         "cliente775@exemplo.com",
         "Avenida Ipiranga",
         2021,
         11,
         915728930
        ],
        [
         776,
         "Lucas Fernandes",
         "cliente776@exemplo.com",
         "Praça da Sé",
         789,
         11,
         923111291
        ],
        [
         777,
         "Carlos Pereira",
         "cliente777@exemplo.com",
         "Avenida Ipiranga",
         2021,
         11,
         924292344
        ],
        [
         778,
         "Paulo Almeida",
         "cliente778@exemplo.com",
         "Rua das Flores",
         123,
         11,
         984003478
        ],
        [
         779,
         "Lucas Fernandes",
         "cliente779@exemplo.com",
         "Rua XV de Novembro",
         1415,
         11,
         923815854
        ],
        [
         780,
         "Carlos Pereira",
         "cliente780@exemplo.com",
         "Rua XV de Novembro",
         1415,
         11,
         948183018
        ],
        [
         781,
         "João Silva",
         "cliente781@exemplo.com",
         "Avenida Paulista",
         456,
         11,
         921192552
        ],
        [
         782,
         "Carlos Pereira",
         "cliente782@exemplo.com",
         "Avenida Brasil",
         1213,
         11,
         945305171
        ],
        [
         783,
         "João Silva",
         "cliente783@exemplo.com",
         "Rua das Flores",
         123,
         11,
         944972992
        ],
        [
         784,
         "Maria Oliveira",
         "cliente784@exemplo.com",
         "Rua Augusta",
         1011,
         11,
         912617038
        ],
        [
         785,
         "Lucas Fernandes",
         "cliente785@exemplo.com",
         "Rua Augusta",
         1011,
         11,
         924866909
        ],
        [
         786,
         "Lucas Fernandes",
         "cliente786@exemplo.com",
         "Rua das Palmeiras",
         1819,
         11,
         936361945
        ],
        [
         787,
         "Pedro Santos",
         "cliente787@exemplo.com",
         "Rua das Flores",
         123,
         11,
         980439060
        ],
        [
         788,
         "Ana Souza",
         "cliente788@exemplo.com",
         "Praça da Sé",
         789,
         11,
         941652003
        ],
        [
         789,
         "João Silva",
         "cliente789@exemplo.com",
         "Rua da Consolação",
         2223,
         11,
         989036997
        ],
        [
         790,
         "Ana Souza",
         "cliente790@exemplo.com",
         "Rua da Consolação",
         2223,
         11,
         921111811
        ],
        [
         791,
         "Ana Souza",
         "cliente791@exemplo.com",
         "Rua Augusta",
         1011,
         11,
         975187999
        ],
        [
         792,
         "Lucas Fernandes",
         "cliente792@exemplo.com",
         "Rua Augusta",
         1011,
         11,
         933028711
        ],
        [
         793,
         "Fernanda Lima",
         "cliente793@exemplo.com",
         "Avenida Brasil",
         1213,
         11,
         939079987
        ],
        [
         794,
         "João Silva",
         "cliente794@exemplo.com",
         "Avenida Paulista",
         456,
         11,
         953441135
        ],
        [
         795,
         "Lucas Fernandes",
         "cliente795@exemplo.com",
         "Rua das Palmeiras",
         1819,
         11,
         978544197
        ],
        [
         796,
         "Maria Oliveira",
         "cliente796@exemplo.com",
         "Rua das Flores",
         123,
         11,
         936424578
        ],
        [
         797,
         "Carlos Pereira",
         "cliente797@exemplo.com",
         "Rua das Flores",
         123,
         11,
         927348476
        ],
        [
         798,
         "Juliana Costa",
         "cliente798@exemplo.com",
         "Rua das Palmeiras",
         1819,
         11,
         917788650
        ],
        [
         799,
         "Lucas Fernandes",
         "cliente799@exemplo.com",
         "Rua Augusta",
         1011,
         11,
         985417012
        ],
        [
         800,
         "Pedro Santos",
         "cliente800@exemplo.com",
         "Rua XV de Novembro",
         1415,
         11,
         958479142
        ],
        [
         801,
         "Mariana Rocha",
         "cliente801@exemplo.com",
         "Rua da Consolação",
         2223,
         11,
         971288883
        ],
        [
         802,
         "Juliana Costa",
         "cliente802@exemplo.com",
         "Rua das Flores",
         123,
         11,
         964194518
        ],
        [
         803,
         "Ana Souza",
         "cliente803@exemplo.com",
         "Praça da Sé",
         789,
         11,
         928754612
        ],
        [
         804,
         "Carlos Pereira",
         "cliente804@exemplo.com",
         "Rua das Flores",
         123,
         11,
         985668677
        ],
        [
         805,
         "Fernanda Lima",
         "cliente805@exemplo.com",
         "Rua da Consolação",
         2223,
         11,
         911832776
        ],
        [
         806,
         "Maria Oliveira",
         "cliente806@exemplo.com",
         "Avenida Ipiranga",
         2021,
         11,
         922466584
        ],
        [
         807,
         "Lucas Fernandes",
         "cliente807@exemplo.com",
         "Rua da Consolação",
         2223,
         11,
         911726655
        ],
        [
         808,
         "Pedro Santos",
         "cliente808@exemplo.com",
         "Avenida Atlântica",
         1617,
         11,
         952666342
        ],
        [
         809,
         "Lucas Fernandes",
         "cliente809@exemplo.com",
         "Avenida Brasil",
         1213,
         11,
         971881989
        ],
        [
         810,
         "Mariana Rocha",
         "cliente810@exemplo.com",
         "Rua Augusta",
         1011,
         11,
         922539005
        ],
        [
         811,
         "João Silva",
         "cliente811@exemplo.com",
         "Rua da Consolação",
         2223,
         11,
         980166015
        ],
        [
         812,
         "Carlos Pereira",
         "cliente812@exemplo.com",
         "Avenida Brasil",
         1213,
         11,
         948788262
        ],
        [
         813,
         "Ana Souza",
         "cliente813@exemplo.com",
         "Avenida Brasil",
         1213,
         11,
         994826241
        ],
        [
         814,
         "João Silva",
         "cliente814@exemplo.com",
         "Praça da Sé",
         789,
         11,
         929138807
        ],
        [
         815,
         "Ana Souza",
         "cliente815@exemplo.com",
         "Avenida Ipiranga",
         2021,
         11,
         922251063
        ],
        [
         816,
         "Ana Souza",
         "cliente816@exemplo.com",
         "Praça da Sé",
         789,
         11,
         953392614
        ],
        [
         817,
         "Mariana Rocha",
         "cliente817@exemplo.com",
         "Rua Augusta",
         1011,
         11,
         957411319
        ],
        [
         818,
         "Ana Souza",
         "cliente818@exemplo.com",
         "Rua das Flores",
         123,
         11,
         966626531
        ],
        [
         819,
         "Carlos Pereira",
         "cliente819@exemplo.com",
         "Avenida Atlântica",
         1617,
         11,
         974107750
        ],
        [
         820,
         "Lucas Fernandes",
         "cliente820@exemplo.com",
         "Avenida Ipiranga",
         2021,
         11,
         942474187
        ],
        [
         821,
         "João Silva",
         "cliente821@exemplo.com",
         "Rua das Flores",
         123,
         11,
         919897230
        ],
        [
         822,
         "Maria Oliveira",
         "cliente822@exemplo.com",
         "Avenida Brasil",
         1213,
         11,
         944719317
        ],
        [
         823,
         "Maria Oliveira",
         "cliente823@exemplo.com",
         "Rua das Palmeiras",
         1819,
         11,
         949481491
        ],
        [
         824,
         "Fernanda Lima",
         "cliente824@exemplo.com",
         "Rua das Flores",
         123,
         11,
         914667862
        ],
        [
         825,
         "Mariana Rocha",
         "cliente825@exemplo.com",
         "Praça da Sé",
         789,
         11,
         991423631
        ],
        [
         826,
         "João Silva",
         "cliente826@exemplo.com",
         "Avenida Atlântica",
         1617,
         11,
         977358575
        ],
        [
         827,
         "Fernanda Lima",
         "cliente827@exemplo.com",
         "Rua Augusta",
         1011,
         11,
         929638061
        ],
        [
         828,
         "Fernanda Lima",
         "cliente828@exemplo.com",
         "Avenida Atlântica",
         1617,
         11,
         998959291
        ],
        [
         829,
         "Carlos Pereira",
         "cliente829@exemplo.com",
         "Rua XV de Novembro",
         1415,
         11,
         918027646
        ],
        [
         830,
         "Maria Oliveira",
         "cliente830@exemplo.com",
         "Avenida Brasil",
         1213,
         11,
         986665155
        ],
        [
         831,
         "Mariana Rocha",
         "cliente831@exemplo.com",
         "Rua da Consolação",
         2223,
         11,
         919201024
        ],
        [
         832,
         "Carlos Pereira",
         "cliente832@exemplo.com",
         "Rua XV de Novembro",
         1415,
         11,
         932176913
        ],
        [
         833,
         "Mariana Rocha",
         "cliente833@exemplo.com",
         "Avenida Paulista",
         456,
         11,
         921593036
        ],
        [
         834,
         "Lucas Fernandes",
         "cliente834@exemplo.com",
         "Rua das Palmeiras",
         1819,
         11,
         964159829
        ],
        [
         835,
         "Pedro Santos",
         "cliente835@exemplo.com",
         "Praça da Sé",
         789,
         11,
         966209983
        ],
        [
         836,
         "Lucas Fernandes",
         "cliente836@exemplo.com",
         "Rua Augusta",
         1011,
         11,
         943952916
        ],
        [
         837,
         "João Silva",
         "cliente837@exemplo.com",
         "Rua XV de Novembro",
         1415,
         11,
         950135858
        ],
        [
         838,
         "Lucas Fernandes",
         "cliente838@exemplo.com",
         "Avenida Paulista",
         456,
         11,
         963342990
        ],
        [
         839,
         "Fernanda Lima",
         "cliente839@exemplo.com",
         "Praça da Sé",
         789,
         11,
         923127233
        ],
        [
         840,
         "Ana Souza",
         "cliente840@exemplo.com",
         "Rua da Consolação",
         2223,
         11,
         923455206
        ],
        [
         841,
         "Ana Souza",
         "cliente841@exemplo.com",
         "Rua da Consolação",
         2223,
         11,
         933902935
        ],
        [
         842,
         "Pedro Santos",
         "cliente842@exemplo.com",
         "Avenida Paulista",
         456,
         11,
         949339318
        ],
        [
         843,
         "Mariana Rocha",
         "cliente843@exemplo.com",
         "Avenida Paulista",
         456,
         11,
         978604307
        ],
        [
         844,
         "Maria Oliveira",
         "cliente844@exemplo.com",
         "Rua Augusta",
         1011,
         11,
         973419832
        ],
        [
         845,
         "Paulo Almeida",
         "cliente845@exemplo.com",
         "Rua das Flores",
         123,
         11,
         978263496
        ],
        [
         846,
         "Mariana Rocha",
         "cliente846@exemplo.com",
         "Praça da Sé",
         789,
         11,
         997209478
        ],
        [
         847,
         "Juliana Costa",
         "cliente847@exemplo.com",
         "Rua Augusta",
         1011,
         11,
         924869506
        ],
        [
         848,
         "João Silva",
         "cliente848@exemplo.com",
         "Avenida Ipiranga",
         2021,
         11,
         915881910
        ],
        [
         849,
         "Mariana Rocha",
         "cliente849@exemplo.com",
         "Rua da Consolação",
         2223,
         11,
         950212212
        ],
        [
         850,
         "Fernanda Lima",
         "cliente850@exemplo.com",
         "Rua Augusta",
         1011,
         11,
         942238203
        ],
        [
         851,
         "Mariana Rocha",
         "cliente851@exemplo.com",
         "Avenida Brasil",
         1213,
         11,
         919876418
        ],
        [
         852,
         "João Silva",
         "cliente852@exemplo.com",
         "Rua das Flores",
         123,
         11,
         965683535
        ],
        [
         853,
         "Mariana Rocha",
         "cliente853@exemplo.com",
         "Rua XV de Novembro",
         1415,
         11,
         960148521
        ],
        [
         854,
         "Maria Oliveira",
         "cliente854@exemplo.com",
         "Avenida Ipiranga",
         2021,
         11,
         993952841
        ],
        [
         855,
         "Juliana Costa",
         "cliente855@exemplo.com",
         "Avenida Ipiranga",
         2021,
         11,
         967445522
        ],
        [
         856,
         "Paulo Almeida",
         "cliente856@exemplo.com",
         "Avenida Brasil",
         1213,
         11,
         916606649
        ],
        [
         857,
         "Carlos Pereira",
         "cliente857@exemplo.com",
         "Avenida Ipiranga",
         2021,
         11,
         920075735
        ],
        [
         858,
         "Carlos Pereira",
         "cliente858@exemplo.com",
         "Praça da Sé",
         789,
         11,
         986989375
        ],
        [
         859,
         "Lucas Fernandes",
         "cliente859@exemplo.com",
         "Praça da Sé",
         789,
         11,
         972444196
        ],
        [
         860,
         "Maria Oliveira",
         "cliente860@exemplo.com",
         "Avenida Ipiranga",
         2021,
         11,
         977372611
        ],
        [
         861,
         "Lucas Fernandes",
         "cliente861@exemplo.com",
         "Rua XV de Novembro",
         1415,
         11,
         916491818
        ],
        [
         862,
         "Pedro Santos",
         "cliente862@exemplo.com",
         "Rua XV de Novembro",
         1415,
         11,
         921514438
        ],
        [
         863,
         "Pedro Santos",
         "cliente863@exemplo.com",
         "Praça da Sé",
         789,
         11,
         987266495
        ],
        [
         864,
         "Pedro Santos",
         "cliente864@exemplo.com",
         "Rua das Palmeiras",
         1819,
         11,
         969725296
        ],
        [
         865,
         "Paulo Almeida",
         "cliente865@exemplo.com",
         "Avenida Paulista",
         456,
         11,
         992699297
        ],
        [
         866,
         "Ana Souza",
         "cliente866@exemplo.com",
         "Rua da Consolação",
         2223,
         11,
         912285028
        ],
        [
         867,
         "Ana Souza",
         "cliente867@exemplo.com",
         "Avenida Ipiranga",
         2021,
         11,
         934797164
        ],
        [
         868,
         "Juliana Costa",
         "cliente868@exemplo.com",
         "Avenida Brasil",
         1213,
         11,
         930479241
        ],
        [
         869,
         "Maria Oliveira",
         "cliente869@exemplo.com",
         "Avenida Ipiranga",
         2021,
         11,
         933982343
        ],
        [
         870,
         "Fernanda Lima",
         "cliente870@exemplo.com",
         "Rua das Flores",
         123,
         11,
         923752272
        ],
        [
         871,
         "Paulo Almeida",
         "cliente871@exemplo.com",
         "Rua das Flores",
         123,
         11,
         986007786
        ],
        [
         872,
         "Paulo Almeida",
         "cliente872@exemplo.com",
         "Rua das Flores",
         123,
         11,
         945729612
        ],
        [
         873,
         "Lucas Fernandes",
         "cliente873@exemplo.com",
         "Avenida Atlântica",
         1617,
         11,
         911393210
        ],
        [
         874,
         "Paulo Almeida",
         "cliente874@exemplo.com",
         "Rua XV de Novembro",
         1415,
         11,
         938812738
        ],
        [
         875,
         "Lucas Fernandes",
         "cliente875@exemplo.com",
         "Avenida Brasil",
         1213,
         11,
         932968457
        ],
        [
         876,
         "Lucas Fernandes",
         "cliente876@exemplo.com",
         "Rua das Palmeiras",
         1819,
         11,
         910325392
        ],
        [
         877,
         "Pedro Santos",
         "cliente877@exemplo.com",
         "Rua das Palmeiras",
         1819,
         11,
         952292343
        ],
        [
         878,
         "Mariana Rocha",
         "cliente878@exemplo.com",
         "Avenida Ipiranga",
         2021,
         11,
         991381867
        ],
        [
         879,
         "Mariana Rocha",
         "cliente879@exemplo.com",
         "Rua das Palmeiras",
         1819,
         11,
         945795774
        ],
        [
         880,
         "Mariana Rocha",
         "cliente880@exemplo.com",
         "Avenida Brasil",
         1213,
         11,
         979742713
        ],
        [
         881,
         "Juliana Costa",
         "cliente881@exemplo.com",
         "Rua XV de Novembro",
         1415,
         11,
         945799428
        ],
        [
         882,
         "Carlos Pereira",
         "cliente882@exemplo.com",
         "Rua Augusta",
         1011,
         11,
         911882533
        ],
        [
         883,
         "João Silva",
         "cliente883@exemplo.com",
         "Rua das Palmeiras",
         1819,
         11,
         940851946
        ],
        [
         884,
         "Carlos Pereira",
         "cliente884@exemplo.com",
         "Rua XV de Novembro",
         1415,
         11,
         916326709
        ],
        [
         885,
         "Carlos Pereira",
         "cliente885@exemplo.com",
         "Rua das Palmeiras",
         1819,
         11,
         926646921
        ],
        [
         886,
         "Fernanda Lima",
         "cliente886@exemplo.com",
         "Rua Augusta",
         1011,
         11,
         998712704
        ],
        [
         887,
         "Fernanda Lima",
         "cliente887@exemplo.com",
         "Rua XV de Novembro",
         1415,
         11,
         941595880
        ],
        [
         888,
         "Paulo Almeida",
         "cliente888@exemplo.com",
         "Avenida Ipiranga",
         2021,
         11,
         938672973
        ],
        [
         889,
         "Paulo Almeida",
         "cliente889@exemplo.com",
         "Rua XV de Novembro",
         1415,
         11,
         953556769
        ],
        [
         890,
         "Paulo Almeida",
         "cliente890@exemplo.com",
         "Rua Augusta",
         1011,
         11,
         991556604
        ],
        [
         891,
         "Maria Oliveira",
         "cliente891@exemplo.com",
         "Rua das Flores",
         123,
         11,
         952397906
        ],
        [
         892,
         "Maria Oliveira",
         "cliente892@exemplo.com",
         "Praça da Sé",
         789,
         11,
         943262372
        ],
        [
         893,
         "Carlos Pereira",
         "cliente893@exemplo.com",
         "Avenida Paulista",
         456,
         11,
         978438036
        ],
        [
         894,
         "Maria Oliveira",
         "cliente894@exemplo.com",
         "Rua Augusta",
         1011,
         11,
         949427973
        ],
        [
         895,
         "Maria Oliveira",
         "cliente895@exemplo.com",
         "Rua XV de Novembro",
         1415,
         11,
         912321348
        ],
        [
         896,
         "João Silva",
         "cliente896@exemplo.com",
         "Rua das Flores",
         123,
         11,
         995856825
        ],
        [
         897,
         "Paulo Almeida",
         "cliente897@exemplo.com",
         "Avenida Atlântica",
         1617,
         11,
         937322069
        ],
        [
         898,
         "Paulo Almeida",
         "cliente898@exemplo.com",
         "Praça da Sé",
         789,
         11,
         924844879
        ],
        [
         899,
         "Lucas Fernandes",
         "cliente899@exemplo.com",
         "Rua Augusta",
         1011,
         11,
         984581552
        ],
        [
         900,
         "João Silva",
         "cliente900@exemplo.com",
         "Avenida Brasil",
         1213,
         11,
         981738813
        ],
        [
         901,
         "Carlos Pereira",
         "cliente901@exemplo.com",
         "Rua da Consolação",
         2223,
         11,
         986191781
        ],
        [
         902,
         "Fernanda Lima",
         "cliente902@exemplo.com",
         "Avenida Ipiranga",
         2021,
         11,
         952133170
        ],
        [
         903,
         "Lucas Fernandes",
         "cliente903@exemplo.com",
         "Avenida Atlântica",
         1617,
         11,
         985671691
        ],
        [
         904,
         "Ana Souza",
         "cliente904@exemplo.com",
         "Avenida Ipiranga",
         2021,
         11,
         939824104
        ],
        [
         905,
         "Maria Oliveira",
         "cliente905@exemplo.com",
         "Rua das Palmeiras",
         1819,
         11,
         956175436
        ],
        [
         906,
         "Maria Oliveira",
         "cliente906@exemplo.com",
         "Rua Augusta",
         1011,
         11,
         975291194
        ],
        [
         907,
         "Pedro Santos",
         "cliente907@exemplo.com",
         "Rua XV de Novembro",
         1415,
         11,
         977881868
        ],
        [
         908,
         "Fernanda Lima",
         "cliente908@exemplo.com",
         "Rua das Palmeiras",
         1819,
         11,
         976152350
        ],
        [
         909,
         "Mariana Rocha",
         "cliente909@exemplo.com",
         "Rua XV de Novembro",
         1415,
         11,
         916757171
        ],
        [
         910,
         "Carlos Pereira",
         "cliente910@exemplo.com",
         "Rua das Palmeiras",
         1819,
         11,
         914612351
        ],
        [
         911,
         "Pedro Santos",
         "cliente911@exemplo.com",
         "Praça da Sé",
         789,
         11,
         941617801
        ],
        [
         912,
         "Juliana Costa",
         "cliente912@exemplo.com",
         "Rua das Flores",
         123,
         11,
         992965671
        ],
        [
         913,
         "Juliana Costa",
         "cliente913@exemplo.com",
         "Rua das Flores",
         123,
         11,
         938875222
        ],
        [
         914,
         "Paulo Almeida",
         "cliente914@exemplo.com",
         "Rua das Flores",
         123,
         11,
         963951950
        ],
        [
         915,
         "Carlos Pereira",
         "cliente915@exemplo.com",
         "Rua XV de Novembro",
         1415,
         11,
         916668198
        ],
        [
         916,
         "Juliana Costa",
         "cliente916@exemplo.com",
         "Avenida Paulista",
         456,
         11,
         952982642
        ],
        [
         917,
         "Carlos Pereira",
         "cliente917@exemplo.com",
         "Rua da Consolação",
         2223,
         11,
         936565589
        ],
        [
         918,
         "Ana Souza",
         "cliente918@exemplo.com",
         "Rua XV de Novembro",
         1415,
         11,
         964505874
        ],
        [
         919,
         "Lucas Fernandes",
         "cliente919@exemplo.com",
         "Rua das Palmeiras",
         1819,
         11,
         962526385
        ],
        [
         920,
         "Pedro Santos",
         "cliente920@exemplo.com",
         "Praça da Sé",
         789,
         11,
         914862737
        ],
        [
         921,
         "Carlos Pereira",
         "cliente921@exemplo.com",
         "Avenida Ipiranga",
         2021,
         11,
         932149822
        ],
        [
         922,
         "Lucas Fernandes",
         "cliente922@exemplo.com",
         "Avenida Brasil",
         1213,
         11,
         972642332
        ],
        [
         923,
         "Ana Souza",
         "cliente923@exemplo.com",
         "Rua Augusta",
         1011,
         11,
         964914106
        ],
        [
         924,
         "Carlos Pereira",
         "cliente924@exemplo.com",
         "Avenida Ipiranga",
         2021,
         11,
         910914659
        ],
        [
         925,
         "João Silva",
         "cliente925@exemplo.com",
         "Rua da Consolação",
         2223,
         11,
         965209525
        ],
        [
         926,
         "João Silva",
         "cliente926@exemplo.com",
         "Rua das Flores",
         123,
         11,
         931209602
        ],
        [
         927,
         "Juliana Costa",
         "cliente927@exemplo.com",
         "Avenida Ipiranga",
         2021,
         11,
         935177284
        ],
        [
         928,
         "Juliana Costa",
         "cliente928@exemplo.com",
         "Avenida Paulista",
         456,
         11,
         910113729
        ],
        [
         929,
         "Carlos Pereira",
         "cliente929@exemplo.com",
         "Rua das Palmeiras",
         1819,
         11,
         940257097
        ],
        [
         930,
         "Juliana Costa",
         "cliente930@exemplo.com",
         "Rua das Flores",
         123,
         11,
         927595255
        ],
        [
         931,
         "Juliana Costa",
         "cliente931@exemplo.com",
         "Rua das Palmeiras",
         1819,
         11,
         920903956
        ],
        [
         932,
         "Fernanda Lima",
         "cliente932@exemplo.com",
         "Rua da Consolação",
         2223,
         11,
         935551091
        ],
        [
         933,
         "Maria Oliveira",
         "cliente933@exemplo.com",
         "Rua XV de Novembro",
         1415,
         11,
         927566917
        ],
        [
         934,
         "Ana Souza",
         "cliente934@exemplo.com",
         "Rua da Consolação",
         2223,
         11,
         944691999
        ],
        [
         935,
         "João Silva",
         "cliente935@exemplo.com",
         "Rua da Consolação",
         2223,
         11,
         971251602
        ],
        [
         936,
         "Pedro Santos",
         "cliente936@exemplo.com",
         "Avenida Brasil",
         1213,
         11,
         937947444
        ],
        [
         937,
         "Maria Oliveira",
         "cliente937@exemplo.com",
         "Rua das Palmeiras",
         1819,
         11,
         968136639
        ],
        [
         938,
         "Fernanda Lima",
         "cliente938@exemplo.com",
         "Rua Augusta",
         1011,
         11,
         973983367
        ],
        [
         939,
         "João Silva",
         "cliente939@exemplo.com",
         "Avenida Brasil",
         1213,
         11,
         956456161
        ],
        [
         940,
         "Pedro Santos",
         "cliente940@exemplo.com",
         "Rua das Flores",
         123,
         11,
         956835771
        ],
        [
         941,
         "Ana Souza",
         "cliente941@exemplo.com",
         "Rua das Palmeiras",
         1819,
         11,
         960459014
        ],
        [
         942,
         "Paulo Almeida",
         "cliente942@exemplo.com",
         "Rua das Palmeiras",
         1819,
         11,
         973737935
        ],
        [
         943,
         "Juliana Costa",
         "cliente943@exemplo.com",
         "Rua Augusta",
         1011,
         11,
         971208006
        ],
        [
         944,
         "Pedro Santos",
         "cliente944@exemplo.com",
         "Avenida Ipiranga",
         2021,
         11,
         965971291
        ],
        [
         945,
         "Juliana Costa",
         "cliente945@exemplo.com",
         "Rua Augusta",
         1011,
         11,
         915297832
        ],
        [
         946,
         "Juliana Costa",
         "cliente946@exemplo.com",
         "Avenida Brasil",
         1213,
         11,
         984308013
        ],
        [
         947,
         "Paulo Almeida",
         "cliente947@exemplo.com",
         "Avenida Atlântica",
         1617,
         11,
         971815653
        ],
        [
         948,
         "Ana Souza",
         "cliente948@exemplo.com",
         "Avenida Atlântica",
         1617,
         11,
         919709016
        ],
        [
         949,
         "Pedro Santos",
         "cliente949@exemplo.com",
         "Avenida Paulista",
         456,
         11,
         994284406
        ],
        [
         950,
         "Lucas Fernandes",
         "cliente950@exemplo.com",
         "Avenida Paulista",
         456,
         11,
         922394594
        ],
        [
         951,
         "Lucas Fernandes",
         "cliente951@exemplo.com",
         "Avenida Atlântica",
         1617,
         11,
         927088436
        ],
        [
         952,
         "Maria Oliveira",
         "cliente952@exemplo.com",
         "Rua das Palmeiras",
         1819,
         11,
         971848789
        ],
        [
         953,
         "Carlos Pereira",
         "cliente953@exemplo.com",
         "Rua das Palmeiras",
         1819,
         11,
         969014436
        ],
        [
         954,
         "Maria Oliveira",
         "cliente954@exemplo.com",
         "Rua das Palmeiras",
         1819,
         11,
         933706541
        ],
        [
         955,
         "Fernanda Lima",
         "cliente955@exemplo.com",
         "Avenida Atlântica",
         1617,
         11,
         985257098
        ],
        [
         956,
         "Mariana Rocha",
         "cliente956@exemplo.com",
         "Avenida Brasil",
         1213,
         11,
         934172337
        ],
        [
         957,
         "Paulo Almeida",
         "cliente957@exemplo.com",
         "Avenida Brasil",
         1213,
         11,
         921308772
        ],
        [
         958,
         "Pedro Santos",
         "cliente958@exemplo.com",
         "Praça da Sé",
         789,
         11,
         979027089
        ],
        [
         959,
         "Pedro Santos",
         "cliente959@exemplo.com",
         "Avenida Brasil",
         1213,
         11,
         999549672
        ],
        [
         960,
         "Mariana Rocha",
         "cliente960@exemplo.com",
         "Avenida Brasil",
         1213,
         11,
         994413185
        ],
        [
         961,
         "Lucas Fernandes",
         "cliente961@exemplo.com",
         "Rua da Consolação",
         2223,
         11,
         998588198
        ],
        [
         962,
         "Ana Souza",
         "cliente962@exemplo.com",
         "Avenida Brasil",
         1213,
         11,
         991684987
        ],
        [
         963,
         "Carlos Pereira",
         "cliente963@exemplo.com",
         "Rua XV de Novembro",
         1415,
         11,
         975055362
        ],
        [
         964,
         "Ana Souza",
         "cliente964@exemplo.com",
         "Rua da Consolação",
         2223,
         11,
         939412500
        ],
        [
         965,
         "Ana Souza",
         "cliente965@exemplo.com",
         "Avenida Atlântica",
         1617,
         11,
         916971379
        ],
        [
         966,
         "Juliana Costa",
         "cliente966@exemplo.com",
         "Avenida Paulista",
         456,
         11,
         995604265
        ],
        [
         967,
         "João Silva",
         "cliente967@exemplo.com",
         "Avenida Paulista",
         456,
         11,
         993852318
        ],
        [
         968,
         "João Silva",
         "cliente968@exemplo.com",
         "Avenida Ipiranga",
         2021,
         11,
         952531902
        ],
        [
         969,
         "Maria Oliveira",
         "cliente969@exemplo.com",
         "Avenida Atlântica",
         1617,
         11,
         970773385
        ],
        [
         970,
         "Ana Souza",
         "cliente970@exemplo.com",
         "Praça da Sé",
         789,
         11,
         929227958
        ],
        [
         971,
         "Ana Souza",
         "cliente971@exemplo.com",
         "Rua Augusta",
         1011,
         11,
         926871132
        ],
        [
         972,
         "Pedro Santos",
         "cliente972@exemplo.com",
         "Avenida Atlântica",
         1617,
         11,
         991257939
        ],
        [
         973,
         "João Silva",
         "cliente973@exemplo.com",
         "Avenida Brasil",
         1213,
         11,
         973645204
        ],
        [
         974,
         "Juliana Costa",
         "cliente974@exemplo.com",
         "Avenida Paulista",
         456,
         11,
         984611348
        ],
        [
         975,
         "Lucas Fernandes",
         "cliente975@exemplo.com",
         "Rua das Flores",
         123,
         11,
         953181955
        ],
        [
         976,
         "Pedro Santos",
         "cliente976@exemplo.com",
         "Avenida Brasil",
         1213,
         11,
         960477837
        ],
        [
         977,
         "Ana Souza",
         "cliente977@exemplo.com",
         "Rua das Palmeiras",
         1819,
         11,
         971377827
        ],
        [
         978,
         "Ana Souza",
         "cliente978@exemplo.com",
         "Avenida Paulista",
         456,
         11,
         983492362
        ],
        [
         979,
         "Fernanda Lima",
         "cliente979@exemplo.com",
         "Avenida Paulista",
         456,
         11,
         943062424
        ],
        [
         980,
         "João Silva",
         "cliente980@exemplo.com",
         "Avenida Paulista",
         456,
         11,
         989534800
        ],
        [
         981,
         "Paulo Almeida",
         "cliente981@exemplo.com",
         "Rua da Consolação",
         2223,
         11,
         941187496
        ],
        [
         982,
         "Pedro Santos",
         "cliente982@exemplo.com",
         "Avenida Paulista",
         456,
         11,
         967507255
        ],
        [
         983,
         "Maria Oliveira",
         "cliente983@exemplo.com",
         "Avenida Ipiranga",
         2021,
         11,
         971528203
        ],
        [
         984,
         "João Silva",
         "cliente984@exemplo.com",
         "Rua das Flores",
         123,
         11,
         963709060
        ],
        [
         985,
         "Mariana Rocha",
         "cliente985@exemplo.com",
         "Praça da Sé",
         789,
         11,
         951886737
        ],
        [
         986,
         "Mariana Rocha",
         "cliente986@exemplo.com",
         "Rua das Flores",
         123,
         11,
         930793631
        ],
        [
         987,
         "Lucas Fernandes",
         "cliente987@exemplo.com",
         "Avenida Brasil",
         1213,
         11,
         996574709
        ],
        [
         988,
         "João Silva",
         "cliente988@exemplo.com",
         "Avenida Brasil",
         1213,
         11,
         972749842
        ],
        [
         989,
         "Mariana Rocha",
         "cliente989@exemplo.com",
         "Avenida Atlântica",
         1617,
         11,
         957988972
        ],
        [
         990,
         "Maria Oliveira",
         "cliente990@exemplo.com",
         "Avenida Atlântica",
         1617,
         11,
         966701854
        ],
        [
         991,
         "Carlos Pereira",
         "cliente991@exemplo.com",
         "Rua das Flores",
         123,
         11,
         959885693
        ],
        [
         992,
         "Mariana Rocha",
         "cliente992@exemplo.com",
         "Avenida Brasil",
         1213,
         11,
         987798013
        ],
        [
         993,
         "Lucas Fernandes",
         "cliente993@exemplo.com",
         "Praça da Sé",
         789,
         11,
         997621651
        ],
        [
         994,
         "Paulo Almeida",
         "cliente994@exemplo.com",
         "Praça da Sé",
         789,
         11,
         913168315
        ],
        [
         995,
         "Juliana Costa",
         "cliente995@exemplo.com",
         "Rua XV de Novembro",
         1415,
         11,
         939453715
        ],
        [
         996,
         "Pedro Santos",
         "cliente996@exemplo.com",
         "Avenida Brasil",
         1213,
         11,
         917546200
        ],
        [
         997,
         "Mariana Rocha",
         "cliente997@exemplo.com",
         "Avenida Brasil",
         1213,
         11,
         968816965
        ],
        [
         998,
         "João Silva",
         "cliente998@exemplo.com",
         "Avenida Ipiranga",
         2021,
         11,
         929859386
        ],
        [
         999,
         "Mariana Rocha",
         "cliente999@exemplo.com",
         "Avenida Brasil",
         1213,
         11,
         927399489
        ],
        [
         1000,
         "Fernanda Lima",
         "cliente1000@exemplo.com",
         "Avenida Paulista",
         456,
         11,
         989564770
        ],
        [
         1001,
         "Amanda Silva Santos",
         "cliente1001@exemplo.com",
         "Avenida Ipiranga",
         2021,
         11,
         962216965
        ]
       ],
       "datasetInfos": [],
       "dbfsResultPath": null,
       "isJsonSchema": true,
       "metadata": {
        "createTempViewForImplicitDf": true,
        "dataframeName": "_sqldf",
        "executionCount": 112
       },
       "overflow": false,
       "plotOptions": {
        "customPlotOptions": {},
        "displayType": "table",
        "pivotAggregation": null,
        "pivotColumns": null,
        "xColumns": null,
        "yColumns": null
       },
       "removedWidgets": [],
       "schema": [
        {
         "metadata": "{}",
         "name": "Número da Conta",
         "type": "\"integer\""
        },
        {
         "metadata": "{}",
         "name": "Nome do Cliente",
         "type": "\"string\""
        },
        {
         "metadata": "{}",
         "name": "Email",
         "type": "\"string\""
        },
        {
         "metadata": "{}",
         "name": "Logradouro",
         "type": "\"string\""
        },
        {
         "metadata": "{}",
         "name": "Número Logradouro",
         "type": "\"integer\""
        },
        {
         "metadata": "{}",
         "name": "DDD",
         "type": "\"integer\""
        },
        {
         "metadata": "{}",
         "name": "Número Telefone",
         "type": "\"integer\""
        }
       ],
       "type": "table"
      }
     },
     "output_type": "display_data"
    }
   ],
   "source": [
    "%sql\n",
    "-- Visualizar a view\n",
    "SELECT * FROM dados_clientes"
   ]
  },
  {
   "cell_type": "markdown",
   "metadata": {
    "application/vnd.databricks.v1+cell": {
     "cellMetadata": {},
     "inputWidgets": {},
     "nuid": "9790280a-6687-4608-bf65-f0111f29d2f8",
     "showTitle": false,
     "tableResultSettingsMap": {},
     "title": ""
    }
   },
   "source": [
    "9- Fazendo agregações simples utilizando a view: dados_clientes"
   ]
  },
  {
   "cell_type": "code",
   "execution_count": 0,
   "metadata": {
    "application/vnd.databricks.v1+cell": {
     "cellMetadata": {
      "byteLimit": 2048000,
      "implicitDf": true,
      "rowLimit": 10000
     },
     "inputWidgets": {},
     "nuid": "460fa891-1954-42d8-bd2e-2a934e4e52ae",
     "showTitle": false,
     "tableResultSettingsMap": {},
     "title": ""
    }
   },
   "outputs": [
    {
     "output_type": "display_data",
     "data": {
      "text/html": [
       "<style scoped>\n",
       "  .table-result-container {\n",
       "    max-height: 300px;\n",
       "    overflow: auto;\n",
       "  }\n",
       "  table, th, td {\n",
       "    border: 1px solid black;\n",
       "    border-collapse: collapse;\n",
       "  }\n",
       "  th, td {\n",
       "    padding: 5px;\n",
       "  }\n",
       "  th {\n",
       "    text-align: left;\n",
       "  }\n",
       "</style><div class='table-result-container'><table class='table-result'><thead style='background-color: white'><tr><th>DDD</th><th>Telefone</th><th>Cidade Região DDD</th></tr></thead><tbody><tr><td>11</td><td>986235795</td><td>Região Metropolitana de São Paulo</td></tr><tr><td>11</td><td>989591767</td><td>Região Metropolitana de São Paulo</td></tr><tr><td>11</td><td>939472587</td><td>Região Metropolitana de São Paulo</td></tr><tr><td>11</td><td>993453815</td><td>Região Metropolitana de São Paulo</td></tr><tr><td>11</td><td>964492610</td><td>Região Metropolitana de São Paulo</td></tr><tr><td>11</td><td>949146650</td><td>Região Metropolitana de São Paulo</td></tr><tr><td>11</td><td>935213943</td><td>Região Metropolitana de São Paulo</td></tr><tr><td>11</td><td>919848352</td><td>Região Metropolitana de São Paulo</td></tr><tr><td>11</td><td>952406030</td><td>Região Metropolitana de São Paulo</td></tr><tr><td>11</td><td>915694953</td><td>Região Metropolitana de São Paulo</td></tr><tr><td>11</td><td>998834579</td><td>Região Metropolitana de São Paulo</td></tr><tr><td>11</td><td>916898490</td><td>Região Metropolitana de São Paulo</td></tr><tr><td>11</td><td>929255254</td><td>Região Metropolitana de São Paulo</td></tr><tr><td>11</td><td>937508674</td><td>Região Metropolitana de São Paulo</td></tr><tr><td>11</td><td>964363441</td><td>Região Metropolitana de São Paulo</td></tr><tr><td>11</td><td>970225724</td><td>Região Metropolitana de São Paulo</td></tr><tr><td>11</td><td>999144856</td><td>Região Metropolitana de São Paulo</td></tr><tr><td>11</td><td>967671371</td><td>Região Metropolitana de São Paulo</td></tr><tr><td>11</td><td>990908621</td><td>Região Metropolitana de São Paulo</td></tr><tr><td>11</td><td>940032265</td><td>Região Metropolitana de São Paulo</td></tr><tr><td>11</td><td>942037540</td><td>Região Metropolitana de São Paulo</td></tr><tr><td>11</td><td>958372509</td><td>Região Metropolitana de São Paulo</td></tr><tr><td>11</td><td>955145028</td><td>Região Metropolitana de São Paulo</td></tr><tr><td>11</td><td>923148978</td><td>Região Metropolitana de São Paulo</td></tr><tr><td>11</td><td>960019926</td><td>Região Metropolitana de São Paulo</td></tr><tr><td>11</td><td>973484894</td><td>Região Metropolitana de São Paulo</td></tr><tr><td>11</td><td>965773151</td><td>Região Metropolitana de São Paulo</td></tr><tr><td>11</td><td>946262290</td><td>Região Metropolitana de São Paulo</td></tr><tr><td>11</td><td>923771600</td><td>Região Metropolitana de São Paulo</td></tr><tr><td>11</td><td>929751354</td><td>Região Metropolitana de São Paulo</td></tr><tr><td>11</td><td>932425096</td><td>Região Metropolitana de São Paulo</td></tr><tr><td>11</td><td>979048421</td><td>Região Metropolitana de São Paulo</td></tr><tr><td>11</td><td>976055177</td><td>Região Metropolitana de São Paulo</td></tr><tr><td>11</td><td>937323379</td><td>Região Metropolitana de São Paulo</td></tr><tr><td>11</td><td>920971782</td><td>Região Metropolitana de São Paulo</td></tr><tr><td>11</td><td>975703918</td><td>Região Metropolitana de São Paulo</td></tr><tr><td>11</td><td>998714509</td><td>Região Metropolitana de São Paulo</td></tr><tr><td>11</td><td>965297907</td><td>Região Metropolitana de São Paulo</td></tr><tr><td>11</td><td>968148509</td><td>Região Metropolitana de São Paulo</td></tr><tr><td>11</td><td>997864844</td><td>Região Metropolitana de São Paulo</td></tr><tr><td>11</td><td>983319507</td><td>Região Metropolitana de São Paulo</td></tr><tr><td>11</td><td>915652120</td><td>Região Metropolitana de São Paulo</td></tr><tr><td>11</td><td>912991845</td><td>Região Metropolitana de São Paulo</td></tr><tr><td>11</td><td>989371952</td><td>Região Metropolitana de São Paulo</td></tr><tr><td>11</td><td>928321726</td><td>Região Metropolitana de São Paulo</td></tr><tr><td>11</td><td>985249030</td><td>Região Metropolitana de São Paulo</td></tr><tr><td>11</td><td>915008303</td><td>Região Metropolitana de São Paulo</td></tr><tr><td>11</td><td>980165445</td><td>Região Metropolitana de São Paulo</td></tr><tr><td>11</td><td>976799552</td><td>Região Metropolitana de São Paulo</td></tr><tr><td>11</td><td>978166178</td><td>Região Metropolitana de São Paulo</td></tr><tr><td>11</td><td>985509292</td><td>Região Metropolitana de São Paulo</td></tr><tr><td>11</td><td>985553454</td><td>Região Metropolitana de São Paulo</td></tr><tr><td>11</td><td>923154886</td><td>Região Metropolitana de São Paulo</td></tr><tr><td>11</td><td>945032190</td><td>Região Metropolitana de São Paulo</td></tr><tr><td>11</td><td>925393603</td><td>Região Metropolitana de São Paulo</td></tr><tr><td>11</td><td>991304398</td><td>Região Metropolitana de São Paulo</td></tr><tr><td>11</td><td>933604364</td><td>Região Metropolitana de São Paulo</td></tr><tr><td>11</td><td>965772886</td><td>Região Metropolitana de São Paulo</td></tr><tr><td>11</td><td>990472979</td><td>Região Metropolitana de São Paulo</td></tr><tr><td>11</td><td>917074086</td><td>Região Metropolitana de São Paulo</td></tr><tr><td>11</td><td>963503938</td><td>Região Metropolitana de São Paulo</td></tr><tr><td>11</td><td>999366547</td><td>Região Metropolitana de São Paulo</td></tr><tr><td>11</td><td>954487591</td><td>Região Metropolitana de São Paulo</td></tr><tr><td>11</td><td>950232127</td><td>Região Metropolitana de São Paulo</td></tr><tr><td>11</td><td>969575575</td><td>Região Metropolitana de São Paulo</td></tr><tr><td>11</td><td>976862060</td><td>Região Metropolitana de São Paulo</td></tr><tr><td>11</td><td>939431891</td><td>Região Metropolitana de São Paulo</td></tr><tr><td>11</td><td>938376741</td><td>Região Metropolitana de São Paulo</td></tr><tr><td>11</td><td>928891292</td><td>Região Metropolitana de São Paulo</td></tr><tr><td>11</td><td>981113081</td><td>Região Metropolitana de São Paulo</td></tr><tr><td>11</td><td>934967486</td><td>Região Metropolitana de São Paulo</td></tr><tr><td>11</td><td>994149426</td><td>Região Metropolitana de São Paulo</td></tr><tr><td>11</td><td>976389072</td><td>Região Metropolitana de São Paulo</td></tr><tr><td>11</td><td>934831288</td><td>Região Metropolitana de São Paulo</td></tr><tr><td>11</td><td>981418418</td><td>Região Metropolitana de São Paulo</td></tr><tr><td>11</td><td>969028724</td><td>Região Metropolitana de São Paulo</td></tr><tr><td>11</td><td>912561658</td><td>Região Metropolitana de São Paulo</td></tr><tr><td>11</td><td>922306093</td><td>Região Metropolitana de São Paulo</td></tr><tr><td>11</td><td>950333112</td><td>Região Metropolitana de São Paulo</td></tr><tr><td>11</td><td>920303069</td><td>Região Metropolitana de São Paulo</td></tr><tr><td>11</td><td>994959182</td><td>Região Metropolitana de São Paulo</td></tr><tr><td>11</td><td>925378574</td><td>Região Metropolitana de São Paulo</td></tr><tr><td>11</td><td>993429741</td><td>Região Metropolitana de São Paulo</td></tr><tr><td>11</td><td>981535349</td><td>Região Metropolitana de São Paulo</td></tr><tr><td>11</td><td>955698583</td><td>Região Metropolitana de São Paulo</td></tr><tr><td>11</td><td>981694270</td><td>Região Metropolitana de São Paulo</td></tr><tr><td>11</td><td>990245173</td><td>Região Metropolitana de São Paulo</td></tr><tr><td>11</td><td>994506475</td><td>Região Metropolitana de São Paulo</td></tr><tr><td>11</td><td>930291690</td><td>Região Metropolitana de São Paulo</td></tr><tr><td>11</td><td>911155505</td><td>Região Metropolitana de São Paulo</td></tr><tr><td>11</td><td>971519605</td><td>Região Metropolitana de São Paulo</td></tr><tr><td>11</td><td>946194337</td><td>Região Metropolitana de São Paulo</td></tr><tr><td>11</td><td>996166806</td><td>Região Metropolitana de São Paulo</td></tr><tr><td>11</td><td>918057686</td><td>Região Metropolitana de São Paulo</td></tr><tr><td>11</td><td>977442899</td><td>Região Metropolitana de São Paulo</td></tr><tr><td>11</td><td>938549573</td><td>Região Metropolitana de São Paulo</td></tr><tr><td>11</td><td>956196567</td><td>Região Metropolitana de São Paulo</td></tr><tr><td>11</td><td>920405030</td><td>Região Metropolitana de São Paulo</td></tr><tr><td>11</td><td>965989540</td><td>Região Metropolitana de São Paulo</td></tr><tr><td>11</td><td>956195732</td><td>Região Metropolitana de São Paulo</td></tr><tr><td>11</td><td>932869132</td><td>Região Metropolitana de São Paulo</td></tr><tr><td>11</td><td>990835135</td><td>Região Metropolitana de São Paulo</td></tr><tr><td>11</td><td>981457612</td><td>Região Metropolitana de São Paulo</td></tr><tr><td>11</td><td>968546546</td><td>Região Metropolitana de São Paulo</td></tr><tr><td>11</td><td>972412161</td><td>Região Metropolitana de São Paulo</td></tr><tr><td>11</td><td>935203868</td><td>Região Metropolitana de São Paulo</td></tr><tr><td>11</td><td>973758505</td><td>Região Metropolitana de São Paulo</td></tr><tr><td>11</td><td>949648135</td><td>Região Metropolitana de São Paulo</td></tr><tr><td>11</td><td>971628834</td><td>Região Metropolitana de São Paulo</td></tr><tr><td>11</td><td>989986945</td><td>Região Metropolitana de São Paulo</td></tr><tr><td>11</td><td>967328389</td><td>Região Metropolitana de São Paulo</td></tr><tr><td>11</td><td>935527152</td><td>Região Metropolitana de São Paulo</td></tr><tr><td>11</td><td>921397660</td><td>Região Metropolitana de São Paulo</td></tr><tr><td>11</td><td>974801943</td><td>Região Metropolitana de São Paulo</td></tr><tr><td>11</td><td>952704938</td><td>Região Metropolitana de São Paulo</td></tr><tr><td>11</td><td>976588387</td><td>Região Metropolitana de São Paulo</td></tr><tr><td>11</td><td>960496214</td><td>Região Metropolitana de São Paulo</td></tr><tr><td>11</td><td>919826684</td><td>Região Metropolitana de São Paulo</td></tr><tr><td>11</td><td>977163165</td><td>Região Metropolitana de São Paulo</td></tr><tr><td>11</td><td>949463976</td><td>Região Metropolitana de São Paulo</td></tr><tr><td>11</td><td>943037016</td><td>Região Metropolitana de São Paulo</td></tr><tr><td>11</td><td>990179855</td><td>Região Metropolitana de São Paulo</td></tr><tr><td>11</td><td>932325283</td><td>Região Metropolitana de São Paulo</td></tr><tr><td>11</td><td>967259758</td><td>Região Metropolitana de São Paulo</td></tr><tr><td>11</td><td>914431958</td><td>Região Metropolitana de São Paulo</td></tr><tr><td>11</td><td>967984847</td><td>Região Metropolitana de São Paulo</td></tr><tr><td>11</td><td>946268116</td><td>Região Metropolitana de São Paulo</td></tr><tr><td>11</td><td>965225897</td><td>Região Metropolitana de São Paulo</td></tr><tr><td>11</td><td>927777364</td><td>Região Metropolitana de São Paulo</td></tr><tr><td>11</td><td>964422275</td><td>Região Metropolitana de São Paulo</td></tr><tr><td>11</td><td>926512420</td><td>Região Metropolitana de São Paulo</td></tr><tr><td>11</td><td>944372042</td><td>Região Metropolitana de São Paulo</td></tr><tr><td>11</td><td>996373113</td><td>Região Metropolitana de São Paulo</td></tr><tr><td>11</td><td>997144699</td><td>Região Metropolitana de São Paulo</td></tr><tr><td>11</td><td>979966681</td><td>Região Metropolitana de São Paulo</td></tr><tr><td>11</td><td>991747421</td><td>Região Metropolitana de São Paulo</td></tr><tr><td>11</td><td>976919886</td><td>Região Metropolitana de São Paulo</td></tr><tr><td>11</td><td>968448321</td><td>Região Metropolitana de São Paulo</td></tr><tr><td>11</td><td>969207240</td><td>Região Metropolitana de São Paulo</td></tr><tr><td>11</td><td>995526403</td><td>Região Metropolitana de São Paulo</td></tr><tr><td>11</td><td>978798454</td><td>Região Metropolitana de São Paulo</td></tr><tr><td>11</td><td>957828663</td><td>Região Metropolitana de São Paulo</td></tr><tr><td>11</td><td>986069074</td><td>Região Metropolitana de São Paulo</td></tr><tr><td>11</td><td>959619321</td><td>Região Metropolitana de São Paulo</td></tr><tr><td>11</td><td>937341221</td><td>Região Metropolitana de São Paulo</td></tr><tr><td>11</td><td>996725982</td><td>Região Metropolitana de São Paulo</td></tr><tr><td>11</td><td>988662110</td><td>Região Metropolitana de São Paulo</td></tr><tr><td>11</td><td>986421940</td><td>Região Metropolitana de São Paulo</td></tr><tr><td>11</td><td>953523929</td><td>Região Metropolitana de São Paulo</td></tr><tr><td>11</td><td>927988936</td><td>Região Metropolitana de São Paulo</td></tr><tr><td>11</td><td>963829670</td><td>Região Metropolitana de São Paulo</td></tr><tr><td>11</td><td>957876057</td><td>Região Metropolitana de São Paulo</td></tr><tr><td>11</td><td>967533854</td><td>Região Metropolitana de São Paulo</td></tr><tr><td>11</td><td>944843023</td><td>Região Metropolitana de São Paulo</td></tr><tr><td>11</td><td>963023934</td><td>Região Metropolitana de São Paulo</td></tr><tr><td>11</td><td>935735306</td><td>Região Metropolitana de São Paulo</td></tr><tr><td>11</td><td>941652488</td><td>Região Metropolitana de São Paulo</td></tr><tr><td>11</td><td>977529398</td><td>Região Metropolitana de São Paulo</td></tr><tr><td>11</td><td>963029681</td><td>Região Metropolitana de São Paulo</td></tr><tr><td>11</td><td>991746276</td><td>Região Metropolitana de São Paulo</td></tr><tr><td>11</td><td>986157380</td><td>Região Metropolitana de São Paulo</td></tr><tr><td>11</td><td>953944021</td><td>Região Metropolitana de São Paulo</td></tr><tr><td>11</td><td>970713925</td><td>Região Metropolitana de São Paulo</td></tr><tr><td>11</td><td>939683545</td><td>Região Metropolitana de São Paulo</td></tr><tr><td>11</td><td>954197688</td><td>Região Metropolitana de São Paulo</td></tr><tr><td>11</td><td>995285055</td><td>Região Metropolitana de São Paulo</td></tr><tr><td>11</td><td>936507103</td><td>Região Metropolitana de São Paulo</td></tr><tr><td>11</td><td>943724472</td><td>Região Metropolitana de São Paulo</td></tr><tr><td>11</td><td>987722093</td><td>Região Metropolitana de São Paulo</td></tr><tr><td>11</td><td>978861040</td><td>Região Metropolitana de São Paulo</td></tr><tr><td>11</td><td>920989276</td><td>Região Metropolitana de São Paulo</td></tr><tr><td>11</td><td>939485281</td><td>Região Metropolitana de São Paulo</td></tr><tr><td>11</td><td>985212824</td><td>Região Metropolitana de São Paulo</td></tr><tr><td>11</td><td>928234743</td><td>Região Metropolitana de São Paulo</td></tr><tr><td>11</td><td>942566308</td><td>Região Metropolitana de São Paulo</td></tr><tr><td>11</td><td>926788649</td><td>Região Metropolitana de São Paulo</td></tr><tr><td>11</td><td>963264041</td><td>Região Metropolitana de São Paulo</td></tr><tr><td>11</td><td>990767424</td><td>Região Metropolitana de São Paulo</td></tr><tr><td>11</td><td>947713326</td><td>Região Metropolitana de São Paulo</td></tr><tr><td>11</td><td>937596475</td><td>Região Metropolitana de São Paulo</td></tr><tr><td>11</td><td>979381594</td><td>Região Metropolitana de São Paulo</td></tr><tr><td>11</td><td>954786545</td><td>Região Metropolitana de São Paulo</td></tr><tr><td>11</td><td>971362054</td><td>Região Metropolitana de São Paulo</td></tr><tr><td>11</td><td>911037117</td><td>Região Metropolitana de São Paulo</td></tr><tr><td>11</td><td>935547806</td><td>Região Metropolitana de São Paulo</td></tr><tr><td>11</td><td>958897602</td><td>Região Metropolitana de São Paulo</td></tr><tr><td>11</td><td>972671154</td><td>Região Metropolitana de São Paulo</td></tr><tr><td>11</td><td>936447488</td><td>Região Metropolitana de São Paulo</td></tr><tr><td>11</td><td>997334775</td><td>Região Metropolitana de São Paulo</td></tr><tr><td>11</td><td>965809399</td><td>Região Metropolitana de São Paulo</td></tr><tr><td>11</td><td>993497316</td><td>Região Metropolitana de São Paulo</td></tr><tr><td>11</td><td>947643350</td><td>Região Metropolitana de São Paulo</td></tr><tr><td>11</td><td>931471467</td><td>Região Metropolitana de São Paulo</td></tr><tr><td>11</td><td>976564327</td><td>Região Metropolitana de São Paulo</td></tr><tr><td>11</td><td>998158924</td><td>Região Metropolitana de São Paulo</td></tr><tr><td>11</td><td>938453262</td><td>Região Metropolitana de São Paulo</td></tr><tr><td>11</td><td>995697219</td><td>Região Metropolitana de São Paulo</td></tr><tr><td>11</td><td>920607154</td><td>Região Metropolitana de São Paulo</td></tr><tr><td>11</td><td>976431232</td><td>Região Metropolitana de São Paulo</td></tr><tr><td>11</td><td>951058511</td><td>Região Metropolitana de São Paulo</td></tr><tr><td>11</td><td>977005346</td><td>Região Metropolitana de São Paulo</td></tr><tr><td>11</td><td>933795304</td><td>Região Metropolitana de São Paulo</td></tr><tr><td>11</td><td>942282067</td><td>Região Metropolitana de São Paulo</td></tr><tr><td>11</td><td>951218567</td><td>Região Metropolitana de São Paulo</td></tr><tr><td>11</td><td>930768621</td><td>Região Metropolitana de São Paulo</td></tr><tr><td>11</td><td>983247423</td><td>Região Metropolitana de São Paulo</td></tr><tr><td>11</td><td>972977665</td><td>Região Metropolitana de São Paulo</td></tr><tr><td>11</td><td>993938423</td><td>Região Metropolitana de São Paulo</td></tr><tr><td>11</td><td>964496714</td><td>Região Metropolitana de São Paulo</td></tr><tr><td>11</td><td>984844606</td><td>Região Metropolitana de São Paulo</td></tr><tr><td>11</td><td>950589304</td><td>Região Metropolitana de São Paulo</td></tr><tr><td>11</td><td>922211253</td><td>Região Metropolitana de São Paulo</td></tr><tr><td>11</td><td>954312705</td><td>Região Metropolitana de São Paulo</td></tr><tr><td>11</td><td>993498718</td><td>Região Metropolitana de São Paulo</td></tr><tr><td>11</td><td>987705318</td><td>Região Metropolitana de São Paulo</td></tr><tr><td>11</td><td>944791408</td><td>Região Metropolitana de São Paulo</td></tr><tr><td>11</td><td>912098362</td><td>Região Metropolitana de São Paulo</td></tr><tr><td>11</td><td>919304700</td><td>Região Metropolitana de São Paulo</td></tr><tr><td>11</td><td>983795117</td><td>Região Metropolitana de São Paulo</td></tr><tr><td>11</td><td>978717643</td><td>Região Metropolitana de São Paulo</td></tr><tr><td>11</td><td>941979761</td><td>Região Metropolitana de São Paulo</td></tr><tr><td>11</td><td>997022736</td><td>Região Metropolitana de São Paulo</td></tr><tr><td>11</td><td>939371599</td><td>Região Metropolitana de São Paulo</td></tr><tr><td>11</td><td>977104456</td><td>Região Metropolitana de São Paulo</td></tr><tr><td>11</td><td>980731555</td><td>Região Metropolitana de São Paulo</td></tr><tr><td>11</td><td>943909628</td><td>Região Metropolitana de São Paulo</td></tr><tr><td>11</td><td>950971746</td><td>Região Metropolitana de São Paulo</td></tr><tr><td>11</td><td>981082508</td><td>Região Metropolitana de São Paulo</td></tr><tr><td>11</td><td>941967902</td><td>Região Metropolitana de São Paulo</td></tr><tr><td>11</td><td>986971597</td><td>Região Metropolitana de São Paulo</td></tr><tr><td>11</td><td>962941878</td><td>Região Metropolitana de São Paulo</td></tr><tr><td>11</td><td>950053478</td><td>Região Metropolitana de São Paulo</td></tr><tr><td>11</td><td>925968942</td><td>Região Metropolitana de São Paulo</td></tr><tr><td>11</td><td>998796133</td><td>Região Metropolitana de São Paulo</td></tr><tr><td>11</td><td>930891771</td><td>Região Metropolitana de São Paulo</td></tr><tr><td>11</td><td>976301064</td><td>Região Metropolitana de São Paulo</td></tr><tr><td>11</td><td>986365752</td><td>Região Metropolitana de São Paulo</td></tr><tr><td>11</td><td>967055525</td><td>Região Metropolitana de São Paulo</td></tr><tr><td>11</td><td>977024376</td><td>Região Metropolitana de São Paulo</td></tr><tr><td>11</td><td>974414706</td><td>Região Metropolitana de São Paulo</td></tr><tr><td>11</td><td>934129314</td><td>Região Metropolitana de São Paulo</td></tr><tr><td>11</td><td>918219583</td><td>Região Metropolitana de São Paulo</td></tr><tr><td>11</td><td>992456690</td><td>Região Metropolitana de São Paulo</td></tr><tr><td>11</td><td>957872536</td><td>Região Metropolitana de São Paulo</td></tr><tr><td>11</td><td>916495039</td><td>Região Metropolitana de São Paulo</td></tr><tr><td>11</td><td>991204876</td><td>Região Metropolitana de São Paulo</td></tr><tr><td>11</td><td>932733277</td><td>Região Metropolitana de São Paulo</td></tr><tr><td>11</td><td>938728793</td><td>Região Metropolitana de São Paulo</td></tr><tr><td>11</td><td>990103702</td><td>Região Metropolitana de São Paulo</td></tr><tr><td>11</td><td>919575287</td><td>Região Metropolitana de São Paulo</td></tr><tr><td>11</td><td>964658197</td><td>Região Metropolitana de São Paulo</td></tr><tr><td>11</td><td>963848397</td><td>Região Metropolitana de São Paulo</td></tr><tr><td>11</td><td>941121236</td><td>Região Metropolitana de São Paulo</td></tr><tr><td>11</td><td>989531744</td><td>Região Metropolitana de São Paulo</td></tr><tr><td>11</td><td>938566332</td><td>Região Metropolitana de São Paulo</td></tr><tr><td>11</td><td>985524629</td><td>Região Metropolitana de São Paulo</td></tr><tr><td>11</td><td>946329310</td><td>Região Metropolitana de São Paulo</td></tr><tr><td>11</td><td>949808187</td><td>Região Metropolitana de São Paulo</td></tr><tr><td>11</td><td>933375803</td><td>Região Metropolitana de São Paulo</td></tr><tr><td>11</td><td>930555505</td><td>Região Metropolitana de São Paulo</td></tr><tr><td>11</td><td>971787286</td><td>Região Metropolitana de São Paulo</td></tr><tr><td>11</td><td>980226375</td><td>Região Metropolitana de São Paulo</td></tr><tr><td>11</td><td>994254316</td><td>Região Metropolitana de São Paulo</td></tr><tr><td>11</td><td>947514390</td><td>Região Metropolitana de São Paulo</td></tr><tr><td>11</td><td>985703601</td><td>Região Metropolitana de São Paulo</td></tr><tr><td>11</td><td>959928731</td><td>Região Metropolitana de São Paulo</td></tr><tr><td>11</td><td>931325076</td><td>Região Metropolitana de São Paulo</td></tr><tr><td>11</td><td>943494330</td><td>Região Metropolitana de São Paulo</td></tr><tr><td>11</td><td>963484619</td><td>Região Metropolitana de São Paulo</td></tr><tr><td>11</td><td>913538730</td><td>Região Metropolitana de São Paulo</td></tr><tr><td>11</td><td>916029456</td><td>Região Metropolitana de São Paulo</td></tr><tr><td>11</td><td>973444161</td><td>Região Metropolitana de São Paulo</td></tr><tr><td>11</td><td>911122077</td><td>Região Metropolitana de São Paulo</td></tr><tr><td>11</td><td>987834718</td><td>Região Metropolitana de São Paulo</td></tr><tr><td>11</td><td>940175979</td><td>Região Metropolitana de São Paulo</td></tr><tr><td>11</td><td>962375970</td><td>Região Metropolitana de São Paulo</td></tr><tr><td>11</td><td>914041411</td><td>Região Metropolitana de São Paulo</td></tr><tr><td>11</td><td>920178220</td><td>Região Metropolitana de São Paulo</td></tr><tr><td>11</td><td>926817317</td><td>Região Metropolitana de São Paulo</td></tr><tr><td>11</td><td>963228771</td><td>Região Metropolitana de São Paulo</td></tr><tr><td>11</td><td>972971077</td><td>Região Metropolitana de São Paulo</td></tr><tr><td>11</td><td>985895837</td><td>Região Metropolitana de São Paulo</td></tr><tr><td>11</td><td>979363003</td><td>Região Metropolitana de São Paulo</td></tr><tr><td>11</td><td>963107869</td><td>Região Metropolitana de São Paulo</td></tr><tr><td>11</td><td>910302926</td><td>Região Metropolitana de São Paulo</td></tr><tr><td>11</td><td>991919902</td><td>Região Metropolitana de São Paulo</td></tr><tr><td>11</td><td>984229732</td><td>Região Metropolitana de São Paulo</td></tr><tr><td>11</td><td>998623943</td><td>Região Metropolitana de São Paulo</td></tr><tr><td>11</td><td>980763719</td><td>Região Metropolitana de São Paulo</td></tr><tr><td>11</td><td>954176916</td><td>Região Metropolitana de São Paulo</td></tr><tr><td>11</td><td>930755561</td><td>Região Metropolitana de São Paulo</td></tr><tr><td>11</td><td>958311536</td><td>Região Metropolitana de São Paulo</td></tr><tr><td>11</td><td>954048659</td><td>Região Metropolitana de São Paulo</td></tr><tr><td>11</td><td>922712926</td><td>Região Metropolitana de São Paulo</td></tr><tr><td>11</td><td>988253563</td><td>Região Metropolitana de São Paulo</td></tr><tr><td>11</td><td>921511408</td><td>Região Metropolitana de São Paulo</td></tr><tr><td>11</td><td>987535089</td><td>Região Metropolitana de São Paulo</td></tr><tr><td>11</td><td>950541727</td><td>Região Metropolitana de São Paulo</td></tr><tr><td>11</td><td>984438790</td><td>Região Metropolitana de São Paulo</td></tr><tr><td>11</td><td>956749195</td><td>Região Metropolitana de São Paulo</td></tr><tr><td>11</td><td>961846175</td><td>Região Metropolitana de São Paulo</td></tr><tr><td>11</td><td>980241105</td><td>Região Metropolitana de São Paulo</td></tr><tr><td>11</td><td>945974994</td><td>Região Metropolitana de São Paulo</td></tr><tr><td>11</td><td>921292945</td><td>Região Metropolitana de São Paulo</td></tr><tr><td>11</td><td>920123324</td><td>Região Metropolitana de São Paulo</td></tr><tr><td>11</td><td>983127345</td><td>Região Metropolitana de São Paulo</td></tr><tr><td>11</td><td>989364268</td><td>Região Metropolitana de São Paulo</td></tr><tr><td>11</td><td>963752711</td><td>Região Metropolitana de São Paulo</td></tr><tr><td>11</td><td>967622781</td><td>Região Metropolitana de São Paulo</td></tr><tr><td>11</td><td>965459153</td><td>Região Metropolitana de São Paulo</td></tr><tr><td>11</td><td>948751071</td><td>Região Metropolitana de São Paulo</td></tr><tr><td>11</td><td>980135225</td><td>Região Metropolitana de São Paulo</td></tr><tr><td>11</td><td>983833370</td><td>Região Metropolitana de São Paulo</td></tr><tr><td>11</td><td>970751164</td><td>Região Metropolitana de São Paulo</td></tr><tr><td>11</td><td>959526163</td><td>Região Metropolitana de São Paulo</td></tr><tr><td>11</td><td>964703883</td><td>Região Metropolitana de São Paulo</td></tr><tr><td>11</td><td>997138115</td><td>Região Metropolitana de São Paulo</td></tr><tr><td>11</td><td>972589060</td><td>Região Metropolitana de São Paulo</td></tr><tr><td>11</td><td>919775625</td><td>Região Metropolitana de São Paulo</td></tr><tr><td>11</td><td>927293222</td><td>Região Metropolitana de São Paulo</td></tr><tr><td>11</td><td>922084733</td><td>Região Metropolitana de São Paulo</td></tr><tr><td>11</td><td>945525967</td><td>Região Metropolitana de São Paulo</td></tr><tr><td>11</td><td>911321696</td><td>Região Metropolitana de São Paulo</td></tr><tr><td>11</td><td>923078607</td><td>Região Metropolitana de São Paulo</td></tr><tr><td>11</td><td>941454314</td><td>Região Metropolitana de São Paulo</td></tr><tr><td>11</td><td>971725879</td><td>Região Metropolitana de São Paulo</td></tr><tr><td>11</td><td>914407078</td><td>Região Metropolitana de São Paulo</td></tr><tr><td>11</td><td>935463764</td><td>Região Metropolitana de São Paulo</td></tr><tr><td>11</td><td>969985549</td><td>Região Metropolitana de São Paulo</td></tr><tr><td>11</td><td>984987210</td><td>Região Metropolitana de São Paulo</td></tr><tr><td>11</td><td>982485146</td><td>Região Metropolitana de São Paulo</td></tr><tr><td>11</td><td>926319250</td><td>Região Metropolitana de São Paulo</td></tr><tr><td>11</td><td>989823267</td><td>Região Metropolitana de São Paulo</td></tr><tr><td>11</td><td>995186130</td><td>Região Metropolitana de São Paulo</td></tr><tr><td>11</td><td>959208403</td><td>Região Metropolitana de São Paulo</td></tr><tr><td>11</td><td>984954301</td><td>Região Metropolitana de São Paulo</td></tr><tr><td>11</td><td>933677426</td><td>Região Metropolitana de São Paulo</td></tr><tr><td>11</td><td>971778250</td><td>Região Metropolitana de São Paulo</td></tr><tr><td>11</td><td>976354732</td><td>Região Metropolitana de São Paulo</td></tr><tr><td>11</td><td>958286782</td><td>Região Metropolitana de São Paulo</td></tr><tr><td>11</td><td>981906398</td><td>Região Metropolitana de São Paulo</td></tr><tr><td>11</td><td>955584674</td><td>Região Metropolitana de São Paulo</td></tr><tr><td>11</td><td>948667586</td><td>Região Metropolitana de São Paulo</td></tr><tr><td>11</td><td>943106375</td><td>Região Metropolitana de São Paulo</td></tr><tr><td>11</td><td>965803298</td><td>Região Metropolitana de São Paulo</td></tr><tr><td>11</td><td>962871363</td><td>Região Metropolitana de São Paulo</td></tr><tr><td>11</td><td>914167112</td><td>Região Metropolitana de São Paulo</td></tr><tr><td>11</td><td>966174922</td><td>Região Metropolitana de São Paulo</td></tr><tr><td>11</td><td>914088258</td><td>Região Metropolitana de São Paulo</td></tr><tr><td>11</td><td>985204932</td><td>Região Metropolitana de São Paulo</td></tr><tr><td>11</td><td>995345994</td><td>Região Metropolitana de São Paulo</td></tr><tr><td>11</td><td>975989000</td><td>Região Metropolitana de São Paulo</td></tr><tr><td>11</td><td>952993895</td><td>Região Metropolitana de São Paulo</td></tr><tr><td>11</td><td>920562647</td><td>Região Metropolitana de São Paulo</td></tr><tr><td>11</td><td>964255135</td><td>Região Metropolitana de São Paulo</td></tr><tr><td>11</td><td>950956457</td><td>Região Metropolitana de São Paulo</td></tr><tr><td>11</td><td>990177598</td><td>Região Metropolitana de São Paulo</td></tr><tr><td>11</td><td>994017902</td><td>Região Metropolitana de São Paulo</td></tr><tr><td>11</td><td>972206881</td><td>Região Metropolitana de São Paulo</td></tr><tr><td>11</td><td>956885437</td><td>Região Metropolitana de São Paulo</td></tr><tr><td>11</td><td>966315139</td><td>Região Metropolitana de São Paulo</td></tr><tr><td>11</td><td>924621410</td><td>Região Metropolitana de São Paulo</td></tr><tr><td>11</td><td>914704716</td><td>Região Metropolitana de São Paulo</td></tr><tr><td>11</td><td>949098575</td><td>Região Metropolitana de São Paulo</td></tr><tr><td>11</td><td>973702913</td><td>Região Metropolitana de São Paulo</td></tr><tr><td>11</td><td>985113048</td><td>Região Metropolitana de São Paulo</td></tr><tr><td>11</td><td>926127834</td><td>Região Metropolitana de São Paulo</td></tr><tr><td>11</td><td>920991142</td><td>Região Metropolitana de São Paulo</td></tr><tr><td>11</td><td>918255753</td><td>Região Metropolitana de São Paulo</td></tr><tr><td>11</td><td>936326068</td><td>Região Metropolitana de São Paulo</td></tr><tr><td>11</td><td>961512790</td><td>Região Metropolitana de São Paulo</td></tr><tr><td>11</td><td>999526219</td><td>Região Metropolitana de São Paulo</td></tr><tr><td>11</td><td>950661031</td><td>Região Metropolitana de São Paulo</td></tr><tr><td>11</td><td>921472587</td><td>Região Metropolitana de São Paulo</td></tr><tr><td>11</td><td>987118360</td><td>Região Metropolitana de São Paulo</td></tr><tr><td>11</td><td>922926054</td><td>Região Metropolitana de São Paulo</td></tr><tr><td>11</td><td>950858127</td><td>Região Metropolitana de São Paulo</td></tr><tr><td>11</td><td>955798509</td><td>Região Metropolitana de São Paulo</td></tr><tr><td>11</td><td>956935709</td><td>Região Metropolitana de São Paulo</td></tr><tr><td>11</td><td>912311707</td><td>Região Metropolitana de São Paulo</td></tr><tr><td>11</td><td>976029224</td><td>Região Metropolitana de São Paulo</td></tr><tr><td>11</td><td>944002513</td><td>Região Metropolitana de São Paulo</td></tr><tr><td>11</td><td>959182770</td><td>Região Metropolitana de São Paulo</td></tr><tr><td>11</td><td>997047225</td><td>Região Metropolitana de São Paulo</td></tr><tr><td>11</td><td>978625847</td><td>Região Metropolitana de São Paulo</td></tr><tr><td>11</td><td>943945595</td><td>Região Metropolitana de São Paulo</td></tr><tr><td>11</td><td>946418152</td><td>Região Metropolitana de São Paulo</td></tr><tr><td>11</td><td>941104079</td><td>Região Metropolitana de São Paulo</td></tr><tr><td>11</td><td>914192175</td><td>Região Metropolitana de São Paulo</td></tr><tr><td>11</td><td>976863721</td><td>Região Metropolitana de São Paulo</td></tr><tr><td>11</td><td>923894714</td><td>Região Metropolitana de São Paulo</td></tr><tr><td>11</td><td>934762912</td><td>Região Metropolitana de São Paulo</td></tr><tr><td>11</td><td>944075296</td><td>Região Metropolitana de São Paulo</td></tr><tr><td>11</td><td>912782863</td><td>Região Metropolitana de São Paulo</td></tr><tr><td>11</td><td>980398203</td><td>Região Metropolitana de São Paulo</td></tr><tr><td>11</td><td>961847882</td><td>Região Metropolitana de São Paulo</td></tr><tr><td>11</td><td>987269500</td><td>Região Metropolitana de São Paulo</td></tr><tr><td>11</td><td>966496490</td><td>Região Metropolitana de São Paulo</td></tr><tr><td>11</td><td>974013578</td><td>Região Metropolitana de São Paulo</td></tr><tr><td>11</td><td>919697301</td><td>Região Metropolitana de São Paulo</td></tr><tr><td>11</td><td>965996186</td><td>Região Metropolitana de São Paulo</td></tr><tr><td>11</td><td>930248772</td><td>Região Metropolitana de São Paulo</td></tr><tr><td>11</td><td>928484704</td><td>Região Metropolitana de São Paulo</td></tr><tr><td>11</td><td>946211386</td><td>Região Metropolitana de São Paulo</td></tr><tr><td>11</td><td>930986174</td><td>Região Metropolitana de São Paulo</td></tr><tr><td>11</td><td>978831905</td><td>Região Metropolitana de São Paulo</td></tr><tr><td>11</td><td>969813772</td><td>Região Metropolitana de São Paulo</td></tr><tr><td>11</td><td>971873006</td><td>Região Metropolitana de São Paulo</td></tr><tr><td>11</td><td>926788141</td><td>Região Metropolitana de São Paulo</td></tr><tr><td>11</td><td>995884553</td><td>Região Metropolitana de São Paulo</td></tr><tr><td>11</td><td>933747996</td><td>Região Metropolitana de São Paulo</td></tr><tr><td>11</td><td>940603547</td><td>Região Metropolitana de São Paulo</td></tr><tr><td>11</td><td>985536098</td><td>Região Metropolitana de São Paulo</td></tr><tr><td>11</td><td>951833012</td><td>Região Metropolitana de São Paulo</td></tr><tr><td>11</td><td>952266165</td><td>Região Metropolitana de São Paulo</td></tr><tr><td>11</td><td>952247187</td><td>Região Metropolitana de São Paulo</td></tr><tr><td>11</td><td>992556026</td><td>Região Metropolitana de São Paulo</td></tr><tr><td>11</td><td>957397655</td><td>Região Metropolitana de São Paulo</td></tr><tr><td>11</td><td>977076318</td><td>Região Metropolitana de São Paulo</td></tr><tr><td>11</td><td>956789027</td><td>Região Metropolitana de São Paulo</td></tr><tr><td>11</td><td>943072645</td><td>Região Metropolitana de São Paulo</td></tr><tr><td>11</td><td>934467777</td><td>Região Metropolitana de São Paulo</td></tr><tr><td>11</td><td>984318937</td><td>Região Metropolitana de São Paulo</td></tr><tr><td>11</td><td>949535597</td><td>Região Metropolitana de São Paulo</td></tr><tr><td>11</td><td>938972295</td><td>Região Metropolitana de São Paulo</td></tr><tr><td>11</td><td>964917289</td><td>Região Metropolitana de São Paulo</td></tr><tr><td>11</td><td>959487121</td><td>Região Metropolitana de São Paulo</td></tr><tr><td>11</td><td>969924702</td><td>Região Metropolitana de São Paulo</td></tr><tr><td>11</td><td>919733719</td><td>Região Metropolitana de São Paulo</td></tr><tr><td>11</td><td>918275106</td><td>Região Metropolitana de São Paulo</td></tr><tr><td>11</td><td>997078925</td><td>Região Metropolitana de São Paulo</td></tr><tr><td>11</td><td>911042604</td><td>Região Metropolitana de São Paulo</td></tr><tr><td>11</td><td>999285756</td><td>Região Metropolitana de São Paulo</td></tr><tr><td>11</td><td>943391041</td><td>Região Metropolitana de São Paulo</td></tr><tr><td>11</td><td>922332882</td><td>Região Metropolitana de São Paulo</td></tr><tr><td>11</td><td>992142543</td><td>Região Metropolitana de São Paulo</td></tr><tr><td>11</td><td>954125797</td><td>Região Metropolitana de São Paulo</td></tr><tr><td>11</td><td>942322498</td><td>Região Metropolitana de São Paulo</td></tr><tr><td>11</td><td>935534140</td><td>Região Metropolitana de São Paulo</td></tr><tr><td>11</td><td>957097324</td><td>Região Metropolitana de São Paulo</td></tr><tr><td>11</td><td>981222980</td><td>Região Metropolitana de São Paulo</td></tr><tr><td>11</td><td>942758607</td><td>Região Metropolitana de São Paulo</td></tr><tr><td>11</td><td>919673028</td><td>Região Metropolitana de São Paulo</td></tr><tr><td>11</td><td>939622384</td><td>Região Metropolitana de São Paulo</td></tr><tr><td>11</td><td>933643705</td><td>Região Metropolitana de São Paulo</td></tr><tr><td>11</td><td>995953188</td><td>Região Metropolitana de São Paulo</td></tr><tr><td>11</td><td>933567498</td><td>Região Metropolitana de São Paulo</td></tr><tr><td>11</td><td>993402215</td><td>Região Metropolitana de São Paulo</td></tr><tr><td>11</td><td>954285336</td><td>Região Metropolitana de São Paulo</td></tr><tr><td>11</td><td>969294741</td><td>Região Metropolitana de São Paulo</td></tr><tr><td>11</td><td>988933903</td><td>Região Metropolitana de São Paulo</td></tr><tr><td>11</td><td>944184926</td><td>Região Metropolitana de São Paulo</td></tr><tr><td>11</td><td>936564077</td><td>Região Metropolitana de São Paulo</td></tr><tr><td>11</td><td>981121017</td><td>Região Metropolitana de São Paulo</td></tr><tr><td>11</td><td>944485962</td><td>Região Metropolitana de São Paulo</td></tr><tr><td>11</td><td>913783830</td><td>Região Metropolitana de São Paulo</td></tr><tr><td>11</td><td>913679939</td><td>Região Metropolitana de São Paulo</td></tr><tr><td>11</td><td>984188004</td><td>Região Metropolitana de São Paulo</td></tr><tr><td>11</td><td>929927591</td><td>Região Metropolitana de São Paulo</td></tr><tr><td>11</td><td>957365618</td><td>Região Metropolitana de São Paulo</td></tr><tr><td>11</td><td>968021312</td><td>Região Metropolitana de São Paulo</td></tr><tr><td>11</td><td>957218742</td><td>Região Metropolitana de São Paulo</td></tr><tr><td>11</td><td>924254595</td><td>Região Metropolitana de São Paulo</td></tr><tr><td>11</td><td>936106003</td><td>Região Metropolitana de São Paulo</td></tr><tr><td>11</td><td>919876275</td><td>Região Metropolitana de São Paulo</td></tr><tr><td>11</td><td>980105864</td><td>Região Metropolitana de São Paulo</td></tr><tr><td>11</td><td>936113761</td><td>Região Metropolitana de São Paulo</td></tr><tr><td>11</td><td>943181408</td><td>Região Metropolitana de São Paulo</td></tr><tr><td>11</td><td>910226728</td><td>Região Metropolitana de São Paulo</td></tr><tr><td>11</td><td>965902119</td><td>Região Metropolitana de São Paulo</td></tr><tr><td>11</td><td>987699543</td><td>Região Metropolitana de São Paulo</td></tr><tr><td>11</td><td>935932179</td><td>Região Metropolitana de São Paulo</td></tr><tr><td>11</td><td>968394069</td><td>Região Metropolitana de São Paulo</td></tr><tr><td>11</td><td>984871428</td><td>Região Metropolitana de São Paulo</td></tr><tr><td>11</td><td>966821111</td><td>Região Metropolitana de São Paulo</td></tr><tr><td>11</td><td>948835423</td><td>Região Metropolitana de São Paulo</td></tr><tr><td>11</td><td>978366814</td><td>Região Metropolitana de São Paulo</td></tr><tr><td>11</td><td>945454499</td><td>Região Metropolitana de São Paulo</td></tr><tr><td>11</td><td>988948142</td><td>Região Metropolitana de São Paulo</td></tr><tr><td>11</td><td>964635273</td><td>Região Metropolitana de São Paulo</td></tr><tr><td>11</td><td>941447873</td><td>Região Metropolitana de São Paulo</td></tr><tr><td>11</td><td>979676343</td><td>Região Metropolitana de São Paulo</td></tr><tr><td>11</td><td>972709725</td><td>Região Metropolitana de São Paulo</td></tr><tr><td>11</td><td>921004587</td><td>Região Metropolitana de São Paulo</td></tr><tr><td>11</td><td>937856056</td><td>Região Metropolitana de São Paulo</td></tr><tr><td>11</td><td>953773584</td><td>Região Metropolitana de São Paulo</td></tr><tr><td>11</td><td>947862364</td><td>Região Metropolitana de São Paulo</td></tr><tr><td>11</td><td>929466625</td><td>Região Metropolitana de São Paulo</td></tr><tr><td>11</td><td>972143953</td><td>Região Metropolitana de São Paulo</td></tr><tr><td>11</td><td>911392238</td><td>Região Metropolitana de São Paulo</td></tr><tr><td>11</td><td>916646836</td><td>Região Metropolitana de São Paulo</td></tr><tr><td>11</td><td>961823865</td><td>Região Metropolitana de São Paulo</td></tr><tr><td>11</td><td>928735252</td><td>Região Metropolitana de São Paulo</td></tr><tr><td>11</td><td>953256094</td><td>Região Metropolitana de São Paulo</td></tr><tr><td>11</td><td>955207409</td><td>Região Metropolitana de São Paulo</td></tr><tr><td>11</td><td>955284486</td><td>Região Metropolitana de São Paulo</td></tr><tr><td>11</td><td>977883315</td><td>Região Metropolitana de São Paulo</td></tr><tr><td>11</td><td>958245635</td><td>Região Metropolitana de São Paulo</td></tr><tr><td>11</td><td>939698346</td><td>Região Metropolitana de São Paulo</td></tr><tr><td>11</td><td>949548881</td><td>Região Metropolitana de São Paulo</td></tr><tr><td>11</td><td>961443817</td><td>Região Metropolitana de São Paulo</td></tr><tr><td>11</td><td>978639487</td><td>Região Metropolitana de São Paulo</td></tr><tr><td>11</td><td>946733705</td><td>Região Metropolitana de São Paulo</td></tr><tr><td>11</td><td>928648372</td><td>Região Metropolitana de São Paulo</td></tr><tr><td>11</td><td>976442739</td><td>Região Metropolitana de São Paulo</td></tr><tr><td>11</td><td>933131327</td><td>Região Metropolitana de São Paulo</td></tr><tr><td>11</td><td>989685158</td><td>Região Metropolitana de São Paulo</td></tr><tr><td>11</td><td>992142618</td><td>Região Metropolitana de São Paulo</td></tr><tr><td>11</td><td>938033855</td><td>Região Metropolitana de São Paulo</td></tr><tr><td>11</td><td>965898455</td><td>Região Metropolitana de São Paulo</td></tr><tr><td>11</td><td>978025039</td><td>Região Metropolitana de São Paulo</td></tr><tr><td>11</td><td>996573780</td><td>Região Metropolitana de São Paulo</td></tr><tr><td>11</td><td>945991208</td><td>Região Metropolitana de São Paulo</td></tr><tr><td>11</td><td>944729472</td><td>Região Metropolitana de São Paulo</td></tr><tr><td>11</td><td>936524762</td><td>Região Metropolitana de São Paulo</td></tr><tr><td>11</td><td>946556726</td><td>Região Metropolitana de São Paulo</td></tr><tr><td>11</td><td>964132964</td><td>Região Metropolitana de São Paulo</td></tr><tr><td>11</td><td>926616750</td><td>Região Metropolitana de São Paulo</td></tr><tr><td>11</td><td>955209671</td><td>Região Metropolitana de São Paulo</td></tr><tr><td>11</td><td>978783980</td><td>Região Metropolitana de São Paulo</td></tr><tr><td>11</td><td>913944133</td><td>Região Metropolitana de São Paulo</td></tr><tr><td>11</td><td>953105130</td><td>Região Metropolitana de São Paulo</td></tr><tr><td>11</td><td>990231927</td><td>Região Metropolitana de São Paulo</td></tr><tr><td>11</td><td>999366802</td><td>Região Metropolitana de São Paulo</td></tr><tr><td>11</td><td>929157141</td><td>Região Metropolitana de São Paulo</td></tr><tr><td>11</td><td>986383736</td><td>Região Metropolitana de São Paulo</td></tr><tr><td>11</td><td>914223466</td><td>Região Metropolitana de São Paulo</td></tr><tr><td>11</td><td>923517178</td><td>Região Metropolitana de São Paulo</td></tr><tr><td>11</td><td>959145166</td><td>Região Metropolitana de São Paulo</td></tr><tr><td>11</td><td>939368624</td><td>Região Metropolitana de São Paulo</td></tr><tr><td>11</td><td>918947845</td><td>Região Metropolitana de São Paulo</td></tr><tr><td>11</td><td>927097095</td><td>Região Metropolitana de São Paulo</td></tr><tr><td>11</td><td>929529706</td><td>Região Metropolitana de São Paulo</td></tr><tr><td>11</td><td>945575180</td><td>Região Metropolitana de São Paulo</td></tr><tr><td>11</td><td>925946394</td><td>Região Metropolitana de São Paulo</td></tr><tr><td>11</td><td>992196486</td><td>Região Metropolitana de São Paulo</td></tr><tr><td>11</td><td>960968915</td><td>Região Metropolitana de São Paulo</td></tr><tr><td>11</td><td>959449838</td><td>Região Metropolitana de São Paulo</td></tr><tr><td>11</td><td>971249012</td><td>Região Metropolitana de São Paulo</td></tr><tr><td>11</td><td>954237707</td><td>Região Metropolitana de São Paulo</td></tr><tr><td>11</td><td>990354976</td><td>Região Metropolitana de São Paulo</td></tr><tr><td>11</td><td>931488208</td><td>Região Metropolitana de São Paulo</td></tr><tr><td>11</td><td>943074527</td><td>Região Metropolitana de São Paulo</td></tr><tr><td>11</td><td>989445714</td><td>Região Metropolitana de São Paulo</td></tr><tr><td>11</td><td>910276580</td><td>Região Metropolitana de São Paulo</td></tr><tr><td>11</td><td>955075391</td><td>Região Metropolitana de São Paulo</td></tr><tr><td>11</td><td>925495390</td><td>Região Metropolitana de São Paulo</td></tr><tr><td>11</td><td>938915805</td><td>Região Metropolitana de São Paulo</td></tr><tr><td>11</td><td>989832844</td><td>Região Metropolitana de São Paulo</td></tr><tr><td>11</td><td>941912958</td><td>Região Metropolitana de São Paulo</td></tr><tr><td>11</td><td>938115804</td><td>Região Metropolitana de São Paulo</td></tr><tr><td>11</td><td>920475390</td><td>Região Metropolitana de São Paulo</td></tr><tr><td>11</td><td>934538007</td><td>Região Metropolitana de São Paulo</td></tr><tr><td>11</td><td>994457553</td><td>Região Metropolitana de São Paulo</td></tr><tr><td>11</td><td>955997622</td><td>Região Metropolitana de São Paulo</td></tr><tr><td>11</td><td>967051801</td><td>Região Metropolitana de São Paulo</td></tr><tr><td>11</td><td>978205406</td><td>Região Metropolitana de São Paulo</td></tr><tr><td>11</td><td>959732591</td><td>Região Metropolitana de São Paulo</td></tr><tr><td>11</td><td>978774414</td><td>Região Metropolitana de São Paulo</td></tr><tr><td>11</td><td>912433223</td><td>Região Metropolitana de São Paulo</td></tr><tr><td>11</td><td>946995344</td><td>Região Metropolitana de São Paulo</td></tr><tr><td>11</td><td>915229305</td><td>Região Metropolitana de São Paulo</td></tr><tr><td>11</td><td>937344359</td><td>Região Metropolitana de São Paulo</td></tr><tr><td>11</td><td>995476978</td><td>Região Metropolitana de São Paulo</td></tr><tr><td>11</td><td>944089996</td><td>Região Metropolitana de São Paulo</td></tr><tr><td>11</td><td>919222625</td><td>Região Metropolitana de São Paulo</td></tr><tr><td>11</td><td>915179413</td><td>Região Metropolitana de São Paulo</td></tr><tr><td>11</td><td>974137293</td><td>Região Metropolitana de São Paulo</td></tr><tr><td>11</td><td>924473370</td><td>Região Metropolitana de São Paulo</td></tr><tr><td>11</td><td>923698605</td><td>Região Metropolitana de São Paulo</td></tr><tr><td>11</td><td>926989288</td><td>Região Metropolitana de São Paulo</td></tr><tr><td>11</td><td>983476182</td><td>Região Metropolitana de São Paulo</td></tr><tr><td>11</td><td>945999542</td><td>Região Metropolitana de São Paulo</td></tr><tr><td>11</td><td>979411114</td><td>Região Metropolitana de São Paulo</td></tr><tr><td>11</td><td>985122266</td><td>Região Metropolitana de São Paulo</td></tr><tr><td>11</td><td>948212335</td><td>Região Metropolitana de São Paulo</td></tr><tr><td>11</td><td>971074815</td><td>Região Metropolitana de São Paulo</td></tr><tr><td>11</td><td>929573520</td><td>Região Metropolitana de São Paulo</td></tr><tr><td>11</td><td>977854140</td><td>Região Metropolitana de São Paulo</td></tr><tr><td>11</td><td>992361435</td><td>Região Metropolitana de São Paulo</td></tr><tr><td>11</td><td>923801086</td><td>Região Metropolitana de São Paulo</td></tr><tr><td>11</td><td>966444811</td><td>Região Metropolitana de São Paulo</td></tr><tr><td>11</td><td>954296522</td><td>Região Metropolitana de São Paulo</td></tr><tr><td>11</td><td>971312550</td><td>Região Metropolitana de São Paulo</td></tr><tr><td>11</td><td>913184119</td><td>Região Metropolitana de São Paulo</td></tr><tr><td>11</td><td>951933123</td><td>Região Metropolitana de São Paulo</td></tr><tr><td>11</td><td>957228426</td><td>Região Metropolitana de São Paulo</td></tr><tr><td>11</td><td>991715620</td><td>Região Metropolitana de São Paulo</td></tr><tr><td>11</td><td>993665590</td><td>Região Metropolitana de São Paulo</td></tr><tr><td>11</td><td>977353863</td><td>Região Metropolitana de São Paulo</td></tr><tr><td>11</td><td>981236617</td><td>Região Metropolitana de São Paulo</td></tr><tr><td>11</td><td>994242800</td><td>Região Metropolitana de São Paulo</td></tr><tr><td>11</td><td>946333107</td><td>Região Metropolitana de São Paulo</td></tr><tr><td>11</td><td>926663031</td><td>Região Metropolitana de São Paulo</td></tr><tr><td>11</td><td>996232083</td><td>Região Metropolitana de São Paulo</td></tr><tr><td>11</td><td>928704216</td><td>Região Metropolitana de São Paulo</td></tr><tr><td>11</td><td>994019954</td><td>Região Metropolitana de São Paulo</td></tr><tr><td>11</td><td>911566815</td><td>Região Metropolitana de São Paulo</td></tr><tr><td>11</td><td>993748320</td><td>Região Metropolitana de São Paulo</td></tr><tr><td>11</td><td>925733894</td><td>Região Metropolitana de São Paulo</td></tr><tr><td>11</td><td>966093684</td><td>Região Metropolitana de São Paulo</td></tr><tr><td>11</td><td>947271193</td><td>Região Metropolitana de São Paulo</td></tr><tr><td>11</td><td>961112764</td><td>Região Metropolitana de São Paulo</td></tr><tr><td>11</td><td>996936663</td><td>Região Metropolitana de São Paulo</td></tr><tr><td>11</td><td>958729758</td><td>Região Metropolitana de São Paulo</td></tr><tr><td>11</td><td>943013483</td><td>Região Metropolitana de São Paulo</td></tr><tr><td>11</td><td>914172422</td><td>Região Metropolitana de São Paulo</td></tr><tr><td>11</td><td>968699162</td><td>Região Metropolitana de São Paulo</td></tr><tr><td>11</td><td>958912303</td><td>Região Metropolitana de São Paulo</td></tr><tr><td>11</td><td>977016196</td><td>Região Metropolitana de São Paulo</td></tr><tr><td>11</td><td>915058355</td><td>Região Metropolitana de São Paulo</td></tr><tr><td>11</td><td>910013932</td><td>Região Metropolitana de São Paulo</td></tr><tr><td>11</td><td>950725762</td><td>Região Metropolitana de São Paulo</td></tr><tr><td>11</td><td>911561454</td><td>Região Metropolitana de São Paulo</td></tr><tr><td>11</td><td>960758897</td><td>Região Metropolitana de São Paulo</td></tr><tr><td>11</td><td>980255364</td><td>Região Metropolitana de São Paulo</td></tr><tr><td>11</td><td>928633913</td><td>Região Metropolitana de São Paulo</td></tr><tr><td>11</td><td>928788863</td><td>Região Metropolitana de São Paulo</td></tr><tr><td>11</td><td>952826085</td><td>Região Metropolitana de São Paulo</td></tr><tr><td>11</td><td>952252592</td><td>Região Metropolitana de São Paulo</td></tr><tr><td>11</td><td>974385253</td><td>Região Metropolitana de São Paulo</td></tr><tr><td>11</td><td>916783873</td><td>Região Metropolitana de São Paulo</td></tr><tr><td>11</td><td>982885287</td><td>Região Metropolitana de São Paulo</td></tr><tr><td>11</td><td>925497204</td><td>Região Metropolitana de São Paulo</td></tr><tr><td>11</td><td>932908248</td><td>Região Metropolitana de São Paulo</td></tr><tr><td>11</td><td>985142046</td><td>Região Metropolitana de São Paulo</td></tr><tr><td>11</td><td>911831385</td><td>Região Metropolitana de São Paulo</td></tr><tr><td>11</td><td>922136009</td><td>Região Metropolitana de São Paulo</td></tr><tr><td>11</td><td>940079900</td><td>Região Metropolitana de São Paulo</td></tr><tr><td>11</td><td>933354728</td><td>Região Metropolitana de São Paulo</td></tr><tr><td>11</td><td>993733262</td><td>Região Metropolitana de São Paulo</td></tr><tr><td>11</td><td>920696168</td><td>Região Metropolitana de São Paulo</td></tr><tr><td>11</td><td>980826217</td><td>Região Metropolitana de São Paulo</td></tr><tr><td>11</td><td>918644311</td><td>Região Metropolitana de São Paulo</td></tr><tr><td>11</td><td>995256427</td><td>Região Metropolitana de São Paulo</td></tr><tr><td>11</td><td>928472427</td><td>Região Metropolitana de São Paulo</td></tr><tr><td>11</td><td>967526403</td><td>Região Metropolitana de São Paulo</td></tr><tr><td>11</td><td>983283415</td><td>Região Metropolitana de São Paulo</td></tr><tr><td>11</td><td>968116807</td><td>Região Metropolitana de São Paulo</td></tr><tr><td>11</td><td>921851906</td><td>Região Metropolitana de São Paulo</td></tr><tr><td>11</td><td>914379786</td><td>Região Metropolitana de São Paulo</td></tr><tr><td>11</td><td>943039305</td><td>Região Metropolitana de São Paulo</td></tr><tr><td>11</td><td>928024909</td><td>Região Metropolitana de São Paulo</td></tr><tr><td>11</td><td>958855897</td><td>Região Metropolitana de São Paulo</td></tr><tr><td>11</td><td>925092057</td><td>Região Metropolitana de São Paulo</td></tr><tr><td>11</td><td>941714078</td><td>Região Metropolitana de São Paulo</td></tr><tr><td>11</td><td>942965879</td><td>Região Metropolitana de São Paulo</td></tr><tr><td>11</td><td>931649256</td><td>Região Metropolitana de São Paulo</td></tr><tr><td>11</td><td>932092356</td><td>Região Metropolitana de São Paulo</td></tr><tr><td>11</td><td>963169766</td><td>Região Metropolitana de São Paulo</td></tr><tr><td>11</td><td>980801530</td><td>Região Metropolitana de São Paulo</td></tr><tr><td>11</td><td>913917923</td><td>Região Metropolitana de São Paulo</td></tr><tr><td>11</td><td>992216251</td><td>Região Metropolitana de São Paulo</td></tr><tr><td>11</td><td>917386538</td><td>Região Metropolitana de São Paulo</td></tr><tr><td>11</td><td>986707350</td><td>Região Metropolitana de São Paulo</td></tr><tr><td>11</td><td>959975854</td><td>Região Metropolitana de São Paulo</td></tr><tr><td>11</td><td>915048089</td><td>Região Metropolitana de São Paulo</td></tr><tr><td>11</td><td>949234119</td><td>Região Metropolitana de São Paulo</td></tr><tr><td>11</td><td>938612279</td><td>Região Metropolitana de São Paulo</td></tr><tr><td>11</td><td>974794307</td><td>Região Metropolitana de São Paulo</td></tr><tr><td>11</td><td>951301645</td><td>Região Metropolitana de São Paulo</td></tr><tr><td>11</td><td>926145991</td><td>Região Metropolitana de São Paulo</td></tr><tr><td>11</td><td>915547184</td><td>Região Metropolitana de São Paulo</td></tr><tr><td>11</td><td>969605536</td><td>Região Metropolitana de São Paulo</td></tr><tr><td>11</td><td>949517712</td><td>Região Metropolitana de São Paulo</td></tr><tr><td>11</td><td>943655925</td><td>Região Metropolitana de São Paulo</td></tr><tr><td>11</td><td>920982186</td><td>Região Metropolitana de São Paulo</td></tr><tr><td>11</td><td>981153980</td><td>Região Metropolitana de São Paulo</td></tr><tr><td>11</td><td>978354343</td><td>Região Metropolitana de São Paulo</td></tr><tr><td>11</td><td>972127321</td><td>Região Metropolitana de São Paulo</td></tr><tr><td>11</td><td>954021469</td><td>Região Metropolitana de São Paulo</td></tr><tr><td>11</td><td>933225369</td><td>Região Metropolitana de São Paulo</td></tr><tr><td>11</td><td>923183414</td><td>Região Metropolitana de São Paulo</td></tr><tr><td>11</td><td>913591727</td><td>Região Metropolitana de São Paulo</td></tr><tr><td>11</td><td>930462713</td><td>Região Metropolitana de São Paulo</td></tr><tr><td>11</td><td>929139802</td><td>Região Metropolitana de São Paulo</td></tr><tr><td>11</td><td>995247489</td><td>Região Metropolitana de São Paulo</td></tr><tr><td>11</td><td>957463470</td><td>Região Metropolitana de São Paulo</td></tr><tr><td>11</td><td>987123536</td><td>Região Metropolitana de São Paulo</td></tr><tr><td>11</td><td>920459421</td><td>Região Metropolitana de São Paulo</td></tr><tr><td>11</td><td>997666553</td><td>Região Metropolitana de São Paulo</td></tr><tr><td>11</td><td>997754770</td><td>Região Metropolitana de São Paulo</td></tr><tr><td>11</td><td>922873212</td><td>Região Metropolitana de São Paulo</td></tr><tr><td>11</td><td>998413156</td><td>Região Metropolitana de São Paulo</td></tr><tr><td>11</td><td>982743407</td><td>Região Metropolitana de São Paulo</td></tr><tr><td>11</td><td>998377335</td><td>Região Metropolitana de São Paulo</td></tr><tr><td>11</td><td>960964255</td><td>Região Metropolitana de São Paulo</td></tr><tr><td>11</td><td>987649826</td><td>Região Metropolitana de São Paulo</td></tr><tr><td>11</td><td>924169342</td><td>Região Metropolitana de São Paulo</td></tr><tr><td>11</td><td>985788241</td><td>Região Metropolitana de São Paulo</td></tr><tr><td>11</td><td>968819144</td><td>Região Metropolitana de São Paulo</td></tr><tr><td>11</td><td>919372080</td><td>Região Metropolitana de São Paulo</td></tr><tr><td>11</td><td>978079368</td><td>Região Metropolitana de São Paulo</td></tr><tr><td>11</td><td>961577026</td><td>Região Metropolitana de São Paulo</td></tr><tr><td>11</td><td>964925043</td><td>Região Metropolitana de São Paulo</td></tr><tr><td>11</td><td>919625204</td><td>Região Metropolitana de São Paulo</td></tr><tr><td>11</td><td>911321143</td><td>Região Metropolitana de São Paulo</td></tr><tr><td>11</td><td>967297182</td><td>Região Metropolitana de São Paulo</td></tr><tr><td>11</td><td>946642030</td><td>Região Metropolitana de São Paulo</td></tr><tr><td>11</td><td>950216372</td><td>Região Metropolitana de São Paulo</td></tr><tr><td>11</td><td>940627558</td><td>Região Metropolitana de São Paulo</td></tr><tr><td>11</td><td>972816900</td><td>Região Metropolitana de São Paulo</td></tr><tr><td>11</td><td>953319627</td><td>Região Metropolitana de São Paulo</td></tr><tr><td>11</td><td>967378619</td><td>Região Metropolitana de São Paulo</td></tr><tr><td>11</td><td>955528666</td><td>Região Metropolitana de São Paulo</td></tr><tr><td>11</td><td>983467906</td><td>Região Metropolitana de São Paulo</td></tr><tr><td>11</td><td>952897806</td><td>Região Metropolitana de São Paulo</td></tr><tr><td>11</td><td>935818901</td><td>Região Metropolitana de São Paulo</td></tr><tr><td>11</td><td>934395008</td><td>Região Metropolitana de São Paulo</td></tr><tr><td>11</td><td>967604168</td><td>Região Metropolitana de São Paulo</td></tr><tr><td>11</td><td>924767516</td><td>Região Metropolitana de São Paulo</td></tr><tr><td>11</td><td>959622719</td><td>Região Metropolitana de São Paulo</td></tr><tr><td>11</td><td>977228935</td><td>Região Metropolitana de São Paulo</td></tr><tr><td>11</td><td>989984097</td><td>Região Metropolitana de São Paulo</td></tr><tr><td>11</td><td>997643197</td><td>Região Metropolitana de São Paulo</td></tr><tr><td>11</td><td>946885307</td><td>Região Metropolitana de São Paulo</td></tr><tr><td>11</td><td>977976412</td><td>Região Metropolitana de São Paulo</td></tr><tr><td>11</td><td>929802419</td><td>Região Metropolitana de São Paulo</td></tr><tr><td>11</td><td>972453582</td><td>Região Metropolitana de São Paulo</td></tr><tr><td>11</td><td>986791745</td><td>Região Metropolitana de São Paulo</td></tr><tr><td>11</td><td>981741654</td><td>Região Metropolitana de São Paulo</td></tr><tr><td>11</td><td>993355928</td><td>Região Metropolitana de São Paulo</td></tr><tr><td>11</td><td>913154786</td><td>Região Metropolitana de São Paulo</td></tr><tr><td>11</td><td>977562514</td><td>Região Metropolitana de São Paulo</td></tr><tr><td>11</td><td>968926594</td><td>Região Metropolitana de São Paulo</td></tr><tr><td>11</td><td>953512518</td><td>Região Metropolitana de São Paulo</td></tr><tr><td>11</td><td>932212274</td><td>Região Metropolitana de São Paulo</td></tr><tr><td>11</td><td>926914061</td><td>Região Metropolitana de São Paulo</td></tr><tr><td>11</td><td>976395555</td><td>Região Metropolitana de São Paulo</td></tr><tr><td>11</td><td>999764260</td><td>Região Metropolitana de São Paulo</td></tr><tr><td>11</td><td>918795481</td><td>Região Metropolitana de São Paulo</td></tr><tr><td>11</td><td>994916606</td><td>Região Metropolitana de São Paulo</td></tr><tr><td>11</td><td>951155778</td><td>Região Metropolitana de São Paulo</td></tr><tr><td>11</td><td>916127769</td><td>Região Metropolitana de São Paulo</td></tr><tr><td>11</td><td>920368264</td><td>Região Metropolitana de São Paulo</td></tr><tr><td>11</td><td>985125796</td><td>Região Metropolitana de São Paulo</td></tr><tr><td>11</td><td>942353833</td><td>Região Metropolitana de São Paulo</td></tr><tr><td>11</td><td>948403217</td><td>Região Metropolitana de São Paulo</td></tr><tr><td>11</td><td>910909677</td><td>Região Metropolitana de São Paulo</td></tr><tr><td>11</td><td>990594305</td><td>Região Metropolitana de São Paulo</td></tr><tr><td>11</td><td>921911441</td><td>Região Metropolitana de São Paulo</td></tr><tr><td>11</td><td>964995188</td><td>Região Metropolitana de São Paulo</td></tr><tr><td>11</td><td>911097226</td><td>Região Metropolitana de São Paulo</td></tr><tr><td>11</td><td>951476754</td><td>Região Metropolitana de São Paulo</td></tr><tr><td>11</td><td>958297237</td><td>Região Metropolitana de São Paulo</td></tr><tr><td>11</td><td>992824748</td><td>Região Metropolitana de São Paulo</td></tr><tr><td>11</td><td>952718784</td><td>Região Metropolitana de São Paulo</td></tr><tr><td>11</td><td>951413782</td><td>Região Metropolitana de São Paulo</td></tr><tr><td>11</td><td>912589899</td><td>Região Metropolitana de São Paulo</td></tr><tr><td>11</td><td>958581414</td><td>Região Metropolitana de São Paulo</td></tr><tr><td>11</td><td>950563047</td><td>Região Metropolitana de São Paulo</td></tr><tr><td>11</td><td>925608553</td><td>Região Metropolitana de São Paulo</td></tr><tr><td>11</td><td>973681721</td><td>Região Metropolitana de São Paulo</td></tr><tr><td>11</td><td>978475498</td><td>Região Metropolitana de São Paulo</td></tr><tr><td>11</td><td>940748897</td><td>Região Metropolitana de São Paulo</td></tr><tr><td>11</td><td>936154863</td><td>Região Metropolitana de São Paulo</td></tr><tr><td>11</td><td>983656758</td><td>Região Metropolitana de São Paulo</td></tr><tr><td>11</td><td>990177525</td><td>Região Metropolitana de São Paulo</td></tr><tr><td>11</td><td>968989682</td><td>Região Metropolitana de São Paulo</td></tr><tr><td>11</td><td>919029024</td><td>Região Metropolitana de São Paulo</td></tr><tr><td>11</td><td>969505229</td><td>Região Metropolitana de São Paulo</td></tr><tr><td>11</td><td>944762318</td><td>Região Metropolitana de São Paulo</td></tr><tr><td>11</td><td>942426788</td><td>Região Metropolitana de São Paulo</td></tr><tr><td>11</td><td>955861768</td><td>Região Metropolitana de São Paulo</td></tr><tr><td>11</td><td>969235690</td><td>Região Metropolitana de São Paulo</td></tr><tr><td>11</td><td>923328956</td><td>Região Metropolitana de São Paulo</td></tr><tr><td>11</td><td>932551764</td><td>Região Metropolitana de São Paulo</td></tr><tr><td>11</td><td>947638790</td><td>Região Metropolitana de São Paulo</td></tr><tr><td>11</td><td>991472037</td><td>Região Metropolitana de São Paulo</td></tr><tr><td>11</td><td>983975376</td><td>Região Metropolitana de São Paulo</td></tr><tr><td>11</td><td>998365987</td><td>Região Metropolitana de São Paulo</td></tr><tr><td>11</td><td>914571888</td><td>Região Metropolitana de São Paulo</td></tr><tr><td>11</td><td>995113678</td><td>Região Metropolitana de São Paulo</td></tr><tr><td>11</td><td>922688804</td><td>Região Metropolitana de São Paulo</td></tr><tr><td>11</td><td>915728930</td><td>Região Metropolitana de São Paulo</td></tr><tr><td>11</td><td>923111291</td><td>Região Metropolitana de São Paulo</td></tr><tr><td>11</td><td>924292344</td><td>Região Metropolitana de São Paulo</td></tr><tr><td>11</td><td>984003478</td><td>Região Metropolitana de São Paulo</td></tr><tr><td>11</td><td>923815854</td><td>Região Metropolitana de São Paulo</td></tr><tr><td>11</td><td>948183018</td><td>Região Metropolitana de São Paulo</td></tr><tr><td>11</td><td>921192552</td><td>Região Metropolitana de São Paulo</td></tr><tr><td>11</td><td>945305171</td><td>Região Metropolitana de São Paulo</td></tr><tr><td>11</td><td>944972992</td><td>Região Metropolitana de São Paulo</td></tr><tr><td>11</td><td>912617038</td><td>Região Metropolitana de São Paulo</td></tr><tr><td>11</td><td>924866909</td><td>Região Metropolitana de São Paulo</td></tr><tr><td>11</td><td>936361945</td><td>Região Metropolitana de São Paulo</td></tr><tr><td>11</td><td>980439060</td><td>Região Metropolitana de São Paulo</td></tr><tr><td>11</td><td>941652003</td><td>Região Metropolitana de São Paulo</td></tr><tr><td>11</td><td>989036997</td><td>Região Metropolitana de São Paulo</td></tr><tr><td>11</td><td>921111811</td><td>Região Metropolitana de São Paulo</td></tr><tr><td>11</td><td>975187999</td><td>Região Metropolitana de São Paulo</td></tr><tr><td>11</td><td>933028711</td><td>Região Metropolitana de São Paulo</td></tr><tr><td>11</td><td>939079987</td><td>Região Metropolitana de São Paulo</td></tr><tr><td>11</td><td>953441135</td><td>Região Metropolitana de São Paulo</td></tr><tr><td>11</td><td>978544197</td><td>Região Metropolitana de São Paulo</td></tr><tr><td>11</td><td>936424578</td><td>Região Metropolitana de São Paulo</td></tr><tr><td>11</td><td>927348476</td><td>Região Metropolitana de São Paulo</td></tr><tr><td>11</td><td>917788650</td><td>Região Metropolitana de São Paulo</td></tr><tr><td>11</td><td>985417012</td><td>Região Metropolitana de São Paulo</td></tr><tr><td>11</td><td>958479142</td><td>Região Metropolitana de São Paulo</td></tr><tr><td>11</td><td>971288883</td><td>Região Metropolitana de São Paulo</td></tr><tr><td>11</td><td>964194518</td><td>Região Metropolitana de São Paulo</td></tr><tr><td>11</td><td>928754612</td><td>Região Metropolitana de São Paulo</td></tr><tr><td>11</td><td>985668677</td><td>Região Metropolitana de São Paulo</td></tr><tr><td>11</td><td>911832776</td><td>Região Metropolitana de São Paulo</td></tr><tr><td>11</td><td>922466584</td><td>Região Metropolitana de São Paulo</td></tr><tr><td>11</td><td>911726655</td><td>Região Metropolitana de São Paulo</td></tr><tr><td>11</td><td>952666342</td><td>Região Metropolitana de São Paulo</td></tr><tr><td>11</td><td>971881989</td><td>Região Metropolitana de São Paulo</td></tr><tr><td>11</td><td>922539005</td><td>Região Metropolitana de São Paulo</td></tr><tr><td>11</td><td>980166015</td><td>Região Metropolitana de São Paulo</td></tr><tr><td>11</td><td>948788262</td><td>Região Metropolitana de São Paulo</td></tr><tr><td>11</td><td>994826241</td><td>Região Metropolitana de São Paulo</td></tr><tr><td>11</td><td>929138807</td><td>Região Metropolitana de São Paulo</td></tr><tr><td>11</td><td>922251063</td><td>Região Metropolitana de São Paulo</td></tr><tr><td>11</td><td>953392614</td><td>Região Metropolitana de São Paulo</td></tr><tr><td>11</td><td>957411319</td><td>Região Metropolitana de São Paulo</td></tr><tr><td>11</td><td>966626531</td><td>Região Metropolitana de São Paulo</td></tr><tr><td>11</td><td>974107750</td><td>Região Metropolitana de São Paulo</td></tr><tr><td>11</td><td>942474187</td><td>Região Metropolitana de São Paulo</td></tr><tr><td>11</td><td>919897230</td><td>Região Metropolitana de São Paulo</td></tr><tr><td>11</td><td>944719317</td><td>Região Metropolitana de São Paulo</td></tr><tr><td>11</td><td>949481491</td><td>Região Metropolitana de São Paulo</td></tr><tr><td>11</td><td>914667862</td><td>Região Metropolitana de São Paulo</td></tr><tr><td>11</td><td>991423631</td><td>Região Metropolitana de São Paulo</td></tr><tr><td>11</td><td>977358575</td><td>Região Metropolitana de São Paulo</td></tr><tr><td>11</td><td>929638061</td><td>Região Metropolitana de São Paulo</td></tr><tr><td>11</td><td>998959291</td><td>Região Metropolitana de São Paulo</td></tr><tr><td>11</td><td>918027646</td><td>Região Metropolitana de São Paulo</td></tr><tr><td>11</td><td>986665155</td><td>Região Metropolitana de São Paulo</td></tr><tr><td>11</td><td>919201024</td><td>Região Metropolitana de São Paulo</td></tr><tr><td>11</td><td>932176913</td><td>Região Metropolitana de São Paulo</td></tr><tr><td>11</td><td>921593036</td><td>Região Metropolitana de São Paulo</td></tr><tr><td>11</td><td>964159829</td><td>Região Metropolitana de São Paulo</td></tr><tr><td>11</td><td>966209983</td><td>Região Metropolitana de São Paulo</td></tr><tr><td>11</td><td>943952916</td><td>Região Metropolitana de São Paulo</td></tr><tr><td>11</td><td>950135858</td><td>Região Metropolitana de São Paulo</td></tr><tr><td>11</td><td>963342990</td><td>Região Metropolitana de São Paulo</td></tr><tr><td>11</td><td>923127233</td><td>Região Metropolitana de São Paulo</td></tr><tr><td>11</td><td>923455206</td><td>Região Metropolitana de São Paulo</td></tr><tr><td>11</td><td>933902935</td><td>Região Metropolitana de São Paulo</td></tr><tr><td>11</td><td>949339318</td><td>Região Metropolitana de São Paulo</td></tr><tr><td>11</td><td>978604307</td><td>Região Metropolitana de São Paulo</td></tr><tr><td>11</td><td>973419832</td><td>Região Metropolitana de São Paulo</td></tr><tr><td>11</td><td>978263496</td><td>Região Metropolitana de São Paulo</td></tr><tr><td>11</td><td>997209478</td><td>Região Metropolitana de São Paulo</td></tr><tr><td>11</td><td>924869506</td><td>Região Metropolitana de São Paulo</td></tr><tr><td>11</td><td>915881910</td><td>Região Metropolitana de São Paulo</td></tr><tr><td>11</td><td>950212212</td><td>Região Metropolitana de São Paulo</td></tr><tr><td>11</td><td>942238203</td><td>Região Metropolitana de São Paulo</td></tr><tr><td>11</td><td>919876418</td><td>Região Metropolitana de São Paulo</td></tr><tr><td>11</td><td>965683535</td><td>Região Metropolitana de São Paulo</td></tr><tr><td>11</td><td>960148521</td><td>Região Metropolitana de São Paulo</td></tr><tr><td>11</td><td>993952841</td><td>Região Metropolitana de São Paulo</td></tr><tr><td>11</td><td>967445522</td><td>Região Metropolitana de São Paulo</td></tr><tr><td>11</td><td>916606649</td><td>Região Metropolitana de São Paulo</td></tr><tr><td>11</td><td>920075735</td><td>Região Metropolitana de São Paulo</td></tr><tr><td>11</td><td>986989375</td><td>Região Metropolitana de São Paulo</td></tr><tr><td>11</td><td>972444196</td><td>Região Metropolitana de São Paulo</td></tr><tr><td>11</td><td>977372611</td><td>Região Metropolitana de São Paulo</td></tr><tr><td>11</td><td>916491818</td><td>Região Metropolitana de São Paulo</td></tr><tr><td>11</td><td>921514438</td><td>Região Metropolitana de São Paulo</td></tr><tr><td>11</td><td>987266495</td><td>Região Metropolitana de São Paulo</td></tr><tr><td>11</td><td>969725296</td><td>Região Metropolitana de São Paulo</td></tr><tr><td>11</td><td>992699297</td><td>Região Metropolitana de São Paulo</td></tr><tr><td>11</td><td>912285028</td><td>Região Metropolitana de São Paulo</td></tr><tr><td>11</td><td>934797164</td><td>Região Metropolitana de São Paulo</td></tr><tr><td>11</td><td>930479241</td><td>Região Metropolitana de São Paulo</td></tr><tr><td>11</td><td>933982343</td><td>Região Metropolitana de São Paulo</td></tr><tr><td>11</td><td>923752272</td><td>Região Metropolitana de São Paulo</td></tr><tr><td>11</td><td>986007786</td><td>Região Metropolitana de São Paulo</td></tr><tr><td>11</td><td>945729612</td><td>Região Metropolitana de São Paulo</td></tr><tr><td>11</td><td>911393210</td><td>Região Metropolitana de São Paulo</td></tr><tr><td>11</td><td>938812738</td><td>Região Metropolitana de São Paulo</td></tr><tr><td>11</td><td>932968457</td><td>Região Metropolitana de São Paulo</td></tr><tr><td>11</td><td>910325392</td><td>Região Metropolitana de São Paulo</td></tr><tr><td>11</td><td>952292343</td><td>Região Metropolitana de São Paulo</td></tr><tr><td>11</td><td>991381867</td><td>Região Metropolitana de São Paulo</td></tr><tr><td>11</td><td>945795774</td><td>Região Metropolitana de São Paulo</td></tr><tr><td>11</td><td>979742713</td><td>Região Metropolitana de São Paulo</td></tr><tr><td>11</td><td>945799428</td><td>Região Metropolitana de São Paulo</td></tr><tr><td>11</td><td>911882533</td><td>Região Metropolitana de São Paulo</td></tr><tr><td>11</td><td>940851946</td><td>Região Metropolitana de São Paulo</td></tr><tr><td>11</td><td>916326709</td><td>Região Metropolitana de São Paulo</td></tr><tr><td>11</td><td>926646921</td><td>Região Metropolitana de São Paulo</td></tr><tr><td>11</td><td>998712704</td><td>Região Metropolitana de São Paulo</td></tr><tr><td>11</td><td>941595880</td><td>Região Metropolitana de São Paulo</td></tr><tr><td>11</td><td>938672973</td><td>Região Metropolitana de São Paulo</td></tr><tr><td>11</td><td>953556769</td><td>Região Metropolitana de São Paulo</td></tr><tr><td>11</td><td>991556604</td><td>Região Metropolitana de São Paulo</td></tr><tr><td>11</td><td>952397906</td><td>Região Metropolitana de São Paulo</td></tr><tr><td>11</td><td>943262372</td><td>Região Metropolitana de São Paulo</td></tr><tr><td>11</td><td>978438036</td><td>Região Metropolitana de São Paulo</td></tr><tr><td>11</td><td>949427973</td><td>Região Metropolitana de São Paulo</td></tr><tr><td>11</td><td>912321348</td><td>Região Metropolitana de São Paulo</td></tr><tr><td>11</td><td>995856825</td><td>Região Metropolitana de São Paulo</td></tr><tr><td>11</td><td>937322069</td><td>Região Metropolitana de São Paulo</td></tr><tr><td>11</td><td>924844879</td><td>Região Metropolitana de São Paulo</td></tr><tr><td>11</td><td>984581552</td><td>Região Metropolitana de São Paulo</td></tr><tr><td>11</td><td>981738813</td><td>Região Metropolitana de São Paulo</td></tr><tr><td>11</td><td>986191781</td><td>Região Metropolitana de São Paulo</td></tr><tr><td>11</td><td>952133170</td><td>Região Metropolitana de São Paulo</td></tr><tr><td>11</td><td>985671691</td><td>Região Metropolitana de São Paulo</td></tr><tr><td>11</td><td>939824104</td><td>Região Metropolitana de São Paulo</td></tr><tr><td>11</td><td>956175436</td><td>Região Metropolitana de São Paulo</td></tr><tr><td>11</td><td>975291194</td><td>Região Metropolitana de São Paulo</td></tr><tr><td>11</td><td>977881868</td><td>Região Metropolitana de São Paulo</td></tr><tr><td>11</td><td>976152350</td><td>Região Metropolitana de São Paulo</td></tr><tr><td>11</td><td>916757171</td><td>Região Metropolitana de São Paulo</td></tr><tr><td>11</td><td>914612351</td><td>Região Metropolitana de São Paulo</td></tr><tr><td>11</td><td>941617801</td><td>Região Metropolitana de São Paulo</td></tr><tr><td>11</td><td>992965671</td><td>Região Metropolitana de São Paulo</td></tr><tr><td>11</td><td>938875222</td><td>Região Metropolitana de São Paulo</td></tr><tr><td>11</td><td>963951950</td><td>Região Metropolitana de São Paulo</td></tr><tr><td>11</td><td>916668198</td><td>Região Metropolitana de São Paulo</td></tr><tr><td>11</td><td>952982642</td><td>Região Metropolitana de São Paulo</td></tr><tr><td>11</td><td>936565589</td><td>Região Metropolitana de São Paulo</td></tr><tr><td>11</td><td>964505874</td><td>Região Metropolitana de São Paulo</td></tr><tr><td>11</td><td>962526385</td><td>Região Metropolitana de São Paulo</td></tr><tr><td>11</td><td>914862737</td><td>Região Metropolitana de São Paulo</td></tr><tr><td>11</td><td>932149822</td><td>Região Metropolitana de São Paulo</td></tr><tr><td>11</td><td>972642332</td><td>Região Metropolitana de São Paulo</td></tr><tr><td>11</td><td>964914106</td><td>Região Metropolitana de São Paulo</td></tr><tr><td>11</td><td>910914659</td><td>Região Metropolitana de São Paulo</td></tr><tr><td>11</td><td>965209525</td><td>Região Metropolitana de São Paulo</td></tr><tr><td>11</td><td>931209602</td><td>Região Metropolitana de São Paulo</td></tr><tr><td>11</td><td>935177284</td><td>Região Metropolitana de São Paulo</td></tr><tr><td>11</td><td>910113729</td><td>Região Metropolitana de São Paulo</td></tr><tr><td>11</td><td>940257097</td><td>Região Metropolitana de São Paulo</td></tr><tr><td>11</td><td>927595255</td><td>Região Metropolitana de São Paulo</td></tr><tr><td>11</td><td>920903956</td><td>Região Metropolitana de São Paulo</td></tr><tr><td>11</td><td>935551091</td><td>Região Metropolitana de São Paulo</td></tr><tr><td>11</td><td>927566917</td><td>Região Metropolitana de São Paulo</td></tr><tr><td>11</td><td>944691999</td><td>Região Metropolitana de São Paulo</td></tr><tr><td>11</td><td>971251602</td><td>Região Metropolitana de São Paulo</td></tr><tr><td>11</td><td>937947444</td><td>Região Metropolitana de São Paulo</td></tr><tr><td>11</td><td>968136639</td><td>Região Metropolitana de São Paulo</td></tr><tr><td>11</td><td>973983367</td><td>Região Metropolitana de São Paulo</td></tr><tr><td>11</td><td>956456161</td><td>Região Metropolitana de São Paulo</td></tr><tr><td>11</td><td>956835771</td><td>Região Metropolitana de São Paulo</td></tr><tr><td>11</td><td>960459014</td><td>Região Metropolitana de São Paulo</td></tr><tr><td>11</td><td>973737935</td><td>Região Metropolitana de São Paulo</td></tr><tr><td>11</td><td>971208006</td><td>Região Metropolitana de São Paulo</td></tr><tr><td>11</td><td>965971291</td><td>Região Metropolitana de São Paulo</td></tr><tr><td>11</td><td>915297832</td><td>Região Metropolitana de São Paulo</td></tr><tr><td>11</td><td>984308013</td><td>Região Metropolitana de São Paulo</td></tr><tr><td>11</td><td>971815653</td><td>Região Metropolitana de São Paulo</td></tr><tr><td>11</td><td>919709016</td><td>Região Metropolitana de São Paulo</td></tr><tr><td>11</td><td>994284406</td><td>Região Metropolitana de São Paulo</td></tr><tr><td>11</td><td>922394594</td><td>Região Metropolitana de São Paulo</td></tr><tr><td>11</td><td>927088436</td><td>Região Metropolitana de São Paulo</td></tr><tr><td>11</td><td>971848789</td><td>Região Metropolitana de São Paulo</td></tr><tr><td>11</td><td>969014436</td><td>Região Metropolitana de São Paulo</td></tr><tr><td>11</td><td>933706541</td><td>Região Metropolitana de São Paulo</td></tr><tr><td>11</td><td>985257098</td><td>Região Metropolitana de São Paulo</td></tr><tr><td>11</td><td>934172337</td><td>Região Metropolitana de São Paulo</td></tr><tr><td>11</td><td>921308772</td><td>Região Metropolitana de São Paulo</td></tr><tr><td>11</td><td>979027089</td><td>Região Metropolitana de São Paulo</td></tr><tr><td>11</td><td>999549672</td><td>Região Metropolitana de São Paulo</td></tr><tr><td>11</td><td>994413185</td><td>Região Metropolitana de São Paulo</td></tr><tr><td>11</td><td>998588198</td><td>Região Metropolitana de São Paulo</td></tr><tr><td>11</td><td>991684987</td><td>Região Metropolitana de São Paulo</td></tr><tr><td>11</td><td>975055362</td><td>Região Metropolitana de São Paulo</td></tr><tr><td>11</td><td>939412500</td><td>Região Metropolitana de São Paulo</td></tr><tr><td>11</td><td>916971379</td><td>Região Metropolitana de São Paulo</td></tr><tr><td>11</td><td>995604265</td><td>Região Metropolitana de São Paulo</td></tr><tr><td>11</td><td>993852318</td><td>Região Metropolitana de São Paulo</td></tr><tr><td>11</td><td>952531902</td><td>Região Metropolitana de São Paulo</td></tr><tr><td>11</td><td>970773385</td><td>Região Metropolitana de São Paulo</td></tr><tr><td>11</td><td>929227958</td><td>Região Metropolitana de São Paulo</td></tr><tr><td>11</td><td>926871132</td><td>Região Metropolitana de São Paulo</td></tr><tr><td>11</td><td>991257939</td><td>Região Metropolitana de São Paulo</td></tr><tr><td>11</td><td>973645204</td><td>Região Metropolitana de São Paulo</td></tr><tr><td>11</td><td>984611348</td><td>Região Metropolitana de São Paulo</td></tr><tr><td>11</td><td>953181955</td><td>Região Metropolitana de São Paulo</td></tr><tr><td>11</td><td>960477837</td><td>Região Metropolitana de São Paulo</td></tr><tr><td>11</td><td>971377827</td><td>Região Metropolitana de São Paulo</td></tr><tr><td>11</td><td>983492362</td><td>Região Metropolitana de São Paulo</td></tr><tr><td>11</td><td>943062424</td><td>Região Metropolitana de São Paulo</td></tr><tr><td>11</td><td>989534800</td><td>Região Metropolitana de São Paulo</td></tr><tr><td>11</td><td>941187496</td><td>Região Metropolitana de São Paulo</td></tr><tr><td>11</td><td>967507255</td><td>Região Metropolitana de São Paulo</td></tr><tr><td>11</td><td>971528203</td><td>Região Metropolitana de São Paulo</td></tr><tr><td>11</td><td>963709060</td><td>Região Metropolitana de São Paulo</td></tr><tr><td>11</td><td>951886737</td><td>Região Metropolitana de São Paulo</td></tr><tr><td>11</td><td>930793631</td><td>Região Metropolitana de São Paulo</td></tr><tr><td>11</td><td>996574709</td><td>Região Metropolitana de São Paulo</td></tr><tr><td>11</td><td>972749842</td><td>Região Metropolitana de São Paulo</td></tr><tr><td>11</td><td>957988972</td><td>Região Metropolitana de São Paulo</td></tr><tr><td>11</td><td>966701854</td><td>Região Metropolitana de São Paulo</td></tr><tr><td>11</td><td>959885693</td><td>Região Metropolitana de São Paulo</td></tr><tr><td>11</td><td>987798013</td><td>Região Metropolitana de São Paulo</td></tr><tr><td>11</td><td>997621651</td><td>Região Metropolitana de São Paulo</td></tr><tr><td>11</td><td>913168315</td><td>Região Metropolitana de São Paulo</td></tr><tr><td>11</td><td>939453715</td><td>Região Metropolitana de São Paulo</td></tr><tr><td>11</td><td>917546200</td><td>Região Metropolitana de São Paulo</td></tr><tr><td>11</td><td>968816965</td><td>Região Metropolitana de São Paulo</td></tr><tr><td>11</td><td>929859386</td><td>Região Metropolitana de São Paulo</td></tr><tr><td>11</td><td>927399489</td><td>Região Metropolitana de São Paulo</td></tr><tr><td>11</td><td>989564770</td><td>Região Metropolitana de São Paulo</td></tr><tr><td>11</td><td>962216965</td><td>Região Metropolitana de São Paulo</td></tr></tbody></table></div>"
      ]
     },
     "metadata": {
      "application/vnd.databricks.v1+output": {
       "addedWidgets": {},
       "aggData": [],
       "aggError": "",
       "aggOverflow": false,
       "aggSchema": [],
       "aggSeriesLimitReached": false,
       "aggType": "",
       "arguments": {},
       "columnCustomDisplayInfos": {},
       "data": [
        [
         11,
         986235795,
         "Região Metropolitana de São Paulo"
        ],
        [
         11,
         989591767,
         "Região Metropolitana de São Paulo"
        ],
        [
         11,
         939472587,
         "Região Metropolitana de São Paulo"
        ],
        [
         11,
         993453815,
         "Região Metropolitana de São Paulo"
        ],
        [
         11,
         964492610,
         "Região Metropolitana de São Paulo"
        ],
        [
         11,
         949146650,
         "Região Metropolitana de São Paulo"
        ],
        [
         11,
         935213943,
         "Região Metropolitana de São Paulo"
        ],
        [
         11,
         919848352,
         "Região Metropolitana de São Paulo"
        ],
        [
         11,
         952406030,
         "Região Metropolitana de São Paulo"
        ],
        [
         11,
         915694953,
         "Região Metropolitana de São Paulo"
        ],
        [
         11,
         998834579,
         "Região Metropolitana de São Paulo"
        ],
        [
         11,
         916898490,
         "Região Metropolitana de São Paulo"
        ],
        [
         11,
         929255254,
         "Região Metropolitana de São Paulo"
        ],
        [
         11,
         937508674,
         "Região Metropolitana de São Paulo"
        ],
        [
         11,
         964363441,
         "Região Metropolitana de São Paulo"
        ],
        [
         11,
         970225724,
         "Região Metropolitana de São Paulo"
        ],
        [
         11,
         999144856,
         "Região Metropolitana de São Paulo"
        ],
        [
         11,
         967671371,
         "Região Metropolitana de São Paulo"
        ],
        [
         11,
         990908621,
         "Região Metropolitana de São Paulo"
        ],
        [
         11,
         940032265,
         "Região Metropolitana de São Paulo"
        ],
        [
         11,
         942037540,
         "Região Metropolitana de São Paulo"
        ],
        [
         11,
         958372509,
         "Região Metropolitana de São Paulo"
        ],
        [
         11,
         955145028,
         "Região Metropolitana de São Paulo"
        ],
        [
         11,
         923148978,
         "Região Metropolitana de São Paulo"
        ],
        [
         11,
         960019926,
         "Região Metropolitana de São Paulo"
        ],
        [
         11,
         973484894,
         "Região Metropolitana de São Paulo"
        ],
        [
         11,
         965773151,
         "Região Metropolitana de São Paulo"
        ],
        [
         11,
         946262290,
         "Região Metropolitana de São Paulo"
        ],
        [
         11,
         923771600,
         "Região Metropolitana de São Paulo"
        ],
        [
         11,
         929751354,
         "Região Metropolitana de São Paulo"
        ],
        [
         11,
         932425096,
         "Região Metropolitana de São Paulo"
        ],
        [
         11,
         979048421,
         "Região Metropolitana de São Paulo"
        ],
        [
         11,
         976055177,
         "Região Metropolitana de São Paulo"
        ],
        [
         11,
         937323379,
         "Região Metropolitana de São Paulo"
        ],
        [
         11,
         920971782,
         "Região Metropolitana de São Paulo"
        ],
        [
         11,
         975703918,
         "Região Metropolitana de São Paulo"
        ],
        [
         11,
         998714509,
         "Região Metropolitana de São Paulo"
        ],
        [
         11,
         965297907,
         "Região Metropolitana de São Paulo"
        ],
        [
         11,
         968148509,
         "Região Metropolitana de São Paulo"
        ],
        [
         11,
         997864844,
         "Região Metropolitana de São Paulo"
        ],
        [
         11,
         983319507,
         "Região Metropolitana de São Paulo"
        ],
        [
         11,
         915652120,
         "Região Metropolitana de São Paulo"
        ],
        [
         11,
         912991845,
         "Região Metropolitana de São Paulo"
        ],
        [
         11,
         989371952,
         "Região Metropolitana de São Paulo"
        ],
        [
         11,
         928321726,
         "Região Metropolitana de São Paulo"
        ],
        [
         11,
         985249030,
         "Região Metropolitana de São Paulo"
        ],
        [
         11,
         915008303,
         "Região Metropolitana de São Paulo"
        ],
        [
         11,
         980165445,
         "Região Metropolitana de São Paulo"
        ],
        [
         11,
         976799552,
         "Região Metropolitana de São Paulo"
        ],
        [
         11,
         978166178,
         "Região Metropolitana de São Paulo"
        ],
        [
         11,
         985509292,
         "Região Metropolitana de São Paulo"
        ],
        [
         11,
         985553454,
         "Região Metropolitana de São Paulo"
        ],
        [
         11,
         923154886,
         "Região Metropolitana de São Paulo"
        ],
        [
         11,
         945032190,
         "Região Metropolitana de São Paulo"
        ],
        [
         11,
         925393603,
         "Região Metropolitana de São Paulo"
        ],
        [
         11,
         991304398,
         "Região Metropolitana de São Paulo"
        ],
        [
         11,
         933604364,
         "Região Metropolitana de São Paulo"
        ],
        [
         11,
         965772886,
         "Região Metropolitana de São Paulo"
        ],
        [
         11,
         990472979,
         "Região Metropolitana de São Paulo"
        ],
        [
         11,
         917074086,
         "Região Metropolitana de São Paulo"
        ],
        [
         11,
         963503938,
         "Região Metropolitana de São Paulo"
        ],
        [
         11,
         999366547,
         "Região Metropolitana de São Paulo"
        ],
        [
         11,
         954487591,
         "Região Metropolitana de São Paulo"
        ],
        [
         11,
         950232127,
         "Região Metropolitana de São Paulo"
        ],
        [
         11,
         969575575,
         "Região Metropolitana de São Paulo"
        ],
        [
         11,
         976862060,
         "Região Metropolitana de São Paulo"
        ],
        [
         11,
         939431891,
         "Região Metropolitana de São Paulo"
        ],
        [
         11,
         938376741,
         "Região Metropolitana de São Paulo"
        ],
        [
         11,
         928891292,
         "Região Metropolitana de São Paulo"
        ],
        [
         11,
         981113081,
         "Região Metropolitana de São Paulo"
        ],
        [
         11,
         934967486,
         "Região Metropolitana de São Paulo"
        ],
        [
         11,
         994149426,
         "Região Metropolitana de São Paulo"
        ],
        [
         11,
         976389072,
         "Região Metropolitana de São Paulo"
        ],
        [
         11,
         934831288,
         "Região Metropolitana de São Paulo"
        ],
        [
         11,
         981418418,
         "Região Metropolitana de São Paulo"
        ],
        [
         11,
         969028724,
         "Região Metropolitana de São Paulo"
        ],
        [
         11,
         912561658,
         "Região Metropolitana de São Paulo"
        ],
        [
         11,
         922306093,
         "Região Metropolitana de São Paulo"
        ],
        [
         11,
         950333112,
         "Região Metropolitana de São Paulo"
        ],
        [
         11,
         920303069,
         "Região Metropolitana de São Paulo"
        ],
        [
         11,
         994959182,
         "Região Metropolitana de São Paulo"
        ],
        [
         11,
         925378574,
         "Região Metropolitana de São Paulo"
        ],
        [
         11,
         993429741,
         "Região Metropolitana de São Paulo"
        ],
        [
         11,
         981535349,
         "Região Metropolitana de São Paulo"
        ],
        [
         11,
         955698583,
         "Região Metropolitana de São Paulo"
        ],
        [
         11,
         981694270,
         "Região Metropolitana de São Paulo"
        ],
        [
         11,
         990245173,
         "Região Metropolitana de São Paulo"
        ],
        [
         11,
         994506475,
         "Região Metropolitana de São Paulo"
        ],
        [
         11,
         930291690,
         "Região Metropolitana de São Paulo"
        ],
        [
         11,
         911155505,
         "Região Metropolitana de São Paulo"
        ],
        [
         11,
         971519605,
         "Região Metropolitana de São Paulo"
        ],
        [
         11,
         946194337,
         "Região Metropolitana de São Paulo"
        ],
        [
         11,
         996166806,
         "Região Metropolitana de São Paulo"
        ],
        [
         11,
         918057686,
         "Região Metropolitana de São Paulo"
        ],
        [
         11,
         977442899,
         "Região Metropolitana de São Paulo"
        ],
        [
         11,
         938549573,
         "Região Metropolitana de São Paulo"
        ],
        [
         11,
         956196567,
         "Região Metropolitana de São Paulo"
        ],
        [
         11,
         920405030,
         "Região Metropolitana de São Paulo"
        ],
        [
         11,
         965989540,
         "Região Metropolitana de São Paulo"
        ],
        [
         11,
         956195732,
         "Região Metropolitana de São Paulo"
        ],
        [
         11,
         932869132,
         "Região Metropolitana de São Paulo"
        ],
        [
         11,
         990835135,
         "Região Metropolitana de São Paulo"
        ],
        [
         11,
         981457612,
         "Região Metropolitana de São Paulo"
        ],
        [
         11,
         968546546,
         "Região Metropolitana de São Paulo"
        ],
        [
         11,
         972412161,
         "Região Metropolitana de São Paulo"
        ],
        [
         11,
         935203868,
         "Região Metropolitana de São Paulo"
        ],
        [
         11,
         973758505,
         "Região Metropolitana de São Paulo"
        ],
        [
         11,
         949648135,
         "Região Metropolitana de São Paulo"
        ],
        [
         11,
         971628834,
         "Região Metropolitana de São Paulo"
        ],
        [
         11,
         989986945,
         "Região Metropolitana de São Paulo"
        ],
        [
         11,
         967328389,
         "Região Metropolitana de São Paulo"
        ],
        [
         11,
         935527152,
         "Região Metropolitana de São Paulo"
        ],
        [
         11,
         921397660,
         "Região Metropolitana de São Paulo"
        ],
        [
         11,
         974801943,
         "Região Metropolitana de São Paulo"
        ],
        [
         11,
         952704938,
         "Região Metropolitana de São Paulo"
        ],
        [
         11,
         976588387,
         "Região Metropolitana de São Paulo"
        ],
        [
         11,
         960496214,
         "Região Metropolitana de São Paulo"
        ],
        [
         11,
         919826684,
         "Região Metropolitana de São Paulo"
        ],
        [
         11,
         977163165,
         "Região Metropolitana de São Paulo"
        ],
        [
         11,
         949463976,
         "Região Metropolitana de São Paulo"
        ],
        [
         11,
         943037016,
         "Região Metropolitana de São Paulo"
        ],
        [
         11,
         990179855,
         "Região Metropolitana de São Paulo"
        ],
        [
         11,
         932325283,
         "Região Metropolitana de São Paulo"
        ],
        [
         11,
         967259758,
         "Região Metropolitana de São Paulo"
        ],
        [
         11,
         914431958,
         "Região Metropolitana de São Paulo"
        ],
        [
         11,
         967984847,
         "Região Metropolitana de São Paulo"
        ],
        [
         11,
         946268116,
         "Região Metropolitana de São Paulo"
        ],
        [
         11,
         965225897,
         "Região Metropolitana de São Paulo"
        ],
        [
         11,
         927777364,
         "Região Metropolitana de São Paulo"
        ],
        [
         11,
         964422275,
         "Região Metropolitana de São Paulo"
        ],
        [
         11,
         926512420,
         "Região Metropolitana de São Paulo"
        ],
        [
         11,
         944372042,
         "Região Metropolitana de São Paulo"
        ],
        [
         11,
         996373113,
         "Região Metropolitana de São Paulo"
        ],
        [
         11,
         997144699,
         "Região Metropolitana de São Paulo"
        ],
        [
         11,
         979966681,
         "Região Metropolitana de São Paulo"
        ],
        [
         11,
         991747421,
         "Região Metropolitana de São Paulo"
        ],
        [
         11,
         976919886,
         "Região Metropolitana de São Paulo"
        ],
        [
         11,
         968448321,
         "Região Metropolitana de São Paulo"
        ],
        [
         11,
         969207240,
         "Região Metropolitana de São Paulo"
        ],
        [
         11,
         995526403,
         "Região Metropolitana de São Paulo"
        ],
        [
         11,
         978798454,
         "Região Metropolitana de São Paulo"
        ],
        [
         11,
         957828663,
         "Região Metropolitana de São Paulo"
        ],
        [
         11,
         986069074,
         "Região Metropolitana de São Paulo"
        ],
        [
         11,
         959619321,
         "Região Metropolitana de São Paulo"
        ],
        [
         11,
         937341221,
         "Região Metropolitana de São Paulo"
        ],
        [
         11,
         996725982,
         "Região Metropolitana de São Paulo"
        ],
        [
         11,
         988662110,
         "Região Metropolitana de São Paulo"
        ],
        [
         11,
         986421940,
         "Região Metropolitana de São Paulo"
        ],
        [
         11,
         953523929,
         "Região Metropolitana de São Paulo"
        ],
        [
         11,
         927988936,
         "Região Metropolitana de São Paulo"
        ],
        [
         11,
         963829670,
         "Região Metropolitana de São Paulo"
        ],
        [
         11,
         957876057,
         "Região Metropolitana de São Paulo"
        ],
        [
         11,
         967533854,
         "Região Metropolitana de São Paulo"
        ],
        [
         11,
         944843023,
         "Região Metropolitana de São Paulo"
        ],
        [
         11,
         963023934,
         "Região Metropolitana de São Paulo"
        ],
        [
         11,
         935735306,
         "Região Metropolitana de São Paulo"
        ],
        [
         11,
         941652488,
         "Região Metropolitana de São Paulo"
        ],
        [
         11,
         977529398,
         "Região Metropolitana de São Paulo"
        ],
        [
         11,
         963029681,
         "Região Metropolitana de São Paulo"
        ],
        [
         11,
         991746276,
         "Região Metropolitana de São Paulo"
        ],
        [
         11,
         986157380,
         "Região Metropolitana de São Paulo"
        ],
        [
         11,
         953944021,
         "Região Metropolitana de São Paulo"
        ],
        [
         11,
         970713925,
         "Região Metropolitana de São Paulo"
        ],
        [
         11,
         939683545,
         "Região Metropolitana de São Paulo"
        ],
        [
         11,
         954197688,
         "Região Metropolitana de São Paulo"
        ],
        [
         11,
         995285055,
         "Região Metropolitana de São Paulo"
        ],
        [
         11,
         936507103,
         "Região Metropolitana de São Paulo"
        ],
        [
         11,
         943724472,
         "Região Metropolitana de São Paulo"
        ],
        [
         11,
         987722093,
         "Região Metropolitana de São Paulo"
        ],
        [
         11,
         978861040,
         "Região Metropolitana de São Paulo"
        ],
        [
         11,
         920989276,
         "Região Metropolitana de São Paulo"
        ],
        [
         11,
         939485281,
         "Região Metropolitana de São Paulo"
        ],
        [
         11,
         985212824,
         "Região Metropolitana de São Paulo"
        ],
        [
         11,
         928234743,
         "Região Metropolitana de São Paulo"
        ],
        [
         11,
         942566308,
         "Região Metropolitana de São Paulo"
        ],
        [
         11,
         926788649,
         "Região Metropolitana de São Paulo"
        ],
        [
         11,
         963264041,
         "Região Metropolitana de São Paulo"
        ],
        [
         11,
         990767424,
         "Região Metropolitana de São Paulo"
        ],
        [
         11,
         947713326,
         "Região Metropolitana de São Paulo"
        ],
        [
         11,
         937596475,
         "Região Metropolitana de São Paulo"
        ],
        [
         11,
         979381594,
         "Região Metropolitana de São Paulo"
        ],
        [
         11,
         954786545,
         "Região Metropolitana de São Paulo"
        ],
        [
         11,
         971362054,
         "Região Metropolitana de São Paulo"
        ],
        [
         11,
         911037117,
         "Região Metropolitana de São Paulo"
        ],
        [
         11,
         935547806,
         "Região Metropolitana de São Paulo"
        ],
        [
         11,
         958897602,
         "Região Metropolitana de São Paulo"
        ],
        [
         11,
         972671154,
         "Região Metropolitana de São Paulo"
        ],
        [
         11,
         936447488,
         "Região Metropolitana de São Paulo"
        ],
        [
         11,
         997334775,
         "Região Metropolitana de São Paulo"
        ],
        [
         11,
         965809399,
         "Região Metropolitana de São Paulo"
        ],
        [
         11,
         993497316,
         "Região Metropolitana de São Paulo"
        ],
        [
         11,
         947643350,
         "Região Metropolitana de São Paulo"
        ],
        [
         11,
         931471467,
         "Região Metropolitana de São Paulo"
        ],
        [
         11,
         976564327,
         "Região Metropolitana de São Paulo"
        ],
        [
         11,
         998158924,
         "Região Metropolitana de São Paulo"
        ],
        [
         11,
         938453262,
         "Região Metropolitana de São Paulo"
        ],
        [
         11,
         995697219,
         "Região Metropolitana de São Paulo"
        ],
        [
         11,
         920607154,
         "Região Metropolitana de São Paulo"
        ],
        [
         11,
         976431232,
         "Região Metropolitana de São Paulo"
        ],
        [
         11,
         951058511,
         "Região Metropolitana de São Paulo"
        ],
        [
         11,
         977005346,
         "Região Metropolitana de São Paulo"
        ],
        [
         11,
         933795304,
         "Região Metropolitana de São Paulo"
        ],
        [
         11,
         942282067,
         "Região Metropolitana de São Paulo"
        ],
        [
         11,
         951218567,
         "Região Metropolitana de São Paulo"
        ],
        [
         11,
         930768621,
         "Região Metropolitana de São Paulo"
        ],
        [
         11,
         983247423,
         "Região Metropolitana de São Paulo"
        ],
        [
         11,
         972977665,
         "Região Metropolitana de São Paulo"
        ],
        [
         11,
         993938423,
         "Região Metropolitana de São Paulo"
        ],
        [
         11,
         964496714,
         "Região Metropolitana de São Paulo"
        ],
        [
         11,
         984844606,
         "Região Metropolitana de São Paulo"
        ],
        [
         11,
         950589304,
         "Região Metropolitana de São Paulo"
        ],
        [
         11,
         922211253,
         "Região Metropolitana de São Paulo"
        ],
        [
         11,
         954312705,
         "Região Metropolitana de São Paulo"
        ],
        [
         11,
         993498718,
         "Região Metropolitana de São Paulo"
        ],
        [
         11,
         987705318,
         "Região Metropolitana de São Paulo"
        ],
        [
         11,
         944791408,
         "Região Metropolitana de São Paulo"
        ],
        [
         11,
         912098362,
         "Região Metropolitana de São Paulo"
        ],
        [
         11,
         919304700,
         "Região Metropolitana de São Paulo"
        ],
        [
         11,
         983795117,
         "Região Metropolitana de São Paulo"
        ],
        [
         11,
         978717643,
         "Região Metropolitana de São Paulo"
        ],
        [
         11,
         941979761,
         "Região Metropolitana de São Paulo"
        ],
        [
         11,
         997022736,
         "Região Metropolitana de São Paulo"
        ],
        [
         11,
         939371599,
         "Região Metropolitana de São Paulo"
        ],
        [
         11,
         977104456,
         "Região Metropolitana de São Paulo"
        ],
        [
         11,
         980731555,
         "Região Metropolitana de São Paulo"
        ],
        [
         11,
         943909628,
         "Região Metropolitana de São Paulo"
        ],
        [
         11,
         950971746,
         "Região Metropolitana de São Paulo"
        ],
        [
         11,
         981082508,
         "Região Metropolitana de São Paulo"
        ],
        [
         11,
         941967902,
         "Região Metropolitana de São Paulo"
        ],
        [
         11,
         986971597,
         "Região Metropolitana de São Paulo"
        ],
        [
         11,
         962941878,
         "Região Metropolitana de São Paulo"
        ],
        [
         11,
         950053478,
         "Região Metropolitana de São Paulo"
        ],
        [
         11,
         925968942,
         "Região Metropolitana de São Paulo"
        ],
        [
         11,
         998796133,
         "Região Metropolitana de São Paulo"
        ],
        [
         11,
         930891771,
         "Região Metropolitana de São Paulo"
        ],
        [
         11,
         976301064,
         "Região Metropolitana de São Paulo"
        ],
        [
         11,
         986365752,
         "Região Metropolitana de São Paulo"
        ],
        [
         11,
         967055525,
         "Região Metropolitana de São Paulo"
        ],
        [
         11,
         977024376,
         "Região Metropolitana de São Paulo"
        ],
        [
         11,
         974414706,
         "Região Metropolitana de São Paulo"
        ],
        [
         11,
         934129314,
         "Região Metropolitana de São Paulo"
        ],
        [
         11,
         918219583,
         "Região Metropolitana de São Paulo"
        ],
        [
         11,
         992456690,
         "Região Metropolitana de São Paulo"
        ],
        [
         11,
         957872536,
         "Região Metropolitana de São Paulo"
        ],
        [
         11,
         916495039,
         "Região Metropolitana de São Paulo"
        ],
        [
         11,
         991204876,
         "Região Metropolitana de São Paulo"
        ],
        [
         11,
         932733277,
         "Região Metropolitana de São Paulo"
        ],
        [
         11,
         938728793,
         "Região Metropolitana de São Paulo"
        ],
        [
         11,
         990103702,
         "Região Metropolitana de São Paulo"
        ],
        [
         11,
         919575287,
         "Região Metropolitana de São Paulo"
        ],
        [
         11,
         964658197,
         "Região Metropolitana de São Paulo"
        ],
        [
         11,
         963848397,
         "Região Metropolitana de São Paulo"
        ],
        [
         11,
         941121236,
         "Região Metropolitana de São Paulo"
        ],
        [
         11,
         989531744,
         "Região Metropolitana de São Paulo"
        ],
        [
         11,
         938566332,
         "Região Metropolitana de São Paulo"
        ],
        [
         11,
         985524629,
         "Região Metropolitana de São Paulo"
        ],
        [
         11,
         946329310,
         "Região Metropolitana de São Paulo"
        ],
        [
         11,
         949808187,
         "Região Metropolitana de São Paulo"
        ],
        [
         11,
         933375803,
         "Região Metropolitana de São Paulo"
        ],
        [
         11,
         930555505,
         "Região Metropolitana de São Paulo"
        ],
        [
         11,
         971787286,
         "Região Metropolitana de São Paulo"
        ],
        [
         11,
         980226375,
         "Região Metropolitana de São Paulo"
        ],
        [
         11,
         994254316,
         "Região Metropolitana de São Paulo"
        ],
        [
         11,
         947514390,
         "Região Metropolitana de São Paulo"
        ],
        [
         11,
         985703601,
         "Região Metropolitana de São Paulo"
        ],
        [
         11,
         959928731,
         "Região Metropolitana de São Paulo"
        ],
        [
         11,
         931325076,
         "Região Metropolitana de São Paulo"
        ],
        [
         11,
         943494330,
         "Região Metropolitana de São Paulo"
        ],
        [
         11,
         963484619,
         "Região Metropolitana de São Paulo"
        ],
        [
         11,
         913538730,
         "Região Metropolitana de São Paulo"
        ],
        [
         11,
         916029456,
         "Região Metropolitana de São Paulo"
        ],
        [
         11,
         973444161,
         "Região Metropolitana de São Paulo"
        ],
        [
         11,
         911122077,
         "Região Metropolitana de São Paulo"
        ],
        [
         11,
         987834718,
         "Região Metropolitana de São Paulo"
        ],
        [
         11,
         940175979,
         "Região Metropolitana de São Paulo"
        ],
        [
         11,
         962375970,
         "Região Metropolitana de São Paulo"
        ],
        [
         11,
         914041411,
         "Região Metropolitana de São Paulo"
        ],
        [
         11,
         920178220,
         "Região Metropolitana de São Paulo"
        ],
        [
         11,
         926817317,
         "Região Metropolitana de São Paulo"
        ],
        [
         11,
         963228771,
         "Região Metropolitana de São Paulo"
        ],
        [
         11,
         972971077,
         "Região Metropolitana de São Paulo"
        ],
        [
         11,
         985895837,
         "Região Metropolitana de São Paulo"
        ],
        [
         11,
         979363003,
         "Região Metropolitana de São Paulo"
        ],
        [
         11,
         963107869,
         "Região Metropolitana de São Paulo"
        ],
        [
         11,
         910302926,
         "Região Metropolitana de São Paulo"
        ],
        [
         11,
         991919902,
         "Região Metropolitana de São Paulo"
        ],
        [
         11,
         984229732,
         "Região Metropolitana de São Paulo"
        ],
        [
         11,
         998623943,
         "Região Metropolitana de São Paulo"
        ],
        [
         11,
         980763719,
         "Região Metropolitana de São Paulo"
        ],
        [
         11,
         954176916,
         "Região Metropolitana de São Paulo"
        ],
        [
         11,
         930755561,
         "Região Metropolitana de São Paulo"
        ],
        [
         11,
         958311536,
         "Região Metropolitana de São Paulo"
        ],
        [
         11,
         954048659,
         "Região Metropolitana de São Paulo"
        ],
        [
         11,
         922712926,
         "Região Metropolitana de São Paulo"
        ],
        [
         11,
         988253563,
         "Região Metropolitana de São Paulo"
        ],
        [
         11,
         921511408,
         "Região Metropolitana de São Paulo"
        ],
        [
         11,
         987535089,
         "Região Metropolitana de São Paulo"
        ],
        [
         11,
         950541727,
         "Região Metropolitana de São Paulo"
        ],
        [
         11,
         984438790,
         "Região Metropolitana de São Paulo"
        ],
        [
         11,
         956749195,
         "Região Metropolitana de São Paulo"
        ],
        [
         11,
         961846175,
         "Região Metropolitana de São Paulo"
        ],
        [
         11,
         980241105,
         "Região Metropolitana de São Paulo"
        ],
        [
         11,
         945974994,
         "Região Metropolitana de São Paulo"
        ],
        [
         11,
         921292945,
         "Região Metropolitana de São Paulo"
        ],
        [
         11,
         920123324,
         "Região Metropolitana de São Paulo"
        ],
        [
         11,
         983127345,
         "Região Metropolitana de São Paulo"
        ],
        [
         11,
         989364268,
         "Região Metropolitana de São Paulo"
        ],
        [
         11,
         963752711,
         "Região Metropolitana de São Paulo"
        ],
        [
         11,
         967622781,
         "Região Metropolitana de São Paulo"
        ],
        [
         11,
         965459153,
         "Região Metropolitana de São Paulo"
        ],
        [
         11,
         948751071,
         "Região Metropolitana de São Paulo"
        ],
        [
         11,
         980135225,
         "Região Metropolitana de São Paulo"
        ],
        [
         11,
         983833370,
         "Região Metropolitana de São Paulo"
        ],
        [
         11,
         970751164,
         "Região Metropolitana de São Paulo"
        ],
        [
         11,
         959526163,
         "Região Metropolitana de São Paulo"
        ],
        [
         11,
         964703883,
         "Região Metropolitana de São Paulo"
        ],
        [
         11,
         997138115,
         "Região Metropolitana de São Paulo"
        ],
        [
         11,
         972589060,
         "Região Metropolitana de São Paulo"
        ],
        [
         11,
         919775625,
         "Região Metropolitana de São Paulo"
        ],
        [
         11,
         927293222,
         "Região Metropolitana de São Paulo"
        ],
        [
         11,
         922084733,
         "Região Metropolitana de São Paulo"
        ],
        [
         11,
         945525967,
         "Região Metropolitana de São Paulo"
        ],
        [
         11,
         911321696,
         "Região Metropolitana de São Paulo"
        ],
        [
         11,
         923078607,
         "Região Metropolitana de São Paulo"
        ],
        [
         11,
         941454314,
         "Região Metropolitana de São Paulo"
        ],
        [
         11,
         971725879,
         "Região Metropolitana de São Paulo"
        ],
        [
         11,
         914407078,
         "Região Metropolitana de São Paulo"
        ],
        [
         11,
         935463764,
         "Região Metropolitana de São Paulo"
        ],
        [
         11,
         969985549,
         "Região Metropolitana de São Paulo"
        ],
        [
         11,
         984987210,
         "Região Metropolitana de São Paulo"
        ],
        [
         11,
         982485146,
         "Região Metropolitana de São Paulo"
        ],
        [
         11,
         926319250,
         "Região Metropolitana de São Paulo"
        ],
        [
         11,
         989823267,
         "Região Metropolitana de São Paulo"
        ],
        [
         11,
         995186130,
         "Região Metropolitana de São Paulo"
        ],
        [
         11,
         959208403,
         "Região Metropolitana de São Paulo"
        ],
        [
         11,
         984954301,
         "Região Metropolitana de São Paulo"
        ],
        [
         11,
         933677426,
         "Região Metropolitana de São Paulo"
        ],
        [
         11,
         971778250,
         "Região Metropolitana de São Paulo"
        ],
        [
         11,
         976354732,
         "Região Metropolitana de São Paulo"
        ],
        [
         11,
         958286782,
         "Região Metropolitana de São Paulo"
        ],
        [
         11,
         981906398,
         "Região Metropolitana de São Paulo"
        ],
        [
         11,
         955584674,
         "Região Metropolitana de São Paulo"
        ],
        [
         11,
         948667586,
         "Região Metropolitana de São Paulo"
        ],
        [
         11,
         943106375,
         "Região Metropolitana de São Paulo"
        ],
        [
         11,
         965803298,
         "Região Metropolitana de São Paulo"
        ],
        [
         11,
         962871363,
         "Região Metropolitana de São Paulo"
        ],
        [
         11,
         914167112,
         "Região Metropolitana de São Paulo"
        ],
        [
         11,
         966174922,
         "Região Metropolitana de São Paulo"
        ],
        [
         11,
         914088258,
         "Região Metropolitana de São Paulo"
        ],
        [
         11,
         985204932,
         "Região Metropolitana de São Paulo"
        ],
        [
         11,
         995345994,
         "Região Metropolitana de São Paulo"
        ],
        [
         11,
         975989000,
         "Região Metropolitana de São Paulo"
        ],
        [
         11,
         952993895,
         "Região Metropolitana de São Paulo"
        ],
        [
         11,
         920562647,
         "Região Metropolitana de São Paulo"
        ],
        [
         11,
         964255135,
         "Região Metropolitana de São Paulo"
        ],
        [
         11,
         950956457,
         "Região Metropolitana de São Paulo"
        ],
        [
         11,
         990177598,
         "Região Metropolitana de São Paulo"
        ],
        [
         11,
         994017902,
         "Região Metropolitana de São Paulo"
        ],
        [
         11,
         972206881,
         "Região Metropolitana de São Paulo"
        ],
        [
         11,
         956885437,
         "Região Metropolitana de São Paulo"
        ],
        [
         11,
         966315139,
         "Região Metropolitana de São Paulo"
        ],
        [
         11,
         924621410,
         "Região Metropolitana de São Paulo"
        ],
        [
         11,
         914704716,
         "Região Metropolitana de São Paulo"
        ],
        [
         11,
         949098575,
         "Região Metropolitana de São Paulo"
        ],
        [
         11,
         973702913,
         "Região Metropolitana de São Paulo"
        ],
        [
         11,
         985113048,
         "Região Metropolitana de São Paulo"
        ],
        [
         11,
         926127834,
         "Região Metropolitana de São Paulo"
        ],
        [
         11,
         920991142,
         "Região Metropolitana de São Paulo"
        ],
        [
         11,
         918255753,
         "Região Metropolitana de São Paulo"
        ],
        [
         11,
         936326068,
         "Região Metropolitana de São Paulo"
        ],
        [
         11,
         961512790,
         "Região Metropolitana de São Paulo"
        ],
        [
         11,
         999526219,
         "Região Metropolitana de São Paulo"
        ],
        [
         11,
         950661031,
         "Região Metropolitana de São Paulo"
        ],
        [
         11,
         921472587,
         "Região Metropolitana de São Paulo"
        ],
        [
         11,
         987118360,
         "Região Metropolitana de São Paulo"
        ],
        [
         11,
         922926054,
         "Região Metropolitana de São Paulo"
        ],
        [
         11,
         950858127,
         "Região Metropolitana de São Paulo"
        ],
        [
         11,
         955798509,
         "Região Metropolitana de São Paulo"
        ],
        [
         11,
         956935709,
         "Região Metropolitana de São Paulo"
        ],
        [
         11,
         912311707,
         "Região Metropolitana de São Paulo"
        ],
        [
         11,
         976029224,
         "Região Metropolitana de São Paulo"
        ],
        [
         11,
         944002513,
         "Região Metropolitana de São Paulo"
        ],
        [
         11,
         959182770,
         "Região Metropolitana de São Paulo"
        ],
        [
         11,
         997047225,
         "Região Metropolitana de São Paulo"
        ],
        [
         11,
         978625847,
         "Região Metropolitana de São Paulo"
        ],
        [
         11,
         943945595,
         "Região Metropolitana de São Paulo"
        ],
        [
         11,
         946418152,
         "Região Metropolitana de São Paulo"
        ],
        [
         11,
         941104079,
         "Região Metropolitana de São Paulo"
        ],
        [
         11,
         914192175,
         "Região Metropolitana de São Paulo"
        ],
        [
         11,
         976863721,
         "Região Metropolitana de São Paulo"
        ],
        [
         11,
         923894714,
         "Região Metropolitana de São Paulo"
        ],
        [
         11,
         934762912,
         "Região Metropolitana de São Paulo"
        ],
        [
         11,
         944075296,
         "Região Metropolitana de São Paulo"
        ],
        [
         11,
         912782863,
         "Região Metropolitana de São Paulo"
        ],
        [
         11,
         980398203,
         "Região Metropolitana de São Paulo"
        ],
        [
         11,
         961847882,
         "Região Metropolitana de São Paulo"
        ],
        [
         11,
         987269500,
         "Região Metropolitana de São Paulo"
        ],
        [
         11,
         966496490,
         "Região Metropolitana de São Paulo"
        ],
        [
         11,
         974013578,
         "Região Metropolitana de São Paulo"
        ],
        [
         11,
         919697301,
         "Região Metropolitana de São Paulo"
        ],
        [
         11,
         965996186,
         "Região Metropolitana de São Paulo"
        ],
        [
         11,
         930248772,
         "Região Metropolitana de São Paulo"
        ],
        [
         11,
         928484704,
         "Região Metropolitana de São Paulo"
        ],
        [
         11,
         946211386,
         "Região Metropolitana de São Paulo"
        ],
        [
         11,
         930986174,
         "Região Metropolitana de São Paulo"
        ],
        [
         11,
         978831905,
         "Região Metropolitana de São Paulo"
        ],
        [
         11,
         969813772,
         "Região Metropolitana de São Paulo"
        ],
        [
         11,
         971873006,
         "Região Metropolitana de São Paulo"
        ],
        [
         11,
         926788141,
         "Região Metropolitana de São Paulo"
        ],
        [
         11,
         995884553,
         "Região Metropolitana de São Paulo"
        ],
        [
         11,
         933747996,
         "Região Metropolitana de São Paulo"
        ],
        [
         11,
         940603547,
         "Região Metropolitana de São Paulo"
        ],
        [
         11,
         985536098,
         "Região Metropolitana de São Paulo"
        ],
        [
         11,
         951833012,
         "Região Metropolitana de São Paulo"
        ],
        [
         11,
         952266165,
         "Região Metropolitana de São Paulo"
        ],
        [
         11,
         952247187,
         "Região Metropolitana de São Paulo"
        ],
        [
         11,
         992556026,
         "Região Metropolitana de São Paulo"
        ],
        [
         11,
         957397655,
         "Região Metropolitana de São Paulo"
        ],
        [
         11,
         977076318,
         "Região Metropolitana de São Paulo"
        ],
        [
         11,
         956789027,
         "Região Metropolitana de São Paulo"
        ],
        [
         11,
         943072645,
         "Região Metropolitana de São Paulo"
        ],
        [
         11,
         934467777,
         "Região Metropolitana de São Paulo"
        ],
        [
         11,
         984318937,
         "Região Metropolitana de São Paulo"
        ],
        [
         11,
         949535597,
         "Região Metropolitana de São Paulo"
        ],
        [
         11,
         938972295,
         "Região Metropolitana de São Paulo"
        ],
        [
         11,
         964917289,
         "Região Metropolitana de São Paulo"
        ],
        [
         11,
         959487121,
         "Região Metropolitana de São Paulo"
        ],
        [
         11,
         969924702,
         "Região Metropolitana de São Paulo"
        ],
        [
         11,
         919733719,
         "Região Metropolitana de São Paulo"
        ],
        [
         11,
         918275106,
         "Região Metropolitana de São Paulo"
        ],
        [
         11,
         997078925,
         "Região Metropolitana de São Paulo"
        ],
        [
         11,
         911042604,
         "Região Metropolitana de São Paulo"
        ],
        [
         11,
         999285756,
         "Região Metropolitana de São Paulo"
        ],
        [
         11,
         943391041,
         "Região Metropolitana de São Paulo"
        ],
        [
         11,
         922332882,
         "Região Metropolitana de São Paulo"
        ],
        [
         11,
         992142543,
         "Região Metropolitana de São Paulo"
        ],
        [
         11,
         954125797,
         "Região Metropolitana de São Paulo"
        ],
        [
         11,
         942322498,
         "Região Metropolitana de São Paulo"
        ],
        [
         11,
         935534140,
         "Região Metropolitana de São Paulo"
        ],
        [
         11,
         957097324,
         "Região Metropolitana de São Paulo"
        ],
        [
         11,
         981222980,
         "Região Metropolitana de São Paulo"
        ],
        [
         11,
         942758607,
         "Região Metropolitana de São Paulo"
        ],
        [
         11,
         919673028,
         "Região Metropolitana de São Paulo"
        ],
        [
         11,
         939622384,
         "Região Metropolitana de São Paulo"
        ],
        [
         11,
         933643705,
         "Região Metropolitana de São Paulo"
        ],
        [
         11,
         995953188,
         "Região Metropolitana de São Paulo"
        ],
        [
         11,
         933567498,
         "Região Metropolitana de São Paulo"
        ],
        [
         11,
         993402215,
         "Região Metropolitana de São Paulo"
        ],
        [
         11,
         954285336,
         "Região Metropolitana de São Paulo"
        ],
        [
         11,
         969294741,
         "Região Metropolitana de São Paulo"
        ],
        [
         11,
         988933903,
         "Região Metropolitana de São Paulo"
        ],
        [
         11,
         944184926,
         "Região Metropolitana de São Paulo"
        ],
        [
         11,
         936564077,
         "Região Metropolitana de São Paulo"
        ],
        [
         11,
         981121017,
         "Região Metropolitana de São Paulo"
        ],
        [
         11,
         944485962,
         "Região Metropolitana de São Paulo"
        ],
        [
         11,
         913783830,
         "Região Metropolitana de São Paulo"
        ],
        [
         11,
         913679939,
         "Região Metropolitana de São Paulo"
        ],
        [
         11,
         984188004,
         "Região Metropolitana de São Paulo"
        ],
        [
         11,
         929927591,
         "Região Metropolitana de São Paulo"
        ],
        [
         11,
         957365618,
         "Região Metropolitana de São Paulo"
        ],
        [
         11,
         968021312,
         "Região Metropolitana de São Paulo"
        ],
        [
         11,
         957218742,
         "Região Metropolitana de São Paulo"
        ],
        [
         11,
         924254595,
         "Região Metropolitana de São Paulo"
        ],
        [
         11,
         936106003,
         "Região Metropolitana de São Paulo"
        ],
        [
         11,
         919876275,
         "Região Metropolitana de São Paulo"
        ],
        [
         11,
         980105864,
         "Região Metropolitana de São Paulo"
        ],
        [
         11,
         936113761,
         "Região Metropolitana de São Paulo"
        ],
        [
         11,
         943181408,
         "Região Metropolitana de São Paulo"
        ],
        [
         11,
         910226728,
         "Região Metropolitana de São Paulo"
        ],
        [
         11,
         965902119,
         "Região Metropolitana de São Paulo"
        ],
        [
         11,
         987699543,
         "Região Metropolitana de São Paulo"
        ],
        [
         11,
         935932179,
         "Região Metropolitana de São Paulo"
        ],
        [
         11,
         968394069,
         "Região Metropolitana de São Paulo"
        ],
        [
         11,
         984871428,
         "Região Metropolitana de São Paulo"
        ],
        [
         11,
         966821111,
         "Região Metropolitana de São Paulo"
        ],
        [
         11,
         948835423,
         "Região Metropolitana de São Paulo"
        ],
        [
         11,
         978366814,
         "Região Metropolitana de São Paulo"
        ],
        [
         11,
         945454499,
         "Região Metropolitana de São Paulo"
        ],
        [
         11,
         988948142,
         "Região Metropolitana de São Paulo"
        ],
        [
         11,
         964635273,
         "Região Metropolitana de São Paulo"
        ],
        [
         11,
         941447873,
         "Região Metropolitana de São Paulo"
        ],
        [
         11,
         979676343,
         "Região Metropolitana de São Paulo"
        ],
        [
         11,
         972709725,
         "Região Metropolitana de São Paulo"
        ],
        [
         11,
         921004587,
         "Região Metropolitana de São Paulo"
        ],
        [
         11,
         937856056,
         "Região Metropolitana de São Paulo"
        ],
        [
         11,
         953773584,
         "Região Metropolitana de São Paulo"
        ],
        [
         11,
         947862364,
         "Região Metropolitana de São Paulo"
        ],
        [
         11,
         929466625,
         "Região Metropolitana de São Paulo"
        ],
        [
         11,
         972143953,
         "Região Metropolitana de São Paulo"
        ],
        [
         11,
         911392238,
         "Região Metropolitana de São Paulo"
        ],
        [
         11,
         916646836,
         "Região Metropolitana de São Paulo"
        ],
        [
         11,
         961823865,
         "Região Metropolitana de São Paulo"
        ],
        [
         11,
         928735252,
         "Região Metropolitana de São Paulo"
        ],
        [
         11,
         953256094,
         "Região Metropolitana de São Paulo"
        ],
        [
         11,
         955207409,
         "Região Metropolitana de São Paulo"
        ],
        [
         11,
         955284486,
         "Região Metropolitana de São Paulo"
        ],
        [
         11,
         977883315,
         "Região Metropolitana de São Paulo"
        ],
        [
         11,
         958245635,
         "Região Metropolitana de São Paulo"
        ],
        [
         11,
         939698346,
         "Região Metropolitana de São Paulo"
        ],
        [
         11,
         949548881,
         "Região Metropolitana de São Paulo"
        ],
        [
         11,
         961443817,
         "Região Metropolitana de São Paulo"
        ],
        [
         11,
         978639487,
         "Região Metropolitana de São Paulo"
        ],
        [
         11,
         946733705,
         "Região Metropolitana de São Paulo"
        ],
        [
         11,
         928648372,
         "Região Metropolitana de São Paulo"
        ],
        [
         11,
         976442739,
         "Região Metropolitana de São Paulo"
        ],
        [
         11,
         933131327,
         "Região Metropolitana de São Paulo"
        ],
        [
         11,
         989685158,
         "Região Metropolitana de São Paulo"
        ],
        [
         11,
         992142618,
         "Região Metropolitana de São Paulo"
        ],
        [
         11,
         938033855,
         "Região Metropolitana de São Paulo"
        ],
        [
         11,
         965898455,
         "Região Metropolitana de São Paulo"
        ],
        [
         11,
         978025039,
         "Região Metropolitana de São Paulo"
        ],
        [
         11,
         996573780,
         "Região Metropolitana de São Paulo"
        ],
        [
         11,
         945991208,
         "Região Metropolitana de São Paulo"
        ],
        [
         11,
         944729472,
         "Região Metropolitana de São Paulo"
        ],
        [
         11,
         936524762,
         "Região Metropolitana de São Paulo"
        ],
        [
         11,
         946556726,
         "Região Metropolitana de São Paulo"
        ],
        [
         11,
         964132964,
         "Região Metropolitana de São Paulo"
        ],
        [
         11,
         926616750,
         "Região Metropolitana de São Paulo"
        ],
        [
         11,
         955209671,
         "Região Metropolitana de São Paulo"
        ],
        [
         11,
         978783980,
         "Região Metropolitana de São Paulo"
        ],
        [
         11,
         913944133,
         "Região Metropolitana de São Paulo"
        ],
        [
         11,
         953105130,
         "Região Metropolitana de São Paulo"
        ],
        [
         11,
         990231927,
         "Região Metropolitana de São Paulo"
        ],
        [
         11,
         999366802,
         "Região Metropolitana de São Paulo"
        ],
        [
         11,
         929157141,
         "Região Metropolitana de São Paulo"
        ],
        [
         11,
         986383736,
         "Região Metropolitana de São Paulo"
        ],
        [
         11,
         914223466,
         "Região Metropolitana de São Paulo"
        ],
        [
         11,
         923517178,
         "Região Metropolitana de São Paulo"
        ],
        [
         11,
         959145166,
         "Região Metropolitana de São Paulo"
        ],
        [
         11,
         939368624,
         "Região Metropolitana de São Paulo"
        ],
        [
         11,
         918947845,
         "Região Metropolitana de São Paulo"
        ],
        [
         11,
         927097095,
         "Região Metropolitana de São Paulo"
        ],
        [
         11,
         929529706,
         "Região Metropolitana de São Paulo"
        ],
        [
         11,
         945575180,
         "Região Metropolitana de São Paulo"
        ],
        [
         11,
         925946394,
         "Região Metropolitana de São Paulo"
        ],
        [
         11,
         992196486,
         "Região Metropolitana de São Paulo"
        ],
        [
         11,
         960968915,
         "Região Metropolitana de São Paulo"
        ],
        [
         11,
         959449838,
         "Região Metropolitana de São Paulo"
        ],
        [
         11,
         971249012,
         "Região Metropolitana de São Paulo"
        ],
        [
         11,
         954237707,
         "Região Metropolitana de São Paulo"
        ],
        [
         11,
         990354976,
         "Região Metropolitana de São Paulo"
        ],
        [
         11,
         931488208,
         "Região Metropolitana de São Paulo"
        ],
        [
         11,
         943074527,
         "Região Metropolitana de São Paulo"
        ],
        [
         11,
         989445714,
         "Região Metropolitana de São Paulo"
        ],
        [
         11,
         910276580,
         "Região Metropolitana de São Paulo"
        ],
        [
         11,
         955075391,
         "Região Metropolitana de São Paulo"
        ],
        [
         11,
         925495390,
         "Região Metropolitana de São Paulo"
        ],
        [
         11,
         938915805,
         "Região Metropolitana de São Paulo"
        ],
        [
         11,
         989832844,
         "Região Metropolitana de São Paulo"
        ],
        [
         11,
         941912958,
         "Região Metropolitana de São Paulo"
        ],
        [
         11,
         938115804,
         "Região Metropolitana de São Paulo"
        ],
        [
         11,
         920475390,
         "Região Metropolitana de São Paulo"
        ],
        [
         11,
         934538007,
         "Região Metropolitana de São Paulo"
        ],
        [
         11,
         994457553,
         "Região Metropolitana de São Paulo"
        ],
        [
         11,
         955997622,
         "Região Metropolitana de São Paulo"
        ],
        [
         11,
         967051801,
         "Região Metropolitana de São Paulo"
        ],
        [
         11,
         978205406,
         "Região Metropolitana de São Paulo"
        ],
        [
         11,
         959732591,
         "Região Metropolitana de São Paulo"
        ],
        [
         11,
         978774414,
         "Região Metropolitana de São Paulo"
        ],
        [
         11,
         912433223,
         "Região Metropolitana de São Paulo"
        ],
        [
         11,
         946995344,
         "Região Metropolitana de São Paulo"
        ],
        [
         11,
         915229305,
         "Região Metropolitana de São Paulo"
        ],
        [
         11,
         937344359,
         "Região Metropolitana de São Paulo"
        ],
        [
         11,
         995476978,
         "Região Metropolitana de São Paulo"
        ],
        [
         11,
         944089996,
         "Região Metropolitana de São Paulo"
        ],
        [
         11,
         919222625,
         "Região Metropolitana de São Paulo"
        ],
        [
         11,
         915179413,
         "Região Metropolitana de São Paulo"
        ],
        [
         11,
         974137293,
         "Região Metropolitana de São Paulo"
        ],
        [
         11,
         924473370,
         "Região Metropolitana de São Paulo"
        ],
        [
         11,
         923698605,
         "Região Metropolitana de São Paulo"
        ],
        [
         11,
         926989288,
         "Região Metropolitana de São Paulo"
        ],
        [
         11,
         983476182,
         "Região Metropolitana de São Paulo"
        ],
        [
         11,
         945999542,
         "Região Metropolitana de São Paulo"
        ],
        [
         11,
         979411114,
         "Região Metropolitana de São Paulo"
        ],
        [
         11,
         985122266,
         "Região Metropolitana de São Paulo"
        ],
        [
         11,
         948212335,
         "Região Metropolitana de São Paulo"
        ],
        [
         11,
         971074815,
         "Região Metropolitana de São Paulo"
        ],
        [
         11,
         929573520,
         "Região Metropolitana de São Paulo"
        ],
        [
         11,
         977854140,
         "Região Metropolitana de São Paulo"
        ],
        [
         11,
         992361435,
         "Região Metropolitana de São Paulo"
        ],
        [
         11,
         923801086,
         "Região Metropolitana de São Paulo"
        ],
        [
         11,
         966444811,
         "Região Metropolitana de São Paulo"
        ],
        [
         11,
         954296522,
         "Região Metropolitana de São Paulo"
        ],
        [
         11,
         971312550,
         "Região Metropolitana de São Paulo"
        ],
        [
         11,
         913184119,
         "Região Metropolitana de São Paulo"
        ],
        [
         11,
         951933123,
         "Região Metropolitana de São Paulo"
        ],
        [
         11,
         957228426,
         "Região Metropolitana de São Paulo"
        ],
        [
         11,
         991715620,
         "Região Metropolitana de São Paulo"
        ],
        [
         11,
         993665590,
         "Região Metropolitana de São Paulo"
        ],
        [
         11,
         977353863,
         "Região Metropolitana de São Paulo"
        ],
        [
         11,
         981236617,
         "Região Metropolitana de São Paulo"
        ],
        [
         11,
         994242800,
         "Região Metropolitana de São Paulo"
        ],
        [
         11,
         946333107,
         "Região Metropolitana de São Paulo"
        ],
        [
         11,
         926663031,
         "Região Metropolitana de São Paulo"
        ],
        [
         11,
         996232083,
         "Região Metropolitana de São Paulo"
        ],
        [
         11,
         928704216,
         "Região Metropolitana de São Paulo"
        ],
        [
         11,
         994019954,
         "Região Metropolitana de São Paulo"
        ],
        [
         11,
         911566815,
         "Região Metropolitana de São Paulo"
        ],
        [
         11,
         993748320,
         "Região Metropolitana de São Paulo"
        ],
        [
         11,
         925733894,
         "Região Metropolitana de São Paulo"
        ],
        [
         11,
         966093684,
         "Região Metropolitana de São Paulo"
        ],
        [
         11,
         947271193,
         "Região Metropolitana de São Paulo"
        ],
        [
         11,
         961112764,
         "Região Metropolitana de São Paulo"
        ],
        [
         11,
         996936663,
         "Região Metropolitana de São Paulo"
        ],
        [
         11,
         958729758,
         "Região Metropolitana de São Paulo"
        ],
        [
         11,
         943013483,
         "Região Metropolitana de São Paulo"
        ],
        [
         11,
         914172422,
         "Região Metropolitana de São Paulo"
        ],
        [
         11,
         968699162,
         "Região Metropolitana de São Paulo"
        ],
        [
         11,
         958912303,
         "Região Metropolitana de São Paulo"
        ],
        [
         11,
         977016196,
         "Região Metropolitana de São Paulo"
        ],
        [
         11,
         915058355,
         "Região Metropolitana de São Paulo"
        ],
        [
         11,
         910013932,
         "Região Metropolitana de São Paulo"
        ],
        [
         11,
         950725762,
         "Região Metropolitana de São Paulo"
        ],
        [
         11,
         911561454,
         "Região Metropolitana de São Paulo"
        ],
        [
         11,
         960758897,
         "Região Metropolitana de São Paulo"
        ],
        [
         11,
         980255364,
         "Região Metropolitana de São Paulo"
        ],
        [
         11,
         928633913,
         "Região Metropolitana de São Paulo"
        ],
        [
         11,
         928788863,
         "Região Metropolitana de São Paulo"
        ],
        [
         11,
         952826085,
         "Região Metropolitana de São Paulo"
        ],
        [
         11,
         952252592,
         "Região Metropolitana de São Paulo"
        ],
        [
         11,
         974385253,
         "Região Metropolitana de São Paulo"
        ],
        [
         11,
         916783873,
         "Região Metropolitana de São Paulo"
        ],
        [
         11,
         982885287,
         "Região Metropolitana de São Paulo"
        ],
        [
         11,
         925497204,
         "Região Metropolitana de São Paulo"
        ],
        [
         11,
         932908248,
         "Região Metropolitana de São Paulo"
        ],
        [
         11,
         985142046,
         "Região Metropolitana de São Paulo"
        ],
        [
         11,
         911831385,
         "Região Metropolitana de São Paulo"
        ],
        [
         11,
         922136009,
         "Região Metropolitana de São Paulo"
        ],
        [
         11,
         940079900,
         "Região Metropolitana de São Paulo"
        ],
        [
         11,
         933354728,
         "Região Metropolitana de São Paulo"
        ],
        [
         11,
         993733262,
         "Região Metropolitana de São Paulo"
        ],
        [
         11,
         920696168,
         "Região Metropolitana de São Paulo"
        ],
        [
         11,
         980826217,
         "Região Metropolitana de São Paulo"
        ],
        [
         11,
         918644311,
         "Região Metropolitana de São Paulo"
        ],
        [
         11,
         995256427,
         "Região Metropolitana de São Paulo"
        ],
        [
         11,
         928472427,
         "Região Metropolitana de São Paulo"
        ],
        [
         11,
         967526403,
         "Região Metropolitana de São Paulo"
        ],
        [
         11,
         983283415,
         "Região Metropolitana de São Paulo"
        ],
        [
         11,
         968116807,
         "Região Metropolitana de São Paulo"
        ],
        [
         11,
         921851906,
         "Região Metropolitana de São Paulo"
        ],
        [
         11,
         914379786,
         "Região Metropolitana de São Paulo"
        ],
        [
         11,
         943039305,
         "Região Metropolitana de São Paulo"
        ],
        [
         11,
         928024909,
         "Região Metropolitana de São Paulo"
        ],
        [
         11,
         958855897,
         "Região Metropolitana de São Paulo"
        ],
        [
         11,
         925092057,
         "Região Metropolitana de São Paulo"
        ],
        [
         11,
         941714078,
         "Região Metropolitana de São Paulo"
        ],
        [
         11,
         942965879,
         "Região Metropolitana de São Paulo"
        ],
        [
         11,
         931649256,
         "Região Metropolitana de São Paulo"
        ],
        [
         11,
         932092356,
         "Região Metropolitana de São Paulo"
        ],
        [
         11,
         963169766,
         "Região Metropolitana de São Paulo"
        ],
        [
         11,
         980801530,
         "Região Metropolitana de São Paulo"
        ],
        [
         11,
         913917923,
         "Região Metropolitana de São Paulo"
        ],
        [
         11,
         992216251,
         "Região Metropolitana de São Paulo"
        ],
        [
         11,
         917386538,
         "Região Metropolitana de São Paulo"
        ],
        [
         11,
         986707350,
         "Região Metropolitana de São Paulo"
        ],
        [
         11,
         959975854,
         "Região Metropolitana de São Paulo"
        ],
        [
         11,
         915048089,
         "Região Metropolitana de São Paulo"
        ],
        [
         11,
         949234119,
         "Região Metropolitana de São Paulo"
        ],
        [
         11,
         938612279,
         "Região Metropolitana de São Paulo"
        ],
        [
         11,
         974794307,
         "Região Metropolitana de São Paulo"
        ],
        [
         11,
         951301645,
         "Região Metropolitana de São Paulo"
        ],
        [
         11,
         926145991,
         "Região Metropolitana de São Paulo"
        ],
        [
         11,
         915547184,
         "Região Metropolitana de São Paulo"
        ],
        [
         11,
         969605536,
         "Região Metropolitana de São Paulo"
        ],
        [
         11,
         949517712,
         "Região Metropolitana de São Paulo"
        ],
        [
         11,
         943655925,
         "Região Metropolitana de São Paulo"
        ],
        [
         11,
         920982186,
         "Região Metropolitana de São Paulo"
        ],
        [
         11,
         981153980,
         "Região Metropolitana de São Paulo"
        ],
        [
         11,
         978354343,
         "Região Metropolitana de São Paulo"
        ],
        [
         11,
         972127321,
         "Região Metropolitana de São Paulo"
        ],
        [
         11,
         954021469,
         "Região Metropolitana de São Paulo"
        ],
        [
         11,
         933225369,
         "Região Metropolitana de São Paulo"
        ],
        [
         11,
         923183414,
         "Região Metropolitana de São Paulo"
        ],
        [
         11,
         913591727,
         "Região Metropolitana de São Paulo"
        ],
        [
         11,
         930462713,
         "Região Metropolitana de São Paulo"
        ],
        [
         11,
         929139802,
         "Região Metropolitana de São Paulo"
        ],
        [
         11,
         995247489,
         "Região Metropolitana de São Paulo"
        ],
        [
         11,
         957463470,
         "Região Metropolitana de São Paulo"
        ],
        [
         11,
         987123536,
         "Região Metropolitana de São Paulo"
        ],
        [
         11,
         920459421,
         "Região Metropolitana de São Paulo"
        ],
        [
         11,
         997666553,
         "Região Metropolitana de São Paulo"
        ],
        [
         11,
         997754770,
         "Região Metropolitana de São Paulo"
        ],
        [
         11,
         922873212,
         "Região Metropolitana de São Paulo"
        ],
        [
         11,
         998413156,
         "Região Metropolitana de São Paulo"
        ],
        [
         11,
         982743407,
         "Região Metropolitana de São Paulo"
        ],
        [
         11,
         998377335,
         "Região Metropolitana de São Paulo"
        ],
        [
         11,
         960964255,
         "Região Metropolitana de São Paulo"
        ],
        [
         11,
         987649826,
         "Região Metropolitana de São Paulo"
        ],
        [
         11,
         924169342,
         "Região Metropolitana de São Paulo"
        ],
        [
         11,
         985788241,
         "Região Metropolitana de São Paulo"
        ],
        [
         11,
         968819144,
         "Região Metropolitana de São Paulo"
        ],
        [
         11,
         919372080,
         "Região Metropolitana de São Paulo"
        ],
        [
         11,
         978079368,
         "Região Metropolitana de São Paulo"
        ],
        [
         11,
         961577026,
         "Região Metropolitana de São Paulo"
        ],
        [
         11,
         964925043,
         "Região Metropolitana de São Paulo"
        ],
        [
         11,
         919625204,
         "Região Metropolitana de São Paulo"
        ],
        [
         11,
         911321143,
         "Região Metropolitana de São Paulo"
        ],
        [
         11,
         967297182,
         "Região Metropolitana de São Paulo"
        ],
        [
         11,
         946642030,
         "Região Metropolitana de São Paulo"
        ],
        [
         11,
         950216372,
         "Região Metropolitana de São Paulo"
        ],
        [
         11,
         940627558,
         "Região Metropolitana de São Paulo"
        ],
        [
         11,
         972816900,
         "Região Metropolitana de São Paulo"
        ],
        [
         11,
         953319627,
         "Região Metropolitana de São Paulo"
        ],
        [
         11,
         967378619,
         "Região Metropolitana de São Paulo"
        ],
        [
         11,
         955528666,
         "Região Metropolitana de São Paulo"
        ],
        [
         11,
         983467906,
         "Região Metropolitana de São Paulo"
        ],
        [
         11,
         952897806,
         "Região Metropolitana de São Paulo"
        ],
        [
         11,
         935818901,
         "Região Metropolitana de São Paulo"
        ],
        [
         11,
         934395008,
         "Região Metropolitana de São Paulo"
        ],
        [
         11,
         967604168,
         "Região Metropolitana de São Paulo"
        ],
        [
         11,
         924767516,
         "Região Metropolitana de São Paulo"
        ],
        [
         11,
         959622719,
         "Região Metropolitana de São Paulo"
        ],
        [
         11,
         977228935,
         "Região Metropolitana de São Paulo"
        ],
        [
         11,
         989984097,
         "Região Metropolitana de São Paulo"
        ],
        [
         11,
         997643197,
         "Região Metropolitana de São Paulo"
        ],
        [
         11,
         946885307,
         "Região Metropolitana de São Paulo"
        ],
        [
         11,
         977976412,
         "Região Metropolitana de São Paulo"
        ],
        [
         11,
         929802419,
         "Região Metropolitana de São Paulo"
        ],
        [
         11,
         972453582,
         "Região Metropolitana de São Paulo"
        ],
        [
         11,
         986791745,
         "Região Metropolitana de São Paulo"
        ],
        [
         11,
         981741654,
         "Região Metropolitana de São Paulo"
        ],
        [
         11,
         993355928,
         "Região Metropolitana de São Paulo"
        ],
        [
         11,
         913154786,
         "Região Metropolitana de São Paulo"
        ],
        [
         11,
         977562514,
         "Região Metropolitana de São Paulo"
        ],
        [
         11,
         968926594,
         "Região Metropolitana de São Paulo"
        ],
        [
         11,
         953512518,
         "Região Metropolitana de São Paulo"
        ],
        [
         11,
         932212274,
         "Região Metropolitana de São Paulo"
        ],
        [
         11,
         926914061,
         "Região Metropolitana de São Paulo"
        ],
        [
         11,
         976395555,
         "Região Metropolitana de São Paulo"
        ],
        [
         11,
         999764260,
         "Região Metropolitana de São Paulo"
        ],
        [
         11,
         918795481,
         "Região Metropolitana de São Paulo"
        ],
        [
         11,
         994916606,
         "Região Metropolitana de São Paulo"
        ],
        [
         11,
         951155778,
         "Região Metropolitana de São Paulo"
        ],
        [
         11,
         916127769,
         "Região Metropolitana de São Paulo"
        ],
        [
         11,
         920368264,
         "Região Metropolitana de São Paulo"
        ],
        [
         11,
         985125796,
         "Região Metropolitana de São Paulo"
        ],
        [
         11,
         942353833,
         "Região Metropolitana de São Paulo"
        ],
        [
         11,
         948403217,
         "Região Metropolitana de São Paulo"
        ],
        [
         11,
         910909677,
         "Região Metropolitana de São Paulo"
        ],
        [
         11,
         990594305,
         "Região Metropolitana de São Paulo"
        ],
        [
         11,
         921911441,
         "Região Metropolitana de São Paulo"
        ],
        [
         11,
         964995188,
         "Região Metropolitana de São Paulo"
        ],
        [
         11,
         911097226,
         "Região Metropolitana de São Paulo"
        ],
        [
         11,
         951476754,
         "Região Metropolitana de São Paulo"
        ],
        [
         11,
         958297237,
         "Região Metropolitana de São Paulo"
        ],
        [
         11,
         992824748,
         "Região Metropolitana de São Paulo"
        ],
        [
         11,
         952718784,
         "Região Metropolitana de São Paulo"
        ],
        [
         11,
         951413782,
         "Região Metropolitana de São Paulo"
        ],
        [
         11,
         912589899,
         "Região Metropolitana de São Paulo"
        ],
        [
         11,
         958581414,
         "Região Metropolitana de São Paulo"
        ],
        [
         11,
         950563047,
         "Região Metropolitana de São Paulo"
        ],
        [
         11,
         925608553,
         "Região Metropolitana de São Paulo"
        ],
        [
         11,
         973681721,
         "Região Metropolitana de São Paulo"
        ],
        [
         11,
         978475498,
         "Região Metropolitana de São Paulo"
        ],
        [
         11,
         940748897,
         "Região Metropolitana de São Paulo"
        ],
        [
         11,
         936154863,
         "Região Metropolitana de São Paulo"
        ],
        [
         11,
         983656758,
         "Região Metropolitana de São Paulo"
        ],
        [
         11,
         990177525,
         "Região Metropolitana de São Paulo"
        ],
        [
         11,
         968989682,
         "Região Metropolitana de São Paulo"
        ],
        [
         11,
         919029024,
         "Região Metropolitana de São Paulo"
        ],
        [
         11,
         969505229,
         "Região Metropolitana de São Paulo"
        ],
        [
         11,
         944762318,
         "Região Metropolitana de São Paulo"
        ],
        [
         11,
         942426788,
         "Região Metropolitana de São Paulo"
        ],
        [
         11,
         955861768,
         "Região Metropolitana de São Paulo"
        ],
        [
         11,
         969235690,
         "Região Metropolitana de São Paulo"
        ],
        [
         11,
         923328956,
         "Região Metropolitana de São Paulo"
        ],
        [
         11,
         932551764,
         "Região Metropolitana de São Paulo"
        ],
        [
         11,
         947638790,
         "Região Metropolitana de São Paulo"
        ],
        [
         11,
         991472037,
         "Região Metropolitana de São Paulo"
        ],
        [
         11,
         983975376,
         "Região Metropolitana de São Paulo"
        ],
        [
         11,
         998365987,
         "Região Metropolitana de São Paulo"
        ],
        [
         11,
         914571888,
         "Região Metropolitana de São Paulo"
        ],
        [
         11,
         995113678,
         "Região Metropolitana de São Paulo"
        ],
        [
         11,
         922688804,
         "Região Metropolitana de São Paulo"
        ],
        [
         11,
         915728930,
         "Região Metropolitana de São Paulo"
        ],
        [
         11,
         923111291,
         "Região Metropolitana de São Paulo"
        ],
        [
         11,
         924292344,
         "Região Metropolitana de São Paulo"
        ],
        [
         11,
         984003478,
         "Região Metropolitana de São Paulo"
        ],
        [
         11,
         923815854,
         "Região Metropolitana de São Paulo"
        ],
        [
         11,
         948183018,
         "Região Metropolitana de São Paulo"
        ],
        [
         11,
         921192552,
         "Região Metropolitana de São Paulo"
        ],
        [
         11,
         945305171,
         "Região Metropolitana de São Paulo"
        ],
        [
         11,
         944972992,
         "Região Metropolitana de São Paulo"
        ],
        [
         11,
         912617038,
         "Região Metropolitana de São Paulo"
        ],
        [
         11,
         924866909,
         "Região Metropolitana de São Paulo"
        ],
        [
         11,
         936361945,
         "Região Metropolitana de São Paulo"
        ],
        [
         11,
         980439060,
         "Região Metropolitana de São Paulo"
        ],
        [
         11,
         941652003,
         "Região Metropolitana de São Paulo"
        ],
        [
         11,
         989036997,
         "Região Metropolitana de São Paulo"
        ],
        [
         11,
         921111811,
         "Região Metropolitana de São Paulo"
        ],
        [
         11,
         975187999,
         "Região Metropolitana de São Paulo"
        ],
        [
         11,
         933028711,
         "Região Metropolitana de São Paulo"
        ],
        [
         11,
         939079987,
         "Região Metropolitana de São Paulo"
        ],
        [
         11,
         953441135,
         "Região Metropolitana de São Paulo"
        ],
        [
         11,
         978544197,
         "Região Metropolitana de São Paulo"
        ],
        [
         11,
         936424578,
         "Região Metropolitana de São Paulo"
        ],
        [
         11,
         927348476,
         "Região Metropolitana de São Paulo"
        ],
        [
         11,
         917788650,
         "Região Metropolitana de São Paulo"
        ],
        [
         11,
         985417012,
         "Região Metropolitana de São Paulo"
        ],
        [
         11,
         958479142,
         "Região Metropolitana de São Paulo"
        ],
        [
         11,
         971288883,
         "Região Metropolitana de São Paulo"
        ],
        [
         11,
         964194518,
         "Região Metropolitana de São Paulo"
        ],
        [
         11,
         928754612,
         "Região Metropolitana de São Paulo"
        ],
        [
         11,
         985668677,
         "Região Metropolitana de São Paulo"
        ],
        [
         11,
         911832776,
         "Região Metropolitana de São Paulo"
        ],
        [
         11,
         922466584,
         "Região Metropolitana de São Paulo"
        ],
        [
         11,
         911726655,
         "Região Metropolitana de São Paulo"
        ],
        [
         11,
         952666342,
         "Região Metropolitana de São Paulo"
        ],
        [
         11,
         971881989,
         "Região Metropolitana de São Paulo"
        ],
        [
         11,
         922539005,
         "Região Metropolitana de São Paulo"
        ],
        [
         11,
         980166015,
         "Região Metropolitana de São Paulo"
        ],
        [
         11,
         948788262,
         "Região Metropolitana de São Paulo"
        ],
        [
         11,
         994826241,
         "Região Metropolitana de São Paulo"
        ],
        [
         11,
         929138807,
         "Região Metropolitana de São Paulo"
        ],
        [
         11,
         922251063,
         "Região Metropolitana de São Paulo"
        ],
        [
         11,
         953392614,
         "Região Metropolitana de São Paulo"
        ],
        [
         11,
         957411319,
         "Região Metropolitana de São Paulo"
        ],
        [
         11,
         966626531,
         "Região Metropolitana de São Paulo"
        ],
        [
         11,
         974107750,
         "Região Metropolitana de São Paulo"
        ],
        [
         11,
         942474187,
         "Região Metropolitana de São Paulo"
        ],
        [
         11,
         919897230,
         "Região Metropolitana de São Paulo"
        ],
        [
         11,
         944719317,
         "Região Metropolitana de São Paulo"
        ],
        [
         11,
         949481491,
         "Região Metropolitana de São Paulo"
        ],
        [
         11,
         914667862,
         "Região Metropolitana de São Paulo"
        ],
        [
         11,
         991423631,
         "Região Metropolitana de São Paulo"
        ],
        [
         11,
         977358575,
         "Região Metropolitana de São Paulo"
        ],
        [
         11,
         929638061,
         "Região Metropolitana de São Paulo"
        ],
        [
         11,
         998959291,
         "Região Metropolitana de São Paulo"
        ],
        [
         11,
         918027646,
         "Região Metropolitana de São Paulo"
        ],
        [
         11,
         986665155,
         "Região Metropolitana de São Paulo"
        ],
        [
         11,
         919201024,
         "Região Metropolitana de São Paulo"
        ],
        [
         11,
         932176913,
         "Região Metropolitana de São Paulo"
        ],
        [
         11,
         921593036,
         "Região Metropolitana de São Paulo"
        ],
        [
         11,
         964159829,
         "Região Metropolitana de São Paulo"
        ],
        [
         11,
         966209983,
         "Região Metropolitana de São Paulo"
        ],
        [
         11,
         943952916,
         "Região Metropolitana de São Paulo"
        ],
        [
         11,
         950135858,
         "Região Metropolitana de São Paulo"
        ],
        [
         11,
         963342990,
         "Região Metropolitana de São Paulo"
        ],
        [
         11,
         923127233,
         "Região Metropolitana de São Paulo"
        ],
        [
         11,
         923455206,
         "Região Metropolitana de São Paulo"
        ],
        [
         11,
         933902935,
         "Região Metropolitana de São Paulo"
        ],
        [
         11,
         949339318,
         "Região Metropolitana de São Paulo"
        ],
        [
         11,
         978604307,
         "Região Metropolitana de São Paulo"
        ],
        [
         11,
         973419832,
         "Região Metropolitana de São Paulo"
        ],
        [
         11,
         978263496,
         "Região Metropolitana de São Paulo"
        ],
        [
         11,
         997209478,
         "Região Metropolitana de São Paulo"
        ],
        [
         11,
         924869506,
         "Região Metropolitana de São Paulo"
        ],
        [
         11,
         915881910,
         "Região Metropolitana de São Paulo"
        ],
        [
         11,
         950212212,
         "Região Metropolitana de São Paulo"
        ],
        [
         11,
         942238203,
         "Região Metropolitana de São Paulo"
        ],
        [
         11,
         919876418,
         "Região Metropolitana de São Paulo"
        ],
        [
         11,
         965683535,
         "Região Metropolitana de São Paulo"
        ],
        [
         11,
         960148521,
         "Região Metropolitana de São Paulo"
        ],
        [
         11,
         993952841,
         "Região Metropolitana de São Paulo"
        ],
        [
         11,
         967445522,
         "Região Metropolitana de São Paulo"
        ],
        [
         11,
         916606649,
         "Região Metropolitana de São Paulo"
        ],
        [
         11,
         920075735,
         "Região Metropolitana de São Paulo"
        ],
        [
         11,
         986989375,
         "Região Metropolitana de São Paulo"
        ],
        [
         11,
         972444196,
         "Região Metropolitana de São Paulo"
        ],
        [
         11,
         977372611,
         "Região Metropolitana de São Paulo"
        ],
        [
         11,
         916491818,
         "Região Metropolitana de São Paulo"
        ],
        [
         11,
         921514438,
         "Região Metropolitana de São Paulo"
        ],
        [
         11,
         987266495,
         "Região Metropolitana de São Paulo"
        ],
        [
         11,
         969725296,
         "Região Metropolitana de São Paulo"
        ],
        [
         11,
         992699297,
         "Região Metropolitana de São Paulo"
        ],
        [
         11,
         912285028,
         "Região Metropolitana de São Paulo"
        ],
        [
         11,
         934797164,
         "Região Metropolitana de São Paulo"
        ],
        [
         11,
         930479241,
         "Região Metropolitana de São Paulo"
        ],
        [
         11,
         933982343,
         "Região Metropolitana de São Paulo"
        ],
        [
         11,
         923752272,
         "Região Metropolitana de São Paulo"
        ],
        [
         11,
         986007786,
         "Região Metropolitana de São Paulo"
        ],
        [
         11,
         945729612,
         "Região Metropolitana de São Paulo"
        ],
        [
         11,
         911393210,
         "Região Metropolitana de São Paulo"
        ],
        [
         11,
         938812738,
         "Região Metropolitana de São Paulo"
        ],
        [
         11,
         932968457,
         "Região Metropolitana de São Paulo"
        ],
        [
         11,
         910325392,
         "Região Metropolitana de São Paulo"
        ],
        [
         11,
         952292343,
         "Região Metropolitana de São Paulo"
        ],
        [
         11,
         991381867,
         "Região Metropolitana de São Paulo"
        ],
        [
         11,
         945795774,
         "Região Metropolitana de São Paulo"
        ],
        [
         11,
         979742713,
         "Região Metropolitana de São Paulo"
        ],
        [
         11,
         945799428,
         "Região Metropolitana de São Paulo"
        ],
        [
         11,
         911882533,
         "Região Metropolitana de São Paulo"
        ],
        [
         11,
         940851946,
         "Região Metropolitana de São Paulo"
        ],
        [
         11,
         916326709,
         "Região Metropolitana de São Paulo"
        ],
        [
         11,
         926646921,
         "Região Metropolitana de São Paulo"
        ],
        [
         11,
         998712704,
         "Região Metropolitana de São Paulo"
        ],
        [
         11,
         941595880,
         "Região Metropolitana de São Paulo"
        ],
        [
         11,
         938672973,
         "Região Metropolitana de São Paulo"
        ],
        [
         11,
         953556769,
         "Região Metropolitana de São Paulo"
        ],
        [
         11,
         991556604,
         "Região Metropolitana de São Paulo"
        ],
        [
         11,
         952397906,
         "Região Metropolitana de São Paulo"
        ],
        [
         11,
         943262372,
         "Região Metropolitana de São Paulo"
        ],
        [
         11,
         978438036,
         "Região Metropolitana de São Paulo"
        ],
        [
         11,
         949427973,
         "Região Metropolitana de São Paulo"
        ],
        [
         11,
         912321348,
         "Região Metropolitana de São Paulo"
        ],
        [
         11,
         995856825,
         "Região Metropolitana de São Paulo"
        ],
        [
         11,
         937322069,
         "Região Metropolitana de São Paulo"
        ],
        [
         11,
         924844879,
         "Região Metropolitana de São Paulo"
        ],
        [
         11,
         984581552,
         "Região Metropolitana de São Paulo"
        ],
        [
         11,
         981738813,
         "Região Metropolitana de São Paulo"
        ],
        [
         11,
         986191781,
         "Região Metropolitana de São Paulo"
        ],
        [
         11,
         952133170,
         "Região Metropolitana de São Paulo"
        ],
        [
         11,
         985671691,
         "Região Metropolitana de São Paulo"
        ],
        [
         11,
         939824104,
         "Região Metropolitana de São Paulo"
        ],
        [
         11,
         956175436,
         "Região Metropolitana de São Paulo"
        ],
        [
         11,
         975291194,
         "Região Metropolitana de São Paulo"
        ],
        [
         11,
         977881868,
         "Região Metropolitana de São Paulo"
        ],
        [
         11,
         976152350,
         "Região Metropolitana de São Paulo"
        ],
        [
         11,
         916757171,
         "Região Metropolitana de São Paulo"
        ],
        [
         11,
         914612351,
         "Região Metropolitana de São Paulo"
        ],
        [
         11,
         941617801,
         "Região Metropolitana de São Paulo"
        ],
        [
         11,
         992965671,
         "Região Metropolitana de São Paulo"
        ],
        [
         11,
         938875222,
         "Região Metropolitana de São Paulo"
        ],
        [
         11,
         963951950,
         "Região Metropolitana de São Paulo"
        ],
        [
         11,
         916668198,
         "Região Metropolitana de São Paulo"
        ],
        [
         11,
         952982642,
         "Região Metropolitana de São Paulo"
        ],
        [
         11,
         936565589,
         "Região Metropolitana de São Paulo"
        ],
        [
         11,
         964505874,
         "Região Metropolitana de São Paulo"
        ],
        [
         11,
         962526385,
         "Região Metropolitana de São Paulo"
        ],
        [
         11,
         914862737,
         "Região Metropolitana de São Paulo"
        ],
        [
         11,
         932149822,
         "Região Metropolitana de São Paulo"
        ],
        [
         11,
         972642332,
         "Região Metropolitana de São Paulo"
        ],
        [
         11,
         964914106,
         "Região Metropolitana de São Paulo"
        ],
        [
         11,
         910914659,
         "Região Metropolitana de São Paulo"
        ],
        [
         11,
         965209525,
         "Região Metropolitana de São Paulo"
        ],
        [
         11,
         931209602,
         "Região Metropolitana de São Paulo"
        ],
        [
         11,
         935177284,
         "Região Metropolitana de São Paulo"
        ],
        [
         11,
         910113729,
         "Região Metropolitana de São Paulo"
        ],
        [
         11,
         940257097,
         "Região Metropolitana de São Paulo"
        ],
        [
         11,
         927595255,
         "Região Metropolitana de São Paulo"
        ],
        [
         11,
         920903956,
         "Região Metropolitana de São Paulo"
        ],
        [
         11,
         935551091,
         "Região Metropolitana de São Paulo"
        ],
        [
         11,
         927566917,
         "Região Metropolitana de São Paulo"
        ],
        [
         11,
         944691999,
         "Região Metropolitana de São Paulo"
        ],
        [
         11,
         971251602,
         "Região Metropolitana de São Paulo"
        ],
        [
         11,
         937947444,
         "Região Metropolitana de São Paulo"
        ],
        [
         11,
         968136639,
         "Região Metropolitana de São Paulo"
        ],
        [
         11,
         973983367,
         "Região Metropolitana de São Paulo"
        ],
        [
         11,
         956456161,
         "Região Metropolitana de São Paulo"
        ],
        [
         11,
         956835771,
         "Região Metropolitana de São Paulo"
        ],
        [
         11,
         960459014,
         "Região Metropolitana de São Paulo"
        ],
        [
         11,
         973737935,
         "Região Metropolitana de São Paulo"
        ],
        [
         11,
         971208006,
         "Região Metropolitana de São Paulo"
        ],
        [
         11,
         965971291,
         "Região Metropolitana de São Paulo"
        ],
        [
         11,
         915297832,
         "Região Metropolitana de São Paulo"
        ],
        [
         11,
         984308013,
         "Região Metropolitana de São Paulo"
        ],
        [
         11,
         971815653,
         "Região Metropolitana de São Paulo"
        ],
        [
         11,
         919709016,
         "Região Metropolitana de São Paulo"
        ],
        [
         11,
         994284406,
         "Região Metropolitana de São Paulo"
        ],
        [
         11,
         922394594,
         "Região Metropolitana de São Paulo"
        ],
        [
         11,
         927088436,
         "Região Metropolitana de São Paulo"
        ],
        [
         11,
         971848789,
         "Região Metropolitana de São Paulo"
        ],
        [
         11,
         969014436,
         "Região Metropolitana de São Paulo"
        ],
        [
         11,
         933706541,
         "Região Metropolitana de São Paulo"
        ],
        [
         11,
         985257098,
         "Região Metropolitana de São Paulo"
        ],
        [
         11,
         934172337,
         "Região Metropolitana de São Paulo"
        ],
        [
         11,
         921308772,
         "Região Metropolitana de São Paulo"
        ],
        [
         11,
         979027089,
         "Região Metropolitana de São Paulo"
        ],
        [
         11,
         999549672,
         "Região Metropolitana de São Paulo"
        ],
        [
         11,
         994413185,
         "Região Metropolitana de São Paulo"
        ],
        [
         11,
         998588198,
         "Região Metropolitana de São Paulo"
        ],
        [
         11,
         991684987,
         "Região Metropolitana de São Paulo"
        ],
        [
         11,
         975055362,
         "Região Metropolitana de São Paulo"
        ],
        [
         11,
         939412500,
         "Região Metropolitana de São Paulo"
        ],
        [
         11,
         916971379,
         "Região Metropolitana de São Paulo"
        ],
        [
         11,
         995604265,
         "Região Metropolitana de São Paulo"
        ],
        [
         11,
         993852318,
         "Região Metropolitana de São Paulo"
        ],
        [
         11,
         952531902,
         "Região Metropolitana de São Paulo"
        ],
        [
         11,
         970773385,
         "Região Metropolitana de São Paulo"
        ],
        [
         11,
         929227958,
         "Região Metropolitana de São Paulo"
        ],
        [
         11,
         926871132,
         "Região Metropolitana de São Paulo"
        ],
        [
         11,
         991257939,
         "Região Metropolitana de São Paulo"
        ],
        [
         11,
         973645204,
         "Região Metropolitana de São Paulo"
        ],
        [
         11,
         984611348,
         "Região Metropolitana de São Paulo"
        ],
        [
         11,
         953181955,
         "Região Metropolitana de São Paulo"
        ],
        [
         11,
         960477837,
         "Região Metropolitana de São Paulo"
        ],
        [
         11,
         971377827,
         "Região Metropolitana de São Paulo"
        ],
        [
         11,
         983492362,
         "Região Metropolitana de São Paulo"
        ],
        [
         11,
         943062424,
         "Região Metropolitana de São Paulo"
        ],
        [
         11,
         989534800,
         "Região Metropolitana de São Paulo"
        ],
        [
         11,
         941187496,
         "Região Metropolitana de São Paulo"
        ],
        [
         11,
         967507255,
         "Região Metropolitana de São Paulo"
        ],
        [
         11,
         971528203,
         "Região Metropolitana de São Paulo"
        ],
        [
         11,
         963709060,
         "Região Metropolitana de São Paulo"
        ],
        [
         11,
         951886737,
         "Região Metropolitana de São Paulo"
        ],
        [
         11,
         930793631,
         "Região Metropolitana de São Paulo"
        ],
        [
         11,
         996574709,
         "Região Metropolitana de São Paulo"
        ],
        [
         11,
         972749842,
         "Região Metropolitana de São Paulo"
        ],
        [
         11,
         957988972,
         "Região Metropolitana de São Paulo"
        ],
        [
         11,
         966701854,
         "Região Metropolitana de São Paulo"
        ],
        [
         11,
         959885693,
         "Região Metropolitana de São Paulo"
        ],
        [
         11,
         987798013,
         "Região Metropolitana de São Paulo"
        ],
        [
         11,
         997621651,
         "Região Metropolitana de São Paulo"
        ],
        [
         11,
         913168315,
         "Região Metropolitana de São Paulo"
        ],
        [
         11,
         939453715,
         "Região Metropolitana de São Paulo"
        ],
        [
         11,
         917546200,
         "Região Metropolitana de São Paulo"
        ],
        [
         11,
         968816965,
         "Região Metropolitana de São Paulo"
        ],
        [
         11,
         929859386,
         "Região Metropolitana de São Paulo"
        ],
        [
         11,
         927399489,
         "Região Metropolitana de São Paulo"
        ],
        [
         11,
         989564770,
         "Região Metropolitana de São Paulo"
        ],
        [
         11,
         962216965,
         "Região Metropolitana de São Paulo"
        ]
       ],
       "datasetInfos": [],
       "dbfsResultPath": null,
       "isJsonSchema": true,
       "metadata": {
        "createTempViewForImplicitDf": true,
        "dataframeName": "_sqldf",
        "executionCount": 113
       },
       "overflow": false,
       "plotOptions": {
        "customPlotOptions": {},
        "displayType": "table",
        "pivotAggregation": null,
        "pivotColumns": null,
        "xColumns": null,
        "yColumns": null
       },
       "removedWidgets": [],
       "schema": [
        {
         "metadata": "{}",
         "name": "DDD",
         "type": "\"integer\""
        },
        {
         "metadata": "{}",
         "name": "Telefone",
         "type": "\"integer\""
        },
        {
         "metadata": "{}",
         "name": "Cidade Região DDD",
         "type": "\"string\""
        }
       ],
       "type": "table"
      }
     },
     "output_type": "display_data"
    }
   ],
   "source": [
    "%sql\n",
    "-- DDD, Número do telefone e a Cidade Região de cada um dos DDD \n",
    "SELECT DDD\n",
    ",`Número Telefone` as Telefone\n",
    ",CASE WHEN DDD = 11 THEN 'Região Metropolitana de São Paulo'\n",
    "      WHEN DDD = 12 THEN 'Vale do Paraíba e Litoral Norte'\n",
    "      WHEN DDD = 13 THEN 'Baixada Santista'\n",
    "      WHEN DDD = 14 THEN 'Bauru e região'\n",
    "      WHEN DDD = 15 THEN 'Sorocaba e região'\n",
    "      WHEN DDD = 16 THEN 'Ribeirão Preto e região'\n",
    "      WHEN DDD = 17 THEN 'São José do Rio Preto e região'\n",
    "      WHEN DDD = 18 THEN 'Presidente Prudente e região'\n",
    "      WHEN DDD = 19 THEN 'Campinas e região'\n",
    "    ELSE 'Outro Estado'\n",
    "  END AS `Cidade Região DDD`\n",
    "FROM dados_clientes\n"
   ]
  },
  {
   "cell_type": "code",
   "execution_count": 0,
   "metadata": {
    "application/vnd.databricks.v1+cell": {
     "cellMetadata": {
      "byteLimit": 2048000,
      "implicitDf": true,
      "rowLimit": 10000
     },
     "inputWidgets": {},
     "nuid": "a2f93323-827a-4997-856d-4477e61615a2",
     "showTitle": false,
     "tableResultSettingsMap": {},
     "title": ""
    }
   },
   "outputs": [
    {
     "output_type": "display_data",
     "data": {
      "text/html": [
       "<style scoped>\n",
       "  .table-result-container {\n",
       "    max-height: 300px;\n",
       "    overflow: auto;\n",
       "  }\n",
       "  table, th, td {\n",
       "    border: 1px solid black;\n",
       "    border-collapse: collapse;\n",
       "  }\n",
       "  th, td {\n",
       "    padding: 5px;\n",
       "  }\n",
       "  th {\n",
       "    text-align: left;\n",
       "  }\n",
       "</style><div class='table-result-container'><table class='table-result'><thead style='background-color: white'><tr><th>Número da Conta</th><th>Nome do Cliente</th><th>Email</th><th>Logradouro</th><th>Número Logradouro</th><th>DDD</th><th>Número Telefone</th></tr></thead><tbody><tr><td>2</td><td>Juliana Costa</td><td>cliente2@exemplo.com</td><td>Rua Augusta</td><td>1011</td><td>11</td><td>989591767</td></tr><tr><td>7</td><td>Juliana Costa</td><td>cliente7@exemplo.com</td><td>Avenida Paulista</td><td>456</td><td>11</td><td>935213943</td></tr><tr><td>10</td><td>João Silva</td><td>cliente10@exemplo.com</td><td>Avenida Brasil</td><td>1213</td><td>11</td><td>915694953</td></tr><tr><td>14</td><td>João Silva</td><td>cliente14@exemplo.com</td><td>Avenida Ipiranga</td><td>2021</td><td>11</td><td>937508674</td></tr><tr><td>17</td><td>João Silva</td><td>cliente17@exemplo.com</td><td>Rua das Flores</td><td>123</td><td>11</td><td>999144856</td></tr><tr><td>18</td><td>João Silva</td><td>cliente18@exemplo.com</td><td>Avenida Atlântica</td><td>1617</td><td>11</td><td>967671371</td></tr><tr><td>19</td><td>Juliana Costa</td><td>cliente19@exemplo.com</td><td>Rua XV de Novembro</td><td>1415</td><td>11</td><td>990908621</td></tr><tr><td>25</td><td>Juliana Costa</td><td>cliente25@exemplo.com</td><td>Avenida Atlântica</td><td>1617</td><td>11</td><td>960019926</td></tr><tr><td>31</td><td>Juliana Costa</td><td>cliente31@exemplo.com</td><td>Avenida Paulista</td><td>456</td><td>11</td><td>932425096</td></tr><tr><td>36</td><td>João Silva</td><td>cliente36@exemplo.com</td><td>Rua das Flores</td><td>123</td><td>11</td><td>975703918</td></tr><tr><td>41</td><td>Juliana Costa</td><td>cliente41@exemplo.com</td><td>Rua Augusta</td><td>1011</td><td>11</td><td>983319507</td></tr><tr><td>47</td><td>João Silva</td><td>cliente47@exemplo.com</td><td>Avenida Ipiranga</td><td>2021</td><td>11</td><td>915008303</td></tr><tr><td>54</td><td>Juliana Costa</td><td>cliente54@exemplo.com</td><td>Avenida Brasil</td><td>1213</td><td>11</td><td>945032190</td></tr><tr><td>66</td><td>João Silva</td><td>cliente66@exemplo.com</td><td>Rua das Palmeiras</td><td>1819</td><td>11</td><td>976862060</td></tr><tr><td>73</td><td>Juliana Costa</td><td>cliente73@exemplo.com</td><td>Avenida Brasil</td><td>1213</td><td>11</td><td>976389072</td></tr><tr><td>82</td><td>Juliana Costa</td><td>cliente82@exemplo.com</td><td>Rua XV de Novembro</td><td>1415</td><td>11</td><td>925378574</td></tr><tr><td>85</td><td>Juliana Costa</td><td>cliente85@exemplo.com</td><td>Praça da Sé</td><td>789</td><td>11</td><td>955698583</td></tr><tr><td>86</td><td>Juliana Costa</td><td>cliente86@exemplo.com</td><td>Rua XV de Novembro</td><td>1415</td><td>11</td><td>981694270</td></tr><tr><td>93</td><td>João Silva</td><td>cliente93@exemplo.com</td><td>Rua das Flores</td><td>123</td><td>11</td><td>996166806</td></tr><tr><td>94</td><td>João Silva</td><td>cliente94@exemplo.com</td><td>Avenida Brasil</td><td>1213</td><td>11</td><td>918057686</td></tr><tr><td>95</td><td>João Silva</td><td>cliente95@exemplo.com</td><td>Avenida Atlântica</td><td>1617</td><td>11</td><td>977442899</td></tr><tr><td>96</td><td>Juliana Costa</td><td>cliente96@exemplo.com</td><td>Rua XV de Novembro</td><td>1415</td><td>11</td><td>938549573</td></tr><tr><td>102</td><td>João Silva</td><td>cliente102@exemplo.com</td><td>Rua XV de Novembro</td><td>1415</td><td>11</td><td>990835135</td></tr><tr><td>103</td><td>João Silva</td><td>cliente103@exemplo.com</td><td>Avenida Paulista</td><td>456</td><td>11</td><td>981457612</td></tr><tr><td>105</td><td>João Silva</td><td>cliente105@exemplo.com</td><td>Rua das Palmeiras</td><td>1819</td><td>11</td><td>972412161</td></tr><tr><td>113</td><td>João Silva</td><td>cliente113@exemplo.com</td><td>Rua Augusta</td><td>1011</td><td>11</td><td>921397660</td></tr><tr><td>114</td><td>Juliana Costa</td><td>cliente114@exemplo.com</td><td>Avenida Paulista</td><td>456</td><td>11</td><td>974801943</td></tr><tr><td>117</td><td>João Silva</td><td>cliente117@exemplo.com</td><td>Avenida Ipiranga</td><td>2021</td><td>11</td><td>960496214</td></tr><tr><td>119</td><td>Juliana Costa</td><td>cliente119@exemplo.com</td><td>Rua da Consolação</td><td>2223</td><td>11</td><td>977163165</td></tr><tr><td>120</td><td>João Silva</td><td>cliente120@exemplo.com</td><td>Praça da Sé</td><td>789</td><td>11</td><td>949463976</td></tr><tr><td>123</td><td>Juliana Costa</td><td>cliente123@exemplo.com</td><td>Avenida Atlântica</td><td>1617</td><td>11</td><td>932325283</td></tr><tr><td>124</td><td>João Silva</td><td>cliente124@exemplo.com</td><td>Avenida Paulista</td><td>456</td><td>11</td><td>967259758</td></tr><tr><td>131</td><td>Juliana Costa</td><td>cliente131@exemplo.com</td><td>Rua das Flores</td><td>123</td><td>11</td><td>926512420</td></tr><tr><td>135</td><td>Juliana Costa</td><td>cliente135@exemplo.com</td><td>Rua das Palmeiras</td><td>1819</td><td>11</td><td>979966681</td></tr><tr><td>137</td><td>João Silva</td><td>cliente137@exemplo.com</td><td>Rua das Palmeiras</td><td>1819</td><td>11</td><td>976919886</td></tr><tr><td>139</td><td>João Silva</td><td>cliente139@exemplo.com</td><td>Avenida Brasil</td><td>1213</td><td>11</td><td>969207240</td></tr><tr><td>144</td><td>Juliana Costa</td><td>cliente144@exemplo.com</td><td>Avenida Paulista</td><td>456</td><td>11</td><td>959619321</td></tr><tr><td>151</td><td>João Silva</td><td>cliente151@exemplo.com</td><td>Rua da Consolação</td><td>2223</td><td>11</td><td>963829670</td></tr><tr><td>175</td><td>Juliana Costa</td><td>cliente175@exemplo.com</td><td>Rua Augusta</td><td>1011</td><td>11</td><td>942566308</td></tr><tr><td>177</td><td>Juliana Costa</td><td>cliente177@exemplo.com</td><td>Rua das Palmeiras</td><td>1819</td><td>11</td><td>963264041</td></tr><tr><td>180</td><td>Juliana Costa</td><td>cliente180@exemplo.com</td><td>Avenida Brasil</td><td>1213</td><td>11</td><td>937596475</td></tr><tr><td>189</td><td>Juliana Costa</td><td>cliente189@exemplo.com</td><td>Avenida Ipiranga</td><td>2021</td><td>11</td><td>997334775</td></tr><tr><td>204</td><td>Juliana Costa</td><td>cliente204@exemplo.com</td><td>Avenida Paulista</td><td>456</td><td>11</td><td>951218567</td></tr><tr><td>212</td><td>Juliana Costa</td><td>cliente212@exemplo.com</td><td>Rua XV de Novembro</td><td>1415</td><td>11</td><td>922211253</td></tr><tr><td>217</td><td>Juliana Costa</td><td>cliente217@exemplo.com</td><td>Rua Augusta</td><td>1011</td><td>11</td><td>912098362</td></tr><tr><td>222</td><td>João Silva</td><td>cliente222@exemplo.com</td><td>Praça da Sé</td><td>789</td><td>11</td><td>997022736</td></tr><tr><td>228</td><td>João Silva</td><td>cliente228@exemplo.com</td><td>Praça da Sé</td><td>789</td><td>11</td><td>981082508</td></tr><tr><td>229</td><td>João Silva</td><td>cliente229@exemplo.com</td><td>Avenida Atlântica</td><td>1617</td><td>11</td><td>941967902</td></tr><tr><td>231</td><td>João Silva</td><td>cliente231@exemplo.com</td><td>Rua das Flores</td><td>123</td><td>11</td><td>962941878</td></tr><tr><td>236</td><td>Juliana Costa</td><td>cliente236@exemplo.com</td><td>Rua da Consolação</td><td>2223</td><td>11</td><td>976301064</td></tr><tr><td>241</td><td>João Silva</td><td>cliente241@exemplo.com</td><td>Rua Augusta</td><td>1011</td><td>11</td><td>934129314</td></tr><tr><td>251</td><td>Juliana Costa</td><td>cliente251@exemplo.com</td><td>Rua da Consolação</td><td>2223</td><td>11</td><td>964658197</td></tr><tr><td>253</td><td>João Silva</td><td>cliente253@exemplo.com</td><td>Rua das Flores</td><td>123</td><td>11</td><td>941121236</td></tr><tr><td>254</td><td>João Silva</td><td>cliente254@exemplo.com</td><td>Avenida Brasil</td><td>1213</td><td>11</td><td>989531744</td></tr><tr><td>257</td><td>Juliana Costa</td><td>cliente257@exemplo.com</td><td>Rua da Consolação</td><td>2223</td><td>11</td><td>946329310</td></tr><tr><td>265</td><td>Juliana Costa</td><td>cliente265@exemplo.com</td><td>Avenida Atlântica</td><td>1617</td><td>11</td><td>985703601</td></tr><tr><td>269</td><td>João Silva</td><td>cliente269@exemplo.com</td><td>Rua da Consolação</td><td>2223</td><td>11</td><td>963484619</td></tr><tr><td>272</td><td>João Silva</td><td>cliente272@exemplo.com</td><td>Rua XV de Novembro</td><td>1415</td><td>11</td><td>973444161</td></tr><tr><td>278</td><td>João Silva</td><td>cliente278@exemplo.com</td><td>Rua das Palmeiras</td><td>1819</td><td>11</td><td>920178220</td></tr><tr><td>284</td><td>Juliana Costa</td><td>cliente284@exemplo.com</td><td>Avenida Paulista</td><td>456</td><td>11</td><td>963107869</td></tr><tr><td>285</td><td>João Silva</td><td>cliente285@exemplo.com</td><td>Avenida Atlântica</td><td>1617</td><td>11</td><td>910302926</td></tr><tr><td>287</td><td>João Silva</td><td>cliente287@exemplo.com</td><td>Avenida Paulista</td><td>456</td><td>11</td><td>984229732</td></tr><tr><td>288</td><td>Juliana Costa</td><td>cliente288@exemplo.com</td><td>Avenida Brasil</td><td>1213</td><td>11</td><td>998623943</td></tr><tr><td>292</td><td>Juliana Costa</td><td>cliente292@exemplo.com</td><td>Rua das Palmeiras</td><td>1819</td><td>11</td><td>958311536</td></tr><tr><td>293</td><td>João Silva</td><td>cliente293@exemplo.com</td><td>Rua das Flores</td><td>123</td><td>11</td><td>954048659</td></tr><tr><td>296</td><td>João Silva</td><td>cliente296@exemplo.com</td><td>Avenida Ipiranga</td><td>2021</td><td>11</td><td>921511408</td></tr><tr><td>298</td><td>Juliana Costa</td><td>cliente298@exemplo.com</td><td>Rua das Palmeiras</td><td>1819</td><td>11</td><td>950541727</td></tr><tr><td>300</td><td>João Silva</td><td>cliente300@exemplo.com</td><td>Praça da Sé</td><td>789</td><td>11</td><td>956749195</td></tr><tr><td>306</td><td>Juliana Costa</td><td>cliente306@exemplo.com</td><td>Avenida Ipiranga</td><td>2021</td><td>11</td><td>983127345</td></tr><tr><td>315</td><td>João Silva</td><td>cliente315@exemplo.com</td><td>Rua das Flores</td><td>123</td><td>11</td><td>959526163</td></tr><tr><td>319</td><td>João Silva</td><td>cliente319@exemplo.com</td><td>Rua das Palmeiras</td><td>1819</td><td>11</td><td>919775625</td></tr><tr><td>329</td><td>Juliana Costa</td><td>cliente329@exemplo.com</td><td>Praça da Sé</td><td>789</td><td>11</td><td>969985549</td></tr><tr><td>331</td><td>Juliana Costa</td><td>cliente331@exemplo.com</td><td>Avenida Brasil</td><td>1213</td><td>11</td><td>982485146</td></tr><tr><td>333</td><td>João Silva</td><td>cliente333@exemplo.com</td><td>Rua XV de Novembro</td><td>1415</td><td>11</td><td>989823267</td></tr><tr><td>338</td><td>João Silva</td><td>cliente338@exemplo.com</td><td>Avenida Brasil</td><td>1213</td><td>11</td><td>971778250</td></tr><tr><td>343</td><td>João Silva</td><td>cliente343@exemplo.com</td><td>Rua da Consolação</td><td>2223</td><td>11</td><td>948667586</td></tr><tr><td>346</td><td>João Silva</td><td>cliente346@exemplo.com</td><td>Rua das Flores</td><td>123</td><td>11</td><td>962871363</td></tr><tr><td>356</td><td>Juliana Costa</td><td>cliente356@exemplo.com</td><td>Avenida Brasil</td><td>1213</td><td>11</td><td>950956457</td></tr><tr><td>361</td><td>João Silva</td><td>cliente361@exemplo.com</td><td>Avenida Paulista</td><td>456</td><td>11</td><td>966315139</td></tr><tr><td>362</td><td>Juliana Costa</td><td>cliente362@exemplo.com</td><td>Rua XV de Novembro</td><td>1415</td><td>11</td><td>924621410</td></tr><tr><td>374</td><td>João Silva</td><td>cliente374@exemplo.com</td><td>Praça da Sé</td><td>789</td><td>11</td><td>921472587</td></tr><tr><td>379</td><td>Juliana Costa</td><td>cliente379@exemplo.com</td><td>Rua da Consolação</td><td>2223</td><td>11</td><td>956935709</td></tr><tr><td>384</td><td>João Silva</td><td>cliente384@exemplo.com</td><td>Avenida Atlântica</td><td>1617</td><td>11</td><td>997047225</td></tr><tr><td>387</td><td>João Silva</td><td>cliente387@exemplo.com</td><td>Rua XV de Novembro</td><td>1415</td><td>11</td><td>946418152</td></tr><tr><td>390</td><td>Juliana Costa</td><td>cliente390@exemplo.com</td><td>Praça da Sé</td><td>789</td><td>11</td><td>976863721</td></tr><tr><td>398</td><td>João Silva</td><td>cliente398@exemplo.com</td><td>Avenida Ipiranga</td><td>2021</td><td>11</td><td>966496490</td></tr><tr><td>399</td><td>João Silva</td><td>cliente399@exemplo.com</td><td>Rua das Flores</td><td>123</td><td>11</td><td>974013578</td></tr><tr><td>405</td><td>Juliana Costa</td><td>cliente405@exemplo.com</td><td>Praça da Sé</td><td>789</td><td>11</td><td>930986174</td></tr><tr><td>408</td><td>João Silva</td><td>cliente408@exemplo.com</td><td>Rua da Consolação</td><td>2223</td><td>11</td><td>971873006</td></tr><tr><td>421</td><td>João Silva</td><td>cliente421@exemplo.com</td><td>Avenida Brasil</td><td>1213</td><td>11</td><td>943072645</td></tr><tr><td>434</td><td>Juliana Costa</td><td>cliente434@exemplo.com</td><td>Rua das Palmeiras</td><td>1819</td><td>11</td><td>943391041</td></tr><tr><td>442</td><td>João Silva</td><td>cliente442@exemplo.com</td><td>Rua das Palmeiras</td><td>1819</td><td>11</td><td>942758607</td></tr><tr><td>443</td><td>Juliana Costa</td><td>cliente443@exemplo.com</td><td>Rua da Consolação</td><td>2223</td><td>11</td><td>919673028</td></tr><tr><td>444</td><td>Juliana Costa</td><td>cliente444@exemplo.com</td><td>Rua das Palmeiras</td><td>1819</td><td>11</td><td>939622384</td></tr><tr><td>449</td><td>Juliana Costa</td><td>cliente449@exemplo.com</td><td>Avenida Brasil</td><td>1213</td><td>11</td><td>954285336</td></tr><tr><td>451</td><td>João Silva</td><td>cliente451@exemplo.com</td><td>Avenida Paulista</td><td>456</td><td>11</td><td>988933903</td></tr><tr><td>460</td><td>Juliana Costa</td><td>cliente460@exemplo.com</td><td>Avenida Ipiranga</td><td>2021</td><td>11</td><td>957365618</td></tr><tr><td>473</td><td>Juliana Costa</td><td>cliente473@exemplo.com</td><td>Rua das Palmeiras</td><td>1819</td><td>11</td><td>968394069</td></tr><tr><td>476</td><td>Juliana Costa</td><td>cliente476@exemplo.com</td><td>Avenida Paulista</td><td>456</td><td>11</td><td>948835423</td></tr><tr><td>481</td><td>Juliana Costa</td><td>cliente481@exemplo.com</td><td>Avenida Paulista</td><td>456</td><td>11</td><td>941447873</td></tr><tr><td>486</td><td>João Silva</td><td>cliente486@exemplo.com</td><td>Rua Augusta</td><td>1011</td><td>11</td><td>953773584</td></tr><tr><td>487</td><td>Juliana Costa</td><td>cliente487@exemplo.com</td><td>Rua da Consolação</td><td>2223</td><td>11</td><td>947862364</td></tr><tr><td>497</td><td>Juliana Costa</td><td>cliente497@exemplo.com</td><td>Avenida Atlântica</td><td>1617</td><td>11</td><td>977883315</td></tr><tr><td>503</td><td>João Silva</td><td>cliente503@exemplo.com</td><td>Rua Augusta</td><td>1011</td><td>11</td><td>946733705</td></tr><tr><td>509</td><td>João Silva</td><td>cliente509@exemplo.com</td><td>Rua Augusta</td><td>1011</td><td>11</td><td>938033855</td></tr><tr><td>515</td><td>João Silva</td><td>cliente515@exemplo.com</td><td>Praça da Sé</td><td>789</td><td>11</td><td>936524762</td></tr><tr><td>518</td><td>João Silva</td><td>cliente518@exemplo.com</td><td>Avenida Paulista</td><td>456</td><td>11</td><td>926616750</td></tr><tr><td>520</td><td>Juliana Costa</td><td>cliente520@exemplo.com</td><td>Rua das Flores</td><td>123</td><td>11</td><td>978783980</td></tr><tr><td>521</td><td>João Silva</td><td>cliente521@exemplo.com</td><td>Praça da Sé</td><td>789</td><td>11</td><td>913944133</td></tr><tr><td>531</td><td>Juliana Costa</td><td>cliente531@exemplo.com</td><td>Rua Augusta</td><td>1011</td><td>11</td><td>918947845</td></tr><tr><td>535</td><td>João Silva</td><td>cliente535@exemplo.com</td><td>Avenida Ipiranga</td><td>2021</td><td>11</td><td>925946394</td></tr><tr><td>536</td><td>Juliana Costa</td><td>cliente536@exemplo.com</td><td>Praça da Sé</td><td>789</td><td>11</td><td>992196486</td></tr><tr><td>543</td><td>Juliana Costa</td><td>cliente543@exemplo.com</td><td>Rua da Consolação</td><td>2223</td><td>11</td><td>943074527</td></tr><tr><td>558</td><td>Juliana Costa</td><td>cliente558@exemplo.com</td><td>Avenida Ipiranga</td><td>2021</td><td>11</td><td>959732591</td></tr><tr><td>559</td><td>João Silva</td><td>cliente559@exemplo.com</td><td>Praça da Sé</td><td>789</td><td>11</td><td>978774414</td></tr><tr><td>567</td><td>João Silva</td><td>cliente567@exemplo.com</td><td>Praça da Sé</td><td>789</td><td>11</td><td>915179413</td></tr><tr><td>569</td><td>João Silva</td><td>cliente569@exemplo.com</td><td>Avenida Paulista</td><td>456</td><td>11</td><td>924473370</td></tr><tr><td>571</td><td>João Silva</td><td>cliente571@exemplo.com</td><td>Rua XV de Novembro</td><td>1415</td><td>11</td><td>926989288</td></tr><tr><td>582</td><td>Juliana Costa</td><td>cliente582@exemplo.com</td><td>Rua XV de Novembro</td><td>1415</td><td>11</td><td>966444811</td></tr><tr><td>594</td><td>Juliana Costa</td><td>cliente594@exemplo.com</td><td>Rua XV de Novembro</td><td>1415</td><td>11</td><td>926663031</td></tr><tr><td>598</td><td>João Silva</td><td>cliente598@exemplo.com</td><td>Rua XV de Novembro</td><td>1415</td><td>11</td><td>911566815</td></tr><tr><td>606</td><td>Juliana Costa</td><td>cliente606@exemplo.com</td><td>Praça da Sé</td><td>789</td><td>11</td><td>943013483</td></tr><tr><td>609</td><td>João Silva</td><td>cliente609@exemplo.com</td><td>Avenida Brasil</td><td>1213</td><td>11</td><td>958912303</td></tr><tr><td>614</td><td>Juliana Costa</td><td>cliente614@exemplo.com</td><td>Rua das Palmeiras</td><td>1819</td><td>11</td><td>911561454</td></tr><tr><td>620</td><td>João Silva</td><td>cliente620@exemplo.com</td><td>Avenida Brasil</td><td>1213</td><td>11</td><td>952252592</td></tr><tr><td>623</td><td>João Silva</td><td>cliente623@exemplo.com</td><td>Avenida Ipiranga</td><td>2021</td><td>11</td><td>982885287</td></tr><tr><td>625</td><td>João Silva</td><td>cliente625@exemplo.com</td><td>Praça da Sé</td><td>789</td><td>11</td><td>932908248</td></tr><tr><td>627</td><td>João Silva</td><td>cliente627@exemplo.com</td><td>Avenida Brasil</td><td>1213</td><td>11</td><td>911831385</td></tr><tr><td>633</td><td>Juliana Costa</td><td>cliente633@exemplo.com</td><td>Avenida Brasil</td><td>1213</td><td>11</td><td>980826217</td></tr><tr><td>646</td><td>Juliana Costa</td><td>cliente646@exemplo.com</td><td>Rua das Palmeiras</td><td>1819</td><td>11</td><td>941714078</td></tr><tr><td>647</td><td>João Silva</td><td>cliente647@exemplo.com</td><td>Rua XV de Novembro</td><td>1415</td><td>11</td><td>942965879</td></tr><tr><td>654</td><td>Juliana Costa</td><td>cliente654@exemplo.com</td><td>Rua das Flores</td><td>123</td><td>11</td><td>917386538</td></tr><tr><td>665</td><td>Juliana Costa</td><td>cliente665@exemplo.com</td><td>Avenida Atlântica</td><td>1617</td><td>11</td><td>949517712</td></tr><tr><td>669</td><td>Juliana Costa</td><td>cliente669@exemplo.com</td><td>Avenida Brasil</td><td>1213</td><td>11</td><td>978354343</td></tr><tr><td>671</td><td>João Silva</td><td>cliente671@exemplo.com</td><td>Avenida Atlântica</td><td>1617</td><td>11</td><td>954021469</td></tr><tr><td>673</td><td>João Silva</td><td>cliente673@exemplo.com</td><td>Rua das Palmeiras</td><td>1819</td><td>11</td><td>923183414</td></tr><tr><td>674</td><td>João Silva</td><td>cliente674@exemplo.com</td><td>Rua XV de Novembro</td><td>1415</td><td>11</td><td>913591727</td></tr><tr><td>678</td><td>Juliana Costa</td><td>cliente678@exemplo.com</td><td>Rua das Palmeiras</td><td>1819</td><td>11</td><td>957463470</td></tr><tr><td>680</td><td>João Silva</td><td>cliente680@exemplo.com</td><td>Rua da Consolação</td><td>2223</td><td>11</td><td>920459421</td></tr><tr><td>686</td><td>João Silva</td><td>cliente686@exemplo.com</td><td>Rua da Consolação</td><td>2223</td><td>11</td><td>998377335</td></tr><tr><td>690</td><td>João Silva</td><td>cliente690@exemplo.com</td><td>Avenida Ipiranga</td><td>2021</td><td>11</td><td>985788241</td></tr><tr><td>707</td><td>João Silva</td><td>cliente707@exemplo.com</td><td>Avenida Paulista</td><td>456</td><td>11</td><td>952897806</td></tr><tr><td>710</td><td>João Silva</td><td>cliente710@exemplo.com</td><td>Praça da Sé</td><td>789</td><td>11</td><td>967604168</td></tr><tr><td>715</td><td>João Silva</td><td>cliente715@exemplo.com</td><td>Praça da Sé</td><td>789</td><td>11</td><td>997643197</td></tr><tr><td>723</td><td>João Silva</td><td>cliente723@exemplo.com</td><td>Avenida Brasil</td><td>1213</td><td>11</td><td>913154786</td></tr><tr><td>727</td><td>João Silva</td><td>cliente727@exemplo.com</td><td>Avenida Atlântica</td><td>1617</td><td>11</td><td>932212274</td></tr><tr><td>729</td><td>João Silva</td><td>cliente729@exemplo.com</td><td>Avenida Paulista</td><td>456</td><td>11</td><td>976395555</td></tr><tr><td>744</td><td>João Silva</td><td>cliente744@exemplo.com</td><td>Avenida Paulista</td><td>456</td><td>11</td><td>951476754</td></tr><tr><td>748</td><td>João Silva</td><td>cliente748@exemplo.com</td><td>Avenida Atlântica</td><td>1617</td><td>11</td><td>951413782</td></tr><tr><td>752</td><td>João Silva</td><td>cliente752@exemplo.com</td><td>Rua das Palmeiras</td><td>1819</td><td>11</td><td>925608553</td></tr><tr><td>757</td><td>João Silva</td><td>cliente757@exemplo.com</td><td>Rua das Flores</td><td>123</td><td>11</td><td>983656758</td></tr><tr><td>758</td><td>Juliana Costa</td><td>cliente758@exemplo.com</td><td>Avenida Ipiranga</td><td>2021</td><td>11</td><td>990177525</td></tr><tr><td>760</td><td>João Silva</td><td>cliente760@exemplo.com</td><td>Praça da Sé</td><td>789</td><td>11</td><td>919029024</td></tr><tr><td>766</td><td>Juliana Costa</td><td>cliente766@exemplo.com</td><td>Rua das Flores</td><td>123</td><td>11</td><td>923328956</td></tr><tr><td>775</td><td>João Silva</td><td>cliente775@exemplo.com</td><td>Avenida Ipiranga</td><td>2021</td><td>11</td><td>915728930</td></tr><tr><td>781</td><td>João Silva</td><td>cliente781@exemplo.com</td><td>Avenida Paulista</td><td>456</td><td>11</td><td>921192552</td></tr><tr><td>783</td><td>João Silva</td><td>cliente783@exemplo.com</td><td>Rua das Flores</td><td>123</td><td>11</td><td>944972992</td></tr><tr><td>789</td><td>João Silva</td><td>cliente789@exemplo.com</td><td>Rua da Consolação</td><td>2223</td><td>11</td><td>989036997</td></tr><tr><td>794</td><td>João Silva</td><td>cliente794@exemplo.com</td><td>Avenida Paulista</td><td>456</td><td>11</td><td>953441135</td></tr><tr><td>798</td><td>Juliana Costa</td><td>cliente798@exemplo.com</td><td>Rua das Palmeiras</td><td>1819</td><td>11</td><td>917788650</td></tr><tr><td>802</td><td>Juliana Costa</td><td>cliente802@exemplo.com</td><td>Rua das Flores</td><td>123</td><td>11</td><td>964194518</td></tr><tr><td>811</td><td>João Silva</td><td>cliente811@exemplo.com</td><td>Rua da Consolação</td><td>2223</td><td>11</td><td>980166015</td></tr><tr><td>814</td><td>João Silva</td><td>cliente814@exemplo.com</td><td>Praça da Sé</td><td>789</td><td>11</td><td>929138807</td></tr><tr><td>821</td><td>João Silva</td><td>cliente821@exemplo.com</td><td>Rua das Flores</td><td>123</td><td>11</td><td>919897230</td></tr><tr><td>826</td><td>João Silva</td><td>cliente826@exemplo.com</td><td>Avenida Atlântica</td><td>1617</td><td>11</td><td>977358575</td></tr><tr><td>837</td><td>João Silva</td><td>cliente837@exemplo.com</td><td>Rua XV de Novembro</td><td>1415</td><td>11</td><td>950135858</td></tr><tr><td>847</td><td>Juliana Costa</td><td>cliente847@exemplo.com</td><td>Rua Augusta</td><td>1011</td><td>11</td><td>924869506</td></tr><tr><td>848</td><td>João Silva</td><td>cliente848@exemplo.com</td><td>Avenida Ipiranga</td><td>2021</td><td>11</td><td>915881910</td></tr><tr><td>852</td><td>João Silva</td><td>cliente852@exemplo.com</td><td>Rua das Flores</td><td>123</td><td>11</td><td>965683535</td></tr><tr><td>855</td><td>Juliana Costa</td><td>cliente855@exemplo.com</td><td>Avenida Ipiranga</td><td>2021</td><td>11</td><td>967445522</td></tr><tr><td>868</td><td>Juliana Costa</td><td>cliente868@exemplo.com</td><td>Avenida Brasil</td><td>1213</td><td>11</td><td>930479241</td></tr><tr><td>881</td><td>Juliana Costa</td><td>cliente881@exemplo.com</td><td>Rua XV de Novembro</td><td>1415</td><td>11</td><td>945799428</td></tr><tr><td>883</td><td>João Silva</td><td>cliente883@exemplo.com</td><td>Rua das Palmeiras</td><td>1819</td><td>11</td><td>940851946</td></tr><tr><td>896</td><td>João Silva</td><td>cliente896@exemplo.com</td><td>Rua das Flores</td><td>123</td><td>11</td><td>995856825</td></tr><tr><td>900</td><td>João Silva</td><td>cliente900@exemplo.com</td><td>Avenida Brasil</td><td>1213</td><td>11</td><td>981738813</td></tr><tr><td>912</td><td>Juliana Costa</td><td>cliente912@exemplo.com</td><td>Rua das Flores</td><td>123</td><td>11</td><td>992965671</td></tr><tr><td>913</td><td>Juliana Costa</td><td>cliente913@exemplo.com</td><td>Rua das Flores</td><td>123</td><td>11</td><td>938875222</td></tr><tr><td>916</td><td>Juliana Costa</td><td>cliente916@exemplo.com</td><td>Avenida Paulista</td><td>456</td><td>11</td><td>952982642</td></tr><tr><td>925</td><td>João Silva</td><td>cliente925@exemplo.com</td><td>Rua da Consolação</td><td>2223</td><td>11</td><td>965209525</td></tr><tr><td>926</td><td>João Silva</td><td>cliente926@exemplo.com</td><td>Rua das Flores</td><td>123</td><td>11</td><td>931209602</td></tr><tr><td>927</td><td>Juliana Costa</td><td>cliente927@exemplo.com</td><td>Avenida Ipiranga</td><td>2021</td><td>11</td><td>935177284</td></tr><tr><td>928</td><td>Juliana Costa</td><td>cliente928@exemplo.com</td><td>Avenida Paulista</td><td>456</td><td>11</td><td>910113729</td></tr><tr><td>930</td><td>Juliana Costa</td><td>cliente930@exemplo.com</td><td>Rua das Flores</td><td>123</td><td>11</td><td>927595255</td></tr><tr><td>931</td><td>Juliana Costa</td><td>cliente931@exemplo.com</td><td>Rua das Palmeiras</td><td>1819</td><td>11</td><td>920903956</td></tr><tr><td>935</td><td>João Silva</td><td>cliente935@exemplo.com</td><td>Rua da Consolação</td><td>2223</td><td>11</td><td>971251602</td></tr><tr><td>939</td><td>João Silva</td><td>cliente939@exemplo.com</td><td>Avenida Brasil</td><td>1213</td><td>11</td><td>956456161</td></tr><tr><td>943</td><td>Juliana Costa</td><td>cliente943@exemplo.com</td><td>Rua Augusta</td><td>1011</td><td>11</td><td>971208006</td></tr><tr><td>945</td><td>Juliana Costa</td><td>cliente945@exemplo.com</td><td>Rua Augusta</td><td>1011</td><td>11</td><td>915297832</td></tr><tr><td>946</td><td>Juliana Costa</td><td>cliente946@exemplo.com</td><td>Avenida Brasil</td><td>1213</td><td>11</td><td>984308013</td></tr><tr><td>966</td><td>Juliana Costa</td><td>cliente966@exemplo.com</td><td>Avenida Paulista</td><td>456</td><td>11</td><td>995604265</td></tr><tr><td>967</td><td>João Silva</td><td>cliente967@exemplo.com</td><td>Avenida Paulista</td><td>456</td><td>11</td><td>993852318</td></tr><tr><td>968</td><td>João Silva</td><td>cliente968@exemplo.com</td><td>Avenida Ipiranga</td><td>2021</td><td>11</td><td>952531902</td></tr><tr><td>973</td><td>João Silva</td><td>cliente973@exemplo.com</td><td>Avenida Brasil</td><td>1213</td><td>11</td><td>973645204</td></tr><tr><td>974</td><td>Juliana Costa</td><td>cliente974@exemplo.com</td><td>Avenida Paulista</td><td>456</td><td>11</td><td>984611348</td></tr><tr><td>980</td><td>João Silva</td><td>cliente980@exemplo.com</td><td>Avenida Paulista</td><td>456</td><td>11</td><td>989534800</td></tr><tr><td>984</td><td>João Silva</td><td>cliente984@exemplo.com</td><td>Rua das Flores</td><td>123</td><td>11</td><td>963709060</td></tr><tr><td>988</td><td>João Silva</td><td>cliente988@exemplo.com</td><td>Avenida Brasil</td><td>1213</td><td>11</td><td>972749842</td></tr><tr><td>995</td><td>Juliana Costa</td><td>cliente995@exemplo.com</td><td>Rua XV de Novembro</td><td>1415</td><td>11</td><td>939453715</td></tr><tr><td>998</td><td>João Silva</td><td>cliente998@exemplo.com</td><td>Avenida Ipiranga</td><td>2021</td><td>11</td><td>929859386</td></tr></tbody></table></div>"
      ]
     },
     "metadata": {
      "application/vnd.databricks.v1+output": {
       "addedWidgets": {},
       "aggData": [],
       "aggError": "",
       "aggOverflow": false,
       "aggSchema": [],
       "aggSeriesLimitReached": false,
       "aggType": "",
       "arguments": {},
       "columnCustomDisplayInfos": {},
       "data": [
        [
         2,
         "Juliana Costa",
         "cliente2@exemplo.com",
         "Rua Augusta",
         1011,
         11,
         989591767
        ],
        [
         7,
         "Juliana Costa",
         "cliente7@exemplo.com",
         "Avenida Paulista",
         456,
         11,
         935213943
        ],
        [
         10,
         "João Silva",
         "cliente10@exemplo.com",
         "Avenida Brasil",
         1213,
         11,
         915694953
        ],
        [
         14,
         "João Silva",
         "cliente14@exemplo.com",
         "Avenida Ipiranga",
         2021,
         11,
         937508674
        ],
        [
         17,
         "João Silva",
         "cliente17@exemplo.com",
         "Rua das Flores",
         123,
         11,
         999144856
        ],
        [
         18,
         "João Silva",
         "cliente18@exemplo.com",
         "Avenida Atlântica",
         1617,
         11,
         967671371
        ],
        [
         19,
         "Juliana Costa",
         "cliente19@exemplo.com",
         "Rua XV de Novembro",
         1415,
         11,
         990908621
        ],
        [
         25,
         "Juliana Costa",
         "cliente25@exemplo.com",
         "Avenida Atlântica",
         1617,
         11,
         960019926
        ],
        [
         31,
         "Juliana Costa",
         "cliente31@exemplo.com",
         "Avenida Paulista",
         456,
         11,
         932425096
        ],
        [
         36,
         "João Silva",
         "cliente36@exemplo.com",
         "Rua das Flores",
         123,
         11,
         975703918
        ],
        [
         41,
         "Juliana Costa",
         "cliente41@exemplo.com",
         "Rua Augusta",
         1011,
         11,
         983319507
        ],
        [
         47,
         "João Silva",
         "cliente47@exemplo.com",
         "Avenida Ipiranga",
         2021,
         11,
         915008303
        ],
        [
         54,
         "Juliana Costa",
         "cliente54@exemplo.com",
         "Avenida Brasil",
         1213,
         11,
         945032190
        ],
        [
         66,
         "João Silva",
         "cliente66@exemplo.com",
         "Rua das Palmeiras",
         1819,
         11,
         976862060
        ],
        [
         73,
         "Juliana Costa",
         "cliente73@exemplo.com",
         "Avenida Brasil",
         1213,
         11,
         976389072
        ],
        [
         82,
         "Juliana Costa",
         "cliente82@exemplo.com",
         "Rua XV de Novembro",
         1415,
         11,
         925378574
        ],
        [
         85,
         "Juliana Costa",
         "cliente85@exemplo.com",
         "Praça da Sé",
         789,
         11,
         955698583
        ],
        [
         86,
         "Juliana Costa",
         "cliente86@exemplo.com",
         "Rua XV de Novembro",
         1415,
         11,
         981694270
        ],
        [
         93,
         "João Silva",
         "cliente93@exemplo.com",
         "Rua das Flores",
         123,
         11,
         996166806
        ],
        [
         94,
         "João Silva",
         "cliente94@exemplo.com",
         "Avenida Brasil",
         1213,
         11,
         918057686
        ],
        [
         95,
         "João Silva",
         "cliente95@exemplo.com",
         "Avenida Atlântica",
         1617,
         11,
         977442899
        ],
        [
         96,
         "Juliana Costa",
         "cliente96@exemplo.com",
         "Rua XV de Novembro",
         1415,
         11,
         938549573
        ],
        [
         102,
         "João Silva",
         "cliente102@exemplo.com",
         "Rua XV de Novembro",
         1415,
         11,
         990835135
        ],
        [
         103,
         "João Silva",
         "cliente103@exemplo.com",
         "Avenida Paulista",
         456,
         11,
         981457612
        ],
        [
         105,
         "João Silva",
         "cliente105@exemplo.com",
         "Rua das Palmeiras",
         1819,
         11,
         972412161
        ],
        [
         113,
         "João Silva",
         "cliente113@exemplo.com",
         "Rua Augusta",
         1011,
         11,
         921397660
        ],
        [
         114,
         "Juliana Costa",
         "cliente114@exemplo.com",
         "Avenida Paulista",
         456,
         11,
         974801943
        ],
        [
         117,
         "João Silva",
         "cliente117@exemplo.com",
         "Avenida Ipiranga",
         2021,
         11,
         960496214
        ],
        [
         119,
         "Juliana Costa",
         "cliente119@exemplo.com",
         "Rua da Consolação",
         2223,
         11,
         977163165
        ],
        [
         120,
         "João Silva",
         "cliente120@exemplo.com",
         "Praça da Sé",
         789,
         11,
         949463976
        ],
        [
         123,
         "Juliana Costa",
         "cliente123@exemplo.com",
         "Avenida Atlântica",
         1617,
         11,
         932325283
        ],
        [
         124,
         "João Silva",
         "cliente124@exemplo.com",
         "Avenida Paulista",
         456,
         11,
         967259758
        ],
        [
         131,
         "Juliana Costa",
         "cliente131@exemplo.com",
         "Rua das Flores",
         123,
         11,
         926512420
        ],
        [
         135,
         "Juliana Costa",
         "cliente135@exemplo.com",
         "Rua das Palmeiras",
         1819,
         11,
         979966681
        ],
        [
         137,
         "João Silva",
         "cliente137@exemplo.com",
         "Rua das Palmeiras",
         1819,
         11,
         976919886
        ],
        [
         139,
         "João Silva",
         "cliente139@exemplo.com",
         "Avenida Brasil",
         1213,
         11,
         969207240
        ],
        [
         144,
         "Juliana Costa",
         "cliente144@exemplo.com",
         "Avenida Paulista",
         456,
         11,
         959619321
        ],
        [
         151,
         "João Silva",
         "cliente151@exemplo.com",
         "Rua da Consolação",
         2223,
         11,
         963829670
        ],
        [
         175,
         "Juliana Costa",
         "cliente175@exemplo.com",
         "Rua Augusta",
         1011,
         11,
         942566308
        ],
        [
         177,
         "Juliana Costa",
         "cliente177@exemplo.com",
         "Rua das Palmeiras",
         1819,
         11,
         963264041
        ],
        [
         180,
         "Juliana Costa",
         "cliente180@exemplo.com",
         "Avenida Brasil",
         1213,
         11,
         937596475
        ],
        [
         189,
         "Juliana Costa",
         "cliente189@exemplo.com",
         "Avenida Ipiranga",
         2021,
         11,
         997334775
        ],
        [
         204,
         "Juliana Costa",
         "cliente204@exemplo.com",
         "Avenida Paulista",
         456,
         11,
         951218567
        ],
        [
         212,
         "Juliana Costa",
         "cliente212@exemplo.com",
         "Rua XV de Novembro",
         1415,
         11,
         922211253
        ],
        [
         217,
         "Juliana Costa",
         "cliente217@exemplo.com",
         "Rua Augusta",
         1011,
         11,
         912098362
        ],
        [
         222,
         "João Silva",
         "cliente222@exemplo.com",
         "Praça da Sé",
         789,
         11,
         997022736
        ],
        [
         228,
         "João Silva",
         "cliente228@exemplo.com",
         "Praça da Sé",
         789,
         11,
         981082508
        ],
        [
         229,
         "João Silva",
         "cliente229@exemplo.com",
         "Avenida Atlântica",
         1617,
         11,
         941967902
        ],
        [
         231,
         "João Silva",
         "cliente231@exemplo.com",
         "Rua das Flores",
         123,
         11,
         962941878
        ],
        [
         236,
         "Juliana Costa",
         "cliente236@exemplo.com",
         "Rua da Consolação",
         2223,
         11,
         976301064
        ],
        [
         241,
         "João Silva",
         "cliente241@exemplo.com",
         "Rua Augusta",
         1011,
         11,
         934129314
        ],
        [
         251,
         "Juliana Costa",
         "cliente251@exemplo.com",
         "Rua da Consolação",
         2223,
         11,
         964658197
        ],
        [
         253,
         "João Silva",
         "cliente253@exemplo.com",
         "Rua das Flores",
         123,
         11,
         941121236
        ],
        [
         254,
         "João Silva",
         "cliente254@exemplo.com",
         "Avenida Brasil",
         1213,
         11,
         989531744
        ],
        [
         257,
         "Juliana Costa",
         "cliente257@exemplo.com",
         "Rua da Consolação",
         2223,
         11,
         946329310
        ],
        [
         265,
         "Juliana Costa",
         "cliente265@exemplo.com",
         "Avenida Atlântica",
         1617,
         11,
         985703601
        ],
        [
         269,
         "João Silva",
         "cliente269@exemplo.com",
         "Rua da Consolação",
         2223,
         11,
         963484619
        ],
        [
         272,
         "João Silva",
         "cliente272@exemplo.com",
         "Rua XV de Novembro",
         1415,
         11,
         973444161
        ],
        [
         278,
         "João Silva",
         "cliente278@exemplo.com",
         "Rua das Palmeiras",
         1819,
         11,
         920178220
        ],
        [
         284,
         "Juliana Costa",
         "cliente284@exemplo.com",
         "Avenida Paulista",
         456,
         11,
         963107869
        ],
        [
         285,
         "João Silva",
         "cliente285@exemplo.com",
         "Avenida Atlântica",
         1617,
         11,
         910302926
        ],
        [
         287,
         "João Silva",
         "cliente287@exemplo.com",
         "Avenida Paulista",
         456,
         11,
         984229732
        ],
        [
         288,
         "Juliana Costa",
         "cliente288@exemplo.com",
         "Avenida Brasil",
         1213,
         11,
         998623943
        ],
        [
         292,
         "Juliana Costa",
         "cliente292@exemplo.com",
         "Rua das Palmeiras",
         1819,
         11,
         958311536
        ],
        [
         293,
         "João Silva",
         "cliente293@exemplo.com",
         "Rua das Flores",
         123,
         11,
         954048659
        ],
        [
         296,
         "João Silva",
         "cliente296@exemplo.com",
         "Avenida Ipiranga",
         2021,
         11,
         921511408
        ],
        [
         298,
         "Juliana Costa",
         "cliente298@exemplo.com",
         "Rua das Palmeiras",
         1819,
         11,
         950541727
        ],
        [
         300,
         "João Silva",
         "cliente300@exemplo.com",
         "Praça da Sé",
         789,
         11,
         956749195
        ],
        [
         306,
         "Juliana Costa",
         "cliente306@exemplo.com",
         "Avenida Ipiranga",
         2021,
         11,
         983127345
        ],
        [
         315,
         "João Silva",
         "cliente315@exemplo.com",
         "Rua das Flores",
         123,
         11,
         959526163
        ],
        [
         319,
         "João Silva",
         "cliente319@exemplo.com",
         "Rua das Palmeiras",
         1819,
         11,
         919775625
        ],
        [
         329,
         "Juliana Costa",
         "cliente329@exemplo.com",
         "Praça da Sé",
         789,
         11,
         969985549
        ],
        [
         331,
         "Juliana Costa",
         "cliente331@exemplo.com",
         "Avenida Brasil",
         1213,
         11,
         982485146
        ],
        [
         333,
         "João Silva",
         "cliente333@exemplo.com",
         "Rua XV de Novembro",
         1415,
         11,
         989823267
        ],
        [
         338,
         "João Silva",
         "cliente338@exemplo.com",
         "Avenida Brasil",
         1213,
         11,
         971778250
        ],
        [
         343,
         "João Silva",
         "cliente343@exemplo.com",
         "Rua da Consolação",
         2223,
         11,
         948667586
        ],
        [
         346,
         "João Silva",
         "cliente346@exemplo.com",
         "Rua das Flores",
         123,
         11,
         962871363
        ],
        [
         356,
         "Juliana Costa",
         "cliente356@exemplo.com",
         "Avenida Brasil",
         1213,
         11,
         950956457
        ],
        [
         361,
         "João Silva",
         "cliente361@exemplo.com",
         "Avenida Paulista",
         456,
         11,
         966315139
        ],
        [
         362,
         "Juliana Costa",
         "cliente362@exemplo.com",
         "Rua XV de Novembro",
         1415,
         11,
         924621410
        ],
        [
         374,
         "João Silva",
         "cliente374@exemplo.com",
         "Praça da Sé",
         789,
         11,
         921472587
        ],
        [
         379,
         "Juliana Costa",
         "cliente379@exemplo.com",
         "Rua da Consolação",
         2223,
         11,
         956935709
        ],
        [
         384,
         "João Silva",
         "cliente384@exemplo.com",
         "Avenida Atlântica",
         1617,
         11,
         997047225
        ],
        [
         387,
         "João Silva",
         "cliente387@exemplo.com",
         "Rua XV de Novembro",
         1415,
         11,
         946418152
        ],
        [
         390,
         "Juliana Costa",
         "cliente390@exemplo.com",
         "Praça da Sé",
         789,
         11,
         976863721
        ],
        [
         398,
         "João Silva",
         "cliente398@exemplo.com",
         "Avenida Ipiranga",
         2021,
         11,
         966496490
        ],
        [
         399,
         "João Silva",
         "cliente399@exemplo.com",
         "Rua das Flores",
         123,
         11,
         974013578
        ],
        [
         405,
         "Juliana Costa",
         "cliente405@exemplo.com",
         "Praça da Sé",
         789,
         11,
         930986174
        ],
        [
         408,
         "João Silva",
         "cliente408@exemplo.com",
         "Rua da Consolação",
         2223,
         11,
         971873006
        ],
        [
         421,
         "João Silva",
         "cliente421@exemplo.com",
         "Avenida Brasil",
         1213,
         11,
         943072645
        ],
        [
         434,
         "Juliana Costa",
         "cliente434@exemplo.com",
         "Rua das Palmeiras",
         1819,
         11,
         943391041
        ],
        [
         442,
         "João Silva",
         "cliente442@exemplo.com",
         "Rua das Palmeiras",
         1819,
         11,
         942758607
        ],
        [
         443,
         "Juliana Costa",
         "cliente443@exemplo.com",
         "Rua da Consolação",
         2223,
         11,
         919673028
        ],
        [
         444,
         "Juliana Costa",
         "cliente444@exemplo.com",
         "Rua das Palmeiras",
         1819,
         11,
         939622384
        ],
        [
         449,
         "Juliana Costa",
         "cliente449@exemplo.com",
         "Avenida Brasil",
         1213,
         11,
         954285336
        ],
        [
         451,
         "João Silva",
         "cliente451@exemplo.com",
         "Avenida Paulista",
         456,
         11,
         988933903
        ],
        [
         460,
         "Juliana Costa",
         "cliente460@exemplo.com",
         "Avenida Ipiranga",
         2021,
         11,
         957365618
        ],
        [
         473,
         "Juliana Costa",
         "cliente473@exemplo.com",
         "Rua das Palmeiras",
         1819,
         11,
         968394069
        ],
        [
         476,
         "Juliana Costa",
         "cliente476@exemplo.com",
         "Avenida Paulista",
         456,
         11,
         948835423
        ],
        [
         481,
         "Juliana Costa",
         "cliente481@exemplo.com",
         "Avenida Paulista",
         456,
         11,
         941447873
        ],
        [
         486,
         "João Silva",
         "cliente486@exemplo.com",
         "Rua Augusta",
         1011,
         11,
         953773584
        ],
        [
         487,
         "Juliana Costa",
         "cliente487@exemplo.com",
         "Rua da Consolação",
         2223,
         11,
         947862364
        ],
        [
         497,
         "Juliana Costa",
         "cliente497@exemplo.com",
         "Avenida Atlântica",
         1617,
         11,
         977883315
        ],
        [
         503,
         "João Silva",
         "cliente503@exemplo.com",
         "Rua Augusta",
         1011,
         11,
         946733705
        ],
        [
         509,
         "João Silva",
         "cliente509@exemplo.com",
         "Rua Augusta",
         1011,
         11,
         938033855
        ],
        [
         515,
         "João Silva",
         "cliente515@exemplo.com",
         "Praça da Sé",
         789,
         11,
         936524762
        ],
        [
         518,
         "João Silva",
         "cliente518@exemplo.com",
         "Avenida Paulista",
         456,
         11,
         926616750
        ],
        [
         520,
         "Juliana Costa",
         "cliente520@exemplo.com",
         "Rua das Flores",
         123,
         11,
         978783980
        ],
        [
         521,
         "João Silva",
         "cliente521@exemplo.com",
         "Praça da Sé",
         789,
         11,
         913944133
        ],
        [
         531,
         "Juliana Costa",
         "cliente531@exemplo.com",
         "Rua Augusta",
         1011,
         11,
         918947845
        ],
        [
         535,
         "João Silva",
         "cliente535@exemplo.com",
         "Avenida Ipiranga",
         2021,
         11,
         925946394
        ],
        [
         536,
         "Juliana Costa",
         "cliente536@exemplo.com",
         "Praça da Sé",
         789,
         11,
         992196486
        ],
        [
         543,
         "Juliana Costa",
         "cliente543@exemplo.com",
         "Rua da Consolação",
         2223,
         11,
         943074527
        ],
        [
         558,
         "Juliana Costa",
         "cliente558@exemplo.com",
         "Avenida Ipiranga",
         2021,
         11,
         959732591
        ],
        [
         559,
         "João Silva",
         "cliente559@exemplo.com",
         "Praça da Sé",
         789,
         11,
         978774414
        ],
        [
         567,
         "João Silva",
         "cliente567@exemplo.com",
         "Praça da Sé",
         789,
         11,
         915179413
        ],
        [
         569,
         "João Silva",
         "cliente569@exemplo.com",
         "Avenida Paulista",
         456,
         11,
         924473370
        ],
        [
         571,
         "João Silva",
         "cliente571@exemplo.com",
         "Rua XV de Novembro",
         1415,
         11,
         926989288
        ],
        [
         582,
         "Juliana Costa",
         "cliente582@exemplo.com",
         "Rua XV de Novembro",
         1415,
         11,
         966444811
        ],
        [
         594,
         "Juliana Costa",
         "cliente594@exemplo.com",
         "Rua XV de Novembro",
         1415,
         11,
         926663031
        ],
        [
         598,
         "João Silva",
         "cliente598@exemplo.com",
         "Rua XV de Novembro",
         1415,
         11,
         911566815
        ],
        [
         606,
         "Juliana Costa",
         "cliente606@exemplo.com",
         "Praça da Sé",
         789,
         11,
         943013483
        ],
        [
         609,
         "João Silva",
         "cliente609@exemplo.com",
         "Avenida Brasil",
         1213,
         11,
         958912303
        ],
        [
         614,
         "Juliana Costa",
         "cliente614@exemplo.com",
         "Rua das Palmeiras",
         1819,
         11,
         911561454
        ],
        [
         620,
         "João Silva",
         "cliente620@exemplo.com",
         "Avenida Brasil",
         1213,
         11,
         952252592
        ],
        [
         623,
         "João Silva",
         "cliente623@exemplo.com",
         "Avenida Ipiranga",
         2021,
         11,
         982885287
        ],
        [
         625,
         "João Silva",
         "cliente625@exemplo.com",
         "Praça da Sé",
         789,
         11,
         932908248
        ],
        [
         627,
         "João Silva",
         "cliente627@exemplo.com",
         "Avenida Brasil",
         1213,
         11,
         911831385
        ],
        [
         633,
         "Juliana Costa",
         "cliente633@exemplo.com",
         "Avenida Brasil",
         1213,
         11,
         980826217
        ],
        [
         646,
         "Juliana Costa",
         "cliente646@exemplo.com",
         "Rua das Palmeiras",
         1819,
         11,
         941714078
        ],
        [
         647,
         "João Silva",
         "cliente647@exemplo.com",
         "Rua XV de Novembro",
         1415,
         11,
         942965879
        ],
        [
         654,
         "Juliana Costa",
         "cliente654@exemplo.com",
         "Rua das Flores",
         123,
         11,
         917386538
        ],
        [
         665,
         "Juliana Costa",
         "cliente665@exemplo.com",
         "Avenida Atlântica",
         1617,
         11,
         949517712
        ],
        [
         669,
         "Juliana Costa",
         "cliente669@exemplo.com",
         "Avenida Brasil",
         1213,
         11,
         978354343
        ],
        [
         671,
         "João Silva",
         "cliente671@exemplo.com",
         "Avenida Atlântica",
         1617,
         11,
         954021469
        ],
        [
         673,
         "João Silva",
         "cliente673@exemplo.com",
         "Rua das Palmeiras",
         1819,
         11,
         923183414
        ],
        [
         674,
         "João Silva",
         "cliente674@exemplo.com",
         "Rua XV de Novembro",
         1415,
         11,
         913591727
        ],
        [
         678,
         "Juliana Costa",
         "cliente678@exemplo.com",
         "Rua das Palmeiras",
         1819,
         11,
         957463470
        ],
        [
         680,
         "João Silva",
         "cliente680@exemplo.com",
         "Rua da Consolação",
         2223,
         11,
         920459421
        ],
        [
         686,
         "João Silva",
         "cliente686@exemplo.com",
         "Rua da Consolação",
         2223,
         11,
         998377335
        ],
        [
         690,
         "João Silva",
         "cliente690@exemplo.com",
         "Avenida Ipiranga",
         2021,
         11,
         985788241
        ],
        [
         707,
         "João Silva",
         "cliente707@exemplo.com",
         "Avenida Paulista",
         456,
         11,
         952897806
        ],
        [
         710,
         "João Silva",
         "cliente710@exemplo.com",
         "Praça da Sé",
         789,
         11,
         967604168
        ],
        [
         715,
         "João Silva",
         "cliente715@exemplo.com",
         "Praça da Sé",
         789,
         11,
         997643197
        ],
        [
         723,
         "João Silva",
         "cliente723@exemplo.com",
         "Avenida Brasil",
         1213,
         11,
         913154786
        ],
        [
         727,
         "João Silva",
         "cliente727@exemplo.com",
         "Avenida Atlântica",
         1617,
         11,
         932212274
        ],
        [
         729,
         "João Silva",
         "cliente729@exemplo.com",
         "Avenida Paulista",
         456,
         11,
         976395555
        ],
        [
         744,
         "João Silva",
         "cliente744@exemplo.com",
         "Avenida Paulista",
         456,
         11,
         951476754
        ],
        [
         748,
         "João Silva",
         "cliente748@exemplo.com",
         "Avenida Atlântica",
         1617,
         11,
         951413782
        ],
        [
         752,
         "João Silva",
         "cliente752@exemplo.com",
         "Rua das Palmeiras",
         1819,
         11,
         925608553
        ],
        [
         757,
         "João Silva",
         "cliente757@exemplo.com",
         "Rua das Flores",
         123,
         11,
         983656758
        ],
        [
         758,
         "Juliana Costa",
         "cliente758@exemplo.com",
         "Avenida Ipiranga",
         2021,
         11,
         990177525
        ],
        [
         760,
         "João Silva",
         "cliente760@exemplo.com",
         "Praça da Sé",
         789,
         11,
         919029024
        ],
        [
         766,
         "Juliana Costa",
         "cliente766@exemplo.com",
         "Rua das Flores",
         123,
         11,
         923328956
        ],
        [
         775,
         "João Silva",
         "cliente775@exemplo.com",
         "Avenida Ipiranga",
         2021,
         11,
         915728930
        ],
        [
         781,
         "João Silva",
         "cliente781@exemplo.com",
         "Avenida Paulista",
         456,
         11,
         921192552
        ],
        [
         783,
         "João Silva",
         "cliente783@exemplo.com",
         "Rua das Flores",
         123,
         11,
         944972992
        ],
        [
         789,
         "João Silva",
         "cliente789@exemplo.com",
         "Rua da Consolação",
         2223,
         11,
         989036997
        ],
        [
         794,
         "João Silva",
         "cliente794@exemplo.com",
         "Avenida Paulista",
         456,
         11,
         953441135
        ],
        [
         798,
         "Juliana Costa",
         "cliente798@exemplo.com",
         "Rua das Palmeiras",
         1819,
         11,
         917788650
        ],
        [
         802,
         "Juliana Costa",
         "cliente802@exemplo.com",
         "Rua das Flores",
         123,
         11,
         964194518
        ],
        [
         811,
         "João Silva",
         "cliente811@exemplo.com",
         "Rua da Consolação",
         2223,
         11,
         980166015
        ],
        [
         814,
         "João Silva",
         "cliente814@exemplo.com",
         "Praça da Sé",
         789,
         11,
         929138807
        ],
        [
         821,
         "João Silva",
         "cliente821@exemplo.com",
         "Rua das Flores",
         123,
         11,
         919897230
        ],
        [
         826,
         "João Silva",
         "cliente826@exemplo.com",
         "Avenida Atlântica",
         1617,
         11,
         977358575
        ],
        [
         837,
         "João Silva",
         "cliente837@exemplo.com",
         "Rua XV de Novembro",
         1415,
         11,
         950135858
        ],
        [
         847,
         "Juliana Costa",
         "cliente847@exemplo.com",
         "Rua Augusta",
         1011,
         11,
         924869506
        ],
        [
         848,
         "João Silva",
         "cliente848@exemplo.com",
         "Avenida Ipiranga",
         2021,
         11,
         915881910
        ],
        [
         852,
         "João Silva",
         "cliente852@exemplo.com",
         "Rua das Flores",
         123,
         11,
         965683535
        ],
        [
         855,
         "Juliana Costa",
         "cliente855@exemplo.com",
         "Avenida Ipiranga",
         2021,
         11,
         967445522
        ],
        [
         868,
         "Juliana Costa",
         "cliente868@exemplo.com",
         "Avenida Brasil",
         1213,
         11,
         930479241
        ],
        [
         881,
         "Juliana Costa",
         "cliente881@exemplo.com",
         "Rua XV de Novembro",
         1415,
         11,
         945799428
        ],
        [
         883,
         "João Silva",
         "cliente883@exemplo.com",
         "Rua das Palmeiras",
         1819,
         11,
         940851946
        ],
        [
         896,
         "João Silva",
         "cliente896@exemplo.com",
         "Rua das Flores",
         123,
         11,
         995856825
        ],
        [
         900,
         "João Silva",
         "cliente900@exemplo.com",
         "Avenida Brasil",
         1213,
         11,
         981738813
        ],
        [
         912,
         "Juliana Costa",
         "cliente912@exemplo.com",
         "Rua das Flores",
         123,
         11,
         992965671
        ],
        [
         913,
         "Juliana Costa",
         "cliente913@exemplo.com",
         "Rua das Flores",
         123,
         11,
         938875222
        ],
        [
         916,
         "Juliana Costa",
         "cliente916@exemplo.com",
         "Avenida Paulista",
         456,
         11,
         952982642
        ],
        [
         925,
         "João Silva",
         "cliente925@exemplo.com",
         "Rua da Consolação",
         2223,
         11,
         965209525
        ],
        [
         926,
         "João Silva",
         "cliente926@exemplo.com",
         "Rua das Flores",
         123,
         11,
         931209602
        ],
        [
         927,
         "Juliana Costa",
         "cliente927@exemplo.com",
         "Avenida Ipiranga",
         2021,
         11,
         935177284
        ],
        [
         928,
         "Juliana Costa",
         "cliente928@exemplo.com",
         "Avenida Paulista",
         456,
         11,
         910113729
        ],
        [
         930,
         "Juliana Costa",
         "cliente930@exemplo.com",
         "Rua das Flores",
         123,
         11,
         927595255
        ],
        [
         931,
         "Juliana Costa",
         "cliente931@exemplo.com",
         "Rua das Palmeiras",
         1819,
         11,
         920903956
        ],
        [
         935,
         "João Silva",
         "cliente935@exemplo.com",
         "Rua da Consolação",
         2223,
         11,
         971251602
        ],
        [
         939,
         "João Silva",
         "cliente939@exemplo.com",
         "Avenida Brasil",
         1213,
         11,
         956456161
        ],
        [
         943,
         "Juliana Costa",
         "cliente943@exemplo.com",
         "Rua Augusta",
         1011,
         11,
         971208006
        ],
        [
         945,
         "Juliana Costa",
         "cliente945@exemplo.com",
         "Rua Augusta",
         1011,
         11,
         915297832
        ],
        [
         946,
         "Juliana Costa",
         "cliente946@exemplo.com",
         "Avenida Brasil",
         1213,
         11,
         984308013
        ],
        [
         966,
         "Juliana Costa",
         "cliente966@exemplo.com",
         "Avenida Paulista",
         456,
         11,
         995604265
        ],
        [
         967,
         "João Silva",
         "cliente967@exemplo.com",
         "Avenida Paulista",
         456,
         11,
         993852318
        ],
        [
         968,
         "João Silva",
         "cliente968@exemplo.com",
         "Avenida Ipiranga",
         2021,
         11,
         952531902
        ],
        [
         973,
         "João Silva",
         "cliente973@exemplo.com",
         "Avenida Brasil",
         1213,
         11,
         973645204
        ],
        [
         974,
         "Juliana Costa",
         "cliente974@exemplo.com",
         "Avenida Paulista",
         456,
         11,
         984611348
        ],
        [
         980,
         "João Silva",
         "cliente980@exemplo.com",
         "Avenida Paulista",
         456,
         11,
         989534800
        ],
        [
         984,
         "João Silva",
         "cliente984@exemplo.com",
         "Rua das Flores",
         123,
         11,
         963709060
        ],
        [
         988,
         "João Silva",
         "cliente988@exemplo.com",
         "Avenida Brasil",
         1213,
         11,
         972749842
        ],
        [
         995,
         "Juliana Costa",
         "cliente995@exemplo.com",
         "Rua XV de Novembro",
         1415,
         11,
         939453715
        ],
        [
         998,
         "João Silva",
         "cliente998@exemplo.com",
         "Avenida Ipiranga",
         2021,
         11,
         929859386
        ]
       ],
       "datasetInfos": [],
       "dbfsResultPath": null,
       "isJsonSchema": true,
       "metadata": {
        "createTempViewForImplicitDf": true,
        "dataframeName": "_sqldf",
        "executionCount": 119
       },
       "overflow": false,
       "plotOptions": {
        "customPlotOptions": {},
        "displayType": "table",
        "pivotAggregation": null,
        "pivotColumns": null,
        "xColumns": null,
        "yColumns": null
       },
       "removedWidgets": [],
       "schema": [
        {
         "metadata": "{}",
         "name": "Número da Conta",
         "type": "\"integer\""
        },
        {
         "metadata": "{}",
         "name": "Nome do Cliente",
         "type": "\"string\""
        },
        {
         "metadata": "{}",
         "name": "Email",
         "type": "\"string\""
        },
        {
         "metadata": "{}",
         "name": "Logradouro",
         "type": "\"string\""
        },
        {
         "metadata": "{}",
         "name": "Número Logradouro",
         "type": "\"integer\""
        },
        {
         "metadata": "{}",
         "name": "DDD",
         "type": "\"integer\""
        },
        {
         "metadata": "{}",
         "name": "Número Telefone",
         "type": "\"integer\""
        }
       ],
       "type": "table"
      }
     },
     "output_type": "display_data"
    }
   ],
   "source": [
    "%sql\n",
    "-- Retornar os dados dos clientes que começam com a letra 'J'\n",
    "SELECT *\n",
    "FROM dados_clientes\n",
    "WHERE `Nome do Cliente` LIKE 'J%' "
   ]
  },
  {
   "cell_type": "code",
   "execution_count": 0,
   "metadata": {
    "application/vnd.databricks.v1+cell": {
     "cellMetadata": {
      "byteLimit": 2048000,
      "implicitDf": true,
      "rowLimit": 10000
     },
     "inputWidgets": {},
     "nuid": "7eb36e70-2a86-4dc2-87b4-4cdbec4fca1d",
     "showTitle": false,
     "tableResultSettingsMap": {},
     "title": ""
    }
   },
   "outputs": [
    {
     "output_type": "display_data",
     "data": {
      "text/html": [
       "<style scoped>\n",
       "  .table-result-container {\n",
       "    max-height: 300px;\n",
       "    overflow: auto;\n",
       "  }\n",
       "  table, th, td {\n",
       "    border: 1px solid black;\n",
       "    border-collapse: collapse;\n",
       "  }\n",
       "  th, td {\n",
       "    padding: 5px;\n",
       "  }\n",
       "  th {\n",
       "    text-align: left;\n",
       "  }\n",
       "</style><div class='table-result-container'><table class='table-result'><thead style='background-color: white'><tr><th>DDD</th><th>count(Nome do cliente)</th></tr></thead><tbody><tr><td>11</td><td>1001</td></tr></tbody></table></div>"
      ]
     },
     "metadata": {
      "application/vnd.databricks.v1+output": {
       "addedWidgets": {},
       "aggData": [],
       "aggError": "",
       "aggOverflow": false,
       "aggSchema": [],
       "aggSeriesLimitReached": false,
       "aggType": "",
       "arguments": {},
       "columnCustomDisplayInfos": {},
       "data": [
        [
         11,
         1001
        ]
       ],
       "datasetInfos": [],
       "dbfsResultPath": null,
       "isJsonSchema": true,
       "metadata": {
        "createTempViewForImplicitDf": true,
        "dataframeName": "_sqldf",
        "executionCount": 133
       },
       "overflow": false,
       "plotOptions": {
        "customPlotOptions": {},
        "displayType": "table",
        "pivotAggregation": null,
        "pivotColumns": null,
        "xColumns": null,
        "yColumns": null
       },
       "removedWidgets": [],
       "schema": [
        {
         "metadata": "{}",
         "name": "DDD",
         "type": "\"integer\""
        },
        {
         "metadata": "{\"__autoGeneratedAlias\":\"true\"}",
         "name": "count(Nome do cliente)",
         "type": "\"long\""
        }
       ],
       "type": "table"
      }
     },
     "output_type": "display_data"
    }
   ],
   "source": [
    "%sql\n",
    "-- Agregação por DDD\n",
    "SELECT DDD\n",
    ",COUNT(`Nome do cliente`)\n",
    "FROM dados_clientes\n",
    "GROUP BY DDD \n"
   ]
  }
 ],
 "metadata": {
  "application/vnd.databricks.v1+notebook": {
   "computePreferences": null,
   "dashboards": [],
   "environmentMetadata": {
    "base_environment": "",
    "environment_version": "1"
   },
   "inputWidgetPreferences": null,
   "language": "python",
   "notebookMetadata": {
    "mostRecentlyExecutedCommandWithImplicitDF": {
     "commandId": 4398838580628429,
     "dataframes": [
      "_sqldf"
     ]
    },
    "pythonIndentUnit": 4
   },
   "notebookName": "pt2-ingestao_dados_csv-costumer",
   "widgets": {}
  }
 },
 "nbformat": 4,
 "nbformat_minor": 0
}