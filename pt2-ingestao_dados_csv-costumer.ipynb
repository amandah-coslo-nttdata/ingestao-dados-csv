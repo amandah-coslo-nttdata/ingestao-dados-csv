{
 "cells": [
  {
   "cell_type": "markdown",
   "metadata": {
    "application/vnd.databricks.v1+cell": {
     "cellMetadata": {},
     "inputWidgets": {},
     "nuid": "4660fec7-3168-418e-a18d-a39832f9e0a1",
     "showTitle": false,
     "tableResultSettingsMap": {},
     "title": ""
    }
   },
   "source": [
    "1- Importar bibliotecas"
   ]
  },
  {
   "cell_type": "code",
   "execution_count": 0,
   "metadata": {
    "application/vnd.databricks.v1+cell": {
     "cellMetadata": {
      "byteLimit": 2048000,
      "rowLimit": 10000
     },
     "inputWidgets": {},
     "nuid": "cd5825f8-ec8a-4a6d-97c4-8c729e88000a",
     "showTitle": false,
     "tableResultSettingsMap": {},
     "title": ""
    }
   },
   "outputs": [],
   "source": [
    "from pyspark.sql import SparkSession\n",
    "from pyspark.sql.functions import *\n",
    "from pyspark.sql import functions as F\n",
    "from pyspark.sql.functions import split\n",
    "from pyspark.sql.functions import substring\n",
    "from pyspark.sql.functions import regexp_replace\n",
    "from pyspark.sql.types import * #StructType, StructField, StringType\n",
    "import pandas as pd\n",
    "from pandas import DataFrame\n",
    "import os"
   ]
  },
  {
   "cell_type": "markdown",
   "metadata": {
    "application/vnd.databricks.v1+cell": {
     "cellMetadata": {},
     "inputWidgets": {},
     "nuid": "c3dceeaa-1010-4d0a-bd0a-2560b90de31d",
     "showTitle": false,
     "tableResultSettingsMap": {},
     "title": ""
    }
   },
   "source": [
    "2- Ler arquivo .csv"
   ]
  },
  {
   "cell_type": "code",
   "execution_count": 0,
   "metadata": {
    "application/vnd.databricks.v1+cell": {
     "cellMetadata": {
      "byteLimit": 2048000,
      "rowLimit": 10000
     },
     "inputWidgets": {},
     "nuid": "86fde7c7-7f04-43c5-ac7f-51359cbd8511",
     "showTitle": false,
     "tableResultSettingsMap": {},
     "title": ""
    }
   },
   "outputs": [
    {
     "data": {
      "text/html": [
       "<style scoped>\n",
       "  .table-result-container {\n",
       "    max-height: 300px;\n",
       "    overflow: auto;\n",
       "  }\n",
       "  table, th, td {\n",
       "    border: 1px solid black;\n",
       "    border-collapse: collapse;\n",
       "  }\n",
       "  th, td {\n",
       "    padding: 5px;\n",
       "  }\n",
       "  th {\n",
       "    text-align: left;\n",
       "  }\n",
       "</style><div class='table-result-container'><table class='table-result'><thead style='background-color: white'><tr><th>_c0</th></tr></thead><tbody><tr><td>Número da Conta;Nome do Cliente;Endereço;Telefone;Email</td></tr><tr><td>1;Fernanda Lima;Rua da Consolação</td></tr><tr><td>2;Juliana Costa;Rua Augusta</td></tr><tr><td>3;Pedro Santos;Rua da Consolação</td></tr><tr><td>4;Fernanda Lima;Rua Augusta</td></tr><tr><td>5;Lucas Fernandes;Rua da Consolação</td></tr><tr><td>6;Carlos Pereira;Rua XV de Novembro</td></tr><tr><td>7;Juliana Costa;Avenida Paulista</td></tr><tr><td>8;Carlos Pereira;Avenida Paulista</td></tr><tr><td>9;Ana Souza;Avenida Atlântica</td></tr></tbody></table></div>"
      ]
     },
     "metadata": {
      "application/vnd.databricks.v1+output": {
       "addedWidgets": {},
       "aggData": [],
       "aggError": "",
       "aggOverflow": false,
       "aggSchema": [],
       "aggSeriesLimitReached": false,
       "aggType": "",
       "arguments": {},
       "columnCustomDisplayInfos": {},
       "data": [
        [
         "Número da Conta;Nome do Cliente;Endereço;Telefone;Email"
        ],
        [
         "1;Fernanda Lima;Rua da Consolação"
        ],
        [
         "2;Juliana Costa;Rua Augusta"
        ],
        [
         "3;Pedro Santos;Rua da Consolação"
        ],
        [
         "4;Fernanda Lima;Rua Augusta"
        ],
        [
         "5;Lucas Fernandes;Rua da Consolação"
        ],
        [
         "6;Carlos Pereira;Rua XV de Novembro"
        ],
        [
         "7;Juliana Costa;Avenida Paulista"
        ],
        [
         "8;Carlos Pereira;Avenida Paulista"
        ],
        [
         "9;Ana Souza;Avenida Atlântica"
        ]
       ],
       "datasetInfos": [],
       "dbfsResultPath": null,
       "isJsonSchema": true,
       "metadata": {},
       "overflow": false,
       "plotOptions": {
        "customPlotOptions": {},
        "displayType": "table",
        "pivotAggregation": null,
        "pivotColumns": null,
        "xColumns": null,
        "yColumns": null
       },
       "removedWidgets": [],
       "schema": [
        {
         "metadata": "{}",
         "name": "_c0",
         "type": "\"string\""
        }
       ],
       "type": "table"
      }
     },
     "output_type": "display_data"
    }
   ],
   "source": [
    "%python\n",
    "file_path = \"/FileStore/tables/dados_clientes.csv\"\n",
    "\n",
    "df_customer = spark.read.csv(file_path)\n",
    "df_customer_limited = df_customer.limit(10)\n",
    "display(df_customer_limited)"
   ]
  },
  {
   "cell_type": "markdown",
   "metadata": {
    "application/vnd.databricks.v1+cell": {
     "cellMetadata": {},
     "inputWidgets": {},
     "nuid": "39f2ec52-4add-4d48-8017-def38e30ada6",
     "showTitle": false,
     "tableResultSettingsMap": {},
     "title": ""
    }
   },
   "source": [
    "3- Estruturar o arquivo .csv definindo as colunas do df (nome, tipo, se pode ou não nulo)"
   ]
  },
  {
   "cell_type": "code",
   "execution_count": 0,
   "metadata": {
    "application/vnd.databricks.v1+cell": {
     "cellMetadata": {
      "byteLimit": 2048000,
      "rowLimit": 10000
     },
     "inputWidgets": {},
     "nuid": "2fb16de2-4c9d-4cda-977f-3d9e89b03ae9",
     "showTitle": false,
     "tableResultSettingsMap": {},
     "title": ""
    }
   },
   "outputs": [
    {
     "name": "stdout",
     "output_type": "stream",
     "text": [
      "+---------------+---------------+--------------------+---------------+--------------------+\n",
      "|Número da Conta|Nome do Cliente|            Endereço|       Telefone|               Email|\n",
      "+---------------+---------------+--------------------+---------------+--------------------+\n",
      "|              1|  Fernanda Lima|Rua da Consolação...|(11) 98623-5795|cliente1@exemplo.com|\n",
      "|              2|  Juliana Costa|   Rua Augusta, 1011|(11) 98959-1767|cliente2@exemplo.com|\n",
      "|              3|   Pedro Santos|Rua da Consolação...|(11) 93947-2587|cliente3@exemplo.com|\n",
      "|              4|  Fernanda Lima|   Rua Augusta, 1011|(11) 99345-3815|cliente4@exemplo.com|\n",
      "|              5|Lucas Fernandes|Rua da Consolação...|(11) 96449-2610|cliente5@exemplo.com|\n",
      "|              6| Carlos Pereira|Rua XV de Novembr...|(11) 94914-6650|cliente6@exemplo.com|\n",
      "|              7|  Juliana Costa|Avenida Paulista,...|(11) 93521-3943|cliente7@exemplo.com|\n",
      "|              8| Carlos Pereira|Avenida Paulista,...|(11) 91984-8352|cliente8@exemplo.com|\n",
      "|              9|      Ana Souza|Avenida Atlântica...|(11) 95240-6030|cliente9@exemplo.com|\n",
      "|             10|     João Silva|Avenida Brasil, 1213|(11) 91569-4953|cliente10@exemplo...|\n",
      "+---------------+---------------+--------------------+---------------+--------------------+\n",
      "only showing top 10 rows\n",
      "\n"
     ]
    }
   ],
   "source": [
    "file_schema = StructType([\n",
    "    StructField(('Número da Conta'), IntegerType(), False)\n",
    "    ,StructField(('Nome do Cliente'), StringType(), False)\n",
    "    ,StructField(('Endereço'), StringType(), False)\n",
    "    ,StructField(('Telefone'), StringType(), False)\n",
    "    ,StructField(('Email'), StringType(), False)\n",
    "])\n",
    "\n",
    "df_customer = spark.read.format(\"csv\")\\\n",
    "    .option(\"inferSchema\", \"true\") \\\n",
    "    .option(\"schema\", file_schema) \\\n",
    "    .option(\"header\", \"true\") \\\n",
    "    .option(\"sep\", \";\") \\\n",
    "    .option(\"encoding\", \"utf-8\") \\\n",
    "    .load(file_path)\n",
    "\n",
    "df_customer.show(10)"
   ]
  },
  {
   "cell_type": "code",
   "execution_count": 0,
   "metadata": {
    "application/vnd.databricks.v1+cell": {
     "cellMetadata": {
      "byteLimit": 2048000,
      "rowLimit": 10000
     },
     "inputWidgets": {},
     "nuid": "765dd7de-b537-46ad-8b57-f7674b9f9933",
     "showTitle": false,
     "tableResultSettingsMap": {},
     "title": ""
    }
   },
   "outputs": [
    {
     "name": "stdout",
     "output_type": "stream",
     "text": [
      "root\n",
      " |-- Número da Conta: integer (nullable = true)\n",
      " |-- Nome do Cliente: string (nullable = true)\n",
      " |-- Endereço: string (nullable = true)\n",
      " |-- Telefone: string (nullable = true)\n",
      " |-- Email: string (nullable = true)\n",
      "\n"
     ]
    }
   ],
   "source": [
    "# Visualizar como está a estrutura de cada coluna\n",
    "df_customer.printSchema()"
   ]
  },
  {
   "cell_type": "code",
   "execution_count": 0,
   "metadata": {
    "application/vnd.databricks.v1+cell": {
     "cellMetadata": {
      "byteLimit": 2048000,
      "rowLimit": 10000
     },
     "inputWidgets": {},
     "nuid": "70d9aa15-b84e-453e-a57d-3eb5202dc895",
     "showTitle": false,
     "tableResultSettingsMap": {},
     "title": ""
    }
   },
   "outputs": [
    {
     "name": "stdout",
     "output_type": "stream",
     "text": [
      "Number of rows: 1001\n",
      "Row: [Row(Número da Conta=1, Nome do Cliente='Fernanda Lima', Endereço='Rua da Consolação, 2223', Telefone='(11) 98623-5795', Email='cliente1@exemplo.com')]\n",
      "\n",
      "Number of columns: 5\n",
      "Columns: ['Número da Conta', 'Nome do Cliente', 'Endereço', 'Telefone', 'Email']\n"
     ]
    }
   ],
   "source": [
    "# Quantidade de linhas do dataframe\n",
    "number_rows = df_customer.count()\n",
    "\n",
    "# Quantidade de colunas do dataframe\n",
    "# dtypes = info\n",
    "number_columns = len(df_customer.dtypes)\n",
    "\n",
    "print(f'Number of rows: {number_rows}')\n",
    "print(f'Row: {df_customer.head(1)}\\n')\n",
    "print(f'Number of columns: {number_columns}')\n",
    "print(f'Columns: {df_customer.columns}')"
   ]
  },
  {
   "cell_type": "markdown",
   "metadata": {
    "application/vnd.databricks.v1+cell": {
     "cellMetadata": {},
     "inputWidgets": {},
     "nuid": "716446be-1f7a-4910-a181-c270e2717b7a",
     "showTitle": false,
     "tableResultSettingsMap": {},
     "title": ""
    }
   },
   "source": [
    "4- Normalizações"
   ]
  },
  {
   "cell_type": "markdown",
   "metadata": {
    "application/vnd.databricks.v1+cell": {
     "cellMetadata": {},
     "inputWidgets": {},
     "nuid": "17c29545-2337-408e-99a1-f4f22bc12709",
     "showTitle": false,
     "tableResultSettingsMap": {},
     "title": ""
    }
   },
   "source": [
    "- Normalizar a coluna Endereço (col1= Logradouro e col2= Número do Logradouro)"
   ]
  },
  {
   "cell_type": "code",
   "execution_count": 0,
   "metadata": {
    "application/vnd.databricks.v1+cell": {
     "cellMetadata": {
      "byteLimit": 2048000,
      "rowLimit": 10000
     },
     "inputWidgets": {},
     "nuid": "2667a7ff-3d5c-4bfb-b24e-39f2fce9b71b",
     "showTitle": false,
     "tableResultSettingsMap": {},
     "title": ""
    }
   },
   "outputs": [
    {
     "name": "stdout",
     "output_type": "stream",
     "text": [
      "+---------------+---------------+---------------+--------------------+------------------+-----------------+\n",
      "|Número da Conta|Nome do Cliente|       Telefone|               Email|        Logradouro|Número Logradouro|\n",
      "+---------------+---------------+---------------+--------------------+------------------+-----------------+\n",
      "|              1|  Fernanda Lima|(11) 98623-5795|cliente1@exemplo.com| Rua da Consolação|             2223|\n",
      "|              2|  Juliana Costa|(11) 98959-1767|cliente2@exemplo.com|       Rua Augusta|             1011|\n",
      "|              3|   Pedro Santos|(11) 93947-2587|cliente3@exemplo.com| Rua da Consolação|             2223|\n",
      "|              4|  Fernanda Lima|(11) 99345-3815|cliente4@exemplo.com|       Rua Augusta|             1011|\n",
      "|              5|Lucas Fernandes|(11) 96449-2610|cliente5@exemplo.com| Rua da Consolação|             2223|\n",
      "|              6| Carlos Pereira|(11) 94914-6650|cliente6@exemplo.com|Rua XV de Novembro|             1415|\n",
      "|              7|  Juliana Costa|(11) 93521-3943|cliente7@exemplo.com|  Avenida Paulista|              456|\n",
      "|              8| Carlos Pereira|(11) 91984-8352|cliente8@exemplo.com|  Avenida Paulista|              456|\n",
      "|              9|      Ana Souza|(11) 95240-6030|cliente9@exemplo.com| Avenida Atlântica|             1617|\n",
      "|             10|     João Silva|(11) 91569-4953|cliente10@exemplo...|    Avenida Brasil|             1213|\n",
      "+---------------+---------------+---------------+--------------------+------------------+-----------------+\n",
      "only showing top 10 rows\n",
      "\n"
     ]
    }
   ],
   "source": [
    "# É necessário essa biblioteca: from pyspark.sql.functions import split\n",
    "\n",
    "# Dividir a coluna 'Endereço' em 'Logradouro' (antes da virgula) e 'Número Logradouro' (depois da virgula)\n",
    "df_customer = df_customer.withColumn(\"Logradouro\", split(df_customer[\"Endereço\"], \",\")[0])\n",
    "df_customer = df_customer.withColumn(\"Número Logradouro\", split(df_customer[\"Endereço\"], \",\")[1])\n",
    "\n",
    "# Dropar a coluna 'Endereço'\n",
    "df_customer = df_customer.drop(\"Endereço\")\n",
    "\n",
    "df_customer.show(10)"
   ]
  },
  {
   "cell_type": "markdown",
   "metadata": {
    "application/vnd.databricks.v1+cell": {
     "cellMetadata": {},
     "inputWidgets": {},
     "nuid": "b699d343-0747-4017-bdd3-35573d886d70",
     "showTitle": false,
     "tableResultSettingsMap": {},
     "title": ""
    }
   },
   "source": [
    "- Normalizar a coluna Telefone (col1= DDD e col2= Telefone)"
   ]
  },
  {
   "cell_type": "code",
   "execution_count": 0,
   "metadata": {
    "application/vnd.databricks.v1+cell": {
     "cellMetadata": {
      "byteLimit": 2048000,
      "rowLimit": 10000
     },
     "inputWidgets": {},
     "nuid": "2bf7a564-059e-4e59-9a08-28742a8dec75",
     "showTitle": false,
     "tableResultSettingsMap": {},
     "title": ""
    }
   },
   "outputs": [
    {
     "name": "stdout",
     "output_type": "stream",
     "text": [
      "+---------------+---------------+---------------+--------------------+------------------+-----------------+----+---------------+\n",
      "|Número da Conta|Nome do Cliente|       Telefone|               Email|        Logradouro|Número Logradouro| DDD|Número Telefone|\n",
      "+---------------+---------------+---------------+--------------------+------------------+-----------------+----+---------------+\n",
      "|              1|  Fernanda Lima|(11) 98623-5795|cliente1@exemplo.com| Rua da Consolação|             2223|(11)|     98623-5795|\n",
      "|              2|  Juliana Costa|(11) 98959-1767|cliente2@exemplo.com|       Rua Augusta|             1011|(11)|     98959-1767|\n",
      "|              3|   Pedro Santos|(11) 93947-2587|cliente3@exemplo.com| Rua da Consolação|             2223|(11)|     93947-2587|\n",
      "|              4|  Fernanda Lima|(11) 99345-3815|cliente4@exemplo.com|       Rua Augusta|             1011|(11)|     99345-3815|\n",
      "|              5|Lucas Fernandes|(11) 96449-2610|cliente5@exemplo.com| Rua da Consolação|             2223|(11)|     96449-2610|\n",
      "|              6| Carlos Pereira|(11) 94914-6650|cliente6@exemplo.com|Rua XV de Novembro|             1415|(11)|     94914-6650|\n",
      "|              7|  Juliana Costa|(11) 93521-3943|cliente7@exemplo.com|  Avenida Paulista|              456|(11)|     93521-3943|\n",
      "|              8| Carlos Pereira|(11) 91984-8352|cliente8@exemplo.com|  Avenida Paulista|              456|(11)|     91984-8352|\n",
      "|              9|      Ana Souza|(11) 95240-6030|cliente9@exemplo.com| Avenida Atlântica|             1617|(11)|     95240-6030|\n",
      "|             10|     João Silva|(11) 91569-4953|cliente10@exemplo...|    Avenida Brasil|             1213|(11)|     91569-4953|\n",
      "+---------------+---------------+---------------+--------------------+------------------+-----------------+----+---------------+\n",
      "only showing top 10 rows\n",
      "\n"
     ]
    }
   ],
   "source": [
    "# É necessário essa biblioteca: from pyspark.sql.functions import substring\n",
    "\n",
    "# Dividir a coluna 'Telefone' em 'DDD' (antes do parenteses) e 'Telefone' (depois do parenteses)\n",
    "df_customer = df_customer.withColumn(\"DDD\", split(df_customer[\"Telefone\"], \" \")[0])\n",
    "df_customer = df_customer.withColumn(\"Número Telefone\", split(df_customer[\"Telefone\"], \" \")[1])\n",
    "\n",
    "df_customer.show(10)"
   ]
  },
  {
   "cell_type": "code",
   "execution_count": 0,
   "metadata": {
    "application/vnd.databricks.v1+cell": {
     "cellMetadata": {
      "byteLimit": 2048000,
      "rowLimit": 10000
     },
     "inputWidgets": {},
     "nuid": "56336456-59bc-4c2a-a405-125830bfcdb0",
     "showTitle": false,
     "tableResultSettingsMap": {},
     "title": ""
    }
   },
   "outputs": [
    {
     "name": "stdout",
     "output_type": "stream",
     "text": [
      "+---------------+---------------+--------------------+------------------+-----------------+---+---------------+\n",
      "|Número da Conta|Nome do Cliente|               Email|        Logradouro|Número Logradouro|DDD|Número Telefone|\n",
      "+---------------+---------------+--------------------+------------------+-----------------+---+---------------+\n",
      "|              1|  Fernanda Lima|cliente1@exemplo.com| Rua da Consolação|             2223| 11|      986235795|\n",
      "|              2|  Juliana Costa|cliente2@exemplo.com|       Rua Augusta|             1011| 11|      989591767|\n",
      "|              3|   Pedro Santos|cliente3@exemplo.com| Rua da Consolação|             2223| 11|      939472587|\n",
      "|              4|  Fernanda Lima|cliente4@exemplo.com|       Rua Augusta|             1011| 11|      993453815|\n",
      "|              5|Lucas Fernandes|cliente5@exemplo.com| Rua da Consolação|             2223| 11|      964492610|\n",
      "|              6| Carlos Pereira|cliente6@exemplo.com|Rua XV de Novembro|             1415| 11|      949146650|\n",
      "|              7|  Juliana Costa|cliente7@exemplo.com|  Avenida Paulista|              456| 11|      935213943|\n",
      "|              8| Carlos Pereira|cliente8@exemplo.com|  Avenida Paulista|              456| 11|      919848352|\n",
      "|              9|      Ana Souza|cliente9@exemplo.com| Avenida Atlântica|             1617| 11|      952406030|\n",
      "|             10|     João Silva|cliente10@exemplo...|    Avenida Brasil|             1213| 11|      915694953|\n",
      "+---------------+---------------+--------------------+------------------+-----------------+---+---------------+\n",
      "only showing top 10 rows\n",
      "\n"
     ]
    }
   ],
   "source": [
    "# É necessário essas bibliotecas: from pyspark.sql import SparkSession e from pyspark.sql.functions import regexp_replace\n",
    "\n",
    "# Fazer a limpeza dos caracteres especiais >>> Substituir () - e espaços por nada\n",
    "df_customer = df_customer.withColumn('DDD', regexp_replace('DDD', r'\\(|\\)|\\ ', ''))\n",
    "df_customer = df_customer.withColumn('Número Telefone', regexp_replace('Número Telefone', r'\\-|\\ ', ''))\n",
    "\n",
    "# Dropar a coluna 'Telefone'\n",
    "df_customer = df_customer.drop(\"Telefone\")\n",
    "\n",
    "df_customer.show(10)"
   ]
  },
  {
   "cell_type": "markdown",
   "metadata": {
    "application/vnd.databricks.v1+cell": {
     "cellMetadata": {},
     "inputWidgets": {},
     "nuid": "0da57d6f-eb3a-4178-b75d-0d8145f3b7a7",
     "showTitle": false,
     "tableResultSettingsMap": {},
     "title": ""
    }
   },
   "source": [
    "5 - Alterar os tipos das colunas do dataframe"
   ]
  },
  {
   "cell_type": "code",
   "execution_count": 0,
   "metadata": {
    "application/vnd.databricks.v1+cell": {
     "cellMetadata": {
      "byteLimit": 2048000,
      "rowLimit": 10000
     },
     "inputWidgets": {},
     "nuid": "4228bba1-fead-4f76-b909-d8e7259810ac",
     "showTitle": false,
     "tableResultSettingsMap": {},
     "title": ""
    }
   },
   "outputs": [],
   "source": [
    "# É necessário essas bibliotecas: from pyspark.sql.types import IntegerType e from pyspark.sql import functions as F\n",
    "\n",
    "# Setando tipos de dados das colunas\n",
    "df_customer = df_customer.withColumn(\"Logradouro\", F.col(\"Logradouro\").cast(StringType())) \\\n",
    "    .withColumn(\"Número Logradouro\", F.col(\"Número Logradouro\").cast(IntegerType())) \\\n",
    "    .withColumn(\"DDD\", F.col(\"DDD\").cast(IntegerType())) \\\n",
    "    .withColumn(\"Número Telefone\", F.col(\"Número Telefone\").cast(IntegerType()))\n",
    "\n"
   ]
  },
  {
   "cell_type": "code",
   "execution_count": 0,
   "metadata": {
    "application/vnd.databricks.v1+cell": {
     "cellMetadata": {
      "byteLimit": 2048000,
      "rowLimit": 10000
     },
     "inputWidgets": {},
     "nuid": "f76e19f1-ad17-4ec9-9f02-28b0ae4ab501",
     "showTitle": false,
     "tableResultSettingsMap": {},
     "title": ""
    }
   },
   "outputs": [
    {
     "name": "stdout",
     "output_type": "stream",
     "text": [
      "root\n",
      " |-- Número da Conta: integer (nullable = true)\n",
      " |-- Nome do Cliente: string (nullable = true)\n",
      " |-- Email: string (nullable = true)\n",
      " |-- Logradouro: string (nullable = true)\n",
      " |-- Número Logradouro: integer (nullable = true)\n",
      " |-- DDD: integer (nullable = true)\n",
      " |-- Número Telefone: integer (nullable = true)\n",
      "\n"
     ]
    }
   ],
   "source": [
    "# Visualizar como está a estrutura de cada coluna\n",
    "df_customer.printSchema()"
   ]
  },
  {
   "cell_type": "code",
   "execution_count": 0,
   "metadata": {
    "application/vnd.databricks.v1+cell": {
     "cellMetadata": {
      "byteLimit": 2048000,
      "rowLimit": 10000
     },
     "inputWidgets": {},
     "nuid": "da9ef9f6-5020-45ea-b37b-d73f27dc2c5c",
     "showTitle": false,
     "tableResultSettingsMap": {},
     "title": ""
    }
   },
   "outputs": [
    {
     "name": "stdout",
     "output_type": "stream",
     "text": [
      "Number of rows: 1001\n",
      "Row: [Row(Número da Conta=1, Nome do Cliente='Fernanda Lima', Email='cliente1@exemplo.com', Logradouro='Rua da Consolação', Número Logradouro=2223, DDD=11, Número Telefone=986235795)]\n",
      "\n",
      "Number of columns: 7\n",
      "Columns: ['Número da Conta', 'Nome do Cliente', 'Email', 'Logradouro', 'Número Logradouro', 'DDD', 'Número Telefone']\n"
     ]
    }
   ],
   "source": [
    "# Quantidade de linhas do dataframe\n",
    "number_rows = df_customer.count()\n",
    "\n",
    "# Quantidade de colunas do dataframe\n",
    "# dtypes = info\n",
    "number_columns = len(df_customer.dtypes)\n",
    "\n",
    "print(f'Number of rows: {number_rows}')\n",
    "print(f'Row: {df_customer.head(1)}\\n')\n",
    "print(f'Number of columns: {number_columns}')\n",
    "print(f'Columns: {df_customer.columns}')"
   ]
  },
  {
   "cell_type": "markdown",
   "metadata": {
    "application/vnd.databricks.v1+cell": {
     "cellMetadata": {},
     "inputWidgets": {},
     "nuid": "319875fe-9f53-4075-b12e-19767de6904f",
     "showTitle": false,
     "tableResultSettingsMap": {},
     "title": ""
    }
   },
   "source": [
    "6- Filtros e agregações no dataframe"
   ]
  },
  {
   "cell_type": "code",
   "execution_count": 0,
   "metadata": {
    "application/vnd.databricks.v1+cell": {
     "cellMetadata": {
      "byteLimit": 2048000,
      "rowLimit": 10000
     },
     "inputWidgets": {},
     "nuid": "9f630530-3780-4452-811f-8e14767da7a5",
     "showTitle": false,
     "tableResultSettingsMap": {},
     "title": ""
    }
   },
   "outputs": [
    {
     "name": "stdout",
     "output_type": "stream",
     "text": [
      "+---+---------+--------------------+\n",
      "|DDD| Telefone|   Cidade Região DDD|\n",
      "+---+---------+--------------------+\n",
      "| 11|986235795|Região Metropolit...|\n",
      "| 11|989591767|Região Metropolit...|\n",
      "| 11|939472587|Região Metropolit...|\n",
      "| 11|993453815|Região Metropolit...|\n",
      "| 11|964492610|Região Metropolit...|\n",
      "| 11|949146650|Região Metropolit...|\n",
      "| 11|935213943|Região Metropolit...|\n",
      "| 11|919848352|Região Metropolit...|\n",
      "| 11|952406030|Região Metropolit...|\n",
      "| 11|915694953|Região Metropolit...|\n",
      "+---+---------+--------------------+\n",
      "only showing top 10 rows\n",
      "\n"
     ]
    }
   ],
   "source": [
    "# Fitrar DDD, Número do telefone e a Cidade Região de cada um dos DDD \n",
    "filtrar_df_costumer = df_customer.select(col(\"DDD\")\n",
    "                    ,col(\"Número Telefone\").alias(\"Telefone\")\n",
    "                    ,when(df_customer.DDD == \"11\",\"Região Metropolitana de São Paulo\")\n",
    "                    .when(df_customer.DDD == \"12\",\"Vale do Paraíba e Litoral Norte\")\n",
    "                    .when(df_customer.DDD == \"13\",\"Baixada Santista\")\n",
    "                    .when(df_customer.DDD == \"14\",\"Bauru e região\")\n",
    "                    .when(df_customer.DDD == \"15\",\"Sorocaba e região\")\n",
    "                    .when(df_customer.DDD == \"16\",\"Ribeirão Preto e região\")\n",
    "                    .when(df_customer.DDD == \"17\",\"São José do Rio Preto e região\")\n",
    "                    .when(df_customer.DDD == \"18\",\"Presidente Prudente e região\")\n",
    "                    .when(df_customer.DDD == \"19\",\"Campinas e região\")\n",
    "                    .when(df_customer.DDD.isNull() ,\"Outro Estado\")\n",
    "                    .otherwise(df_customer.DDD).alias(\"Cidade Região DDD\")).show(10)"
   ]
  },
  {
   "cell_type": "code",
   "execution_count": 0,
   "metadata": {
    "application/vnd.databricks.v1+cell": {
     "cellMetadata": {
      "byteLimit": 2048000,
      "rowLimit": 10000
     },
     "inputWidgets": {},
     "nuid": "d053aa93-0c01-44c1-ad64-c87f7f9efeb4",
     "showTitle": false,
     "tableResultSettingsMap": {},
     "title": ""
    }
   },
   "outputs": [
    {
     "name": "stdout",
     "output_type": "stream",
     "text": [
      "+---------------+---------------+--------------------+------------------+-----------------+---+---------------+\n",
      "|Número da Conta|Nome do Cliente|               Email|        Logradouro|Número Logradouro|DDD|Número Telefone|\n",
      "+---------------+---------------+--------------------+------------------+-----------------+---+---------------+\n",
      "|              2|  Juliana Costa|cliente2@exemplo.com|       Rua Augusta|             1011| 11|      989591767|\n",
      "|              7|  Juliana Costa|cliente7@exemplo.com|  Avenida Paulista|              456| 11|      935213943|\n",
      "|             10|     João Silva|cliente10@exemplo...|    Avenida Brasil|             1213| 11|      915694953|\n",
      "|             14|     João Silva|cliente14@exemplo...|  Avenida Ipiranga|             2021| 11|      937508674|\n",
      "|             17|     João Silva|cliente17@exemplo...|    Rua das Flores|              123| 11|      999144856|\n",
      "|             18|     João Silva|cliente18@exemplo...| Avenida Atlântica|             1617| 11|      967671371|\n",
      "|             19|  Juliana Costa|cliente19@exemplo...|Rua XV de Novembro|             1415| 11|      990908621|\n",
      "|             25|  Juliana Costa|cliente25@exemplo...| Avenida Atlântica|             1617| 11|      960019926|\n",
      "|             31|  Juliana Costa|cliente31@exemplo...|  Avenida Paulista|              456| 11|      932425096|\n",
      "|             36|     João Silva|cliente36@exemplo...|    Rua das Flores|              123| 11|      975703918|\n",
      "+---------------+---------------+--------------------+------------------+-----------------+---+---------------+\n",
      "only showing top 10 rows\n",
      "\n"
     ]
    }
   ],
   "source": [
    "# Filtrar os dados dos clientes que começam com a letra 'J'\n",
    "filtrar_costumer_j = df_customer.filter(F.col('Nome do Cliente').like(\"J%\")).show(10)"
   ]
  },
  {
   "cell_type": "code",
   "execution_count": 0,
   "metadata": {
    "application/vnd.databricks.v1+cell": {
     "cellMetadata": {
      "byteLimit": 2048000,
      "rowLimit": 10000
     },
     "inputWidgets": {},
     "nuid": "158ec252-d177-4faf-9e27-fc6e17983338",
     "showTitle": false,
     "tableResultSettingsMap": {},
     "title": ""
    }
   },
   "outputs": [
    {
     "name": "stdout",
     "output_type": "stream",
     "text": [
      "+---+------------+\n",
      "|DDD|Contagem DDD|\n",
      "+---+------------+\n",
      "| 11|        1001|\n",
      "+---+------------+\n",
      "\n"
     ]
    }
   ],
   "source": [
    "# Agregação por DDD\n",
    "# É necessário essa biblioteca: import pyspark.sql.functions importar avg \n",
    "agregacao_ddd_costumer = df_customer.groupBy(df_customer.DDD).agg(F.count(F.col('Nome do cliente')).alias('Contagem DDD'))\n",
    "agregacao_ddd_costumer.show() \n"
   ]
  },
  {
   "cell_type": "markdown",
   "metadata": {
    "application/vnd.databricks.v1+cell": {
     "cellMetadata": {},
     "inputWidgets": {},
     "nuid": "830f82da-9a0e-4023-8ca4-13c3d4cb2a95",
     "showTitle": false,
     "tableResultSettingsMap": {},
     "title": ""
    }
   },
   "source": [
    "7- Salvar em formato parquet"
   ]
  },
  {
   "cell_type": "code",
   "execution_count": 0,
   "metadata": {
    "application/vnd.databricks.v1+cell": {
     "cellMetadata": {
      "byteLimit": 2048000,
      "rowLimit": 10000
     },
     "inputWidgets": {},
     "nuid": "9659a5a0-289a-401d-bac8-4e21d37f17ef",
     "showTitle": false,
     "tableResultSettingsMap": {},
     "title": ""
    }
   },
   "outputs": [],
   "source": [
    "df_customer.write.parquet('/path/to/save/df_file_costumer.parquet')"
   ]
  },
  {
   "cell_type": "markdown",
   "metadata": {
    "application/vnd.databricks.v1+cell": {
     "cellMetadata": {},
     "inputWidgets": {},
     "nuid": "46bd4629-5970-454d-89f8-256ad5a0e08e",
     "showTitle": false,
     "tableResultSettingsMap": {},
     "title": ""
    }
   },
   "source": [
    "8- Visualizar o dataframe em uma view (SQL)"
   ]
  },
  {
   "cell_type": "code",
   "execution_count": 0,
   "metadata": {
    "application/vnd.databricks.v1+cell": {
     "cellMetadata": {
      "byteLimit": 2048000,
      "rowLimit": 10000
     },
     "inputWidgets": {},
     "nuid": "b9896e3c-07df-42a4-a0fd-530ac1c7c1b0",
     "showTitle": false,
     "tableResultSettingsMap": {},
     "title": ""
    }
   },
   "outputs": [],
   "source": [
    "df_customer.createOrReplaceTempView(\"dados_clientes\")"
   ]
  },
  {
   "cell_type": "code",
   "execution_count": 0,
   "metadata": {
    "application/vnd.databricks.v1+cell": {
     "cellMetadata": {
      "byteLimit": 2048000,
      "implicitDf": true,
      "rowLimit": 10000
     },
     "inputWidgets": {},
     "nuid": "3ae97ea9-5045-48af-8616-0dd2edd898f0",
     "showTitle": false,
     "tableResultSettingsMap": {},
     "title": ""
    }
   },
   "outputs": [
    {
     "data": {
      "text/html": [
       "<style scoped>\n",
       "  .table-result-container {\n",
       "    max-height: 300px;\n",
       "    overflow: auto;\n",
       "  }\n",
       "  table, th, td {\n",
       "    border: 1px solid black;\n",
       "    border-collapse: collapse;\n",
       "  }\n",
       "  th, td {\n",
       "    padding: 5px;\n",
       "  }\n",
       "  th {\n",
       "    text-align: left;\n",
       "  }\n",
       "</style><div class='table-result-container'><table class='table-result'><thead style='background-color: white'><tr><th>Número da Conta</th><th>Nome do Cliente</th><th>Email</th><th>Logradouro</th><th>Número Logradouro</th><th>DDD</th><th>Número Telefone</th></tr></thead><tbody><tr><td>1</td><td>Fernanda Lima</td><td>cliente1@exemplo.com</td><td>Rua da Consolação</td><td>2223</td><td>11</td><td>986235795</td></tr><tr><td>2</td><td>Juliana Costa</td><td>cliente2@exemplo.com</td><td>Rua Augusta</td><td>1011</td><td>11</td><td>989591767</td></tr><tr><td>3</td><td>Pedro Santos</td><td>cliente3@exemplo.com</td><td>Rua da Consolação</td><td>2223</td><td>11</td><td>939472587</td></tr><tr><td>4</td><td>Fernanda Lima</td><td>cliente4@exemplo.com</td><td>Rua Augusta</td><td>1011</td><td>11</td><td>993453815</td></tr><tr><td>5</td><td>Lucas Fernandes</td><td>cliente5@exemplo.com</td><td>Rua da Consolação</td><td>2223</td><td>11</td><td>964492610</td></tr><tr><td>6</td><td>Carlos Pereira</td><td>cliente6@exemplo.com</td><td>Rua XV de Novembro</td><td>1415</td><td>11</td><td>949146650</td></tr><tr><td>7</td><td>Juliana Costa</td><td>cliente7@exemplo.com</td><td>Avenida Paulista</td><td>456</td><td>11</td><td>935213943</td></tr><tr><td>8</td><td>Carlos Pereira</td><td>cliente8@exemplo.com</td><td>Avenida Paulista</td><td>456</td><td>11</td><td>919848352</td></tr><tr><td>9</td><td>Ana Souza</td><td>cliente9@exemplo.com</td><td>Avenida Atlântica</td><td>1617</td><td>11</td><td>952406030</td></tr><tr><td>10</td><td>João Silva</td><td>cliente10@exemplo.com</td><td>Avenida Brasil</td><td>1213</td><td>11</td><td>915694953</td></tr></tbody></table></div>"
      ]
     },
     "metadata": {
      "application/vnd.databricks.v1+output": {
       "addedWidgets": {},
       "aggData": [],
       "aggError": "",
       "aggOverflow": false,
       "aggSchema": [],
       "aggSeriesLimitReached": false,
       "aggType": "",
       "arguments": {},
       "columnCustomDisplayInfos": {},
       "data": [
        [
         1,
         "Fernanda Lima",
         "cliente1@exemplo.com",
         "Rua da Consolação",
         2223,
         11,
         986235795
        ],
        [
         2,
         "Juliana Costa",
         "cliente2@exemplo.com",
         "Rua Augusta",
         1011,
         11,
         989591767
        ],
        [
         3,
         "Pedro Santos",
         "cliente3@exemplo.com",
         "Rua da Consolação",
         2223,
         11,
         939472587
        ],
        [
         4,
         "Fernanda Lima",
         "cliente4@exemplo.com",
         "Rua Augusta",
         1011,
         11,
         993453815
        ],
        [
         5,
         "Lucas Fernandes",
         "cliente5@exemplo.com",
         "Rua da Consolação",
         2223,
         11,
         964492610
        ],
        [
         6,
         "Carlos Pereira",
         "cliente6@exemplo.com",
         "Rua XV de Novembro",
         1415,
         11,
         949146650
        ],
        [
         7,
         "Juliana Costa",
         "cliente7@exemplo.com",
         "Avenida Paulista",
         456,
         11,
         935213943
        ],
        [
         8,
         "Carlos Pereira",
         "cliente8@exemplo.com",
         "Avenida Paulista",
         456,
         11,
         919848352
        ],
        [
         9,
         "Ana Souza",
         "cliente9@exemplo.com",
         "Avenida Atlântica",
         1617,
         11,
         952406030
        ],
        [
         10,
         "João Silva",
         "cliente10@exemplo.com",
         "Avenida Brasil",
         1213,
         11,
         915694953
        ]
       ],
       "datasetInfos": [],
       "dbfsResultPath": null,
       "isJsonSchema": true,
       "metadata": {
        "createTempViewForImplicitDf": true,
        "dataframeName": "_sqldf",
        "executionCount": 21
       },
       "overflow": false,
       "plotOptions": {
        "customPlotOptions": {},
        "displayType": "table",
        "pivotAggregation": null,
        "pivotColumns": null,
        "xColumns": null,
        "yColumns": null
       },
       "removedWidgets": [],
       "schema": [
        {
         "metadata": "{}",
         "name": "Número da Conta",
         "type": "\"integer\""
        },
        {
         "metadata": "{}",
         "name": "Nome do Cliente",
         "type": "\"string\""
        },
        {
         "metadata": "{}",
         "name": "Email",
         "type": "\"string\""
        },
        {
         "metadata": "{}",
         "name": "Logradouro",
         "type": "\"string\""
        },
        {
         "metadata": "{}",
         "name": "Número Logradouro",
         "type": "\"integer\""
        },
        {
         "metadata": "{}",
         "name": "DDD",
         "type": "\"integer\""
        },
        {
         "metadata": "{}",
         "name": "Número Telefone",
         "type": "\"integer\""
        }
       ],
       "type": "table"
      }
     },
     "output_type": "display_data"
    }
   ],
   "source": [
    "%sql\n",
    "-- Visualizar a view\n",
    "SELECT * \n",
    "FROM dados_clientes\n",
    "LIMIT 10;"
   ]
  },
  {
   "cell_type": "markdown",
   "metadata": {
    "application/vnd.databricks.v1+cell": {
     "cellMetadata": {},
     "inputWidgets": {},
     "nuid": "9790280a-6687-4608-bf65-f0111f29d2f8",
     "showTitle": false,
     "tableResultSettingsMap": {},
     "title": ""
    }
   },
   "source": [
    "9- Fazendo agregações simples utilizando a view: dados_clientes"
   ]
  },
  {
   "cell_type": "code",
   "execution_count": 0,
   "metadata": {
    "application/vnd.databricks.v1+cell": {
     "cellMetadata": {
      "byteLimit": 2048000,
      "implicitDf": true,
      "rowLimit": 10000
     },
     "inputWidgets": {},
     "nuid": "460fa891-1954-42d8-bd2e-2a934e4e52ae",
     "showTitle": false,
     "tableResultSettingsMap": {},
     "title": ""
    }
   },
   "outputs": [
    {
     "data": {
      "text/html": [
       "<style scoped>\n",
       "  .table-result-container {\n",
       "    max-height: 300px;\n",
       "    overflow: auto;\n",
       "  }\n",
       "  table, th, td {\n",
       "    border: 1px solid black;\n",
       "    border-collapse: collapse;\n",
       "  }\n",
       "  th, td {\n",
       "    padding: 5px;\n",
       "  }\n",
       "  th {\n",
       "    text-align: left;\n",
       "  }\n",
       "</style><div class='table-result-container'><table class='table-result'><thead style='background-color: white'><tr><th>DDD</th><th>Telefone</th><th>Cidade_Regiao_DDD</th></tr></thead><tbody><tr><td>11</td><td>986235795</td><td>Região Metropolitana de São Paulo</td></tr><tr><td>11</td><td>989591767</td><td>Região Metropolitana de São Paulo</td></tr><tr><td>11</td><td>939472587</td><td>Região Metropolitana de São Paulo</td></tr><tr><td>11</td><td>993453815</td><td>Região Metropolitana de São Paulo</td></tr><tr><td>11</td><td>964492610</td><td>Região Metropolitana de São Paulo</td></tr><tr><td>11</td><td>949146650</td><td>Região Metropolitana de São Paulo</td></tr><tr><td>11</td><td>935213943</td><td>Região Metropolitana de São Paulo</td></tr><tr><td>11</td><td>919848352</td><td>Região Metropolitana de São Paulo</td></tr><tr><td>11</td><td>952406030</td><td>Região Metropolitana de São Paulo</td></tr><tr><td>11</td><td>915694953</td><td>Região Metropolitana de São Paulo</td></tr></tbody></table></div>"
      ]
     },
     "metadata": {
      "application/vnd.databricks.v1+output": {
       "addedWidgets": {},
       "aggData": [],
       "aggError": "",
       "aggOverflow": false,
       "aggSchema": [],
       "aggSeriesLimitReached": false,
       "aggType": "",
       "arguments": {},
       "columnCustomDisplayInfos": {},
       "data": [
        [
         11,
         986235795,
         "Região Metropolitana de São Paulo"
        ],
        [
         11,
         989591767,
         "Região Metropolitana de São Paulo"
        ],
        [
         11,
         939472587,
         "Região Metropolitana de São Paulo"
        ],
        [
         11,
         993453815,
         "Região Metropolitana de São Paulo"
        ],
        [
         11,
         964492610,
         "Região Metropolitana de São Paulo"
        ],
        [
         11,
         949146650,
         "Região Metropolitana de São Paulo"
        ],
        [
         11,
         935213943,
         "Região Metropolitana de São Paulo"
        ],
        [
         11,
         919848352,
         "Região Metropolitana de São Paulo"
        ],
        [
         11,
         952406030,
         "Região Metropolitana de São Paulo"
        ],
        [
         11,
         915694953,
         "Região Metropolitana de São Paulo"
        ]
       ],
       "datasetInfos": [],
       "dbfsResultPath": null,
       "isJsonSchema": true,
       "metadata": {
        "createTempViewForImplicitDf": true,
        "dataframeName": "_sqldf",
        "executionCount": 22
       },
       "overflow": false,
       "plotOptions": {
        "customPlotOptions": {},
        "displayType": "table",
        "pivotAggregation": null,
        "pivotColumns": null,
        "xColumns": null,
        "yColumns": null
       },
       "removedWidgets": [],
       "schema": [
        {
         "metadata": "{}",
         "name": "DDD",
         "type": "\"integer\""
        },
        {
         "metadata": "{}",
         "name": "Telefone",
         "type": "\"integer\""
        },
        {
         "metadata": "{}",
         "name": "Cidade_Regiao_DDD",
         "type": "\"string\""
        }
       ],
       "type": "table"
      }
     },
     "output_type": "display_data"
    }
   ],
   "source": [
    "%sql\n",
    "-- DDD, Número do telefone e a Cidade Região de cada um dos DDD \n",
    "SELECT DDD\n",
    ",`Número Telefone` as Telefone\n",
    ",CASE WHEN DDD = 11 THEN 'Região Metropolitana de São Paulo'\n",
    "      WHEN DDD = 12 THEN 'Vale do Paraíba e Litoral Norte'\n",
    "      WHEN DDD = 13 THEN 'Baixada Santista'\n",
    "      WHEN DDD = 14 THEN 'Bauru e região'\n",
    "      WHEN DDD = 15 THEN 'Sorocaba e região'\n",
    "      WHEN DDD = 16 THEN 'Ribeirão Preto e região'\n",
    "      WHEN DDD = 17 THEN 'São José do Rio Preto e região'\n",
    "      WHEN DDD = 18 THEN 'Presidente Prudente e região'\n",
    "      WHEN DDD = 19 THEN 'Campinas e região'\n",
    "    ELSE 'Outro Estado'\n",
    "  END AS `Cidade_Regiao_DDD`\n",
    "FROM dados_clientes\n",
    "LIMIT 10;\n"
   ]
  },
  {
   "cell_type": "code",
   "execution_count": 0,
   "metadata": {
    "application/vnd.databricks.v1+cell": {
     "cellMetadata": {
      "byteLimit": 2048000,
      "implicitDf": true,
      "rowLimit": 10000
     },
     "inputWidgets": {},
     "nuid": "a2f93323-827a-4997-856d-4477e61615a2",
     "showTitle": false,
     "tableResultSettingsMap": {},
     "title": ""
    }
   },
   "outputs": [
    {
     "data": {
      "text/html": [
       "<style scoped>\n",
       "  .table-result-container {\n",
       "    max-height: 300px;\n",
       "    overflow: auto;\n",
       "  }\n",
       "  table, th, td {\n",
       "    border: 1px solid black;\n",
       "    border-collapse: collapse;\n",
       "  }\n",
       "  th, td {\n",
       "    padding: 5px;\n",
       "  }\n",
       "  th {\n",
       "    text-align: left;\n",
       "  }\n",
       "</style><div class='table-result-container'><table class='table-result'><thead style='background-color: white'><tr><th>Número da Conta</th><th>Nome do Cliente</th><th>Email</th><th>Logradouro</th><th>Número Logradouro</th><th>DDD</th><th>Número Telefone</th></tr></thead><tbody><tr><td>2</td><td>Juliana Costa</td><td>cliente2@exemplo.com</td><td>Rua Augusta</td><td>1011</td><td>11</td><td>989591767</td></tr><tr><td>7</td><td>Juliana Costa</td><td>cliente7@exemplo.com</td><td>Avenida Paulista</td><td>456</td><td>11</td><td>935213943</td></tr><tr><td>10</td><td>João Silva</td><td>cliente10@exemplo.com</td><td>Avenida Brasil</td><td>1213</td><td>11</td><td>915694953</td></tr><tr><td>14</td><td>João Silva</td><td>cliente14@exemplo.com</td><td>Avenida Ipiranga</td><td>2021</td><td>11</td><td>937508674</td></tr><tr><td>17</td><td>João Silva</td><td>cliente17@exemplo.com</td><td>Rua das Flores</td><td>123</td><td>11</td><td>999144856</td></tr><tr><td>18</td><td>João Silva</td><td>cliente18@exemplo.com</td><td>Avenida Atlântica</td><td>1617</td><td>11</td><td>967671371</td></tr><tr><td>19</td><td>Juliana Costa</td><td>cliente19@exemplo.com</td><td>Rua XV de Novembro</td><td>1415</td><td>11</td><td>990908621</td></tr><tr><td>25</td><td>Juliana Costa</td><td>cliente25@exemplo.com</td><td>Avenida Atlântica</td><td>1617</td><td>11</td><td>960019926</td></tr><tr><td>31</td><td>Juliana Costa</td><td>cliente31@exemplo.com</td><td>Avenida Paulista</td><td>456</td><td>11</td><td>932425096</td></tr><tr><td>36</td><td>João Silva</td><td>cliente36@exemplo.com</td><td>Rua das Flores</td><td>123</td><td>11</td><td>975703918</td></tr></tbody></table></div>"
      ]
     },
     "metadata": {
      "application/vnd.databricks.v1+output": {
       "addedWidgets": {},
       "aggData": [],
       "aggError": "",
       "aggOverflow": false,
       "aggSchema": [],
       "aggSeriesLimitReached": false,
       "aggType": "",
       "arguments": {},
       "columnCustomDisplayInfos": {},
       "data": [
        [
         2,
         "Juliana Costa",
         "cliente2@exemplo.com",
         "Rua Augusta",
         1011,
         11,
         989591767
        ],
        [
         7,
         "Juliana Costa",
         "cliente7@exemplo.com",
         "Avenida Paulista",
         456,
         11,
         935213943
        ],
        [
         10,
         "João Silva",
         "cliente10@exemplo.com",
         "Avenida Brasil",
         1213,
         11,
         915694953
        ],
        [
         14,
         "João Silva",
         "cliente14@exemplo.com",
         "Avenida Ipiranga",
         2021,
         11,
         937508674
        ],
        [
         17,
         "João Silva",
         "cliente17@exemplo.com",
         "Rua das Flores",
         123,
         11,
         999144856
        ],
        [
         18,
         "João Silva",
         "cliente18@exemplo.com",
         "Avenida Atlântica",
         1617,
         11,
         967671371
        ],
        [
         19,
         "Juliana Costa",
         "cliente19@exemplo.com",
         "Rua XV de Novembro",
         1415,
         11,
         990908621
        ],
        [
         25,
         "Juliana Costa",
         "cliente25@exemplo.com",
         "Avenida Atlântica",
         1617,
         11,
         960019926
        ],
        [
         31,
         "Juliana Costa",
         "cliente31@exemplo.com",
         "Avenida Paulista",
         456,
         11,
         932425096
        ],
        [
         36,
         "João Silva",
         "cliente36@exemplo.com",
         "Rua das Flores",
         123,
         11,
         975703918
        ]
       ],
       "datasetInfos": [],
       "dbfsResultPath": null,
       "isJsonSchema": true,
       "metadata": {
        "createTempViewForImplicitDf": true,
        "dataframeName": "_sqldf",
        "executionCount": 23
       },
       "overflow": false,
       "plotOptions": {
        "customPlotOptions": {},
        "displayType": "table",
        "pivotAggregation": null,
        "pivotColumns": null,
        "xColumns": null,
        "yColumns": null
       },
       "removedWidgets": [],
       "schema": [
        {
         "metadata": "{}",
         "name": "Número da Conta",
         "type": "\"integer\""
        },
        {
         "metadata": "{}",
         "name": "Nome do Cliente",
         "type": "\"string\""
        },
        {
         "metadata": "{}",
         "name": "Email",
         "type": "\"string\""
        },
        {
         "metadata": "{}",
         "name": "Logradouro",
         "type": "\"string\""
        },
        {
         "metadata": "{}",
         "name": "Número Logradouro",
         "type": "\"integer\""
        },
        {
         "metadata": "{}",
         "name": "DDD",
         "type": "\"integer\""
        },
        {
         "metadata": "{}",
         "name": "Número Telefone",
         "type": "\"integer\""
        }
       ],
       "type": "table"
      }
     },
     "output_type": "display_data"
    }
   ],
   "source": [
    "%sql\n",
    "-- Retornar os dados dos clientes que começam com a letra 'J'\n",
    "SELECT *\n",
    "FROM dados_clientes\n",
    "WHERE `Nome do Cliente` LIKE 'J%' \n",
    "LIMIT 10;"
   ]
  },
  {
   "cell_type": "code",
   "execution_count": 0,
   "metadata": {
    "application/vnd.databricks.v1+cell": {
     "cellMetadata": {
      "byteLimit": 2048000,
      "implicitDf": true,
      "rowLimit": 10000
     },
     "inputWidgets": {},
     "nuid": "7eb36e70-2a86-4dc2-87b4-4cdbec4fca1d",
     "showTitle": false,
     "tableResultSettingsMap": {},
     "title": ""
    }
   },
   "outputs": [
    {
     "data": {
      "text/html": [
       "<style scoped>\n",
       "  .table-result-container {\n",
       "    max-height: 300px;\n",
       "    overflow: auto;\n",
       "  }\n",
       "  table, th, td {\n",
       "    border: 1px solid black;\n",
       "    border-collapse: collapse;\n",
       "  }\n",
       "  th, td {\n",
       "    padding: 5px;\n",
       "  }\n",
       "  th {\n",
       "    text-align: left;\n",
       "  }\n",
       "</style><div class='table-result-container'><table class='table-result'><thead style='background-color: white'><tr><th>DDD</th><th>Qtde_Clientes</th></tr></thead><tbody><tr><td>11</td><td>1001</td></tr></tbody></table></div>"
      ]
     },
     "metadata": {
      "application/vnd.databricks.v1+output": {
       "addedWidgets": {},
       "aggData": [],
       "aggError": "",
       "aggOverflow": false,
       "aggSchema": [],
       "aggSeriesLimitReached": false,
       "aggType": "",
       "arguments": {},
       "columnCustomDisplayInfos": {},
       "data": [
        [
         11,
         1001
        ]
       ],
       "datasetInfos": [],
       "dbfsResultPath": null,
       "isJsonSchema": true,
       "metadata": {
        "createTempViewForImplicitDf": true,
        "dataframeName": "_sqldf",
        "executionCount": 24
       },
       "overflow": false,
       "plotOptions": {
        "customPlotOptions": {},
        "displayType": "table",
        "pivotAggregation": null,
        "pivotColumns": null,
        "xColumns": null,
        "yColumns": null
       },
       "removedWidgets": [],
       "schema": [
        {
         "metadata": "{}",
         "name": "DDD",
         "type": "\"integer\""
        },
        {
         "metadata": "{}",
         "name": "Qtde_Clientes",
         "type": "\"long\""
        }
       ],
       "type": "table"
      }
     },
     "output_type": "display_data"
    }
   ],
   "source": [
    "%sql\n",
    "-- Agregação por DDD\n",
    "SELECT DDD\n",
    ",COUNT(`Nome do cliente`) as Qtde_Clientes\n",
    "FROM dados_clientes\n",
    "GROUP BY DDD;\n"
   ]
  }
 ],
 "metadata": {
  "application/vnd.databricks.v1+notebook": {
   "computePreferences": null,
   "dashboards": [],
   "environmentMetadata": {
    "base_environment": "",
    "environment_version": "1"
   },
   "inputWidgetPreferences": null,
   "language": "python",
   "notebookMetadata": {
    "mostRecentlyExecutedCommandWithImplicitDF": {
     "commandId": 4398838580628429,
     "dataframes": [
      "_sqldf"
     ]
    },
    "pythonIndentUnit": 4
   },
   "notebookName": "pt2-ingestao_dados_csv-costumer",
   "widgets": {}
  },
  "kernelspec": {
   "display_name": "Python 3",
   "language": "python",
   "name": "python3"
  },
  "language_info": {
   "name": "python",
   "version": "3.11.9"
  }
 },
 "nbformat": 4,
 "nbformat_minor": 0
}
