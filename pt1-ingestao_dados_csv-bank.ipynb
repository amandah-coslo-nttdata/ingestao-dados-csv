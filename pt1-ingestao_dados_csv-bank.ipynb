{
 "cells": [
  {
   "cell_type": "markdown",
   "metadata": {
    "application/vnd.databricks.v1+cell": {
     "cellMetadata": {},
     "inputWidgets": {},
     "nuid": "080734e3-c534-452f-aca7-17c31611cb36",
     "showTitle": false,
     "tableResultSettingsMap": {},
     "title": ""
    }
   },
   "source": [
    "1- Importar bibliotecas"
   ]
  },
  {
   "cell_type": "code",
   "execution_count": 0,
   "metadata": {
    "application/vnd.databricks.v1+cell": {
     "cellMetadata": {
      "byteLimit": 2048000,
      "rowLimit": 10000
     },
     "inputWidgets": {},
     "nuid": "dc4e7539-3370-498d-ba80-48be5a45de88",
     "showTitle": false,
     "tableResultSettingsMap": {},
     "title": ""
    }
   },
   "outputs": [],
   "source": [
    "from pyspark.sql import SparkSession\n",
    "from pyspark.sql.types import * #StructType, StructField, StringType\n",
    "from pyspark.sql.functions import *\n",
    "from pyspark.sql import functions as F\n",
    "import pandas as pd\n",
    "from pandas import DataFrame\n",
    "import os"
   ]
  },
  {
   "cell_type": "markdown",
   "metadata": {
    "application/vnd.databricks.v1+cell": {
     "cellMetadata": {},
     "inputWidgets": {},
     "nuid": "dc0561cb-969d-48f6-9f46-9e808ee6dbf4",
     "showTitle": false,
     "tableResultSettingsMap": {},
     "title": ""
    }
   },
   "source": [
    "2- Ler arquivo .csv"
   ]
  },
  {
   "cell_type": "code",
   "execution_count": 0,
   "metadata": {
    "application/vnd.databricks.v1+cell": {
     "cellMetadata": {
      "byteLimit": 2048000,
      "rowLimit": 10000
     },
     "inputWidgets": {},
     "nuid": "e50d720b-d1dd-4f3b-b0cb-b264713017a1",
     "showTitle": false,
     "tableResultSettingsMap": {},
     "title": ""
    }
   },
   "outputs": [
    {
     "data": {
      "text/html": [
       "<style scoped>\n",
       "  .table-result-container {\n",
       "    max-height: 300px;\n",
       "    overflow: auto;\n",
       "  }\n",
       "  table, th, td {\n",
       "    border: 1px solid black;\n",
       "    border-collapse: collapse;\n",
       "  }\n",
       "  th, td {\n",
       "    padding: 5px;\n",
       "  }\n",
       "  th {\n",
       "    text-align: left;\n",
       "  }\n",
       "</style><div class='table-result-container'><table class='table-result'><thead style='background-color: white'><tr><th>_c0</th></tr></thead><tbody><tr><td>Número da Conta;Tipo de Conta;Saldo;Moeda;Data da Última Movimentação</td></tr><tr><td>1;Corrente;8649.73;BRL;27/11/2024</td></tr><tr><td>2;Corrente;4307.05;BRL;10/06/2024</td></tr><tr><td>3;Corrente;8321.04;BRL;04/05/2024</td></tr><tr><td>4;Corrente;1474.27;BRL;18/08/2024</td></tr><tr><td>5;Corrente;4028.64;BRL;08/08/2024</td></tr><tr><td>6;Poupança;4964.52;BRL;05/02/2025</td></tr><tr><td>7;Poupança;733.73;BRL;13/06/2024</td></tr><tr><td>8;Corrente;8903.7;BRL;28/06/2024</td></tr><tr><td>9;Poupança;655.1;BRL;02/09/2024</td></tr></tbody></table></div>"
      ]
     },
     "metadata": {
      "application/vnd.databricks.v1+output": {
       "addedWidgets": {},
       "aggData": [],
       "aggError": "",
       "aggOverflow": false,
       "aggSchema": [],
       "aggSeriesLimitReached": false,
       "aggType": "",
       "arguments": {},
       "columnCustomDisplayInfos": {},
       "data": [
        [
         "Número da Conta;Tipo de Conta;Saldo;Moeda;Data da Última Movimentação"
        ],
        [
         "1;Corrente;8649.73;BRL;27/11/2024"
        ],
        [
         "2;Corrente;4307.05;BRL;10/06/2024"
        ],
        [
         "3;Corrente;8321.04;BRL;04/05/2024"
        ],
        [
         "4;Corrente;1474.27;BRL;18/08/2024"
        ],
        [
         "5;Corrente;4028.64;BRL;08/08/2024"
        ],
        [
         "6;Poupança;4964.52;BRL;05/02/2025"
        ],
        [
         "7;Poupança;733.73;BRL;13/06/2024"
        ],
        [
         "8;Corrente;8903.7;BRL;28/06/2024"
        ],
        [
         "9;Poupança;655.1;BRL;02/09/2024"
        ]
       ],
       "datasetInfos": [],
       "dbfsResultPath": null,
       "isJsonSchema": true,
       "metadata": {},
       "overflow": false,
       "plotOptions": {
        "customPlotOptions": {},
        "displayType": "table",
        "pivotAggregation": null,
        "pivotColumns": null,
        "xColumns": null,
        "yColumns": null
       },
       "removedWidgets": [],
       "schema": [
        {
         "metadata": "{}",
         "name": "_c0",
         "type": "\"string\""
        }
       ],
       "type": "table"
      }
     },
     "output_type": "display_data"
    }
   ],
   "source": [
    "%python\n",
    "file_path = \"/FileStore/tables/dados_bancarios.csv\"\n",
    "\n",
    "df_bank = spark.read.csv(file_path)\n",
    "df_bank_limited = df_bank.limit(10)\n",
    "display(df_bank_limited)"
   ]
  },
  {
   "cell_type": "markdown",
   "metadata": {
    "application/vnd.databricks.v1+cell": {
     "cellMetadata": {},
     "inputWidgets": {},
     "nuid": "363b35ef-d35e-45cc-b3f3-e1d67157819e",
     "showTitle": false,
     "tableResultSettingsMap": {},
     "title": ""
    }
   },
   "source": [
    "3- Estruturar o arquivo .csv definindo as colunas do df (nome, tipo, se pode ou não nulo)"
   ]
  },
  {
   "cell_type": "code",
   "execution_count": 0,
   "metadata": {
    "application/vnd.databricks.v1+cell": {
     "cellMetadata": {
      "byteLimit": 2048000,
      "rowLimit": 10000
     },
     "inputWidgets": {},
     "nuid": "f6080e7a-a86a-4689-bb59-7780a70f5f28",
     "showTitle": false,
     "tableResultSettingsMap": {},
     "title": ""
    }
   },
   "outputs": [
    {
     "name": "stdout",
     "output_type": "stream",
     "text": [
      "+---------------+-------------+-------+-----+---------------------------+\n",
      "|Número da Conta|Tipo de Conta|  Saldo|Moeda|Data da Última Movimentação|\n",
      "+---------------+-------------+-------+-----+---------------------------+\n",
      "|              1|     Corrente|8649.73|  BRL|                 2024-11-27|\n",
      "|              2|     Corrente|4307.05|  BRL|                 2024-06-10|\n",
      "|              3|     Corrente|8321.04|  BRL|                 2024-05-04|\n",
      "|              4|     Corrente|1474.27|  BRL|                 2024-08-18|\n",
      "|              5|     Corrente|4028.64|  BRL|                 2024-08-08|\n",
      "|              6|     Poupança|4964.52|  BRL|                 2025-02-05|\n",
      "|              7|     Poupança| 733.73|  BRL|                 2024-06-13|\n",
      "|              8|     Corrente| 8903.7|  BRL|                 2024-06-28|\n",
      "|              9|     Poupança|  655.1|  BRL|                 2024-09-02|\n",
      "|             10|     Corrente|9430.55|  BRL|                 2024-08-03|\n",
      "+---------------+-------------+-------+-----+---------------------------+\n",
      "only showing top 10 rows\n",
      "\n"
     ]
    }
   ],
   "source": [
    "%python\n",
    "file_schema = StructType([\n",
    "    StructField(('Número da Conta'), IntegerType(), False)\n",
    "    ,StructField(('Tipo de Conta'), StringType(), False)\n",
    "    ,StructField(('Saldo'), FloatType(), False)\n",
    "    ,StructField(('Moeda'), StringType(), False)\n",
    "    ,StructField(('Data da Última Movimentação'), DateType(), False)\n",
    "])\n",
    "\n",
    "df_bank = spark.read.format(\"csv\")\\\n",
    "    .option(\"inferSchema\", \"true\") \\\n",
    "    .option(\"schema\", file_schema) \\\n",
    "    .option(\"header\", \"true\") \\\n",
    "    .option(\"sep\", \";\") \\\n",
    "    .option(\"encoding\", \"utf-8\") \\\n",
    "    .load(file_path)\n",
    "\n",
    "df_bank.show(10)"
   ]
  },
  {
   "cell_type": "code",
   "execution_count": 0,
   "metadata": {
    "application/vnd.databricks.v1+cell": {
     "cellMetadata": {
      "byteLimit": 2048000,
      "rowLimit": 10000
     },
     "inputWidgets": {},
     "nuid": "bc4501f8-beda-4a8a-ab4d-d7d51f074c39",
     "showTitle": false,
     "tableResultSettingsMap": {},
     "title": ""
    }
   },
   "outputs": [
    {
     "name": "stdout",
     "output_type": "stream",
     "text": [
      "root\n",
      " |-- Número da Conta: integer (nullable = true)\n",
      " |-- Tipo de Conta: string (nullable = true)\n",
      " |-- Saldo: double (nullable = true)\n",
      " |-- Moeda: string (nullable = true)\n",
      " |-- Data da Última Movimentação: date (nullable = true)\n",
      "\n"
     ]
    }
   ],
   "source": [
    "# Visualizar como está a estrutura de cada coluna\n",
    "df_bank.printSchema()"
   ]
  },
  {
   "cell_type": "code",
   "execution_count": 0,
   "metadata": {
    "application/vnd.databricks.v1+cell": {
     "cellMetadata": {
      "byteLimit": 2048000,
      "rowLimit": 10000
     },
     "inputWidgets": {},
     "nuid": "48207f61-6461-4ee8-b133-8408d681d031",
     "showTitle": false,
     "tableResultSettingsMap": {},
     "title": ""
    }
   },
   "outputs": [
    {
     "name": "stdout",
     "output_type": "stream",
     "text": [
      "Number of rows: 1001\n",
      "Row: [Row(Número da Conta=1, Tipo de Conta='Corrente', Saldo=8649.73, Moeda='BRL', Data da Última Movimentação=datetime.date(2024, 11, 27))]\n",
      "\n",
      "Number of columns: 5\n",
      "Columns: ['Número da Conta', 'Tipo de Conta', 'Saldo', 'Moeda', 'Data da Última Movimentação']\n"
     ]
    }
   ],
   "source": [
    "# Quantidade de linhas no dataframe\n",
    "number_rows = df_bank.count()\n",
    "\n",
    "# Quantidade de colunas no dataframe\n",
    "# dtypes = info\n",
    "number_columns = len(df_bank.dtypes)\n",
    "\n",
    "print(f'Number of rows: {number_rows}')\n",
    "print(f'Row: {df_bank.head(1)}\\n')\n",
    "print(f'Number of columns: {number_columns}')\n",
    "print(f'Columns: {df_bank.columns}')"
   ]
  },
  {
   "cell_type": "markdown",
   "metadata": {
    "application/vnd.databricks.v1+cell": {
     "cellMetadata": {},
     "inputWidgets": {},
     "nuid": "96400ad8-79c2-4438-903e-3e9faca4a833",
     "showTitle": false,
     "tableResultSettingsMap": {},
     "title": ""
    }
   },
   "source": [
    "4- Filtros e agregações no dataframe"
   ]
  },
  {
   "cell_type": "code",
   "execution_count": 0,
   "metadata": {
    "application/vnd.databricks.v1+cell": {
     "cellMetadata": {
      "byteLimit": 2048000,
      "rowLimit": 10000
     },
     "inputWidgets": {},
     "nuid": "5b461aa0-79c6-498f-9f6a-9b6143effb85",
     "showTitle": false,
     "tableResultSettingsMap": {},
     "title": ""
    }
   },
   "outputs": [
    {
     "name": "stdout",
     "output_type": "stream",
     "text": [
      "+-------------+-----------+\n",
      "|Tipo de Conta|Saldo_Total|\n",
      "+-------------+-----------+\n",
      "|     Corrente| 2676887.22|\n",
      "|     Poupança| 2484726.01|\n",
      "+-------------+-----------+\n",
      "\n"
     ]
    }
   ],
   "source": [
    "# Saldo total de cada tipo de conta\n",
    "agregacao_saldo_bank = df_bank.groupBy(F.col('Tipo de Conta')).agg(F.round(F.sum(F.col('Saldo')),2).alias('Saldo_Total'))\n",
    "agregacao_saldo_bank.show() "
   ]
  },
  {
   "cell_type": "code",
   "execution_count": 0,
   "metadata": {
    "application/vnd.databricks.v1+cell": {
     "cellMetadata": {
      "byteLimit": 2048000,
      "rowLimit": 10000
     },
     "inputWidgets": {},
     "nuid": "9914aeb3-f2e4-4961-a0fa-17d99066ec50",
     "showTitle": false,
     "tableResultSettingsMap": {},
     "title": ""
    }
   },
   "outputs": [
    {
     "name": "stdout",
     "output_type": "stream",
     "text": [
      "+---------------+-------------+-------+-----+---------------------------+\n",
      "|Número da Conta|Tipo de Conta|  Saldo|Moeda|Data da Última Movimentação|\n",
      "+---------------+-------------+-------+-----+---------------------------+\n",
      "|              6|     Poupança|4964.52|  BRL|                 2025-02-05|\n",
      "|             13|     Corrente|8469.22|  BRL|                 2025-02-25|\n",
      "|             14|     Poupança|4490.05|  BRL|                 2025-01-10|\n",
      "|             21|     Poupança|8365.89|  BRL|                 2024-04-08|\n",
      "|             22|     Poupança|7236.73|  BRL|                 2024-04-22|\n",
      "|             26|     Poupança|3842.04|  BRL|                 2025-03-13|\n",
      "|             31|     Poupança|7089.74|  BRL|                 2024-04-18|\n",
      "|             32|     Poupança| 1883.9|  BRL|                 2025-01-05|\n",
      "|             35|     Poupança|1685.81|  BRL|                 2024-04-29|\n",
      "|             37|     Poupança|3868.67|  BRL|                 2024-04-03|\n",
      "+---------------+-------------+-------+-----+---------------------------+\n",
      "only showing top 10 rows\n",
      "\n"
     ]
    }
   ],
   "source": [
    "# Quantidade de contas com a última movimentação entre os meses de janeiro e abril\n",
    "filtrar_bank_mes = df_bank.filter(F.month(F.col('Data da Última Movimentação')).between(1,4))\n",
    "filtrar_bank_mes.show(10)"
   ]
  },
  {
   "cell_type": "markdown",
   "metadata": {
    "application/vnd.databricks.v1+cell": {
     "cellMetadata": {},
     "inputWidgets": {},
     "nuid": "7e5e6bdd-7726-4cfe-94e3-b48f98dec87c",
     "showTitle": false,
     "tableResultSettingsMap": {},
     "title": ""
    }
   },
   "source": [
    "5- Salvar em formato parquet"
   ]
  },
  {
   "cell_type": "code",
   "execution_count": 0,
   "metadata": {
    "application/vnd.databricks.v1+cell": {
     "cellMetadata": {
      "byteLimit": 2048000,
      "rowLimit": 10000
     },
     "inputWidgets": {},
     "nuid": "6d109329-ed12-49a4-9e52-32ddc36ece5d",
     "showTitle": false,
     "tableResultSettingsMap": {},
     "title": ""
    }
   },
   "outputs": [],
   "source": [
    "df_bank.write.parquet('/path/to/save/df_file_bank.parquet')"
   ]
  },
  {
   "cell_type": "markdown",
   "metadata": {
    "application/vnd.databricks.v1+cell": {
     "cellMetadata": {},
     "inputWidgets": {},
     "nuid": "3cd14ca7-1bd1-407b-ba73-7a25a571b147",
     "showTitle": false,
     "tableResultSettingsMap": {},
     "title": ""
    }
   },
   "source": [
    "6- Visualizar o dataframe em uma view (SQL)"
   ]
  },
  {
   "cell_type": "code",
   "execution_count": 0,
   "metadata": {
    "application/vnd.databricks.v1+cell": {
     "cellMetadata": {
      "byteLimit": 2048000,
      "rowLimit": 10000
     },
     "inputWidgets": {},
     "nuid": "53ab19fd-77e4-4278-9d2b-0cdd0e6d4644",
     "showTitle": false,
     "tableResultSettingsMap": {},
     "title": ""
    }
   },
   "outputs": [],
   "source": [
    "df_bank.createOrReplaceTempView(\"dados_bancarios\")"
   ]
  },
  {
   "cell_type": "code",
   "execution_count": 0,
   "metadata": {
    "application/vnd.databricks.v1+cell": {
     "cellMetadata": {
      "byteLimit": 2048000,
      "implicitDf": true,
      "rowLimit": 10000
     },
     "inputWidgets": {},
     "nuid": "661ee09f-0e20-47ba-9ff6-25edd9f5ddcb",
     "showTitle": false,
     "tableResultSettingsMap": {},
     "title": ""
    }
   },
   "outputs": [
    {
     "data": {
      "text/html": [
       "<style scoped>\n",
       "  .table-result-container {\n",
       "    max-height: 300px;\n",
       "    overflow: auto;\n",
       "  }\n",
       "  table, th, td {\n",
       "    border: 1px solid black;\n",
       "    border-collapse: collapse;\n",
       "  }\n",
       "  th, td {\n",
       "    padding: 5px;\n",
       "  }\n",
       "  th {\n",
       "    text-align: left;\n",
       "  }\n",
       "</style><div class='table-result-container'><table class='table-result'><thead style='background-color: white'><tr><th>Número da Conta</th><th>Tipo de Conta</th><th>Saldo</th><th>Moeda</th><th>Data da Última Movimentação</th></tr></thead><tbody><tr><td>1</td><td>Corrente</td><td>8649.73</td><td>BRL</td><td>2024-11-27</td></tr><tr><td>2</td><td>Corrente</td><td>4307.05</td><td>BRL</td><td>2024-06-10</td></tr><tr><td>3</td><td>Corrente</td><td>8321.04</td><td>BRL</td><td>2024-05-04</td></tr><tr><td>4</td><td>Corrente</td><td>1474.27</td><td>BRL</td><td>2024-08-18</td></tr><tr><td>5</td><td>Corrente</td><td>4028.64</td><td>BRL</td><td>2024-08-08</td></tr><tr><td>6</td><td>Poupança</td><td>4964.52</td><td>BRL</td><td>2025-02-05</td></tr><tr><td>7</td><td>Poupança</td><td>733.73</td><td>BRL</td><td>2024-06-13</td></tr><tr><td>8</td><td>Corrente</td><td>8903.7</td><td>BRL</td><td>2024-06-28</td></tr><tr><td>9</td><td>Poupança</td><td>655.1</td><td>BRL</td><td>2024-09-02</td></tr><tr><td>10</td><td>Corrente</td><td>9430.55</td><td>BRL</td><td>2024-08-03</td></tr></tbody></table></div>"
      ]
     },
     "metadata": {
      "application/vnd.databricks.v1+output": {
       "addedWidgets": {},
       "aggData": [],
       "aggError": "",
       "aggOverflow": false,
       "aggSchema": [],
       "aggSeriesLimitReached": false,
       "aggType": "",
       "arguments": {},
       "columnCustomDisplayInfos": {},
       "data": [
        [
         1,
         "Corrente",
         8649.73,
         "BRL",
         "2024-11-27"
        ],
        [
         2,
         "Corrente",
         4307.05,
         "BRL",
         "2024-06-10"
        ],
        [
         3,
         "Corrente",
         8321.04,
         "BRL",
         "2024-05-04"
        ],
        [
         4,
         "Corrente",
         1474.27,
         "BRL",
         "2024-08-18"
        ],
        [
         5,
         "Corrente",
         4028.64,
         "BRL",
         "2024-08-08"
        ],
        [
         6,
         "Poupança",
         4964.52,
         "BRL",
         "2025-02-05"
        ],
        [
         7,
         "Poupança",
         733.73,
         "BRL",
         "2024-06-13"
        ],
        [
         8,
         "Corrente",
         8903.7,
         "BRL",
         "2024-06-28"
        ],
        [
         9,
         "Poupança",
         655.1,
         "BRL",
         "2024-09-02"
        ],
        [
         10,
         "Corrente",
         9430.55,
         "BRL",
         "2024-08-03"
        ]
       ],
       "datasetInfos": [],
       "dbfsResultPath": null,
       "isJsonSchema": true,
       "metadata": {
        "createTempViewForImplicitDf": true,
        "dataframeName": "_sqldf",
        "executionCount": 30
       },
       "overflow": false,
       "plotOptions": {
        "customPlotOptions": {},
        "displayType": "table",
        "pivotAggregation": null,
        "pivotColumns": null,
        "xColumns": null,
        "yColumns": null
       },
       "removedWidgets": [],
       "schema": [
        {
         "metadata": "{}",
         "name": "Número da Conta",
         "type": "\"integer\""
        },
        {
         "metadata": "{}",
         "name": "Tipo de Conta",
         "type": "\"string\""
        },
        {
         "metadata": "{}",
         "name": "Saldo",
         "type": "\"double\""
        },
        {
         "metadata": "{}",
         "name": "Moeda",
         "type": "\"string\""
        },
        {
         "metadata": "{\"__detected_date_formats\":\"d/M/yyyy\"}",
         "name": "Data da Última Movimentação",
         "type": "\"date\""
        }
       ],
       "type": "table"
      }
     },
     "output_type": "display_data"
    }
   ],
   "source": [
    "%sql\n",
    "-- Visualizar a view\n",
    "SELECT * \n",
    "FROM dados_bancarios\n",
    "LIMIT 10;"
   ]
  },
  {
   "cell_type": "markdown",
   "metadata": {
    "application/vnd.databricks.v1+cell": {
     "cellMetadata": {},
     "inputWidgets": {},
     "nuid": "be8d2c62-45cb-442d-a1be-bdee6622d816",
     "showTitle": false,
     "tableResultSettingsMap": {},
     "title": ""
    }
   },
   "source": [
    "7- Fazendo agregações simples utilizando a view: dados_bancarios"
   ]
  },
  {
   "cell_type": "code",
   "execution_count": 0,
   "metadata": {
    "application/vnd.databricks.v1+cell": {
     "cellMetadata": {
      "byteLimit": 2048000,
      "implicitDf": true,
      "rowLimit": 10000
     },
     "inputWidgets": {},
     "nuid": "408b20e3-11a9-4af8-a730-65a3b292898e",
     "showTitle": false,
     "tableResultSettingsMap": {},
     "title": ""
    }
   },
   "outputs": [
    {
     "data": {
      "text/html": [
       "<style scoped>\n",
       "  .table-result-container {\n",
       "    max-height: 300px;\n",
       "    overflow: auto;\n",
       "  }\n",
       "  table, th, td {\n",
       "    border: 1px solid black;\n",
       "    border-collapse: collapse;\n",
       "  }\n",
       "  th, td {\n",
       "    padding: 5px;\n",
       "  }\n",
       "  th {\n",
       "    text-align: left;\n",
       "  }\n",
       "</style><div class='table-result-container'><table class='table-result'><thead style='background-color: white'><tr><th>Tipo_Conta</th><th>Saldo_Total</th></tr></thead><tbody><tr><td>Corrente</td><td>2676887.22</td></tr><tr><td>Poupança</td><td>2484726.01</td></tr></tbody></table></div>"
      ]
     },
     "metadata": {
      "application/vnd.databricks.v1+output": {
       "addedWidgets": {},
       "aggData": [],
       "aggError": "",
       "aggOverflow": false,
       "aggSchema": [],
       "aggSeriesLimitReached": false,
       "aggType": "",
       "arguments": {},
       "columnCustomDisplayInfos": {},
       "data": [
        [
         "Corrente",
         2676887.22
        ],
        [
         "Poupança",
         2484726.01
        ]
       ],
       "datasetInfos": [],
       "dbfsResultPath": null,
       "isJsonSchema": true,
       "metadata": {
        "createTempViewForImplicitDf": true,
        "dataframeName": "_sqldf",
        "executionCount": 31
       },
       "overflow": false,
       "plotOptions": {
        "customPlotOptions": {},
        "displayType": "table",
        "pivotAggregation": null,
        "pivotColumns": null,
        "xColumns": null,
        "yColumns": null
       },
       "removedWidgets": [],
       "schema": [
        {
         "metadata": "{}",
         "name": "Tipo_Conta",
         "type": "\"string\""
        },
        {
         "metadata": "{}",
         "name": "Saldo_Total",
         "type": "\"double\""
        }
       ],
       "type": "table"
      }
     },
     "output_type": "display_data"
    }
   ],
   "source": [
    "%sql\n",
    "-- Saldo total de cada tipo de conta\n",
    "SELECT `Tipo de Conta` as Tipo_Conta\n",
    ",ROUND(SUM(Saldo),2) as Saldo_Total\n",
    "FROM dados_bancarios\n",
    "GROUP BY `Tipo de Conta`;"
   ]
  },
  {
   "cell_type": "code",
   "execution_count": 0,
   "metadata": {
    "application/vnd.databricks.v1+cell": {
     "cellMetadata": {
      "byteLimit": 2048000,
      "implicitDf": true,
      "rowLimit": 10000
     },
     "inputWidgets": {},
     "nuid": "085bbbb8-3c9e-4075-bf5e-25aede6f1385",
     "showTitle": false,
     "tableResultSettingsMap": {},
     "title": ""
    }
   },
   "outputs": [
    {
     "data": {
      "text/html": [
       "<style scoped>\n",
       "  .table-result-container {\n",
       "    max-height: 300px;\n",
       "    overflow: auto;\n",
       "  }\n",
       "  table, th, td {\n",
       "    border: 1px solid black;\n",
       "    border-collapse: collapse;\n",
       "  }\n",
       "  th, td {\n",
       "    padding: 5px;\n",
       "  }\n",
       "  th {\n",
       "    text-align: left;\n",
       "  }\n",
       "</style><div class='table-result-container'><table class='table-result'><thead style='background-color: white'><tr><th>Qtde_Conta</th></tr></thead><tbody><tr><td>340</td></tr></tbody></table></div>"
      ]
     },
     "metadata": {
      "application/vnd.databricks.v1+output": {
       "addedWidgets": {},
       "aggData": [],
       "aggError": "",
       "aggOverflow": false,
       "aggSchema": [],
       "aggSeriesLimitReached": false,
       "aggType": "",
       "arguments": {},
       "columnCustomDisplayInfos": {},
       "data": [
        [
         340
        ]
       ],
       "datasetInfos": [],
       "dbfsResultPath": null,
       "isJsonSchema": true,
       "metadata": {
        "createTempViewForImplicitDf": true,
        "dataframeName": "_sqldf",
        "executionCount": 32
       },
       "overflow": false,
       "plotOptions": {
        "customPlotOptions": {},
        "displayType": "table",
        "pivotAggregation": null,
        "pivotColumns": null,
        "xColumns": null,
        "yColumns": null
       },
       "removedWidgets": [],
       "schema": [
        {
         "metadata": "{}",
         "name": "Qtde_Conta",
         "type": "\"long\""
        }
       ],
       "type": "table"
      }
     },
     "output_type": "display_data"
    }
   ],
   "source": [
    "%sql\n",
    "-- Quantidade de contas com a última movimentação entre os meses de janeiro e abril\n",
    "SELECT COUNT(`Número da Conta`) as Qtde_Conta\n",
    "FROM dados_bancarios\n",
    "WHERE MONTH(`Data da Última Movimentação`) BETWEEN 01 AND 04"
   ]
  }
 ],
 "metadata": {
  "application/vnd.databricks.v1+notebook": {
   "computePreferences": null,
   "dashboards": [],
   "environmentMetadata": {
    "base_environment": "",
    "environment_version": "1"
   },
   "inputWidgetPreferences": null,
   "language": "python",
   "notebookMetadata": {
    "mostRecentlyExecutedCommandWithImplicitDF": {
     "commandId": 4398838580628367,
     "dataframes": [
      "_sqldf"
     ]
    },
    "pythonIndentUnit": 4
   },
   "notebookName": "pt1-ingestao_dados_csv-bank",
   "widgets": {}
  },
  "language_info": {
   "name": "python"
  }
 },
 "nbformat": 4,
 "nbformat_minor": 0
}
