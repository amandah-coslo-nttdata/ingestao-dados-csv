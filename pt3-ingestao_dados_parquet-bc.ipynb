{
 "cells": [
  {
   "cell_type": "markdown",
   "metadata": {
    "application/vnd.databricks.v1+cell": {
     "cellMetadata": {},
     "inputWidgets": {},
     "nuid": "873023a0-e23f-4485-9383-ef5d6dc19fd4",
     "showTitle": false,
     "tableResultSettingsMap": {},
     "title": ""
    }
   },
   "source": [
    "1- Importar bibliotecas"
   ]
  },
  {
   "cell_type": "code",
   "execution_count": 0,
   "metadata": {
    "application/vnd.databricks.v1+cell": {
     "cellMetadata": {
      "byteLimit": 2048000,
      "rowLimit": 10000
     },
     "inputWidgets": {},
     "nuid": "e966e626-11f7-472d-a72b-8e0ce75cb815",
     "showTitle": false,
     "tableResultSettingsMap": {},
     "title": ""
    }
   },
   "outputs": [],
   "source": [
    "from pyspark.sql import SparkSession\n",
    "from pyspark.sql.functions import *\n",
    "from pyspark.sql import functions as F"
   ]
  },
  {
   "cell_type": "markdown",
   "metadata": {
    "application/vnd.databricks.v1+cell": {
     "cellMetadata": {},
     "inputWidgets": {},
     "nuid": "1b7a730f-73fd-4d58-94d3-b15e32d648f4",
     "showTitle": false,
     "tableResultSettingsMap": {},
     "title": ""
    }
   },
   "source": [
    "2- Leitura dos arquivos .parquet (bank e costumer) tratados nas partes 1 e 2"
   ]
  },
  {
   "cell_type": "code",
   "execution_count": 0,
   "metadata": {
    "application/vnd.databricks.v1+cell": {
     "cellMetadata": {
      "byteLimit": 2048000,
      "rowLimit": 10000
     },
     "inputWidgets": {},
     "nuid": "db4fd479-274a-4dba-820d-ac2fd3824d5a",
     "showTitle": false,
     "tableResultSettingsMap": {},
     "title": ""
    }
   },
   "outputs": [],
   "source": [
    "file_path_bank = '/path/to/save/df_file_bank.parquet'\n",
    "\n",
    "read_parquet_bank = spark.read.parquet(file_path_bank)"
   ]
  },
  {
   "cell_type": "code",
   "execution_count": 0,
   "metadata": {
    "application/vnd.databricks.v1+cell": {
     "cellMetadata": {
      "byteLimit": 2048000,
      "rowLimit": 10000
     },
     "inputWidgets": {},
     "nuid": "80d5c8d1-54ab-4261-9042-a06924d423d3",
     "showTitle": false,
     "tableResultSettingsMap": {},
     "title": ""
    }
   },
   "outputs": [],
   "source": [
    "file_path_costumer = '/path/to/save/df_file_costumer.parquet'\n",
    "\n",
    "read_parquet_costumer = spark.read.parquet(file_path_costumer)\n"
   ]
  },
  {
   "cell_type": "markdown",
   "metadata": {
    "application/vnd.databricks.v1+cell": {
     "cellMetadata": {},
     "inputWidgets": {},
     "nuid": "bc3d08b5-f474-4da9-b210-76a99887e541",
     "showTitle": false,
     "tableResultSettingsMap": {},
     "title": ""
    }
   },
   "source": [
    "3- Realizar o join dos arquivos .parquet"
   ]
  },
  {
   "cell_type": "code",
   "execution_count": 0,
   "metadata": {
    "application/vnd.databricks.v1+cell": {
     "cellMetadata": {
      "byteLimit": 2048000,
      "rowLimit": 10000
     },
     "inputWidgets": {},
     "nuid": "1ae29b92-a67a-4ac7-8638-4ca2d39f65f3",
     "showTitle": false,
     "tableResultSettingsMap": {},
     "title": ""
    }
   },
   "outputs": [
    {
     "data": {
      "text/html": [
       "<style scoped>\n",
       "  .table-result-container {\n",
       "    max-height: 300px;\n",
       "    overflow: auto;\n",
       "  }\n",
       "  table, th, td {\n",
       "    border: 1px solid black;\n",
       "    border-collapse: collapse;\n",
       "  }\n",
       "  th, td {\n",
       "    padding: 5px;\n",
       "  }\n",
       "  th {\n",
       "    text-align: left;\n",
       "  }\n",
       "</style><div class='table-result-container'><table class='table-result'><thead style='background-color: white'><tr><th>Número da Conta</th><th>Tipo de Conta</th><th>Saldo</th><th>Moeda</th><th>Data da Última Movimentação</th><th>Número da Conta</th><th>Nome do Cliente</th><th>Email</th><th>Logradouro</th><th>Número Logradouro</th><th>DDD</th><th>Número Telefone</th></tr></thead><tbody><tr><td>1</td><td>Corrente</td><td>8649.73</td><td>BRL</td><td>2024-11-27</td><td>1</td><td>Fernanda Lima</td><td>cliente1@exemplo.com</td><td>Rua da Consolação</td><td>2223</td><td>11</td><td>986235795</td></tr><tr><td>2</td><td>Corrente</td><td>4307.05</td><td>BRL</td><td>2024-06-10</td><td>2</td><td>Juliana Costa</td><td>cliente2@exemplo.com</td><td>Rua Augusta</td><td>1011</td><td>11</td><td>989591767</td></tr><tr><td>3</td><td>Corrente</td><td>8321.04</td><td>BRL</td><td>2024-05-04</td><td>3</td><td>Pedro Santos</td><td>cliente3@exemplo.com</td><td>Rua da Consolação</td><td>2223</td><td>11</td><td>939472587</td></tr><tr><td>4</td><td>Corrente</td><td>1474.27</td><td>BRL</td><td>2024-08-18</td><td>4</td><td>Fernanda Lima</td><td>cliente4@exemplo.com</td><td>Rua Augusta</td><td>1011</td><td>11</td><td>993453815</td></tr><tr><td>5</td><td>Corrente</td><td>4028.64</td><td>BRL</td><td>2024-08-08</td><td>5</td><td>Lucas Fernandes</td><td>cliente5@exemplo.com</td><td>Rua da Consolação</td><td>2223</td><td>11</td><td>964492610</td></tr><tr><td>6</td><td>Poupança</td><td>4964.52</td><td>BRL</td><td>2025-02-05</td><td>6</td><td>Carlos Pereira</td><td>cliente6@exemplo.com</td><td>Rua XV de Novembro</td><td>1415</td><td>11</td><td>949146650</td></tr><tr><td>7</td><td>Poupança</td><td>733.73</td><td>BRL</td><td>2024-06-13</td><td>7</td><td>Juliana Costa</td><td>cliente7@exemplo.com</td><td>Avenida Paulista</td><td>456</td><td>11</td><td>935213943</td></tr><tr><td>8</td><td>Corrente</td><td>8903.7</td><td>BRL</td><td>2024-06-28</td><td>8</td><td>Carlos Pereira</td><td>cliente8@exemplo.com</td><td>Avenida Paulista</td><td>456</td><td>11</td><td>919848352</td></tr><tr><td>9</td><td>Poupança</td><td>655.1</td><td>BRL</td><td>2024-09-02</td><td>9</td><td>Ana Souza</td><td>cliente9@exemplo.com</td><td>Avenida Atlântica</td><td>1617</td><td>11</td><td>952406030</td></tr><tr><td>10</td><td>Corrente</td><td>9430.55</td><td>BRL</td><td>2024-08-03</td><td>10</td><td>João Silva</td><td>cliente10@exemplo.com</td><td>Avenida Brasil</td><td>1213</td><td>11</td><td>915694953</td></tr></tbody></table></div>"
      ]
     },
     "metadata": {
      "application/vnd.databricks.v1+output": {
       "addedWidgets": {},
       "aggData": [],
       "aggError": "",
       "aggOverflow": false,
       "aggSchema": [],
       "aggSeriesLimitReached": false,
       "aggType": "",
       "arguments": {},
       "columnCustomDisplayInfos": {},
       "data": [
        [
         1,
         "Corrente",
         8649.73,
         "BRL",
         "2024-11-27",
         1,
         "Fernanda Lima",
         "cliente1@exemplo.com",
         "Rua da Consolação",
         2223,
         11,
         986235795
        ],
        [
         2,
         "Corrente",
         4307.05,
         "BRL",
         "2024-06-10",
         2,
         "Juliana Costa",
         "cliente2@exemplo.com",
         "Rua Augusta",
         1011,
         11,
         989591767
        ],
        [
         3,
         "Corrente",
         8321.04,
         "BRL",
         "2024-05-04",
         3,
         "Pedro Santos",
         "cliente3@exemplo.com",
         "Rua da Consolação",
         2223,
         11,
         939472587
        ],
        [
         4,
         "Corrente",
         1474.27,
         "BRL",
         "2024-08-18",
         4,
         "Fernanda Lima",
         "cliente4@exemplo.com",
         "Rua Augusta",
         1011,
         11,
         993453815
        ],
        [
         5,
         "Corrente",
         4028.64,
         "BRL",
         "2024-08-08",
         5,
         "Lucas Fernandes",
         "cliente5@exemplo.com",
         "Rua da Consolação",
         2223,
         11,
         964492610
        ],
        [
         6,
         "Poupança",
         4964.52,
         "BRL",
         "2025-02-05",
         6,
         "Carlos Pereira",
         "cliente6@exemplo.com",
         "Rua XV de Novembro",
         1415,
         11,
         949146650
        ],
        [
         7,
         "Poupança",
         733.73,
         "BRL",
         "2024-06-13",
         7,
         "Juliana Costa",
         "cliente7@exemplo.com",
         "Avenida Paulista",
         456,
         11,
         935213943
        ],
        [
         8,
         "Corrente",
         8903.7,
         "BRL",
         "2024-06-28",
         8,
         "Carlos Pereira",
         "cliente8@exemplo.com",
         "Avenida Paulista",
         456,
         11,
         919848352
        ],
        [
         9,
         "Poupança",
         655.1,
         "BRL",
         "2024-09-02",
         9,
         "Ana Souza",
         "cliente9@exemplo.com",
         "Avenida Atlântica",
         1617,
         11,
         952406030
        ],
        [
         10,
         "Corrente",
         9430.55,
         "BRL",
         "2024-08-03",
         10,
         "João Silva",
         "cliente10@exemplo.com",
         "Avenida Brasil",
         1213,
         11,
         915694953
        ]
       ],
       "datasetInfos": [],
       "dbfsResultPath": null,
       "isJsonSchema": true,
       "metadata": {},
       "overflow": false,
       "plotOptions": {
        "customPlotOptions": {},
        "displayType": "table",
        "pivotAggregation": null,
        "pivotColumns": null,
        "xColumns": null,
        "yColumns": null
       },
       "removedWidgets": [],
       "schema": [
        {
         "metadata": "{}",
         "name": "Número da Conta",
         "type": "\"integer\""
        },
        {
         "metadata": "{}",
         "name": "Tipo de Conta",
         "type": "\"string\""
        },
        {
         "metadata": "{}",
         "name": "Saldo",
         "type": "\"double\""
        },
        {
         "metadata": "{}",
         "name": "Moeda",
         "type": "\"string\""
        },
        {
         "metadata": "{\"__detected_date_formats\":\"d/M/yyyy\"}",
         "name": "Data da Última Movimentação",
         "type": "\"date\""
        },
        {
         "metadata": "{}",
         "name": "Número da Conta",
         "type": "\"integer\""
        },
        {
         "metadata": "{}",
         "name": "Nome do Cliente",
         "type": "\"string\""
        },
        {
         "metadata": "{}",
         "name": "Email",
         "type": "\"string\""
        },
        {
         "metadata": "{}",
         "name": "Logradouro",
         "type": "\"string\""
        },
        {
         "metadata": "{}",
         "name": "Número Logradouro",
         "type": "\"integer\""
        },
        {
         "metadata": "{}",
         "name": "DDD",
         "type": "\"integer\""
        },
        {
         "metadata": "{}",
         "name": "Número Telefone",
         "type": "\"integer\""
        }
       ],
       "type": "table"
      }
     },
     "output_type": "display_data"
    }
   ],
   "source": [
    "\n",
    "j_bank_costumer = read_parquet_bank.join(read_parquet_costumer \n",
    "                  ,read_parquet_bank['Número da Conta'] == read_parquet_costumer['Número da Conta']\n",
    "                  , 'inner')\n",
    "\n",
    "j_bank_costumer_limited = j_bank_costumer.limit(10)\n",
    "display(j_bank_costumer_limited)"
   ]
  },
  {
   "cell_type": "markdown",
   "metadata": {
    "application/vnd.databricks.v1+cell": {
     "cellMetadata": {},
     "inputWidgets": {},
     "nuid": "b4ac0081-92b1-4e36-8c47-88c88e7a2ac7",
     "showTitle": false,
     "tableResultSettingsMap": {},
     "title": ""
    }
   },
   "source": [
    "4- Filtros e agregações através do join (parquet bank e costumer)"
   ]
  },
  {
   "cell_type": "code",
   "execution_count": 0,
   "metadata": {
    "application/vnd.databricks.v1+cell": {
     "cellMetadata": {
      "byteLimit": 2048000,
      "rowLimit": 10000
     },
     "inputWidgets": {},
     "nuid": "1ad4e207-cc52-4335-9db4-161fd6d9781e",
     "showTitle": false,
     "tableResultSettingsMap": {},
     "title": ""
    }
   },
   "outputs": [
    {
     "data": {
      "text/html": [
       "<style scoped>\n",
       "  .table-result-container {\n",
       "    max-height: 300px;\n",
       "    overflow: auto;\n",
       "  }\n",
       "  table, th, td {\n",
       "    border: 1px solid black;\n",
       "    border-collapse: collapse;\n",
       "  }\n",
       "  th, td {\n",
       "    padding: 5px;\n",
       "  }\n",
       "  th {\n",
       "    text-align: left;\n",
       "  }\n",
       "</style><div class='table-result-container'><table class='table-result'><thead style='background-color: white'><tr><th>Número da Conta</th><th>Tipo de Conta</th><th>Saldo</th><th>Moeda</th><th>Data da Última Movimentação</th><th>Número da Conta</th><th>Nome do Cliente</th><th>Email</th><th>Logradouro</th><th>Número Logradouro</th><th>DDD</th><th>Número Telefone</th></tr></thead><tbody><tr><td>18</td><td>Corrente</td><td>864.99</td><td>BRL</td><td>2024-05-10</td><td>18</td><td>João Silva</td><td>cliente18@exemplo.com</td><td>Avenida Atlântica</td><td>1617</td><td>11</td><td>967671371</td></tr><tr><td>596</td><td>Corrente</td><td>2040.28</td><td>BRL</td><td>2024-05-10</td><td>596</td><td>Carlos Pereira</td><td>cliente596@exemplo.com</td><td>Avenida Paulista</td><td>456</td><td>11</td><td>928704216</td></tr><tr><td>866</td><td>Poupança</td><td>3246.12</td><td>BRL</td><td>2024-05-10</td><td>866</td><td>Ana Souza</td><td>cliente866@exemplo.com</td><td>Rua da Consolação</td><td>2223</td><td>11</td><td>912285028</td></tr></tbody></table></div>"
      ]
     },
     "metadata": {
      "application/vnd.databricks.v1+output": {
       "addedWidgets": {},
       "aggData": [],
       "aggError": "",
       "aggOverflow": false,
       "aggSchema": [],
       "aggSeriesLimitReached": false,
       "aggType": "",
       "arguments": {},
       "columnCustomDisplayInfos": {},
       "data": [
        [
         18,
         "Corrente",
         864.99,
         "BRL",
         "2024-05-10",
         18,
         "João Silva",
         "cliente18@exemplo.com",
         "Avenida Atlântica",
         1617,
         11,
         967671371
        ],
        [
         596,
         "Corrente",
         2040.28,
         "BRL",
         "2024-05-10",
         596,
         "Carlos Pereira",
         "cliente596@exemplo.com",
         "Avenida Paulista",
         456,
         11,
         928704216
        ],
        [
         866,
         "Poupança",
         3246.12,
         "BRL",
         "2024-05-10",
         866,
         "Ana Souza",
         "cliente866@exemplo.com",
         "Rua da Consolação",
         2223,
         11,
         912285028
        ]
       ],
       "datasetInfos": [],
       "dbfsResultPath": null,
       "isJsonSchema": true,
       "metadata": {},
       "overflow": false,
       "plotOptions": {
        "customPlotOptions": {},
        "displayType": "table",
        "pivotAggregation": null,
        "pivotColumns": null,
        "xColumns": null,
        "yColumns": null
       },
       "removedWidgets": [],
       "schema": [
        {
         "metadata": "{}",
         "name": "Número da Conta",
         "type": "\"integer\""
        },
        {
         "metadata": "{}",
         "name": "Tipo de Conta",
         "type": "\"string\""
        },
        {
         "metadata": "{}",
         "name": "Saldo",
         "type": "\"double\""
        },
        {
         "metadata": "{}",
         "name": "Moeda",
         "type": "\"string\""
        },
        {
         "metadata": "{\"__detected_date_formats\":\"d/M/yyyy\"}",
         "name": "Data da Última Movimentação",
         "type": "\"date\""
        },
        {
         "metadata": "{}",
         "name": "Número da Conta",
         "type": "\"integer\""
        },
        {
         "metadata": "{}",
         "name": "Nome do Cliente",
         "type": "\"string\""
        },
        {
         "metadata": "{}",
         "name": "Email",
         "type": "\"string\""
        },
        {
         "metadata": "{}",
         "name": "Logradouro",
         "type": "\"string\""
        },
        {
         "metadata": "{}",
         "name": "Número Logradouro",
         "type": "\"integer\""
        },
        {
         "metadata": "{}",
         "name": "DDD",
         "type": "\"integer\""
        },
        {
         "metadata": "{}",
         "name": "Número Telefone",
         "type": "\"integer\""
        }
       ],
       "type": "table"
      }
     },
     "output_type": "display_data"
    }
   ],
   "source": [
    "# Filtrar clientes que a última data de movimentação = 2024-05-10\n",
    "filtrar_data = j_bank_costumer.filter(F.col('Data da Última Movimentação') == \"2024-05-10\")\n",
    "display(filtrar_data)"
   ]
  },
  {
   "cell_type": "code",
   "execution_count": 0,
   "metadata": {
    "application/vnd.databricks.v1+cell": {
     "cellMetadata": {
      "byteLimit": 2048000,
      "rowLimit": 10000
     },
     "inputWidgets": {},
     "nuid": "5960f9f9-9f4d-42ec-a315-903ff2505191",
     "showTitle": false,
     "tableResultSettingsMap": {},
     "title": ""
    }
   },
   "outputs": [
    {
     "data": {
      "text/html": [
       "<style scoped>\n",
       "  .table-result-container {\n",
       "    max-height: 300px;\n",
       "    overflow: auto;\n",
       "  }\n",
       "  table, th, td {\n",
       "    border: 1px solid black;\n",
       "    border-collapse: collapse;\n",
       "  }\n",
       "  th, td {\n",
       "    padding: 5px;\n",
       "  }\n",
       "  th {\n",
       "    text-align: left;\n",
       "  }\n",
       "</style><div class='table-result-container'><table class='table-result'><thead style='background-color: white'><tr><th>DDD</th><th>Tipo de Conta</th><th>Total</th></tr></thead><tbody><tr><td>11</td><td>Corrente</td><td>2676887.22</td></tr><tr><td>11</td><td>Poupança</td><td>2484726.01</td></tr></tbody></table></div>"
      ]
     },
     "metadata": {
      "application/vnd.databricks.v1+output": {
       "addedWidgets": {},
       "aggData": [],
       "aggError": "",
       "aggOverflow": false,
       "aggSchema": [],
       "aggSeriesLimitReached": false,
       "aggType": "",
       "arguments": {},
       "columnCustomDisplayInfos": {},
       "data": [
        [
         11,
         "Corrente",
         2676887.22
        ],
        [
         11,
         "Poupança",
         2484726.01
        ]
       ],
       "datasetInfos": [],
       "dbfsResultPath": null,
       "isJsonSchema": true,
       "metadata": {},
       "overflow": false,
       "plotOptions": {
        "customPlotOptions": {},
        "displayType": "table",
        "pivotAggregation": null,
        "pivotColumns": null,
        "xColumns": null,
        "yColumns": null
       },
       "removedWidgets": [],
       "schema": [
        {
         "metadata": "{}",
         "name": "DDD",
         "type": "\"integer\""
        },
        {
         "metadata": "{}",
         "name": "Tipo de Conta",
         "type": "\"string\""
        },
        {
         "metadata": "{}",
         "name": "Total",
         "type": "\"double\""
        }
       ],
       "type": "table"
      }
     },
     "output_type": "display_data"
    }
   ],
   "source": [
    "# Agregação por Tipo de Conta\n",
    "agregacao_tipo_conta = j_bank_costumer.groupBy(F.col('DDD'),('Tipo de Conta')).agg(F.round(F.sum(F.col('Saldo')),2).alias('Total'))\n",
    "display(agregacao_tipo_conta)"
   ]
  }
 ],
 "metadata": {
  "application/vnd.databricks.v1+notebook": {
   "computePreferences": null,
   "dashboards": [],
   "environmentMetadata": {
    "base_environment": "",
    "environment_version": "1"
   },
   "inputWidgetPreferences": null,
   "language": "python",
   "notebookMetadata": {
    "pythonIndentUnit": 4
   },
   "notebookName": "pt3-ingestao_dados_parquet-bc",
   "widgets": {}
  },
  "language_info": {
   "name": "python"
  }
 },
 "nbformat": 4,
 "nbformat_minor": 0
}
